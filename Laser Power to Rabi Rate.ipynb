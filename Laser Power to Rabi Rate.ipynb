{
 "cells": [
  {
   "cell_type": "code",
   "execution_count": 69,
   "metadata": {},
   "outputs": [],
   "source": [
    "import numpy as np\n",
    "import astropy.units as units\n",
    "import matplotlib.pyplot as plt\n",
    "import astropy.constants as csts\n",
    "import scipy.constants as constants"
   ]
  },
  {
   "cell_type": "markdown",
   "metadata": {},
   "source": [
    "The Rabi rate is given by  \n",
    "$\\Omega = \\frac{\\vec{d}\\cdot \\vec{E}_0}{\\hbar}$,  \n",
    "where $\\vec{d}$ is the transition dipole moment and $\\vec{E}_0$ is the vector electric field amplitude, including polarization.\n",
    "\n",
    "The time averaged energy density of an electromagnetic wave is given by:  \n",
    "$\\langle U \\rangle = \\frac{n^2\\epsilon_0}{2}|E|^2$.\n",
    "\n",
    "The intensity is then given by:  \n",
    "$I_{avg} = \\frac{c\\epsilon_0 E_0^2}{2}$,  \n",
    "and the power by:  \n",
    "$P = |I| A_{laser}$"
   ]
  },
  {
   "cell_type": "code",
   "execution_count": 11,
   "metadata": {},
   "outputs": [],
   "source": [
    "@units.quantity_input\n",
    "def calc_D_eff(Gamma: units.Hz, frequency: units.Hz):\n",
    "    c = csts.c\n",
    "    e0 = csts.eps0\n",
    "    hbar = csts.hbar\n",
    "    return np.sqrt( (Gamma) * 3*np.pi * e0 *hbar * c**3 / (2*np.pi * frequency)**3 ).decompose()"
   ]
  },
  {
   "cell_type": "code",
   "execution_count": 12,
   "metadata": {},
   "outputs": [
    {
     "data": {
      "text/latex": [
       "$2.6675506 \\times 10^{-30} \\; \\mathrm{A\\,m\\,s}$"
      ],
      "text/plain": [
       "<Quantity 2.66755059e-30 A m s>"
      ]
     },
     "execution_count": 12,
     "metadata": {},
     "output_type": "execute_result"
    }
   ],
   "source": [
    "# Calculate effective dipole moment for the optical transitions\n",
    "Gamma = units.Hz/100e-9 #Natural linewidth in 2*pi*Hz\n",
    "f = units.Hz * csts.c.value/271.7e-9\n",
    "D_eff = calc_D_eff(Gamma, f)\n",
    "D_eff"
   ]
  },
  {
   "cell_type": "code",
   "execution_count": 88,
   "metadata": {},
   "outputs": [],
   "source": [
    "@units.quantity_input\n",
    "def calculate_power_needed(Omega: units.Hz, ME, σx: units.m, σy: units.m, D_TlF: units.A*units.s*units.m):\n",
    "    \"\"\"\n",
    "    Function to calculate the power required to get peak Rabi rate Omega\n",
    "    for a transition with given matrix element with a gaussian spatial profile\n",
    "    \"\"\"\n",
    "    c = csts.c\n",
    "    epsilon_0 = csts.eps0\n",
    "    \n",
    "    #Calculate the electric field required\n",
    "    E =  Omega*csts.hbar/(ME*D_TlF)\n",
    "\n",
    "    #Convert E to peak intensity\n",
    "    I = 1/2 * c * epsilon_0 * E**2\n",
    "\n",
    "    #Convert power to amplitude of the Gaussian\n",
    "    P = I * (2*np.pi *σx*σy)\n",
    "\n",
    "    return P.to(units.W)"
   ]
  },
  {
   "cell_type": "code",
   "execution_count": 89,
   "metadata": {},
   "outputs": [
    {
     "data": {
      "text/latex": [
       "$18.129152 \\; \\mathrm{mW}$"
      ],
      "text/plain": [
       "<Quantity 18.1291519 mW>"
      ]
     },
     "execution_count": 89,
     "metadata": {},
     "output_type": "execute_result"
    }
   ],
   "source": [
    "σx = 2642*1e-6/4 * units.m # σ width of the laser.\n",
    "σy = 5265*1e-6/4 * units.m # σ height of the laser\n",
    "\n",
    "# ME_main is the coupling element from the main ground state to the main excited state\n",
    "ME_main = -0.39444661441301954+0j\n",
    "calculate_power_needed(4*Gamma*ME_main.real, ME_main.real, σx, σy, D_eff).to(units.mW)"
   ]
  },
  {
   "cell_type": "code",
   "execution_count": 55,
   "metadata": {},
   "outputs": [
    {
     "data": {
      "text/latex": [
       "$28.3268 \\; \\mathrm{mW}$"
      ],
      "text/plain": [
       "<Quantity 28.32679985 mW>"
      ]
     },
     "execution_count": 55,
     "metadata": {},
     "output_type": "execute_result"
    }
   ],
   "source": [
    "calculate_power_needed(5*Gamma*ME_main.real, ME_main.real, σx, σy, D_eff).to(units.mW)"
   ]
  },
  {
   "cell_type": "code",
   "execution_count": 56,
   "metadata": {},
   "outputs": [
    {
     "data": {
      "text/latex": [
       "$40.790592 \\; \\mathrm{mW}$"
      ],
      "text/plain": [
       "<Quantity 40.79059178 mW>"
      ]
     },
     "execution_count": 56,
     "metadata": {},
     "output_type": "execute_result"
    }
   ],
   "source": [
    "calculate_power_needed(6*Gamma*ME_main.real, ME_main.real, σx, σy, D_eff).to(units.mW)"
   ]
  },
  {
   "cell_type": "code",
   "execution_count": 57,
   "metadata": {},
   "outputs": [
    {
     "data": {
      "text/latex": [
       "$47.872292 \\; \\mathrm{mW}$"
      ],
      "text/plain": [
       "<Quantity 47.87229174 mW>"
      ]
     },
     "execution_count": 57,
     "metadata": {},
     "output_type": "execute_result"
    }
   ],
   "source": [
    "calculate_power_needed(6.5*Gamma*ME_main.real, ME_main.real, σx, σy, D_eff).to(units.mW)"
   ]
  },
  {
   "cell_type": "markdown",
   "metadata": {},
   "source": [
    "$\\Omega$ seems to be rather large for our power. Must be an error somewhere, but haven't been able to find it yet."
   ]
  },
  {
   "cell_type": "code",
   "execution_count": 61,
   "metadata": {},
   "outputs": [],
   "source": [
    "@units.quantity_input\n",
    "def sigma_to_fwhm(σ: units.m):\n",
    "    return 2*np.sqrt(2*np.log(2))*σ"
   ]
  },
  {
   "cell_type": "code",
   "execution_count": 62,
   "metadata": {},
   "outputs": [
    {
     "data": {
      "text/latex": [
       "$0.0015553586 \\; \\mathrm{m}$"
      ],
      "text/plain": [
       "<Quantity 0.00155536 m>"
      ]
     },
     "execution_count": 62,
     "metadata": {},
     "output_type": "execute_result"
    }
   ],
   "source": [
    "sigma_to_fwhm(σx)"
   ]
  },
  {
   "cell_type": "markdown",
   "metadata": {},
   "source": [
    "### Verifying 2D Gaussian Integral"
   ]
  },
  {
   "cell_type": "code",
   "execution_count": 63,
   "metadata": {},
   "outputs": [],
   "source": [
    "def gaussian_2d(y,z,μy,μz,σy,σz):\n",
    "    a = (y-μy)**2/(2*σy**2)\n",
    "    b = (z-μz)**2/(2*σz**2)\n",
    "    return np.exp(-(a+b))"
   ]
  },
  {
   "cell_type": "code",
   "execution_count": 71,
   "metadata": {},
   "outputs": [
    {
     "data": {
      "text/plain": [
       "<matplotlib.image.AxesImage at 0x1cf412eff48>"
      ]
     },
     "execution_count": 71,
     "metadata": {},
     "output_type": "execute_result"
    },
    {
     "data": {
      "image/png": "[encoded data removed]",
      "text/plain": [
       "<Figure size 432x288 with 1 Axes>"
      ]
     },
     "metadata": {
      "needs_background": "light"
     },
     "output_type": "display_data"
    }
   ],
   "source": [
    "xi,yi = np.linspace(-5,5,1001)*σx, np.linspace(-5,5,1001)*σy\n",
    "X,Y = np.meshgrid(xi,yi)\n",
    "vals = gaussian_2d(X,Y,0,0,σx, σy)\n",
    "plt.imshow(vals)"
   ]
  },
  {
   "cell_type": "code",
   "execution_count": 77,
   "metadata": {},
   "outputs": [
    {
     "data": {
      "text/latex": [
       "$5.4624892 \\times 10^{-6} \\; \\mathrm{m^{2}}$"
      ],
      "text/plain": [
       "<Quantity 5.46248918e-06 m2>"
      ]
     },
     "execution_count": 77,
     "metadata": {},
     "output_type": "execute_result"
    }
   ],
   "source": [
    "# numeric integral to verify\n",
    "vals.sum()*np.diff(xi)[0]*np.diff(yi)[0]"
   ]
  },
  {
   "cell_type": "code",
   "execution_count": 79,
   "metadata": {},
   "outputs": [
    {
     "data": {
      "text/latex": [
       "$5.4624953 \\times 10^{-6} \\; \\mathrm{m^{2}}$"
      ],
      "text/plain": [
       "<Quantity 5.46249528e-06 m2>"
      ]
     },
     "execution_count": 79,
     "metadata": {},
     "output_type": "execute_result"
    }
   ],
   "source": [
    "# analytic integral\n",
    "2*np.pi*σx*σy"
   ]
  },
  {
   "cell_type": "code",
   "execution_count": null,
   "metadata": {},
   "outputs": [],
   "source": []
  }
 ],
 "metadata": {
  "kernelspec": {
   "display_name": "Python 3",
   "language": "python",
   "name": "python3"
  },
  "language_info": {
   "codemirror_mode": {
    "name": "ipython",
    "version": 3
   },
   "file_extension": ".py",
   "mimetype": "text/x-python",
   "name": "python",
   "nbconvert_exporter": "python",
   "pygments_lexer": "ipython3",
   "version": "3.7.7"
  }
 },
 "nbformat": 4,
 "nbformat_minor": 4
}
