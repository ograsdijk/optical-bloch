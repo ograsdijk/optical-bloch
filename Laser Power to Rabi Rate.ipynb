{
 "cells": [
  {
   "cell_type": "code",
   "execution_count": 1,
   "metadata": {},
   "outputs": [],
   "source": [
    "import numpy as np\n",
    "import astropy.units as units\n",
    "import matplotlib.pyplot as plt\n",
    "import astropy.constants as csts\n",
    "import scipy.constants as constants"
   ]
  },
  {
   "cell_type": "markdown",
   "metadata": {},
   "source": [
    "The Rabi rate is given by  \n",
    "$\\Omega = \\frac{\\vec{d}\\cdot \\vec{E}_0}{\\hbar}$,  \n",
    "where $\\vec{d}$ is the transition dipole moment and $\\vec{E}_0$ is the vector electric field amplitude, including polarization.\n",
    "\n",
    "The time averaged energy density of an electromagnetic wave is given by:  \n",
    "$\\langle U \\rangle = \\frac{n^2\\epsilon_0}{2}|E|^2$.\n",
    "\n",
    "The intensity is then given by:  \n",
    "$I_{avg} = \\frac{c\\epsilon_0 E_0^2}{2}$,  \n",
    "and the power by:  \n",
    "$P = |I| A_{laser}$"
   ]
  },
  {
   "cell_type": "code",
   "execution_count": 91,
   "metadata": {},
   "outputs": [],
   "source": [
    "@units.quantity_input\n",
    "def calc_D_eff(Gamma: units.Hz, frequency: units.Hz):\n",
    "    c = csts.c\n",
    "    e0 = csts.eps0\n",
    "    hbar = csts.hbar\n",
    "    return np.sqrt( (Gamma) * 3*np.pi * e0 *hbar * c**3 / (2*np.pi * frequency)**3 ).decompose()"
   ]
  },
  {
   "cell_type": "code",
   "execution_count": 92,
   "metadata": {},
   "outputs": [
    {
     "data": {
      "text/latex": [
       "$2.6675506 \\times 10^{-30} \\; \\mathrm{A\\,m\\,s}$"
      ],
      "text/plain": [
       "<Quantity 2.66755059e-30 A m s>"
      ]
     },
     "execution_count": 92,
     "metadata": {},
     "output_type": "execute_result"
    }
   ],
   "source": [
    "# Calculate effective dipole moment for the optical transitions\n",
    "Gamma = units.Hz/100e-9 #Natural linewidth in 2*pi*Hz\n",
    "f = units.Hz * csts.c.value/271.7e-9\n",
    "D_eff = calc_D_eff(Gamma, f)\n",
    "D_eff"
   ]
  },
  {
   "cell_type": "code",
   "execution_count": 4,
   "metadata": {},
   "outputs": [],
   "source": [
    "@units.quantity_input\n",
    "def calculate_power_needed(Omega: units.Hz, ME, σx: units.m, σy: units.m, D_TlF: units.A*units.s*units.m):\n",
    "    \"\"\"\n",
    "    Function to calculate the power required to get peak Rabi rate Omega\n",
    "    for a transition with given matrix element with a gaussian spatial profile\n",
    "    \"\"\"\n",
    "    c = csts.c\n",
    "    epsilon_0 = csts.eps0\n",
    "    \n",
    "    #Calculate the electric field required\n",
    "    E =  Omega*csts.hbar/(ME*D_TlF)\n",
    "\n",
    "    #Convert E to peak intensity\n",
    "    I = 1/2 * c * epsilon_0 * E**2\n",
    "\n",
    "    #Convert power to amplitude of the Gaussian\n",
    "    P = I * (2*np.pi *σx*σy)\n",
    "\n",
    "    return P.to(units.W)"
   ]
  },
  {
   "cell_type": "code",
   "execution_count": 221,
   "metadata": {},
   "outputs": [
    {
     "data": {
      "text/latex": [
       "$533.27344 \\; \\mathrm{\\frac{mW}{cm^{2}}}$"
      ],
      "text/plain": [
       "<Quantity 533.27344311 mW / cm2>"
      ]
     },
     "execution_count": 221,
     "metadata": {},
     "output_type": "execute_result"
    }
   ],
   "source": [
    "σx = 2642*1e-6/4 * units.m # σ width of the laser.\n",
    "σx = 0.8*units.mm\n",
    "σy = 1.5*2*5265*1e-6/4 * units.m # σ height of the laser\n",
    "\n",
    "# σx, σy = 1e-3 * units.m, 1e-3 * units.m\n",
    "\n",
    "# ME_main is the coupling element from the main ground state to the main excited state\n",
    "ME_main = -0.39444661441301954+0j\n",
    "calculate_power_needed(2*Gamma, ME_main.real, σx, σy, D_eff).to(units.mW)\n",
    "calculate_power_needed(2*Gamma, ME_main.real, σx, σy, D_eff).to(units.mW)/(2*np.pi*σx*σy).to(units.cm**2)"
   ]
  },
  {
   "cell_type": "code",
   "execution_count": 222,
   "metadata": {},
   "outputs": [
    {
     "data": {
      "text/latex": [
       "$41.786807 \\; \\mathrm{mW}$"
      ],
      "text/plain": [
       "<Quantity 41.78680702 mW>"
      ]
     },
     "execution_count": 222,
     "metadata": {},
     "output_type": "execute_result"
    }
   ],
   "source": [
    "calculate_power_needed(2*np.pi*2*units.MHz, ME_main.real, σx, σy, D_eff).to(units.mW)#/(2*np.pi*σx*σy).to(units.cm**2)"
   ]
  },
  {
   "cell_type": "code",
   "execution_count": 126,
   "metadata": {},
   "outputs": [
    {
     "data": {
      "text/latex": [
       "$0.0006605 \\; \\mathrm{m}$"
      ],
      "text/plain": [
       "<Quantity 0.0006605 m>"
      ]
     },
     "execution_count": 126,
     "metadata": {},
     "output_type": "execute_result"
    }
   ],
   "source": [
    "σx"
   ]
  },
  {
   "cell_type": "code",
   "execution_count": 128,
   "metadata": {},
   "outputs": [
    {
     "data": {
      "text/latex": [
       "$87.39011 \\; \\mathrm{mW}$"
      ],
      "text/plain": [
       "<Quantity 87.39010994 mW>"
      ]
     },
     "execution_count": 128,
     "metadata": {},
     "output_type": "execute_result"
    }
   ],
   "source": [
    "calculate_power_needed(2*Gamma, ME_main.real, σx, σy, D_eff).to(units.mW)"
   ]
  },
  {
   "cell_type": "code",
   "execution_count": 129,
   "metadata": {},
   "outputs": [
    {
     "data": {
      "text/latex": [
       "$122.37178 \\; \\mathrm{mW}$"
      ],
      "text/plain": [
       "<Quantity 122.37177534 mW>"
      ]
     },
     "execution_count": 129,
     "metadata": {},
     "output_type": "execute_result"
    }
   ],
   "source": [
    "calculate_power_needed(6*Gamma*ME_main.real, ME_main.real, σx, σy, D_eff).to(units.mW)"
   ]
  },
  {
   "cell_type": "code",
   "execution_count": 130,
   "metadata": {},
   "outputs": [
    {
     "data": {
      "text/latex": [
       "$143.61688 \\; \\mathrm{mW}$"
      ],
      "text/plain": [
       "<Quantity 143.61687523 mW>"
      ]
     },
     "execution_count": 130,
     "metadata": {},
     "output_type": "execute_result"
    }
   ],
   "source": [
    "calculate_power_needed(6.5*Gamma*ME_main.real, ME_main.real, σx, σy, D_eff).to(units.mW)"
   ]
  },
  {
   "cell_type": "markdown",
   "metadata": {},
   "source": [
    "$\\Omega$ seems to be rather large for our power. Must be an error somewhere, but haven't been able to find it yet."
   ]
  },
  {
   "cell_type": "code",
   "execution_count": 131,
   "metadata": {},
   "outputs": [],
   "source": [
    "@units.quantity_input\n",
    "def sigma_to_fwhm(σ: units.m):\n",
    "    return 2*np.sqrt(2*np.log(2))*σ"
   ]
  },
  {
   "cell_type": "code",
   "execution_count": 132,
   "metadata": {},
   "outputs": [
    {
     "data": {
      "text/latex": [
       "$0.0015553586 \\; \\mathrm{m}$"
      ],
      "text/plain": [
       "<Quantity 0.00155536 m>"
      ]
     },
     "execution_count": 132,
     "metadata": {},
     "output_type": "execute_result"
    }
   ],
   "source": [
    "sigma_to_fwhm(σx)"
   ]
  },
  {
   "cell_type": "markdown",
   "metadata": {},
   "source": [
    "### Verifying 2D Gaussian Integral"
   ]
  },
  {
   "cell_type": "code",
   "execution_count": 133,
   "metadata": {},
   "outputs": [],
   "source": [
    "def gaussian_2d(y,z,μy,μz,σy,σz):\n",
    "    a = (y-μy)**2/(2*σy**2)\n",
    "    b = (z-μz)**2/(2*σz**2)\n",
    "    return np.exp(-(a+b))"
   ]
  },
  {
   "cell_type": "code",
   "execution_count": 134,
   "metadata": {},
   "outputs": [
    {
     "data": {
      "text/plain": [
       "<matplotlib.image.AxesImage at 0x276dbf9dbb0>"
      ]
     },
     "execution_count": 134,
     "metadata": {},
     "output_type": "execute_result"
    },
    {
     "data": {
      "image/png": "[encoded data removed]",
      "text/plain": [
       "<Figure size 432x288 with 1 Axes>"
      ]
     },
     "metadata": {
      "needs_background": "light"
     },
     "output_type": "display_data"
    }
   ],
   "source": [
    "xi,yi = np.linspace(-5,5,1001)*σx, np.linspace(-5,5,1001)*σy\n",
    "X,Y = np.meshgrid(xi,yi)\n",
    "vals = gaussian_2d(X,Y,0,0,σx, σy)\n",
    "plt.imshow(vals)"
   ]
  },
  {
   "cell_type": "code",
   "execution_count": 135,
   "metadata": {},
   "outputs": [
    {
     "data": {
      "text/latex": [
       "$1.6387468 \\times 10^{-5} \\; \\mathrm{m^{2}}$"
      ],
      "text/plain": [
       "<Quantity 1.63874675e-05 m2>"
      ]
     },
     "execution_count": 135,
     "metadata": {},
     "output_type": "execute_result"
    }
   ],
   "source": [
    "# numeric integral to verify\n",
    "vals.sum()*np.diff(xi)[0]*np.diff(yi)[0]"
   ]
  },
  {
   "cell_type": "code",
   "execution_count": 136,
   "metadata": {},
   "outputs": [
    {
     "data": {
      "text/latex": [
       "$1.6387486 \\times 10^{-5} \\; \\mathrm{m^{2}}$"
      ],
      "text/plain": [
       "<Quantity 1.63874858e-05 m2>"
      ]
     },
     "execution_count": 136,
     "metadata": {},
     "output_type": "execute_result"
    }
   ],
   "source": [
    "# analytic integral\n",
    "2*np.pi*σx*σy"
   ]
  },
  {
   "cell_type": "code",
   "execution_count": 143,
   "metadata": {},
   "outputs": [
    {
     "name": "stderr",
     "output_type": "stream",
     "text": [
      "<ipython-input-143-13800d7fc14d>:4: MatplotlibDeprecationWarning: shading='flat' when X and Y have the same dimensions as C is deprecated since 3.3.  Either specify the corners of the quadrilaterals with X and Y, or pass shading='auto', 'nearest' or 'gouraud', or set rcParams['pcolor.shading'].  This will become an error two minor releases later.\n",
      "  plt.pcolormesh(X.value, Y.value, vals.value)\n"
     ]
    },
    {
     "data": {
      "text/latex": [
       "$79.988451 \\; \\mathrm{mW}$"
      ],
      "text/plain": [
       "<Quantity 79.98845101 mW>"
      ]
     },
     "execution_count": 143,
     "metadata": {},
     "output_type": "execute_result"
    },
    {
     "data": {
      "image/png": "[encoded data removed]",
      "text/plain": [
       "<Figure size 432x288 with 1 Axes>"
      ]
     },
     "metadata": {
      "needs_background": "light"
     },
     "output_type": "display_data"
    }
   ],
   "source": [
    "xi,yi = np.linspace(-10,10,2001)*1e-3*units.m, np.linspace(-15,15,2001)*1e-3*units.m\n",
    "X,Y = np.meshgrid(xi,yi)\n",
    "vals = gaussian_2d(X,Y,0,0,σx, σy)*80*units.mW/(2*np.pi*σx*σy)\n",
    "plt.pcolormesh(X.value, Y.value, vals.value)\n",
    "np.sum(vals)*np.diff(xi)[0]*np.diff(yi)[0]"
   ]
  },
  {
   "cell_type": "code",
   "execution_count": 147,
   "metadata": {},
   "outputs": [],
   "source": [
    "@units.quantity_input\n",
    "def calculate_rabi_rate(I: units.mW/units.cm**2, ME, D_TlF: units.A*units.s*units.m):\n",
    "    \"\"\"\n",
    "    Function to calculate the power required to get peak Rabi rate Omega\n",
    "    for a transition with given matrix element with a gaussian spatial profile\n",
    "    \"\"\"\n",
    "    c = csts.c\n",
    "    epsilon_0 = csts.eps0\n",
    "    \n",
    "    E = np.sqrt(I*2/(c*epsilon_0))\n",
    "    Omega = np.abs(E/(csts.hbar/(ME*D_TlF)))\n",
    "    \n",
    "    return Omega.to(units.MHz)"
   ]
  },
  {
   "cell_type": "markdown",
   "metadata": {},
   "source": [
    "### RC laser"
   ]
  },
  {
   "cell_type": "code",
   "execution_count": 223,
   "metadata": {},
   "outputs": [
    {
     "data": {
      "text/latex": [
       "$403.05145 \\; \\mathrm{\\frac{mW}{cm^{2}}}$"
      ],
      "text/plain": [
       "<Quantity 403.05145449 mW / cm2>"
      ]
     },
     "execution_count": 223,
     "metadata": {},
     "output_type": "execute_result"
    }
   ],
   "source": [
    "peak_intensity = (80*units.mW/(2*np.pi*σx*σy)).to(units.mW/units.cm**2)\n",
    "peak_intensity"
   ]
  },
  {
   "cell_type": "code",
   "execution_count": 224,
   "metadata": {},
   "outputs": [
    {
     "data": {
      "text/latex": [
       "$2.7672946 \\; \\mathrm{MHz}$"
      ],
      "text/plain": [
       "<Quantity 2.7672946 MHz>"
      ]
     },
     "execution_count": 224,
     "metadata": {},
     "output_type": "execute_result"
    }
   ],
   "source": [
    "calculate_rabi_rate(peak_intensity, ME_main, D_eff)/(2*np.pi)"
   ]
  },
  {
   "cell_type": "code",
   "execution_count": 225,
   "metadata": {},
   "outputs": [
    {
     "data": {
      "text/latex": [
       "$1.7387425 \\; \\mathrm{}$"
      ],
      "text/plain": [
       "<Quantity 1.73874248>"
      ]
     },
     "execution_count": 225,
     "metadata": {},
     "output_type": "execute_result"
    }
   ],
   "source": [
    "(calculate_rabi_rate(peak_intensity, ME_main, D_eff)/Gamma).decompose()"
   ]
  },
  {
   "cell_type": "markdown",
   "metadata": {},
   "source": [
    "### $\\mu_{1\\leftrightarrow2}$"
   ]
  },
  {
   "cell_type": "code",
   "execution_count": 183,
   "metadata": {},
   "outputs": [
    {
     "data": {
      "text/latex": [
       "$2.8637406 \\; \\mathrm{MHz}$"
      ],
      "text/plain": [
       "<Quantity 2.86374061 MHz>"
      ]
     },
     "execution_count": 183,
     "metadata": {},
     "output_type": "execute_result"
    }
   ],
   "source": [
    "μ_ME_main = 0.4934218597083703\n",
    "D_TlF = 4.2282 * 3.33564e-30 * units.C * units.m\n",
    "peak_intensity = 400*units.mW/(2*np.pi*(1.27*units.cm)**2)\n",
    "\n",
    "(np.sqrt(2*peak_intensity/(csts.eps0*csts.c))*D_TlF/2/csts.hbar).to(units.MHz)/(2*np.pi) * μ_ME_main"
   ]
  },
  {
   "cell_type": "markdown",
   "metadata": {},
   "source": [
    "### $\\mu_{2\\leftrightarrow3}$"
   ]
  },
  {
   "cell_type": "code",
   "execution_count": 185,
   "metadata": {},
   "outputs": [
    {
     "data": {
      "text/latex": [
       "$2.5453483 \\; \\mathrm{MHz}$"
      ],
      "text/plain": [
       "<Quantity 2.54534833 MHz>"
      ]
     },
     "execution_count": 185,
     "metadata": {},
     "output_type": "execute_result"
    }
   ],
   "source": [
    "D_TlF = 4.2282 * 3.33564e-30 * units.C * units.m\n",
    "peak_intensity = 316*units.mW/(2*np.pi*(1.27*units.cm)**2)\n",
    "\n",
    "(np.sqrt(2*peak_intensity/(csts.eps0*csts.c))*D_TlF/2/csts.hbar).to(units.MHz)/(2*np.pi) * μ_ME_main"
   ]
  },
  {
   "cell_type": "markdown",
   "metadata": {},
   "source": [
    "### Detection"
   ]
  },
  {
   "cell_type": "code",
   "execution_count": 190,
   "metadata": {},
   "outputs": [
    {
     "data": {
      "text/latex": [
       "$79.577472 \\; \\mathrm{\\frac{mW}{cm^{2}}}$"
      ],
      "text/plain": [
       "<Quantity 79.57747155 mW / cm2>"
      ]
     },
     "execution_count": 190,
     "metadata": {},
     "output_type": "execute_result"
    }
   ],
   "source": [
    "peak_intensity = (50*units.mW/(2*np.pi*2*units.mm * 0.5*units.cm)).to(units.mW/units.cm**2)\n",
    "peak_intensity"
   ]
  },
  {
   "cell_type": "code",
   "execution_count": 191,
   "metadata": {},
   "outputs": [
    {
     "data": {
      "text/latex": [
       "$1.229618 \\; \\mathrm{MHz}$"
      ],
      "text/plain": [
       "<Quantity 1.22961801 MHz>"
      ]
     },
     "execution_count": 191,
     "metadata": {},
     "output_type": "execute_result"
    }
   ],
   "source": [
    "calculate_rabi_rate(peak_intensity, ME_main, D_eff)/(2*np.pi)"
   ]
  },
  {
   "cell_type": "code",
   "execution_count": null,
   "metadata": {},
   "outputs": [],
   "source": []
  }
 ],
 "metadata": {
  "kernelspec": {
   "display_name": "Python 3",
   "language": "python",
   "name": "python3"
  },
  "language_info": {
   "codemirror_mode": {
    "name": "ipython",
    "version": 3
   },
   "file_extension": ".py",
   "mimetype": "text/x-python",
   "name": "python",
   "nbconvert_exporter": "python",
   "pygments_lexer": "ipython3",
   "version": "3.8.5"
  }
 },
 "nbformat": 4,
 "nbformat_minor": 4
}
