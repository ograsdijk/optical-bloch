{
 "cells": [
  {
   "cell_type": "code",
   "execution_count": 1,
   "metadata": {},
   "outputs": [],
   "source": [
    "import sys\n",
    "sys.path.append(\"..\")\n",
    "\n",
    "import time\n",
    "import pprint\n",
    "import numpy as np\n",
    "from tqdm import tqdm\n",
    "import multiprocessing\n",
    "from sympy import Symbol\n",
    "import matplotlib.pyplot as plt\n",
    "from utils.plot_utils import set_fontsize\n",
    "from optical_bloch.utils.general import flatten\n",
    "from optical_bloch import Hamiltonian, Dissipator, BlochEquations\n",
    "from multi_helper_funcs import multi_solve_ode, multi_solve_ode_integrate_excited"
   ]
  },
  {
   "cell_type": "code",
   "execution_count": 2,
   "metadata": {},
   "outputs": [],
   "source": [
    "E0 = Symbol(u'E0', real = True)\n",
    "E1 = Symbol(u'E1', real = True)\n",
    "Ee = Symbol(u'Ee', real = True)\n",
    "\n",
    "ωl = Symbol(u'ωl', real = True)\n",
    "Ωl = Symbol(u'Ωl', real = True)\n",
    "ωμ = Symbol(u'ωμ', real = True)\n",
    "Ωμ = Symbol(u'Ωμ', real = True)\n",
    "\n",
    "δl = Symbol(u'δl', real = True)\n",
    "δμ = Symbol(u'δμ', real = True)\n",
    "\n",
    "Pl = Symbol('Pl', real = True)\n",
    "Pμ = Symbol('Pμ', real = True)"
   ]
  },
  {
   "cell_type": "code",
   "execution_count": 3,
   "metadata": {},
   "outputs": [],
   "source": [
    "ham = Hamiltonian(3)\n",
    "ham.addEnergies([E0, E1, Ee])\n",
    "ham.addCoupling(1,2,Pl*Ωl, ωl)\n",
    "ham.addCoupling(0,1,Pμ*Ωμ, ωμ)\n",
    "ham.eqnTransform()\n",
    "ham.defineZero(Ee)\n",
    "ham.defineStateDetuning(1,2,δl)\n",
    "ham.defineStateDetuning(0,1,δμ)"
   ]
  },
  {
   "cell_type": "code",
   "execution_count": 4,
   "metadata": {},
   "outputs": [],
   "source": [
    "from sympy import nsimplify"
   ]
  },
  {
   "cell_type": "code",
   "execution_count": 5,
   "metadata": {},
   "outputs": [
    {
     "data": {
      "text/latex": [
       "$\\displaystyle \\left[\\begin{matrix}- δl - δμ & - \\frac{Pμ Ωμ}{2} & 0\\\\- \\frac{Pμ Ωμ}{2} & - δl & - \\frac{Pl Ωl}{2}\\\\0 & - \\frac{Pl Ωl}{2} & 0\\end{matrix}\\right]$"
      ],
      "text/plain": [
       "Matrix([\n",
       "[-δl - δμ, -Pμ*Ωμ/2,        0],\n",
       "[-Pμ*Ωμ/2,      -δl, -Pl*Ωl/2],\n",
       "[       0, -Pl*Ωl/2,        0]])"
      ]
     },
     "execution_count": 5,
     "metadata": {},
     "output_type": "execute_result"
    }
   ],
   "source": [
    "ham.transformed = nsimplify(ham.transformed)\n",
    "ham.transformed"
   ]
  },
  {
   "cell_type": "code",
   "execution_count": 96,
   "metadata": {},
   "outputs": [
    {
     "data": {
      "text/latex": [
       "$\\displaystyle \\left[\\begin{matrix}0 & 0 & - \\frac{Γ32 \\operatorname{ρ₀₂}{\\left(t \\right)}}{4}\\\\0 & \\frac{Γ32 \\operatorname{ρ₂₂}{\\left(t \\right)}}{2} & - \\frac{Γ32 \\operatorname{ρ₁₂}{\\left(t \\right)}}{4}\\\\- \\frac{Γ32 \\overline{\\operatorname{ρ₀₂}{\\left(t \\right)}}}{4} & - \\frac{Γ32 \\overline{\\operatorname{ρ₁₂}{\\left(t \\right)}}}{4} & - \\frac{Γ32 \\operatorname{ρ₂₂}{\\left(t \\right)}}{2}\\end{matrix}\\right]$"
      ],
      "text/plain": [
       "Matrix([\n",
       "[                       0,                        0, -Γ32*ρ₀₂(t)/4],\n",
       "[                       0,             Γ32*ρ₂₂(t)/2, -Γ32*ρ₁₂(t)/4],\n",
       "[-Γ32*conjugate(ρ₀₂(t))/4, -Γ32*conjugate(ρ₁₂(t))/4, -Γ32*ρ₂₂(t)/2]])"
      ]
     },
     "execution_count": 96,
     "metadata": {},
     "output_type": "execute_result"
    }
   ],
   "source": [
    "Γ32 = Symbol(u'Γ32', real = True)\n",
    "dis = Dissipator(3)\n",
    "dis.addDecay(2,1,Γ32/2)\n",
    "dis.dissipator"
   ]
  },
  {
   "cell_type": "code",
   "execution_count": 97,
   "metadata": {},
   "outputs": [],
   "source": [
    "bloch = BlochEquations(ham.levels, dis.density_matrix, ham.transformed, dis.dissipator)"
   ]
  },
  {
   "cell_type": "code",
   "execution_count": 98,
   "metadata": {},
   "outputs": [],
   "source": [
    "replacements = ((Pl, 1), (Pμ, 1), (δl, 0), (δμ, 0))\n",
    "steady_state = bloch.solveSteadyStateSymbolic(replacements)"
   ]
  },
  {
   "cell_type": "code",
   "execution_count": 100,
   "metadata": {},
   "outputs": [
    {
     "name": "stdout",
     "output_type": "stream",
     "text": [
      "ρ₂₂\n"
     ]
    },
    {
     "data": {
      "text/latex": [
       "$\\displaystyle \\frac{2.0 Ωl^{2}}{Γ32^{2} + 4.0 Ωl^{2} + 4.0 Ωμ^{2}}$"
      ],
      "text/plain": [
       "2.0*Ωl**2/(Γ32**2 + 4.0*Ωl**2 + 4.0*Ωμ**2)"
      ]
     },
     "execution_count": 100,
     "metadata": {},
     "output_type": "execute_result"
    }
   ],
   "source": [
    "idx = 0\n",
    "print(list(steady_state.keys())[idx])\n",
    "steady_state[list(steady_state.keys())[idx]]"
   ]
  },
  {
   "cell_type": "code",
   "execution_count": 40,
   "metadata": {},
   "outputs": [],
   "source": [
    "from julia import Main"
   ]
  },
  {
   "cell_type": "code",
   "execution_count": 41,
   "metadata": {},
   "outputs": [
    {
     "name": "stdout",
     "output_type": "stream",
     "text": [
      "[1]\n"
     ]
    }
   ],
   "source": [
    "nprocs = 1\n",
    "\n",
    "Main.eval(\"\"\"\n",
    "using Logging: global_logger\n",
    "using TerminalLoggers: TerminalLogger\n",
    "global_logger(TerminalLogger())\n",
    "\n",
    "using Distributed\n",
    "using BenchmarkTools\n",
    "\"\"\")\n",
    "\n",
    "if Main.eval(\"nprocs()\") < nprocs:\n",
    "    Main.eval(f\"addprocs({nprocs}-nprocs())\")\n",
    "\n",
    "if Main.eval(\"nprocs()\") > nprocs:\n",
    "    addprocs({nprocs})\n",
    "    procs = Main.eval(\"procs()\")\n",
    "    procs = procs[nprocs:]\n",
    "    Main.eval(f\"rmprocs({procs})\")\n",
    "\n",
    "Main.eval(\"\"\"\n",
    "@everywhere begin\n",
    "    using LinearAlgebra\n",
    "    using Trapz\n",
    "    using DifferentialEquations\n",
    "    include(\"../utils/general_ode_functions.jl\")\n",
    "end\n",
    "\"\"\")\n",
    "\n",
    "print(Main.eval(\"procs()\"))"
   ]
  },
  {
   "cell_type": "code",
   "execution_count": 42,
   "metadata": {},
   "outputs": [],
   "source": [
    "polarizations = 'Pl Pμ'.split(' ')"
   ]
  },
  {
   "cell_type": "code",
   "execution_count": 43,
   "metadata": {},
   "outputs": [],
   "source": [
    "from sympy import MutableDenseMatrix, conjugate, Function, Symbol\n",
    "\n",
    "t = Symbol('t', real = True)\n",
    "\n",
    "hamiltonian_symbols = ham.transformed.free_symbols\n",
    "dissipator_symbols = dis.dissipator.free_symbols\n",
    "dissipator_symbols = set([d for d in dissipator_symbols if str(d)[0] not in ['ρ', 't']])\n",
    "\n",
    "lx, ly = ham.transformed.shape\n",
    "Main.eval(f\"\"\"\n",
    "            @everywhere begin\n",
    "            H = zeros(Num, {lx}, {ly})\n",
    "            L = zeros(Num, {lx}, {ly})\n",
    "            @variables t ρ[1:{lx},1:{ly}](t)\n",
    "            @parameters icomplex\n",
    "            D = Differential(t)\n",
    "            tmp = 0\n",
    "            end\n",
    "            \"\"\");\n",
    "\n",
    "for s in list(hamiltonian_symbols) + list(dissipator_symbols):\n",
    "#     print(s, polarizations, str(s) in polarizations)\n",
    "    if str(s) not in polarizations:\n",
    "        Main.eval(f\"\"\"\n",
    "                    @everywhere @parameters {str(s)}\n",
    "                    tmp = 0\n",
    "                \"\"\");\n",
    "    else:\n",
    "        Main.eval(f\"@everywhere @variables {str(s)}(t)\")\n",
    "\n",
    "\n",
    "diss = MutableDenseMatrix(dis.dissipator.copy())\n",
    "\n",
    "for i in range(lx):\n",
    "    for j in range(i,ly):\n",
    "        tmp = Function(u'ρ{0}{1}'.format(chr(0x2080+i), \n",
    "                                         chr(0x2080+j)))\n",
    "        tmp1 = Function(u'ρ[{0},{1}]'.format(j+1, i+1))\n",
    "        diss = diss.subs(conjugate(tmp(t)), tmp1(t))\n",
    "            \n",
    "for i in range(lx):\n",
    "    for j in range(i,ly):\n",
    "        tmp = Function(u'ρ{0}{1}'.format(chr(0x2080+i), \n",
    "                                         chr(0x2080+j)))\n",
    "        tmp1 = Function(u'ρ[{0},{1}]'.format(i+1, j+1))\n",
    "        diss = diss.subs(tmp(t), tmp1(t))\n",
    "\n",
    "\n",
    "for idx in range(1,lx+1):\n",
    "    for idy in range(1,ly+1):\n",
    "        hval = str(ham.transformed[idx-1,idy-1])\n",
    "        dval = str(diss[idx-1, idy-1])\n",
    "        dval = dval.replace('(t)', '')\n",
    "        Main.eval(f\"\"\"\n",
    "                @everywhere begin\n",
    "                H[{idx},{idy}] = {hval}\n",
    "                L[{idx},{idy}] = {dval}\n",
    "                tmp = 0\n",
    "                end\n",
    "                \"\"\");"
   ]
  },
  {
   "cell_type": "code",
   "execution_count": 44,
   "metadata": {},
   "outputs": [],
   "source": [
    "Main.eval(\"\"\"\n",
    "@everywhere @parameters ωμp ωlp ϕl ϕμ\n",
    "tmp = 0\n",
    "\"\"\");"
   ]
  },
  {
   "cell_type": "code",
   "execution_count": 45,
   "metadata": {},
   "outputs": [],
   "source": [
    "ham_string = ','.join([str(h) for h in hamiltonian_symbols])\n",
    "diss_string = ','.join([str(d) for d in dissipator_symbols])\n",
    "\n",
    "Main.eval(f\"\"\"\n",
    "@everywhere begin\n",
    "    eq = -icomplex*Symbolics.scalarize(H*ρ-ρ*H) + L\n",
    "    eqns = [D(ρ[idx,idy]) ~ eq[idx,idy] for idx in 1:{lx} for idy in 1:{ly}];\n",
    "    append!(eqns, [Pl ~ 1])\n",
    "    append!(eqns, [Pμ ~ 1])\n",
    "    bloch = ODESystem(eqns)\n",
    "    tmp = 0\n",
    "end\n",
    "\"\"\");"
   ]
  },
  {
   "cell_type": "code",
   "execution_count": 46,
   "metadata": {},
   "outputs": [],
   "source": [
    "Main.eval(\"@everywhere bloch = structural_simplify(bloch)\");"
   ]
  },
  {
   "cell_type": "code",
   "execution_count": 47,
   "metadata": {},
   "outputs": [],
   "source": [
    "y0 = np.zeros([ham.levels, ham.levels], dtype = complex)\n",
    "for _ in range(1,2):\n",
    "    y0[_,_] = 1\n",
    "Main.ρ_ini = y0\n",
    "Main.eval(\"@everywhere ρ_ini = $ρ_ini\")"
   ]
  },
  {
   "cell_type": "code",
   "execution_count": 65,
   "metadata": {},
   "outputs": [],
   "source": [
    "Main.eval(\"\"\"\n",
    "    @everywhere begin\n",
    "    p = [\n",
    "    Ωl => 1,\n",
    "    Ωμ => 1,\n",
    "    δμ => 0,\n",
    "    δl => 0,\n",
    "    Γ32 => 1,\n",
    "    ωμp => 1,\n",
    "    ωlp => 1,\n",
    "    ϕl => 0,\n",
    "    ϕμ => 0,\n",
    "    icomplex => im\n",
    "    ]\n",
    "    dim = size(ρ_ini)[1]\n",
    "    u0 = [ρ[idx,idy] => ρ_ini[idx,idy] for idx in 1:dim for idy in 1:dim]\n",
    "    tmp =0;\n",
    "end\n",
    "\"\"\");"
   ]
  },
  {
   "cell_type": "code",
   "execution_count": 66,
   "metadata": {},
   "outputs": [],
   "source": [
    "Main.eval(\"\"\"\n",
    "@everywhere begin\n",
    "    tspan = (0.0, 300.)\n",
    "    prob = ODEProblem(bloch, u0, tspan, p, jac = true)\n",
    "end\n",
    "\"\"\");"
   ]
  },
  {
   "cell_type": "code",
   "execution_count": 67,
   "metadata": {},
   "outputs": [],
   "source": [
    "Main.eval(\"@time sol = solve(prob, Tsit5(), abstol = 1e-9, reltol = 1e-6, progress = false)\");"
   ]
  },
  {
   "cell_type": "code",
   "execution_count": 68,
   "metadata": {},
   "outputs": [],
   "source": [
    "ut = np.array(Main.eval(\"sol[:]\"))\n",
    "dim = int(np.sqrt(ut.shape[1]))\n",
    "pop_results = np.real(np.einsum('jji->ji',ut.reshape(-1,dim, dim).T))\n",
    "t_array = Main.eval(\"sol.t\") "
   ]
  },
  {
   "cell_type": "code",
   "execution_count": 69,
   "metadata": {},
   "outputs": [
    {
     "data": {
      "text/plain": [
       "54.247686702204106"
      ]
     },
     "execution_count": 69,
     "metadata": {},
     "output_type": "execute_result"
    },
    {
     "data": {
      "image/png": "[encoded data removed]",
      "text/plain": [
       "<Figure size 576x360 with 1 Axes>"
      ]
     },
     "metadata": {
      "needs_background": "light"
     },
     "output_type": "display_data"
    }
   ],
   "source": [
    "fig, ax = plt.subplots(figsize = (8,5))\n",
    "\n",
    "for idx, pop in enumerate(pop_results):\n",
    "    ax.plot(t_array, pop, lw = 2, label = f\"ρ$_{{{idx},{idx}}}$\")\n",
    "\n",
    "ax.set_xlabel('time')\n",
    "ax.set_ylabel('population')\n",
    "ax.legend(fontsize = 14)\n",
    "set_fontsize(ax, 14)\n",
    "\n",
    "np.trapz(np.sum(pop_results[[-1]].real, axis = 0), t_array)"
   ]
  },
  {
   "cell_type": "code",
   "execution_count": 58,
   "metadata": {},
   "outputs": [
    {
     "data": {
      "text/plain": [
       "<PyCall.jlwrap Lindblad_rhs!>"
      ]
     },
     "execution_count": 58,
     "metadata": {},
     "output_type": "execute_result"
    }
   ],
   "source": [
    "Main.eval(\"\"\"function Lindblad_rhs!(du, ρ, p, t)\n",
    "    @inbounds begin\n",
    "        Ωl = p[1]\n",
    "        ωpl = p[2]\n",
    "        δl = p[3]\n",
    "        ϕl = p[4]\n",
    "        Ωμ = p[5]\n",
    "        ωpμ = p[6]\n",
    "        δμ = p[7]\n",
    "        ϕμ = p[8]\n",
    "        Γ32 = p[9]\n",
    "\n",
    "        Pl = (1+sin(ωpl*t+ϕl))/2\n",
    "        Pμ = (1+sin(ωpμ*t+ϕμ))/2\n",
    "\n",
    "        du[1,1] = -1im*(0.5Ωμ*ρ[1, 2]*Pμ - (0.5Ωμ*ρ[2, 1]*Pμ))\n",
    "        du[1,2] = -1im*(δl*ρ[1, 2] + ρ[1, 2]*(-δl - δμ) + 0.5Ωl*ρ[1, 3]*Pl + 0.5Ωμ*ρ[1, 1]*Pμ - (0.5Ωμ*ρ[2, 2]*Pμ))\n",
    "        du[1,3] = -1im*(ρ[1, 3]*(-δl - δμ) + 0.5Ωl*ρ[1, 2]*Pl - (0.5Ωμ*ρ[2, 3]*Pμ)) - (0.5Γ32*ρ[1, 3])\n",
    "        du[2,1] = -1im*(0.5Ωμ*ρ[2, 2]*Pμ - (δl*ρ[2, 1]) - (ρ[2, 1]*(-δl - δμ)) - (0.5Ωl*ρ[3, 1]*Pl) - (0.5Ωμ*ρ[1, 1]*Pμ))\n",
    "        du[2,2] = Γ32*ρ[3, 3] - (im*(0.5Ωl*ρ[2, 3]*Pl + 0.5Ωμ*ρ[2, 1]*Pμ - (0.5Ωl*ρ[3, 2]*Pl) - (0.5Ωμ*ρ[1, 2]*Pμ)))\n",
    "        du[2,3] = -1im*(0.5Ωl*ρ[2, 2]*Pl - (δl*ρ[2, 3]) - (0.5Ωl*ρ[3, 3]*Pl) - (0.5Ωμ*ρ[1, 3]*Pμ)) - (0.5Γ32*ρ[2, 3])\n",
    "        du[3,1] = -1im*(0.5Ωμ*ρ[3, 2]*Pμ - (ρ[3, 1]*(-δl - δμ)) - (0.5Ωl*ρ[2, 1]*Pl)) - (0.5Γ32*ρ[3, 1])\n",
    "        du[3,2] = -1im*(δl*ρ[3, 2] + 0.5Ωl*ρ[3, 3]*Pl + 0.5Ωμ*ρ[3, 1]*Pμ - (0.5Ωl*ρ[2, 2]*Pl)) - (0.5Γ32*ρ[3, 2])\n",
    "        du[3,3] = -1im*(0.5Ωl*ρ[3, 2]*Pl - (0.5Ωl*ρ[2, 3]*Pl)) - (Γ32*ρ[3, 3])\n",
    "    end\n",
    "    nothing\n",
    "end    \n",
    "\"\"\")"
   ]
  },
  {
   "cell_type": "code",
   "execution_count": 59,
   "metadata": {},
   "outputs": [],
   "source": [
    "Main.du = np.zeros(Main.ρ_ini.shape, dtype = 'complex')\n",
    "Main.eval(\"p1 = [1.,1,0,0,1,1,0,0,1]\")\n",
    "Main.eval(\"@btime Lindblad_rhs!(du, ρ_ini, p1, 0.0)\")"
   ]
  },
  {
   "cell_type": "code",
   "execution_count": 23,
   "metadata": {},
   "outputs": [],
   "source": [
    "Main.eval(\"prob1 = ODEProblem(Lindblad_rhs!, ρ_ini, tspan, p1)\");"
   ]
  },
  {
   "cell_type": "code",
   "execution_count": 24,
   "metadata": {},
   "outputs": [],
   "source": [
    "Main.eval(\"sol1 = solve(prob1, Tsit5(), abstol = 1e-9, reltol = 1e-6, progress = false)\");"
   ]
  },
  {
   "cell_type": "code",
   "execution_count": 25,
   "metadata": {},
   "outputs": [],
   "source": [
    "ut = np.array(Main.eval(\"sol1[:]\")).T\n",
    "pop_results = np.real(np.einsum('jji->ji',ut.reshape((Main.ρ_ini.shape[0], Main.ρ_ini.shape[1], ut.shape[2]))))\n",
    "t_array = Main.eval(\"sol1.t\")"
   ]
  },
  {
   "cell_type": "code",
   "execution_count": 26,
   "metadata": {},
   "outputs": [
    {
     "data": {
      "text/plain": [
       "25.895870578577394"
      ]
     },
     "execution_count": 26,
     "metadata": {},
     "output_type": "execute_result"
    },
    {
     "data": {
      "image/png": "[encoded data removed]",
      "text/plain": [
       "<Figure size 576x360 with 1 Axes>"
      ]
     },
     "metadata": {
      "needs_background": "light"
     },
     "output_type": "display_data"
    }
   ],
   "source": [
    "fig, ax = plt.subplots(figsize = (8,5))\n",
    "\n",
    "for idx, pop in enumerate(pop_results):\n",
    "    ax.plot(t_array*1e6, pop, lw = 2, label = f\"ρ$_{{{idx},{idx}}}$\")\n",
    "\n",
    "ax.set_xlabel('time')\n",
    "ax.set_ylabel('population')\n",
    "ax.legend(fontsize = 14)\n",
    "set_fontsize(ax, 14)\n",
    "\n",
    "np.trapz(np.sum(pop_results[[-1]].real, axis = 0), t_array)"
   ]
  },
  {
   "cell_type": "code",
   "execution_count": 27,
   "metadata": {},
   "outputs": [],
   "source": [
    "Main.eval(\"@btime sol = solve(prob, Tsit5(), abstol = 1e-9, reltol = 1e-6, progress = false)\");\n",
    "Main.eval(\"@btime sol1 = solve(prob1, Tsit5(), abstol = 1e-9, reltol = 1e-6, progress = false)\");"
   ]
  }
 ],
 "metadata": {
  "kernelspec": {
   "display_name": "Python 3",
   "language": "python",
   "name": "python3"
  },
  "language_info": {
   "codemirror_mode": {
    "name": "ipython",
    "version": 3
   },
   "file_extension": ".py",
   "mimetype": "text/x-python",
   "name": "python",
   "nbconvert_exporter": "python",
   "pygments_lexer": "ipython3",
   "version": "3.8.5"
  }
 },
 "nbformat": 4,
 "nbformat_minor": 4
}
