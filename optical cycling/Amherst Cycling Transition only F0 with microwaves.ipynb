{
 "cells": [
  {
   "cell_type": "code",
   "execution_count": 1,
   "metadata": {},
   "outputs": [],
   "source": [
    "%load_ext autoreload\n",
    "%autoreload 2\n",
    "\n",
    "import sys\n",
    "sys.path.append(\"..\")\n",
    "\n",
    "import h5py\n",
    "import scipy\n",
    "import sympy\n",
    "import pickle\n",
    "import numpy as np\n",
    "from tqdm import tqdm\n",
    "from pathlib import Path\n",
    "import matplotlib.pyplot as plt\n",
    "from scipy.sparse import csr_matrix\n",
    "from sympy import Symbol, zeros, Function, MatrixSymbol\n",
    "\n",
    "# import created modules\n",
    "from hamiltonian.states import CoupledBasisState\n",
    "from hamiltonian.generate_hamiltonian import generate_X_hamiltonian_function, generate_B_hamiltonian_function, \\\n",
    "                                                generate_diagonalized_hamiltonian, generate_total_hamiltonian, \\\n",
    "                                            generate_reduced_X_hamiltonian, generate_reduced_B_hamiltonian\n",
    "from hamiltonian.utils import ni_range, matrix_to_states, find_exact_states, reduced_basis_hamiltonian, \\\n",
    "                                find_state_idx_from_state, reorder_evecs, generate_coupled_ground_states\n",
    "\n",
    "from couplings.utils import ED_ME_mixed_state, collapse_matrices, generate_superoperator, \\\n",
    "                            generate_flat_superoperator, generate_sharp_superoperator, \\\n",
    "                            check_approx_state_exact_state\n",
    "from couplings.generate_coupling import optical_coupling_matrix, microwave_coupling_matrix, \\\n",
    "                                        generate_laser_D, generate_microwave_D,\\\n",
    "                                        generate_coupling_field\n",
    "\n",
    "from symbolic import generate_density_matrix_symbolic, generate_system_of_equations, generate_symbolic_hamiltonian,\\\n",
    "                        system_of_equations_to_lines, generate_symbolic_detunings\n",
    "from symbolic.utils import subs_rabi_rate\n",
    "\n",
    "from utils.plot_utils import set_fontsize\n",
    "from utils import population, J_levels, J_slice, delete_J_level\n",
    "\n",
    "from hamiltonian.generate_states import generate_ground_states_approx, generate_excited_states_approx"
   ]
  },
  {
   "cell_type": "code",
   "execution_count": 2,
   "metadata": {},
   "outputs": [
    {
     "data": {
      "text/plain": [
       "WindowsPath('C:/Users/Olivier/Documents/GitHub/optical-bloch')"
      ]
     },
     "execution_count": 2,
     "metadata": {},
     "output_type": "execute_result"
    }
   ],
   "source": [
    "script_dir = Path().parent.absolute().parent\n",
    "script_dir"
   ]
  },
  {
   "cell_type": "markdown",
   "metadata": {},
   "source": [
    "## X-state\n",
    "\n",
    "Define what states from the $X ^1\\Sigma$ electronic state are to be included in the simulation."
   ]
  },
  {
   "cell_type": "code",
   "execution_count": 3,
   "metadata": {},
   "outputs": [],
   "source": [
    "Jg = [0,1]\n",
    "#Generate a list of approximate ground states. The exact ground states are determined within the main\n",
    "#simulation function\n",
    "ground_states_approx = generate_ground_states_approx(Jg)\n",
    "\n",
    "ground_states, H_X_red = generate_reduced_X_hamiltonian(ground_states_approx)"
   ]
  },
  {
   "cell_type": "code",
   "execution_count": 4,
   "metadata": {},
   "outputs": [
    {
     "name": "stdout",
     "output_type": "stream",
     "text": [
      "+1.0000+0.0000j x |X, J = 0, F1 = 1/2, F = 0, mF = 0, I1 = 1/2, I2 = 1/2, P = 1, Omega = 0>\n",
      "+1.0000+0.0000j x |X, J = 0, F1 = 1/2, F = 1, mF = -1, I1 = 1/2, I2 = 1/2, P = 1, Omega = 0>\n",
      "+1.0000+0.0000j x |X, J = 0, F1 = 1/2, F = 1, mF = 0, I1 = 1/2, I2 = 1/2, P = 1, Omega = 0>\n",
      "+1.0000+0.0000j x |X, J = 0, F1 = 1/2, F = 1, mF = 1, I1 = 1/2, I2 = 1/2, P = 1, Omega = 0>\n",
      "+1.0000+0.0000j x |X, J = 1, F1 = 1/2, F = 0, mF = 0, I1 = 1/2, I2 = 1/2, P = -1, Omega = 0>\n",
      "+1.0000+0.0000j x |X, J = 1, F1 = 1/2, F = 1, mF = -1, I1 = 1/2, I2 = 1/2, P = -1, Omega = 0>\n",
      "+1.0000+0.0000j x |X, J = 1, F1 = 1/2, F = 1, mF = 0, I1 = 1/2, I2 = 1/2, P = -1, Omega = 0>\n",
      "+1.0000+0.0000j x |X, J = 1, F1 = 1/2, F = 1, mF = 1, I1 = 1/2, I2 = 1/2, P = -1, Omega = 0>\n",
      "+1.0000+0.0000j x |X, J = 1, F1 = 3/2, F = 1, mF = -1, I1 = 1/2, I2 = 1/2, P = -1, Omega = 0>\n",
      "+1.0000+0.0000j x |X, J = 1, F1 = 3/2, F = 1, mF = 0, I1 = 1/2, I2 = 1/2, P = -1, Omega = 0>\n",
      "+1.0000+0.0000j x |X, J = 1, F1 = 3/2, F = 1, mF = 1, I1 = 1/2, I2 = 1/2, P = -1, Omega = 0>\n",
      "+1.0000+0.0000j x |X, J = 1, F1 = 3/2, F = 2, mF = -2, I1 = 1/2, I2 = 1/2, P = -1, Omega = 0>\n",
      "+1.0000+0.0000j x |X, J = 1, F1 = 3/2, F = 2, mF = -1, I1 = 1/2, I2 = 1/2, P = -1, Omega = 0>\n",
      "+1.0000+0.0000j x |X, J = 1, F1 = 3/2, F = 2, mF = 0, I1 = 1/2, I2 = 1/2, P = -1, Omega = 0>\n",
      "+1.0000+0.0000j x |X, J = 1, F1 = 3/2, F = 2, mF = 1, I1 = 1/2, I2 = 1/2, P = -1, Omega = 0>\n",
      "+1.0000+0.0000j x |X, J = 1, F1 = 3/2, F = 2, mF = 2, I1 = 1/2, I2 = 1/2, P = -1, Omega = 0>\n"
     ]
    }
   ],
   "source": [
    "for s in ground_states_approx:\n",
    "    s.print_state()"
   ]
  },
  {
   "cell_type": "markdown",
   "metadata": {},
   "source": [
    "## B-state\n",
    "Define what states from the $B ^3\\Pi_1$ electronic state are to be included in the simulation. Only need the states that are coupled to J = 1 in the X-state by the laser."
   ]
  },
  {
   "cell_type": "code",
   "execution_count": 5,
   "metadata": {},
   "outputs": [],
   "source": [
    "# define what states are to be included in the simulation\n",
    "# specify J, F1 and F for each state separately\n",
    "J_excited = [1]\n",
    "F1_excited = [1/2]\n",
    "F_excited = [0]\n",
    "\n",
    "excited_states_approx = generate_excited_states_approx(J_excited, F_excited, F1_excited, P=1)\n",
    "\n",
    "excited_states, H_B_red = generate_reduced_B_hamiltonian(excited_states_approx)"
   ]
  },
  {
   "cell_type": "code",
   "execution_count": 6,
   "metadata": {},
   "outputs": [
    {
     "name": "stdout",
     "output_type": "stream",
     "text": [
      "+1.0000+0.0000j x |B, J = 1, F1 = 1/2, F = 0, mF = 0, I1 = 1/2, I2 = 1/2, P = 1, Omega = 1>\n"
     ]
    }
   ],
   "source": [
    "for s in excited_states_approx:\n",
    "    s.print_state()"
   ]
  },
  {
   "cell_type": "markdown",
   "metadata": {},
   "source": [
    "Now generate the excited state Hamiltonian to get the reduced B state Hamiltonian"
   ]
  },
  {
   "cell_type": "markdown",
   "metadata": {},
   "source": [
    "## Total Internal Hamiltonian"
   ]
  },
  {
   "cell_type": "code",
   "execution_count": 7,
   "metadata": {},
   "outputs": [],
   "source": [
    "H_int, V_ref_int = generate_total_hamiltonian(H_X_red, H_B_red)\n",
    "#Define Hamiltonian in the rotating frame (transformation not applied yet)\n",
    "H_rot = H_int.copy()\n",
    "\n",
    "#Define QN for the total Hamiltonian that includes both X and B\n",
    "QN = ground_states + excited_states"
   ]
  },
  {
   "cell_type": "markdown",
   "metadata": {},
   "source": [
    "## Laser coupling\n",
    "### Calculating transition 1; Q(1), F$_1$'=1/2, F'=0"
   ]
  },
  {
   "cell_type": "code",
   "execution_count": 8,
   "metadata": {},
   "outputs": [],
   "source": [
    "#Define ground states for laser driven transition\n",
    "Js = [1]\n",
    "ground_states_laser_approx =  generate_ground_states_approx(Js)\n",
    "\n",
    "#Define excited states for laser\n",
    "excited_states_laser_approx = excited_states_approx\n",
    "\n",
    "#Define the \"main\" states. These are used to calculate the detunings and Rabi rates for the transitions\n",
    "ground_main_approx = 1*CoupledBasisState(J=1,F1=1/2,F=1,mF=1,I1=1/2,I2=1/2,electronic_state='X', P = -1, Omega = 0)\n",
    "excited_main_approx = 1*CoupledBasisState(J=1,F1=1/2,F=0,mF=0,I1=1/2,I2=1/2, electronic_state='B', P = +1, Omega = 1)"
   ]
  },
  {
   "cell_type": "code",
   "execution_count": 9,
   "metadata": {},
   "outputs": [],
   "source": [
    "laser_couplings = generate_coupling_field(ground_main_approx, excited_main_approx, \n",
    "                                        ground_states_laser_approx, excited_states_laser_approx,\n",
    "                                        H_rot, QN, V_ref_int, pol_main = np.array([1,0,0]),\n",
    "                                        pol_vec = [np.array([0,0,1]), np.array([1,0,0])])"
   ]
  },
  {
   "cell_type": "code",
   "execution_count": 10,
   "metadata": {},
   "outputs": [],
   "source": [
    "D1 = generate_laser_D(H_rot, QN, \n",
    "                      laser_couplings[0]['ground_main'], laser_couplings[0]['excited_main'], \n",
    "                      laser_couplings[0]['excited_states'], Δ = 0)"
   ]
  },
  {
   "cell_type": "markdown",
   "metadata": {},
   "source": [
    "## Microwave coupling"
   ]
  },
  {
   "cell_type": "code",
   "execution_count": 11,
   "metadata": {},
   "outputs": [],
   "source": [
    "# Define ground states for microwaves\n",
    "Js = [1]\n",
    "ground_states_microwave1_approx =  generate_ground_states_approx(Js)\n",
    "\n",
    "# Define excited states for microwaves\n",
    "Je = [0]\n",
    "excited_states_microwave1_approx =  generate_ground_states_approx(Je)\n",
    "\n",
    "#Define the \"main\" states. These are used to calculate the detunings and Rabi rates for the transitions\n",
    "ground_μ1_main_approx = 1*CoupledBasisState(J=1,F1=1/2,F=1,mF=1,I1=1/2,I2=1/2,electronic_state='X', P = (-1)**1, Omega = 0)\n",
    "excited_μ1_main_approx = 1*CoupledBasisState(J=0,F1=1/2,F=1,mF=1,I1=1/2,I2=1/2, electronic_state='X', P = (-1)**0, Omega = 0)"
   ]
  },
  {
   "cell_type": "code",
   "execution_count": 12,
   "metadata": {},
   "outputs": [],
   "source": [
    "microwave_couplings = generate_coupling_field(ground_μ1_main_approx, excited_μ1_main_approx, \n",
    "                                            ground_states_microwave1_approx, excited_states_microwave1_approx,\n",
    "                                            H_rot, QN, V_ref_int, pol_main = np.array([0,0,1]),\n",
    "                                            pol_vec = [np.array([0,0,1]), np.array([0,1,0])])"
   ]
  },
  {
   "cell_type": "code",
   "execution_count": 13,
   "metadata": {},
   "outputs": [],
   "source": [
    "D_μ1 = generate_laser_D(H_rot, QN, \n",
    "                      microwave_couplings[0]['ground_main'], microwave_couplings[0]['excited_main'], \n",
    "                      microwave_couplings[0]['excited_states'], Δ = 0)"
   ]
  },
  {
   "cell_type": "markdown",
   "metadata": {},
   "source": [
    "## Total Hamiltonian"
   ]
  },
  {
   "cell_type": "code",
   "execution_count": 14,
   "metadata": {},
   "outputs": [
    {
     "name": "stdout",
     "output_type": "stream",
     "text": [
      "[ 8.35867483e+04  4.07669373e+01  2.03831940e+01  0.00000000e+00\n",
      " -1.39719693e+05  2.14009705e+01  1.07021484e+01  0.00000000e+00\n",
      "  1.10555227e+06  1.10555245e+06  1.10555263e+06  1.19692292e+06\n",
      "  1.19691262e+06  1.19690232e+06  1.19689202e+06  1.19688172e+06\n",
      "  0.00000000e+00]\n"
     ]
    },
    {
     "data": {
      "image/png": "[encoded data removed]",
      "text/plain": [
       "<Figure size 432x288 with 1 Axes>"
      ]
     },
     "metadata": {
      "needs_background": "light"
     },
     "output_type": "display_data"
    }
   ],
   "source": [
    "gnd_idx = QN.index(laser_couplings[0]['ground_main'])\n",
    "H_rot = H_int.copy()\n",
    "H_rot = H_rot - np.eye(H_rot.shape[0])*H_rot[gnd_idx,gnd_idx]\n",
    "H_rot = H_rot + D1 + D_μ1\n",
    "plt.imshow(H_rot.real)\n",
    "print(np.diag(H_rot.real))"
   ]
  },
  {
   "cell_type": "code",
   "execution_count": 15,
   "metadata": {},
   "outputs": [
    {
     "name": "stderr",
     "output_type": "stream",
     "text": [
      "100%|████████████████████████████████████████████████████████████████████████████████████| 1/1 [00:00<00:00, 20.87it/s]\n"
     ]
    }
   ],
   "source": [
    "Γ = 2*np.pi*1.6e6\n",
    "C_list = collapse_matrices(QN, ground_states, excited_states, gamma = Γ)\n",
    "C_array = np.array(C_list)\n",
    "C_conj_array = np.einsum('ijk->ikj', C_array.conj())"
   ]
  },
  {
   "cell_type": "code",
   "execution_count": 16,
   "metadata": {},
   "outputs": [],
   "source": [
    "t = Symbol(\"t\", real = True)\n",
    "Px1 = Function(\"Px1\")(t) # Polarization switching function for x\n",
    "Pz1 = Function(\"Pz1\")(t) # Polarization switching function for z\n",
    "Pμy1 = Function(\"Pμy1\")(t) # Polarization switching function for y\n",
    "Pμz1 = Function(\"Pμz1\")(t) # Polarization switching function for z\n",
    "\n",
    "laser_fields = [(laser_couplings[0]['field']*Pz1, laser_couplings[0]['main_coupling']), \n",
    "                (laser_couplings[1]['field']*Px1, laser_couplings[1]['main_coupling'])]\n",
    "microwave_fields = [(microwave_couplings[0]['field']*Pμy1, microwave_couplings[0]['main_coupling']), \n",
    "                    (microwave_couplings[1]['field']*Pμz1, microwave_couplings[1]['main_coupling'])]\n",
    "detunings = [[QN.index(exc) for exc in laser_couplings[0]['excited_states']]]\n",
    "detunings += [[QN.index(exc) for exc in microwave_couplings[0]['excited_states']]]"
   ]
  },
  {
   "cell_type": "code",
   "execution_count": 17,
   "metadata": {},
   "outputs": [],
   "source": [
    "n_states = H_rot.shape[0]\n",
    "H_symbolic, Ωs = generate_symbolic_hamiltonian(n_states, laser_fields+microwave_fields)\n",
    "Δ_symbolic, Δs = generate_symbolic_detunings(n_states, detunings)\n",
    "H_symbolic += Δ_symbolic + H_rot"
   ]
  },
  {
   "cell_type": "code",
   "execution_count": 18,
   "metadata": {},
   "outputs": [
    {
     "data": {
      "text/latex": [
       "$\\displaystyle \\left[\\begin{array}{ccccccccccccccccc}Δ2 + 83586.7483215332 & 0 & 0 & 0 & 0 & 0.290807911472161 i Ωμ \\operatorname{Pμz1}{\\left(t \\right)} & 0.411234074581972 Ωμ \\operatorname{Pμy1}{\\left(t \\right)} & 0.290764892751861 i Ωμ \\operatorname{Pμz1}{\\left(t \\right)} & - 0.499983382824011 i Ωμ \\operatorname{Pμz1}{\\left(t \\right)} & - 0.707100975358803 Ωμ \\operatorname{Pμy1}{\\left(t \\right)} & - 0.500008409156251 i Ωμ \\operatorname{Pμz1}{\\left(t \\right)} & 0 & 0 & 0 & 0 & 0 & 0\\\\0 & Δ2 + 40.7669372558594 & 0 & 0 & - 0.333901922157883 i Ωμ \\operatorname{Pμz1}{\\left(t \\right)} & - 0.49999180136918 Ωμ \\operatorname{Pμy1}{\\left(t \\right)} & - 0.353586231008722 i Ωμ \\operatorname{Pμz1}{\\left(t \\right)} & 0 & - 0.290736980011639 Ωμ \\operatorname{Pμy1}{\\left(t \\right)} & - 0.205594736946309 i Ωμ \\operatorname{Pμz1}{\\left(t \\right)} & 0 & - 0.578405249432978 i Ωμ \\operatorname{Pμz1}{\\left(t \\right)} & - 0.578433636785611 Ωμ \\operatorname{Pμy1}{\\left(t \\right)} & - 0.236156135505686 i Ωμ \\operatorname{Pμz1}{\\left(t \\right)} & 0 & 0 & 0\\\\0 & 0 & Δ2 + 20.3831939697266 & 0 & 0.47226590679684 Ωμ \\operatorname{Pμy1}{\\left(t \\right)} & 0.353535699024258 i Ωμ \\operatorname{Pμz1}{\\left(t \\right)} & 0 & - 0.353565283532071 i Ωμ \\operatorname{Pμz1}{\\left(t \\right)} & 0.205682402118226 i Ωμ \\operatorname{Pμz1}{\\left(t \\right)} & 0 & - 0.205551661346329 i Ωμ \\operatorname{Pμz1}{\\left(t \\right)} & 0 & - 0.408973898237758 i Ωμ \\operatorname{Pμz1}{\\left(t \\right)} & - 0.66788484420592 Ωμ \\operatorname{Pμy1}{\\left(t \\right)} & - 0.409014644583448 i Ωμ \\operatorname{Pμz1}{\\left(t \\right)} & 0 & 0\\\\0 & 0 & 0 & Δ2 & - 0.333982926920416 i Ωμ \\operatorname{Pμz1}{\\left(t \\right)} & 0 & 0.353514748208059 i Ωμ \\operatorname{Pμz1}{\\left(t \\right)} & 0.5 Ωμ \\operatorname{Pμy1}{\\left(t \\right)} & 0 & 0.20563933463782 i Ωμ \\operatorname{Pμz1}{\\left(t \\right)} & 0.290835833661731 Ωμ \\operatorname{Pμy1}{\\left(t \\right)} & 0 & 0 & - 0.236109770978379 i Ωμ \\operatorname{Pμz1}{\\left(t \\right)} & - 0.578376852071697 Ωμ \\operatorname{Pμy1}{\\left(t \\right)} & - 0.578405249437755 i Ωμ \\operatorname{Pμz1}{\\left(t \\right)} & 0\\\\0 & 0.333901922157883 i Ωμᶜ \\operatorname{Pμz1}{\\left(t \\right)} & 0.47226590679684 Ωμᶜ \\operatorname{Pμy1}{\\left(t \\right)} & 0.333982926920416 i Ωμᶜ \\operatorname{Pμz1}{\\left(t \\right)} & -139719.693466187 & 0 & 0 & 0 & 0 & 0 & 0 & 0 & 0 & 0 & 0 & 0 & 0\\\\- 0.290807911472161 i Ωμᶜ \\operatorname{Pμz1}{\\left(t \\right)} & - 0.49999180136918 Ωμᶜ \\operatorname{Pμy1}{\\left(t \\right)} & - 0.353535699024258 i Ωμᶜ \\operatorname{Pμz1}{\\left(t \\right)} & 0 & 0 & 21.4009704589844 & 0 & 0 & 0 & 0 & 0 & 0 & 0 & 0 & 0 & 0 & 0.499998577141356 Ωl \\operatorname{Px_{1}}{\\left(t \\right)}\\\\0.411234074581972 Ωμᶜ \\operatorname{Pμy1}{\\left(t \\right)} & 0.353586231008722 i Ωμᶜ \\operatorname{Pμz1}{\\left(t \\right)} & 0 & - 0.353514748208059 i Ωμᶜ \\operatorname{Pμz1}{\\left(t \\right)} & 0 & 0 & 10.7021484375 & 0 & 0 & 0 & 0 & 0 & 0 & 0 & 0 & 0 & - 0.70710577042007 Ωl \\operatorname{Pz_{1}}{\\left(t \\right)}\\\\- 0.290764892751861 i Ωμᶜ \\operatorname{Pμz1}{\\left(t \\right)} & 0 & 0.353565283532071 i Ωμᶜ \\operatorname{Pμz1}{\\left(t \\right)} & 0.5 Ωμᶜ \\operatorname{Pμy1}{\\left(t \\right)} & 0 & 0 & 0 & 0 & 0 & 0 & 0 & 0 & 0 & 0 & 0 & 0 & - 0.5 Ωl \\operatorname{Px_{1}}{\\left(t \\right)}\\\\0.499983382824011 i Ωμᶜ \\operatorname{Pμz1}{\\left(t \\right)} & - 0.290736980011639 Ωμᶜ \\operatorname{Pμy1}{\\left(t \\right)} & - 0.205682402118226 i Ωμᶜ \\operatorname{Pμz1}{\\left(t \\right)} & 0 & 0 & 0 & 0 & 0 & 1105552.27386475 & 0 & 0 & 0 & 0 & 0 & 0 & 0 & 0.290789596930149 Ωl \\operatorname{Px_{1}}{\\left(t \\right)}\\\\- 0.707100975358803 Ωμᶜ \\operatorname{Pμy1}{\\left(t \\right)} & 0.205594736946309 i Ωμᶜ \\operatorname{Pμz1}{\\left(t \\right)} & 0 & - 0.20563933463782 i Ωμᶜ \\operatorname{Pμz1}{\\left(t \\right)} & 0 & 0 & 0 & 0 & 0 & 1105552.45256042 & 0 & 0 & 0 & 0 & 0 & 0 & - 0.411236858040512 Ωl \\operatorname{Pz_{1}}{\\left(t \\right)}\\\\0.500008409156251 i Ωμᶜ \\operatorname{Pμz1}{\\left(t \\right)} & 0 & 0.205551661346329 i Ωμᶜ \\operatorname{Pμz1}{\\left(t \\right)} & 0.290835833661731 Ωμᶜ \\operatorname{Pμy1}{\\left(t \\right)} & 0 & 0 & 0 & 0 & 0 & 0 & 1105552.63163757 & 0 & 0 & 0 & 0 & 0 & - 0.290787145944299 Ωl \\operatorname{Px_{1}}{\\left(t \\right)}\\\\0 & 0.578405249432978 i Ωμᶜ \\operatorname{Pμz1}{\\left(t \\right)} & 0 & 0 & 0 & 0 & 0 & 0 & 0 & 0 & 0 & 1196922.92208862 & 0 & 0 & 0 & 0 & 0\\\\0 & - 0.578433636785611 Ωμᶜ \\operatorname{Pμy1}{\\left(t \\right)} & 0.408973898237758 i Ωμᶜ \\operatorname{Pμz1}{\\left(t \\right)} & 0 & 0 & 0 & 0 & 0 & 0 & 0 & 0 & 0 & 1196912.62124634 & 0 & 0 & 0 & 0\\\\0 & 0.236156135505686 i Ωμᶜ \\operatorname{Pμz1}{\\left(t \\right)} & - 0.66788484420592 Ωμᶜ \\operatorname{Pμy1}{\\left(t \\right)} & 0.236109770978379 i Ωμᶜ \\operatorname{Pμz1}{\\left(t \\right)} & 0 & 0 & 0 & 0 & 0 & 0 & 0 & 0 & 0 & 1196902.31977844 & 0 & 0 & 0\\\\0 & 0 & 0.409014644583448 i Ωμᶜ \\operatorname{Pμz1}{\\left(t \\right)} & - 0.578376852071697 Ωμᶜ \\operatorname{Pμy1}{\\left(t \\right)} & 0 & 0 & 0 & 0 & 0 & 0 & 0 & 0 & 0 & 0 & 1196892.01783752 & 0 & 0\\\\0 & 0 & 0 & 0.578405249437755 i Ωμᶜ \\operatorname{Pμz1}{\\left(t \\right)} & 0 & 0 & 0 & 0 & 0 & 0 & 0 & 0 & 0 & 0 & 0 & 1196881.71534729 & 0\\\\0 & 0 & 0 & 0 & 0 & 0.499998577141356 Ωlᶜ \\operatorname{Px_{1}}{\\left(t \\right)} & - 0.70710577042007 Ωlᶜ \\operatorname{Pz_{1}}{\\left(t \\right)} & - 0.5 Ωlᶜ \\operatorname{Px_{1}}{\\left(t \\right)} & 0.290789596930149 Ωlᶜ \\operatorname{Px_{1}}{\\left(t \\right)} & - 0.411236858040512 Ωlᶜ \\operatorname{Pz_{1}}{\\left(t \\right)} & - 0.290787145944299 Ωlᶜ \\operatorname{Px_{1}}{\\left(t \\right)} & 0 & 0 & 0 & 0 & 0 & Δ1\\end{array}\\right]$"
      ],
      "text/plain": [
       "Matrix([\n",
       "[           Δ2 + 83586.7483215332,                               0,                                0,                                0,                               0, 0.290807911472161*I*Ωμ*Pμz1(t),    0.411234074581972*Ωμ*Pμy1(t),  0.290764892751861*I*Ωμ*Pμz1(t), -0.499983382824011*I*Ωμ*Pμz1(t),   -0.707100975358803*Ωμ*Pμy1(t), -0.500008409156251*I*Ωμ*Pμz1(t),                               0,                               0,                               0,                               0,                               0,                            0],\n",
       "[                               0,           Δ2 + 40.7669372558594,                                0,                                0, -0.333901922157883*I*Ωμ*Pμz1(t),   -0.49999180136918*Ωμ*Pμy1(t), -0.353586231008722*I*Ωμ*Pμz1(t),                               0,   -0.290736980011639*Ωμ*Pμy1(t), -0.205594736946309*I*Ωμ*Pμz1(t),                               0, -0.578405249432978*I*Ωμ*Pμz1(t),   -0.578433636785611*Ωμ*Pμy1(t), -0.236156135505686*I*Ωμ*Pμz1(t),                               0,                               0,                            0],\n",
       "[                               0,                               0,            Δ2 + 20.3831939697266,                                0,     0.47226590679684*Ωμ*Pμy1(t), 0.353535699024258*I*Ωμ*Pμz1(t),                               0, -0.353565283532071*I*Ωμ*Pμz1(t),  0.205682402118226*I*Ωμ*Pμz1(t),                               0, -0.205551661346329*I*Ωμ*Pμz1(t),                               0, -0.408973898237758*I*Ωμ*Pμz1(t),    -0.66788484420592*Ωμ*Pμy1(t), -0.409014644583448*I*Ωμ*Pμz1(t),                               0,                            0],\n",
       "[                               0,                               0,                                0,                               Δ2, -0.333982926920416*I*Ωμ*Pμz1(t),                              0,  0.353514748208059*I*Ωμ*Pμz1(t),                  0.5*Ωμ*Pμy1(t),                               0,   0.20563933463782*I*Ωμ*Pμz1(t),    0.290835833661731*Ωμ*Pμy1(t),                               0,                               0, -0.236109770978379*I*Ωμ*Pμz1(t),   -0.578376852071697*Ωμ*Pμy1(t), -0.578405249437755*I*Ωμ*Pμz1(t),                            0],\n",
       "[                               0, 0.333901922157883*I*Ωμᶜ*Pμz1(t),     0.47226590679684*Ωμᶜ*Pμy1(t),  0.333982926920416*I*Ωμᶜ*Pμz1(t),               -139719.693466187,                              0,                               0,                               0,                               0,                               0,                               0,                               0,                               0,                               0,                               0,                               0,                            0],\n",
       "[-0.290807911472161*I*Ωμᶜ*Pμz1(t),   -0.49999180136918*Ωμᶜ*Pμy1(t), -0.353535699024258*I*Ωμᶜ*Pμz1(t),                                0,                               0,               21.4009704589844,                               0,                               0,                               0,                               0,                               0,                               0,                               0,                               0,                               0,                               0,  0.499998577141356*Ωl*Px1(t)],\n",
       "[   0.411234074581972*Ωμᶜ*Pμy1(t), 0.353586231008722*I*Ωμᶜ*Pμz1(t),                                0, -0.353514748208059*I*Ωμᶜ*Pμz1(t),                               0,                              0,                   10.7021484375,                               0,                               0,                               0,                               0,                               0,                               0,                               0,                               0,                               0,  -0.70710577042007*Ωl*Pz1(t)],\n",
       "[-0.290764892751861*I*Ωμᶜ*Pμz1(t),                               0,  0.353565283532071*I*Ωμᶜ*Pμz1(t),                  0.5*Ωμᶜ*Pμy1(t),                               0,                              0,                               0,                               0,                               0,                               0,                               0,                               0,                               0,                               0,                               0,                               0,               -0.5*Ωl*Px1(t)],\n",
       "[ 0.499983382824011*I*Ωμᶜ*Pμz1(t),  -0.290736980011639*Ωμᶜ*Pμy1(t), -0.205682402118226*I*Ωμᶜ*Pμz1(t),                                0,                               0,                              0,                               0,                               0,                1105552.27386475,                               0,                               0,                               0,                               0,                               0,                               0,                               0,  0.290789596930149*Ωl*Px1(t)],\n",
       "[  -0.707100975358803*Ωμᶜ*Pμy1(t), 0.205594736946309*I*Ωμᶜ*Pμz1(t),                                0,  -0.20563933463782*I*Ωμᶜ*Pμz1(t),                               0,                              0,                               0,                               0,                               0,                1105552.45256042,                               0,                               0,                               0,                               0,                               0,                               0, -0.411236858040512*Ωl*Pz1(t)],\n",
       "[ 0.500008409156251*I*Ωμᶜ*Pμz1(t),                               0,  0.205551661346329*I*Ωμᶜ*Pμz1(t),    0.290835833661731*Ωμᶜ*Pμy1(t),                               0,                              0,                               0,                               0,                               0,                               0,                1105552.63163757,                               0,                               0,                               0,                               0,                               0, -0.290787145944299*Ωl*Px1(t)],\n",
       "[                               0, 0.578405249432978*I*Ωμᶜ*Pμz1(t),                                0,                                0,                               0,                              0,                               0,                               0,                               0,                               0,                               0,                1196922.92208862,                               0,                               0,                               0,                               0,                            0],\n",
       "[                               0,  -0.578433636785611*Ωμᶜ*Pμy1(t),  0.408973898237758*I*Ωμᶜ*Pμz1(t),                                0,                               0,                              0,                               0,                               0,                               0,                               0,                               0,                               0,                1196912.62124634,                               0,                               0,                               0,                            0],\n",
       "[                               0, 0.236156135505686*I*Ωμᶜ*Pμz1(t),    -0.66788484420592*Ωμᶜ*Pμy1(t),  0.236109770978379*I*Ωμᶜ*Pμz1(t),                               0,                              0,                               0,                               0,                               0,                               0,                               0,                               0,                               0,                1196902.31977844,                               0,                               0,                            0],\n",
       "[                               0,                               0,  0.409014644583448*I*Ωμᶜ*Pμz1(t),   -0.578376852071697*Ωμᶜ*Pμy1(t),                               0,                              0,                               0,                               0,                               0,                               0,                               0,                               0,                               0,                               0,                1196892.01783752,                               0,                            0],\n",
       "[                               0,                               0,                                0,  0.578405249437755*I*Ωμᶜ*Pμz1(t),                               0,                              0,                               0,                               0,                               0,                               0,                               0,                               0,                               0,                               0,                               0,                1196881.71534729,                            0],\n",
       "[                               0,                               0,                                0,                                0,                               0,   0.499998577141356*Ωlᶜ*Px1(t),    -0.70710577042007*Ωlᶜ*Pz1(t),                 -0.5*Ωlᶜ*Px1(t),    0.290789596930149*Ωlᶜ*Px1(t),   -0.411236858040512*Ωlᶜ*Pz1(t),   -0.290787145944299*Ωlᶜ*Px1(t),                               0,                               0,                               0,                               0,                               0,                           Δ1]])"
      ]
     },
     "execution_count": 18,
     "metadata": {},
     "output_type": "execute_result"
    }
   ],
   "source": [
    "Ωl = Symbol('Ωl', real = True)\n",
    "Ωlc = Symbol('Ωlᶜ', real = True)\n",
    "Ωμ = Symbol('Ωμ', real = True)\n",
    "Ωμc = Symbol('Ωμᶜ', real = True)\n",
    "H_symbolic = H_symbolic.subs(Ωs[0][0],Ωl).subs(Ωs[0][1],Ωlc)\n",
    "H_symbolic = H_symbolic.subs(Ωs[1][0],Ωl).subs(Ωs[1][1],Ωlc)\n",
    "H_symbolic = H_symbolic.subs(Ωs[2][0],Ωμ).subs(Ωs[2][1],Ωμc)\n",
    "H_symbolic = H_symbolic.subs(Ωs[3][0],Ωμ).subs(Ωs[3][1],Ωμc)\n",
    "\n",
    "H_symbolic"
   ]
  },
  {
   "cell_type": "code",
   "execution_count": 19,
   "metadata": {},
   "outputs": [],
   "source": [
    "# ρ = generate_density_matrix_symbolic(n_states)\n",
    "# matrix_mult_sum = zeros(n_states, n_states)\n",
    "# for C,Cᶜ in tqdm(zip(C_array, C_conj_array), disable = False):\n",
    "#     idC = np.nonzero(C)\n",
    "#     idCᶜ = np.nonzero(Cᶜ)\n",
    "#     val = C[idC][0]*Cᶜ[idCᶜ][0]*ρ[idC[-1],idCᶜ[0]][0]\n",
    "#     matrix_mult_sum[idC[0][0],idCᶜ[-1][0]] += val   \n",
    "\n",
    "# Cprecalc = np.einsum('ijk,ikl', C_conj_array, C_array)\n",
    "# a = -0.5 * (Cprecalc@ρ + ρ@Cprecalc)\n",
    "\n",
    "# system = zeros(n_states, n_states)\n",
    "# system += matrix_mult_sum\n",
    "# system += a"
   ]
  },
  {
   "cell_type": "code",
   "execution_count": 20,
   "metadata": {},
   "outputs": [
    {
     "name": "stderr",
     "output_type": "stream",
     "text": [
      "100%|████████████████████████████████████████████████████████████████████████████████████| 6/6 [00:04<00:00,  1.41it/s]\n"
     ]
    }
   ],
   "source": [
    "system = generate_system_of_equations(H_symbolic, C_array, progress = True)"
   ]
  },
  {
   "cell_type": "code",
   "execution_count": 21,
   "metadata": {},
   "outputs": [],
   "source": [
    "# convert matrix to system of equations code\n",
    "code_lines = system_of_equations_to_lines(system)"
   ]
  },
  {
   "cell_type": "code",
   "execution_count": 22,
   "metadata": {},
   "outputs": [
    {
     "data": {
      "text/latex": [
       "$\\displaystyle - 1.0 i \\left(- 0.500008409156251 i Ωμ ρ₁₀,₀ \\operatorname{Pμz1}{\\left(t \\right)} + 0.290807911472161 i Ωμ ρ₅,₀ \\operatorname{Pμz1}{\\left(t \\right)} + 0.411234074581972 Ωμ ρ₆,₀ \\operatorname{Pμy1}{\\left(t \\right)} + 0.290764892751861 i Ωμ ρ₇,₀ \\operatorname{Pμz1}{\\left(t \\right)} - 0.499983382824011 i Ωμ ρ₈,₀ \\operatorname{Pμz1}{\\left(t \\right)} - 0.707100975358803 Ωμ ρ₉,₀ \\operatorname{Pμy1}{\\left(t \\right)} - 0.500008409156251 i Ωμᶜ ρ₀,₁₀ \\operatorname{Pμz1}{\\left(t \\right)} + 0.290807911472161 i Ωμᶜ ρ₀,₅ \\operatorname{Pμz1}{\\left(t \\right)} - 0.411234074581972 Ωμᶜ ρ₀,₆ \\operatorname{Pμy1}{\\left(t \\right)} + 0.290764892751861 i Ωμᶜ ρ₀,₇ \\operatorname{Pμz1}{\\left(t \\right)} - 0.499983382824011 i Ωμᶜ ρ₀,₈ \\operatorname{Pμz1}{\\left(t \\right)} + 0.707100975358803 Ωμᶜ ρ₀,₉ \\operatorname{Pμy1}{\\left(t \\right)}\\right)$"
      ],
      "text/plain": [
       "-1.0*I*(-0.500008409156251*I*Ωμ*ρ₁₀,₀*Pμz1(t) + 0.290807911472161*I*Ωμ*ρ₅,₀*Pμz1(t) + 0.411234074581972*Ωμ*ρ₆,₀*Pμy1(t) + 0.290764892751861*I*Ωμ*ρ₇,₀*Pμz1(t) - 0.499983382824011*I*Ωμ*ρ₈,₀*Pμz1(t) - 0.707100975358803*Ωμ*ρ₉,₀*Pμy1(t) - 0.500008409156251*I*Ωμᶜ*ρ₀,₁₀*Pμz1(t) + 0.290807911472161*I*Ωμᶜ*ρ₀,₅*Pμz1(t) - 0.411234074581972*Ωμᶜ*ρ₀,₆*Pμy1(t) + 0.290764892751861*I*Ωμᶜ*ρ₀,₇*Pμz1(t) - 0.499983382824011*I*Ωμᶜ*ρ₀,₈*Pμz1(t) + 0.707100975358803*Ωμᶜ*ρ₀,₉*Pμy1(t))"
      ]
     },
     "execution_count": 22,
     "metadata": {},
     "output_type": "execute_result"
    }
   ],
   "source": [
    "system[0]"
   ]
  },
  {
   "cell_type": "markdown",
   "metadata": {},
   "source": [
    "# Solving ODE system with Julia\n",
    "Need to install Julia and add the following packages to Julia:  \n",
    "* [DifferentialEquations](https://diffeq.sciml.ai/stable/)\n",
    "* [Trapz](https://github.com/francescoalemanno/Trapz.jl)\n",
    "\n",
    "And install [PyJulia](https://pyjulia.readthedocs.io/en/latest/index.html) for python.  "
   ]
  },
  {
   "cell_type": "code",
   "execution_count": 23,
   "metadata": {},
   "outputs": [],
   "source": [
    "# import julia\n",
    "# julia.install()"
   ]
  },
  {
   "cell_type": "code",
   "execution_count": 24,
   "metadata": {},
   "outputs": [],
   "source": [
    "from julia import Main"
   ]
  },
  {
   "cell_type": "code",
   "execution_count": 25,
   "metadata": {},
   "outputs": [
    {
     "name": "stdout",
     "output_type": "stream",
     "text": [
      "[1 2 3 4 5 6]\n"
     ]
    }
   ],
   "source": [
    "nprocs = 6\n",
    "\n",
    "Main.eval(\"\"\"\n",
    "using Logging: global_logger\n",
    "using TerminalLoggers: TerminalLogger\n",
    "global_logger(TerminalLogger())\n",
    "\n",
    "using Distributed\n",
    "using BenchmarkTools\n",
    "\"\"\")\n",
    "\n",
    "if Main.eval(\"nprocs()\") < nprocs:\n",
    "    Main.eval(f\"addprocs({nprocs}-nprocs())\")\n",
    "\n",
    "if Main.eval(\"nprocs()\") > nprocs:\n",
    "    addprocs({nprocs})\n",
    "    procs = Main.eval(\"procs()\")\n",
    "    procs = procs[nprocs:]\n",
    "    Main.eval(f\"rmprocs({procs})\")\n",
    "\n",
    "Main.eval(\"\"\"\n",
    "@everywhere begin\n",
    "    using LinearAlgebra\n",
    "    using Trapz\n",
    "    using DifferentialEquations\n",
    "    include(\"../utils/general_ode_functions.jl\")\n",
    "end\n",
    "\"\"\")\n",
    "\n",
    "print(Main.eval(\"procs()\"))"
   ]
  },
  {
   "cell_type": "code",
   "execution_count": 26,
   "metadata": {},
   "outputs": [
    {
     "data": {
      "text/plain": [
       "[<matplotlib.lines.Line2D at 0x1ef61650670>,\n",
       " <matplotlib.lines.Line2D at 0x1ef616506a0>]"
      ]
     },
     "execution_count": 26,
     "metadata": {},
     "output_type": "execute_result"
    },
    {
     "data": {
      "image/png": "[encoded data removed]",
      "text/plain": [
       "<Figure size 432x288 with 1 Axes>"
      ]
     },
     "metadata": {
      "needs_background": "light"
     },
     "output_type": "display_data"
    }
   ],
   "source": [
    "Px = Main.eval(\"[sine_wave(ti, 1e6, 0) for ti = range(0,1/1e6,length=101)]\")\n",
    "Pz = Main.eval(\"[sine_wave(ti, 1e6, π) for ti = range(0,1/1e6,length=101)]\")\n",
    "Pμy = Main.eval(\"[sine_wave(ti, 1e6, 0+π/2) for ti = range(0,1/1e6,length=101)]\")\n",
    "Pμz = Main.eval(\"[sine_wave(ti, 1e6, π+π/2) for ti = range(0,1/1e6,length=101)]\")\n",
    "normalization = np.sqrt(Px**2+Pz**2)\n",
    "normalizationμ = np.sqrt(Pμy**2 + Pμz**2)\n",
    "plt.plot(np.array([Px,Pz]).T/normalization[:,np.newaxis])\n",
    "plt.plot(np.array([Pμy,Pμz]).T/normalizationμ[:,np.newaxis], ls = '--')"
   ]
  },
  {
   "cell_type": "code",
   "execution_count": 27,
   "metadata": {},
   "outputs": [
    {
     "data": {
      "text/plain": [
       "[<matplotlib.lines.Line2D at 0x1ef501905e0>,\n",
       " <matplotlib.lines.Line2D at 0x1ef50190610>]"
      ]
     },
     "execution_count": 27,
     "metadata": {},
     "output_type": "execute_result"
    },
    {
     "data": {
      "image/png": "[encoded data removed]",
      "text/plain": [
       "<Figure size 432x288 with 1 Axes>"
      ]
     },
     "metadata": {
      "needs_background": "light"
     },
     "output_type": "display_data"
    }
   ],
   "source": [
    "Px = Main.eval(\"[sine_wave(ti, 1e6, 0) for ti = range(0,1/1e6,length=101)]\")\n",
    "Pz = Main.eval(\"[sine_wave(ti, 1e6, π) for ti = range(0,1/1e6,length=101)]\")\n",
    "Pμy = Main.eval(\"[sine_wave(ti, 1e6, 0+π/2) for ti = range(0,1/1e6,length=101)]\")\n",
    "Pμz = Main.eval(\"[sine_wave(ti, 1e6, π+π/2) for ti = range(0,1/1e6,length=101)]\")\n",
    "normalization = np.sqrt(Px**2+Pz**2)\n",
    "normalizationμ = np.sqrt(Pμy**2 + Pμz**2)\n",
    "plt.plot(np.array([Px,Pz]).T)\n",
    "plt.plot(np.array([Pμy,Pμz]).T, ls = '--')"
   ]
  },
  {
   "cell_type": "markdown",
   "metadata": {},
   "source": [
    "## Creating the Julia function to compute the RHS of the Lindblad Equation\n",
    "Note that only here the polarization switching function is added.  \n",
    "Anything added symbolically can be modified here."
   ]
  },
  {
   "cell_type": "code",
   "execution_count": 28,
   "metadata": {},
   "outputs": [],
   "source": [
    "ode_fun = \"\"\"function Lindblad_rhs!(du, ρ, p, t)\n",
    "\\t@inbounds begin\n",
    "\\t\\tΩl = p[1]\n",
    "\\t\\tνp1 = p[2]\n",
    "\\t\\tΔ1 = p[3]\n",
    "\\t\\tΩlᶜ = conj(Ωl)\n",
    "\n",
    "\\t\\tΩμ = p[4]\n",
    "\\t\\tνp2 = p[5]\n",
    "\\t\\tΔ2 = p[6]\n",
    "\\t\\tΩμᶜ = conj(Ωμ)\n",
    "\n",
    "\\t\\tPx1 = sine_wave(t, νp1, π/2 + π)\n",
    "\\t\\tPz1 = sine_wave(t, νp1, π/2)\n",
    "\n",
    "\\t\\tPμy1 = sine_wave(t, νp2, π/2 + π + π/2)\n",
    "\\t\\tPμz1 = sine_wave(t, νp2, π/2 + π/2)\n",
    "\"\"\""
   ]
  },
  {
   "cell_type": "code",
   "execution_count": 29,
   "metadata": {},
   "outputs": [
    {
     "name": "stdout",
     "output_type": "stream",
     "text": [
      "function Lindblad_rhs!(du, ρ, p, t)\n",
      "\t@inbounds begin\n",
      "\t\tΩl = p[1]\n",
      "\t\tνp1 = p[2]\n",
      "\t\tΔ1 = p[3]\n",
      "\t\tΩlᶜ = conj(Ωl)\n",
      "\n",
      "\t\tΩμ = p[4]\n",
      "\t\tνp2 = p[5]\n",
      "\t\tΔ2 = p[6]\n",
      "\t\tΩμᶜ = conj(Ωμ)\n",
      "\n",
      "\t\tPx1 = sine_wave(t, νp1, π/2 + π)\n",
      "\t\tPz1 = sine_wave(t, νp1, π/2)\n",
      "\n",
      "\t\tPμy1 = sine_wave(t, νp2, π/2 + π + π/2)\n",
      "\t\tPμz1 = sine_wave(t, νp2, π/2 + π/2)\n",
      "\n"
     ]
    }
   ],
   "source": [
    "print(ode_fun)"
   ]
  },
  {
   "cell_type": "code",
   "execution_count": 30,
   "metadata": {},
   "outputs": [],
   "source": [
    "for cline in code_lines:\n",
    "    ode_fun += \"\\t\\t\"+cline+'\\n'\n",
    "ode_fun += '\\t end \\n \\t nothing \\n end'"
   ]
  },
  {
   "cell_type": "code",
   "execution_count": 31,
   "metadata": {},
   "outputs": [],
   "source": [
    "# making the function in Julia\n",
    "Main.eval(f\"@everywhere {ode_fun}\")"
   ]
  },
  {
   "cell_type": "code",
   "execution_count": 45,
   "metadata": {},
   "outputs": [
    {
     "name": "stdout",
     "output_type": "stream",
     "text": [
      "\t\tPμy1 = sine_wave(t, νp2, π/2 + π + π/2)\n",
      "\t\tPμz1 = sine_wave(t, νp2, π/2 + π/2)\n",
      "\t\tdu[1,1] = -1.0*1im*(-0.500008409156251*1im*Ωμ*ρ[11,1]*Pμz1 + 0.290807911472161*1im*Ωμ*ρ[6,1]*Pμz1 + 0.411234074581972*Ωμ*ρ[7,1]*Pμy1 + 0.290764892751861*1im*Ωμ*ρ[8,1]*Pμz1 - 0.499983382824011*1im*Ωμ*ρ[9,1]*Pμz1 - 0.707100975358803*Ωμ*ρ[10,1]*Pμy1 - 0.500008409156251*1im*Ωμᶜ*ρ[1,11]*Pμz1 + 0.290807911472161*1im*Ωμᶜ*ρ[1,6]*Pμz1 - 0.411234074581972*Ωμᶜ*ρ[1,7]*Pμy1 + 0.290764892751861*1im*Ωμᶜ*ρ[1,8]*Pμz1 - 0.499983382824011*1im*Ωμᶜ*ρ[1,9]*Pμz1 + 0.707100975358803*Ωμᶜ*ρ[1,10]*Pμy1)\n",
      "\t\tdu[1,2] = -1.0*1im*(-0.500008409156251*1im*Ωμ*ρ[11,2]*Pμz1 + 0.290807911472161*1im*Ωμ*ρ[6,2]*Pμz1 + 0.411234074581972*Ωμ*ρ[7,2]*Pμy1 + 0.290764892751861*1im*Ωμ*ρ[8,2]*Pμz1 - 0.499983382824011*1im*Ωμ*ρ[9,2]*Pμz1 - 0.707100975358803*Ωμ*ρ[10,2]*Pμy1 - 0.578405249432978*1im*Ωμᶜ*ρ[1,12]*Pμz1 + 0.578433636785611*Ωμᶜ*ρ[1,13]*Pμy1 - 0.236156135505686*1im*Ωμᶜ*ρ[1,14]*Pμz1 - 0.333901922157883*1im*Ωμᶜ*ρ[1,5]*Pμz1 + 0.49999180136918*Ωμᶜ*ρ[1,6]*Pμy1 - 0.353586231008722*1im*Ωμᶜ*ρ[1,7]*Pμz1 + 0.290736980011639*Ωμᶜ*ρ[1,9]*Pμy1 - 0.205594736946309*1im*Ωμᶜ*ρ[1,10]*Pμz1 - ρ[1,2]*(Δ2 + 40.7669372558594) + ρ[1,2]*(Δ2 + 83586.7483215332))\n",
      "\t\tdu[1,3] = -1.0*1im*(-0.500008409156251*1im*Ωμ*ρ[11,3]*Pμz1 + 0.290807911472161*1im*Ωμ*ρ[6,3]*Pμz1 + 0.411234074581972*Ωμ*ρ[7,3]*Pμy1 + 0.290764892751861*1im*Ωμ*ρ[8,3]*Pμz1 - 0.499983382824011*1im*Ωμ*ρ[9,3]*Pμz1 - 0.707100975358803*Ωμ*ρ[10,3]*Pμy1 - 0.205551661346329*1im*Ωμᶜ*ρ[1,11]*Pμz1 - 0.408973898237758*1im*Ωμᶜ*ρ[1,13]*Pμz1 + 0.66788484420592*Ωμᶜ*ρ[1,14]*Pμy1 - 0.409014644583448*1im*Ωμᶜ*ρ[1,15]*Pμz1 - 0.47226590679684*Ωμᶜ*ρ[1,5]*Pμy1 + 0.353535699024258*1im*Ωμᶜ*ρ[1,6]*Pμz1 - 0.353565283532071*1im*Ωμᶜ*ρ[1,8]*Pμz1 + 0.205682402118226*1im*Ωμᶜ*ρ[1,9]*Pμz1 - ρ[1,3]*(Δ2 + 20.3831939697266) + ρ[1,3]*(Δ2 + 83586.7483215332))\n",
      "\t\tdu[1,4] = -1.0*1im*(-Δ2*ρ[1,4] - 0.500008409156251*1im*Ωμ*ρ[11,4]*Pμz1 + 0.290807911472161*1im*Ωμ*ρ[6,4]*Pμz1 + 0.411234074581972*Ωμ*ρ[7,4]*Pμy1 + 0.290764892751861*1im*Ωμ*ρ[8,4]*Pμz1 - 0.499983382824011*1im*Ωμ*ρ[9,4]*Pμz1 - 0.707100975358803*Ωμ*ρ[10,4]*Pμy1 - 0.290835833661731*Ωμᶜ*ρ[1,11]*Pμy1 - 0.236109770978379*1im*Ωμᶜ*ρ[1,14]*Pμz1 + 0.578376852071697*Ωμᶜ*ρ[1,15]*Pμy1 - 0.578405249437755*1im*Ωμᶜ*ρ[1,16]*Pμz1 - 0.333982926920416*1im*Ωμᶜ*ρ[1,5]*Pμz1 + 0.353514748208059*1im*Ωμᶜ*ρ[1,7]*Pμz1 - 0.5*Ωμᶜ*ρ[1,8]*Pμy1 + 0.20563933463782*1im*Ωμᶜ*ρ[1,10]*Pμz1 + ρ[1,4]*(Δ2 + 83586.7483215332))\n",
      "\t\tdu[1,5] = -1.0*1im*(0.333901922157883*1im*Ωμ*ρ[1,2]*Pμz1 - 0.47226590679684*Ωμ*ρ[1,3]*Pμy1 + 0.333982926920416*1im*Ωμ*ρ[1,4]*Pμz1 - 0.500008409156251*1im*Ωμ*ρ[11,5]*Pμz1 + 0.290807911472161*1im*Ωμ*ρ[6,5]*Pμz1 + 0.411234074581972*Ωμ*ρ[7,5]*Pμy1 + 0.290764892751861*1im*Ωμ*ρ[8,5]*Pμz1 - 0.499983382824011*1im*Ωμ*ρ[9,5]*Pμz1 - 0.707100975358803*Ωμ*ρ[10,5]*Pμy1 + ρ[1,5]*(Δ2 + 83586.7483215332) + 139719.693466187*ρ[1,5])\n",
      "\t\tdu[1,6] = -1.0*1im*(-0.499998577141356*Ωlᶜ*ρ[1,17]*Px1 - 0.290807911472161*1im*Ωμ*ρ[1,1]*Pμz1 + 0.49999180136918*Ωμ*ρ[1,2]*Pμy1 - 0.353535699024258*1im*Ωμ*ρ[1,3]*Pμz1 - 0.500008409156251*1im*Ωμ*ρ[11,6]*Pμz1 + 0.290807911472161*1im*Ωμ*ρ[6,6]*Pμz1 + 0.411234074581972*Ωμ*ρ[7,6]*Pμy1 + 0.290764892751861*1im*Ωμ*ρ[8,6]*Pμz1 - 0.499983382824011*1im*Ωμ*ρ[9,6]*Pμz1 - 0.707100975358803*Ωμ*ρ[10,6]*Pμy1 + ρ[1,6]*(Δ2 + 83586.7483215332) - 21.4009704589844*ρ[1,6])\n",
      "\t\tdu[1,7] = -1.0*1im*(0.70710577042007*Ωlᶜ*ρ[1,17]*Pz1 - 0.411234074581972*Ωμ*ρ[1,1]*Pμy1 + 0.353586231008722*1im*Ωμ*ρ[1,2]*Pμz1 - 0.353514748208059*1im*Ωμ*ρ[1,4]*Pμz1 - 0.500008409156251*1im*Ωμ*ρ[11,7]*Pμz1 + 0.290807911472161*1im*Ωμ*ρ[6,7]*Pμz1 + 0.411234074581972*Ωμ*ρ[7,7]*Pμy1 + 0.290764892751861*1im*Ωμ*ρ[8,7]*Pμz1 - 0.499983382824011*1im*Ωμ*ρ[9,7]*Pμz1 - 0.707100975358803*Ωμ*ρ[10,7]*Pμy1 + ρ[1,7]*(Δ2 + 83586.7483215332) - 10.7021484375*ρ[1,7])\n",
      "\t\tdu[1,8] = -1.0*1im*(0.5*Ωlᶜ*ρ[1,17]*Px1 - 0.290764892751861*1im*Ωμ*ρ[1,1]*Pμz1 + 0.353565283532071*1im*Ωμ*ρ[1,3]*Pμz1 - 0.5*Ωμ*ρ[1,4]*Pμy1 - 0.500008409156251*1im*Ωμ*ρ[11,8]*Pμz1 + 0.290807911472161*1im*Ωμ*ρ[6,8]*Pμz1 + 0.411234074581972*Ωμ*ρ[7,8]*Pμy1 + 0.290764892751861*1im*Ωμ*ρ[8,8]*Pμz1 - 0.499983382824011*1im*Ωμ*ρ[9,8]*Pμz1 - 0.707100975358803*Ωμ*ρ[10,8]*Pμy1 + ρ[1,8]*(Δ2 + 83586.7483215332))\n",
      "\t\tdu[1,9] = -1.0*1im*(-0.290789596930149*Ωlᶜ*ρ[1,17]*Px1 + 0.499983382824011*1im*Ωμ*ρ[1,1]*Pμz1 + 0.290736980011639*Ωμ*ρ[1,2]*Pμy1 - 0.205682402118226*1im*Ωμ*ρ[1,3]*Pμz1 - 0.500008409156251*1im*Ωμ*ρ[11,9]*Pμz1 + 0.290807911472161*1im*Ωμ*ρ[6,9]*Pμz1 + 0.411234074581972*Ωμ*ρ[7,9]*Pμy1 + 0.290764892751861*1im*Ωμ*ρ[8,9]*Pμz1 - 0.499983382824011*1im*Ωμ*ρ[9,9]*Pμz1 - 0.707100975358803*Ωμ*ρ[10,9]*Pμy1 + ρ[1,9]*(Δ2 + 83586.7483215332) - 1105552.27386475*ρ[1,9])\n",
      "\t\tdu[1,10] = -1.0*1im*(0.411236858040512*Ωlᶜ*ρ[1,17]*Pz1 + 0.707100975358803*Ωμ*ρ[1,1]*Pμy1 + 0.205594736946309*1im*Ωμ*ρ[1,2]*Pμz1 - 0.20563933463782*1im*Ωμ*ρ[1,4]*Pμz1 - 0.500008409156251*1im*Ωμ*ρ[11,10]*Pμz1 + 0.290807911472161*1im*Ωμ*ρ[6,10]*Pμz1 + 0.411234074581972*Ωμ*ρ[7,10]*Pμy1 + 0.290764892751861*1im*Ωμ*ρ[8,10]*Pμz1 - 0.499983382824011*1im*Ωμ*ρ[9,10]*Pμz1 - 0.707100975358803*Ωμ*ρ[10,10]*Pμy1 + ρ[1,10]*(Δ2 + 83586.7483215332) - 1105552.45256042*ρ[1,10])\n",
      "\t\tdu[1,11] = -1.0*1im*(0.290787145944299*Ωlᶜ*ρ[1,17]*Px1 + 0.500008409156251*1im*Ωμ*ρ[1,1]*Pμz1 + 0.205551661346329*1im*Ωμ*ρ[1,3]*Pμz1 - 0.290835833661731*Ωμ*ρ[1,4]*Pμy1 - 0.500008409156251*1im*Ωμ*ρ[11,11]*Pμz1 + 0.290807911472161*1im*Ωμ*ρ[6,11]*Pμz1 + 0.411234074581972*Ωμ*ρ[7,11]*Pμy1 + 0.290764892751861*1im*Ωμ*ρ[8,11]*Pμz1 - 0.499983382824011*1im*Ωμ*ρ[9,11]*Pμz1 - 0.707100975358803*Ωμ*ρ[10,11]*Pμy1 + ρ[1,11]*(Δ2 + 83586.7483215332) - 1105552.63163757*ρ[1,11])\n",
      "\t\tdu[1,12] = -1.0*1im*(0.578405249432978*1im*Ωμ*ρ[1,2]*Pμz1 - 0.500008409156251*1im*Ωμ*ρ[11,12]*Pμz1 + 0.290807911472161*1im*Ωμ*ρ[6,12]*Pμz1 + 0.411234074581972*Ωμ*ρ[7,12]*Pμy1 + 0.290764892751861*1im*Ωμ*ρ[8,12]*Pμz1 - 0.499983382824011*1im*Ωμ*ρ[9,12]*Pμz1 - 0.707100975358803*Ωμ*ρ[10,12]*Pμy1 + ρ[1,12]*(Δ2 + 83586.7483215332) - 1196922.92208862*ρ[1,12])\n",
      "\t\tdu[1,13] = -1.0*1im*(0.578433636785611*Ωμ*ρ[1,2]*Pμy1 + 0.408973898237758*1im*Ωμ*ρ[1,3]*Pμz1 - 0.500008409156251*1im*Ωμ*ρ[11,13]*Pμz1 + 0.290807911472161*1im*Ωμ*ρ[6,13]*Pμz1 + 0.411234074581972*Ωμ*ρ[7,13]*Pμy1 + 0.290764892751861*1im*Ωμ*ρ[8,13]*Pμz1 - 0.499983382824011*1im*Ωμ*ρ[9,13]*Pμz1 - 0.707100975358803*Ωμ*ρ[10,13]*Pμy1 + ρ[1,13]*(Δ2 + 83586.7483215332) - 1196912.62124634*ρ[1,13])\n"
     ]
    }
   ],
   "source": [
    "for line in ode_fun.split('\\n')[15:30]:\n",
    "    print(line)"
   ]
  },
  {
   "cell_type": "markdown",
   "metadata": {},
   "source": [
    "### Generate density matrix"
   ]
  },
  {
   "cell_type": "code",
   "execution_count": 32,
   "metadata": {},
   "outputs": [],
   "source": [
    "import scipy.constants as cst\n",
    "\n",
    "def population(J, T, B=6.66733e9, n = 100):\n",
    "    c = 2*np.pi*cst.hbar*B/(cst.k*T)\n",
    "    g = lambda J: 4*(2*J+1)\n",
    "    a = lambda J: -c*J*(J+1)\n",
    "    Z = np.sum([g(i)*np.exp(a(i)) for i in range(n)])\n",
    "    return g(J)*np.exp(a(J))/Z"
   ]
  },
  {
   "cell_type": "code",
   "execution_count": 33,
   "metadata": {},
   "outputs": [],
   "source": [
    "def J_levels(J):\n",
    "    return 4*(2*J + 1)\n",
    "\n",
    "def J_slice(J):\n",
    "    if J == 0:\n",
    "        return np.s_[0:J_levels(0)]\n",
    "    else:\n",
    "        levels = J_levels(np.arange(J+1))\n",
    "        return np.s_[np.sum(levels[:-1]):np.sum(levels)]"
   ]
  },
  {
   "cell_type": "code",
   "execution_count": 34,
   "metadata": {},
   "outputs": [],
   "source": [
    "T = 6.3\n",
    "ρ_ini = np.zeros(H_rot.shape, dtype = 'complex')\n",
    "\n",
    "for J in range(0,2):\n",
    "    p = population(J, T)\n",
    "    levels = J_levels(J)\n",
    "    sl = J_slice(J)\n",
    "    np.fill_diagonal(ρ_ini[sl, sl], p/levels)\n",
    "\n",
    "ρ_ini /= np.diag(ρ_ini).sum()"
   ]
  },
  {
   "cell_type": "code",
   "execution_count": 35,
   "metadata": {},
   "outputs": [],
   "source": [
    "Γ = 2*np.pi * 1.56e6\n",
    "\n",
    "\n",
    "Main.Γ = Γ\n",
    "\n",
    "Main.ρ_ini = ρ_ini\n",
    "\n",
    "# setting up the parameters to send to the differential equation\n",
    "Main.eval(\"\"\"\n",
    "@everywhere begin\n",
    "    Γ = 2pi*1.56e6\n",
    "    Ωl = Γ\n",
    "    Δ1 = 0\n",
    "    νp1 = 1e6\n",
    "    Ωμ = Γ\n",
    "    Δ2 = 0\n",
    "    νp2 = 1e6\n",
    "    p = [Ωl, νp1, Δ1, Ωμ, νp2, Δ2]\n",
    "end\n",
    "\"\"\")"
   ]
  },
  {
   "cell_type": "code",
   "execution_count": 44,
   "metadata": {},
   "outputs": [
    {
     "name": "stdout",
     "output_type": "stream",
     "text": [
      "Wall time: 5.17 s\n"
     ]
    },
    {
     "data": {
      "text/plain": [
       "0"
      ]
     },
     "execution_count": 44,
     "metadata": {},
     "output_type": "execute_result"
    }
   ],
   "source": [
    "%%time\n",
    "du = np.zeros(ρ_ini.shape, dtype = 'complex')\n",
    "Main.du = du\n",
    "Main.eval(\"\"\"\n",
    "@btime Lindblad_rhs!(du, ρ_ini, p, 0.)\n",
    "tmp = 0\n",
    "\"\"\")"
   ]
  },
  {
   "cell_type": "markdown",
   "metadata": {},
   "source": [
    "### Setting up the ODE problem to solve\n",
    "`tmp = 0` is just to prevent `Main.eval` from outputting the problem in the notebook.  \n",
    "The ODEProblem takes a function to solve (`Lindblad_rhs!` in this case), initial conditions `ρ_ini`, a timespan `tspan` an additional arguments for the ODE function, denoted here by `p` "
   ]
  },
  {
   "cell_type": "code",
   "execution_count": 37,
   "metadata": {},
   "outputs": [],
   "source": [
    "Main.eval(\"\"\"\n",
    "tspan = (0.0, 300e-6)\n",
    "prob = ODEProblem(Lindblad_rhs!,ρ_ini,tspan,p)\n",
    "\"\"\");"
   ]
  },
  {
   "cell_type": "code",
   "execution_count": 40,
   "metadata": {},
   "outputs": [
    {
     "name": "stdout",
     "output_type": "stream",
     "text": [
      "Wall time: 1.04 s\n"
     ]
    },
    {
     "data": {
      "text/plain": [
       "0"
      ]
     },
     "execution_count": 40,
     "metadata": {},
     "output_type": "execute_result"
    }
   ],
   "source": [
    "%%time\n",
    "Main.eval(\"\"\"\n",
    "@time sol = solve(prob, Tsit5(), abstol = 1e-9, reltol = 1e-6, progress = false);\n",
    "tmp = 0\n",
    "\"\"\");"
   ]
  },
  {
   "cell_type": "code",
   "execution_count": 41,
   "metadata": {},
   "outputs": [],
   "source": [
    "ut = np.array(Main.eval(\"sol[:]\")).T\n",
    "pop_results = np.real(np.einsum('jji->ji',ut.reshape((ρ_ini.shape[0], ρ_ini.shape[1], ut.shape[2]))))\n",
    "t_array = Main.eval(\"sol.t\") * 1e6"
   ]
  },
  {
   "cell_type": "code",
   "execution_count": 42,
   "metadata": {},
   "outputs": [
    {
     "data": {
      "text/plain": [
       "2.9083348797340483"
      ]
     },
     "execution_count": 42,
     "metadata": {},
     "output_type": "execute_result"
    },
    {
     "data": {
      "image/png": "[encoded data removed]",
      "text/plain": [
       "<Figure size 576x360 with 1 Axes>"
      ]
     },
     "metadata": {
      "needs_background": "light"
     },
     "output_type": "display_data"
    }
   ],
   "source": [
    "fig, ax = plt.subplots(figsize = (8,5))\n",
    "\n",
    "for idx, pop in enumerate(pop_results):\n",
    "    ls = '--' if idx in [16] else '-'\n",
    "    if idx not in [0,1,2,3]:\n",
    "        s = QN[idx].find_largest_component()\n",
    "        label = f'{s.electronic_state}, J={s.J}, F={s.F:.0f}, F1={s.F1}, mF={s.mF:+.0f}'\n",
    "#         ax.plot(t_array*1e6, pop, lw = 2, label = label, ls = ls)\n",
    "        ax.plot(t_array, pop, lw = 2, label = f\"ρ$_{{{idx},{idx}}}$\", ls = ls)\n",
    "\n",
    "ax.set_xlabel('time')\n",
    "ax.set_ylabel('population')\n",
    "ax.legend(fontsize = 14)\n",
    "set_fontsize(ax, 14)\n",
    "\n",
    "np.trapz(np.sum(pop_results[[-1]].real/1e6, axis = 0), t_array)*Main.Γ"
   ]
  },
  {
   "cell_type": "code",
   "execution_count": 43,
   "metadata": {},
   "outputs": [
    {
     "data": {
      "image/png": "[encoded data removed]",
      "text/plain": [
       "<Figure size 576x360 with 1 Axes>"
      ]
     },
     "metadata": {
      "needs_background": "light"
     },
     "output_type": "display_data"
    }
   ],
   "source": [
    "exc_F0 = pop_results[-1,:]\n",
    "\n",
    "fig, ax = plt.subplots(figsize = (8,5))\n",
    "ax.plot(t_array, exc_F0)\n",
    "\n",
    "ax.set_xlabel('time [μs]')\n",
    "\n",
    "set_fontsize(ax, 14)"
   ]
  },
  {
   "cell_type": "code",
   "execution_count": null,
   "metadata": {},
   "outputs": [],
   "source": [
    "fig, axes = plt.subplots(figsize = (8,10), nrows = len(pop_results)-1, sharex = True)\n",
    "for idx, pop in enumerate(pop_results[:-1]):\n",
    "    axes[idx].plot(t_array, pop)\n",
    "\n",
    "axes[idx].set_xlabel('time [μs]')\n",
    "for ax in axes:\n",
    "    set_fontsize(ax, 14)"
   ]
  },
  {
   "cell_type": "markdown",
   "metadata": {},
   "source": [
    "### Parameter scan for polarization switching frequency"
   ]
  },
  {
   "cell_type": "code",
   "execution_count": 42,
   "metadata": {},
   "outputs": [],
   "source": [
    "Main.eval(\"\"\"\n",
    "@everywhere params = [val*Γ/(2pi) for val in 0:5/401:5]\"\"\")"
   ]
  },
  {
   "cell_type": "code",
   "execution_count": 43,
   "metadata": {},
   "outputs": [],
   "source": [
    "# defining a progress bar to keep track of the ODE ensemble solver progress\n",
    "# Main.eval(\"using ProgressMeter\")\n",
    "# Main.eval('const pbar = Progress(50, 1, \"ODE Solving \", 50)')"
   ]
  },
  {
   "cell_type": "code",
   "execution_count": 44,
   "metadata": {},
   "outputs": [],
   "source": [
    "# function called every time on the when an ODE solve is ready\n",
    "# only save the integral of the excited state population of each trajectory\n",
    "Main.eval(f\"\"\"\n",
    "@everywhere function output_func(sol,i)\n",
    "    return trapz(sol.t, [real(sum(diag(sol.u[j])[{n_states}])) for j in 1:size(sol.u)[1]]), false\n",
    "end\"\"\")"
   ]
  },
  {
   "cell_type": "code",
   "execution_count": 45,
   "metadata": {},
   "outputs": [],
   "source": [
    "Main.eval(\"\"\"\n",
    "tspan = (0.0f0, 300e-6)\n",
    "prob = ODEProblem(Lindblad_rhs!,ρ_ini,tspan,p);\n",
    "\"\"\");"
   ]
  },
  {
   "cell_type": "code",
   "execution_count": 46,
   "metadata": {},
   "outputs": [],
   "source": [
    "# defining the function that changes the ODE parameters for each iteration\n",
    "Main.eval(\"\"\"\n",
    "@everywhere function prob_func(prob,i,repeat)\n",
    "    remake(prob, p = [Ωl, params[i], Δ1, Ωμ, params[i], Δ2])\n",
    "end\n",
    "\"\"\")"
   ]
  },
  {
   "cell_type": "code",
   "execution_count": 47,
   "metadata": {},
   "outputs": [],
   "source": [
    "# setting up the EnsembleProblem with the earlier defined ODEProblem\n",
    "Main.eval(\"\"\"\n",
    "ens_prob = EnsembleProblem(prob, prob_func = prob_func, output_func = output_func);\n",
    "\"\"\");"
   ]
  },
  {
   "cell_type": "code",
   "execution_count": 48,
   "metadata": {},
   "outputs": [
    {
     "data": {
      "text/plain": [
       "63.9462077"
      ]
     },
     "execution_count": 48,
     "metadata": {},
     "output_type": "execute_result"
    }
   ],
   "source": [
    "Main.eval(\"\"\"\n",
    "@time sim = solve(ens_prob, Tsit5(), EnsembleDistributed(), save_start = true, save_end = true, \n",
    "            save_everystep = true; trajectories = size(params)[1], dt = 1e-9, adaptive=true,\n",
    "            abstol = 5e-7, reltol = 5e-4)\n",
    "sim.elapsedTime\n",
    "\"\"\")"
   ]
  },
  {
   "cell_type": "code",
   "execution_count": 49,
   "metadata": {},
   "outputs": [],
   "source": [
    "results_νs = Main.eval(\"sim.u\")"
   ]
  },
  {
   "cell_type": "code",
   "execution_count": 50,
   "metadata": {},
   "outputs": [
    {
     "data": {
      "image/png": "[encoded data removed]",
      "text/plain": [
       "<Figure size 576x360 with 1 Axes>"
      ]
     },
     "metadata": {
      "needs_background": "light"
     },
     "output_type": "display_data"
    }
   ],
   "source": [
    "νs = Main.params\n",
    "fig, ax = plt.subplots(figsize = (8,5))\n",
    "\n",
    "ax.plot(νs/1e6, results_νs*Γ, lw = 3)\n",
    "ax.set_xlabel('polarization switching frequency [MHz]')\n",
    "ax.set_ylabel('photons per molecule')\n",
    "\n",
    "set_fontsize(ax, 14)"
   ]
  },
  {
   "cell_type": "code",
   "execution_count": 51,
   "metadata": {},
   "outputs": [
    {
     "data": {
      "text/plain": [
       "369576.05985037406"
      ]
     },
     "execution_count": 51,
     "metadata": {},
     "output_type": "execute_result"
    }
   ],
   "source": [
    "νs[np.argmax(results_νs)]"
   ]
  },
  {
   "cell_type": "markdown",
   "metadata": {},
   "source": [
    "### Parameter scan for Ωl and Ωμ"
   ]
  },
  {
   "cell_type": "code",
   "execution_count": 52,
   "metadata": {},
   "outputs": [],
   "source": [
    "Ωls = np.linspace(0,3,31)*Γ\n",
    "Ωμs = np.linspace(0,3,31)*Γ\n",
    "params = np.array(np.meshgrid(Ωls, Ωμs)).T.reshape(-1,2)\n",
    "Main.params = params\n",
    "Main.eval(\"@everywhere params = $params\")"
   ]
  },
  {
   "cell_type": "code",
   "execution_count": 53,
   "metadata": {},
   "outputs": [],
   "source": [
    "# defining the function that changes the ODE parameters for each iteration\n",
    "Main.eval(\"\"\"\n",
    "@everywhere function prob_func(prob,i,repeat)\n",
    "    remake(prob, p = [params[i,1], 0.37e6, Δ1, params[i,2], 0.37e6, Δ2])\n",
    "end\n",
    "\"\"\")"
   ]
  },
  {
   "cell_type": "code",
   "execution_count": 54,
   "metadata": {},
   "outputs": [],
   "source": [
    "# setting up the EnsembleProblem with the earlier defined ODEProblem\n",
    "Main.eval(\"\"\"\n",
    "ens_prob = EnsembleProblem(prob, prob_func = prob_func, output_func = output_func);\n",
    "\"\"\");"
   ]
  },
  {
   "cell_type": "code",
   "execution_count": 55,
   "metadata": {},
   "outputs": [
    {
     "data": {
      "text/plain": [
       "74.3193126"
      ]
     },
     "execution_count": 55,
     "metadata": {},
     "output_type": "execute_result"
    }
   ],
   "source": [
    "Main.eval(\"\"\"\n",
    "@time sim = solve(ens_prob, Tsit5(), EnsembleDistributed(), save_start = true, save_end = true, \n",
    "            save_everystep = true; trajectories = size(params)[1], dt = 1e-9, adaptive=true,\n",
    "            abstol = 5e-7, reltol = 5e-4)\n",
    "sim.elapsedTime\n",
    "\"\"\")"
   ]
  },
  {
   "cell_type": "code",
   "execution_count": 56,
   "metadata": {},
   "outputs": [
    {
     "data": {
      "image/png": "[encoded data removed]",
      "text/plain": [
       "<Figure size 720x576 with 2 Axes>"
      ]
     },
     "metadata": {
      "needs_background": "light"
     },
     "output_type": "display_data"
    }
   ],
   "source": [
    "fig, ax = plt.subplots(figsize = (10,8))\n",
    "\n",
    "tcf = ax.tricontourf(params[:,0]/Γ, params[:,1]/Γ, np.array(Main.eval(\"sim.u\"))*Γ, levels = 15)\n",
    "\n",
    "cbar = fig.colorbar(tcf)\n",
    "\n",
    "ax.set_xlabel('Ωl [Γ]')\n",
    "ax.set_ylabel(r'Ωμ [Γ]')\n",
    "cbar.ax.set_ylabel('photons per molecule')\n",
    "\n",
    "set_fontsize(ax, 14)\n",
    "set_fontsize(cbar.ax, 14)"
   ]
  },
  {
   "cell_type": "code",
   "execution_count": null,
   "metadata": {},
   "outputs": [],
   "source": []
  },
  {
   "cell_type": "code",
   "execution_count": null,
   "metadata": {},
   "outputs": [],
   "source": []
  }
 ],
 "metadata": {
  "kernelspec": {
   "display_name": "Python 3",
   "language": "python",
   "name": "python3"
  },
  "language_info": {
   "codemirror_mode": {
    "name": "ipython",
    "version": 3
   },
   "file_extension": ".py",
   "mimetype": "text/x-python",
   "name": "python",
   "nbconvert_exporter": "python",
   "pygments_lexer": "ipython3",
   "version": "3.8.5"
  }
 },
 "nbformat": 4,
 "nbformat_minor": 4
}
