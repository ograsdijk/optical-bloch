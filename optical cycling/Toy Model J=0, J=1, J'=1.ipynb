{
 "cells": [
  {
   "cell_type": "markdown",
   "metadata": {},
   "source": [
    "# Toy Model J=0, J=1 with two F levels, J'=1\n",
    "All with only mF=0"
   ]
  },
  {
   "cell_type": "code",
   "execution_count": 1,
   "metadata": {},
   "outputs": [],
   "source": [
    "import sys\n",
    "sys.path.append(\"..\")\n",
    "\n",
    "import time\n",
    "import pprint\n",
    "import numpy as np\n",
    "from tqdm import tqdm\n",
    "import multiprocessing\n",
    "from sympy import Symbol\n",
    "import matplotlib.pyplot as plt\n",
    "from utils.plot_utils import set_fontsize\n",
    "from optical_bloch.utils.general import flatten\n",
    "from optical_bloch import Hamiltonian, Dissipator, BlochEquations\n",
    "from multi_helper_funcs import multi_solve_ode, multi_solve_ode_integrate_excited"
   ]
  },
  {
   "cell_type": "code",
   "execution_count": 2,
   "metadata": {},
   "outputs": [],
   "source": [
    "E0 = Symbol(u'E0', real = True)\n",
    "E1 = Symbol(u'E1', real = True)\n",
    "E2 = Symbol(u'E2', real = True)\n",
    "Ee = Symbol(u'Ee', real = True)\n",
    "\n",
    "ωl = Symbol(u'ωl', real = True)\n",
    "Ωl = Symbol(u'Ωl', real = True)\n",
    "ωμ = Symbol(u'ωμ', real = True)\n",
    "Ωμ = Symbol(u'Ωμ', real = True)\n",
    "\n",
    "Δl = Symbol(u'Δl', real = True)\n",
    "Δμ = Symbol(u'Δμ', real = True)\n",
    "\n",
    "a = Symbol('a', real = True)\n",
    "b = Symbol('b', real = True)\n",
    "α = Symbol('α', real = True)\n",
    "β = Symbol('β', real = True)\n",
    "\n",
    "Δ = Symbol('Δ', real = True)"
   ]
  },
  {
   "cell_type": "markdown",
   "metadata": {},
   "source": [
    "Toy model with a single J=0 state coupled via microwaves to J=1 with 2 sublevels, and J=1 is coupled with a laser to J'=1, assuming only mF=0 levels"
   ]
  },
  {
   "cell_type": "code",
   "execution_count": 3,
   "metadata": {},
   "outputs": [],
   "source": [
    "ham = Hamiltonian(4)\n",
    "ham.addEnergies([E0, E1, E2, Ee])\n",
    "ham.addCoupling(1,3,a*Ωl, ωl)\n",
    "ham.addCoupling(2,3,b*Ωl, ωl)\n",
    "ham.addCoupling(0,1,α*Ωμ, ωμ)\n",
    "ham.addCoupling(0,2,β*Ωμ, ωμ)\n",
    "ham.eqnTransform()\n",
    "ham.defineZero(Ee)\n",
    "ham.defineStateDetuning(1,3,Δl)\n",
    "ham.defineStateDetuning(2,3,Δl)\n",
    "ham.defineStateDetuning(0,1,Δμ)\n",
    "ham.defineStateDetuning(0,2,Δμ)"
   ]
  },
  {
   "cell_type": "code",
   "execution_count": 4,
   "metadata": {},
   "outputs": [],
   "source": [
    "Γ21 = Symbol(u'Γ21', real = True)\n",
    "dis = Dissipator(4)\n",
    "dis.addDecay(3,1,Γ21/2)\n",
    "dis.addDecay(3,2,Γ21/2)"
   ]
  },
  {
   "cell_type": "code",
   "execution_count": 5,
   "metadata": {},
   "outputs": [
    {
     "data": {
      "text/latex": [
       "$\\displaystyle \\left[\\begin{matrix}E_{0} & - \\frac{Ωμ α e^{1.0 i t ωμ}}{2} & - \\frac{Ωμ β e^{1.0 i t ωμ}}{2} & 0\\\\- \\frac{Ωμ α e^{- 1.0 i t ωμ}}{2} & E_{1} & 0 & - \\frac{a Ωl e^{1.0 i t ωl}}{2}\\\\- \\frac{Ωμ β e^{- 1.0 i t ωμ}}{2} & 0 & E_{2} & - \\frac{b Ωl e^{1.0 i t ωl}}{2}\\\\0 & - \\frac{a Ωl e^{- 1.0 i t ωl}}{2} & - \\frac{b Ωl e^{- 1.0 i t ωl}}{2} & Ee\\end{matrix}\\right]$"
      ],
      "text/plain": [
       "Matrix([\n",
       "[                      E0,  -Ωμ*α*exp(1.0*I*t*ωμ)/2,  -Ωμ*β*exp(1.0*I*t*ωμ)/2,                       0],\n",
       "[-Ωμ*α*exp(-1.0*I*t*ωμ)/2,                       E1,                        0, -a*Ωl*exp(1.0*I*t*ωl)/2],\n",
       "[-Ωμ*β*exp(-1.0*I*t*ωμ)/2,                        0,                       E2, -b*Ωl*exp(1.0*I*t*ωl)/2],\n",
       "[                       0, -a*Ωl*exp(-1.0*I*t*ωl)/2, -b*Ωl*exp(-1.0*I*t*ωl)/2,                      Ee]])"
      ]
     },
     "execution_count": 5,
     "metadata": {},
     "output_type": "execute_result"
    }
   ],
   "source": [
    "ham.hamiltonian"
   ]
  },
  {
   "cell_type": "code",
   "execution_count": 6,
   "metadata": {},
   "outputs": [],
   "source": [
    "from sympy import nsimplify"
   ]
  },
  {
   "cell_type": "code",
   "execution_count": 7,
   "metadata": {},
   "outputs": [
    {
     "data": {
      "text/latex": [
       "$\\displaystyle \\left[\\begin{matrix}- Δl - Δμ & - \\frac{Ωμ α}{2} & - \\frac{Ωμ β}{2} & 0\\\\- \\frac{Ωμ α}{2} & - Δl & 0 & - \\frac{a Ωl}{2}\\\\- \\frac{Ωμ β}{2} & 0 & Δ - Δl & - \\frac{b Ωl}{2}\\\\0 & - \\frac{a Ωl}{2} & - \\frac{b Ωl}{2} & 0\\end{matrix}\\right]$"
      ],
      "text/plain": [
       "Matrix([\n",
       "[-Δl - Δμ, -Ωμ*α/2, -Ωμ*β/2,       0],\n",
       "[ -Ωμ*α/2,     -Δl,       0, -a*Ωl/2],\n",
       "[ -Ωμ*β/2,       0,  Δ - Δl, -b*Ωl/2],\n",
       "[       0, -a*Ωl/2, -b*Ωl/2,       0]])"
      ]
     },
     "execution_count": 7,
     "metadata": {},
     "output_type": "execute_result"
    }
   ],
   "source": [
    "ham.transformed = nsimplify(ham.transformed)\n",
    "ham.transformed = ham.transformed.subs(-E1+E2, Symbol('Δ', real = True))\n",
    "ham.transformed"
   ]
  },
  {
   "cell_type": "code",
   "execution_count": 8,
   "metadata": {},
   "outputs": [],
   "source": [
    "bloch = BlochEquations(4, dis.density_matrix, ham.transformed, dis.dissipator)"
   ]
  },
  {
   "cell_type": "code",
   "execution_count": 9,
   "metadata": {},
   "outputs": [],
   "source": [
    "y0 = np.zeros([bloch.levels, bloch.levels], dtype = complex)\n",
    "y0[1,1] = 1/2\n",
    "y0[2,2] = 1/2\n",
    "y0 = y0.flatten()"
   ]
  },
  {
   "cell_type": "code",
   "execution_count": 10,
   "metadata": {},
   "outputs": [],
   "source": [
    "Γ21_val = 1\n",
    "replacements = [(Δl, 0),\n",
    "                (Δμ, 0),\n",
    "                (a, 1),\n",
    "                (b, 1),\n",
    "                (α, 1/3),\n",
    "                (β, 2/3),\n",
    "                (Ωl, 0.2*Γ21_val),\n",
    "                (Ωμ, 0.2*Γ21_val),\n",
    "                (Δ, 0*Γ21_val),\n",
    "                (Γ21, Γ21_val)]"
   ]
  },
  {
   "cell_type": "code",
   "execution_count": 11,
   "metadata": {},
   "outputs": [
    {
     "name": "stdout",
     "output_type": "stream",
     "text": [
      "Wall time: 1.15 s\n"
     ]
    }
   ],
   "source": [
    "%%time\n",
    "sol = bloch.solveNumeric(replacements, [0,300], y0, method = 'BDF')"
   ]
  },
  {
   "cell_type": "code",
   "execution_count": 12,
   "metadata": {},
   "outputs": [
    {
     "data": {
      "image/png": "[encoded data removed]",
      "text/plain": [
       "<Figure size 576x360 with 1 Axes>"
      ]
     },
     "metadata": {
      "needs_background": "light"
     },
     "output_type": "display_data"
    }
   ],
   "source": [
    "r = np.einsum(\"iij->ij\", sol.y.reshape(4,4,sol.t.size)).real\n",
    "\n",
    "fig, ax = plt.subplots(figsize = (8,5))\n",
    "ax.plot(sol.t, r[0], label = r'$\\rho_{00}$', lw = 2)\n",
    "ax.plot(sol.t, r[1], label = r'$\\rho_{11}$', lw = 2)\n",
    "ax.plot(sol.t, r[2], label = r'$\\rho_{22}$', lw = 2)\n",
    "ax.plot(sol.t, r[3], label = r'$\\rho_{22}$', lw = 2)\n",
    "\n",
    "ax.legend(fontsize = 13)\n",
    "ax.set_xlabel('time')\n",
    "ax.set_ylabel('population')\n",
    "\n",
    "set_fontsize(ax, 14)"
   ]
  },
  {
   "cell_type": "code",
   "execution_count": 13,
   "metadata": {},
   "outputs": [],
   "source": [
    "from julia import Main"
   ]
  },
  {
   "cell_type": "code",
   "execution_count": null,
   "metadata": {},
   "outputs": [],
   "source": [
    "nprocs = 12 # number of processes to use for EnsembleDistributed\n",
    "Main.eval(f\"\"\"\n",
    "using BenchmarkTools\n",
    "using Distributed\n",
    "\"\"\")\n",
    "\n",
    "if Main.eval(\"nprocs()\") < nprocs:\n",
    "    Main.eval(f\"addprocs({nprocs}-nprocs())\")\n",
    "\n",
    "if Main.eval(\"nprocs()\") > nprocs:\n",
    "    addprocs({nprocs})\n",
    "    procs = Main.eval(\"procs()\")\n",
    "    procs = procs[nprocs:]\n",
    "    Main.eval(f\"rmprocs({procs})\")\n",
    "\n",
    "Main.eval(\"\"\"\n",
    "@everywhere begin\n",
    "    using ModelingToolkit\n",
    "    using LinearAlgebra\n",
    "    using Trapz\n",
    "    using DifferentialEquations\n",
    "    using ModelingToolkit\n",
    "end\n",
    "\"\"\")\n",
    "\n",
    "    \n",
    "Main.eval(\"procs()\")"
   ]
  },
  {
   "cell_type": "code",
   "execution_count": 15,
   "metadata": {},
   "outputs": [],
   "source": [
    "from sympy import MutableDenseMatrix, conjugate, Function, Symbol\n",
    "\n",
    "t = Symbol('t', real = True)\n",
    "\n",
    "hamiltonian_symbols = ham.transformed.free_symbols\n",
    "dissipator_symbols = dis.dissipator.free_symbols\n",
    "dissipator_symbols = set([d for d in dissipator_symbols if str(d)[0] not in ['ρ', 't']])\n",
    "\n",
    "for s in list(hamiltonian_symbols) + list(dissipator_symbols):\n",
    "    Main.eval(f\"\"\"\n",
    "                @everywhere @parameters {str(s)}\n",
    "                tmp = 0\n",
    "            \"\"\");\n",
    "\n",
    "\n",
    "lx, ly = ham.transformed.shape\n",
    "Main.eval(f\"\"\"\n",
    "            @everywhere begin\n",
    "            H = zeros(Num, {lx}, {ly})\n",
    "            L = zeros(Num, {lx}, {ly})\n",
    "            @variables t ρ[1:{lx},1:{ly}](t)\n",
    "            @parameters icomplex\n",
    "            D = Differential(t)\n",
    "            tmp = 0\n",
    "            end\n",
    "            \"\"\");\n",
    "\n",
    "diss = MutableDenseMatrix(dis.dissipator.copy())\n",
    "\n",
    "for i in range(lx):\n",
    "    for j in range(i,ly):\n",
    "        tmp = Function(u'ρ{0}{1}'.format(chr(0x2080+i), \n",
    "                                         chr(0x2080+j)))\n",
    "        tmp1 = Function(u'ρ[{0},{1}]'.format(j+1, i+1))\n",
    "        diss = diss.subs(conjugate(tmp(t)), tmp1(t))\n",
    "            \n",
    "for i in range(lx):\n",
    "    for j in range(i,ly):\n",
    "        tmp = Function(u'ρ{0}{1}'.format(chr(0x2080+i), \n",
    "                                         chr(0x2080+j)))\n",
    "        tmp1 = Function(u'ρ[{0},{1}]'.format(i+1, j+1))\n",
    "        diss = diss.subs(tmp(t), tmp1(t))\n",
    "\n",
    "\n",
    "for idx in range(1,lx+1):\n",
    "    for idy in range(1,ly+1):\n",
    "        hval = str(ham.transformed[idx-1,idy-1])\n",
    "        dval = str(diss[idx-1, idy-1])\n",
    "        dval = dval.replace('(t)', '')\n",
    "        Main.eval(f\"\"\"\n",
    "                @everywhere begin\n",
    "                H[{idx},{idy}] = {hval}\n",
    "                L[{idx},{idy}] = {dval}\n",
    "                tmp = 0\n",
    "                end\n",
    "                \"\"\");\n",
    "        \n",
    "# ham_pars = ham.transformed.free_symbols"
   ]
  },
  {
   "cell_type": "code",
   "execution_count": 16,
   "metadata": {},
   "outputs": [],
   "source": [
    "ham_string = ','.join([str(h) for h in hamiltonian_symbols])\n",
    "diss_string = ','.join([str(d) for d in dissipator_symbols])\n",
    "\n",
    "Main.eval(f\"\"\"\n",
    "@everywhere begin\n",
    "    eq = -icomplex*Symbolics.scalarize(H*ρ-ρ*H) + L\n",
    "    eqns = [D(ρ[idx,idy]) ~ eq[idx,idy] for idx in 1:{lx} for idy in 1:{ly}];\n",
    "    bloch = ODESystem(eqns)\n",
    "\n",
    "    tmp = 0\n",
    "end\n",
    "\"\"\");"
   ]
  },
  {
   "cell_type": "code",
   "execution_count": 17,
   "metadata": {},
   "outputs": [],
   "source": [
    "y0 = np.zeros([ham.levels, ham.levels], dtype = complex)\n",
    "for _ in range(1,3):\n",
    "    y0[_,_] = 1/2\n",
    "Main.ρ_ini = y0\n",
    "Main.eval(\"@everywhere ρ_ini = $ρ_ini\")"
   ]
  },
  {
   "cell_type": "code",
   "execution_count": 21,
   "metadata": {},
   "outputs": [],
   "source": [
    "Main.eval(\"\"\"\n",
    "    @everywhere begin\n",
    "    p = [\n",
    "    Ωl => 1,\n",
    "    Ωμ => 1,\n",
    "    a => 1,\n",
    "    b => 1,\n",
    "    α => 1/3,\n",
    "    β => 2/3,\n",
    "    Δ => 0.12,\n",
    "    Δμ => 0,\n",
    "    Δl => 0,\n",
    "    Γ21 => 1,\n",
    "    icomplex => im\n",
    "    ]\n",
    "    u0 = [ρ[idx,idy] => ρ_ini[idx,idy] for idx in 1:dim for idy in 1:size(ρ_ini)[1]]\n",
    "    tmp =0;\n",
    "end\n",
    "\"\"\");"
   ]
  },
  {
   "cell_type": "code",
   "execution_count": 23,
   "metadata": {},
   "outputs": [],
   "source": [
    "Main.eval(\"\"\"\n",
    "@everywhere begin\n",
    "    tspan = (0.0, 300.)\n",
    "    prob = ODEProblem(bloch, ρ_ini, tspan, p, jac = true)\n",
    "end\n",
    "\"\"\");"
   ]
  },
  {
   "cell_type": "code",
   "execution_count": 24,
   "metadata": {},
   "outputs": [],
   "source": [
    "Main.eval(\"@time sol = solve(prob, Tsit5(), abstol = 1e-10, reltol = 1e-10)\");"
   ]
  },
  {
   "cell_type": "code",
   "execution_count": 25,
   "metadata": {},
   "outputs": [],
   "source": [
    "ut = np.array(Main.eval(\"sol[:]\"))\n",
    "dim = int(np.sqrt(ut.shape[1]))\n",
    "pop_results = np.real(np.einsum('jji->ji',ut.reshape(-1,dim, dim).T))\n",
    "t_array = Main.eval(\"sol.t\") "
   ]
  },
  {
   "cell_type": "code",
   "execution_count": 26,
   "metadata": {},
   "outputs": [
    {
     "data": {
      "image/png": "[encoded data removed]",
      "text/plain": [
       "<Figure size 576x360 with 1 Axes>"
      ]
     },
     "metadata": {
      "needs_background": "light"
     },
     "output_type": "display_data"
    }
   ],
   "source": [
    "fig, ax = plt.subplots(figsize = (8,5))\n",
    "\n",
    "for idx, pop in enumerate(pop_results):\n",
    "    ax.plot(t_array, pop, lw = 2, label = f\"ρ$_{{{idx},{idx}}}$\")\n",
    "\n",
    "ax.set_xlabel('time')\n",
    "ax.set_ylabel('population')\n",
    "ax.legend(fontsize = 14)\n",
    "set_fontsize(ax, 14)"
   ]
  },
  {
   "cell_type": "markdown",
   "metadata": {},
   "source": [
    "## Ensemble Problem $\\Delta = 4$"
   ]
  },
  {
   "cell_type": "code",
   "execution_count": 30,
   "metadata": {},
   "outputs": [],
   "source": [
    "Main.eval(\"\"\"\n",
    "@everywhere function output_func(sol,i)\n",
    "           return trapz(sol.t, [real(sol.u[j][end]) for j in 1:size(sol.u)[1]]), false\n",
    "       end\n",
    "\"\"\")"
   ]
  },
  {
   "cell_type": "code",
   "execution_count": 31,
   "metadata": {},
   "outputs": [],
   "source": [
    "Main.eval(\"\"\"\n",
    "@everywhere function prob_func(prob,i,repeat)\n",
    "    pnew = ModelingToolkit.varmap_to_vars([\n",
    "        Ωl => params[i,1],\n",
    "        Ωμ => params[i,2],\n",
    "        a => 1,\n",
    "        b => 1,\n",
    "        α => 1/3,\n",
    "        β => 2/3,\n",
    "        Δ => 4,\n",
    "        Δμ => 0,\n",
    "        Δl => 0,\n",
    "        Γ21 => 1,\n",
    "        icomplex => im\n",
    "        ], parameters(bloch))\n",
    "   remake(prob, p = pnew)\n",
    "end\n",
    "\"\"\")"
   ]
  },
  {
   "cell_type": "code",
   "execution_count": 32,
   "metadata": {},
   "outputs": [],
   "source": [
    "Ωls = np.linspace(0,20,101)\n",
    "Ωμs = np.linspace(0,20,101)\n",
    "params = np.array(np.meshgrid(Ωls, Ωμs)).T.reshape(-1,2)\n",
    "Main.params = params\n",
    "Main.eval(\"@everywhere params = $params\")"
   ]
  },
  {
   "cell_type": "code",
   "execution_count": 33,
   "metadata": {},
   "outputs": [],
   "source": [
    "Main.eval(\"ens_prob = EnsembleProblem(prob, prob_func = prob_func, output_func = output_func)\");"
   ]
  },
  {
   "cell_type": "code",
   "execution_count": 34,
   "metadata": {},
   "outputs": [
    {
     "data": {
      "text/plain": [
       "44.9642047"
      ]
     },
     "execution_count": 34,
     "metadata": {},
     "output_type": "execute_result"
    }
   ],
   "source": [
    "Main.eval(\"\"\"\n",
    "@time sim = solve(ens_prob, Tsit5(), EnsembleDistributed(), save_start = true, save_end = true,\n",
    "                   save_everystep = true; trajectories = size(params)[1], adaptive=true, \n",
    "                   abstol = 1e-9, reltol =1e-6)\n",
    "sim.elapsedTime\n",
    "\"\"\")"
   ]
  },
  {
   "cell_type": "code",
   "execution_count": 35,
   "metadata": {},
   "outputs": [
    {
     "data": {
      "image/png": "[encoded data removed]",
      "text/plain": [
       "<Figure size 720x576 with 2 Axes>"
      ]
     },
     "metadata": {
      "needs_background": "light"
     },
     "output_type": "display_data"
    }
   ],
   "source": [
    "fig, ax = plt.subplots(figsize = (10,8))\n",
    "\n",
    "tcf = ax.tricontourf(params[:,0], params[:,1], np.array(Main.eval(\"sim.u\")))\n",
    "\n",
    "cbar = fig.colorbar(tcf)\n",
    "\n",
    "ax.set_xlabel('Ωl [Γ]')\n",
    "ax.set_ylabel(r'Ωμ [Γ]')\n",
    "cbar.ax.set_ylabel('photons per molecule')\n",
    "\n",
    "set_fontsize(ax, 14)\n",
    "set_fontsize(cbar.ax, 14)"
   ]
  },
  {
   "cell_type": "markdown",
   "metadata": {},
   "source": [
    "## Ensemble Problem $\\Delta = 0.12$"
   ]
  },
  {
   "cell_type": "code",
   "execution_count": 36,
   "metadata": {},
   "outputs": [],
   "source": [
    "Main.eval(\"\"\"\n",
    "@everywhere function prob_func(prob,i,repeat)\n",
    "    pnew = ModelingToolkit.varmap_to_vars([\n",
    "        Ωl => params[i,1],\n",
    "        Ωμ => params[i,2],\n",
    "        a => 1,\n",
    "        b => 1,\n",
    "        α => 1/3,\n",
    "        β => 2/3,\n",
    "        Δ => 0.12,\n",
    "        Δμ => 0,\n",
    "        Δl => 0,\n",
    "        Γ21 => 1,\n",
    "        icomplex => im\n",
    "        ], parameters(bloch))\n",
    "   remake(prob, p = pnew)\n",
    "end\n",
    "\"\"\")"
   ]
  },
  {
   "cell_type": "code",
   "execution_count": 37,
   "metadata": {},
   "outputs": [],
   "source": [
    "Main.eval(\"ens_prob = EnsembleProblem(prob, prob_func = prob_func, output_func = output_func)\");"
   ]
  },
  {
   "cell_type": "code",
   "execution_count": 38,
   "metadata": {},
   "outputs": [
    {
     "data": {
      "text/plain": [
       "24.9555365"
      ]
     },
     "execution_count": 38,
     "metadata": {},
     "output_type": "execute_result"
    }
   ],
   "source": [
    "Main.eval(\"\"\"\n",
    "@time sim = solve(ens_prob, Tsit5(), EnsembleDistributed(), save_start = true, save_end = true,\n",
    "                   save_everystep = true; trajectories = size(params)[1], adaptive=true, \n",
    "                   abstol = 1e-9, reltol =1e-6)\n",
    "sim.elapsedTime\n",
    "\"\"\")"
   ]
  },
  {
   "cell_type": "code",
   "execution_count": 39,
   "metadata": {},
   "outputs": [
    {
     "data": {
      "image/png": "[encoded data removed]",
      "text/plain": [
       "<Figure size 720x576 with 2 Axes>"
      ]
     },
     "metadata": {
      "needs_background": "light"
     },
     "output_type": "display_data"
    }
   ],
   "source": [
    "fig, ax = plt.subplots(figsize = (10,8))\n",
    "\n",
    "tcf = ax.tricontourf(params[:,0], params[:,1], np.array(Main.eval(\"sim.u\")))\n",
    "\n",
    "cbar = fig.colorbar(tcf)\n",
    "\n",
    "ax.set_xlabel('Ωl [Γ]')\n",
    "ax.set_ylabel(r'Ωμ [Γ]')\n",
    "cbar.ax.set_ylabel('photons per molecule')\n",
    "\n",
    "set_fontsize(ax, 14)\n",
    "set_fontsize(cbar.ax, 14)"
   ]
  },
  {
   "cell_type": "markdown",
   "metadata": {},
   "source": [
    "## Ensemble Problem Scan microwave detuning and energy splitting"
   ]
  },
  {
   "cell_type": "code",
   "execution_count": 41,
   "metadata": {},
   "outputs": [],
   "source": [
    "Δμs = np.linspace(-5,5,101)\n",
    "Δs = np.linspace(0,4,101)\n",
    "params = np.array(np.meshgrid(Δμs, Δs)).T.reshape(-1,2)\n",
    "Main.params = params\n",
    "Main.eval(\"@everywhere params = $params\")"
   ]
  },
  {
   "cell_type": "code",
   "execution_count": 45,
   "metadata": {},
   "outputs": [],
   "source": [
    "Main.eval(\"\"\"\n",
    "@everywhere function prob_func(prob,i,repeat)\n",
    "    pnew = ModelingToolkit.varmap_to_vars([\n",
    "        Ωl => 2.5,\n",
    "        Ωμ => 2.5,\n",
    "        a => 1,\n",
    "        b => 1,\n",
    "        α => 1/3,\n",
    "        β => 2/3,\n",
    "        Δ => params[i,2],\n",
    "        Δμ => params[i,1],\n",
    "        Δl => 0,\n",
    "        Γ21 => 1,\n",
    "        icomplex => im\n",
    "        ], parameters(bloch))\n",
    "   remake(prob, p = pnew)\n",
    "end\n",
    "\"\"\")"
   ]
  },
  {
   "cell_type": "code",
   "execution_count": 46,
   "metadata": {},
   "outputs": [],
   "source": [
    "Main.eval(\"ens_prob = EnsembleProblem(prob, prob_func = prob_func, output_func = output_func)\");"
   ]
  },
  {
   "cell_type": "code",
   "execution_count": 47,
   "metadata": {},
   "outputs": [
    {
     "data": {
      "text/plain": [
       "11.824845"
      ]
     },
     "execution_count": 47,
     "metadata": {},
     "output_type": "execute_result"
    }
   ],
   "source": [
    "Main.eval(\"\"\"\n",
    "@time sim = solve(ens_prob, Tsit5(), EnsembleDistributed(), save_start = true, save_end = true,\n",
    "                   save_everystep = true; trajectories = size(params)[1], adaptive=true, \n",
    "                   abstol = 1e-9, reltol =1e-6)\n",
    "sim.elapsedTime\n",
    "\"\"\")"
   ]
  },
  {
   "cell_type": "code",
   "execution_count": 48,
   "metadata": {},
   "outputs": [
    {
     "data": {
      "image/png": "[encoded data removed]",
      "text/plain": [
       "<Figure size 720x576 with 2 Axes>"
      ]
     },
     "metadata": {
      "needs_background": "light"
     },
     "output_type": "display_data"
    }
   ],
   "source": [
    "fig, ax = plt.subplots(figsize = (10,8))\n",
    "\n",
    "tcf = ax.tricontourf(params[:,0], params[:,1], np.array(Main.eval(\"sim.u\")), levels = 15)\n",
    "\n",
    "cbar = fig.colorbar(tcf)\n",
    "\n",
    "ax.set_xlabel('Δμ [Γ]')\n",
    "ax.set_ylabel(r'Δ [Γ]')\n",
    "cbar.ax.set_ylabel('photons per molecule')\n",
    "\n",
    "set_fontsize(ax, 14)\n",
    "set_fontsize(cbar.ax, 14)"
   ]
  },
  {
   "cell_type": "markdown",
   "metadata": {},
   "source": [
    "# Scans with approximate numbers from real system to J'=1, F'=0 F$_1$' = 1/2\n",
    "a = 0.63  \n",
    "b = 0.37  \n",
    "Δ = 0.12Γ  \n",
    "α = -0.41  \n",
    "β = 0.59  "
   ]
  },
  {
   "cell_type": "code",
   "execution_count": 62,
   "metadata": {},
   "outputs": [],
   "source": [
    "Ωls = np.linspace(0,20,101)\n",
    "Ωμs = np.linspace(0,20,101)\n",
    "params = np.array(np.meshgrid(Ωls, Ωμs)).T.reshape(-1,2)\n",
    "Main.params = params\n",
    "Main.eval(\"@everywhere params = $params\")"
   ]
  },
  {
   "cell_type": "code",
   "execution_count": 63,
   "metadata": {},
   "outputs": [
    {
     "data": {
      "text/plain": [
       "[<PyCall.jlwrap icomplex>,\n",
       " <PyCall.jlwrap α>,\n",
       " <PyCall.jlwrap β>,\n",
       " <PyCall.jlwrap Ωμ>,\n",
       " <PyCall.jlwrap a>,\n",
       " <PyCall.jlwrap Δμ>,\n",
       " <PyCall.jlwrap Ωl>,\n",
       " <PyCall.jlwrap Δl>,\n",
       " <PyCall.jlwrap b>,\n",
       " <PyCall.jlwrap Δ>,\n",
       " <PyCall.jlwrap Γ21>]"
      ]
     },
     "execution_count": 63,
     "metadata": {},
     "output_type": "execute_result"
    }
   ],
   "source": [
    "Main.eval(\"parameters(bloch)\")"
   ]
  },
  {
   "cell_type": "code",
   "execution_count": 64,
   "metadata": {},
   "outputs": [],
   "source": [
    "Main.eval(\"\"\"\n",
    "@everywhere function prob_func(prob,i,repeat)\n",
    "    pnew = ModelingToolkit.varmap_to_vars([\n",
    "        Ωl => params[i,1],\n",
    "        Ωμ => params[i,2],\n",
    "        a => 0.63,\n",
    "        b => 0.37,\n",
    "        α => 0.41,\n",
    "        β => 0.59,\n",
    "        Δ => 0.12,\n",
    "        Δμ => 0,\n",
    "        Δl => 0,\n",
    "        Γ21 => 1,\n",
    "        icomplex => im\n",
    "        ], parameters(bloch))\n",
    "   remake(prob, p = pnew)\n",
    "end\n",
    "\"\"\")"
   ]
  },
  {
   "cell_type": "code",
   "execution_count": 65,
   "metadata": {},
   "outputs": [],
   "source": [
    "Main.eval(\"ens_prob = EnsembleProblem(prob, prob_func = prob_func, output_func = output_func)\");"
   ]
  },
  {
   "cell_type": "code",
   "execution_count": 66,
   "metadata": {},
   "outputs": [
    {
     "data": {
      "text/plain": [
       "23.0020091"
      ]
     },
     "execution_count": 66,
     "metadata": {},
     "output_type": "execute_result"
    }
   ],
   "source": [
    "Main.eval(\"\"\"\n",
    "@time sim = solve(ens_prob, Tsit5(), EnsembleDistributed(), save_start = true, save_end = true,\n",
    "                   save_everystep = true; trajectories = size(params)[1], adaptive=true, \n",
    "                   abstol = 1e-9, reltol =1e-6)\n",
    "sim.elapsedTime\n",
    "\"\"\")"
   ]
  },
  {
   "cell_type": "code",
   "execution_count": 67,
   "metadata": {},
   "outputs": [
    {
     "data": {
      "image/png": "[encoded data removed]",
      "text/plain": [
       "<Figure size 720x576 with 2 Axes>"
      ]
     },
     "metadata": {
      "needs_background": "light"
     },
     "output_type": "display_data"
    }
   ],
   "source": [
    "fig, ax = plt.subplots(figsize = (10,8))\n",
    "\n",
    "tcf = ax.tricontourf(params[:,0], params[:,1], np.array(Main.eval(\"sim.u\")), levels = 15)\n",
    "\n",
    "cbar = fig.colorbar(tcf)\n",
    "\n",
    "ax.set_xlabel('Ωl [Γ]')\n",
    "ax.set_ylabel('Ωμ [Γ]')\n",
    "cbar.ax.set_ylabel('photons per molecule')\n",
    "\n",
    "set_fontsize(ax, 14)\n",
    "set_fontsize(cbar.ax, 14)"
   ]
  },
  {
   "cell_type": "code",
   "execution_count": 68,
   "metadata": {},
   "outputs": [],
   "source": [
    "Δμs = np.linspace(-5,5,101)\n",
    "Ωmus = np.linspace(0,10,101)\n",
    "params = np.array(np.meshgrid(Δμs, Ωmus)).T.reshape(-1,2)\n",
    "Main.params = params\n",
    "Main.eval(\"@everywhere params = $params\")"
   ]
  },
  {
   "cell_type": "code",
   "execution_count": 69,
   "metadata": {},
   "outputs": [],
   "source": [
    "Main.eval(\"\"\"\n",
    "@everywhere function prob_func(prob,i,repeat)\n",
    "    pnew = ModelingToolkit.varmap_to_vars([\n",
    "        Ωl => 2.5,\n",
    "        Ωμ => params[i,2],\n",
    "        a => 0.63,\n",
    "        b => 0.37,\n",
    "        α => 0.41,\n",
    "        β => 0.59,\n",
    "        Δ => 0.12,\n",
    "        Δμ => params[i,1],\n",
    "        Δl => 0,\n",
    "        Γ21 => 1,\n",
    "        icomplex => im\n",
    "        ], parameters(bloch))\n",
    "   remake(prob, p = pnew)\n",
    "end\n",
    "\"\"\")"
   ]
  },
  {
   "cell_type": "code",
   "execution_count": 70,
   "metadata": {},
   "outputs": [],
   "source": [
    "Main.eval(\"\"\"\n",
    "@everywhere function prob_func(prob,i,repeat)\n",
    "           remake(prob, p = [im, 0.41, 0.59, params[i,2], 0.63, params[i,1], 2.5, 0, 0.37, 0.12, 1])\n",
    "       end\n",
    "\"\"\")"
   ]
  },
  {
   "cell_type": "code",
   "execution_count": 71,
   "metadata": {},
   "outputs": [],
   "source": [
    "Main.eval(\"ens_prob = EnsembleProblem(prob, prob_func = prob_func, output_func = output_func)\");"
   ]
  },
  {
   "cell_type": "code",
   "execution_count": 72,
   "metadata": {},
   "outputs": [
    {
     "data": {
      "text/plain": [
       "16.2921755"
      ]
     },
     "execution_count": 72,
     "metadata": {},
     "output_type": "execute_result"
    }
   ],
   "source": [
    "Main.eval(\"\"\"\n",
    "@time sim = solve(ens_prob, Tsit5(), EnsembleDistributed(), save_start = true, save_end = true,\n",
    "                   save_everystep = true; trajectories = size(params)[1], adaptive=true, \n",
    "                   abstol = 1e-9, reltol =1e-6)\n",
    "sim.elapsedTime\n",
    "\"\"\")"
   ]
  },
  {
   "cell_type": "code",
   "execution_count": 73,
   "metadata": {},
   "outputs": [
    {
     "data": {
      "image/png": "[encoded data removed]",
      "text/plain": [
       "<Figure size 720x576 with 2 Axes>"
      ]
     },
     "metadata": {
      "needs_background": "light"
     },
     "output_type": "display_data"
    }
   ],
   "source": [
    "fig, ax = plt.subplots(figsize = (10,8))\n",
    "\n",
    "tcf = ax.tricontourf(params[:,0], params[:,1], np.array(Main.eval(\"sim.u\")), levels = 15)\n",
    "\n",
    "cbar = fig.colorbar(tcf)\n",
    "\n",
    "ax.set_xlabel('Δμ [Γ]')\n",
    "ax.set_ylabel('Ωμ [Γ]')\n",
    "cbar.ax.set_ylabel('photons per molecule')\n",
    "\n",
    "set_fontsize(ax, 14)\n",
    "set_fontsize(cbar.ax, 14)"
   ]
  },
  {
   "cell_type": "code",
   "execution_count": null,
   "metadata": {},
   "outputs": [],
   "source": []
  }
 ],
 "metadata": {
  "kernelspec": {
   "display_name": "Python 3",
   "language": "python",
   "name": "python3"
  },
  "language_info": {
   "codemirror_mode": {
    "name": "ipython",
    "version": 3
   },
   "file_extension": ".py",
   "mimetype": "text/x-python",
   "name": "python",
   "nbconvert_exporter": "python",
   "pygments_lexer": "ipython3",
   "version": "3.8.5"
  }
 },
 "nbformat": 4,
 "nbformat_minor": 4
}
