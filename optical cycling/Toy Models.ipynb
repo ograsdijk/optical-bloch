{
 "cells": [
  {
   "cell_type": "code",
   "execution_count": 1,
   "metadata": {},
   "outputs": [],
   "source": [
    "import time\n",
    "import pprint\n",
    "import numpy as np\n",
    "from tqdm import tqdm\n",
    "from sympy import Symbol\n",
    "import matplotlib.pyplot as plt\n",
    "from optical_bloch.utils.general import flatten\n",
    "from optical_bloch import Hamiltonian, Dissipator, BlochEquations"
   ]
  },
  {
   "cell_type": "code",
   "execution_count": 2,
   "metadata": {},
   "outputs": [],
   "source": [
    "E1 = Symbol(u'E1', real = True)\n",
    "E2 = Symbol(u'E2', real = True)\n",
    "E3 = Symbol(u'E3', real = True)\n",
    "\n",
    "ωl = Symbol(u'ωl', real = True)\n",
    "Ωl = Symbol(u'Ωl', real = True)\n",
    "ωμ = Symbol(u'ωμ', real = True)\n",
    "Ωμ = Symbol(u'Ωμ', real = True)\n",
    "\n",
    "Δl = Symbol(u'Δl', real = True)\n",
    "Δμ = Symbol(u'Δμ', real = True)"
   ]
  },
  {
   "cell_type": "code",
   "execution_count": 3,
   "metadata": {},
   "outputs": [],
   "source": [
    "ham = Hamiltonian(3)\n",
    "ham.addEnergies([E1, E2, E3])\n",
    "ham.addCoupling(1,2,Ωl, ωl)\n",
    "ham.addCoupling(0,1,Ωμ, ωμ)\n",
    "ham.eqnTransform()\n",
    "ham.defineZero(E2)\n",
    "ham.defineStateDetuning(1,2,Δl)\n",
    "ham.defineStateDetuning(0,1,Δμ)"
   ]
  },
  {
   "cell_type": "code",
   "execution_count": 4,
   "metadata": {},
   "outputs": [],
   "source": [
    "Γ21 = Symbol(u'Γ12', real = True)\n",
    "dis = Dissipator(3)\n",
    "dis.addDecay(2,1,Γ21)"
   ]
  },
  {
   "cell_type": "code",
   "execution_count": 5,
   "metadata": {},
   "outputs": [
    {
     "data": {
      "text/latex": [
       "$\\displaystyle \\left[\\begin{matrix}E_{1} & - \\frac{Ωμ e^{1.0 i t ωμ}}{2} & 0\\\\- \\frac{Ωμ e^{- 1.0 i t ωμ}}{2} & E_{2} & - \\frac{Ωl e^{1.0 i t ωl}}{2}\\\\0 & - \\frac{Ωl e^{- 1.0 i t ωl}}{2} & E_{3}\\end{matrix}\\right]$"
      ],
      "text/plain": [
       "Matrix([\n",
       "[                    E1,  -Ωμ*exp(1.0*I*t*ωμ)/2,                     0],\n",
       "[-Ωμ*exp(-1.0*I*t*ωμ)/2,                     E2, -Ωl*exp(1.0*I*t*ωl)/2],\n",
       "[                     0, -Ωl*exp(-1.0*I*t*ωl)/2,                    E3]])"
      ]
     },
     "execution_count": 5,
     "metadata": {},
     "output_type": "execute_result"
    }
   ],
   "source": [
    "ham.hamiltonian"
   ]
  },
  {
   "cell_type": "code",
   "execution_count": 6,
   "metadata": {},
   "outputs": [
    {
     "data": {
      "text/latex": [
       "$\\displaystyle \\left[\\begin{matrix}1.0 E_{3} - 1.0 Δl - 1.0 Δμ & - \\frac{Ωμ}{2} & 0\\\\- \\frac{Ωμ}{2} & 1.0 E_{3} - 1.0 Δl & - \\frac{Ωl}{2}\\\\0 & - \\frac{Ωl}{2} & E_{3}\\end{matrix}\\right]$"
      ],
      "text/plain": [
       "Matrix([\n",
       "[1.0*E3 - 1.0*Δl - 1.0*Δμ,           -Ωμ/2,     0],\n",
       "[                   -Ωμ/2, 1.0*E3 - 1.0*Δl, -Ωl/2],\n",
       "[                       0,           -Ωl/2,    E3]])"
      ]
     },
     "execution_count": 6,
     "metadata": {},
     "output_type": "execute_result"
    }
   ],
   "source": [
    "ham.transformed"
   ]
  },
  {
   "cell_type": "code",
   "execution_count": 49,
   "metadata": {},
   "outputs": [],
   "source": [
    "replacements = [(Δμ, 0),\n",
    "                (Δl, 0),\n",
    "                (Ωμ, 0.2),\n",
    "                (Ωl, 0.2),\n",
    "                (E3, 0),\n",
    "                (Γ21, 0.5)]"
   ]
  },
  {
   "cell_type": "code",
   "execution_count": 50,
   "metadata": {},
   "outputs": [],
   "source": [
    "bloch = BlochEquations(3, dis.density_matrix, ham.transformed, dis.dissipator)"
   ]
  },
  {
   "cell_type": "code",
   "execution_count": 51,
   "metadata": {},
   "outputs": [
    {
     "name": "stdout",
     "output_type": "stream",
     "text": [
      "\n",
      "1.119s to solve 3 level steady-state optical bloch equations\n",
      "Steady-state solution :\n",
      "\n",
      "ρ₀₀             : (0.5*Γ12**2 + 2.0*Δl**2 + 2.0*Δμ*(2.0*Δl + Δμ) + 0.5*Ωμ**2)/(Γ12**2 + 4.0*Δl**2 + 4.0*Δl*Δμ + 2.0*Δμ**2 + Ωl**2 + Ωμ**2)\n",
      "ρ₀₁             : Ωμ*(2.0*Δl + Δμ)/(Γ12**2 + 4.0*Δl**2 + 4.0*Δl*Δμ + 2.0*Δμ**2 + Ωl**2 + Ωμ**2)\n",
      "ρ₀₂             : 0.5*Ωl*Ωμ/(Γ12**2 + 4.0*Δl**2 + 4.0*Δl*Δμ + 2.0*Δμ**2 + Ωl**2 + Ωμ**2)\n",
      "ρ₁₁             : 0.5*(Γ12**2 + 4.0*Δl**2 + Ωl**2 + Ωμ**2)/(Γ12**2 + 4.0*Δl**2 + 4.0*Δl*Δμ + 2.0*Δμ**2 + Ωl**2 + Ωμ**2)\n",
      "ρ₁₂             : 0.5*Ωl*(-I*Γ12 + 2.0*Δl)/(Γ12**2 + 4.0*Δl**2 + 4.0*Δl*Δμ + 2.0*Δμ**2 + Ωl**2 + Ωμ**2)\n",
      "ρ₂₂             : 0.5*Ωl**2/(Γ12**2 + 4.0*Δl**2 + 4.0*Δl*Δμ + 2.0*Δμ**2 + Ωl**2 + Ωμ**2)\n"
     ]
    }
   ],
   "source": [
    "tstart = time.time()\n",
    "sol = bloch.solveSteadyStateSymbolic([])\n",
    "print(f\"\\n{time.time() - tstart:.3f}s to solve 3 level steady-state optical bloch equations\")\n",
    "print(\"Steady-state solution :\\n\")\n",
    "for key in flatten([bloch.density_matrix_steady_state[i,i:] for i in \\\n",
    "                    range(bloch.density_matrix_steady_state.rows)]):\n",
    "    try:\n",
    "        print(f\"{str(key):<15} : {sol[key]:.3f}\")\n",
    "    except:\n",
    "        print(f\"{str(key):<15} : {str(sol[key])}\")"
   ]
  },
  {
   "cell_type": "code",
   "execution_count": 52,
   "metadata": {},
   "outputs": [],
   "source": [
    "y0 = np.zeros([bloch.levels, bloch.levels], dtype = complex)\n",
    "y0[1,1] = 1\n",
    "y0 = y0.flatten()"
   ]
  },
  {
   "cell_type": "code",
   "execution_count": 65,
   "metadata": {},
   "outputs": [],
   "source": [
    "replacements = [(Δμ, 0),\n",
    "                (Δl, 0),\n",
    "                (Ωμ, 0),\n",
    "                (Ωl, 0.2),\n",
    "                (E3, 0),\n",
    "                (Γ21, 1)]"
   ]
  },
  {
   "cell_type": "code",
   "execution_count": 66,
   "metadata": {},
   "outputs": [
    {
     "name": "stdout",
     "output_type": "stream",
     "text": [
      "Wall time: 821 ms\n"
     ]
    }
   ],
   "source": [
    "%%time\n",
    "sol = bloch.solveNumeric(replacements, [0,400], y0, method = 'BDF')"
   ]
  },
  {
   "cell_type": "code",
   "execution_count": 67,
   "metadata": {},
   "outputs": [
    {
     "data": {
      "image/png": "[encoded data removed]",
      "text/plain": [
       "<Figure size 720x576 with 1 Axes>"
      ]
     },
     "metadata": {
      "needs_background": "light"
     },
     "output_type": "display_data"
    }
   ],
   "source": [
    "fig, ax = plt.subplots(figsize = (8,5))\n",
    "ax.plot(sol.t, sol.y[0].real, label = r'$\\rho_{00}$', lw = 2)\n",
    "ax.plot(sol.t, sol.y[4].real, label = r'$\\rho_{11}$', lw = 2)\n",
    "ax.plot(sol.t, sol.y[8].real, label = r'$\\rho_{22}$', lw = 2)\n",
    "ax.legend(fontsize = 13)\n",
    "ax.set_xlabel('time')\n",
    "ax.set_ylabel('population')\n",
    "plt.show()"
   ]
  },
  {
   "cell_type": "code",
   "execution_count": 81,
   "metadata": {},
   "outputs": [
    {
     "name": "stderr",
     "output_type": "stream",
     "text": [
      "100%|████████████████████████████████████████████████████████████████████████████████████| 5/5 [06:50<00:00, 82.17s/it]\n"
     ]
    }
   ],
   "source": [
    "results = {}\n",
    "for Ωi in tqdm(np.linspace(0,1,5)):\n",
    "    res = []\n",
    "    for Δi in np.linspace(-7,7,101):\n",
    "        replacements = [(Δμ, Δi),\n",
    "                    (Δl, 0),\n",
    "                    (Ωμ, Ωi),\n",
    "                    (Ωl, 0.2),\n",
    "                    (E3, 0),\n",
    "                    (Γ21, 1)]\n",
    "        sol = bloch.solveNumeric(replacements, [0,400], y0, method = 'BDF')\n",
    "        res.append(np.trapz(sol.y[8].real, sol.t))\n",
    "    results[Ωi] = res"
   ]
  },
  {
   "cell_type": "code",
   "execution_count": 83,
   "metadata": {},
   "outputs": [
    {
     "data": {
      "text/plain": [
       "<matplotlib.legend.Legend at 0x189d6e43df0>"
      ]
     },
     "execution_count": 83,
     "metadata": {},
     "output_type": "execute_result"
    },
    {
     "data": {
      "image/png": "[encoded data removed]",
      "text/plain": [
       "<Figure size 576x360 with 1 Axes>"
      ]
     },
     "metadata": {
      "needs_background": "light"
     },
     "output_type": "display_data"
    }
   ],
   "source": [
    "fig, ax = plt.subplots(figsize = (8,5))\n",
    "for Ωi, res in results.items():\n",
    "    ax.plot(np.linspace(-7,7,101), res, label = f'Ωμ = {Ωi}')\n",
    "ax.set_xlabel('Δμ')\n",
    "ax.set_ylabel('photons per molecule')\n",
    "ax.legend()"
   ]
  },
  {
   "cell_type": "code",
   "execution_count": 88,
   "metadata": {},
   "outputs": [
    {
     "name": "stderr",
     "output_type": "stream",
     "text": [
      "100%|██████████████████████████████████████████████████████████████████████████████████| 51/51 [00:41<00:00,  1.23it/s]\n"
     ]
    }
   ],
   "source": [
    "results_Ω = []\n",
    "for Ωi in tqdm(np.linspace(0,5,51)):\n",
    "    replacements = [(Δμ, 0),\n",
    "                (Δl, 0),\n",
    "                (Ωμ, 0),\n",
    "                (Ωl, Ωi),\n",
    "                (E3, 0),\n",
    "                (Γ21, 1)]\n",
    "    sol = bloch.solveNumeric(replacements, [0,400], y0, method = 'BDF')\n",
    "    results_Ω.append(np.trapz(sol.y[8].real, sol.t))"
   ]
  },
  {
   "cell_type": "code",
   "execution_count": 90,
   "metadata": {},
   "outputs": [
    {
     "data": {
      "text/plain": [
       "Text(0, 0.5, 'photons per molecule')"
      ]
     },
     "execution_count": 90,
     "metadata": {},
     "output_type": "execute_result"
    },
    {
     "data": {
      "image/png": "[encoded data removed]",
      "text/plain": [
       "<Figure size 576x360 with 1 Axes>"
      ]
     },
     "metadata": {
      "needs_background": "light"
     },
     "output_type": "display_data"
    }
   ],
   "source": [
    "fig, ax = plt.subplots(figsize = (8,5))\n",
    "ax.plot(np.linspace(0,5,51), results_Ω)\n",
    "ax.set_xlabel('Ωl')\n",
    "ax.set_ylabel('photons per molecule')"
   ]
  },
  {
   "cell_type": "code",
   "execution_count": null,
   "metadata": {},
   "outputs": [],
   "source": []
  },
  {
   "cell_type": "code",
   "execution_count": 20,
   "metadata": {},
   "outputs": [],
   "source": [
    "E1 = Symbol(u'E1', real = True)\n",
    "E2 = Symbol(u'E2', real = True)\n",
    "E3 = Symbol(u'E3', real = True)\n",
    "\n",
    "ωl = Symbol(u'ωl', real = True)\n",
    "Ωl = Symbol(u'Ωl', real = True)\n",
    "ωμ = Symbol(u'ωμ', real = True)\n",
    "Ωμ = Symbol(u'Ωμ', real = True)\n",
    "\n",
    "Δl = Symbol(u'Δl', real = True)\n",
    "Δμ = Symbol(u'Δμ', real = True)"
   ]
  },
  {
   "cell_type": "code",
   "execution_count": 22,
   "metadata": {},
   "outputs": [],
   "source": [
    "ham = Hamiltonian(7)\n",
    "ham.addEnergies([E1, E1, E1, E2, E2, E2, E3])\n",
    "ham.addCoupling(4,6,Ωl, ωl)\n",
    "ham.addCoupling(1,4,Ωμ, ωμ)\n",
    "ham.eqnTransform()\n",
    "ham.defineZero(E2)\n",
    "ham.defineStateDetuning(4,6,Δl)\n",
    "ham.defineStateDetuning(1,4,Δμ)"
   ]
  },
  {
   "cell_type": "code",
   "execution_count": 27,
   "metadata": {},
   "outputs": [],
   "source": [
    "Γ21 = Symbol(u'Γ12', real = True)\n",
    "dis = Dissipator(7)\n",
    "dis.addDecay(6,3,Γ21)\n",
    "dis.addDecay(6,4,Γ21)\n",
    "dis.addDecay(6,5,Γ21)"
   ]
  },
  {
   "cell_type": "code",
   "execution_count": 28,
   "metadata": {},
   "outputs": [
    {
     "data": {
      "text/latex": [
       "$\\displaystyle \\left[\\begin{matrix}E_{1} & 0 & 0 & 0 & 0 & 0 & 0\\\\0 & E_{1} & 0 & 0 & - \\frac{Ωμ e^{1.0 i t ωμ}}{2} & 0 & 0\\\\0 & 0 & E_{1} & 0 & 0 & 0 & 0\\\\0 & 0 & 0 & E_{2} & 0 & 0 & 0\\\\0 & - \\frac{Ωμ e^{- 1.0 i t ωμ}}{2} & 0 & 0 & E_{2} & 0 & - \\frac{Ωl e^{1.0 i t ωl}}{2}\\\\0 & 0 & 0 & 0 & 0 & E_{2} & 0\\\\0 & 0 & 0 & 0 & - \\frac{Ωl e^{- 1.0 i t ωl}}{2} & 0 & E_{3}\\end{matrix}\\right]$"
      ],
      "text/plain": [
       "Matrix([\n",
       "[E1,                      0,  0,  0,                      0,  0,                     0],\n",
       "[ 0,                     E1,  0,  0,  -Ωμ*exp(1.0*I*t*ωμ)/2,  0,                     0],\n",
       "[ 0,                      0, E1,  0,                      0,  0,                     0],\n",
       "[ 0,                      0,  0, E2,                      0,  0,                     0],\n",
       "[ 0, -Ωμ*exp(-1.0*I*t*ωμ)/2,  0,  0,                     E2,  0, -Ωl*exp(1.0*I*t*ωl)/2],\n",
       "[ 0,                      0,  0,  0,                      0, E2,                     0],\n",
       "[ 0,                      0,  0,  0, -Ωl*exp(-1.0*I*t*ωl)/2,  0,                    E3]])"
      ]
     },
     "execution_count": 28,
     "metadata": {},
     "output_type": "execute_result"
    }
   ],
   "source": [
    "ham.hamiltonian"
   ]
  },
  {
   "cell_type": "code",
   "execution_count": 29,
   "metadata": {},
   "outputs": [
    {
     "data": {
      "text/latex": [
       "$\\displaystyle \\left[\\begin{matrix}E_{1} & 0 & 0 & 0 & 0 & 0 & 0\\\\0 & 1.0 E_{3} - 1.0 Δl - 1.0 Δμ & 0 & 0 & - \\frac{Ωμ}{2} & 0 & 0\\\\0 & 0 & E_{1} & 0 & 0 & 0 & 0\\\\0 & 0 & 0 & 0 & 0 & 0 & 0\\\\0 & - \\frac{Ωμ}{2} & 0 & 0 & 1.0 E_{3} - 1.0 Δl & 0 & - \\frac{Ωl}{2}\\\\0 & 0 & 0 & 0 & 0 & 0 & 0\\\\0 & 0 & 0 & 0 & - \\frac{Ωl}{2} & 0 & E_{3}\\end{matrix}\\right]$"
      ],
      "text/plain": [
       "Matrix([\n",
       "[E1,                        0,  0, 0,               0, 0,     0],\n",
       "[ 0, 1.0*E3 - 1.0*Δl - 1.0*Δμ,  0, 0,           -Ωμ/2, 0,     0],\n",
       "[ 0,                        0, E1, 0,               0, 0,     0],\n",
       "[ 0,                        0,  0, 0,               0, 0,     0],\n",
       "[ 0,                    -Ωμ/2,  0, 0, 1.0*E3 - 1.0*Δl, 0, -Ωl/2],\n",
       "[ 0,                        0,  0, 0,               0, 0,     0],\n",
       "[ 0,                        0,  0, 0,           -Ωl/2, 0,    E3]])"
      ]
     },
     "execution_count": 29,
     "metadata": {},
     "output_type": "execute_result"
    }
   ],
   "source": [
    "ham.transformed"
   ]
  },
  {
   "cell_type": "code",
   "execution_count": 30,
   "metadata": {},
   "outputs": [],
   "source": [
    "bloch = BlochEquations(7, dis.density_matrix, ham.transformed, dis.dissipator)"
   ]
  },
  {
   "cell_type": "code",
   "execution_count": 31,
   "metadata": {},
   "outputs": [],
   "source": [
    "y0 = np.zeros([bloch.levels, bloch.levels], dtype = complex)\n",
    "y0[3,3] = 1/3\n",
    "y0[4,4] = 1/3\n",
    "y0[5,5] = 1/3\n",
    "y0 = y0.flatten()"
   ]
  },
  {
   "cell_type": "code",
   "execution_count": 37,
   "metadata": {},
   "outputs": [],
   "source": [
    "replacements = [(Δμ, 0),\n",
    "                (Δl, 0),\n",
    "                (Ωμ, 0),\n",
    "                (Ωl, 0.2),\n",
    "                (E1, -10e3),\n",
    "                (E3, 1e9),\n",
    "                (Γ21, 1/3)]"
   ]
  },
  {
   "cell_type": "code",
   "execution_count": 38,
   "metadata": {},
   "outputs": [
    {
     "name": "stdout",
     "output_type": "stream",
     "text": [
      "Wall time: 1.64 s\n"
     ]
    }
   ],
   "source": [
    "%%time\n",
    "sol = bloch.solveNumeric(replacements, [0,400], y0, method = 'BDF')"
   ]
  },
  {
   "cell_type": "code",
   "execution_count": 68,
   "metadata": {},
   "outputs": [
    {
     "data": {
      "image/png": "[encoded data removed]",
      "text/plain": [
       "<Figure size 576x360 with 1 Axes>"
      ]
     },
     "metadata": {
      "needs_background": "light"
     },
     "output_type": "display_data"
    }
   ],
   "source": [
    "r = np.einsum(\"iij->ij\", sol.y.reshape(7,7,sol.t.size)).real\n",
    "fig, ax = plt.subplots(figsize = (8,5))\n",
    "ax.plot(sol.t, r[0:3].sum(axis = 0), label = r'J=0', lw = 2)\n",
    "ax.plot(sol.t, r[3], label = r'J=1, m=-1', lw = 2)\n",
    "ax.plot(sol.t, r[4], label = r'J=1, m=0', lw = 2)\n",
    "ax.plot(sol.t, r[5], label = r'J=1, m=+1', lw = 2, ls = '--')\n",
    "ax.plot(sol.t, r[6], label = r\"J'=1\", lw = 2)\n",
    "ax.legend(fontsize = 13)\n",
    "ax.set_xlabel('time')\n",
    "ax.set_ylabel('population')\n",
    "plt.show()"
   ]
  },
  {
   "cell_type": "code",
   "execution_count": null,
   "metadata": {},
   "outputs": [],
   "source": []
  }
 ],
 "metadata": {
  "kernelspec": {
   "display_name": "Python 3",
   "language": "python",
   "name": "python3"
  },
  "language_info": {
   "codemirror_mode": {
    "name": "ipython",
    "version": 3
   },
   "file_extension": ".py",
   "mimetype": "text/x-python",
   "name": "python",
   "nbconvert_exporter": "python",
   "pygments_lexer": "ipython3",
   "version": "3.8.5"
  }
 },
 "nbformat": 4,
 "nbformat_minor": 4
}
