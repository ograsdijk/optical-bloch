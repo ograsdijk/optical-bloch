{
 "cells": [
  {
   "cell_type": "code",
   "execution_count": 1,
   "metadata": {},
   "outputs": [],
   "source": [
    "%load_ext autoreload\n",
    "%autoreload 2\n",
    "\n",
    "import sys\n",
    "sys.path.append(\"..\")\n",
    "\n",
    "import h5py\n",
    "import scipy\n",
    "import sympy\n",
    "import pickle\n",
    "import numpy as np\n",
    "from tqdm import tqdm\n",
    "from pathlib import Path\n",
    "import matplotlib.pyplot as plt\n",
    "from scipy.sparse import csr_matrix\n",
    "from sympy import Symbol, zeros, Function, MatrixSymbol\n",
    "\n",
    "# import created modules\n",
    "from hamiltonian.states import CoupledBasisState\n",
    "from hamiltonian.generate_hamiltonian import generate_X_hamiltonian_function, generate_B_hamiltonian_function, \\\n",
    "                                                generate_diagonalized_hamiltonian\n",
    "from hamiltonian.utils import ni_range, matrix_to_states, find_exact_states, reduced_basis_hamiltonian, \\\n",
    "                                find_state_idx_from_state, reorder_evecs, generate_coupled_ground_states\n",
    "\n",
    "from couplings.utils import ED_ME_mixed_state, collapse_matrices, generate_superoperator, \\\n",
    "                            generate_flat_superoperator, generate_sharp_superoperator\n",
    "from couplings.generate_coupling import optical_coupling_matrix, microwave_coupling_matrix, \\\n",
    "                                        generate_laser_D, generate_microwave_D\n",
    "\n",
    "from symbolic import generate_density_matrix_symbolic, generate_system_of_equations, generate_symbolic_hamiltonian,\\\n",
    "                        system_of_equations_to_lines, generate_symbolic_detunings\n",
    "from symbolic.utils import subs_rabi_rate\n",
    "\n",
    "from utils.plot_utils import set_fontsize\n",
    "from utils import population, J_levels, J_slice, delete_J_level\n",
    "\n",
    "from optical_bloch.utils.general import flatten\n",
    "from optical_bloch import Hamiltonian, Dissipator, BlochEquations"
   ]
  },
  {
   "cell_type": "code",
   "execution_count": 2,
   "metadata": {},
   "outputs": [
    {
     "data": {
      "text/plain": [
       "WindowsPath('C:/Users/Olivier/Documents/GitHub/optical-bloch')"
      ]
     },
     "execution_count": 2,
     "metadata": {},
     "output_type": "execute_result"
    }
   ],
   "source": [
    "script_dir = Path().parent.absolute().parent\n",
    "script_dir"
   ]
  },
  {
   "cell_type": "markdown",
   "metadata": {},
   "source": [
    "## X-state\n",
    "\n",
    "Define what states from the $X ^1\\Sigma$ electronic state are to be included in the simulation."
   ]
  },
  {
   "cell_type": "code",
   "execution_count": 3,
   "metadata": {},
   "outputs": [],
   "source": [
    "Js_g = [0,1] # J values to be included\n",
    "\n",
    "parity = lambda J: (-1)**J\n",
    "\n",
    "# generate a list of approximate ground states\n",
    "\n",
    "I_F = 1/2\n",
    "I_Tl = 1/2\n",
    "\n",
    "#Generate a list of approximate ground states. The exact ground states are determined within the main\n",
    "#simulation function\n",
    "ground_states_approx = [1*CoupledBasisState(F,mF,F1,J,I_F,I_Tl, electronic_state='X', P = (-1)**J, Omega = 0)\n",
    "                  for J  in Js_g\n",
    "                  for F1 in ni_range(np.abs(J-I_F),J+I_F+1)\n",
    "                  for F in ni_range(np.abs(F1-I_Tl),F1+I_Tl+1)\n",
    "                  for mF in ni_range(-F, F+1)\n",
    "                 ]"
   ]
  },
  {
   "cell_type": "code",
   "execution_count": 4,
   "metadata": {},
   "outputs": [
    {
     "name": "stdout",
     "output_type": "stream",
     "text": [
      "+1.0000+0.0000j x |X, J = 0, F1 = 1/2, F = 0, mF = 0, I1 = 1/2, I2 = 1/2, P = 1, Omega = 0>\n",
      "+1.0000+0.0000j x |X, J = 0, F1 = 1/2, F = 1, mF = -1, I1 = 1/2, I2 = 1/2, P = 1, Omega = 0>\n",
      "+1.0000+0.0000j x |X, J = 0, F1 = 1/2, F = 1, mF = 0, I1 = 1/2, I2 = 1/2, P = 1, Omega = 0>\n",
      "+1.0000+0.0000j x |X, J = 0, F1 = 1/2, F = 1, mF = 1, I1 = 1/2, I2 = 1/2, P = 1, Omega = 0>\n",
      "+1.0000+0.0000j x |X, J = 1, F1 = 1/2, F = 0, mF = 0, I1 = 1/2, I2 = 1/2, P = -1, Omega = 0>\n",
      "+1.0000+0.0000j x |X, J = 1, F1 = 1/2, F = 1, mF = -1, I1 = 1/2, I2 = 1/2, P = -1, Omega = 0>\n",
      "+1.0000+0.0000j x |X, J = 1, F1 = 1/2, F = 1, mF = 0, I1 = 1/2, I2 = 1/2, P = -1, Omega = 0>\n",
      "+1.0000+0.0000j x |X, J = 1, F1 = 1/2, F = 1, mF = 1, I1 = 1/2, I2 = 1/2, P = -1, Omega = 0>\n",
      "+1.0000+0.0000j x |X, J = 1, F1 = 3/2, F = 1, mF = -1, I1 = 1/2, I2 = 1/2, P = -1, Omega = 0>\n",
      "+1.0000+0.0000j x |X, J = 1, F1 = 3/2, F = 1, mF = 0, I1 = 1/2, I2 = 1/2, P = -1, Omega = 0>\n",
      "+1.0000+0.0000j x |X, J = 1, F1 = 3/2, F = 1, mF = 1, I1 = 1/2, I2 = 1/2, P = -1, Omega = 0>\n",
      "+1.0000+0.0000j x |X, J = 1, F1 = 3/2, F = 2, mF = -2, I1 = 1/2, I2 = 1/2, P = -1, Omega = 0>\n",
      "+1.0000+0.0000j x |X, J = 1, F1 = 3/2, F = 2, mF = -1, I1 = 1/2, I2 = 1/2, P = -1, Omega = 0>\n",
      "+1.0000+0.0000j x |X, J = 1, F1 = 3/2, F = 2, mF = 0, I1 = 1/2, I2 = 1/2, P = -1, Omega = 0>\n",
      "+1.0000+0.0000j x |X, J = 1, F1 = 3/2, F = 2, mF = 1, I1 = 1/2, I2 = 1/2, P = -1, Omega = 0>\n",
      "+1.0000+0.0000j x |X, J = 1, F1 = 3/2, F = 2, mF = 2, I1 = 1/2, I2 = 1/2, P = -1, Omega = 0>\n"
     ]
    }
   ],
   "source": [
    "for s in ground_states_approx:\n",
    "    s.print_state()"
   ]
  },
  {
   "cell_type": "markdown",
   "metadata": {},
   "source": [
    "Now generate the J=0 to J=4 Hamiltonian to get the reduced X state Hamiltonian"
   ]
  },
  {
   "cell_type": "code",
   "execution_count": 5,
   "metadata": {},
   "outputs": [],
   "source": [
    "fname_X = \"TlF_X_state_hamiltonian_J0to4.pickle\"\n",
    "fname_transform = \"UC_to_C_J0to4.pickle\"\n",
    "\n",
    "path_X = script_dir / \"stored_data\" / fname_X\n",
    "path_transform = script_dir / \"stored_data\" / fname_transform\n",
    "\n",
    "with open(path_X, 'rb') as f:\n",
    "    H_X_uc = pickle.load(f)\n",
    "\n",
    "with open(path_transform, 'rb') as f:\n",
    "    S_transform = pickle.load(f)\n",
    "\n",
    "H_X_uc = generate_X_hamiltonian_function(H_X_uc)"
   ]
  },
  {
   "cell_type": "code",
   "execution_count": 6,
   "metadata": {},
   "outputs": [],
   "source": [
    "# generate coupled basis states\n",
    "Jmin = 0\n",
    "Jmax = 4\n",
    "QN_X = generate_coupled_ground_states(ni_range(Jmin, Jmax + 1), electronic_state = 'X',\n",
    "                                       parity = parity, Ω = 0, I_Tl = 1/2, \n",
    "                                       I_F = 1/2)\n",
    "\n",
    "E = np.array([0,0,0])\n",
    "# small magnetic field to ensure m_F is a good quantum number\n",
    "B = np.array([0,0,0.001])\n",
    "\n",
    "H_X = S_transform.conj().T @ H_X_uc(E,B) @ S_transform\n",
    "\n",
    "# diagonalize the Hamiltonian\n",
    "H_X_diag, V, V_ref_X = generate_diagonalized_hamiltonian(H_X, keep_order = True, return_V_ref = True)\n",
    "\n",
    "# new set of quantum numbers:\n",
    "QN_X_diag = matrix_to_states(V, QN_X)\n",
    "\n",
    "ground_states = find_exact_states(ground_states_approx, H_X_diag, QN_X_diag, V_ref = V_ref_X)\n",
    "\n",
    "H_X_red = reduced_basis_hamiltonian(QN_X_diag, H_X_diag, ground_states)"
   ]
  },
  {
   "cell_type": "markdown",
   "metadata": {},
   "source": [
    "## B-state\n",
    "Define what states from the $B ^3\\Pi_1$ electronic state are to be included in the simulation. Only need the states that are coupled to J = 1 in the X-state by the laser."
   ]
  },
  {
   "cell_type": "code",
   "execution_count": 7,
   "metadata": {},
   "outputs": [],
   "source": [
    "I_F = 1/2\n",
    "I_Tl = 1/2\n",
    "\n",
    "# define what states are to be included in the simulation\n",
    "# specify J, F1 and F for each state separately\n",
    "J_excited = [1]\n",
    "F1_excited = [1/2]\n",
    "F_excited = [0]\n",
    "\n",
    "# generate a list of excited states. The exact excited states are determined within the main\n",
    "# simulation function\n",
    "excited_states_approx = [1*CoupledBasisState(F,mF,F1,J,I_F,I_Tl, electronic_state='B', P = 1, Omega = 1)\n",
    "                  for J,F1,F in zip(J_excited, F1_excited, F_excited)\n",
    "                  for mF in ni_range(-F, F+1)\n",
    "                 ]"
   ]
  },
  {
   "cell_type": "code",
   "execution_count": 8,
   "metadata": {},
   "outputs": [
    {
     "name": "stdout",
     "output_type": "stream",
     "text": [
      "+1.0000+0.0000j x |B, J = 1, F1 = 1/2, F = 0, mF = 0, I1 = 1/2, I2 = 1/2, P = 1, Omega = 1>\n"
     ]
    }
   ],
   "source": [
    "for s in excited_states_approx:\n",
    "    s.print_state()"
   ]
  },
  {
   "cell_type": "markdown",
   "metadata": {},
   "source": [
    "Now generate the excited state Hamiltonian to get the reduced B state Hamiltonian"
   ]
  },
  {
   "cell_type": "code",
   "execution_count": 9,
   "metadata": {},
   "outputs": [],
   "source": [
    "fname_B = \"B_hamiltonians_symbolic_coupled_P_1to3.pickle\"\n",
    "\n",
    "path_B = script_dir / \"stored_data\" / fname_B"
   ]
  },
  {
   "cell_type": "code",
   "execution_count": 10,
   "metadata": {},
   "outputs": [],
   "source": [
    "with open(path_B, 'rb') as f:\n",
    "    H_B = pickle.load(f)"
   ]
  },
  {
   "cell_type": "code",
   "execution_count": 11,
   "metadata": {},
   "outputs": [],
   "source": [
    "H_B = generate_B_hamiltonian_function(H_B)*2*np.pi\n",
    "\n",
    "# generate coupled basis states\n",
    "Jmin = 1\n",
    "Jmax = 3\n",
    "Ps = [-1,1]\n",
    "\n",
    "QN_B = [CoupledBasisState(\n",
    "                    F,mF,F1,J,I_F,I_Tl,P = P, Omega = 1, electronic_state='B'\n",
    "                    )\n",
    "        for J  in ni_range(Jmin, Jmax+1)\n",
    "        for F1 in ni_range(np.abs(J-I_F),J+I_F+1)\n",
    "        for F in ni_range(np.abs(F1-I_Tl),F1+I_Tl+1)\n",
    "        for mF in ni_range(-F, F+1)\n",
    "        for P in Ps\n",
    "    ]\n",
    "\n",
    "\n",
    "H_B_diag, V, V_ref_B = generate_diagonalized_hamiltonian(H_B, keep_order = True, return_V_ref = True)\n",
    "\n",
    "# new set of quantum numbers:\n",
    "QN_B_diag = matrix_to_states(V, QN_B)\n",
    "\n",
    "excited_states = find_exact_states(excited_states_approx, H_B_diag, QN_B_diag, V_ref=V_ref_B)\n",
    "\n",
    "H_B_red = reduced_basis_hamiltonian(QN_B_diag, H_B_diag, excited_states)"
   ]
  },
  {
   "cell_type": "markdown",
   "metadata": {},
   "source": [
    "## Total Internal Hamiltonian"
   ]
  },
  {
   "cell_type": "code",
   "execution_count": 12,
   "metadata": {},
   "outputs": [],
   "source": [
    "H_X_red[np.abs(H_X_red) < 0.1] = 0\n",
    "H_B_red[np.abs(H_B_red) < 0.1] = 0\n",
    "\n",
    "H_int = scipy.linalg.block_diag(H_X_red, H_B_red)\n",
    "V_ref_int = np.eye(H_int.shape[0])\n",
    "\n",
    "#Define Hamiltonian in the rotating frame (transformation not applied yet)\n",
    "H_rot = H_int.copy()\n",
    "\n",
    "#Define QN for the total Hamiltonian that includes both X and B\n",
    "QN = ground_states + excited_states"
   ]
  },
  {
   "cell_type": "markdown",
   "metadata": {},
   "source": [
    "## Laser coupling\n",
    "### Calculating transition 1; Q(1), F$_1$'=1/2, F'=0"
   ]
  },
  {
   "cell_type": "code",
   "execution_count": 13,
   "metadata": {},
   "outputs": [],
   "source": [
    "#Define ground states for laser driven transition\n",
    "Js = [1]\n",
    "ground_states_laser_approx =  [1*CoupledBasisState(F,mF,F1,J,I_F,I_Tl, electronic_state='X', P = (-1)**J, Omega = 0)\n",
    "                                  for J  in Js\n",
    "                                  for F1 in ni_range(np.abs(J-I_F),J+I_F+1)\n",
    "                                  for F in ni_range(np.abs(F1-I_Tl),F1+I_Tl+1)\n",
    "                                  for mF in ni_range(-F, F+1)\n",
    "                                 ]\n",
    "\n",
    "#Define excited states for laser\n",
    "# excited_states_laser_approx = [1*CoupledBasisState(\n",
    "#                                 F=0,mF=0,F1=1/2,J=1,I1=1/2,I2=1/2,P = +1, Omega = 1, electronic_state='B'\n",
    "#                                 )\n",
    "#                             ]\n",
    "excited_states_laser_approx = excited_states_approx"
   ]
  },
  {
   "cell_type": "code",
   "execution_count": 14,
   "metadata": {},
   "outputs": [],
   "source": [
    "#Define the \"main\" states. These are used to calculate the detunings and Rabi rates for the transitions\n",
    "ground_main_approx = 1*CoupledBasisState(J=1,F1=1/2,F=1,mF=1,I1=1/2,I2=1/2,electronic_state='X', P = -1, Omega = 0)\n",
    "excited_main_approx = 1*CoupledBasisState(J=1,F1=1/2,F=0,mF=0,I1=1/2,I2=1/2, electronic_state='B', P = +1, Omega = 1)"
   ]
  },
  {
   "cell_type": "code",
   "execution_count": 15,
   "metadata": {},
   "outputs": [],
   "source": [
    "ground_states_laser_1 = find_exact_states(\n",
    "                                ground_states_laser_approx, H_rot, QN, V_ref = V_ref_int\n",
    "                                )\n",
    "excited_states_laser_1 = find_exact_states(\n",
    "                                excited_states_laser_approx, H_rot, QN, V_ref = V_ref_int\n",
    "                                )\n",
    "\n",
    "H_laser_z_1 = optical_coupling_matrix(\n",
    "                                    QN, \n",
    "                                    ground_states_laser_1, \n",
    "                                    excited_states_laser_1, \n",
    "                                    pol_vec = np.array([0,0,1]), \n",
    "                                    reduced = False\n",
    "                                    )\n",
    "H_laser_x_1 = optical_coupling_matrix(\n",
    "                                    QN, \n",
    "                                    ground_states_laser_1, \n",
    "                                    excited_states_laser_1, \n",
    "                                    pol_vec = np.array([1,0,0]), \n",
    "                                    reduced = False\n",
    "                                    )"
   ]
  },
  {
   "cell_type": "code",
   "execution_count": 16,
   "metadata": {},
   "outputs": [],
   "source": [
    "# set small values to zero\n",
    "H_laser_z_1[np.abs(H_laser_z_1) < 1e-3*np.max(np.abs(H_laser_z_1))] = 0\n",
    "H_laser_x_1[np.abs(H_laser_x_1) < 1e-3*np.max(np.abs(H_laser_x_1))] = 0\n",
    "H_laser_z_1[np.abs(H_laser_z_1) < 1e-6] = 0\n",
    "H_laser_x_1[np.abs(H_laser_x_1) < 1e-6] = 0"
   ]
  },
  {
   "cell_type": "code",
   "execution_count": 17,
   "metadata": {},
   "outputs": [
    {
     "name": "stdout",
     "output_type": "stream",
     "text": [
      "(-0.3529061368774218+0j)\n",
      "+1.0000+0.0000j x |X, J = 1, F1 = 1/2, F = 1, mF = 1, I1 = 1/2, I2 = 1/2, P = -1, Omega = 0>\n",
      "----------------------------------------------------------------------------------------------------\n",
      "+0.9961+0.0000j x |X, J = 1, F1 = 1/2, F = 1, mF = 1, I1 = 1/2, I2 = 1/2, P = -1, Omega = 0>\n",
      "====================================================================================================\n",
      "+1.0000+0.0000j x |B, J = 1, F1 = 1/2, F = 0, mF = 0, I1 = 1/2, I2 = 1/2, P = 1, Omega = 1>\n",
      "----------------------------------------------------------------------------------------------------\n",
      "+1.0000+0.0000j x |B, J = 1, F1 = 1/2, F = 0, mF = 0, I1 = 1/2, I2 = 1/2, P = 1, Omega = 1>\n"
     ]
    }
   ],
   "source": [
    "ground_main_1 = find_exact_states([ground_main_approx], H_rot, QN, V_ref = V_ref_int)[0]\n",
    "excited_main_1 = find_exact_states([excited_main_approx], H_rot, QN, V_ref = V_ref_int)[0]\n",
    "\n",
    "ME_main_1 = ED_ME_mixed_state(\n",
    "                        excited_main_1, ground_main_1, pol_vec = np.array([1,0,0])\n",
    "                        )\n",
    "\n",
    "ground_main_idx_1 = QN.index(ground_main_1)\n",
    "excited_main_idx_1 = QN.index(excited_main_1)\n",
    "\n",
    "print(ME_main_1)\n",
    "ground_main_approx.print_state()\n",
    "print('-'*100)\n",
    "ground_main_1.print_state()\n",
    "print('='*100)\n",
    "excited_main_approx.print_state()\n",
    "print('-'*100)\n",
    "excited_main_1.print_state()"
   ]
  },
  {
   "cell_type": "code",
   "execution_count": 18,
   "metadata": {},
   "outputs": [],
   "source": [
    "D1 = generate_laser_D(H_rot, QN, ground_main_1, excited_main_1, excited_states_laser_1, Δ = 0)"
   ]
  },
  {
   "cell_type": "markdown",
   "metadata": {},
   "source": [
    "## Microwave coupling"
   ]
  },
  {
   "cell_type": "code",
   "execution_count": 19,
   "metadata": {},
   "outputs": [],
   "source": [
    "# Define ground states for microwaves\n",
    "Js = [1]\n",
    "ground_states_microwave1_approx =  [1*CoupledBasisState(F,mF,F1,J,I_F,I_Tl, electronic_state='X', P = (-1)**J, Omega = 0)\n",
    "                                  for J  in Js\n",
    "                                  for F1 in ni_range(np.abs(J-I_F),J+I_F+1)\n",
    "                                  for F in ni_range(np.abs(F1-I_Tl),F1+I_Tl+1)\n",
    "                                  for mF in ni_range(-F, F+1)\n",
    "                                 ]\n",
    "\n",
    "# Define excited states for microwaves\n",
    "Je = [0]\n",
    "excited_states_microwave1_approx =  [1*CoupledBasisState(F,mF,F1,J,I_F,I_Tl, electronic_state='X', P = (-1)**J, Omega = 0)\n",
    "                                  for J  in Je\n",
    "                                  for F1 in ni_range(np.abs(J-I_F),J+I_F+1)\n",
    "                                  for F in ni_range(np.abs(F1-I_Tl),F1+I_Tl+1)\n",
    "                                  for mF in ni_range(-F, F+1)\n",
    "                                 ]"
   ]
  },
  {
   "cell_type": "code",
   "execution_count": 20,
   "metadata": {},
   "outputs": [],
   "source": [
    "#Define the \"main\" states. These are used to calculate the detunings and Rabi rates for the transitions\n",
    "ground_μ1_main_approx = 1*CoupledBasisState(J=1,F1=1/2,F=1,mF=1,I1=1/2,I2=1/2,electronic_state='X', P = (-1)**1, Omega = 0)\n",
    "excited_μ1_main_approx = 1*CoupledBasisState(J=0,F1=1/2,F=1,mF=1,I1=1/2,I2=1/2, electronic_state='X', P = (-1)**0, Omega = 0)"
   ]
  },
  {
   "cell_type": "code",
   "execution_count": 21,
   "metadata": {},
   "outputs": [],
   "source": [
    "ground_states_μ1 = find_exact_states(\n",
    "                                ground_states_microwave1_approx, H_rot, QN, V_ref = V_ref_int\n",
    "                                )\n",
    "excited_states_μ1 = find_exact_states(\n",
    "                                excited_states_microwave1_approx, H_rot, QN, V_ref = V_ref_int\n",
    "                                )\n",
    "\n",
    "H_μ1_z = microwave_coupling_matrix(\n",
    "                                    QN, \n",
    "                                    ground_states = ground_states_μ1, \n",
    "                                    excited_states = excited_states_μ1, \n",
    "                                    pol_vec = np.array([0,0,1]), \n",
    "                                    reduced = False\n",
    "                                    )\n",
    "H_μ1_y = microwave_coupling_matrix(\n",
    "                                    QN, \n",
    "                                    ground_states = ground_states_μ1, \n",
    "                                    excited_states = excited_states_μ1, \n",
    "                                    pol_vec = np.array([0,1,0]), \n",
    "                                    reduced = False\n",
    "                                    )"
   ]
  },
  {
   "cell_type": "code",
   "execution_count": 22,
   "metadata": {},
   "outputs": [],
   "source": [
    "# set small values to zero\n",
    "H_μ1_z[np.abs(H_μ1_z) < 1e-3*np.max(np.abs(H_μ1_z))] = 0\n",
    "H_μ1_y[np.abs(H_μ1_y) < 1e-3*np.max(np.abs(H_μ1_y))] = 0"
   ]
  },
  {
   "cell_type": "code",
   "execution_count": 23,
   "metadata": {},
   "outputs": [
    {
     "name": "stdout",
     "output_type": "stream",
     "text": [
      "(-0.35290852811303564+0j)\n",
      "+1.0000+0.0000j x |X, J = 1, F1 = 1/2, F = 1, mF = 1, I1 = 1/2, I2 = 1/2, P = -1, Omega = 0>\n",
      "----------------------------------------------------------------------------------------------------\n",
      "+0.9961+0.0000j x |X, J = 1, F1 = 1/2, F = 1, mF = 1, I1 = 1/2, I2 = 1/2, P = -1, Omega = 0>\n",
      "====================================================================================================\n",
      "+1.0000+0.0000j x |X, J = 0, F1 = 1/2, F = 1, mF = 1, I1 = 1/2, I2 = 1/2, P = 1, Omega = 0>\n",
      "----------------------------------------------------------------------------------------------------\n",
      "+1.0000+0.0000j x |X, J = 0, F1 = 1/2, F = 1, mF = 1, I1 = 1/2, I2 = 1/2, P = 1, Omega = 0>\n"
     ]
    }
   ],
   "source": [
    "ground_μ1_main = find_exact_states([ground_μ1_main_approx], H_rot, QN, V_ref = V_ref_int)[0]\n",
    "excited_μ1_main = find_exact_states([excited_μ1_main_approx], H_rot, QN, V_ref = V_ref_int)[0]\n",
    "\n",
    "ME_μ1_main = ED_ME_mixed_state(\n",
    "                        ground_μ1_main, excited_μ1_main, pol_vec = np.array([0,0,1])\n",
    "                        )\n",
    "\n",
    "ground_μ1_main_idx = QN.index(ground_μ1_main)\n",
    "excited_μ1_main_idx = QN.index(excited_μ1_main)\n",
    "\n",
    "print(ME_μ1_main)\n",
    "ground_μ1_main_approx.print_state()\n",
    "print('-'*100)\n",
    "ground_μ1_main.print_state()\n",
    "print('='*100)\n",
    "excited_μ1_main_approx.print_state()\n",
    "print('-'*100)\n",
    "excited_μ1_main.print_state()"
   ]
  },
  {
   "cell_type": "code",
   "execution_count": 24,
   "metadata": {},
   "outputs": [],
   "source": [
    "D_μ1 = generate_microwave_D(H_rot, QN, ground_μ1_main, excited_μ1_main, excited_states_μ1, Δ = 0)"
   ]
  },
  {
   "cell_type": "markdown",
   "metadata": {},
   "source": [
    "## Generate Symbolic Hamiltonian"
   ]
  },
  {
   "cell_type": "code",
   "execution_count": 25,
   "metadata": {},
   "outputs": [],
   "source": [
    "def generate_coupling(ham, coupling_matrix, Ω, ω):\n",
    "    entries = list(zip(*np.nonzero(coupling_matrix)))[:len(np.nonzero(coupling_matrix)[0])//2]\n",
    "    for id1, id2 in entries:\n",
    "        ham.addCoupling(id1,id2,-1*coupling_matrix[id1,id2]*2*Ω, ω)\n",
    "        \n",
    "def generate_detuning(ham, coupling_matrix, δ):\n",
    "    entries = list(zip(*np.nonzero(coupling_matrix)))[:len(np.nonzero(coupling_matrix)[0])//2]\n",
    "    for id1, id2 in entries:\n",
    "        ham.defineStateDetuning(id1,id2,δ)"
   ]
  },
  {
   "cell_type": "code",
   "execution_count": 26,
   "metadata": {},
   "outputs": [
    {
     "data": {
      "text/latex": [
       "$\\displaystyle \\left[\\begin{array}{ccccccccccccccccc}- 1.0 δl - 1.0 δμ & 0 & 0 & 0 & 0 & 0.290807911472161 i Pμy Ωμ & 0.411234074581972 Pμz Ωμ & 0.290764892751861 i Pμy Ωμ & - 0.499983382824011 i Pμy Ωμ & - 0.707100975358803 Pμz Ωμ & - 0.500008409156251 i Pμy Ωμ & 0 & 0 & 0 & 0 & 0 & 0\\\\0 & - 1.0 δl - 1.0 δμ - 83545.9813906599 & 0 & 0 & - 0.333901922157883 i Pμy Ωμ & - 0.49999180136918 Pμz Ωμ & - 0.353586231008722 i Pμy Ωμ & 0 & - 0.290736980011639 Pμz Ωμ & - 0.205594736946309 i Pμy Ωμ & 0 & - 0.578405249432978 i Pμy Ωμ & - 0.578433636785611 Pμz Ωμ & - 0.236156135505686 i Pμy Ωμ & 0 & 0 & 0\\\\0 & 0 & - 1.0 δl - 1.0 δμ - 83566.3651357325 & 0 & 0.47226590679684 Pμz Ωμ & 0.353535699024258 i Pμy Ωμ & 0 & - 0.353565283532071 i Pμy Ωμ & 0.205682402118226 i Pμy Ωμ & 0 & - 0.205551661346329 i Pμy Ωμ & 0 & - 0.408973898237758 i Pμy Ωμ & - 0.66788484420592 Pμz Ωμ & - 0.409014644583448 i Pμy Ωμ & 0 & 0\\\\0 & 0 & 0 & - 1.0 δl - 1.0 δμ - 83586.7483305611 & - 0.333982926920416 i Pμy Ωμ & 0 & 0.353514748208059 i Pμy Ωμ & 0.5 Pμz Ωμ & 0 & 0.20563933463782 i Pμy Ωμ & 0.290835833661731 Pμz Ωμ & 0 & 0 & - 0.236109770978379 i Pμy Ωμ & - 0.578376852071697 Pμz Ωμ & - 0.578405249437755 i Pμy Ωμ & 0\\\\0 & 0.333901922157883 i Pμy Ωμ & 0.47226590679684 Pμz Ωμ & 0.333982926920416 i Pμy Ωμ & - 1.0 δl - 139730.395614624 & 0 & 0 & 0 & 0 & 0 & 0 & 0 & 0 & 0 & 0 & 0 & 0\\\\- 0.290807911472161 i Pμy Ωμ & - 0.49999180136918 Pμz Ωμ & - 0.353535699024258 i Pμy Ωμ & 0 & 0 & 10.6988220214844 - 1.0 δl & 0 & 0 & 0 & 0 & 0 & 0 & 0 & 0 & 0 & 0 & 0.499998577141356 Plx Ωl\\\\0.411234074581972 Pμz Ωμ & 0.353586231008722 i Pμy Ωμ & 0 & - 0.353514748208059 i Pμy Ωμ & 0 & 0 & - 1.0 δl & 0 & 0 & 0 & 0 & 0 & 0 & 0 & 0 & 0 & - 0.70710577042007 Plz Ωl\\\\- 0.290764892751861 i Pμy Ωμ & 0 & 0.353565283532071 i Pμy Ωμ & 0.5 Pμz Ωμ & 0 & 0 & 0 & - 1.0 δl - 10.7021484375 & 0 & 0 & 0 & 0 & 0 & 0 & 0 & 0 & - 0.5 Plx Ωl\\\\0.499983382824011 i Pμy Ωμ & - 0.290736980011639 Pμz Ωμ & - 0.205682402118226 i Pμy Ωμ & 0 & 0 & 0 & 0 & 0 & 1105541.57171631 - 1.0 δl & 0 & 0 & 0 & 0 & 0 & 0 & 0 & 0.290789596930149 Plx Ωl\\\\- 0.707100975358803 Pμz Ωμ & 0.205594736946309 i Pμy Ωμ & 0 & - 0.20563933463782 i Pμy Ωμ & 0 & 0 & 0 & 0 & 0 & 1105541.75041199 - 1.0 δl & 0 & 0 & 0 & 0 & 0 & 0 & - 0.411236858040512 Plz Ωl\\\\0.500008409156251 i Pμy Ωμ & 0 & 0.205551661346329 i Pμy Ωμ & 0.290835833661731 Pμz Ωμ & 0 & 0 & 0 & 0 & 0 & 0 & 1105541.92948914 - 1.0 δl & 0 & 0 & 0 & 0 & 0 & - 0.290787145944299 Plx Ωl\\\\0 & 0.578405249432978 i Pμy Ωμ & 0 & 0 & 0 & 0 & 0 & 0 & 0 & 0 & 0 & 1196912.21994019 - 1.0 δl & 0 & 0 & 0 & 0 & 0\\\\0 & - 0.578433636785611 Pμz Ωμ & 0.408973898237758 i Pμy Ωμ & 0 & 0 & 0 & 0 & 0 & 0 & 0 & 0 & 0 & 1196901.9190979 - 1.0 δl & 0 & 0 & 0 & 0\\\\0 & 0.236156135505686 i Pμy Ωμ & - 0.66788484420592 Pμz Ωμ & 0.236109770978379 i Pμy Ωμ & 0 & 0 & 0 & 0 & 0 & 0 & 0 & 0 & 0 & 1196891.61763 - 1.0 δl & 0 & 0 & 0\\\\0 & 0 & 0.409014644583448 i Pμy Ωμ & - 0.578376852071697 Pμz Ωμ & 0 & 0 & 0 & 0 & 0 & 0 & 0 & 0 & 0 & 0 & 1196881.31568909 - 1.0 δl & 0 & 0\\\\0 & 0 & 0 & 0.578405249437755 i Pμy Ωμ & 0 & 0 & 0 & 0 & 0 & 0 & 0 & 0 & 0 & 0 & 0 & 1196871.01319885 - 1.0 δl & 0\\\\0 & 0 & 0 & 0 & 0 & 0.499998577141356 Plx Ωl & - 0.70710577042007 Plz Ωl & - 0.5 Plx Ωl & 0.290789596930149 Plx Ωl & - 0.411236858040512 Plz Ωl & - 0.290787145944299 Plx Ωl & 0 & 0 & 0 & 0 & 0 & 0\\end{array}\\right]$"
      ],
      "text/plain": [
       "Matrix([\n",
       "[           -1.0*δl - 1.0*δμ,                                   0,                                   0,                                   0,                           0, 0.290807911472161*I*Pμy*Ωμ,    0.411234074581972*Pμz*Ωμ,  0.290764892751861*I*Pμy*Ωμ, -0.499983382824011*I*Pμy*Ωμ,   -0.707100975358803*Pμz*Ωμ, -0.500008409156251*I*Pμy*Ωμ,                           0,                           0,                           0,                           0,                           0,                         0],\n",
       "[                          0, -1.0*δl - 1.0*δμ - 83545.9813906599,                                   0,                                   0, -0.333901922157883*I*Pμy*Ωμ,   -0.49999180136918*Pμz*Ωμ, -0.353586231008722*I*Pμy*Ωμ,                           0,   -0.290736980011639*Pμz*Ωμ, -0.205594736946309*I*Pμy*Ωμ,                           0, -0.578405249432978*I*Pμy*Ωμ,   -0.578433636785611*Pμz*Ωμ, -0.236156135505686*I*Pμy*Ωμ,                           0,                           0,                         0],\n",
       "[                          0,                                   0, -1.0*δl - 1.0*δμ - 83566.3651357325,                                   0,     0.47226590679684*Pμz*Ωμ, 0.353535699024258*I*Pμy*Ωμ,                           0, -0.353565283532071*I*Pμy*Ωμ,  0.205682402118226*I*Pμy*Ωμ,                           0, -0.205551661346329*I*Pμy*Ωμ,                           0, -0.408973898237758*I*Pμy*Ωμ,    -0.66788484420592*Pμz*Ωμ, -0.409014644583448*I*Pμy*Ωμ,                           0,                         0],\n",
       "[                          0,                                   0,                                   0, -1.0*δl - 1.0*δμ - 83586.7483305611, -0.333982926920416*I*Pμy*Ωμ,                          0,  0.353514748208059*I*Pμy*Ωμ,                  0.5*Pμz*Ωμ,                           0,   0.20563933463782*I*Pμy*Ωμ,    0.290835833661731*Pμz*Ωμ,                           0,                           0, -0.236109770978379*I*Pμy*Ωμ,   -0.578376852071697*Pμz*Ωμ, -0.578405249437755*I*Pμy*Ωμ,                         0],\n",
       "[                          0,          0.333901922157883*I*Pμy*Ωμ,             0.47226590679684*Pμz*Ωμ,          0.333982926920416*I*Pμy*Ωμ,  -1.0*δl - 139730.395614624,                          0,                           0,                           0,                           0,                           0,                           0,                           0,                           0,                           0,                           0,                           0,                         0],\n",
       "[-0.290807911472161*I*Pμy*Ωμ,            -0.49999180136918*Pμz*Ωμ,         -0.353535699024258*I*Pμy*Ωμ,                                   0,                           0,  10.6988220214844 - 1.0*δl,                           0,                           0,                           0,                           0,                           0,                           0,                           0,                           0,                           0,                           0,  0.499998577141356*Plx*Ωl],\n",
       "[   0.411234074581972*Pμz*Ωμ,          0.353586231008722*I*Pμy*Ωμ,                                   0,         -0.353514748208059*I*Pμy*Ωμ,                           0,                          0,                     -1.0*δl,                           0,                           0,                           0,                           0,                           0,                           0,                           0,                           0,                           0,  -0.70710577042007*Plz*Ωl],\n",
       "[-0.290764892751861*I*Pμy*Ωμ,                                   0,          0.353565283532071*I*Pμy*Ωμ,                          0.5*Pμz*Ωμ,                           0,                          0,                           0,     -1.0*δl - 10.7021484375,                           0,                           0,                           0,                           0,                           0,                           0,                           0,                           0,               -0.5*Plx*Ωl],\n",
       "[ 0.499983382824011*I*Pμy*Ωμ,           -0.290736980011639*Pμz*Ωμ,         -0.205682402118226*I*Pμy*Ωμ,                                   0,                           0,                          0,                           0,                           0,   1105541.57171631 - 1.0*δl,                           0,                           0,                           0,                           0,                           0,                           0,                           0,  0.290789596930149*Plx*Ωl],\n",
       "[  -0.707100975358803*Pμz*Ωμ,          0.205594736946309*I*Pμy*Ωμ,                                   0,          -0.20563933463782*I*Pμy*Ωμ,                           0,                          0,                           0,                           0,                           0,   1105541.75041199 - 1.0*δl,                           0,                           0,                           0,                           0,                           0,                           0, -0.411236858040512*Plz*Ωl],\n",
       "[ 0.500008409156251*I*Pμy*Ωμ,                                   0,          0.205551661346329*I*Pμy*Ωμ,            0.290835833661731*Pμz*Ωμ,                           0,                          0,                           0,                           0,                           0,                           0,   1105541.92948914 - 1.0*δl,                           0,                           0,                           0,                           0,                           0, -0.290787145944299*Plx*Ωl],\n",
       "[                          0,          0.578405249432978*I*Pμy*Ωμ,                                   0,                                   0,                           0,                          0,                           0,                           0,                           0,                           0,                           0,   1196912.21994019 - 1.0*δl,                           0,                           0,                           0,                           0,                         0],\n",
       "[                          0,           -0.578433636785611*Pμz*Ωμ,          0.408973898237758*I*Pμy*Ωμ,                                   0,                           0,                          0,                           0,                           0,                           0,                           0,                           0,                           0,    1196901.9190979 - 1.0*δl,                           0,                           0,                           0,                         0],\n",
       "[                          0,          0.236156135505686*I*Pμy*Ωμ,            -0.66788484420592*Pμz*Ωμ,          0.236109770978379*I*Pμy*Ωμ,                           0,                          0,                           0,                           0,                           0,                           0,                           0,                           0,                           0,      1196891.61763 - 1.0*δl,                           0,                           0,                         0],\n",
       "[                          0,                                   0,          0.409014644583448*I*Pμy*Ωμ,           -0.578376852071697*Pμz*Ωμ,                           0,                          0,                           0,                           0,                           0,                           0,                           0,                           0,                           0,                           0,   1196881.31568909 - 1.0*δl,                           0,                         0],\n",
       "[                          0,                                   0,                                   0,          0.578405249437755*I*Pμy*Ωμ,                           0,                          0,                           0,                           0,                           0,                           0,                           0,                           0,                           0,                           0,                           0,   1196871.01319885 - 1.0*δl,                         0],\n",
       "[                          0,                                   0,                                   0,                                   0,                           0,   0.499998577141356*Plx*Ωl,    -0.70710577042007*Plz*Ωl,                 -0.5*Plx*Ωl,    0.290789596930149*Plx*Ωl,   -0.411236858040512*Plz*Ωl,   -0.290787145944299*Plx*Ωl,                           0,                           0,                           0,                           0,                           0,                         0]])"
      ]
     },
     "execution_count": 26,
     "metadata": {},
     "output_type": "execute_result"
    }
   ],
   "source": [
    "from sympy import nsimplify\n",
    "\n",
    "ham = Hamiltonian(len(H_int))\n",
    "\n",
    "energies = []\n",
    "for idx, energy in enumerate(np.diag(H_int)):\n",
    "    E = Symbol(f\"E{idx}\", real = True)\n",
    "    energies.append((E, energy))\n",
    "\n",
    "ham.addEnergies(list(zip(*energies))[0])\n",
    "\n",
    "generate_coupling(ham, H_laser_z_1, Symbol('Ωl', real = True)*Symbol('Plz', real = True)/ME_main_1/2, Symbol('ωl', real = True))\n",
    "generate_coupling(ham, H_laser_x_1, Symbol('Ωl', real = True)*Symbol('Plx', real = True)/ME_main_1/2, Symbol('ωl', real = True))\n",
    "\n",
    "generate_coupling(ham, H_μ1_z, Symbol('Ωμ', real = True)*Symbol('Pμz', real = True)/ME_μ1_main/2, Symbol('ωμ', real = True))\n",
    "generate_coupling(ham, H_μ1_y, Symbol('Ωμ', real = True)*Symbol('Pμy', real = True)/ME_μ1_main/2, Symbol('ωμ', real = True))\n",
    "ham.eqnTransform()\n",
    "\n",
    "generate_detuning(ham, H_laser_z_1, Symbol('δl', real = True))\n",
    "generate_detuning(ham, H_laser_x_1, Symbol('δl', real = True))\n",
    "generate_detuning(ham, H_μ1_z, Symbol('δμ', real = True))\n",
    "generate_detuning(ham, H_μ1_y, Symbol('δμ', real = True))\n",
    "\n",
    "\n",
    "ham.defineZero(energies[-1][0])\n",
    "\n",
    "# ham.transformed = nsimplify(ham.transformed)\n",
    "ham.transformed\n",
    "\n",
    "ham_transformed = ham.transformed.subs(energies)\n",
    "ham_transformed"
   ]
  },
  {
   "cell_type": "code",
   "execution_count": 27,
   "metadata": {},
   "outputs": [],
   "source": [
    "# ham.energies = list(ham.energies)\n",
    "# indices = []\n",
    "# for row_idx in range(ham.levels):\n",
    "#     row = ham.hamiltonian[row_idx,:]\n",
    "#     if len(np.nonzero(row)[0]) == 1:\n",
    "#         indices.append(row_idx)\n",
    "        \n",
    "# cnt = 0\n",
    "# for idx in indices:\n",
    "#     del ham.energies[idx-cnt]\n",
    "#     ham.hamiltonian.row_del(idx-cnt)\n",
    "#     ham.hamiltonian.col_del(idx-cnt)\n",
    "#     ham.couplings.row_del(idx-cnt)\n",
    "#     ham.couplings.col_del(idx-cnt)\n",
    "#     ham.rabi.row_del(idx-cnt)\n",
    "#     ham.rabi.col_del(idx-cnt)\n",
    "#     ham.cpl = np.delete(ham.cpl, idx-cnt, 0)\n",
    "#     cnt += 1\n",
    "    \n",
    "# ham.levels = len(ham.cpl)\n",
    "\n",
    "# ham.hamiltonian"
   ]
  },
  {
   "cell_type": "code",
   "execution_count": 28,
   "metadata": {},
   "outputs": [
    {
     "name": "stderr",
     "output_type": "stream",
     "text": [
      "100%|████████████████████████████████████████████████████████████████████████████████████| 1/1 [00:00<00:00, 18.23it/s]\n"
     ]
    }
   ],
   "source": [
    "Γ = 2*np.pi*1.6e6\n",
    "C_list = collapse_matrices(QN, ground_states, excited_states, gamma = Γ)\n",
    "C_array = np.array(C_list)\n",
    "C_conj_array = np.einsum('ijk->ikj', C_array.conj())"
   ]
  },
  {
   "cell_type": "code",
   "execution_count": 29,
   "metadata": {},
   "outputs": [
    {
     "data": {
      "text/latex": [
       "$\\displaystyle \\left[\\begin{array}{ccccccccccccccccc}0 & 0 & 0 & 0 & 0 & 0 & 0 & 0 & 0 & 0 & 0 & 0 & 0 & 0 & 0 & 0 & - 5026548.21497941 ρ_{0, 16}\\\\0 & 0 & 0 & 0 & 0 & 0 & 0 & 0 & 0 & 0 & 0 & 0 & 0 & 0 & 0 & 0 & - 5026548.21497941 ρ_{1, 16}\\\\0 & 0 & 0 & 0 & 0 & 0 & 0 & 0 & 0 & 0 & 0 & 0 & 0 & 0 & 0 & 0 & - 5026548.21497941 ρ_{2, 16}\\\\0 & 0 & 0 & 0 & 0 & 0 & 0 & 0 & 0 & 0 & 0 & 0 & 0 & 0 & 0 & 0 & - 5026548.21497941 ρ_{3, 16}\\\\0 & 0 & 0 & 0 & 0 & 0 & 0 & 0 & 0 & 0 & 0 & 0 & 0 & 0 & 0 & 0 & - 5026548.21497941 ρ_{4, 16}\\\\0 & 0 & 0 & 0 & 0 & 2504066.14187607 ρ_{16, 16} & 0 & 0 & 0 & 0 & 0 & 0 & 0 & 0 & 0 & 0 & - 5026548.21497941 ρ_{5, 16}\\\\0 & 0 & 0 & 0 & 0 & 0 & 2504073.23484697 ρ_{16, 16} & 0 & 0 & 0 & 0 & 0 & 0 & 0 & 0 & 0 & - 5026548.21497941 ρ_{6, 16}\\\\0 & 0 & 0 & 0 & 0 & 0 & 0 & 2504080.39374506 ρ_{16, 16} & 0 & 0 & 0 & 0 & 0 & 0 & 0 & 0 & - 5026548.21497941 ρ_{7, 16}\\\\0 & 0 & 0 & 0 & 0 & 0 & 0 & 0 & 846966.013293444 ρ_{16, 16} & 0 & 0 & 0 & 0 & 0 & 0 & 0 & - 5026548.21497941 ρ_{8, 16}\\\\0 & 0 & 0 & 0 & 0 & 0 & 0 & 0 & 0 & 846958.884766602 ρ_{16, 16} & 0 & 0 & 0 & 0 & 0 & 0 & - 5026548.21497941 ρ_{9, 16}\\\\0 & 0 & 0 & 0 & 0 & 0 & 0 & 0 & 0 & 0 & 846951.761430674 ρ_{16, 16} & 0 & 0 & 0 & 0 & 0 & - 5026548.21497941 ρ_{10, 16}\\\\0 & 0 & 0 & 0 & 0 & 0 & 0 & 0 & 0 & 0 & 0 & 0 & 0 & 0 & 0 & 0 & - 5026548.21497941 ρ_{11, 16}\\\\0 & 0 & 0 & 0 & 0 & 0 & 0 & 0 & 0 & 0 & 0 & 0 & 0 & 0 & 0 & 0 & - 5026548.21497941 ρ_{12, 16}\\\\0 & 0 & 0 & 0 & 0 & 0 & 0 & 0 & 0 & 0 & 0 & 0 & 0 & 0 & 0 & 0 & - 5026548.21497941 ρ_{13, 16}\\\\0 & 0 & 0 & 0 & 0 & 0 & 0 & 0 & 0 & 0 & 0 & 0 & 0 & 0 & 0 & 0 & - 5026548.21497941 ρ_{14, 16}\\\\0 & 0 & 0 & 0 & 0 & 0 & 0 & 0 & 0 & 0 & 0 & 0 & 0 & 0 & 0 & 0 & - 5026548.21497941 ρ_{15, 16}\\\\- 5026548.21497941 ρ_{16, 0} & - 5026548.21497941 ρ_{16, 1} & - 5026548.21497941 ρ_{16, 2} & - 5026548.21497941 ρ_{16, 3} & - 5026548.21497941 ρ_{16, 4} & - 5026548.21497941 ρ_{16, 5} & - 5026548.21497941 ρ_{16, 6} & - 5026548.21497941 ρ_{16, 7} & - 5026548.21497941 ρ_{16, 8} & - 5026548.21497941 ρ_{16, 9} & - 5026548.21497941 ρ_{16, 10} & - 5026548.21497941 ρ_{16, 11} & - 5026548.21497941 ρ_{16, 12} & - 5026548.21497941 ρ_{16, 13} & - 5026548.21497941 ρ_{16, 14} & - 5026548.21497941 ρ_{16, 15} & - 10053096.4299588 ρ_{16, 16}\\end{array}\\right]$"
      ],
      "text/plain": [
       "Matrix([\n",
       "[                         0,                          0,                          0,                          0,                          0,                          0,                          0,                          0,                          0,                          0,                           0,                           0,                           0,                           0,                           0,                           0,  -5026548.21497941*ρ[0, 16]],\n",
       "[                         0,                          0,                          0,                          0,                          0,                          0,                          0,                          0,                          0,                          0,                           0,                           0,                           0,                           0,                           0,                           0,  -5026548.21497941*ρ[1, 16]],\n",
       "[                         0,                          0,                          0,                          0,                          0,                          0,                          0,                          0,                          0,                          0,                           0,                           0,                           0,                           0,                           0,                           0,  -5026548.21497941*ρ[2, 16]],\n",
       "[                         0,                          0,                          0,                          0,                          0,                          0,                          0,                          0,                          0,                          0,                           0,                           0,                           0,                           0,                           0,                           0,  -5026548.21497941*ρ[3, 16]],\n",
       "[                         0,                          0,                          0,                          0,                          0,                          0,                          0,                          0,                          0,                          0,                           0,                           0,                           0,                           0,                           0,                           0,  -5026548.21497941*ρ[4, 16]],\n",
       "[                         0,                          0,                          0,                          0,                          0, 2504066.14187607*ρ[16, 16],                          0,                          0,                          0,                          0,                           0,                           0,                           0,                           0,                           0,                           0,  -5026548.21497941*ρ[5, 16]],\n",
       "[                         0,                          0,                          0,                          0,                          0,                          0, 2504073.23484697*ρ[16, 16],                          0,                          0,                          0,                           0,                           0,                           0,                           0,                           0,                           0,  -5026548.21497941*ρ[6, 16]],\n",
       "[                         0,                          0,                          0,                          0,                          0,                          0,                          0, 2504080.39374506*ρ[16, 16],                          0,                          0,                           0,                           0,                           0,                           0,                           0,                           0,  -5026548.21497941*ρ[7, 16]],\n",
       "[                         0,                          0,                          0,                          0,                          0,                          0,                          0,                          0, 846966.013293444*ρ[16, 16],                          0,                           0,                           0,                           0,                           0,                           0,                           0,  -5026548.21497941*ρ[8, 16]],\n",
       "[                         0,                          0,                          0,                          0,                          0,                          0,                          0,                          0,                          0, 846958.884766602*ρ[16, 16],                           0,                           0,                           0,                           0,                           0,                           0,  -5026548.21497941*ρ[9, 16]],\n",
       "[                         0,                          0,                          0,                          0,                          0,                          0,                          0,                          0,                          0,                          0,  846951.761430674*ρ[16, 16],                           0,                           0,                           0,                           0,                           0, -5026548.21497941*ρ[10, 16]],\n",
       "[                         0,                          0,                          0,                          0,                          0,                          0,                          0,                          0,                          0,                          0,                           0,                           0,                           0,                           0,                           0,                           0, -5026548.21497941*ρ[11, 16]],\n",
       "[                         0,                          0,                          0,                          0,                          0,                          0,                          0,                          0,                          0,                          0,                           0,                           0,                           0,                           0,                           0,                           0, -5026548.21497941*ρ[12, 16]],\n",
       "[                         0,                          0,                          0,                          0,                          0,                          0,                          0,                          0,                          0,                          0,                           0,                           0,                           0,                           0,                           0,                           0, -5026548.21497941*ρ[13, 16]],\n",
       "[                         0,                          0,                          0,                          0,                          0,                          0,                          0,                          0,                          0,                          0,                           0,                           0,                           0,                           0,                           0,                           0, -5026548.21497941*ρ[14, 16]],\n",
       "[                         0,                          0,                          0,                          0,                          0,                          0,                          0,                          0,                          0,                          0,                           0,                           0,                           0,                           0,                           0,                           0, -5026548.21497941*ρ[15, 16]],\n",
       "[-5026548.21497941*ρ[16, 0], -5026548.21497941*ρ[16, 1], -5026548.21497941*ρ[16, 2], -5026548.21497941*ρ[16, 3], -5026548.21497941*ρ[16, 4], -5026548.21497941*ρ[16, 5], -5026548.21497941*ρ[16, 6], -5026548.21497941*ρ[16, 7], -5026548.21497941*ρ[16, 8], -5026548.21497941*ρ[16, 9], -5026548.21497941*ρ[16, 10], -5026548.21497941*ρ[16, 11], -5026548.21497941*ρ[16, 12], -5026548.21497941*ρ[16, 13], -5026548.21497941*ρ[16, 14], -5026548.21497941*ρ[16, 15], -10053096.4299588*ρ[16, 16]]])"
      ]
     },
     "execution_count": 29,
     "metadata": {},
     "output_type": "execute_result"
    }
   ],
   "source": [
    "ρ = MatrixSymbol('ρ', ham.levels,ham.levels)\n",
    "\n",
    "matrix_mult_sum = zeros(*ρ.shape)\n",
    "for C,Cᶜ in zip(C_array, C_conj_array):\n",
    "    idC = np.nonzero(C)\n",
    "    idCᶜ = np.nonzero(Cᶜ)\n",
    "    val = C[idC][0]*Cᶜ[idCᶜ][0]*ρ[idC[-1][0],idCᶜ[0][0]]\n",
    "    matrix_mult_sum[idC[0][0],idCᶜ[-1][0]] += val   \n",
    "    \n",
    "Cprecalc = np.einsum('ijk,ikl', C_conj_array, C_array)\n",
    "a = -0.5 * (Cprecalc@ρ + ρ@Cprecalc)\n",
    "\n",
    "dissipator = matrix_mult_sum + a\n",
    "dissipator"
   ]
  },
  {
   "cell_type": "markdown",
   "metadata": {},
   "source": [
    "## Julia"
   ]
  },
  {
   "cell_type": "code",
   "execution_count": 30,
   "metadata": {},
   "outputs": [],
   "source": [
    "# import julia\n",
    "# julia.install()"
   ]
  },
  {
   "cell_type": "code",
   "execution_count": 31,
   "metadata": {},
   "outputs": [],
   "source": [
    "from julia import Main"
   ]
  },
  {
   "cell_type": "code",
   "execution_count": 32,
   "metadata": {},
   "outputs": [
    {
     "data": {
      "text/plain": [
       "array([1, 2, 3, 4, 5, 6], dtype=int64)"
      ]
     },
     "execution_count": 32,
     "metadata": {},
     "output_type": "execute_result"
    }
   ],
   "source": [
    "nprocs = 6 # number of processes to use for EnsembleDistributed\n",
    "Main.eval(f\"\"\"\n",
    "using BenchmarkTools\n",
    "using Distributed\n",
    "\"\"\")\n",
    "\n",
    "if Main.eval(\"nprocs()\") < nprocs:\n",
    "    Main.eval(f\"addprocs({nprocs}-nprocs())\")\n",
    "\n",
    "if Main.eval(\"nprocs()\") > nprocs:\n",
    "    addprocs({nprocs})\n",
    "    procs = Main.eval(\"procs()\")\n",
    "    procs = procs[nprocs:]\n",
    "    Main.eval(f\"rmprocs({procs})\")\n",
    "\n",
    "Main.eval(\"\"\"\n",
    "@everywhere begin\n",
    "    using ModelingToolkit\n",
    "    using LinearAlgebra\n",
    "    using Trapz\n",
    "    using DifferentialEquations\n",
    "end\n",
    "\"\"\")\n",
    "\n",
    "    \n",
    "Main.eval(\"procs()\")"
   ]
  },
  {
   "cell_type": "code",
   "execution_count": 33,
   "metadata": {},
   "outputs": [],
   "source": [
    "polarizations = 'Plx Plz Pμy Pμz'.split(' ')"
   ]
  },
  {
   "cell_type": "code",
   "execution_count": 34,
   "metadata": {},
   "outputs": [],
   "source": [
    "from sympy import MutableDenseMatrix, conjugate, Function, Symbol, Matrix\n",
    "\n",
    "t = Symbol('t', real = True)\n",
    "\n",
    "hamiltonian_symbols = ham_transformed.free_symbols\n",
    "dissipator_symbols = dissipator.free_symbols\n",
    "dissipator_symbols = set([d for d in dissipator_symbols if str(d)[0] not in ['ρ', 't']])\n",
    "\n",
    "lx, ly = ham.transformed.shape\n",
    "Main.eval(f\"\"\"\n",
    "            @everywhere begin\n",
    "            H = zeros(Num, {lx}, {ly})\n",
    "            L = zeros(Num, {lx}, {ly})\n",
    "            @variables t ρ[1:{lx},1:{ly}](t)\n",
    "            @parameters icomplex\n",
    "            D = Differential(t)\n",
    "            tmp = 0\n",
    "            end\n",
    "            \"\"\");\n",
    "\n",
    "for s in list(hamiltonian_symbols) + list(dissipator_symbols):\n",
    "#     print(s, polarizations, str(s) in polarizations)\n",
    "    if str(s) not in polarizations:\n",
    "        Main.eval(f\"\"\"\n",
    "                    @everywhere @parameters {str(s)}\n",
    "                    tmp = 0\n",
    "                \"\"\");\n",
    "    else:\n",
    "        Main.eval(f\"@everywhere @variables {str(s)}(t)\")\n",
    "\n",
    "\n",
    "diss = str(MutableDenseMatrix(dissipator.copy()))\n",
    "\n",
    "# for i in range(lx):\n",
    "#     for j in range(i,ly):\n",
    "#         tmp = Function(u'ρ{0}{1}'.format(chr(0x2080+i), \n",
    "#                                          chr(0x2080+j)))\n",
    "#         tmp1 = Function(u'ρ[{0},{1}]'.format(j+1, i+1))\n",
    "#         diss = diss.subs(conjugate(tmp(t)), tmp1(t))\n",
    "\n",
    "ρ = MatrixSymbol('ρ', ham.levels+1,ham.levels+1)\n",
    "for i in range(lx):\n",
    "    for j in range(i,ly):\n",
    "        tmp = f'ρ[{i}, {j}]'\n",
    "        tmp1 = f'ρ[{i+1}, {j+1}]'\n",
    "        diss = diss.replace(tmp, tmp1)\n",
    "        tmp = f'ρ[{j}, {i}]'\n",
    "        tmp1 = f'ρ[{j+1}, {i+1}]'\n",
    "        diss = diss.replace(tmp, tmp1)\n",
    "diss = eval(diss)\n",
    "\n",
    "\n",
    "H_real, H_imag = ham_transformed.as_real_imag()\n",
    "for idx in range(1,lx+1):\n",
    "    for idy in range(1,ly+1):\n",
    "        hval_re = str(H_real[idx-1,idy-1])\n",
    "        hval_im = str(H_imag[idx-1,idy-1])\n",
    "        if hval_im != '0':\n",
    "            hval_im = 'icomplex*' + hval_im\n",
    "        dval = str(diss[idx-1, idy-1])\n",
    "        dval = dval.replace('(t)', '')\n",
    "#         print(f'{hval_re} + {hval_im}')\n",
    "        Main.eval(f\"\"\"\n",
    "                @everywhere begin\n",
    "                H[{idx},{idy}] = {hval_re} + {hval_im}\n",
    "                L[{idx},{idy}] = {dval}\n",
    "                tmp = 0\n",
    "                end\n",
    "                \"\"\");\n",
    "\n",
    "ρ = MatrixSymbol('ρ', ham.levels,ham.levels)"
   ]
  },
  {
   "cell_type": "code",
   "execution_count": 35,
   "metadata": {},
   "outputs": [],
   "source": [
    "Main.eval(\"\"\"\n",
    "@everywhere @variables Plz(t) Pl(t) Pμ(t) Nl(t) Nμ(t)\n",
    "@everywhere @parameters ωlp ωμp ϕl ϕμ Ωl Ωμ δl δμ\n",
    "tmp = 0;\n",
    "\"\"\");"
   ]
  },
  {
   "cell_type": "code",
   "execution_count": 36,
   "metadata": {},
   "outputs": [],
   "source": [
    "ham_string = ','.join([str(h) for h in hamiltonian_symbols])\n",
    "diss_string = ','.join([str(d) for d in dissipator_symbols])\n",
    "\n",
    "Main.eval(f\"\"\"\n",
    "@everywhere begin\n",
    "    eq = -icomplex*Symbolics.scalarize(H*ρ-ρ*H) + L\n",
    "    eqns = [D(ρ[idx,idy]) ~ eq[idx,idy] for idx in 1:{lx} for idy in 1:{ly}];\n",
    "    append!(eqns, [Pl ~ sin(ωlp*t+ϕl)])\n",
    "    append!(eqns, [Pμ ~ sin(ωμp*t+ϕμ)])\n",
    "    append!(eqns, [Pμy ~ (1+Pl)/2])\n",
    "    append!(eqns, [Pμz ~ (1-Pl)/2])\n",
    "    append!(eqns, [Plx ~ (1+Pμ)/2])\n",
    "    append!(eqns, [Plz ~ (1-Pμ)/2])\n",
    "    bloch = ODESystem(eqns)\n",
    "    tmp = 0\n",
    "end\n",
    "\"\"\");"
   ]
  },
  {
   "cell_type": "code",
   "execution_count": 48,
   "metadata": {},
   "outputs": [],
   "source": [
    "Main.eval(\"@everywhere bloch = structural_simplify(bloch)\");"
   ]
  },
  {
   "cell_type": "code",
   "execution_count": 38,
   "metadata": {},
   "outputs": [
    {
     "name": "stderr",
     "output_type": "stream",
     "text": [
      "100%|████████████████████████████████████████████████████████████████████████████████████| 6/6 [00:04<00:00,  1.44it/s]\n"
     ]
    }
   ],
   "source": [
    "system = generate_system_of_equations(ham_transformed, C_array, progress = True)"
   ]
  },
  {
   "cell_type": "code",
   "execution_count": 39,
   "metadata": {},
   "outputs": [],
   "source": [
    "code_lines = system_of_equations_to_lines(system)"
   ]
  },
  {
   "cell_type": "code",
   "execution_count": 52,
   "metadata": {},
   "outputs": [],
   "source": [
    "ode_fun = \"\"\"function Lindblad_rhs!(du, ρ, p, t)\n",
    "\\t@inbounds begin\n",
    "\\t\\tΩl = p[1]\n",
    "\\t\\tνpl = p[2]\n",
    "\\t\\tδl = p[3]\n",
    "\\t\\tϕl = p[4]\n",
    "\\t\\tΩμ = p[5]\n",
    "\\t\\tνpμ = p[6]\n",
    "\\t\\tδμ = p[7]\n",
    "\\t\\tϕμ = p[8]\n",
    "\n",
    "\\t\\tPl = sin(2π*νpl*t + ϕl)\n",
    "\\t\\tPlx = (1+Pl)/2\n",
    "\\t\\tPlz = (1-Pl)/2\n",
    "\n",
    "\\t\\tPμ = sin(2π*νpμ*t + ϕμ)\n",
    "\\t\\tPμy = (1+Pμ)/2\n",
    "\\t\\tPμz = (1-Pμ)/2\n",
    "\"\"\""
   ]
  },
  {
   "cell_type": "code",
   "execution_count": 53,
   "metadata": {},
   "outputs": [],
   "source": [
    "for cline in code_lines:\n",
    "    ode_fun += \"\\t\\t\"+cline+'\\n'\n",
    "ode_fun += '\\t end \\n \\t nothing \\n end'"
   ]
  },
  {
   "cell_type": "code",
   "execution_count": 54,
   "metadata": {},
   "outputs": [],
   "source": [
    "# making the function in Julia\n",
    "Main.eval(f\"@everywhere {ode_fun}\")"
   ]
  },
  {
   "cell_type": "markdown",
   "metadata": {},
   "source": [
    "### Generate density matrix"
   ]
  },
  {
   "cell_type": "code",
   "execution_count": 43,
   "metadata": {},
   "outputs": [],
   "source": [
    "import scipy.constants as cst\n",
    "\n",
    "def population(J, T, B=6.66733e9, n = 100):\n",
    "    c = 2*np.pi*cst.hbar*B/(cst.k*T)\n",
    "    g = lambda J: 4*(2*J+1)\n",
    "    a = lambda J: -c*J*(J+1)\n",
    "    Z = np.sum([g(i)*np.exp(a(i)) for i in range(n)])\n",
    "    return g(J)*np.exp(a(J))/Z"
   ]
  },
  {
   "cell_type": "code",
   "execution_count": 44,
   "metadata": {},
   "outputs": [],
   "source": [
    "def J_levels(J):\n",
    "    return 4*(2*J + 1)\n",
    "\n",
    "def J_slice(J):\n",
    "    if J == 0:\n",
    "        return np.s_[0:J_levels(0)]\n",
    "    else:\n",
    "        levels = J_levels(np.arange(J+1))\n",
    "        return np.s_[np.sum(levels[:-1]):np.sum(levels)]"
   ]
  },
  {
   "cell_type": "code",
   "execution_count": 45,
   "metadata": {},
   "outputs": [],
   "source": [
    "T = 6.3\n",
    "ρ_ini = np.zeros(H_rot.shape, dtype = 'complex')\n",
    "\n",
    "for J in range(0,2):\n",
    "    p = population(J, T)\n",
    "    levels = J_levels(J)\n",
    "    sl = J_slice(J)\n",
    "    np.fill_diagonal(ρ_ini[sl, sl], p/levels)\n",
    "\n",
    "ρ_ini /= np.diag(ρ_ini).sum()\n",
    "Main.ρ_ini = ρ_ini\n",
    "Main.eval(\"@everywhere ρ_ini = $ρ_ini\")"
   ]
  },
  {
   "cell_type": "code",
   "execution_count": 46,
   "metadata": {},
   "outputs": [],
   "source": [
    "Γ = 2*np.pi * 1.56e6\n",
    "\n",
    "\n",
    "Main.Γ = Γ\n",
    "\n",
    "Main.ρ_ini = ρ_ini\n",
    "\n",
    "# setting up the parameters to send to the differential equation\n",
    "Main.eval(\"\"\"\n",
    "@everywhere begin\n",
    "    Γ = 2pi*1.56e6\n",
    "    p1 = [Γ, 1e6, 0, 0, Γ, 1e6, 0, π/2]\n",
    "end\n",
    "\"\"\")"
   ]
  },
  {
   "cell_type": "code",
   "execution_count": 59,
   "metadata": {},
   "outputs": [
    {
     "name": "stdout",
     "output_type": "stream",
     "text": [
      "Wall time: 5.92 s\n"
     ]
    },
    {
     "data": {
      "text/plain": [
       "0"
      ]
     },
     "execution_count": 59,
     "metadata": {},
     "output_type": "execute_result"
    }
   ],
   "source": [
    "%%time\n",
    "du = np.zeros(ρ_ini.shape, dtype = 'complex')\n",
    "Main.du = du\n",
    "Main.eval(\"\"\"\n",
    "@btime Lindblad_rhs!(du, ρ_ini, p1, 0.)\n",
    "tmp = 0\n",
    "\"\"\")"
   ]
  },
  {
   "cell_type": "code",
   "execution_count": 60,
   "metadata": {},
   "outputs": [
    {
     "data": {
      "text/plain": [
       "[<PyCall.jlwrap icomplex>,\n",
       " <PyCall.jlwrap Ωμ>,\n",
       " <PyCall.jlwrap δl>,\n",
       " <PyCall.jlwrap δμ>,\n",
       " <PyCall.jlwrap Ωl>,\n",
       " <PyCall.jlwrap ωlp>,\n",
       " <PyCall.jlwrap ϕl>,\n",
       " <PyCall.jlwrap ϕμ>,\n",
       " <PyCall.jlwrap ωμp>]"
      ]
     },
     "execution_count": 60,
     "metadata": {},
     "output_type": "execute_result"
    }
   ],
   "source": [
    "Main.eval(\"parameters(bloch)\")"
   ]
  },
  {
   "cell_type": "code",
   "execution_count": 61,
   "metadata": {},
   "outputs": [],
   "source": [
    "Main.eval(\"\"\"\n",
    "    @everywhere begin\n",
    "    p = [\n",
    "    Ωl => Γ,\n",
    "    Ωμ => Γ,\n",
    "    δl => 0,\n",
    "    δμ => 0,\n",
    "    ϕl => π/2,\n",
    "    ϕμ => π,\n",
    "    ωlp => 2π*1e6,\n",
    "    ωμp => 2π*1e6,\n",
    "    icomplex => im\n",
    "    ]\n",
    "    dim = size(ρ_ini)[1]\n",
    "    u0 = [ρ[idx,idy] => ρ_ini[idx,idy] for idx in 1:dim for idy in 1:dim]\n",
    "end\n",
    "\"\"\");"
   ]
  },
  {
   "cell_type": "code",
   "execution_count": 62,
   "metadata": {},
   "outputs": [],
   "source": [
    "Main.eval(\"\"\"\n",
    "@everywhere begin\n",
    "    tspan = (0.0, 300e-6)\n",
    "    prob = ODEProblem(bloch, ρ_ini, tspan, p, jac = true)\n",
    "end\n",
    "\"\"\");"
   ]
  },
  {
   "cell_type": "code",
   "execution_count": 63,
   "metadata": {},
   "outputs": [],
   "source": [
    "Main.eval(\"@everywhere p1 = [Γ, 1e6, 0, π/2, Γ, 1e6, 0, π]\")"
   ]
  },
  {
   "cell_type": "code",
   "execution_count": 64,
   "metadata": {},
   "outputs": [],
   "source": [
    "Main.eval(\"@everywhere prob1 = ODEProblem(Lindblad_rhs!, ρ_ini, tspan, p1)\")"
   ]
  },
  {
   "cell_type": "code",
   "execution_count": 68,
   "metadata": {},
   "outputs": [],
   "source": [
    "Main.eval(\"@time sol = solve(prob, Tsit5(), abstol = 1e-9, reltol = 1e-6, progress = false)\");"
   ]
  },
  {
   "cell_type": "code",
   "execution_count": 69,
   "metadata": {},
   "outputs": [],
   "source": [
    "Main.eval(\"@time sol1 = solve(prob1, Tsit5(), abstol = 1e-9, reltol = 1e-6, progress = false)\");"
   ]
  },
  {
   "cell_type": "code",
   "execution_count": 70,
   "metadata": {},
   "outputs": [],
   "source": [
    "ut = np.array(Main.eval(\"sol[:]\"))\n",
    "dim = int(np.sqrt(ut.shape[1]))\n",
    "pop_results = np.real(np.einsum('jji->ji',ut.reshape(-1,dim, dim).T))\n",
    "t_array = Main.eval(\"sol.t\") "
   ]
  },
  {
   "cell_type": "code",
   "execution_count": 71,
   "metadata": {},
   "outputs": [
    {
     "data": {
      "text/plain": [
       "2.962067114205269"
      ]
     },
     "execution_count": 71,
     "metadata": {},
     "output_type": "execute_result"
    },
    {
     "data": {
      "image/png": "[encoded data removed]",
      "text/plain": [
       "<Figure size 576x360 with 1 Axes>"
      ]
     },
     "metadata": {
      "needs_background": "light"
     },
     "output_type": "display_data"
    }
   ],
   "source": [
    "fig, ax = plt.subplots(figsize = (8,5))\n",
    "\n",
    "for idx, pop in enumerate(pop_results):\n",
    "    ls = '--' if idx in [16] else '-'\n",
    "    if idx not in [0,1,2,3]:\n",
    "        s = QN[idx].find_largest_component()\n",
    "        label = f'{s.electronic_state}, J={s.J}, F={s.F:.0f}, F1={s.F1}, mF={s.mF:+.0f}'\n",
    "#         ax.plot(t_array*1e6, pop, lw = 2, label = label, ls = ls)\n",
    "        ax.plot(t_array*1e6, pop, lw = 2, label = f\"ρ$_{{{idx},{idx}}}$\", ls = ls)\n",
    "\n",
    "ax.set_xlabel('time')\n",
    "ax.set_ylabel('population')\n",
    "ax.legend(fontsize = 14)\n",
    "set_fontsize(ax, 14)\n",
    "\n",
    "np.trapz(np.sum(pop_results[[-1]].real, axis = 0), t_array)*Main.Γ"
   ]
  },
  {
   "cell_type": "code",
   "execution_count": 72,
   "metadata": {},
   "outputs": [],
   "source": [
    "ut = np.array(Main.eval(\"sol1[:]\")).T\n",
    "pop_results = np.real(np.einsum('jji->ji',ut.reshape((ρ_ini.shape[0], ρ_ini.shape[1], ut.shape[2]))))\n",
    "t_array = Main.eval(\"sol1.t\")"
   ]
  },
  {
   "cell_type": "code",
   "execution_count": 73,
   "metadata": {},
   "outputs": [
    {
     "data": {
      "text/plain": [
       "2.9610733276671684"
      ]
     },
     "execution_count": 73,
     "metadata": {},
     "output_type": "execute_result"
    },
    {
     "data": {
      "image/png": "[encoded data removed]",
      "text/plain": [
       "<Figure size 576x360 with 1 Axes>"
      ]
     },
     "metadata": {
      "needs_background": "light"
     },
     "output_type": "display_data"
    }
   ],
   "source": [
    "fig, ax = plt.subplots(figsize = (8,5))\n",
    "\n",
    "for idx, pop in enumerate(pop_results):\n",
    "    ls = '--' if idx in [16] else '-'\n",
    "    if idx not in [0,1,2,3]:\n",
    "        s = QN[idx].find_largest_component()\n",
    "        label = f'{s.electronic_state}, J={s.J}, F={s.F:.0f}, F1={s.F1}, mF={s.mF:+.0f}'\n",
    "#         ax.plot(t_array*1e6, pop, lw = 2, label = label, ls = ls)\n",
    "        ax.plot(t_array*1e6, pop, lw = 2, label = f\"ρ$_{{{idx},{idx}}}$\", ls = ls)\n",
    "\n",
    "ax.set_xlabel('time')\n",
    "ax.set_ylabel('population')\n",
    "ax.legend(fontsize = 14)\n",
    "set_fontsize(ax, 14)\n",
    "\n",
    "np.trapz(np.sum(pop_results[[-1]].real, axis = 0), t_array)*Main.Γ"
   ]
  },
  {
   "cell_type": "code",
   "execution_count": 74,
   "metadata": {},
   "outputs": [
    {
     "data": {
      "image/png": "[encoded data removed]",
      "text/plain": [
       "<Figure size 576x720 with 16 Axes>"
      ]
     },
     "metadata": {
      "needs_background": "light"
     },
     "output_type": "display_data"
    }
   ],
   "source": [
    "fig, axes = plt.subplots(figsize = (8,10), nrows = len(pop_results)-1, sharex = True)\n",
    "for idx, pop in enumerate(pop_results[:-1]):\n",
    "    axes[idx].plot(t_array*1e6, pop)\n",
    "\n",
    "axes[idx].set_xlabel('time [μs]')\n",
    "for ax in axes:\n",
    "    set_fontsize(ax, 14)"
   ]
  },
  {
   "cell_type": "markdown",
   "metadata": {},
   "source": [
    "### Parameter scan for polarization switching frequency"
   ]
  },
  {
   "cell_type": "code",
   "execution_count": null,
   "metadata": {},
   "outputs": [],
   "source": [
    "Main.eval(\"\"\"\n",
    "@everywhere params = [val*Γ for val in 0:5/401:5]\"\"\")"
   ]
  },
  {
   "cell_type": "code",
   "execution_count": null,
   "metadata": {},
   "outputs": [],
   "source": [
    "Main.eval(\"\"\"\n",
    "@everywhere function output_func(sol,i)\n",
    "           return trapz(sol.t, [real(sol.u[j][end]) for j in 1:size(sol.u)[1]]), false\n",
    "       end\n",
    "\"\"\")"
   ]
  },
  {
   "cell_type": "code",
   "execution_count": null,
   "metadata": {},
   "outputs": [],
   "source": [
    "# this function remakes the problem to change the parameters\n",
    "Main.eval(\"\"\"\n",
    "@everywhere function prob_func(prob,i,repeat)\n",
    "    pnew = ModelingToolkit.varmap_to_vars([\n",
    "    Ωl => Γ,\n",
    "    Ωμ => Γ,\n",
    "    δl => 0,\n",
    "    δμ => 0,\n",
    "    ϕl => 0,\n",
    "    ϕμ => π/2,\n",
    "    ωlp => params[i],\n",
    "    ωμp => params[i],\n",
    "    icomplex => im\n",
    "    ], parameters(bloch))\n",
    "   remake(prob, p = pnew)\n",
    "end\n",
    "\"\"\")"
   ]
  },
  {
   "cell_type": "code",
   "execution_count": null,
   "metadata": {},
   "outputs": [],
   "source": [
    "# setting up the EnsembleProblem with the earlier defined ODEProblem\n",
    "Main.eval(\"\"\"\n",
    "ens_prob = EnsembleProblem(prob, prob_func = prob_func, output_func = output_func);\n",
    "\"\"\");"
   ]
  },
  {
   "cell_type": "code",
   "execution_count": null,
   "metadata": {},
   "outputs": [],
   "source": [
    "Main.eval(\"\"\"\n",
    "@time sim = solve(ens_prob, Tsit5(), EnsembleDistributed(), trajectories = size(params)[1],\n",
    "            abstol = 5e-7, reltol = 5e-4)\n",
    "sim.elapsedTime\n",
    "\"\"\")"
   ]
  },
  {
   "cell_type": "code",
   "execution_count": null,
   "metadata": {},
   "outputs": [],
   "source": [
    "fig, ax = plt.subplots(figsize = (8,5))\n",
    "\n",
    "ax.plot(Main.params/(2*np.pi*1e6), Main.eval(\"sim.u\")*Γ, lw = 3)\n",
    "\n",
    "ax.set_xlabel('polarization switching frequency [MHz]')\n",
    "ax.set_ylabel('photons per molecule')\n",
    "set_fontsize(ax, 14)"
   ]
  },
  {
   "cell_type": "code",
   "execution_count": null,
   "metadata": {},
   "outputs": [],
   "source": []
  }
 ],
 "metadata": {
  "kernelspec": {
   "display_name": "Python 3",
   "language": "python",
   "name": "python3"
  },
  "language_info": {
   "codemirror_mode": {
    "name": "ipython",
    "version": 3
   },
   "file_extension": ".py",
   "mimetype": "text/x-python",
   "name": "python",
   "nbconvert_exporter": "python",
   "pygments_lexer": "ipython3",
   "version": "3.8.5"
  }
 },
 "nbformat": 4,
 "nbformat_minor": 4
}
