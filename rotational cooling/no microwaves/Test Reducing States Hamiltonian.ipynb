{
 "cells": [
  {
   "cell_type": "code",
   "execution_count": 5,
   "metadata": {},
   "outputs": [],
   "source": [
    "import sys\n",
    "sys.path.append(\"../..\")\n",
    "\n",
    "import time\n",
    "import pprint\n",
    "import numpy as np\n",
    "from tqdm import tqdm\n",
    "import multiprocessing\n",
    "from sympy import Symbol\n",
    "import matplotlib.pyplot as plt\n",
    "from utils.plot_utils import set_fontsize\n",
    "from optical_bloch.utils.general import flatten\n",
    "from optical_bloch import Hamiltonian, Dissipator, BlochEquations"
   ]
  },
  {
   "cell_type": "code",
   "execution_count": 88,
   "metadata": {},
   "outputs": [],
   "source": [
    "E0 = Symbol(u'E0', real = True)\n",
    "E1 = Symbol(u'E1', real = True)\n",
    "E2 = Symbol(u'E2', real = True)\n",
    "Ee1 = Symbol(u'Ee1', real = True)\n",
    "Ee2 = Symbol(u'Ee2', real = True)\n",
    "\n",
    "ωl = Symbol(u'ωl', real = True)\n",
    "Ωl = Symbol(u'Ωl', real = True)\n",
    "\n",
    "δl = Symbol(u'δl', real = True)\n",
    "\n",
    "Δ = Symbol('Δ', real = True)\n",
    "Δe = Symbol('Δe', real = True)"
   ]
  },
  {
   "cell_type": "code",
   "execution_count": 89,
   "metadata": {},
   "outputs": [],
   "source": [
    "ham = Hamiltonian(5)\n",
    "ham.addEnergies([E0, E1, E2, Ee1, Ee2])\n",
    "ham.addCoupling(2,3,Ωl, ωl)\n",
    "ham.addCoupling(2,4,Ωl, ωl)\n",
    "ham.eqnTransform()\n",
    "ham.defineZero(Ee1)\n",
    "ham.defineStateDetuning(2,3,δl)\n",
    "ham.defineStateDetuning(2,4,δl)"
   ]
  },
  {
   "cell_type": "code",
   "execution_count": 134,
   "metadata": {},
   "outputs": [],
   "source": [
    "Γ0 = Symbol(u'Γ0', real = True)\n",
    "Γ1 = Symbol(u'Γ1', real = True)\n",
    "Γ2 = Symbol(u'Γ2', real = True)\n",
    "dis = Dissipator(ham.levels)\n",
    "dis.addDecay(4,2,Γ2)\n",
    "dis.addDecay(4,1,Γ1)\n",
    "dis.addDecay(4,0,Γ0)\n",
    "dis.addDecay(3,2,Γ2)\n",
    "dis.addDecay(3,1,Γ1)\n",
    "dis.addDecay(3,0,Γ0)"
   ]
  },
  {
   "cell_type": "code",
   "execution_count": 135,
   "metadata": {},
   "outputs": [],
   "source": [
    "from sympy import nsimplify\n",
    "ham.transformed = nsimplify(ham.transformed)"
   ]
  },
  {
   "cell_type": "code",
   "execution_count": 136,
   "metadata": {},
   "outputs": [
    {
     "data": {
      "text/latex": [
       "$\\displaystyle \\left[\\begin{matrix}E_{0} & 0 & 0 & 0 & 0\\\\0 & E_{1} & 0 & 0 & 0\\\\0 & 0 & - δl & - \\frac{Ωl}{2} & - \\frac{Ωl}{2}\\\\0 & 0 & - \\frac{Ωl}{2} & 0 & 0\\\\0 & 0 & - \\frac{Ωl}{2} & 0 & Ee_{2}\\end{matrix}\\right]$"
      ],
      "text/plain": [
       "Matrix([\n",
       "[E0,  0,     0,     0,     0],\n",
       "[ 0, E1,     0,     0,     0],\n",
       "[ 0,  0,   -δl, -Ωl/2, -Ωl/2],\n",
       "[ 0,  0, -Ωl/2,     0,     0],\n",
       "[ 0,  0, -Ωl/2,     0,   Ee2]])"
      ]
     },
     "execution_count": 136,
     "metadata": {},
     "output_type": "execute_result"
    }
   ],
   "source": [
    "ham.transformed"
   ]
  },
  {
   "cell_type": "code",
   "execution_count": 137,
   "metadata": {},
   "outputs": [
    {
     "data": {
      "text/latex": [
       "$\\displaystyle \\left[\\begin{matrix}Γ0 \\left(\\operatorname{ρ₃₃}{\\left(t \\right)} + \\operatorname{ρ₄₄}{\\left(t \\right)}\\right) & 0 & 0 & - \\frac{\\left(Γ0 + Γ1 + Γ2\\right) \\operatorname{ρ₀₃}{\\left(t \\right)}}{2} & - \\frac{\\left(Γ0 + Γ1 + Γ2\\right) \\operatorname{ρ₀₄}{\\left(t \\right)}}{2}\\\\0 & Γ1 \\left(\\operatorname{ρ₃₃}{\\left(t \\right)} + \\operatorname{ρ₄₄}{\\left(t \\right)}\\right) & 0 & - \\frac{\\left(Γ0 + Γ1 + Γ2\\right) \\operatorname{ρ₁₃}{\\left(t \\right)}}{2} & - \\frac{\\left(Γ0 + Γ1 + Γ2\\right) \\operatorname{ρ₁₄}{\\left(t \\right)}}{2}\\\\0 & 0 & Γ2 \\left(\\operatorname{ρ₃₃}{\\left(t \\right)} + \\operatorname{ρ₄₄}{\\left(t \\right)}\\right) & - \\frac{\\left(Γ0 + Γ1 + Γ2\\right) \\operatorname{ρ₂₃}{\\left(t \\right)}}{2} & - \\frac{\\left(Γ0 + Γ1 + Γ2\\right) \\operatorname{ρ₂₄}{\\left(t \\right)}}{2}\\\\- \\frac{\\left(Γ0 + Γ1 + Γ2\\right) \\overline{\\operatorname{ρ₀₃}{\\left(t \\right)}}}{2} & - \\frac{\\left(Γ0 + Γ1 + Γ2\\right) \\overline{\\operatorname{ρ₁₃}{\\left(t \\right)}}}{2} & - \\frac{\\left(Γ0 + Γ1 + Γ2\\right) \\overline{\\operatorname{ρ₂₃}{\\left(t \\right)}}}{2} & - \\left(Γ0 + Γ1 + Γ2\\right) \\operatorname{ρ₃₃}{\\left(t \\right)} & - \\left(Γ0 + Γ1 + Γ2\\right) \\operatorname{ρ₃₄}{\\left(t \\right)}\\\\- \\frac{\\left(Γ0 + Γ1 + Γ2\\right) \\overline{\\operatorname{ρ₀₄}{\\left(t \\right)}}}{2} & - \\frac{\\left(Γ0 + Γ1 + Γ2\\right) \\overline{\\operatorname{ρ₁₄}{\\left(t \\right)}}}{2} & - \\frac{\\left(Γ0 + Γ1 + Γ2\\right) \\overline{\\operatorname{ρ₂₄}{\\left(t \\right)}}}{2} & - \\left(Γ0 + Γ1 + Γ2\\right) \\overline{\\operatorname{ρ₃₄}{\\left(t \\right)}} & - \\left(Γ0 + Γ1 + Γ2\\right) \\operatorname{ρ₄₄}{\\left(t \\right)}\\end{matrix}\\right]$"
      ],
      "text/plain": [
       "Matrix([\n",
       "[               Γ0*(ρ₃₃(t) + ρ₄₄(t)),                                   0,                                   0,          -(Γ0 + Γ1 + Γ2)*ρ₀₃(t)/2, -(Γ0 + Γ1 + Γ2)*ρ₀₄(t)/2],\n",
       "[                                  0,                Γ1*(ρ₃₃(t) + ρ₄₄(t)),                                   0,          -(Γ0 + Γ1 + Γ2)*ρ₁₃(t)/2, -(Γ0 + Γ1 + Γ2)*ρ₁₄(t)/2],\n",
       "[                                  0,                                   0,                Γ2*(ρ₃₃(t) + ρ₄₄(t)),          -(Γ0 + Γ1 + Γ2)*ρ₂₃(t)/2, -(Γ0 + Γ1 + Γ2)*ρ₂₄(t)/2],\n",
       "[-(Γ0 + Γ1 + Γ2)*conjugate(ρ₀₃(t))/2, -(Γ0 + Γ1 + Γ2)*conjugate(ρ₁₃(t))/2, -(Γ0 + Γ1 + Γ2)*conjugate(ρ₂₃(t))/2,            -(Γ0 + Γ1 + Γ2)*ρ₃₃(t),   -(Γ0 + Γ1 + Γ2)*ρ₃₄(t)],\n",
       "[-(Γ0 + Γ1 + Γ2)*conjugate(ρ₀₄(t))/2, -(Γ0 + Γ1 + Γ2)*conjugate(ρ₁₄(t))/2, -(Γ0 + Γ1 + Γ2)*conjugate(ρ₂₄(t))/2, -(Γ0 + Γ1 + Γ2)*conjugate(ρ₃₄(t)),   -(Γ0 + Γ1 + Γ2)*ρ₄₄(t)]])"
      ]
     },
     "execution_count": 137,
     "metadata": {},
     "output_type": "execute_result"
    }
   ],
   "source": [
    "dis.dissipator"
   ]
  },
  {
   "cell_type": "code",
   "execution_count": 100,
   "metadata": {},
   "outputs": [
    {
     "data": {
      "text/latex": [
       "$\\displaystyle \\left[\\begin{matrix}E_{0} & 0 & 0 & 0\\\\0 & - δl & - \\frac{Ωl}{2} & - \\frac{Ωl}{2}\\\\0 & - \\frac{Ωl}{2} & 0 & 0\\\\0 & - \\frac{Ωl}{2} & 0 & Ee_{2}\\end{matrix}\\right]$"
      ],
      "text/plain": [
       "Matrix([\n",
       "[E0,     0,     0,     0],\n",
       "[ 0,   -δl, -Ωl/2, -Ωl/2],\n",
       "[ 0, -Ωl/2,     0,     0],\n",
       "[ 0, -Ωl/2,     0,   Ee2]])"
      ]
     },
     "execution_count": 100,
     "metadata": {},
     "output_type": "execute_result"
    }
   ],
   "source": [
    "ham1 = Hamiltonian(4)\n",
    "ham1.addEnergies([E0, E2, Ee1, Ee2])\n",
    "ham1.addCoupling(1,2,Ωl, ωl)\n",
    "ham1.addCoupling(1,3,Ωl, ωl)\n",
    "\n",
    "ham1.eqnTransform()\n",
    "\n",
    "ham1.defineStateDetuning(1,2,δl)\n",
    "ham1.defineStateDetuning(1,3,δl)\n",
    "ham1.defineZero(Ee1)\n",
    "\n",
    "ham1.transformed = nsimplify(ham1.transformed)\n",
    "ham1.transformed"
   ]
  },
  {
   "cell_type": "code",
   "execution_count": 101,
   "metadata": {},
   "outputs": [
    {
     "data": {
      "text/latex": [
       "$\\displaystyle \\left[\\begin{matrix}2 Γ \\left(\\operatorname{ρ₂₂}{\\left(t \\right)} + \\operatorname{ρ₃₃}{\\left(t \\right)}\\right) & 0 & - \\frac{3 Γ \\operatorname{ρ₀₂}{\\left(t \\right)}}{2} & - \\frac{3 Γ \\operatorname{ρ₀₃}{\\left(t \\right)}}{2}\\\\0 & Γ \\left(\\operatorname{ρ₂₂}{\\left(t \\right)} + \\operatorname{ρ₃₃}{\\left(t \\right)}\\right) & - \\frac{3 Γ \\operatorname{ρ₁₂}{\\left(t \\right)}}{2} & - \\frac{3 Γ \\operatorname{ρ₁₃}{\\left(t \\right)}}{2}\\\\- \\frac{3 Γ \\overline{\\operatorname{ρ₀₂}{\\left(t \\right)}}}{2} & - \\frac{3 Γ \\overline{\\operatorname{ρ₁₂}{\\left(t \\right)}}}{2} & - 3 Γ \\operatorname{ρ₂₂}{\\left(t \\right)} & - 3 Γ \\operatorname{ρ₂₃}{\\left(t \\right)}\\\\- \\frac{3 Γ \\overline{\\operatorname{ρ₀₃}{\\left(t \\right)}}}{2} & - \\frac{3 Γ \\overline{\\operatorname{ρ₁₃}{\\left(t \\right)}}}{2} & - 3 Γ \\overline{\\operatorname{ρ₂₃}{\\left(t \\right)}} & - 3 Γ \\operatorname{ρ₃₃}{\\left(t \\right)}\\end{matrix}\\right]$"
      ],
      "text/plain": [
       "Matrix([\n",
       "[   2*Γ*(ρ₂₂(t) + ρ₃₃(t)),                        0,          -3*Γ*ρ₀₂(t)/2, -3*Γ*ρ₀₃(t)/2],\n",
       "[                       0,      Γ*(ρ₂₂(t) + ρ₃₃(t)),          -3*Γ*ρ₁₂(t)/2, -3*Γ*ρ₁₃(t)/2],\n",
       "[-3*Γ*conjugate(ρ₀₂(t))/2, -3*Γ*conjugate(ρ₁₂(t))/2,            -3*Γ*ρ₂₂(t),   -3*Γ*ρ₂₃(t)],\n",
       "[-3*Γ*conjugate(ρ₀₃(t))/2, -3*Γ*conjugate(ρ₁₃(t))/2, -3*Γ*conjugate(ρ₂₃(t)),   -3*Γ*ρ₃₃(t)]])"
      ]
     },
     "execution_count": 101,
     "metadata": {},
     "output_type": "execute_result"
    }
   ],
   "source": [
    "dis1 = Dissipator(ham1.levels)\n",
    "dis1.addDecay(3,1,Γ)\n",
    "dis1.addDecay(3,0,2*Γ)\n",
    "dis1.addDecay(2,1,Γ)\n",
    "dis1.addDecay(2,0,2*Γ)\n",
    "\n",
    "dis1.dissipator"
   ]
  },
  {
   "cell_type": "code",
   "execution_count": 102,
   "metadata": {},
   "outputs": [],
   "source": [
    "bloch = BlochEquations(ham.levels, dis.density_matrix, ham.transformed, dis.dissipator)\n",
    "bloch1 = BlochEquations(ham1.levels, dis1.density_matrix, ham1.transformed, dis1.dissipator)"
   ]
  },
  {
   "cell_type": "code",
   "execution_count": 56,
   "metadata": {},
   "outputs": [],
   "source": [
    "y0 = np.zeros([bloch.levels, bloch.levels], dtype = complex)\n",
    "y0[2,2] = 1\n",
    "y0 = y0.flatten()"
   ]
  },
  {
   "cell_type": "code",
   "execution_count": 103,
   "metadata": {},
   "outputs": [],
   "source": [
    "y1 = np.zeros([bloch1.levels, bloch1.levels], dtype = complex)\n",
    "y1[1,1] = 1\n",
    "y1 = y1.flatten()"
   ]
  },
  {
   "cell_type": "code",
   "execution_count": 124,
   "metadata": {},
   "outputs": [],
   "source": [
    "replacements = [(δl, 0),\n",
    "                (Ωl, Γ),\n",
    "                (E0, 20),\n",
    "                (E1, 20.2),\n",
    "                (Ee2, 0),\n",
    "                (Γ, 1)]"
   ]
  },
  {
   "cell_type": "code",
   "execution_count": 125,
   "metadata": {},
   "outputs": [
    {
     "name": "stdout",
     "output_type": "stream",
     "text": [
      "Wall time: 579 ms\n"
     ]
    }
   ],
   "source": [
    "%%time\n",
    "sol = bloch.solveNumeric(replacements, [0,30], y0, method = 'BDF')"
   ]
  },
  {
   "cell_type": "code",
   "execution_count": 126,
   "metadata": {},
   "outputs": [
    {
     "name": "stdout",
     "output_type": "stream",
     "text": [
      "Wall time: 344 ms\n"
     ]
    }
   ],
   "source": [
    "%%time\n",
    "sol1 = bloch1.solveNumeric(replacements, [0,30], y1, method = 'BDF')"
   ]
  },
  {
   "cell_type": "code",
   "execution_count": 127,
   "metadata": {},
   "outputs": [
    {
     "data": {
      "text/plain": [
       "0.4998665657372085"
      ]
     },
     "execution_count": 127,
     "metadata": {},
     "output_type": "execute_result"
    },
    {
     "data": {
      "image/png": "[encoded data removed]",
      "text/plain": [
       "<Figure size 576x360 with 1 Axes>"
      ]
     },
     "metadata": {
      "needs_background": "light"
     },
     "output_type": "display_data"
    }
   ],
   "source": [
    "r = np.einsum(\"iij->ij\", sol.y.reshape(ham.levels, ham.levels,sol.t.size)).real\n",
    "\n",
    "fig, ax = plt.subplots(figsize = (8,5))\n",
    "for idx in range(ham.levels):\n",
    "    ax.plot(sol.t, r[idx], label = f'ρ$_{{{idx}{idx}}}$', lw = 2)\n",
    "\n",
    "ax.legend(fontsize = 13)\n",
    "ax.set_xlabel('time')\n",
    "ax.set_ylabel('population')\n",
    "\n",
    "set_fontsize(ax, 14)\n",
    "\n",
    "np.trapz(np.sum(sol.y[[-2,-1]].real, axis = 0), sol.t)"
   ]
  },
  {
   "cell_type": "code",
   "execution_count": 132,
   "metadata": {},
   "outputs": [
    {
     "data": {
      "text/plain": [
       "0.4998665657372085"
      ]
     },
     "execution_count": 132,
     "metadata": {},
     "output_type": "execute_result"
    },
    {
     "data": {
      "image/png": "[encoded data removed]",
      "text/plain": [
       "<Figure size 576x360 with 1 Axes>"
      ]
     },
     "metadata": {
      "needs_background": "light"
     },
     "output_type": "display_data"
    }
   ],
   "source": [
    "r = np.einsum(\"iij->ij\", sol.y.reshape(ham.levels, ham.levels,sol.t.size)).real\n",
    "\n",
    "fig, ax = plt.subplots(figsize = (8,5))\n",
    "for idx in range(ham.levels):\n",
    "    if idx == 0:\n",
    "        ax.plot(sol.t, r[idx:idx+2].sum(axis = 0), label = f'ρ$_{{0+1}}$', lw = 2)\n",
    "    elif idx not in [0,1]:\n",
    "        ax.plot(sol.t, r[idx], label = f'ρ$_{{{idx}{idx}}}$', lw = 2)\n",
    "\n",
    "ax.legend(fontsize = 13)\n",
    "ax.set_xlabel('time')\n",
    "ax.set_ylabel('population')\n",
    "\n",
    "set_fontsize(ax, 14)\n",
    "\n",
    "np.trapz(np.sum(sol.y[[-2,-1]].real, axis = 0), sol.t)"
   ]
  },
  {
   "cell_type": "code",
   "execution_count": 128,
   "metadata": {},
   "outputs": [
    {
     "data": {
      "text/plain": [
       "0.49985511346599265"
      ]
     },
     "execution_count": 128,
     "metadata": {},
     "output_type": "execute_result"
    },
    {
     "data": {
      "image/png": "[encoded data removed]",
      "text/plain": [
       "<Figure size 576x360 with 1 Axes>"
      ]
     },
     "metadata": {
      "needs_background": "light"
     },
     "output_type": "display_data"
    }
   ],
   "source": [
    "r = np.einsum(\"iij->ij\", sol1.y.reshape(ham1.levels, ham1.levels,sol1.t.size)).real\n",
    "\n",
    "fig, ax = plt.subplots(figsize = (8,5))\n",
    "for idx in range(ham1.levels):\n",
    "    ax.plot(sol1.t, r[idx], label = f'ρ$_{{{idx}{idx}}}$', lw = 2)\n",
    "\n",
    "ax.legend(fontsize = 13)\n",
    "ax.set_xlabel('time')\n",
    "ax.set_ylabel('population')\n",
    "\n",
    "set_fontsize(ax, 14)\n",
    "\n",
    "np.trapz(np.sum(sol1.y[[-2,-1]].real, axis = 0), sol1.t)"
   ]
  },
  {
   "cell_type": "code",
   "execution_count": 122,
   "metadata": {},
   "outputs": [
    {
     "data": {
      "text/plain": [
       "{ρ₀₀: 1.0 - ρ₁₁,\n",
       " ρ₄₄: 0.0,\n",
       " conjugate(ρ₃₄): 0.0,\n",
       " conjugate(ρ₁₄): 0.0,\n",
       " conjugate(ρ₀₄): 0.0,\n",
       " conjugate(ρ₂₄): 0.0,\n",
       " ρ₃₄: 0.0,\n",
       " conjugate(ρ₂₃): 0.0,\n",
       " conjugate(ρ₁₃): 0.0,\n",
       " conjugate(ρ₀₃): 0.0,\n",
       " ρ₂₄: 0.0,\n",
       " ρ₂₂: 0.0,\n",
       " ρ₂₃: 0.0,\n",
       " conjugate(ρ₁₂): 0.0,\n",
       " conjugate(ρ₀₂): 0.0,\n",
       " ρ₁₄: 0.0,\n",
       " ρ₁₃: 0.0,\n",
       " ρ₁₂: 0.0,\n",
       " ρ₀₄: 0.0,\n",
       " ρ₀₃: 0.0,\n",
       " ρ₀₂: 0.0,\n",
       " ρ₃₃: 0.0}"
      ]
     },
     "execution_count": 122,
     "metadata": {},
     "output_type": "execute_result"
    }
   ],
   "source": [
    "bloch.solveSteadyStateSymbolic([(Ee2, 0), (E0, 20.2), (E1, 20.2)])"
   ]
  },
  {
   "cell_type": "code",
   "execution_count": 133,
   "metadata": {},
   "outputs": [
    {
     "data": {
      "text/plain": [
       "{ρ₀₀: 1.00000000000000,\n",
       " ρ₃₃: 0.0,\n",
       " conjugate(ρ₂₃): 0.0,\n",
       " conjugate(ρ₀₃): 0.0,\n",
       " conjugate(ρ₁₃): 0.0,\n",
       " ρ₂₃: 0.0,\n",
       " conjugate(ρ₁₂): 0.0,\n",
       " conjugate(ρ₀₂): 0.0,\n",
       " ρ₁₃: 0.0,\n",
       " ρ₁₁: 0.0,\n",
       " ρ₁₂: 0.0,\n",
       " conjugate(ρ₀₁): 0.0,\n",
       " ρ₀₃: 0.0,\n",
       " ρ₀₂: 0.0,\n",
       " ρ₀₁: 0.0,\n",
       " ρ₂₂: 0.0}"
      ]
     },
     "execution_count": 133,
     "metadata": {},
     "output_type": "execute_result"
    }
   ],
   "source": [
    "bloch1.solveSteadyStateSymbolic([(Ee2, 0), (E0, 20.2), (E1, 20.2)])"
   ]
  },
  {
   "cell_type": "code",
   "execution_count": null,
   "metadata": {},
   "outputs": [],
   "source": []
  }
 ],
 "metadata": {
  "kernelspec": {
   "display_name": "Python 3",
   "language": "python",
   "name": "python3"
  },
  "language_info": {
   "codemirror_mode": {
    "name": "ipython",
    "version": 3
   },
   "file_extension": ".py",
   "mimetype": "text/x-python",
   "name": "python",
   "nbconvert_exporter": "python",
   "pygments_lexer": "ipython3",
   "version": "3.8.5"
  }
 },
 "nbformat": 4,
 "nbformat_minor": 4
}
