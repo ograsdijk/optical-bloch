{
 "cells": [
  {
   "cell_type": "code",
   "execution_count": 1,
   "metadata": {},
   "outputs": [],
   "source": [
    "%load_ext autoreload\n",
    "%autoreload 2\n",
    "\n",
    "import sys\n",
    "sys.path.append(\"../..\")\n",
    "\n",
    "import h5py\n",
    "import scipy\n",
    "import sympy\n",
    "import pickle\n",
    "import numpy as np\n",
    "from tqdm import tqdm\n",
    "from pathlib import Path\n",
    "import matplotlib.pyplot as plt\n",
    "from scipy.sparse import csr_matrix\n",
    "from sympy import Symbol, zeros, Function, MatrixSymbol\n",
    "\n",
    "# import created modules\n",
    "from hamiltonian.states import CoupledBasisState\n",
    "from hamiltonian.generate_hamiltonian import generate_X_hamiltonian_function, generate_B_hamiltonian_function, \\\n",
    "                                                generate_diagonalized_hamiltonian, generate_total_hamiltonian, \\\n",
    "                                            generate_reduced_X_hamiltonian, generate_reduced_B_hamiltonian\n",
    "from hamiltonian.utils import ni_range, matrix_to_states, find_exact_states, reduced_basis_hamiltonian, \\\n",
    "                                find_state_idx_from_state, reorder_evecs, generate_coupled_ground_states\n",
    "\n",
    "from couplings.utils import ED_ME_mixed_state, collapse_matrices, generate_superoperator, \\\n",
    "                            generate_flat_superoperator, generate_sharp_superoperator, \\\n",
    "                            check_approx_state_exact_state\n",
    "from couplings.generate_coupling import optical_coupling_matrix, microwave_coupling_matrix, \\\n",
    "                                        generate_laser_D, generate_microwave_D,\\\n",
    "                                        generate_coupling_field\n",
    "\n",
    "from symbolic import generate_density_matrix_symbolic, generate_system_of_equations, generate_symbolic_hamiltonian,\\\n",
    "                        system_of_equations_to_lines, generate_symbolic_detunings\n",
    "from symbolic.utils import subs_rabi_rate\n",
    "\n",
    "from utils.plot_utils import set_fontsize\n",
    "from utils import population, J_levels, J_slice, delete_J_level\n",
    "\n",
    "from hamiltonian.generate_states import generate_ground_states_approx, generate_excited_states_approx"
   ]
  },
  {
   "cell_type": "code",
   "execution_count": 2,
   "metadata": {},
   "outputs": [
    {
     "data": {
      "text/plain": [
       "WindowsPath('C:/Users/Olivier/Documents/GitHub/optical-bloch')"
      ]
     },
     "execution_count": 2,
     "metadata": {},
     "output_type": "execute_result"
    }
   ],
   "source": [
    "script_dir = Path().parent.absolute().parent.parent\n",
    "script_dir"
   ]
  },
  {
   "cell_type": "markdown",
   "metadata": {},
   "source": [
    "## X-state\n",
    "\n",
    "Define what states from the $X ^1\\Sigma$ electronic state are to be included in the simulation."
   ]
  },
  {
   "cell_type": "code",
   "execution_count": 3,
   "metadata": {},
   "outputs": [],
   "source": [
    "Jg = [2,4]\n",
    "#Generate a list of approximate ground states. The exact ground states are determined within the main\n",
    "#simulation function\n",
    "ground_states_approx = generate_ground_states_approx(Jg)\n",
    "\n",
    "ground_states, H_X_red = generate_reduced_X_hamiltonian(ground_states_approx)"
   ]
  },
  {
   "cell_type": "code",
   "execution_count": 4,
   "metadata": {},
   "outputs": [
    {
     "name": "stdout",
     "output_type": "stream",
     "text": [
      "+1.0000+0.0000j x |X, J = 2, F1 = 3/2, F = 1, mF = -1, I1 = 1/2, I2 = 1/2, P = 1, Omega = 0>\n",
      "+1.0000+0.0000j x |X, J = 2, F1 = 3/2, F = 1, mF = 0, I1 = 1/2, I2 = 1/2, P = 1, Omega = 0>\n",
      "+1.0000+0.0000j x |X, J = 2, F1 = 3/2, F = 1, mF = 1, I1 = 1/2, I2 = 1/2, P = 1, Omega = 0>\n",
      "+1.0000+0.0000j x |X, J = 2, F1 = 3/2, F = 2, mF = -2, I1 = 1/2, I2 = 1/2, P = 1, Omega = 0>\n",
      "+1.0000+0.0000j x |X, J = 2, F1 = 3/2, F = 2, mF = -1, I1 = 1/2, I2 = 1/2, P = 1, Omega = 0>\n",
      "+1.0000+0.0000j x |X, J = 2, F1 = 3/2, F = 2, mF = 0, I1 = 1/2, I2 = 1/2, P = 1, Omega = 0>\n",
      "+1.0000+0.0000j x |X, J = 2, F1 = 3/2, F = 2, mF = 1, I1 = 1/2, I2 = 1/2, P = 1, Omega = 0>\n",
      "+1.0000+0.0000j x |X, J = 2, F1 = 3/2, F = 2, mF = 2, I1 = 1/2, I2 = 1/2, P = 1, Omega = 0>\n",
      "+1.0000+0.0000j x |X, J = 2, F1 = 5/2, F = 2, mF = -2, I1 = 1/2, I2 = 1/2, P = 1, Omega = 0>\n",
      "+1.0000+0.0000j x |X, J = 2, F1 = 5/2, F = 2, mF = -1, I1 = 1/2, I2 = 1/2, P = 1, Omega = 0>\n",
      "+1.0000+0.0000j x |X, J = 2, F1 = 5/2, F = 2, mF = 0, I1 = 1/2, I2 = 1/2, P = 1, Omega = 0>\n",
      "+1.0000+0.0000j x |X, J = 2, F1 = 5/2, F = 2, mF = 1, I1 = 1/2, I2 = 1/2, P = 1, Omega = 0>\n",
      "+1.0000+0.0000j x |X, J = 2, F1 = 5/2, F = 2, mF = 2, I1 = 1/2, I2 = 1/2, P = 1, Omega = 0>\n",
      "+1.0000+0.0000j x |X, J = 2, F1 = 5/2, F = 3, mF = -3, I1 = 1/2, I2 = 1/2, P = 1, Omega = 0>\n",
      "+1.0000+0.0000j x |X, J = 2, F1 = 5/2, F = 3, mF = -2, I1 = 1/2, I2 = 1/2, P = 1, Omega = 0>\n",
      "+1.0000+0.0000j x |X, J = 2, F1 = 5/2, F = 3, mF = -1, I1 = 1/2, I2 = 1/2, P = 1, Omega = 0>\n",
      "+1.0000+0.0000j x |X, J = 2, F1 = 5/2, F = 3, mF = 0, I1 = 1/2, I2 = 1/2, P = 1, Omega = 0>\n",
      "+1.0000+0.0000j x |X, J = 2, F1 = 5/2, F = 3, mF = 1, I1 = 1/2, I2 = 1/2, P = 1, Omega = 0>\n",
      "+1.0000+0.0000j x |X, J = 2, F1 = 5/2, F = 3, mF = 2, I1 = 1/2, I2 = 1/2, P = 1, Omega = 0>\n",
      "+1.0000+0.0000j x |X, J = 2, F1 = 5/2, F = 3, mF = 3, I1 = 1/2, I2 = 1/2, P = 1, Omega = 0>\n",
      "+1.0000+0.0000j x |X, J = 4, F1 = 7/2, F = 3, mF = -3, I1 = 1/2, I2 = 1/2, P = 1, Omega = 0>\n",
      "+1.0000+0.0000j x |X, J = 4, F1 = 7/2, F = 3, mF = -2, I1 = 1/2, I2 = 1/2, P = 1, Omega = 0>\n",
      "+1.0000+0.0000j x |X, J = 4, F1 = 7/2, F = 3, mF = -1, I1 = 1/2, I2 = 1/2, P = 1, Omega = 0>\n",
      "+1.0000+0.0000j x |X, J = 4, F1 = 7/2, F = 3, mF = 0, I1 = 1/2, I2 = 1/2, P = 1, Omega = 0>\n",
      "+1.0000+0.0000j x |X, J = 4, F1 = 7/2, F = 3, mF = 1, I1 = 1/2, I2 = 1/2, P = 1, Omega = 0>\n",
      "+1.0000+0.0000j x |X, J = 4, F1 = 7/2, F = 3, mF = 2, I1 = 1/2, I2 = 1/2, P = 1, Omega = 0>\n",
      "+1.0000+0.0000j x |X, J = 4, F1 = 7/2, F = 3, mF = 3, I1 = 1/2, I2 = 1/2, P = 1, Omega = 0>\n",
      "+1.0000+0.0000j x |X, J = 4, F1 = 7/2, F = 4, mF = -4, I1 = 1/2, I2 = 1/2, P = 1, Omega = 0>\n",
      "+1.0000+0.0000j x |X, J = 4, F1 = 7/2, F = 4, mF = -3, I1 = 1/2, I2 = 1/2, P = 1, Omega = 0>\n",
      "+1.0000+0.0000j x |X, J = 4, F1 = 7/2, F = 4, mF = -2, I1 = 1/2, I2 = 1/2, P = 1, Omega = 0>\n",
      "+1.0000+0.0000j x |X, J = 4, F1 = 7/2, F = 4, mF = -1, I1 = 1/2, I2 = 1/2, P = 1, Omega = 0>\n",
      "+1.0000+0.0000j x |X, J = 4, F1 = 7/2, F = 4, mF = 0, I1 = 1/2, I2 = 1/2, P = 1, Omega = 0>\n",
      "+1.0000+0.0000j x |X, J = 4, F1 = 7/2, F = 4, mF = 1, I1 = 1/2, I2 = 1/2, P = 1, Omega = 0>\n",
      "+1.0000+0.0000j x |X, J = 4, F1 = 7/2, F = 4, mF = 2, I1 = 1/2, I2 = 1/2, P = 1, Omega = 0>\n",
      "+1.0000+0.0000j x |X, J = 4, F1 = 7/2, F = 4, mF = 3, I1 = 1/2, I2 = 1/2, P = 1, Omega = 0>\n",
      "+1.0000+0.0000j x |X, J = 4, F1 = 7/2, F = 4, mF = 4, I1 = 1/2, I2 = 1/2, P = 1, Omega = 0>\n",
      "+1.0000+0.0000j x |X, J = 4, F1 = 9/2, F = 4, mF = -4, I1 = 1/2, I2 = 1/2, P = 1, Omega = 0>\n",
      "+1.0000+0.0000j x |X, J = 4, F1 = 9/2, F = 4, mF = -3, I1 = 1/2, I2 = 1/2, P = 1, Omega = 0>\n",
      "+1.0000+0.0000j x |X, J = 4, F1 = 9/2, F = 4, mF = -2, I1 = 1/2, I2 = 1/2, P = 1, Omega = 0>\n",
      "+1.0000+0.0000j x |X, J = 4, F1 = 9/2, F = 4, mF = -1, I1 = 1/2, I2 = 1/2, P = 1, Omega = 0>\n",
      "+1.0000+0.0000j x |X, J = 4, F1 = 9/2, F = 4, mF = 0, I1 = 1/2, I2 = 1/2, P = 1, Omega = 0>\n",
      "+1.0000+0.0000j x |X, J = 4, F1 = 9/2, F = 4, mF = 1, I1 = 1/2, I2 = 1/2, P = 1, Omega = 0>\n",
      "+1.0000+0.0000j x |X, J = 4, F1 = 9/2, F = 4, mF = 2, I1 = 1/2, I2 = 1/2, P = 1, Omega = 0>\n",
      "+1.0000+0.0000j x |X, J = 4, F1 = 9/2, F = 4, mF = 3, I1 = 1/2, I2 = 1/2, P = 1, Omega = 0>\n",
      "+1.0000+0.0000j x |X, J = 4, F1 = 9/2, F = 4, mF = 4, I1 = 1/2, I2 = 1/2, P = 1, Omega = 0>\n",
      "+1.0000+0.0000j x |X, J = 4, F1 = 9/2, F = 5, mF = -5, I1 = 1/2, I2 = 1/2, P = 1, Omega = 0>\n",
      "+1.0000+0.0000j x |X, J = 4, F1 = 9/2, F = 5, mF = -4, I1 = 1/2, I2 = 1/2, P = 1, Omega = 0>\n",
      "+1.0000+0.0000j x |X, J = 4, F1 = 9/2, F = 5, mF = -3, I1 = 1/2, I2 = 1/2, P = 1, Omega = 0>\n",
      "+1.0000+0.0000j x |X, J = 4, F1 = 9/2, F = 5, mF = -2, I1 = 1/2, I2 = 1/2, P = 1, Omega = 0>\n",
      "+1.0000+0.0000j x |X, J = 4, F1 = 9/2, F = 5, mF = -1, I1 = 1/2, I2 = 1/2, P = 1, Omega = 0>\n",
      "+1.0000+0.0000j x |X, J = 4, F1 = 9/2, F = 5, mF = 0, I1 = 1/2, I2 = 1/2, P = 1, Omega = 0>\n",
      "+1.0000+0.0000j x |X, J = 4, F1 = 9/2, F = 5, mF = 1, I1 = 1/2, I2 = 1/2, P = 1, Omega = 0>\n",
      "+1.0000+0.0000j x |X, J = 4, F1 = 9/2, F = 5, mF = 2, I1 = 1/2, I2 = 1/2, P = 1, Omega = 0>\n",
      "+1.0000+0.0000j x |X, J = 4, F1 = 9/2, F = 5, mF = 3, I1 = 1/2, I2 = 1/2, P = 1, Omega = 0>\n",
      "+1.0000+0.0000j x |X, J = 4, F1 = 9/2, F = 5, mF = 4, I1 = 1/2, I2 = 1/2, P = 1, Omega = 0>\n",
      "+1.0000+0.0000j x |X, J = 4, F1 = 9/2, F = 5, mF = 5, I1 = 1/2, I2 = 1/2, P = 1, Omega = 0>\n"
     ]
    }
   ],
   "source": [
    "for s in ground_states_approx:\n",
    "    s.print_state()"
   ]
  },
  {
   "cell_type": "markdown",
   "metadata": {},
   "source": [
    "## B-state\n",
    "Define what states from the $B ^3\\Pi_1$ electronic state are to be included in the simulation. Only need the states that are coupled to J = 1 in the X-state by the laser."
   ]
  },
  {
   "cell_type": "code",
   "execution_count": 5,
   "metadata": {},
   "outputs": [],
   "source": [
    "# define what states are to be included in the simulation\n",
    "# specify J, F1 and F for each state separately\n",
    "J_excited = [3]\n",
    "F1_excited = [7/2]\n",
    "F_excited = [3]\n",
    "\n",
    "excited_states_approx = generate_excited_states_approx(J_excited, F_excited, F1_excited, P=-1)\n",
    "\n",
    "excited_states, H_B_red = generate_reduced_B_hamiltonian(excited_states_approx)"
   ]
  },
  {
   "cell_type": "code",
   "execution_count": 6,
   "metadata": {},
   "outputs": [
    {
     "name": "stdout",
     "output_type": "stream",
     "text": [
      "+1.0000+0.0000j x |B, J = 3, F1 = 7/2, F = 3, mF = -3, I1 = 1/2, I2 = 1/2, P = -1, Omega = 1>\n",
      "+1.0000+0.0000j x |B, J = 3, F1 = 7/2, F = 3, mF = -2, I1 = 1/2, I2 = 1/2, P = -1, Omega = 1>\n",
      "+1.0000+0.0000j x |B, J = 3, F1 = 7/2, F = 3, mF = -1, I1 = 1/2, I2 = 1/2, P = -1, Omega = 1>\n",
      "+1.0000+0.0000j x |B, J = 3, F1 = 7/2, F = 3, mF = 0, I1 = 1/2, I2 = 1/2, P = -1, Omega = 1>\n",
      "+1.0000+0.0000j x |B, J = 3, F1 = 7/2, F = 3, mF = 1, I1 = 1/2, I2 = 1/2, P = -1, Omega = 1>\n",
      "+1.0000+0.0000j x |B, J = 3, F1 = 7/2, F = 3, mF = 2, I1 = 1/2, I2 = 1/2, P = -1, Omega = 1>\n",
      "+1.0000+0.0000j x |B, J = 3, F1 = 7/2, F = 3, mF = 3, I1 = 1/2, I2 = 1/2, P = -1, Omega = 1>\n"
     ]
    }
   ],
   "source": [
    "for s in excited_states_approx:\n",
    "    s.print_state()"
   ]
  },
  {
   "cell_type": "markdown",
   "metadata": {},
   "source": [
    "Now generate the excited state Hamiltonian to get the reduced B state Hamiltonian"
   ]
  },
  {
   "cell_type": "markdown",
   "metadata": {},
   "source": [
    "## Total Internal Hamiltonian"
   ]
  },
  {
   "cell_type": "code",
   "execution_count": 7,
   "metadata": {},
   "outputs": [],
   "source": [
    "H_int, V_ref_int = generate_total_hamiltonian(H_X_red, H_B_red)\n",
    "#Define Hamiltonian in the rotating frame (transformation not applied yet)\n",
    "H_rot = H_int.copy()\n",
    "\n",
    "#Define QN for the total Hamiltonian that includes both X and B\n",
    "QN = ground_states + excited_states"
   ]
  },
  {
   "cell_type": "markdown",
   "metadata": {},
   "source": [
    "## Laser coupling\n",
    "### Calculating transition R(2) F'=3 F1'=7/2"
   ]
  },
  {
   "cell_type": "code",
   "execution_count": 8,
   "metadata": {},
   "outputs": [],
   "source": [
    "#Define ground states for laser driven transition\n",
    "Js = [2]\n",
    "ground_states_laser_approx =  generate_ground_states_approx(Js)\n",
    "\n",
    "#Define excited states for laser\n",
    "excited_states_laser_approx = excited_states_approx\n",
    "\n",
    "#Define the \"main\" states. These are used to calculate the detunings and Rabi rates for the transitions\n",
    "ground_main_approx = 1*CoupledBasisState(J=2,F1=5/2,F=2,mF=0,I1=1/2,I2=1/2,electronic_state='X', P = (-1)**2, Omega = 0)\n",
    "excited_main_approx = 1*CoupledBasisState(J=3,F1=7/2,F=3,mF=0,I1=1/2,I2=1/2, electronic_state='B', P = -1, Omega = 1)"
   ]
  },
  {
   "cell_type": "code",
   "execution_count": 9,
   "metadata": {},
   "outputs": [
    {
     "name": "stdout",
     "output_type": "stream",
     "text": [
      "Wall time: 1min 6s\n"
     ]
    }
   ],
   "source": [
    "%%time\n",
    "laser_couplings = generate_coupling_field(ground_main_approx, excited_main_approx, \n",
    "                                        ground_states_laser_approx, excited_states_laser_approx,\n",
    "                                        H_rot, QN, V_ref_int, pol_main = np.array([0,0,1]),\n",
    "                                        pol_vec = [np.array([0,0,1]), np.array([1,0,0])],\n",
    "                                        nprocs = 6)"
   ]
  },
  {
   "cell_type": "code",
   "execution_count": 10,
   "metadata": {},
   "outputs": [],
   "source": [
    "Dl = generate_laser_D(H_rot, QN, \n",
    "                      laser_couplings[0]['ground_main'], laser_couplings[0]['excited_main'], \n",
    "                      laser_couplings[0]['excited_states'], Δ = 0)"
   ]
  },
  {
   "cell_type": "code",
   "execution_count": 11,
   "metadata": {},
   "outputs": [
    {
     "data": {
      "text/plain": [
       "(0.5712196929835656+0j)"
      ]
     },
     "execution_count": 11,
     "metadata": {},
     "output_type": "execute_result"
    }
   ],
   "source": [
    "laser_couplings[0]['main_coupling']"
   ]
  },
  {
   "cell_type": "markdown",
   "metadata": {},
   "source": [
    "## Total Hamiltonian"
   ]
  },
  {
   "cell_type": "code",
   "execution_count": 12,
   "metadata": {},
   "outputs": [
    {
     "name": "stdout",
     "output_type": "stream",
     "text": [
      "[-2.03155955e+06 -2.03154953e+06 -2.03153950e+06 -1.75182096e+06\n",
      " -1.75182515e+06 -1.75182933e+06 -1.75183352e+06 -1.75183771e+06\n",
      " -1.17449951e+00 -5.87371826e-01  0.00000000e+00  5.87280273e-01\n",
      "  1.17547607e+00  2.21307170e+05  2.21300302e+05  2.21293435e+05\n",
      "  2.21286568e+05  2.21279699e+05  2.21272832e+05  2.21265963e+05\n",
      "  5.86486114e+11  5.86486114e+11  5.86486114e+11  5.86486114e+11\n",
      "  5.86486114e+11  5.86486114e+11  5.86486114e+11  5.86486634e+11\n",
      "  5.86486634e+11  5.86486634e+11  5.86486634e+11  5.86486634e+11\n",
      "  5.86486634e+11  5.86486634e+11  5.86486634e+11  5.86486634e+11\n",
      "  5.86489721e+11  5.86489721e+11  5.86489721e+11  5.86489721e+11\n",
      "  5.86489721e+11  5.86489721e+11  5.86489721e+11  5.86489721e+11\n",
      "  5.86489721e+11  5.86490180e+11  5.86490180e+11  5.86490180e+11\n",
      "  5.86490180e+11  5.86490180e+11  5.86490180e+11  5.86490180e+11\n",
      "  5.86490180e+11  5.86490180e+11  5.86490180e+11  5.86490180e+11\n",
      " -1.88514404e+01 -1.25682373e+01 -6.28588867e+00  0.00000000e+00\n",
      "  6.28186035e+00  1.25645752e+01  1.88480835e+01]\n"
     ]
    },
    {
     "data": {
      "image/png": "[encoded data removed]",
      "text/plain": [
       "<Figure size 432x288 with 1 Axes>"
      ]
     },
     "metadata": {
      "needs_background": "light"
     },
     "output_type": "display_data"
    }
   ],
   "source": [
    "gnd_idx = QN.index(laser_couplings[0]['ground_main'])\n",
    "H_rot = H_int.copy()\n",
    "H_rot = H_rot - np.eye(H_rot.shape[0])*H_rot[gnd_idx,gnd_idx]\n",
    "H_rot = H_rot + Dl\n",
    "plt.imshow(H_rot.real)\n",
    "print(np.diag(H_rot.real))"
   ]
  },
  {
   "cell_type": "code",
   "execution_count": 13,
   "metadata": {},
   "outputs": [
    {
     "name": "stderr",
     "output_type": "stream",
     "text": [
      "100%|████████████████████████████████████████████████████████████████████████████████████| 7/7 [00:05<00:00,  1.36it/s]\n"
     ]
    }
   ],
   "source": [
    "Γ = 2*np.pi*1.6e6\n",
    "C_list = collapse_matrices(QN, ground_states, excited_states, gamma = Γ)\n",
    "C_array = np.array(C_list)\n",
    "C_conj_array = np.einsum('ijk->ikj', C_array.conj())"
   ]
  },
  {
   "cell_type": "code",
   "execution_count": 14,
   "metadata": {},
   "outputs": [],
   "source": [
    "t = Symbol(\"t\", real = True)\n",
    "Plx = Symbol(\"Plx\") # Polarization switching function for x\n",
    "Plz = Symbol(\"Plz\") # Polarization switching function for z\n",
    "\n",
    "laser_fields = [(laser_couplings[0]['field']*Plz, laser_couplings[0]['main_coupling']), \n",
    "                (laser_couplings[1]['field']*Plx, laser_couplings[1]['main_coupling'])]\n",
    "detunings = [[QN.index(exc) for exc in laser_couplings[0]['excited_states']]]"
   ]
  },
  {
   "cell_type": "code",
   "execution_count": 15,
   "metadata": {},
   "outputs": [],
   "source": [
    "n_states = H_rot.shape[0]\n",
    "H_symbolic, Ωs = generate_symbolic_hamiltonian(n_states, laser_fields)\n",
    "Δ_symbolic, Δs = generate_symbolic_detunings(n_states, detunings)\n",
    "H_symbolic += Δ_symbolic + H_rot"
   ]
  },
  {
   "cell_type": "code",
   "execution_count": 16,
   "metadata": {},
   "outputs": [],
   "source": [
    "Ωl = Symbol('Ωl', real = True)\n",
    "Ωlc = Symbol('Ωlᶜ', real = True)\n",
    "H_symbolic = H_symbolic.subs(Ωs[0][0],Ωl).subs(Ωs[0][1],Ωlc)\n",
    "H_symbolic = H_symbolic.subs(Ωs[1][0],Ωl).subs(Ωs[1][1],Ωlc)\n",
    "\n",
    "# H_symbolic"
   ]
  },
  {
   "cell_type": "code",
   "execution_count": 17,
   "metadata": {},
   "outputs": [
    {
     "name": "stdout",
     "output_type": "stream",
     "text": [
      "Wall time: 57.6 s\n"
     ]
    }
   ],
   "source": [
    "%%time\n",
    "H, L = generate_system_of_equations(H_symbolic, C_array, progress = False, fast = True, split_output = True)"
   ]
  },
  {
   "cell_type": "code",
   "execution_count": 18,
   "metadata": {},
   "outputs": [
    {
     "name": "stdout",
     "output_type": "stream",
     "text": [
      "Wall time: 1min 15s\n"
     ]
    }
   ],
   "source": [
    "%%time\n",
    "# convert matrix to system of equations code\n",
    "system = H + L\n",
    "code_lines = system_of_equations_to_lines(system, nprocs = 6)"
   ]
  },
  {
   "cell_type": "markdown",
   "metadata": {},
   "source": [
    "# Solving ODE system with Julia\n",
    "Need to install Julia and add the following packages to Julia:  \n",
    "* [DifferentialEquations](https://diffeq.sciml.ai/stable/)\n",
    "* [Trapz](https://github.com/francescoalemanno/Trapz.jl)\n",
    "\n",
    "And install [PyJulia](https://pyjulia.readthedocs.io/en/latest/index.html) for python.  "
   ]
  },
  {
   "cell_type": "code",
   "execution_count": 19,
   "metadata": {},
   "outputs": [],
   "source": [
    "# import julia\n",
    "# julia.install()"
   ]
  },
  {
   "cell_type": "code",
   "execution_count": 20,
   "metadata": {},
   "outputs": [],
   "source": [
    "from julia import Main"
   ]
  },
  {
   "cell_type": "code",
   "execution_count": 21,
   "metadata": {},
   "outputs": [
    {
     "name": "stdout",
     "output_type": "stream",
     "text": [
      "[1 2 3 4 5 6]\n"
     ]
    }
   ],
   "source": [
    "nprocs = 6\n",
    "\n",
    "Main.eval(\"\"\"\n",
    "using Logging: global_logger\n",
    "using TerminalLoggers: TerminalLogger\n",
    "global_logger(TerminalLogger())\n",
    "\n",
    "using Distributed\n",
    "using BenchmarkTools\n",
    "\"\"\")\n",
    "\n",
    "if Main.eval(\"nprocs()\") < nprocs:\n",
    "    Main.eval(f\"addprocs({nprocs}-nprocs())\")\n",
    "\n",
    "if Main.eval(\"nprocs()\") > nprocs:\n",
    "    addprocs({nprocs})\n",
    "    procs = Main.eval(\"procs()\")\n",
    "    procs = procs[nprocs:]\n",
    "    Main.eval(f\"rmprocs({procs})\")\n",
    "\n",
    "Main.eval(\"\"\"\n",
    "@everywhere begin\n",
    "    using LinearAlgebra\n",
    "    using Trapz\n",
    "    using DifferentialEquations\n",
    "    include(\"../../utils/general_ode_functions.jl\")\n",
    "end\n",
    "\"\"\")\n",
    "\n",
    "print(Main.eval(\"procs()\"))"
   ]
  },
  {
   "cell_type": "markdown",
   "metadata": {},
   "source": [
    "## Creating the Julia function to compute the RHS of the Lindblad Equation\n",
    "Note that only here the polarization switching function is added.  \n",
    "Anything added symbolically can be modified here."
   ]
  },
  {
   "cell_type": "code",
   "execution_count": 22,
   "metadata": {},
   "outputs": [],
   "source": [
    "ode_fun = \"\"\"function Lindblad_rhs!(du, ρ, p, t)\n",
    "\\t@inbounds begin\n",
    "\\t\\tΩl = p[1]\n",
    "\\t\\tΔ = p[2]\n",
    "\\t\\tωp = p[3]\n",
    "\\t\\tϕ = p[4]\n",
    "\\t\\tΩlᶜ = conj(Ωl)\n",
    "\n",
    "\\t\\tPl = sin(ωp*t + ϕ)\n",
    "\\t\\tPlx = (1-Pl)/2\n",
    "\\t\\tPlz = (1+Pl)/2\n",
    "\"\"\""
   ]
  },
  {
   "cell_type": "code",
   "execution_count": 23,
   "metadata": {},
   "outputs": [
    {
     "name": "stdout",
     "output_type": "stream",
     "text": [
      "function Lindblad_rhs!(du, ρ, p, t)\n",
      "\t@inbounds begin\n",
      "\t\tΩl = p[1]\n",
      "\t\tΔ = p[2]\n",
      "\t\tωp = p[3]\n",
      "\t\tϕ = p[4]\n",
      "\t\tΩlᶜ = conj(Ωl)\n",
      "\n",
      "\t\tPl = sin(ωp*t + ϕ)\n",
      "\t\tPlx = (1-Pl)/2\n",
      "\t\tPlz = (1+Pl)/2\n",
      "\n"
     ]
    }
   ],
   "source": [
    "print(ode_fun)"
   ]
  },
  {
   "cell_type": "code",
   "execution_count": 24,
   "metadata": {},
   "outputs": [],
   "source": [
    "for cline in code_lines:\n",
    "    ode_fun += \"\\t\\t\"+cline+'\\n'\n",
    "ode_fun += '\\t end \\n \\t nothing \\n end'"
   ]
  },
  {
   "cell_type": "code",
   "execution_count": 25,
   "metadata": {},
   "outputs": [],
   "source": [
    "# making the function in Julia\n",
    "Main.eval(f\"@everywhere {ode_fun}\")"
   ]
  },
  {
   "cell_type": "markdown",
   "metadata": {},
   "source": [
    "### Generate density matrix"
   ]
  },
  {
   "cell_type": "code",
   "execution_count": 26,
   "metadata": {},
   "outputs": [],
   "source": [
    "import scipy.constants as cst\n",
    "\n",
    "def population(J, T, B=6.66733e9, n = 100):\n",
    "    c = 2*np.pi*cst.hbar*B/(cst.k*T)\n",
    "    g = lambda J: 4*(2*J+1)\n",
    "    a = lambda J: -c*J*(J+1)\n",
    "    Z = np.sum([g(i)*np.exp(a(i)) for i in range(n)])\n",
    "    return g(J)*np.exp(a(J))/Z"
   ]
  },
  {
   "cell_type": "code",
   "execution_count": 27,
   "metadata": {},
   "outputs": [],
   "source": [
    "def J_levels(J):\n",
    "    return 4*(2*J + 1)\n",
    "\n",
    "def J_slice(J):\n",
    "    if J == 0:\n",
    "        return np.s_[0:J_levels(0)]\n",
    "    else:\n",
    "        levels = J_levels(np.arange(J+1))\n",
    "        return np.s_[np.sum(levels[:-1]):np.sum(levels)]"
   ]
  },
  {
   "cell_type": "code",
   "execution_count": 28,
   "metadata": {},
   "outputs": [],
   "source": [
    "T = 6.3\n",
    "ρ_ini = np.zeros(H_rot.shape, dtype = 'complex')\n",
    "\n",
    "index = 0\n",
    "for J in [2]:\n",
    "    p = population(J, T)\n",
    "    levels = J_levels(J)\n",
    "    sl = np.s_[index:index+levels]\n",
    "    np.fill_diagonal(ρ_ini[sl, sl], p/levels)\n",
    "    index += levels\n",
    "\n",
    "ρ_ini /= np.diag(ρ_ini).sum()"
   ]
  },
  {
   "cell_type": "code",
   "execution_count": 29,
   "metadata": {},
   "outputs": [],
   "source": [
    "Γ = 2*np.pi * 1.56e6\n",
    "\n",
    "\n",
    "Main.Γ = Γ\n",
    "\n",
    "Main.ρ_ini = ρ_ini\n",
    "\n",
    "# setting up the parameters to send to the differential equation\n",
    "Main.eval(\"\"\"\n",
    "@everywhere begin\n",
    "    Γ = 2pi*1.56e6\n",
    "    Ωl = 0.1Γ\n",
    "    Δ = 0\n",
    "    ωp = Γ\n",
    "    ϕ = 0\n",
    "    p = [Ωl, Δ, ωp, ϕ]\n",
    "end\n",
    "\"\"\")"
   ]
  },
  {
   "cell_type": "code",
   "execution_count": 30,
   "metadata": {},
   "outputs": [
    {
     "name": "stdout",
     "output_type": "stream",
     "text": [
      "Wall time: 4min 59s\n"
     ]
    },
    {
     "data": {
      "text/plain": [
       "0"
      ]
     },
     "execution_count": 30,
     "metadata": {},
     "output_type": "execute_result"
    }
   ],
   "source": [
    "%%time\n",
    "du = np.zeros(ρ_ini.shape, dtype = 'complex')\n",
    "Main.du = du\n",
    "Main.eval(\"\"\"\n",
    "@time Lindblad_rhs!(du, ρ_ini, p, 0.)\n",
    "tmp = 0\n",
    "\"\"\")"
   ]
  },
  {
   "cell_type": "markdown",
   "metadata": {},
   "source": [
    "### Setting up the ODE problem to solve\n",
    "`tmp = 0` is just to prevent `Main.eval` from outputting the problem in the notebook.  \n",
    "The ODEProblem takes a function to solve (`Lindblad_rhs!` in this case), initial conditions `ρ_ini`, a timespan `tspan` an additional arguments for the ODE function, denoted here by `p` "
   ]
  },
  {
   "cell_type": "code",
   "execution_count": 31,
   "metadata": {},
   "outputs": [],
   "source": [
    "Main.eval(\"\"\"\n",
    "tspan = (0.0, 30e-6)\n",
    "prob = ODEProblem(Lindblad_rhs!,ρ_ini,tspan,p)\n",
    "\"\"\");"
   ]
  },
  {
   "cell_type": "code",
   "execution_count": 32,
   "metadata": {},
   "outputs": [
    {
     "name": "stdout",
     "output_type": "stream",
     "text": [
      "Wall time: 11.3 s\n"
     ]
    },
    {
     "data": {
      "text/plain": [
       "0"
      ]
     },
     "execution_count": 32,
     "metadata": {},
     "output_type": "execute_result"
    }
   ],
   "source": [
    "%%time\n",
    "Main.eval(\"\"\"\n",
    "@time sol = solve(prob, Tsit5(), abstol = 1e-7, reltol = 1e-4, progress = false);\n",
    "tmp = 0\n",
    "\"\"\");"
   ]
  },
  {
   "cell_type": "code",
   "execution_count": 33,
   "metadata": {},
   "outputs": [],
   "source": [
    "ut = np.array(Main.eval(\"sol[:]\")).T\n",
    "pop_results = np.real(np.einsum('jji->ji',ut.reshape((ρ_ini.shape[0], ρ_ini.shape[1], ut.shape[2]))))\n",
    "t_array = Main.eval(\"sol.t\")"
   ]
  },
  {
   "cell_type": "code",
   "execution_count": 34,
   "metadata": {},
   "outputs": [
    {
     "data": {
      "image/png": "[encoded data removed]",
      "text/plain": [
       "<Figure size 576x360 with 1 Axes>"
      ]
     },
     "metadata": {
      "needs_background": "light"
     },
     "output_type": "display_data"
    }
   ],
   "source": [
    "fig, ax = plt.subplots(figsize = (8,5))\n",
    "\n",
    "for idx, pop in enumerate(pop_results):\n",
    "    ls = '-'\n",
    "    if idx in range(0,len(pop_results)):\n",
    "        s = QN[idx].find_largest_component()\n",
    "        label = f'{s.electronic_state}, J={s.J}, F={s.F:.0f}, F1={s.F1}, mF={s.mF:+.0f}'\n",
    "        ax.plot(t_array*1e6, pop, lw = 2, label = label, ls = ls)\n",
    "#         ax.plot(t_array, pop, lw = 2, label = f\"ρ$_{{{idx},{idx}}}$\", ls = ls)\n",
    "\n",
    "ax.set_xlabel('time [μs]')\n",
    "ax.set_ylabel('population')\n",
    "# ax.legend(fontsize = 14)\n",
    "set_fontsize(ax, 14)"
   ]
  },
  {
   "cell_type": "code",
   "execution_count": 35,
   "metadata": {},
   "outputs": [
    {
     "data": {
      "image/png": "[encoded data removed]",
      "text/plain": [
       "<Figure size 576x360 with 1 Axes>"
      ]
     },
     "metadata": {
      "needs_background": "light"
     },
     "output_type": "display_data"
    }
   ],
   "source": [
    "fig, ax = plt.subplots(figsize = (8,5))\n",
    "\n",
    "for idx, pop in enumerate(pop_results):\n",
    "    ls = '-'\n",
    "    if idx not in range(20,56):\n",
    "        s = QN[idx].find_largest_component()\n",
    "        label = f'{s.electronic_state}, J={s.J}, F={s.F:.0f}, F1={s.F1}, mF={s.mF:+.0f}'\n",
    "        ax.plot(t_array*1e6, pop, lw = 2, label = label, ls = ls)\n",
    "#         ax.plot(t_array, pop, lw = 2, label = f\"ρ$_{{{idx},{idx}}}$\", ls = ls)\n",
    "\n",
    "ax.set_xlabel('time [μs]')\n",
    "ax.set_ylabel('population')\n",
    "# ax.legend(fontsize = 14)\n",
    "set_fontsize(ax, 14)"
   ]
  },
  {
   "cell_type": "code",
   "execution_count": 36,
   "metadata": {},
   "outputs": [
    {
     "name": "stdout",
     "output_type": "stream",
     "text": [
      "0.24452654937848256\n"
     ]
    }
   ],
   "source": [
    "print(f'{np.trapz(pop_results[-len(excited_states):].sum(axis = 0), t_array)*Main.Γ}')"
   ]
  },
  {
   "cell_type": "code",
   "execution_count": 37,
   "metadata": {},
   "outputs": [],
   "source": [
    "J2_indices = [idx for idx, s in enumerate(QN) if s.find_largest_component().J == 2]"
   ]
  },
  {
   "cell_type": "code",
   "execution_count": 38,
   "metadata": {},
   "outputs": [
    {
     "data": {
      "image/png": "[encoded data removed]",
      "text/plain": [
       "<Figure size 576x360 with 1 Axes>"
      ]
     },
     "metadata": {
      "needs_background": "light"
     },
     "output_type": "display_data"
    }
   ],
   "source": [
    "fig, ax = plt.subplots(figsize = (8,5))\n",
    "\n",
    "for idx, pop in enumerate(pop_results):\n",
    "    ls = '-'\n",
    "    if idx in J2_indices:\n",
    "        s = QN[idx].find_largest_component()\n",
    "        label = f'{s.electronic_state}, J={s.J}, F={s.F:.0f}, F1={s.F1}, mF={s.mF:+.0f}'\n",
    "        ax.plot(t_array*1e6, pop, lw = 2, label = label, ls = ls)\n",
    "#         ax.plot(t_array*1e6, pop, lw = 2, label = f\"ρ$_{{{idx},{idx}}}$\", ls = ls)\n",
    "\n",
    "ax.set_xlabel('time [μs]')\n",
    "ax.set_ylabel('population')\n",
    "# ax.legend(fontsize = 14)\n",
    "set_fontsize(ax, 14)"
   ]
  },
  {
   "cell_type": "code",
   "execution_count": 39,
   "metadata": {},
   "outputs": [],
   "source": [
    "J2_pop_after_rc = np.array([0.00986181, 0.06588223, 0.00986463, 0.05247161, 0.0304416 ,\n",
    "       0.01240579, 0.03043901, 0.05247163, 0.08678348, 0.00058795,\n",
    "       0.0008341 , 0.00058789, 0.08678321, 0.05      , 0.05      ,\n",
    "       0.05      , 0.05      , 0.05      , 0.05      , 0.05      ])"
   ]
  },
  {
   "cell_type": "code",
   "execution_count": 40,
   "metadata": {},
   "outputs": [],
   "source": [
    "ρ_rc = np.zeros(ρ_ini.shape, dtype = complex)\n",
    "np.fill_diagonal(ρ_rc[:20,:20], J2_pop_after_rc)\n",
    "Main.ρ_rc = ρ_rc"
   ]
  },
  {
   "cell_type": "code",
   "execution_count": 41,
   "metadata": {},
   "outputs": [],
   "source": [
    "Main.eval(\"\"\"\n",
    "prob_rc = ODEProblem(Lindblad_rhs!,ρ_rc,tspan,p)\n",
    "\"\"\");"
   ]
  },
  {
   "cell_type": "code",
   "execution_count": 42,
   "metadata": {},
   "outputs": [
    {
     "name": "stdout",
     "output_type": "stream",
     "text": [
      "Wall time: 306 ms\n"
     ]
    },
    {
     "data": {
      "text/plain": [
       "0"
      ]
     },
     "execution_count": 42,
     "metadata": {},
     "output_type": "execute_result"
    }
   ],
   "source": [
    "%%time\n",
    "Main.eval(\"\"\"\n",
    "@time sol_rc = solve(prob_rc, Tsit5(), abstol = 1e-7, reltol = 1e-4, progress = false);\n",
    "tmp = 0\n",
    "\"\"\");"
   ]
  },
  {
   "cell_type": "code",
   "execution_count": 43,
   "metadata": {},
   "outputs": [],
   "source": [
    "ut = np.array(Main.eval(\"sol_rc[:]\")).T\n",
    "pop_results = np.real(np.einsum('jji->ji',ut.reshape((ρ_ini.shape[0], ρ_ini.shape[1], ut.shape[2]))))\n",
    "t_array = Main.eval(\"sol_rc.t\")"
   ]
  },
  {
   "cell_type": "code",
   "execution_count": 44,
   "metadata": {},
   "outputs": [
    {
     "name": "stdout",
     "output_type": "stream",
     "text": [
      "0.16814079525548678\n"
     ]
    }
   ],
   "source": [
    "print(f'{np.trapz(pop_results[-len(excited_states):].sum(axis = 0), t_array)*Main.Γ}')"
   ]
  },
  {
   "cell_type": "code",
   "execution_count": 45,
   "metadata": {},
   "outputs": [
    {
     "name": "stdout",
     "output_type": "stream",
     "text": [
      "ratio RC on/off : 0.69\n"
     ]
    }
   ],
   "source": [
    "RC_on = np.trapz(np.real(np.einsum('jji->ji', \n",
    "                           np.array(Main.eval(\"sol_rc.u[:]\")).T))[-len(excited_states):].sum(axis = 0), \n",
    "                 Main.eval('sol_rc.t'))\n",
    "RC_off = np.trapz(np.real(np.einsum('jji->ji', \n",
    "                           np.array(Main.eval(\"sol.u[:]\")).T))[-len(excited_states):].sum(axis = 0), \n",
    "                 Main.eval('sol.t'))\n",
    "print(f'ratio RC on/off : {RC_on / RC_off:.2f}')"
   ]
  },
  {
   "cell_type": "code",
   "execution_count": 46,
   "metadata": {},
   "outputs": [],
   "source": [
    "Main.params = np.linspace(0,10,401)*Main.Γ\n",
    "Main.eval(\"@everywhere params = $params\")"
   ]
  },
  {
   "cell_type": "code",
   "execution_count": 47,
   "metadata": {},
   "outputs": [],
   "source": [
    "# function called every time on the when an ODE solve is ready\n",
    "# only save the integral of the excited state population of each trajectory\n",
    "n_excited = H_symbolic.shape[0] - len(excited_states)\n",
    "Main.eval(f\"\"\"\n",
    "@everywhere function output_func(sol,i)\n",
    "    return trapz(sol.t, [real(sum(diag(sol.u[j])[{n_excited}:end])) for j in 1:size(sol)[3]]), false\n",
    "end\"\"\")"
   ]
  },
  {
   "cell_type": "code",
   "execution_count": 48,
   "metadata": {},
   "outputs": [],
   "source": [
    "# defining the function that changes the ODE parameters for each iteration\n",
    "Main.eval(\"\"\"\n",
    "@everywhere function prob_func(prob,i,repeat)\n",
    "    remake(prob, p = [params[i], Δ, ωp, ϕ])\n",
    "end\n",
    "\"\"\")"
   ]
  },
  {
   "cell_type": "code",
   "execution_count": 49,
   "metadata": {},
   "outputs": [],
   "source": [
    "# setting up the EnsembleProblem with the earlier defined ODEProblem\n",
    "Main.eval(\"\"\"\n",
    "ens_prob = EnsembleProblem(prob, prob_func = prob_func, output_func = output_func);\n",
    "ens_prob_rc = EnsembleProblem(prob_rc, prob_func = prob_func, output_func = output_func);\n",
    "\"\"\");\n"
   ]
  },
  {
   "cell_type": "code",
   "execution_count": 50,
   "metadata": {},
   "outputs": [
    {
     "data": {
      "text/plain": [
       "466.0395723"
      ]
     },
     "execution_count": 50,
     "metadata": {},
     "output_type": "execute_result"
    }
   ],
   "source": [
    "Main.eval(\"\"\"\n",
    "@time sim = solve(ens_prob, Tsit5(), EnsembleDistributed(); trajectories = size(params)[1],\n",
    "            abstol = 5e-7, reltol = 5e-4)\n",
    "sim.elapsedTime\n",
    "\"\"\")"
   ]
  },
  {
   "cell_type": "code",
   "execution_count": 51,
   "metadata": {},
   "outputs": [
    {
     "data": {
      "text/plain": [
       "42.9729865"
      ]
     },
     "execution_count": 51,
     "metadata": {},
     "output_type": "execute_result"
    }
   ],
   "source": [
    "Main.eval(\"\"\"\n",
    "@time sim_rc = solve(ens_prob_rc, Tsit5(), EnsembleDistributed(); trajectories = size(params)[1],\n",
    "            abstol = 5e-7, reltol = 5e-4)\n",
    "sim_rc.elapsedTime\n",
    "\"\"\")"
   ]
  },
  {
   "cell_type": "code",
   "execution_count": 52,
   "metadata": {},
   "outputs": [
    {
     "name": "stderr",
     "output_type": "stream",
     "text": [
      "<ipython-input-52-18f4ea3804a8>:2: RuntimeWarning: invalid value encountered in true_divide\n",
      "  ax.plot(Main.params/Main.Γ, np.asarray(Main.sim_rc) / np.asarray(Main.sim), lw = 2)\n"
     ]
    },
    {
     "data": {
      "image/png": "[encoded data removed]",
      "text/plain": [
       "<Figure size 576x360 with 1 Axes>"
      ]
     },
     "metadata": {
      "needs_background": "light"
     },
     "output_type": "display_data"
    }
   ],
   "source": [
    "fig, ax = plt.subplots(figsize = (8,5))\n",
    "ax.plot(Main.params/Main.Γ, np.asarray(Main.sim_rc) / np.asarray(Main.sim), lw = 2)\n",
    "\n",
    "ax.set_xlabel('Ω [Γ]')\n",
    "ax.set_ylabel('signal RC on/off')\n",
    "\n",
    "set_fontsize(ax, 14)"
   ]
  },
  {
   "cell_type": "markdown",
   "metadata": {},
   "source": [
    "## RC with X polarized light"
   ]
  },
  {
   "cell_type": "code",
   "execution_count": 53,
   "metadata": {},
   "outputs": [],
   "source": [
    "J2_pop_after_rc = np.array([0.03757775, 0.00987512, 0.03757398, 0.02646283, 0.04153159,\n",
    "       0.04240686, 0.04153534, 0.02646607, 0.01126274, 0.04290709,\n",
    "       0.06413093, 0.04290746, 0.01126254, 0.05      , 0.05      ,\n",
    "       0.05      , 0.05      , 0.05      , 0.05      , 0.05      ])"
   ]
  },
  {
   "cell_type": "code",
   "execution_count": 54,
   "metadata": {},
   "outputs": [],
   "source": [
    "ρ_rc = np.zeros(ρ_ini.shape, dtype = complex)\n",
    "np.fill_diagonal(ρ_rc[:20,:20], J2_pop_after_rc)\n",
    "Main.ρ_rc = ρ_rc"
   ]
  },
  {
   "cell_type": "code",
   "execution_count": 55,
   "metadata": {},
   "outputs": [],
   "source": [
    "Main.eval(\"\"\"\n",
    "prob_rc = ODEProblem(Lindblad_rhs!,ρ_rc,tspan,p)\n",
    "\"\"\");"
   ]
  },
  {
   "cell_type": "code",
   "execution_count": 56,
   "metadata": {},
   "outputs": [
    {
     "name": "stdout",
     "output_type": "stream",
     "text": [
      "Wall time: 583 ms\n"
     ]
    },
    {
     "data": {
      "text/plain": [
       "0"
      ]
     },
     "execution_count": 56,
     "metadata": {},
     "output_type": "execute_result"
    }
   ],
   "source": [
    "%%time\n",
    "Main.eval(\"\"\"\n",
    "@time sol_rc = solve(prob_rc, Tsit5(), abstol = 1e-7, reltol = 1e-4, progress = false);\n",
    "tmp = 0\n",
    "\"\"\");"
   ]
  },
  {
   "cell_type": "code",
   "execution_count": 57,
   "metadata": {},
   "outputs": [],
   "source": [
    "ut = np.array(Main.eval(\"sol_rc[:]\")).T\n",
    "pop_results = np.real(np.einsum('jji->ji',ut.reshape((ρ_ini.shape[0], ρ_ini.shape[1], ut.shape[2]))))\n",
    "t_array = Main.eval(\"sol_rc.t\")"
   ]
  },
  {
   "cell_type": "code",
   "execution_count": 58,
   "metadata": {},
   "outputs": [
    {
     "name": "stdout",
     "output_type": "stream",
     "text": [
      "0.1770131455620488\n"
     ]
    }
   ],
   "source": [
    "print(f'{np.trapz(pop_results[-len(excited_states):].sum(axis = 0), t_array)*Main.Γ}')"
   ]
  },
  {
   "cell_type": "code",
   "execution_count": 59,
   "metadata": {},
   "outputs": [
    {
     "name": "stdout",
     "output_type": "stream",
     "text": [
      "ratio RC on/off : 0.72\n"
     ]
    }
   ],
   "source": [
    "RC_on = np.trapz(np.real(np.einsum('jji->ji', \n",
    "                           np.array(Main.eval(\"sol_rc.u[:]\")).T))[-len(excited_states):].sum(axis = 0), \n",
    "                 Main.eval('sol_rc.t'))\n",
    "RC_off = np.trapz(np.real(np.einsum('jji->ji', \n",
    "                           np.array(Main.eval(\"sol.u[:]\")).T))[-len(excited_states):].sum(axis = 0), \n",
    "                 Main.eval('sol.t'))\n",
    "print(f'ratio RC on/off : {RC_on / RC_off:.2f}')"
   ]
  },
  {
   "cell_type": "code",
   "execution_count": 61,
   "metadata": {},
   "outputs": [],
   "source": [
    "# function called every time on the when an ODE solve is ready\n",
    "# only save the integral of the excited state population of each trajectory\n",
    "n_excited = H_symbolic.shape[0] - len(excited_states)\n",
    "Main.eval(f\"\"\"\n",
    "@everywhere function output_func(sol,i)\n",
    "    return trapz(sol.t, [real(sum(diag(sol.u[j])[{n_excited}:end])) for j in 1:size(sol)[3]]), false\n",
    "end\"\"\")"
   ]
  },
  {
   "cell_type": "code",
   "execution_count": 62,
   "metadata": {},
   "outputs": [],
   "source": [
    "# defining the function that changes the ODE parameters for each iteration\n",
    "Main.eval(\"\"\"\n",
    "@everywhere function prob_func(prob,i,repeat)\n",
    "    remake(prob, p = [params[i], Δ, ωp, ϕ])\n",
    "end\n",
    "\"\"\")"
   ]
  },
  {
   "cell_type": "code",
   "execution_count": 63,
   "metadata": {},
   "outputs": [],
   "source": [
    "# setting up the EnsembleProblem with the earlier defined ODEProblem\n",
    "Main.eval(\"\"\"\n",
    "ens_prob = EnsembleProblem(prob, prob_func = prob_func, output_func = output_func);\n",
    "ens_prob_rc = EnsembleProblem(prob_rc, prob_func = prob_func, output_func = output_func);\n",
    "\"\"\");\n"
   ]
  },
  {
   "cell_type": "code",
   "execution_count": 64,
   "metadata": {},
   "outputs": [
    {
     "data": {
      "text/plain": [
       "44.1764098"
      ]
     },
     "execution_count": 64,
     "metadata": {},
     "output_type": "execute_result"
    }
   ],
   "source": [
    "Main.eval(\"\"\"\n",
    "@time sim = solve(ens_prob, Tsit5(), EnsembleDistributed(); trajectories = size(params)[1],\n",
    "            abstol = 5e-7, reltol = 5e-4)\n",
    "sim.elapsedTime\n",
    "\"\"\")"
   ]
  },
  {
   "cell_type": "code",
   "execution_count": 65,
   "metadata": {},
   "outputs": [
    {
     "data": {
      "text/plain": [
       "42.6444905"
      ]
     },
     "execution_count": 65,
     "metadata": {},
     "output_type": "execute_result"
    }
   ],
   "source": [
    "Main.eval(\"\"\"\n",
    "@time sim_rc = solve(ens_prob_rc, Tsit5(), EnsembleDistributed(); trajectories = size(params)[1],\n",
    "            abstol = 5e-7, reltol = 5e-4)\n",
    "sim_rc.elapsedTime\n",
    "\"\"\")"
   ]
  },
  {
   "cell_type": "code",
   "execution_count": 66,
   "metadata": {},
   "outputs": [
    {
     "name": "stderr",
     "output_type": "stream",
     "text": [
      "<ipython-input-66-18f4ea3804a8>:2: RuntimeWarning: invalid value encountered in true_divide\n",
      "  ax.plot(Main.params/Main.Γ, np.asarray(Main.sim_rc) / np.asarray(Main.sim), lw = 2)\n"
     ]
    },
    {
     "data": {
      "image/png": "[encoded data removed]",
      "text/plain": [
       "<Figure size 576x360 with 1 Axes>"
      ]
     },
     "metadata": {
      "needs_background": "light"
     },
     "output_type": "display_data"
    }
   ],
   "source": [
    "fig, ax = plt.subplots(figsize = (8,5))\n",
    "ax.plot(Main.params/Main.Γ, np.asarray(Main.sim_rc) / np.asarray(Main.sim), lw = 2)\n",
    "\n",
    "ax.set_xlabel('Ω [Γ]')\n",
    "ax.set_ylabel('signal RC on/off')\n",
    "\n",
    "set_fontsize(ax, 14)"
   ]
  },
  {
   "cell_type": "code",
   "execution_count": null,
   "metadata": {},
   "outputs": [],
   "source": []
  }
 ],
 "metadata": {
  "kernelspec": {
   "display_name": "Python 3",
   "language": "python",
   "name": "python3"
  },
  "language_info": {
   "codemirror_mode": {
    "name": "ipython",
    "version": 3
   },
   "file_extension": ".py",
   "mimetype": "text/x-python",
   "name": "python",
   "nbconvert_exporter": "python",
   "pygments_lexer": "ipython3",
   "version": "3.8.5"
  }
 },
 "nbformat": 4,
 "nbformat_minor": 4
}
