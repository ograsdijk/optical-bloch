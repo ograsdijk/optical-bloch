{
 "cells": [
  {
   "cell_type": "code",
   "execution_count": 1,
   "metadata": {},
   "outputs": [],
   "source": [
    "%load_ext autoreload\n",
    "%autoreload 2\n",
    "\n",
    "import numpy as np\n",
    "from sympy import Symbol\n",
    "import centrex_TlF as centrex\n",
    "import matplotlib.pyplot as plt\n",
    "\n",
    "import sys\n",
    "sys.path.append(\"../..\")\n",
    "from utils.plot_utils import set_fontsize"
   ]
  },
  {
   "cell_type": "markdown",
   "metadata": {},
   "source": [
    "### Some initial setup of states and transitions to use"
   ]
  },
  {
   "cell_type": "code",
   "execution_count": 2,
   "metadata": {},
   "outputs": [],
   "source": [
    "nprocs = 6\n",
    "\n",
    "# Γ\n",
    "Γ = 1.56e6*2*np.pi\n",
    "\n",
    "# TlF temperature\n",
    "T = 6.3\n",
    "\n",
    "# Define all involved states\n",
    "\n",
    "# ground state J levels\n",
    "ground_Js = [0,2]\n",
    "\n",
    "# excited state quantum numbers\n",
    "excited_Js = [1]\n",
    "excited_F1s = [1/2]\n",
    "excited_Fs= [1]\n",
    "excited_Ps = [-1]\n",
    "\n",
    "# Settings for transitions\n",
    "\n",
    "# min and max J level to look for mixing in the B state\n",
    "excited_Jmin = 1\n",
    "excited_Jmax = 2\n",
    "\n",
    "\n",
    "# main laser transition R(0) F'=2 F1'=3/2\n",
    "\n",
    "ground_main_approx = 1*centrex.CoupledBasisState(J=0,F1=1/2,F=0,mF=0,I1=1/2,I2=1/2,electronic_state='X', \n",
    "                                         P = (-1)**0, Omega = 0)\n",
    "excited_main_approx = 1*centrex.CoupledBasisState(J=1,\n",
    "                                          F1=1/2,\n",
    "                                          F=1,\n",
    "                                          mF=0,I1=1/2,I2=1/2, electronic_state='B', P = -1, Omega = 1)\n",
    "# ground laser J\n",
    "laser_J = [0]\n",
    "\n",
    "transitions = [{'ground main approx': ground_main_approx, \n",
    "                'excited main approx': excited_main_approx,\n",
    "                'ground states approx': 1*centrex.states.generate_coupled_states_ground(laser_J),\n",
    "                'excited states approx': 1*centrex.states.generate_coupled_states_excited(\n",
    "                                                excited_Js, excited_Fs, excited_F1s, excited_Ps),\n",
    "                'main polarization': np.array([0,0,1]),\n",
    "                'polarizations': [np.array([0,0,1]), np.array([1,0,0])],\n",
    "                'polarization symbols': [Symbol(\"Plz\"), Symbol(\"Plx\")],\n",
    "                'Ω symbol': Symbol('Ωl', complex = True),\n",
    "                'Δ symbol': Symbol('δl'),\n",
    "                'description': \"laser transition\"\n",
    "               }]"
   ]
  },
  {
   "cell_type": "code",
   "execution_count": 3,
   "metadata": {},
   "outputs": [],
   "source": [
    "# specify states to combine into a single level \n",
    "# e.g. only decay to these states and not interested in population distribution there\n",
    "slice_compact = np.s_[4:24]"
   ]
  },
  {
   "cell_type": "markdown",
   "metadata": {},
   "source": [
    "### Specifying parameters and the ode function preamble\n",
    "Allows for setting parameters to be time dependent (e.g. sin(t), cos(t))"
   ]
  },
  {
   "cell_type": "code",
   "execution_count": 4,
   "metadata": {},
   "outputs": [],
   "source": [
    "# order of parameters in p\n",
    "parameters = ['Ωl', 'δl', 'ωp', 'ϕp']"
   ]
  },
  {
   "cell_type": "code",
   "execution_count": 5,
   "metadata": {},
   "outputs": [],
   "source": [
    "preamble = \"\"\"function Lindblad_rhs!(du, ρ, p, t)\n",
    "\\t@inbounds begin\n",
    "\\t\\tΩl = p[1]\n",
    "\\t\\tδl = p[2]\n",
    "\\t\\tωp = p[3]\n",
    "\\t\\tϕp = p[4]\n",
    "\\t\\tΩlᶜ = conj(Ωl)\n",
    "\n",
    "\\t\\tPl = sin(ωp*t + ϕp)\n",
    "\\t\\tPlx = (1-Pl)/2\n",
    "\\t\\tPlz = (1+Pl)/2\n",
    "\"\"\""
   ]
  },
  {
   "cell_type": "code",
   "execution_count": 6,
   "metadata": {},
   "outputs": [
    {
     "data": {
      "text/plain": [
       "odeParameters(Ωl: 9.80e+06, δl: 0.00e+00, ωp: 9.80e+06, ϕp: 0.00e+00)"
      ]
     },
     "execution_count": 6,
     "metadata": {},
     "output_type": "execute_result"
    }
   ],
   "source": [
    "odepars = centrex.lindblad.odeParameters(parameters)\n",
    "odepars.Ωl = Γ\n",
    "odepars.ωp = Γ\n",
    "odepars"
   ]
  },
  {
   "cell_type": "markdown",
   "metadata": {},
   "source": [
    "## Start calculations for Hamiltonian and transitions"
   ]
  },
  {
   "cell_type": "code",
   "execution_count": 7,
   "metadata": {},
   "outputs": [
    {
     "name": "stdout",
     "output_type": "stream",
     "text": [
      "Wall time: 6.73 s\n"
     ]
    }
   ],
   "source": [
    "%%time \n",
    "ground_states_approx = centrex.states.generate_coupled_states_ground(ground_Js)\n",
    "excited_states_approx = centrex.states.generate_coupled_states_excited(excited_Js, excited_Fs, \n",
    "                                                                       excited_F1s, excited_Ps)\n",
    "\n",
    "ground_states, excited_states, QN, H_int, V_ref_int = centrex.hamiltonian.generate_total_reduced_hamiltonian(\n",
    "                                            ground_states_approx, excited_states_approx)"
   ]
  },
  {
   "cell_type": "code",
   "execution_count": 8,
   "metadata": {},
   "outputs": [
    {
     "name": "stderr",
     "output_type": "stream",
     "text": [
      "WARNING:root:Pre-cached calculations, multiprocessing not used\n",
      "WARNING:root:Pre-cached calculations, multiprocessing not used\n"
     ]
    },
    {
     "name": "stdout",
     "output_type": "stream",
     "text": [
      "Wall time: 3.57 s\n"
     ]
    }
   ],
   "source": [
    "%%time\n",
    "couplings = []\n",
    "for transition in transitions:\n",
    "    coupling = centrex.couplings.generate_coupling_field(\n",
    "                                        transition['ground main approx'],\n",
    "                                        transition['excited main approx'],\n",
    "                                        transition['ground states approx'],\n",
    "                                        transition['excited states approx'],\n",
    "                                        H_int, QN, V_ref_int, \n",
    "                                        pol_main = transition['main polarization'],\n",
    "                                        pol_vec = transition['polarizations'],\n",
    "                                        nprocs = nprocs)\n",
    "    couplings.append(coupling)"
   ]
  },
  {
   "cell_type": "code",
   "execution_count": 9,
   "metadata": {},
   "outputs": [
    {
     "name": "stdout",
     "output_type": "stream",
     "text": [
      "Wall time: 156 ms\n"
     ]
    }
   ],
   "source": [
    "%%time\n",
    "H_symbolic = centrex.lindblad.generate_total_symbolic_hamiltonian(QN, H_int, couplings, transitions, \n",
    "                                                                slice_compact = slice_compact)"
   ]
  },
  {
   "cell_type": "code",
   "execution_count": 10,
   "metadata": {},
   "outputs": [
    {
     "name": "stdout",
     "output_type": "stream",
     "text": [
      "Wall time: 1.2 s\n"
     ]
    }
   ],
   "source": [
    "%%time\n",
    "C_array = centrex.couplings.collapse_matrices(QN, ground_states, excited_states, gamma = Γ, \n",
    "                                            slice_compact = slice_compact)\n",
    "system = centrex.lindblad.generate_system_of_equations_symbolic(H_symbolic, C_array, progress = False, fast = True)"
   ]
  },
  {
   "cell_type": "code",
   "execution_count": 11,
   "metadata": {},
   "outputs": [
    {
     "name": "stdout",
     "output_type": "stream",
     "text": [
      "Wall time: 4.73 s\n"
     ]
    }
   ],
   "source": [
    "%%time\n",
    "# convert matrix to system of equations code\n",
    "code_lines = centrex.lindblad.system_of_equations_to_lines(system, nprocs = nprocs)"
   ]
  },
  {
   "cell_type": "markdown",
   "metadata": {},
   "source": [
    "# Solving ODE system with Julia\n",
    "Need to install Julia and add the following packages to Julia:  \n",
    "* [DifferentialEquations](https://diffeq.sciml.ai/stable/)\n",
    "* [Trapz](https://github.com/francescoalemanno/Trapz.jl)\n",
    "\n",
    "And install [PyJulia](https://pyjulia.readthedocs.io/en/latest/index.html) for python.  "
   ]
  },
  {
   "cell_type": "code",
   "execution_count": 12,
   "metadata": {},
   "outputs": [],
   "source": [
    "# import julia\n",
    "# julia.install()"
   ]
  },
  {
   "cell_type": "code",
   "execution_count": 13,
   "metadata": {},
   "outputs": [
    {
     "name": "stdout",
     "output_type": "stream",
     "text": [
      "Initialized Julia with 6 processes\n"
     ]
    }
   ],
   "source": [
    "from julia import Main\n",
    "centrex.lindblad.initialize_julia(nprocs = nprocs)\n",
    "\n",
    "_ = centrex.lindblad.generate_ode_fun_julia(preamble, code_lines)\n",
    "\n",
    "# generate initial conditions\n",
    "ρ_ini = centrex.utils.generate_thermal_J(ground_Js, len(excited_states), T, normalized = True)\n",
    "centrex.lindblad.setup_variables_julia(Γ, ρ_ini)\n",
    "odepars.generate_p_julia()"
   ]
  },
  {
   "cell_type": "markdown",
   "metadata": {},
   "source": [
    "### Initial condition setup"
   ]
  },
  {
   "cell_type": "code",
   "execution_count": 14,
   "metadata": {},
   "outputs": [],
   "source": [
    "J0_pop_before_RC = np.array([0.05334403+0.j, 0.05334403+0.j, 0.05334403+0.j, 0.05334403+0.j])"
   ]
  },
  {
   "cell_type": "code",
   "execution_count": 15,
   "metadata": {},
   "outputs": [
    {
     "name": "stdout",
     "output_type": "stream",
     "text": [
      "[0.05334403+0.j 0.05334403+0.j 0.05334403+0.j 0.05334403+0.j\n",
      " 0.        +0.j 0.        +0.j 0.        +0.j 0.        +0.j]\n"
     ]
    }
   ],
   "source": [
    "ρ_ini = np.zeros(system.shape, dtype = 'complex')\n",
    "np.fill_diagonal(ρ_ini[:4,:4], J0_pop_before_RC)\n",
    "print(np.diag(ρ_ini))\n",
    "\n",
    "centrex.lindblad.setup_variables_julia(Γ, ρ_ini)"
   ]
  },
  {
   "cell_type": "markdown",
   "metadata": {},
   "source": [
    "### Setting up the ODE problem to solve\n",
    "`tmp = 0` is just to prevent `Main.eval` from outputting the problem in the notebook.  \n",
    "The ODEProblem takes a function to solve (`Lindblad_rhs!` in this case), initial conditions `ρ_ini`, a timespan `tspan` an additional arguments for the ODE function, denoted here by `p` "
   ]
  },
  {
   "cell_type": "code",
   "execution_count": 16,
   "metadata": {},
   "outputs": [],
   "source": [
    "Main.eval(\"\"\"\n",
    "tspan = (0.0, 30e-6)\n",
    "prob = ODEProblem(Lindblad_rhs!,ρ,tspan,p)\n",
    "\"\"\");"
   ]
  },
  {
   "cell_type": "code",
   "execution_count": 17,
   "metadata": {},
   "outputs": [
    {
     "name": "stdout",
     "output_type": "stream",
     "text": [
      "Wall time: 8.77 s\n"
     ]
    },
    {
     "data": {
      "text/plain": [
       "0"
      ]
     },
     "execution_count": 17,
     "metadata": {},
     "output_type": "execute_result"
    }
   ],
   "source": [
    "%%time\n",
    "Main.eval(\"\"\"\n",
    "@time sol = solve(prob, Tsit5(), abstol = 1e-7, reltol = 1e-4, progress = false);\n",
    "tmp = 0\n",
    "\"\"\");"
   ]
  },
  {
   "cell_type": "code",
   "execution_count": 18,
   "metadata": {},
   "outputs": [],
   "source": [
    "ut = np.array(Main.eval(\"sol[:]\")).T\n",
    "pop_results = np.real(np.einsum('jji->ji',ut.reshape((ρ_ini.shape[0], ρ_ini.shape[1], ut.shape[2]))))\n",
    "t_array = Main.eval(\"sol.t\")"
   ]
  },
  {
   "cell_type": "code",
   "execution_count": 19,
   "metadata": {},
   "outputs": [
    {
     "data": {
      "image/png": "[encoded data removed]",
      "text/plain": [
       "<Figure size 576x360 with 1 Axes>"
      ]
     },
     "metadata": {
      "needs_background": "light"
     },
     "output_type": "display_data"
    }
   ],
   "source": [
    "fig, ax = plt.subplots(figsize = (8,5))\n",
    "\n",
    "for idx, pop in enumerate(pop_results):\n",
    "    ls = '-'\n",
    "    if idx in range(0,len(pop_results)):\n",
    "        s = QN[idx].find_largest_component()\n",
    "        label = f'{s.electronic_state}, J={s.J}, F={s.F:.0f}, F1={s.F1}, mF={s.mF:+.0f}'\n",
    "        ax.plot(t_array*1e6, pop, lw = 2, label = label, ls = ls)\n",
    "#         ax.plot(t_array, pop, lw = 2, label = f\"ρ$_{{{idx},{idx}}}$\", ls = ls)\n",
    "\n",
    "ax.set_xlabel('time [μs]')\n",
    "ax.set_ylabel('population')\n",
    "# ax.legend(fontsize = 14)\n",
    "set_fontsize(ax, 14)"
   ]
  },
  {
   "cell_type": "code",
   "execution_count": 20,
   "metadata": {},
   "outputs": [
    {
     "name": "stdout",
     "output_type": "stream",
     "text": [
      "0.6386876054618812\n"
     ]
    }
   ],
   "source": [
    "print(f'{np.trapz(pop_results[-len(excited_states):].sum(axis = 0), t_array)*Main.Γ}')"
   ]
  },
  {
   "cell_type": "code",
   "execution_count": 21,
   "metadata": {},
   "outputs": [
    {
     "data": {
      "image/png": "[encoded data removed]",
      "text/plain": [
       "<Figure size 576x360 with 1 Axes>"
      ]
     },
     "metadata": {
      "needs_background": "light"
     },
     "output_type": "display_data"
    }
   ],
   "source": [
    "fig, ax = plt.subplots(figsize = (8,5))\n",
    "\n",
    "for idx, pop in enumerate(pop_results):\n",
    "    ls = '-'\n",
    "    if idx >= H_symbolic.shape[0] - len(excited_states):\n",
    "        s = QN[idx+centrex.utils.J_levels(2)-1].find_largest_component()\n",
    "        label = f'{s.electronic_state}, J={s.J}, F={s.F:.0f}, F1={s.F1}, mF={s.mF:+.0f}'\n",
    "        ax.plot(t_array*1e6, pop, lw = 2, label = label, ls = ls)\n",
    "#         ax.plot(t_array*1e6, pop, lw = 2, label = f\"ρ$_{{{idx},{idx}}}$\", ls = ls)\n",
    "\n",
    "ax.set_xlabel('time [μs]')\n",
    "ax.set_ylabel('population')\n",
    "ax.legend(fontsize = 14)\n",
    "set_fontsize(ax, 14)"
   ]
  },
  {
   "cell_type": "code",
   "execution_count": 22,
   "metadata": {},
   "outputs": [],
   "source": [
    "J0_pop_after_rc = np.array([0.16855735, 0.06941865, 0.0716151 , 0.06941859])"
   ]
  },
  {
   "cell_type": "code",
   "execution_count": 23,
   "metadata": {},
   "outputs": [],
   "source": [
    "ρ_rc = np.zeros(ρ_ini.shape, dtype = complex)\n",
    "np.fill_diagonal(ρ_rc[:4,:4], J0_pop_after_rc)\n",
    "Main.ρ_rc = ρ_rc"
   ]
  },
  {
   "cell_type": "code",
   "execution_count": 24,
   "metadata": {},
   "outputs": [],
   "source": [
    "Main.eval(\"\"\"\n",
    "prob_rc = ODEProblem(Lindblad_rhs!,ρ_rc,tspan,p)\n",
    "\"\"\");"
   ]
  },
  {
   "cell_type": "code",
   "execution_count": 25,
   "metadata": {},
   "outputs": [
    {
     "name": "stdout",
     "output_type": "stream",
     "text": [
      "Wall time: 15 ms\n"
     ]
    },
    {
     "data": {
      "text/plain": [
       "0"
      ]
     },
     "execution_count": 25,
     "metadata": {},
     "output_type": "execute_result"
    }
   ],
   "source": [
    "%%time\n",
    "Main.eval(\"\"\"\n",
    "@time sol_rc = solve(prob_rc, Tsit5(), abstol = 1e-7, reltol = 1e-4, progress = false);\n",
    "tmp = 0\n",
    "\"\"\");"
   ]
  },
  {
   "cell_type": "code",
   "execution_count": 26,
   "metadata": {},
   "outputs": [],
   "source": [
    "ut = np.array(Main.eval(\"sol_rc[:]\")).T\n",
    "pop_results = np.real(np.einsum('jji->ji',ut.reshape((ρ_ini.shape[0], ρ_ini.shape[1], ut.shape[2]))))\n",
    "t_array = Main.eval(\"sol_rc.t\")"
   ]
  },
  {
   "cell_type": "code",
   "execution_count": 27,
   "metadata": {},
   "outputs": [
    {
     "name": "stdout",
     "output_type": "stream",
     "text": [
      "1.134594480450065\n"
     ]
    }
   ],
   "source": [
    "print(f'{np.trapz(pop_results[-len(excited_states):].sum(axis = 0), t_array)*Main.Γ}')"
   ]
  },
  {
   "cell_type": "code",
   "execution_count": 28,
   "metadata": {},
   "outputs": [
    {
     "name": "stdout",
     "output_type": "stream",
     "text": [
      "ratio RC on/off : 1.78\n"
     ]
    }
   ],
   "source": [
    "RC_on = np.trapz(np.real(np.einsum('jji->ji', \n",
    "                           np.array(Main.eval(\"sol_rc.u[:]\")).T))[-len(excited_states):].sum(axis = 0), \n",
    "                 Main.eval('sol_rc.t'))\n",
    "RC_off = np.trapz(np.real(np.einsum('jji->ji', \n",
    "                           np.array(Main.eval(\"sol.u[:]\")).T))[-len(excited_states):].sum(axis = 0), \n",
    "                 Main.eval('sol.t'))\n",
    "print(f'ratio RC on/off : {RC_on / RC_off:.2f}')"
   ]
  },
  {
   "cell_type": "markdown",
   "metadata": {},
   "source": [
    "## Scan Rabi Rate"
   ]
  },
  {
   "cell_type": "code",
   "execution_count": 29,
   "metadata": {},
   "outputs": [],
   "source": [
    "Main.eval(\"\"\"\n",
    "tspan = (0.0, 30e-6)\n",
    "prob = ODEProblem(Lindblad_rhs!,ρ,tspan,p)\n",
    "\"\"\");"
   ]
  },
  {
   "cell_type": "code",
   "execution_count": 30,
   "metadata": {},
   "outputs": [],
   "source": [
    "# generate the prob_func to remake the problem for each iteration\n",
    "centrex.lindblad.setup_parameter_scan_1D(odepars, 'Ωl', np.linspace(0,1.5*Γ,801))"
   ]
  },
  {
   "cell_type": "code",
   "execution_count": 31,
   "metadata": {},
   "outputs": [],
   "source": [
    "# only save the integral of the excited state population of each trajectory\n",
    "start = H_symbolic.shape[0] - len(excited_states) + 1\n",
    "stop = start + len(excited_states)\n",
    "centrex.lindblad.setup_state_integral_calculation(list(range(start, stop)))"
   ]
  },
  {
   "cell_type": "code",
   "execution_count": 32,
   "metadata": {},
   "outputs": [],
   "source": [
    "# setting up the EnsembleProblem with the earlier defined ODEProblem\n",
    "Main.eval(\"\"\"\n",
    "ens_prob = EnsembleProblem(prob, prob_func = prob_func, output_func = output_func);\n",
    "ens_prob_rc = EnsembleProblem(prob_rc, prob_func = prob_func, output_func = output_func);\n",
    "\"\"\");"
   ]
  },
  {
   "cell_type": "code",
   "execution_count": 33,
   "metadata": {},
   "outputs": [
    {
     "data": {
      "text/plain": [
       "20.1826101"
      ]
     },
     "execution_count": 33,
     "metadata": {},
     "output_type": "execute_result"
    }
   ],
   "source": [
    "Main.eval(\"\"\"\n",
    "@time sim = solve(ens_prob, Tsit5(), EnsembleDistributed(); trajectories = size(params)[1],\n",
    "            abstol = 1e-11, reltol = 1e-8)\n",
    "sim.elapsedTime\n",
    "\"\"\")"
   ]
  },
  {
   "cell_type": "code",
   "execution_count": 34,
   "metadata": {},
   "outputs": [
    {
     "data": {
      "text/plain": [
       "3.6670046"
      ]
     },
     "execution_count": 34,
     "metadata": {},
     "output_type": "execute_result"
    }
   ],
   "source": [
    "Main.eval(\"\"\"\n",
    "@time sim_rc = solve(ens_prob_rc, Tsit5(), EnsembleDistributed(); trajectories = size(params)[1],\n",
    "            abstol = 1e-11, reltol = 1e-8)\n",
    "sim_rc.elapsedTime\n",
    "\"\"\")"
   ]
  },
  {
   "cell_type": "code",
   "execution_count": 35,
   "metadata": {},
   "outputs": [
    {
     "name": "stderr",
     "output_type": "stream",
     "text": [
      "<ipython-input-35-18f4ea3804a8>:2: RuntimeWarning: invalid value encountered in true_divide\n",
      "  ax.plot(Main.params/Main.Γ, np.asarray(Main.sim_rc) / np.asarray(Main.sim), lw = 2)\n"
     ]
    },
    {
     "data": {
      "image/png": "[encoded data removed]",
      "text/plain": [
       "<Figure size 576x360 with 1 Axes>"
      ]
     },
     "metadata": {
      "needs_background": "light"
     },
     "output_type": "display_data"
    }
   ],
   "source": [
    "fig, ax = plt.subplots(figsize = (8,5))\n",
    "ax.plot(Main.params/Main.Γ, np.asarray(Main.sim_rc) / np.asarray(Main.sim), lw = 2)\n",
    "\n",
    "ax.set_xlabel('Ω [Γ]')\n",
    "ax.set_ylabel('signal RC on/off')\n",
    "\n",
    "set_fontsize(ax, 14)"
   ]
  },
  {
   "cell_type": "code",
   "execution_count": 36,
   "metadata": {},
   "outputs": [
    {
     "name": "stdout",
     "output_type": "stream",
     "text": [
      "difference => 6.20%\n"
     ]
    },
    {
     "name": "stderr",
     "output_type": "stream",
     "text": [
      "<ipython-input-36-02c076ff67e9>:1: RuntimeWarning: invalid value encountered in true_divide\n",
      "  val = np.asarray(Main.sim_rc) / np.asarray(Main.sim)\n"
     ]
    }
   ],
   "source": [
    "val = np.asarray(Main.sim_rc) / np.asarray(Main.sim)\n",
    "val = val[~np.isnan(val)]\n",
    "print(f\"difference => {(val.max() - val.min())/val.max()*100:.2f}%\")"
   ]
  }
 ],
 "metadata": {
  "kernelspec": {
   "display_name": "Python 3",
   "language": "python",
   "name": "python3"
  },
  "language_info": {
   "codemirror_mode": {
    "name": "ipython",
    "version": 3
   },
   "file_extension": ".py",
   "mimetype": "text/x-python",
   "name": "python",
   "nbconvert_exporter": "python",
   "pygments_lexer": "ipython3",
   "version": "3.8.5"
  }
 },
 "nbformat": 4,
 "nbformat_minor": 4
}
