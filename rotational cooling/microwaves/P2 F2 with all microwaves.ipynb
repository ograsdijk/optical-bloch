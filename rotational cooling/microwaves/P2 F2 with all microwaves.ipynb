{
 "cells": [
  {
   "cell_type": "code",
   "execution_count": 1,
   "metadata": {},
   "outputs": [],
   "source": [
    "%load_ext autoreload\n",
    "%autoreload 2\n",
    "\n",
    "import numpy as np\n",
    "from tqdm import tqdm\n",
    "from sympy import Symbol\n",
    "import centrex_TlF as centrex\n",
    "import matplotlib.pyplot as plt\n",
    "import sys\n",
    "sys.path.append(\"../..\")\n",
    "from utils.plot_utils import set_fontsize"
   ]
  },
  {
   "cell_type": "code",
   "execution_count": 21,
   "metadata": {},
   "outputs": [],
   "source": [
    "nprocs_python = 6 # processes for python\n",
    "nprocs_julia = 5 # processes for julia\n",
    "\n",
    "# Γ\n",
    "Γ = 1.56e6*2*np.pi\n",
    "\n",
    "# TlF temperature\n",
    "T = 6.3\n",
    "\n",
    "# Define all involved states\n",
    "\n",
    "# ground state J levels\n",
    "ground_Js = [0,1,2,3]\n",
    "\n",
    "# excited state quantum numbers\n",
    "excited_Js = [1]\n",
    "excited_F1s = [3/2]\n",
    "excited_Fs = [1]\n",
    "excited_Ps = [-1]\n",
    "\n",
    "# Settings for transitions\n",
    "\n",
    "# min and max J level to look for mixing in the B state\n",
    "excited_Jmin = 1\n",
    "excited_Jmax = 2\n",
    "\n",
    "\n",
    "# main laser transition P(2) F'=1 F1'=3/2\n",
    "\n",
    "ground_main_approx = 1*centrex.CoupledBasisState(J=2,F1=3/2,F=2,mF=0,I1=1/2,I2=1/2,\n",
    "                                                 electronic_state='X', P = (-1)**2, Omega = 0)\n",
    "excited_main_approx = 1*centrex.CoupledBasisState(J=1,F1=3/2,F=1,mF=0,I1=1/2,I2=1/2, \n",
    "                                                  electronic_state='B', P = -1, Omega = 1)\n",
    "# ground laser J\n",
    "laser_J = [2]\n",
    "\n",
    "transitions = [{'ground main approx': ground_main_approx, \n",
    "                'excited main approx': excited_main_approx,\n",
    "                'ground states approx': 1*centrex.states.generate_coupled_states_ground(laser_J),\n",
    "                'excited states approx': 1*centrex.states.generate_coupled_states_excited(\n",
    "                                                excited_Js, excited_Fs, excited_F1s, excited_Ps),\n",
    "                'main polarization': np.array([0,0,1]),\n",
    "                'polarizations': [np.array([0,0,1]), np.array([1,0,0])],\n",
    "                'polarization symbols': [Symbol(\"Plz\"), Symbol(\"Plx\")],\n",
    "                'Ω symbol': Symbol('Ωl', complex = True),\n",
    "                'Δ symbol': Symbol('δl'),\n",
    "                'description': \"P2 F1 laser transition\"\n",
    "               }]\n",
    "               \n",
    "# make sure that subsequent transitions don't have their excited state be the ground state of another transition\n",
    "transitions.append(\n",
    "    {\n",
    "        'ground main approx': 1*centrex.CoupledBasisState(J=2,F1=5/2,F=2,mF=0,I1=1/2,I2=1/2, electronic_state='X', P = (-1)**2, Omega = 0),\n",
    "        'excited main approx': 1*centrex.CoupledBasisState(J=1,F1=3/2,F=1,mF=0,I1=1/2,I2=1/2,electronic_state='X', P = (-1)**1, Omega = 0),\n",
    "        'ground states approx': 1*centrex.states.generate_coupled_states_ground([2]),\n",
    "        'excited states approx': 1*centrex.states.generate_coupled_states_ground([1]),\n",
    "        'main polarization': np.array([0,0,1]),\n",
    "        'polarizations': [np.array([0,0,1]), np.array([0,1,0])],\n",
    "        'polarization symbols': [Symbol(\"Pμ12z\"), Symbol(\"Pμ12y\")],\n",
    "        'Ω symbol': Symbol('Ωμ12', complex = True),\n",
    "        'Δ symbol': Symbol('δμ12'),\n",
    "        'description': \"J12 microwave transition\"\n",
    "    }\n",
    ")\n",
    "\n",
    "transitions.append(\n",
    "    {\n",
    "        'ground main approx': 1*centrex.CoupledBasisState(J=2,F1=5/2,F=2,mF=0,I1=1/2,I2=1/2, electronic_state='X', P = (-1)**2, Omega = 0),\n",
    "        'excited main approx': 1*centrex.CoupledBasisState(J=3,F1=5/2,F=3,mF=0,I1=1/2,I2=1/2,electronic_state='X', P = (-1)**1, Omega = 0),\n",
    "        'ground states approx': 1*centrex.states.generate_coupled_states_ground([2]),\n",
    "        'excited states approx': 1*centrex.states.generate_coupled_states_ground([3]),\n",
    "        'main polarization': np.array([0,0,1]),\n",
    "        'polarizations': [np.array([0,0,1]), np.array([0,1,0])],\n",
    "        'polarization symbols': [Symbol(\"Pμ23z\"), Symbol(\"Pμ23y\")],\n",
    "        'Ω symbol': Symbol('Ωμ23', complex = True),\n",
    "        'Δ symbol': Symbol('δμ23'),\n",
    "        'description': \"J23 microwave transition\"\n",
    "    }\n",
    ")\n",
    "\n",
    "# sanity check to ensure no ground states for one transition are an\n",
    "# excited state for another transition\n",
    "centrex.couplings.utils.check_transitions(transitions)"
   ]
  },
  {
   "cell_type": "code",
   "execution_count": 7,
   "metadata": {},
   "outputs": [],
   "source": [
    "# specify states to combine into a single level \n",
    "# e.g. only decay to these states and not interested in population distribution there\n",
    "slice_compact = None"
   ]
  },
  {
   "cell_type": "markdown",
   "metadata": {},
   "source": [
    "### Specifying parameters and the ode function preamble\n",
    "Allows for setting parameters to be time dependent (e.g. sin(t), cos(t))"
   ]
  },
  {
   "cell_type": "code",
   "execution_count": 8,
   "metadata": {},
   "outputs": [],
   "source": [
    "# order of parameters in p\n",
    "parameters = ['Ωl', 'δl', 'ωlp', 'ϕlp', 'Ωμ12', 'δμ12', 'ωμ12p', 'ϕμ12p', 'Ωμ23', 'δμ23', 'ωμ23p', 'ϕμ23p']"
   ]
  },
  {
   "cell_type": "code",
   "execution_count": 9,
   "metadata": {},
   "outputs": [],
   "source": [
    "preamble = \"\"\"function Lindblad_rhs!(du, ρ, p, t)\n",
    "\\t@inbounds begin\n",
    "\\t\\tΩl = p[1]\n",
    "\\t\\tδl = p[2]\n",
    "\\t\\tωlp = p[3]\n",
    "\\t\\tϕlp = p[4]\n",
    "\\t\\tΩlᶜ = conj(Ωl)\n",
    "\n",
    "\\t\\tPl = sin(ωlp*t + ϕlp)\n",
    "\\t\\tPlx = (1-Pl)/2\n",
    "\\t\\tPlz = (1+Pl)/2\n",
    "\n",
    "\\t\\tΩμ12 = p[5]\n",
    "\\t\\tδμ12 = p[6]\n",
    "\\t\\tωμ12p = p[7]\n",
    "\\t\\tϕμ12p = p[8]\n",
    "\\t\\tΩμ12ᶜ = conj(Ωμ12)\n",
    "\n",
    "\\t\\tPμ12 = sin(ωμ12p*t + ϕμ12p)\n",
    "\\t\\tPμ12y = (1-Pμ12)/2\n",
    "\\t\\tPμ12z = (1+Pμ12)/2\n",
    "\n",
    "\\t\\tΩμ23 = p[9]\n",
    "\\t\\tδμ23 = p[10]\n",
    "\\t\\tωμ23p = p[11]\n",
    "\\t\\tϕμ23p = p[12]\n",
    "\\t\\tΩμ23ᶜ = conj(Ωμ23)\n",
    "\n",
    "\\t\\tPμ23 = sin(ωμ23p*t + ϕμ23p)\n",
    "\\t\\tPμ23y = (1-Pμ23)/2\n",
    "\\t\\tPμ23z = (1+Pμ23)/2\n",
    "\n",
    "\"\"\""
   ]
  },
  {
   "cell_type": "code",
   "execution_count": 306,
   "metadata": {},
   "outputs": [
    {
     "data": {
      "text/plain": [
       "odeParameters(Ωl: 9.80e+06, δl: 0.00e+00, ωlp: 0.00e+00, ϕlp: 0.00e+00, Ωμ12: 2.94e+07, δμ12: 0.00e+00, ωμ12p: 6.28e+06, ϕμ12p: 0.00e+00, Ωμ23: 4.90e+06, δμ23: 0.00e+00, ωμ23p: 6.28e+06, ϕμ23p: 3.14e+00)"
      ]
     },
     "execution_count": 306,
     "metadata": {},
     "output_type": "execute_result"
    }
   ],
   "source": [
    "odepars = centrex.lindblad.odeParameters(parameters)\n",
    "odepars.Ωl = Γ\n",
    "odepars.ωlp = 0\n",
    "odepars.Ωμ12 = 3*Γ\n",
    "odepars.ωμ12p = 2*np.pi*1e6\n",
    "# unicode string ϕ is different from jupyter notebook ϕ\n",
    "# have to use setattr, have to find a better way to do this\n",
    "setattr(odepars, 'ϕμ12p', 0)\n",
    "odepars.Ωμ23 = 0.5*Γ\n",
    "odepars.ωμ23p = 2*np.pi*1e6\n",
    "setattr(odepars, 'ϕμ23p', np.pi)\n",
    "odepars"
   ]
  },
  {
   "cell_type": "markdown",
   "metadata": {},
   "source": [
    "## Start calculations for Hamiltonian and transitions"
   ]
  },
  {
   "cell_type": "code",
   "execution_count": 11,
   "metadata": {},
   "outputs": [
    {
     "name": "stdout",
     "output_type": "stream",
     "text": [
      "Wall time: 11 s\n"
     ]
    }
   ],
   "source": [
    "%%time \n",
    "ground_states_approx = centrex.states.generate_coupled_states_ground(ground_Js)\n",
    "excited_states_approx = centrex.states.generate_coupled_states_excited(excited_Js, excited_Fs, \n",
    "                                                                       excited_F1s, excited_Ps)\n",
    "\n",
    "ground_states, excited_states, QN, H_int, V_ref_int = centrex.hamiltonian.generate_total_reduced_hamiltonian(\n",
    "                                            ground_states_approx, excited_states_approx,\n",
    "                                            Jmin = excited_Jmin, Jmax = excited_Jmax)"
   ]
  },
  {
   "cell_type": "code",
   "execution_count": 12,
   "metadata": {},
   "outputs": [
    {
     "name": "stderr",
     "output_type": "stream",
     "text": [
      "WARNING:root:generate_coupling_matrix: Pre-cached calculations, multiprocessing not used\n",
      "WARNING:root:generate_coupling_matrix: Pre-cached calculations, multiprocessing not used\n",
      "WARNING:root:generate_coupling_matrix: Pre-cached calculations, multiprocessing not used\n",
      "WARNING:root:generate_coupling_matrix: Pre-cached calculations, multiprocessing not used\n",
      "WARNING:root:generate_coupling_matrix: Pre-cached calculations, multiprocessing not used\n",
      "WARNING:root:generate_coupling_matrix: Pre-cached calculations, multiprocessing not used\n"
     ]
    },
    {
     "name": "stdout",
     "output_type": "stream",
     "text": [
      "Wall time: 7min 7s\n"
     ]
    }
   ],
   "source": [
    "%%time\n",
    "couplings = []\n",
    "for transition in transitions:\n",
    "    coupling = centrex.couplings.generate_coupling_field(\n",
    "                                        transition['ground main approx'],\n",
    "                                        transition['excited main approx'],\n",
    "                                        transition['ground states approx'],\n",
    "                                        transition['excited states approx'],\n",
    "                                        H_int, QN, V_ref_int, \n",
    "                                        pol_main = transition['main polarization'],\n",
    "                                        pol_vec = transition['polarizations'],\n",
    "                                        nprocs = nprocs_python)\n",
    "    couplings.append(coupling)"
   ]
  },
  {
   "cell_type": "code",
   "execution_count": 13,
   "metadata": {},
   "outputs": [
    {
     "name": "stdout",
     "output_type": "stream",
     "text": [
      "Wall time: 2.06 s\n"
     ]
    }
   ],
   "source": [
    "%%time\n",
    "H_symbolic = centrex.lindblad.generate_total_symbolic_hamiltonian(QN, H_int, couplings, transitions, \n",
    "                                                                slice_compact = slice_compact)"
   ]
  },
  {
   "cell_type": "code",
   "execution_count": 14,
   "metadata": {},
   "outputs": [
    {
     "name": "stdout",
     "output_type": "stream",
     "text": [
      "Wall time: 1min 48s\n"
     ]
    }
   ],
   "source": [
    "%%time\n",
    "C_array = centrex.couplings.collapse_matrices(QN, ground_states, excited_states, gamma = Γ, \n",
    "                                            slice_compact = slice_compact)\n",
    "system = centrex.lindblad.generate_system_of_equations_symbolic(H_symbolic, C_array, progress = False, fast = True)"
   ]
  },
  {
   "cell_type": "code",
   "execution_count": 15,
   "metadata": {},
   "outputs": [
    {
     "name": "stdout",
     "output_type": "stream",
     "text": [
      "Wall time: 3min 10s\n"
     ]
    }
   ],
   "source": [
    "%%time\n",
    "# convert matrix to system of equations code\n",
    "code_lines = centrex.lindblad.system_of_equations_to_lines(system, nprocs = nprocs_python)"
   ]
  },
  {
   "cell_type": "code",
   "execution_count": 230,
   "metadata": {},
   "outputs": [
    {
     "data": {
      "text/plain": [
       "dict_keys(['ground main', 'excited main', 'main coupling', 'ground_states', 'excited states', 'D', 'fields'])"
      ]
     },
     "execution_count": 230,
     "metadata": {},
     "output_type": "execute_result"
    }
   ],
   "source": [
    "couplings[0].keys()"
   ]
  },
  {
   "cell_type": "code",
   "execution_count": 243,
   "metadata": {},
   "outputs": [
    {
     "name": "stdout",
     "output_type": "stream",
     "text": [
      "Transitions in model\n",
      "|X, J=2> -> |B, J=1> : 0.10 main transition amp\n",
      "|X, J=2> -> |X, J=1> : 0.49 main transition amp\n",
      "|X, J=2> -> |X, J=3> : 0.04 main transition amp\n"
     ]
    }
   ],
   "source": [
    "print(\"Transitions in model\")\n",
    "for coupling in couplings:\n",
    "    main_coupling = coupling['main coupling']\n",
    "    g = coupling['ground main'].find_largest_component()\n",
    "    e = coupling['excited main'].find_largest_component()\n",
    "    msg = f\"|{g.electronic_state}, J={g.J}> -> |{e.electronic_state}, J={e.J}> : {np.abs(main_coupling):.2f}\"\n",
    "    msg += \" main transition amp\"\n",
    "    print(msg)"
   ]
  },
  {
   "cell_type": "code",
   "execution_count": 307,
   "metadata": {},
   "outputs": [
    {
     "name": "stdout",
     "output_type": "stream",
     "text": [
      "odeParameters(Ωl: 0.36, δl: 0.00, ωlp: 0.00, ϕlp: 0.00, Ωμ12: 3.27, δμ12: 0.00, ωμ12p: 0.64, ϕμ12p: 0.00, Ωμ23: 0.27, δμ23: 0.00, ωμ23p: 0.64, ϕμ23p: 3.14)\n"
     ]
    }
   ],
   "source": [
    "odepars.Ωl = centrex.utils.calculate_rabi_from_power_gaussian_beam(80e-3, 0.1, 1e-3, 5e-3)\n",
    "odepars.Ωμ12 = centrex.utils.calculate_rabi_from_power_gaussian_beam_microwave(200e-3, 0.49, 1e-2, 1e-2)\n",
    "odepars.Ωμ23 = centrex.utils.calculate_rabi_from_power_gaussian_beam_microwave(200e-3, 0.04, 1e-2, 1e-2)\n",
    "print(odepars.to_units_Γ(Γ))"
   ]
  },
  {
   "cell_type": "markdown",
   "metadata": {},
   "source": [
    "# Solving ODE system with Julia\n",
    "Need to install Julia and add the following packages to Julia:  \n",
    "* [DifferentialEquations](https://diffeq.sciml.ai/stable/)\n",
    "* [Trapz](https://github.com/francescoalemanno/Trapz.jl)\n",
    "\n",
    "And install [PyJulia](https://pyjulia.readthedocs.io/en/latest/index.html) for python.  "
   ]
  },
  {
   "cell_type": "code",
   "execution_count": 22,
   "metadata": {},
   "outputs": [],
   "source": [
    "# import julia\n",
    "# julia.install()"
   ]
  },
  {
   "cell_type": "code",
   "execution_count": 23,
   "metadata": {},
   "outputs": [
    {
     "name": "stdout",
     "output_type": "stream",
     "text": [
      "Initialized Julia with 3 processes\n"
     ]
    }
   ],
   "source": [
    "from julia import Main\n",
    "centrex.lindblad.initialize_julia(nprocs = nprocs_julia)\n",
    "\n",
    "_ = centrex.lindblad.generate_ode_fun_julia(preamble, code_lines)\n",
    "\n",
    "# generate initial conditions\n",
    "ρ_ini = centrex.utils.generate_thermal_J(ground_Js, len(excited_states), T, normalized = True)\n",
    "centrex.lindblad.setup_variables_julia(Γ, ρ_ini)\n",
    "odepars.generate_p_julia()"
   ]
  },
  {
   "cell_type": "markdown",
   "metadata": {},
   "source": [
    "### Setting up the ODE problem to solve\n",
    "`tmp = 0` is just to prevent `Main.eval` from outputting the problem in the notebook.  \n",
    "The ODEProblem takes a function to solve (`Lindblad_rhs!` in this case), initial conditions `ρ_ini`, a timespan `tspan` an additional arguments for the ODE function, denoted here by `p` "
   ]
  },
  {
   "cell_type": "code",
   "execution_count": 215,
   "metadata": {},
   "outputs": [],
   "source": [
    "# precompile function\n",
    "du = np.zeros(H_symbolic.shape, dtype = complex)\n",
    "Main.du = du\n",
    "Main.eval(\"@time Lindblad_rhs!(du, ρ, p, 0.1)\")"
   ]
  },
  {
   "cell_type": "code",
   "execution_count": 293,
   "metadata": {},
   "outputs": [],
   "source": [
    "odepars.generate_p_julia()\n",
    "Main.eval(\"\"\"\n",
    "tspan = (0.0, 300e-6)\n",
    "prob = ODEProblem(Lindblad_rhs!,ρ,tspan,p)\n",
    "\"\"\");"
   ]
  },
  {
   "cell_type": "code",
   "execution_count": 294,
   "metadata": {},
   "outputs": [],
   "source": [
    "indices_diag = [str(i) for i in centrex.lindblad.get_indices_diag_flattened(len(H_int))+1]"
   ]
  },
  {
   "cell_type": "code",
   "execution_count": 308,
   "metadata": {},
   "outputs": [
    {
     "name": "stdout",
     "output_type": "stream",
     "text": [
      "Wall time: 10 s\n"
     ]
    },
    {
     "data": {
      "text/plain": [
       "0"
      ]
     },
     "execution_count": 308,
     "metadata": {},
     "output_type": "execute_result"
    }
   ],
   "source": [
    "%%time\n",
    "Main.eval(f\"\"\"\n",
    "@time sol = solve(prob, Tsit5(), abstol = 2.5e-7, reltol = 2.5e-4, progress = true, saveat = 1e-7, save_idxs = [{','.join(indices_diag)}]);\n",
    "tmp = 0\n",
    "\"\"\");"
   ]
  },
  {
   "cell_type": "code",
   "execution_count": 309,
   "metadata": {},
   "outputs": [],
   "source": [
    "pop_results = np.array(Main.eval(\"sol[:]\")).T.real\n",
    "t_array = Main.eval(\"sol.t\")"
   ]
  },
  {
   "cell_type": "code",
   "execution_count": 310,
   "metadata": {},
   "outputs": [],
   "source": [
    "#Plot populations in different J\n",
    "P0_triplet = np.sum(pop_results[1:4,:], axis = 0)\n",
    "P0_singlet = np.sum(pop_results[0:1,:], axis = 0)\n",
    "P0 = np.sum(pop_results[:4], axis = 0)\n",
    "P1 = np.sum(pop_results[4:16,:], axis = 0)\n",
    "P2 = np.sum(pop_results[16:36,:], axis = 0)\n",
    "P3 = np.sum(pop_results[36:64,:], axis = 0)\n",
    "PB1 = np.sum(pop_results[64:,:], axis = 0)"
   ]
  },
  {
   "cell_type": "code",
   "execution_count": 311,
   "metadata": {},
   "outputs": [
    {
     "name": "stdout",
     "output_type": "stream",
     "text": [
      "J=0 ratio : 10.55\n"
     ]
    },
    {
     "data": {
      "image/png": "[encoded data removed]",
      "text/plain": [
       "<Figure size 864x576 with 1 Axes>"
      ]
     },
     "metadata": {
      "needs_background": "light"
     },
     "output_type": "display_data"
    }
   ],
   "source": [
    "fig, ax = plt.subplots(figsize = (12,8))\n",
    "ax.plot(t_array*1e6, P0, label = 'X, J = 0', lw = 2, color = 'C1')\n",
    "ax.plot(t_array*1e6, P1, label = 'X, J = 1', lw = 2, color = 'C2')\n",
    "ax.plot(t_array*1e6, P2, label = 'X, J = 2', lw = 2, color = 'C3')\n",
    "ax.plot(t_array*1e6, P3, label = 'X, J = 3', lw = 2, color = 'C4')\n",
    "ax.plot(t_array*1e6, PB1, label = 'B, J = 1', lw = 2, color = 'C5')\n",
    "\n",
    "ax.legend(fontsize = 14)\n",
    "ax.set_xlabel('time [μs]', fontsize = 14)\n",
    "ax.set_ylabel(\"Population in state\", fontsize = 14)\n",
    "ax.tick_params(axis='both', labelsize=14)\n",
    "ax.grid(True)\n",
    "\n",
    "print(f'J=0 ratio : {P0[-1]/np.diag(ρ_ini)[:4].sum().real:.2f}')"
   ]
  },
  {
   "cell_type": "code",
   "execution_count": 312,
   "metadata": {},
   "outputs": [
    {
     "data": {
      "text/plain": [
       "27.573832887647605"
      ]
     },
     "execution_count": 312,
     "metadata": {},
     "output_type": "execute_result"
    }
   ],
   "source": [
    "pop_results[0,-1]/pop_results[0,0]"
   ]
  },
  {
   "cell_type": "markdown",
   "metadata": {},
   "source": [
    "## Scan Polarization switching frequency"
   ]
  },
  {
   "cell_type": "code",
   "execution_count": 313,
   "metadata": {},
   "outputs": [
    {
     "name": "stdout",
     "output_type": "stream",
     "text": [
      "odeParameters(Ωl: 0.36, δl: 0.00, ωlp: 0.00, ϕlp: 0.00, Ωμ12: 3.27, δμ12: 0.00, ωμ12p: 0.64, ϕμ12p: 0.00, Ωμ23: 0.27, δμ23: 0.00, ωμ23p: 0.64, ϕμ23p: 3.14)\n"
     ]
    }
   ],
   "source": [
    "print(odepars.to_units_Γ(Γ))"
   ]
  },
  {
   "cell_type": "code",
   "execution_count": 314,
   "metadata": {},
   "outputs": [],
   "source": [
    "odepars.generate_p_julia()\n",
    "Main.eval(\"\"\"\n",
    "tspan = (0.0, 300e-6)\n",
    "prob = ODEProblem(Lindblad_rhs!,ρ,tspan,p)\n",
    "\"\"\");"
   ]
  },
  {
   "cell_type": "code",
   "execution_count": 315,
   "metadata": {},
   "outputs": [],
   "source": [
    "# generate the prob_func to remake the problem for each iteration\n",
    "centrex.lindblad.setup_parameter_scan_1D(odepars, ['ωμ12p', 'ωμ23p'], np.linspace(0,1*Γ,101))"
   ]
  },
  {
   "cell_type": "code",
   "execution_count": 316,
   "metadata": {},
   "outputs": [],
   "source": [
    "# generate the output_func to transform the ode solution after integration\n",
    "centrex.lindblad.setup_ratio_calculation([[1],[2,3,4]])"
   ]
  },
  {
   "cell_type": "code",
   "execution_count": 317,
   "metadata": {},
   "outputs": [],
   "source": [
    "# setting up the EnsembleProblem with the earlier defined ODEProblem\n",
    "Main.eval(\"\"\"\n",
    "ens_prob = EnsembleProblem(prob, prob_func = prob_func, output_func = output_func);\n",
    "\"\"\");"
   ]
  },
  {
   "cell_type": "code",
   "execution_count": 318,
   "metadata": {},
   "outputs": [
    {
     "data": {
      "text/plain": [
       "1063.7521156"
      ]
     },
     "execution_count": 318,
     "metadata": {},
     "output_type": "execute_result"
    }
   ],
   "source": [
    "Main.eval(\"\"\"\n",
    "@time sim = solve(ens_prob, Tsit5(), EnsembleDistributed(); trajectories = size(params)[1],\n",
    "            abstol = 1e-7, reltol = 1e-4, save_everystep = false)\n",
    "sim.elapsedTime\n",
    "\"\"\")"
   ]
  },
  {
   "cell_type": "code",
   "execution_count": 319,
   "metadata": {},
   "outputs": [
    {
     "data": {
      "image/png": "[encoded data removed]",
      "text/plain": [
       "<Figure size 576x360 with 1 Axes>"
      ]
     },
     "metadata": {
      "needs_background": "light"
     },
     "output_type": "display_data"
    }
   ],
   "source": [
    "fig, ax = plt.subplots(figsize = (8,5))\n",
    "ax.plot(Main.params/Main.Γ, np.asarray(Main.sim)[0], lw = 2)\n",
    "ax.plot(Main.params/Main.Γ, np.asarray(Main.sim)[1], lw = 2)\n",
    "\n",
    "ax.set_xlabel('ωp [Γ]')\n",
    "ax.set_ylabel('signal RC on/off')\n",
    "\n",
    "set_fontsize(ax, 14)"
   ]
  },
  {
   "cell_type": "code",
   "execution_count": 320,
   "metadata": {},
   "outputs": [
    {
     "data": {
      "text/plain": [
       "28.534980635646665"
      ]
     },
     "execution_count": 320,
     "metadata": {},
     "output_type": "execute_result"
    }
   ],
   "source": [
    "np.max(np.array(Main.sim)[0])"
   ]
  },
  {
   "cell_type": "code",
   "execution_count": 321,
   "metadata": {},
   "outputs": [
    {
     "name": "stdout",
     "output_type": "stream",
     "text": [
      "max gain in J = 0, F = 0 : 29.41\n",
      "max gain in J = 0, F = 1 : 5.13\n"
     ]
    }
   ],
   "source": [
    "pF0 = np.diag(ρ_ini)[0].real\n",
    "pF1 = np.diag(ρ_ini)[1:4].real.sum()\n",
    "\n",
    "rJ12_F0 = 0.337/(0.147+0.337) * np.diag(ρ_ini)[4:].sum().real\n",
    "rJ12_F1 = 0.147/0.337 * rJ12_F0\n",
    "\n",
    "gF0 = (pF0 + rJ12_F0)/pF0\n",
    "gF1 = (pF1 + rJ12_F1)/pF1\n",
    "\n",
    "print(f\"max gain in J = 0, F = 0 : {(gF0):.2f}\")\n",
    "print(f\"max gain in J = 0, F = 1 : {(gF1):.2f}\")"
   ]
  },
  {
   "cell_type": "markdown",
   "metadata": {},
   "source": [
    "## Scan Ωl and Ωμ12"
   ]
  },
  {
   "cell_type": "code",
   "execution_count": 322,
   "metadata": {},
   "outputs": [
    {
     "name": "stdout",
     "output_type": "stream",
     "text": [
      "odeParameters(Ωl: 0.36, δl: 0.00, ωlp: 0.00, ϕlp: 0.00, Ωμ12: 3.27, δμ12: 0.00, ωμ12p: 0.64, ϕμ12p: 0.00, Ωμ23: 0.27, δμ23: 0.00, ωμ23p: 0.64, ϕμ23p: 3.14)\n"
     ]
    }
   ],
   "source": [
    "print(odepars.to_units_Γ(Γ))"
   ]
  },
  {
   "cell_type": "code",
   "execution_count": 323,
   "metadata": {},
   "outputs": [],
   "source": [
    "odepars.generate_p_julia()\n",
    "Main.eval(\"\"\"\n",
    "tspan = (0.0, 300e-6)\n",
    "prob = ODEProblem(Lindblad_rhs!,ρ,tspan,p)\n",
    "\"\"\");"
   ]
  },
  {
   "cell_type": "code",
   "execution_count": 343,
   "metadata": {},
   "outputs": [],
   "source": [
    "Ωls = np.linspace(0,Γ,10)\n",
    "Ωμs = np.linspace(0,4*Γ,10)\n",
    "# generate the prob_func to remake the problem for each iteration\n",
    "centrex.lindblad.setup_parameter_scan_ND(odepars, ['Ωl', 'Ωμ12'], [Ωls, Ωμs])"
   ]
  },
  {
   "cell_type": "code",
   "execution_count": 344,
   "metadata": {},
   "outputs": [],
   "source": [
    "# generate the output_func to transform the ode solution after integration\n",
    "centrex.lindblad.setup_ratio_calculation([[1],[2,3,4]])"
   ]
  },
  {
   "cell_type": "code",
   "execution_count": 345,
   "metadata": {},
   "outputs": [],
   "source": [
    "# setting up the EnsembleProblem with the earlier defined ODEProblem\n",
    "Main.eval(\"\"\"\n",
    "ens_prob = EnsembleProblem(prob, prob_func = prob_func, output_func = output_func);\n",
    "\"\"\");"
   ]
  },
  {
   "cell_type": "code",
   "execution_count": 346,
   "metadata": {},
   "outputs": [
    {
     "data": {
      "text/plain": [
       "1012.8373673"
      ]
     },
     "execution_count": 346,
     "metadata": {},
     "output_type": "execute_result"
    }
   ],
   "source": [
    "Main.eval(\"\"\"\n",
    "@time sim = solve(ens_prob, Tsit5(), EnsembleDistributed(); trajectories = size(params)[1],\n",
    "            abstol = 1e-7, reltol = 1e-4, save_everystep = false)\n",
    "sim.elapsedTime\n",
    "\"\"\")"
   ]
  },
  {
   "cell_type": "code",
   "execution_count": 350,
   "metadata": {},
   "outputs": [
    {
     "data": {
      "image/png": "[encoded data removed]",
      "text/plain": [
       "<Figure size 720x576 with 2 Axes>"
      ]
     },
     "metadata": {
      "needs_background": "light"
     },
     "output_type": "display_data"
    }
   ],
   "source": [
    "fig, ax = plt.subplots(figsize = (10,8))\n",
    "\n",
    "tcf = ax.tricontourf(Main.params[:,0]/Γ, Main.params[:,1]/Γ, np.array(Main.eval(\"sim.u\"))[:,0], levels = 15)\n",
    "\n",
    "cbar = fig.colorbar(tcf)\n",
    "\n",
    "ax.set_xlabel('Ωl [Γ]')\n",
    "ax.set_ylabel(r'Ωμ12 [Γ]')\n",
    "cbar.ax.set_ylabel('gain F=0')\n",
    "\n",
    "set_fontsize(ax, 14)\n",
    "set_fontsize(cbar.ax, 14)"
   ]
  },
  {
   "cell_type": "code",
   "execution_count": 351,
   "metadata": {},
   "outputs": [],
   "source": [
    "lpower = centrex.utils.calculate_power_from_rabi_gaussian_beam(Main.params[:,0], 0.1, 1e-3, 5e-3)\n",
    "μpower = centrex.utils.calculate_power_from_rabi_gaussian_beam_microwave(Main.params[:,1], 0.49, 1e-2, 1e-2)"
   ]
  },
  {
   "cell_type": "code",
   "execution_count": 352,
   "metadata": {},
   "outputs": [
    {
     "data": {
      "image/png": "[encoded data removed]",
      "text/plain": [
       "<Figure size 720x576 with 2 Axes>"
      ]
     },
     "metadata": {
      "needs_background": "light"
     },
     "output_type": "display_data"
    }
   ],
   "source": [
    "fig, ax = plt.subplots(figsize = (10,8))\n",
    "\n",
    "tcf = ax.tricontourf(lpower*1e3, μpower*1e3, np.array(Main.eval(\"sim.u\"))[:,0], levels = 15)\n",
    "\n",
    "cbar = fig.colorbar(tcf)\n",
    "\n",
    "ax.set_xlabel('Ωl [mW]')\n",
    "ax.set_ylabel(r'Ωμ12 [mW]')\n",
    "cbar.ax.set_ylabel('gain F=0')\n",
    "\n",
    "set_fontsize(ax, 14)\n",
    "set_fontsize(cbar.ax, 14)"
   ]
  },
  {
   "cell_type": "code",
   "execution_count": null,
   "metadata": {},
   "outputs": [],
   "source": []
  }
 ],
 "metadata": {
  "kernelspec": {
   "display_name": "Python 3",
   "language": "python",
   "name": "python3"
  },
  "language_info": {
   "codemirror_mode": {
    "name": "ipython",
    "version": 3
   },
   "file_extension": ".py",
   "mimetype": "text/x-python",
   "name": "python",
   "nbconvert_exporter": "python",
   "pygments_lexer": "ipython3",
   "version": "3.8.5"
  }
 },
 "nbformat": 4,
 "nbformat_minor": 4
}
