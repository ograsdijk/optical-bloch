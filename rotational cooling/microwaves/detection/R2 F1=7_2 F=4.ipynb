{
 "cells": [
  {
   "cell_type": "code",
   "execution_count": 1,
   "metadata": {},
   "outputs": [],
   "source": [
    "%load_ext autoreload\n",
    "%autoreload 2\n",
    "\n",
    "import numpy as np\n",
    "from tqdm import tqdm\n",
    "from sympy import Symbol\n",
    "from pathlib import Path\n",
    "import centrex_TlF as centrex\n",
    "import matplotlib.pyplot as plt\n",
    "\n",
    "import sys\n",
    "sys.path.append(\"../../..\")\n",
    "from utils.plot_utils import set_fontsize"
   ]
  },
  {
   "cell_type": "code",
   "execution_count": 2,
   "metadata": {},
   "outputs": [],
   "source": [
    "nprocs = 6\n",
    "\n",
    "# Γ\n",
    "Γ = 1.56e6*2*np.pi\n",
    "\n",
    "# TlF temperature\n",
    "T = 6.3\n",
    "\n",
    "# Define all involved states\n",
    "\n",
    "# ground state J levels\n",
    "ground_Js = [2,4]\n",
    "\n",
    "# excited state quantum numbers\n",
    "excited_Js = [3]\n",
    "excited_F1s = [7/2]\n",
    "excited_Fs= [4]\n",
    "excited_Ps = [-1]\n",
    "\n",
    "# Settings for transitions\n",
    "\n",
    "# min and max J level to look for mixing in the B state\n",
    "excited_Jmin = 1\n",
    "excited_Jmax = 4\n",
    "\n",
    "\n",
    "# main laser transition R(2) F'=4 F1'=7/2\n",
    "\n",
    "ground_main_approx = 1*centrex.CoupledBasisState(J=2,F1=5/2,F=3,mF=0,I1=1/2,I2=1/2,electronic_state='X', \n",
    "                                         P = (-1)**2, Omega = 0)\n",
    "excited_main_approx = 1*centrex.CoupledBasisState(J=3,\n",
    "                                          F1=7/2,\n",
    "                                          F=4,\n",
    "                                          mF=0,I1=1/2,I2=1/2, electronic_state='B', P = -1, Omega = 1)\n",
    "# ground laser J\n",
    "laser_J = [ground_main_approx.find_largest_component().J]\n",
    "\n",
    "transitions = [{'ground main approx': ground_main_approx, \n",
    "                'excited main approx': excited_main_approx,\n",
    "                'ground states approx': 1*centrex.states.generate_coupled_states_ground(laser_J),\n",
    "                'excited states approx': 1*centrex.states.generate_coupled_states_excited(\n",
    "                                                excited_Js, excited_Fs, excited_F1s, excited_Ps),\n",
    "                'main polarization': np.array([0,0,1]),\n",
    "                'polarizations': [np.array([0,0,1]), np.array([1,0,0])],\n",
    "                'polarization symbols': [Symbol(\"Plz\"), Symbol(\"Plx\")],\n",
    "                'Ω symbol': Symbol('Ωl', complex = True),\n",
    "                'Δ symbol': Symbol('δl'),\n",
    "                'description': \"laser transition\"\n",
    "               }]"
   ]
  },
  {
   "cell_type": "code",
   "execution_count": 3,
   "metadata": {},
   "outputs": [],
   "source": [
    "# specify states to combine into a single level \n",
    "# e.g. only decay to these states and not interested in population distribution there\n",
    "levels_J2 = centrex.utils.J_levels(2)\n",
    "levels_J4 = centrex.utils.J_levels(4)\n",
    "slice_compact = np.s_[levels_J2:levels_J2+levels_J4]"
   ]
  },
  {
   "cell_type": "markdown",
   "metadata": {},
   "source": [
    "### Specifying parameters and the ode function preamble\n",
    "Allows for setting parameters to be time dependent (e.g. sin(t), cos(t))"
   ]
  },
  {
   "cell_type": "code",
   "execution_count": 4,
   "metadata": {},
   "outputs": [],
   "source": [
    "# order of parameters in p\n",
    "parameters = ['Ωl', 'δl', 'ωp', 'ϕp', 'y0', 'vy', 'vz', 'μzlaser', 'σylaser', 'σzlaser', 'β', 'ωphase']"
   ]
  },
  {
   "cell_type": "code",
   "execution_count": 5,
   "metadata": {},
   "outputs": [],
   "source": [
    "preamble = \"\"\"function Lindblad_rhs!(du, ρ, p, t)\n",
    "\\t@inbounds begin\n",
    "\\t\\tΩl = p[1]\n",
    "\\t\\tδl = p[2]\n",
    "\\t\\tωp = p[3]\n",
    "\\t\\tϕp = p[4]\n",
    "\\t\\ty0 = p[5]\n",
    "\\t\\tvy = p[6]\n",
    "\\t\\tvz = p[7]\n",
    "\\t\\tμzlaser = p[8]\n",
    "\\t\\tσylaser = p[9]\n",
    "\\t\\tσzlaser = p[10]\n",
    "\\t\\tβ = p[11]\n",
    "\\t\\tωphase = p[12]\n",
    "\\t\\tΩl = Ωl .* gaussian_2d(vz*t, y0+vy*t, 1., μzlaser, 0., σzlaser, σylaser) .* phase_modulation(t, β, ωphase)\n",
    "\n",
    "\\t\\tΩlᶜ = conj(Ωl)\n",
    "\n",
    "\\t\\tPl = sin(ωp*t + ϕp)\n",
    "\\t\\tPlx = (1-Pl)/2\n",
    "\\t\\tPlz = (1+Pl)/2\n",
    "\"\"\""
   ]
  },
  {
   "cell_type": "code",
   "execution_count": 6,
   "metadata": {},
   "outputs": [
    {
     "data": {
      "text/plain": [
       "odeParameters(Ωl: 9.80e+06, δl: 0.00e+00, ωp: 9.80e+06, ϕp: 0.00e+00, y0: 0.00e+00, vy: 0.00e+00, vz: 0.00e+00, μzlaser: 0.00e+00, σylaser: 0.00e+00, σzlaser: 0.00e+00, β: 0.00e+00, ωphase: 0.00e+00)"
      ]
     },
     "execution_count": 6,
     "metadata": {},
     "output_type": "execute_result"
    }
   ],
   "source": [
    "odepars = centrex.lindblad.odeParameters(parameters)\n",
    "odepars.Ωl = Γ\n",
    "odepars.ωp = Γ\n",
    "odepars"
   ]
  },
  {
   "cell_type": "markdown",
   "metadata": {},
   "source": [
    "## Start calculations for Hamiltonian and transitions"
   ]
  },
  {
   "cell_type": "code",
   "execution_count": 7,
   "metadata": {},
   "outputs": [
    {
     "name": "stdout",
     "output_type": "stream",
     "text": [
      "Wall time: 11.6 s\n"
     ]
    }
   ],
   "source": [
    "%%time \n",
    "ground_states_approx = centrex.states.generate_coupled_states_ground(ground_Js)\n",
    "excited_states_approx = centrex.states.generate_coupled_states_excited(excited_Js, excited_Fs, \n",
    "                                                                       excited_F1s, excited_Ps)\n",
    "\n",
    "ground_states, excited_states, QN, H_int, V_ref_int = centrex.hamiltonian.generate_total_reduced_hamiltonian(\n",
    "                                            ground_states_approx, excited_states_approx)"
   ]
  },
  {
   "cell_type": "code",
   "execution_count": 8,
   "metadata": {},
   "outputs": [
    {
     "name": "stderr",
     "output_type": "stream",
     "text": [
      "WARNING:root:generate_coupling_matrix: Pre-cached calculations, multiprocessing not used\n",
      "WARNING:root:generate_coupling_matrix: Pre-cached calculations, multiprocessing not used\n"
     ]
    },
    {
     "name": "stdout",
     "output_type": "stream",
     "text": [
      "Wall time: 6.72 s\n"
     ]
    }
   ],
   "source": [
    "%%time\n",
    "couplings = []\n",
    "for transition in transitions:\n",
    "    coupling = centrex.couplings.generate_coupling_field(\n",
    "                                        transition['ground main approx'],\n",
    "                                        transition['excited main approx'],\n",
    "                                        transition['ground states approx'],\n",
    "                                        transition['excited states approx'],\n",
    "                                        H_int, QN, V_ref_int, \n",
    "                                        pol_main = transition['main polarization'],\n",
    "                                        pol_vec = transition['polarizations'],\n",
    "                                        nprocs = nprocs)\n",
    "    couplings.append(coupling)"
   ]
  },
  {
   "cell_type": "code",
   "execution_count": 9,
   "metadata": {},
   "outputs": [
    {
     "name": "stdout",
     "output_type": "stream",
     "text": [
      "Wall time: 865 ms\n"
     ]
    }
   ],
   "source": [
    "%%time\n",
    "H_symbolic = centrex.lindblad.generate_total_symbolic_hamiltonian(QN, H_int, couplings, transitions, \n",
    "                                                                slice_compact = slice_compact)"
   ]
  },
  {
   "cell_type": "code",
   "execution_count": 10,
   "metadata": {},
   "outputs": [
    {
     "name": "stdout",
     "output_type": "stream",
     "text": [
      "Wall time: 8.37 s\n"
     ]
    }
   ],
   "source": [
    "%%time\n",
    "C_array = centrex.couplings.collapse_matrices(QN, ground_states, excited_states, gamma = Γ, \n",
    "                                            slice_compact = slice_compact)\n",
    "system = centrex.lindblad.generate_system_of_equations_symbolic(H_symbolic, C_array, progress = False, fast = True)"
   ]
  },
  {
   "cell_type": "code",
   "execution_count": 11,
   "metadata": {},
   "outputs": [
    {
     "name": "stdout",
     "output_type": "stream",
     "text": [
      "Wall time: 11.3 s\n"
     ]
    }
   ],
   "source": [
    "%%time\n",
    "# convert matrix to system of equations code\n",
    "code_lines = centrex.lindblad.system_of_equations_to_lines(system, nprocs = nprocs)"
   ]
  },
  {
   "cell_type": "code",
   "execution_count": 12,
   "metadata": {},
   "outputs": [],
   "source": [
    "QNcompact = [QN[idx] for idx in range(len(QN)) if idx not in range(slice_compact.start+1, slice_compact.stop)]\n",
    "s = QNcompact[slice_compact.start]\n",
    "s = s.find_largest_component()\n",
    "s.F = None\n",
    "s.F1 = None\n",
    "s.mF = None\n",
    "QNcompact[slice_compact.start] = 1*s"
   ]
  },
  {
   "cell_type": "markdown",
   "metadata": {},
   "source": [
    "# Solving ODE system with Julia\n",
    "Need to install Julia and add the following packages to Julia:  \n",
    "* [DifferentialEquations](https://diffeq.sciml.ai/stable/)\n",
    "* [Trapz](https://github.com/francescoalemanno/Trapz.jl)\n",
    "\n",
    "And install [PyJulia](https://pyjulia.readthedocs.io/en/latest/index.html) for python.  "
   ]
  },
  {
   "cell_type": "code",
   "execution_count": 13,
   "metadata": {},
   "outputs": [],
   "source": [
    "# import julia\n",
    "# julia.install()"
   ]
  },
  {
   "cell_type": "code",
   "execution_count": 14,
   "metadata": {},
   "outputs": [
    {
     "name": "stdout",
     "output_type": "stream",
     "text": [
      "Initialized Julia with 6 processes\n"
     ]
    }
   ],
   "source": [
    "from julia import Main\n",
    "centrex.lindblad.initialize_julia(nprocs = nprocs)\n",
    "\n",
    "_ = centrex.lindblad.generate_ode_fun_julia(preamble, code_lines)\n",
    "\n",
    "# generate initial conditions\n",
    "ρ_ini = centrex.utils.generate_population_states(list(range(levels_J2)), H_symbolic.shape[0])\n",
    "centrex.lindblad.setup_variables_julia(Γ, ρ_ini)\n",
    "odepars.generate_p_julia()"
   ]
  },
  {
   "cell_type": "code",
   "execution_count": 15,
   "metadata": {},
   "outputs": [],
   "source": [
    "Main.eval(\"\"\"\n",
    "@everywhere function gaussian_2d(x::Float64, y::Float64, a::Float64, μx::Float64, μy::Float64, σx::Float64, σy::Float64)::Float64\n",
    "    a.*exp(.- ((x.-μx).^2 ./ (2 .* σx.*σx) + (y.-μy).^2 ./ (2 .* σy.*σy)))\n",
    "end\n",
    "\n",
    "@everywhere function phase_modulation(t::Float64, β::Float64, ω::Float64)\n",
    "    return exp(1im.*β.*sin(ω.*t))\n",
    "end\n",
    "\"\"\")"
   ]
  },
  {
   "cell_type": "markdown",
   "metadata": {},
   "source": [
    "### Setting up the ODE problem to solve\n",
    "`tmp = 0` is just to prevent `Main.eval` from outputting the problem in the notebook.  \n",
    "The ODEProblem takes a function to solve (`Lindblad_rhs!` in this case), initial conditions `ρ_ini`, a timespan `tspan` an additional arguments for the ODE function, denoted here by `p` "
   ]
  },
  {
   "cell_type": "code",
   "execution_count": 16,
   "metadata": {},
   "outputs": [
    {
     "name": "stdout",
     "output_type": "stream",
     "text": [
      "odeParameters(Ωl: 0.18, δl: 0.00, ωp: 1.00, ϕp: 0.00e+00, y0: 0.00e+00, vy: 0.00e+00, vz: 1.84e+02, μzlaser: 2.00e-02, σylaser: 5.00e-03, σzlaser: 5.00e-03, β: 3.80e+00, ωphase: 1.03)\n"
     ]
    }
   ],
   "source": [
    "odepars = centrex.lindblad.odeParameters(parameters)\n",
    "odepars.Ωl = 0.18*Γ\n",
    "odepars.ωp = Γ\n",
    "odepars.σylaser = 1e-2/2\n",
    "odepars.σzlaser = 1e-2/2\n",
    "odepars.μzlaser = 4*odepars.σzlaser\n",
    "odepars.y0 = 0\n",
    "odepars.vz = 184\n",
    "odepars.vy = 0\n",
    "odepars.β = 3.8\n",
    "odepars.ωphase = 2*np.pi*1.6e6\n",
    "odepars.generate_p_julia()\n",
    "print(odepars.to_units_Γ(Γ))"
   ]
  },
  {
   "cell_type": "code",
   "execution_count": 17,
   "metadata": {},
   "outputs": [],
   "source": [
    "Main.eval(f\"\"\"\n",
    "tspan = (0.0, {8*odepars.σzlaser / odepars.vz})\n",
    "prob = ODEProblem(Lindblad_rhs!,ρ,tspan,p)\n",
    "\"\"\");"
   ]
  },
  {
   "cell_type": "code",
   "execution_count": 22,
   "metadata": {},
   "outputs": [
    {
     "name": "stdout",
     "output_type": "stream",
     "text": [
      "Wall time: 323 ms\n"
     ]
    },
    {
     "data": {
      "text/plain": [
       "0"
      ]
     },
     "execution_count": 22,
     "metadata": {},
     "output_type": "execute_result"
    }
   ],
   "source": [
    "%%time\n",
    "Main.eval(\"\"\"\n",
    "@time sol = solve(prob, Tsit5(), abstol = 1e-7, reltol = 1e-4, progress = false);\n",
    "tmp = 0\n",
    "\"\"\");"
   ]
  },
  {
   "cell_type": "code",
   "execution_count": 23,
   "metadata": {},
   "outputs": [],
   "source": [
    "ut = np.array(Main.eval(\"sol[:]\")).T\n",
    "pop_results = np.real(np.einsum('jji->ji',ut.reshape((ρ_ini.shape[0], ρ_ini.shape[1], ut.shape[2]))))\n",
    "t_array = Main.eval(\"sol.t\")"
   ]
  },
  {
   "cell_type": "code",
   "execution_count": 24,
   "metadata": {},
   "outputs": [
    {
     "data": {
      "image/png": "[encoded data removed]",
      "text/plain": [
       "<Figure size 576x360 with 1 Axes>"
      ]
     },
     "metadata": {
      "needs_background": "light"
     },
     "output_type": "display_data"
    }
   ],
   "source": [
    "fig, ax = plt.subplots(figsize = (8,5))\n",
    "\n",
    "for idx, pop in enumerate(pop_results):\n",
    "    ls = '-'\n",
    "    if idx in range(0,len(pop_results)):\n",
    "        s = QNcompact[idx].find_largest_component()\n",
    "        if s.F is None:\n",
    "            label = f'{s.electronic_state}, J={s.J}'\n",
    "        else:\n",
    "            label = f'{s.electronic_state}, J={s.J}, F={s.F:.0f}, F1={s.F1}, mF={s.mF:+.0f}'\n",
    "        ax.plot(t_array*1e6, pop, lw = 2, label = label, ls = ls)\n",
    "#         ax.plot(t_array, pop, lw = 2, label = f\"ρ$_{{{idx},{idx}}}$\", ls = ls)\n",
    "\n",
    "ax.set_xlabel('time [μs]')\n",
    "ax.set_ylabel('population')\n",
    "# ax.legend(fontsize = 14)\n",
    "set_fontsize(ax, 14)"
   ]
  },
  {
   "cell_type": "code",
   "execution_count": 25,
   "metadata": {},
   "outputs": [
    {
     "data": {
      "image/png": "[encoded data removed]",
      "text/plain": [
       "<Figure size 576x360 with 1 Axes>"
      ]
     },
     "metadata": {
      "needs_background": "light"
     },
     "output_type": "display_data"
    }
   ],
   "source": [
    "fig, ax = plt.subplots(figsize = (8,5))\n",
    "\n",
    "for idx, pop in enumerate(pop_results):\n",
    "    ls = '-'\n",
    "    if idx >= H_symbolic.shape[0] - len(excited_states):\n",
    "        s = QNcompact[idx].find_largest_component()\n",
    "        label = f'{s.electronic_state}, J={s.J}, F={s.F:.0f}, F1={s.F1}, mF={s.mF:+.0f}'\n",
    "        ax.plot(t_array*1e6, pop, lw = 2, label = label, ls = ls)\n",
    "#         ax.plot(t_array*1e6, pop, lw = 2, label = f\"ρ$_{{{idx},{idx}}}$\", ls = ls)\n",
    "\n",
    "ax.set_xlabel('time [μs]')\n",
    "ax.set_ylabel('population')\n",
    "ax.legend(fontsize = 14)\n",
    "set_fontsize(ax, 14)"
   ]
  },
  {
   "cell_type": "markdown",
   "metadata": {},
   "source": [
    "## Scan detuning"
   ]
  },
  {
   "cell_type": "code",
   "execution_count": 26,
   "metadata": {},
   "outputs": [
    {
     "name": "stdout",
     "output_type": "stream",
     "text": [
      "odeParameters(Ωl: 0.40, δl: 0.00, ωp: 1.00, ϕp: 0.00e+00, y0: 0.00e+00, vy: 0.00e+00, vz: 1.84e+02, μzlaser: 2.00e-02, σylaser: 5.00e-03, σzlaser: 5.00e-03, β: 3.80e+00, ωphase: 1.03)\n"
     ]
    }
   ],
   "source": [
    "odepars.Ωl = 0.4*Γ\n",
    "odepars.ωp = 1*Γ\n",
    "print(odepars.to_units_Γ(Γ))\n",
    "odepars.generate_p_julia()"
   ]
  },
  {
   "cell_type": "code",
   "execution_count": 27,
   "metadata": {},
   "outputs": [],
   "source": [
    "# ρ_ini = centrex.utils.generate_thermal_J(ground_Js, len(excited_states), T, normalized = True, \n",
    "#                                          slice_compact = slice_compact)\n",
    "ρ_ini = centrex.utils.generate_population_states(list(range(levels_J2)), H_symbolic.shape[0])\n",
    "Main.ρ_ini = ρ_ini\n",
    "Main.eval(\"@everywhere ρ_ini = $ρ_ini\")"
   ]
  },
  {
   "cell_type": "code",
   "execution_count": 28,
   "metadata": {},
   "outputs": [],
   "source": [
    "δls = np.linspace(-5,5,101)*Γ"
   ]
  },
  {
   "cell_type": "code",
   "execution_count": 29,
   "metadata": {},
   "outputs": [],
   "source": [
    "# generate the prob_func to remake the problem for each iteration\n",
    "centrex.lindblad.setup_parameter_scan_1D(odepars, 'δl', δls)"
   ]
  },
  {
   "cell_type": "code",
   "execution_count": 30,
   "metadata": {},
   "outputs": [],
   "source": [
    "# generate the output_func to transform the ode solution after integration\n",
    "n_excited = len(excited_states)\n",
    "n_states = H_symbolic.shape[0]\n",
    "centrex.lindblad.setup_state_integral_calculation(list(range(n_states-n_excited+1, n_states+1)))"
   ]
  },
  {
   "cell_type": "code",
   "execution_count": 31,
   "metadata": {},
   "outputs": [],
   "source": [
    "Main.eval(f\"\"\"\n",
    "tspan = (0.0, {8*odepars.σzlaser / odepars.vz})\n",
    "prob = ODEProblem(Lindblad_rhs!,ρ_ini,tspan,p)\n",
    "\"\"\");"
   ]
  },
  {
   "cell_type": "code",
   "execution_count": 32,
   "metadata": {},
   "outputs": [],
   "source": [
    "# setting up the EnsembleProblem with the earlier defined ODEProblem\n",
    "Main.eval(\"\"\"\n",
    "ens_prob = EnsembleProblem(prob, prob_func = prob_func, output_func = output_func);\n",
    "\"\"\");"
   ]
  },
  {
   "cell_type": "code",
   "execution_count": 33,
   "metadata": {},
   "outputs": [
    {
     "data": {
      "text/plain": [
       "86.4449292"
      ]
     },
     "execution_count": 33,
     "metadata": {},
     "output_type": "execute_result"
    }
   ],
   "source": [
    "Main.eval(\"\"\"\n",
    "@time sim = solve(ens_prob, Tsit5(), EnsembleDistributed(); trajectories = size(params)[1],\n",
    "            abstol = 1e-8, reltol = 1e-5)\n",
    "sim.elapsedTime\n",
    "\"\"\")"
   ]
  },
  {
   "cell_type": "code",
   "execution_count": 34,
   "metadata": {},
   "outputs": [
    {
     "data": {
      "image/png": "[encoded data removed]",
      "text/plain": [
       "<Figure size 576x360 with 1 Axes>"
      ]
     },
     "metadata": {
      "needs_background": "light"
     },
     "output_type": "display_data"
    }
   ],
   "source": [
    "fig, ax = plt.subplots(figsize = (8,5))\n",
    "ax.plot(Main.params/Main.Γ, np.asarray(Main.sim)*Γ, lw = 2)\n",
    "\n",
    "ax.set_xlabel('δl [Γ]')\n",
    "ax.set_ylabel('photons')\n",
    "\n",
    "set_fontsize(ax, 14)"
   ]
  },
  {
   "cell_type": "markdown",
   "metadata": {},
   "source": [
    "## Setup with values from RC simulation, with initial thermal population"
   ]
  },
  {
   "cell_type": "code",
   "execution_count": 115,
   "metadata": {},
   "outputs": [],
   "source": [
    "data_dir = Path('.').absolute().parent.parent.parent / 'with microwaves'\n",
    "fname = 'laser_mu1mu2_rc_pol_switching_on_apertures_phasemod_2020_10_28_2x_beamheight.npy'\n",
    "results_array = np.load(data_dir / fname)"
   ]
  },
  {
   "cell_type": "code",
   "execution_count": 116,
   "metadata": {},
   "outputs": [],
   "source": [
    "# laser power for RC\n",
    "m = results_array[:,0] == 10000000\n",
    "# μ1 power for RC\n",
    "m = m & (results_array[:,1] == 20000000)\n",
    "# μ2 power for RC\n",
    "m = m & (results_array[:,2] == 20000000)\n",
    "\n",
    "δls, vzs, vys, y0s = results_array[m][:,[3,4,5,6]].T"
   ]
  },
  {
   "cell_type": "markdown",
   "metadata": {},
   "source": [
    "38.39\" from cell opening to DET laser.\n",
    "Start simulation 1\" from the start of the laser, i.e. the molecules travel 37.39\"."
   ]
  },
  {
   "cell_type": "code",
   "execution_count": 117,
   "metadata": {},
   "outputs": [],
   "source": [
    "# new y0 positions 1\" in front of DET laser\n",
    "y0s_start = (37.39*25.4*1e-3)/vzs * vys + y0s"
   ]
  },
  {
   "cell_type": "code",
   "execution_count": 118,
   "metadata": {},
   "outputs": [],
   "source": [
    "params = np.stack([δls, y0s_start, vys, vzs])\n",
    "Main.params = params\n",
    "Main.eval(\"@everywhere params = $params\")"
   ]
  },
  {
   "cell_type": "code",
   "execution_count": 123,
   "metadata": {},
   "outputs": [],
   "source": [
    "_ρ = centrex.utils.generate_thermal_J([0,1,2,3], len(excited_states), T, normalized = True, \n",
    "                                         slice_compact = None)\n",
    " \n",
    "ρ_ini = np.zeros(H_symbolic.shape, dtype = complex)\n",
    "np.fill_diagonal(ρ_ini[:levels_J2, :levels_J2], np.diag(_ρ)[centrex.utils.J_slice(2)])\n",
    "\n",
    "Main.ρ_ini = ρ_ini\n",
    "Main.eval(\"@everywhere ρ_ini = $ρ_ini\")"
   ]
  },
  {
   "cell_type": "code",
   "execution_count": 40,
   "metadata": {},
   "outputs": [],
   "source": [
    "Main.eval(f\"\"\"\n",
    "tspan = (0.0, 300e-6)\n",
    "prob = ODEProblem(Lindblad_rhs!,ρ_ini,tspan,p)\n",
    "\"\"\");"
   ]
  },
  {
   "cell_type": "code",
   "execution_count": 41,
   "metadata": {},
   "outputs": [],
   "source": [
    "# terminate integration 1\" behind the detection laser\n",
    "Main.eval(\"\"\"\n",
    "@everywhere function affect!(integrator)\n",
    "    terminate!(integrator)\n",
    "end\n",
    "@everywhere condition(u,t,integrator) = integrator.p[7]*t > 50.8e-3\n",
    "cb = DiscreteCallback(condition, affect!)\n",
    "\"\"\");"
   ]
  },
  {
   "cell_type": "code",
   "execution_count": 42,
   "metadata": {},
   "outputs": [
    {
     "name": "stdout",
     "output_type": "stream",
     "text": [
      "odeParameters(Ωl: 0.50, δl: 0.00, ωp: 1.00, ϕp: 0.00e+00, y0: 0.00e+00, vy: 0.00e+00, vz: 1.84e+02, μzlaser: 2.00e-02, σylaser: 5.00e-03, σzlaser: 5.00e-03, β: 3.80e+00, ωphase: 1.03)\n"
     ]
    }
   ],
   "source": [
    "odepars.Ωl = 0.5*Γ\n",
    "odepars.ωl = 2*np.pi*1e6\n",
    "print(odepars.to_units_Γ(Γ))\n",
    "odepars.generate_p_julia()"
   ]
  },
  {
   "cell_type": "code",
   "execution_count": 43,
   "metadata": {},
   "outputs": [],
   "source": [
    "Main.eval(f\"\"\"\n",
    "@everywhere function prob_func_prerc(prob,i,repeat)\n",
    "    remake(prob,p=[{odepars.Ωl}, params[1,i], {odepars.ωp}, 0, params[2,i], params[3,i], \n",
    "                    params[4,i], {odepars.μzlaser}, {odepars.σylaser}, {odepars.σzlaser}, {odepars.β}, {odepars.ωphase}])\n",
    "end\n",
    "\"\"\")"
   ]
  },
  {
   "cell_type": "code",
   "execution_count": 44,
   "metadata": {},
   "outputs": [],
   "source": [
    "# setting up the EnsembleProblem with the earlier defined ODEProblem\n",
    "Main.eval(\"\"\"\n",
    "ens_prob_prerc = EnsembleProblem(prob, prob_func = prob_func_prerc, output_func = output_func);\n",
    "\"\"\");"
   ]
  },
  {
   "cell_type": "code",
   "execution_count": 45,
   "metadata": {},
   "outputs": [
    {
     "data": {
      "text/plain": [
       "513.288879"
      ]
     },
     "execution_count": 45,
     "metadata": {},
     "output_type": "execute_result"
    }
   ],
   "source": [
    "Main.eval(\"\"\"\n",
    "@time sim = solve(ens_prob_prerc, Tsit5(), EnsembleDistributed(); trajectories = size(params)[2],\n",
    "            abstol = 1e-8, reltol = 1e-5, save_everystep = true, callback = cb)\n",
    "sim.elapsedTime\n",
    "\"\"\")"
   ]
  },
  {
   "cell_type": "code",
   "execution_count": 46,
   "metadata": {},
   "outputs": [],
   "source": [
    "results = np.array(Main.eval(\"sim.u\"))*Γ"
   ]
  },
  {
   "cell_type": "code",
   "execution_count": 47,
   "metadata": {},
   "outputs": [
    {
     "data": {
      "image/png": "[encoded data removed]",
      "text/plain": [
       "<Figure size 576x432 with 2 Axes>"
      ]
     },
     "metadata": {
      "needs_background": "light"
     },
     "output_type": "display_data"
    }
   ],
   "source": [
    "xbins = np.linspace(-13, 13, 27)\n",
    "ybins = np.linspace(110, 260, 16)\n",
    "\n",
    "from scipy.stats import norm, binned_statistic_2d\n",
    "\n",
    "x = params[0,:]/Γ * 1.6\n",
    "y = params[3,:]\n",
    "z = results\n",
    "stat, x_edge, y_edge, bin_number = binned_statistic_2d(x,y,values = z, statistic = 'mean', bins = [xbins, ybins])\n",
    "X, Y = np.meshgrid(x_edge,y_edge)\n",
    "            \n",
    "fig, ax = plt.subplots(figsize = (8,6))\n",
    "cs = ax.pcolormesh(X, Y, stat.T)\n",
    "\n",
    "cbar = fig.colorbar(cs)\n",
    "\n",
    "\n",
    "ax.set_xlabel('δl [MHz]')\n",
    "ax.set_ylabel(r'vz [m/s]')\n",
    "cbar.ax.set_ylabel('photons')\n",
    "set_fontsize(ax, 14)\n",
    "set_fontsize(cbar.ax, 14)"
   ]
  },
  {
   "cell_type": "markdown",
   "metadata": {},
   "source": [
    "## Setup with values from RC simulation, with post-RC population"
   ]
  },
  {
   "cell_type": "code",
   "execution_count": 50,
   "metadata": {},
   "outputs": [],
   "source": [
    "ρrc = []\n",
    "for pop in results_array[m][:,-67:][:,16:36]:\n",
    "    _ρ = np.zeros(ρ_ini.shape, dtype = ρ_ini.dtype)\n",
    "    np.fill_diagonal(_ρ[:levels_J2, :levels_J2], pop)\n",
    "    ρrc.append(_ρ)"
   ]
  },
  {
   "cell_type": "markdown",
   "metadata": {},
   "source": [
    "38.39\" from cell opening to DET laser.\n",
    "Start simulation 1\" from the start of the laser, i.e. the molecules travel 37.39\"."
   ]
  },
  {
   "cell_type": "code",
   "execution_count": 51,
   "metadata": {},
   "outputs": [],
   "source": [
    "# new y0 positions 1\" in front of DET laser\n",
    "y0s_start = (37.39*25.4*1e-3)/vzs * vys + y0s"
   ]
  },
  {
   "cell_type": "code",
   "execution_count": 52,
   "metadata": {},
   "outputs": [],
   "source": [
    "params = np.stack([δls, y0s_start, vys, vzs])\n",
    "Main.params = params\n",
    "Main.eval(\"@everywhere params = $params\")\n",
    "Main.ρrc = ρrc\n",
    "Main.eval(\"@everywhere ρrc = $ρrc\")"
   ]
  },
  {
   "cell_type": "code",
   "execution_count": 53,
   "metadata": {},
   "outputs": [],
   "source": [
    "Main.eval(f\"\"\"\n",
    "tspan = (0.0, 300e-6)\n",
    "prob = ODEProblem(Lindblad_rhs!,ρ_ini,tspan,p)\n",
    "\"\"\");"
   ]
  },
  {
   "cell_type": "code",
   "execution_count": 54,
   "metadata": {},
   "outputs": [
    {
     "name": "stdout",
     "output_type": "stream",
     "text": [
      "odeParameters(Ωl: 0.50, δl: 0.00, ωp: 1.00, ϕp: 0.00e+00, y0: 0.00e+00, vy: 0.00e+00, vz: 1.84e+02, μzlaser: 2.00e-02, σylaser: 5.00e-03, σzlaser: 5.00e-03, β: 3.80e+00, ωphase: 1.03)\n"
     ]
    }
   ],
   "source": [
    "odepars.Ωl = 0.5*Γ\n",
    "odepars.ωl = 2*np.pi*1e6\n",
    "print(odepars.to_units_Γ(Γ))\n",
    "odepars.generate_p_julia()"
   ]
  },
  {
   "cell_type": "code",
   "execution_count": 55,
   "metadata": {},
   "outputs": [],
   "source": [
    "Main.eval(f\"\"\"\n",
    "@everywhere function prob_func_postrc(prob,i,repeat)\n",
    "    remake(prob,p=[{odepars.Ωl}, params[1,i], {odepars.ωp}, 0, params[2,i], params[3,i], \n",
    "                    params[4,i], {odepars.μzlaser}, {odepars.σylaser}, {odepars.σzlaser}, {odepars.β}, {odepars.ωphase}], u0 = ρrc[i])\n",
    "end\n",
    "\"\"\")"
   ]
  },
  {
   "cell_type": "code",
   "execution_count": 56,
   "metadata": {},
   "outputs": [],
   "source": [
    "# setting up the EnsembleProblem with the earlier defined ODEProblem\n",
    "Main.eval(\"\"\"\n",
    "ens_prob_postrc = EnsembleProblem(prob, prob_func = prob_func_postrc, output_func = output_func);\n",
    "\"\"\");"
   ]
  },
  {
   "cell_type": "code",
   "execution_count": 57,
   "metadata": {},
   "outputs": [
    {
     "data": {
      "text/plain": [
       "657.4589541"
      ]
     },
     "execution_count": 57,
     "metadata": {},
     "output_type": "execute_result"
    }
   ],
   "source": [
    "Main.eval(\"\"\"\n",
    "@time sim = solve(ens_prob_postrc, Tsit5(), EnsembleDistributed(); trajectories = size(params)[2],\n",
    "            abstol = 1e-8, reltol = 1e-5, save_everystep = true, callback = cb)\n",
    "sim.elapsedTime\n",
    "\"\"\")"
   ]
  },
  {
   "cell_type": "code",
   "execution_count": 58,
   "metadata": {},
   "outputs": [],
   "source": [
    "results_RC = np.array(Main.eval(\"sim.u\"))*Γ"
   ]
  },
  {
   "cell_type": "code",
   "execution_count": 59,
   "metadata": {},
   "outputs": [
    {
     "data": {
      "image/png": "[encoded data removed]",
      "text/plain": [
       "<Figure size 576x432 with 2 Axes>"
      ]
     },
     "metadata": {
      "needs_background": "light"
     },
     "output_type": "display_data"
    }
   ],
   "source": [
    "xbins = np.linspace(-13, 13, 27)\n",
    "ybins = np.linspace(110, 260, 16)\n",
    "\n",
    "from scipy.stats import norm, binned_statistic_2d\n",
    "\n",
    "x = params[0,:]/Γ * 1.6\n",
    "y = params[3,:]\n",
    "z = results_RC\n",
    "stat, x_edge, y_edge, bin_number = binned_statistic_2d(x,y,values = z, statistic = 'mean', bins = [xbins, ybins])\n",
    "X, Y = np.meshgrid(x_edge,y_edge)\n",
    "            \n",
    "fig, ax = plt.subplots(figsize = (8,6))\n",
    "cs = ax.pcolormesh(X, Y, stat.T)\n",
    "\n",
    "cbar = fig.colorbar(cs)\n",
    "\n",
    "\n",
    "ax.set_xlabel('δl [MHz]')\n",
    "ax.set_ylabel(r'vz [m/s]')\n",
    "cbar.ax.set_ylabel('photons')\n",
    "set_fontsize(ax, 14)\n",
    "set_fontsize(cbar.ax, 14)"
   ]
  },
  {
   "cell_type": "code",
   "execution_count": 69,
   "metadata": {},
   "outputs": [
    {
     "data": {
      "text/plain": [
       "array([ 2.53822993e-04, -4.41430293e-06,  1.78264114e-04])"
      ]
     },
     "execution_count": 69,
     "metadata": {},
     "output_type": "execute_result"
    }
   ],
   "source": [
    "results[np.where(z < 0)[0]]"
   ]
  },
  {
   "cell_type": "code",
   "execution_count": 72,
   "metadata": {},
   "outputs": [
    {
     "data": {
      "text/plain": [
       "array([-4.00843796e-05,  9.64608575e-05, -1.26885515e-05])"
      ]
     },
     "execution_count": 72,
     "metadata": {},
     "output_type": "execute_result"
    }
   ],
   "source": [
    "results_RC[np.where(z < 0)[0]]"
   ]
  },
  {
   "cell_type": "code",
   "execution_count": 76,
   "metadata": {},
   "outputs": [
    {
     "data": {
      "image/png": "[encoded data removed]",
      "text/plain": [
       "<Figure size 576x432 with 2 Axes>"
      ]
     },
     "metadata": {
      "needs_background": "light"
     },
     "output_type": "display_data"
    }
   ],
   "source": [
    "xbins = np.linspace(-13, 13, 27)\n",
    "ybins = np.linspace(110, 260, 16)\n",
    "\n",
    "from scipy.stats import norm, binned_statistic_2d\n",
    "\n",
    "x = params[0,:]/Γ * 1.6\n",
    "y = params[3,:]\n",
    "z = results_RC/results\n",
    "z[z < 0] = np.nan\n",
    "stat, x_edge, y_edge, bin_number = binned_statistic_2d(x,y,values = z, statistic = 'mean', bins = [xbins, ybins])\n",
    "X, Y = np.meshgrid(x_edge,y_edge)\n",
    "            \n",
    "fig, ax = plt.subplots(figsize = (8,6))\n",
    "cs = ax.pcolormesh(X, Y, stat.T)\n",
    "\n",
    "cbar = fig.colorbar(cs)\n",
    "\n",
    "\n",
    "ax.set_xlabel('δl [MHz]')\n",
    "ax.set_ylabel(r'vz [m/s]')\n",
    "cbar.ax.set_ylabel('ratio')\n",
    "set_fontsize(ax, 14)\n",
    "set_fontsize(cbar.ax, 14)"
   ]
  },
  {
   "cell_type": "code",
   "execution_count": 77,
   "metadata": {},
   "outputs": [
    {
     "name": "stdout",
     "output_type": "stream",
     "text": [
      "ratio measured : 0.33\n",
      "ratio real : 0.33\n",
      "measured / real : 1.00\n"
     ]
    }
   ],
   "source": [
    "# apparent ratio\n",
    "ratio_measured = results_RC.mean()/results.mean()\n",
    "ratio_real = results_array[m][:,-67:][:,29:36].sum(axis = 1).mean()/ρ_ini[13:20].sum().real\n",
    "print(f\"ratio measured : {ratio_measured:.2f}\")\n",
    "print(f\"ratio real : {ratio_real:.2f}\") \n",
    "print(f\"measured / real : {ratio_measured/ratio_real:.2f}\")"
   ]
  },
  {
   "cell_type": "code",
   "execution_count": 88,
   "metadata": {},
   "outputs": [
    {
     "name": "stdout",
     "output_type": "stream",
     "text": [
      "ratio measured : 0.33\n",
      "ratio real : 0.29\n",
      "measured / real : 1.16\n"
     ]
    }
   ],
   "source": [
    "# apparent ratio if applied to entire J sublevel\n",
    "ratio_measured = results_RC.mean()/results.mean()\n",
    "ratio_real = results_array[m][:,-67:][:,16:36].sum(axis = 1).mean()/ρ_ini.trace().real\n",
    "print(f\"ratio measured : {ratio_measured:.2f}\")\n",
    "print(f\"ratio real : {ratio_real:.2f}\") \n",
    "print(f\"measured / real : {ratio_measured/ratio_real:.2f}\")"
   ]
  },
  {
   "cell_type": "markdown",
   "metadata": {},
   "source": [
    "## Scan Rabi rate"
   ]
  },
  {
   "cell_type": "code",
   "execution_count": 89,
   "metadata": {},
   "outputs": [],
   "source": [
    "Ωls = centrex.utils.calculate_rabi_from_power_gaussian_beam(np.linspace(0,200e-3,15), \n",
    "                                                            np.abs(couplings[0]['main coupling'].real),\n",
    "                                                            σx = 1e-2/2, σy = 1e-2/2)"
   ]
  },
  {
   "cell_type": "code",
   "execution_count": 90,
   "metadata": {},
   "outputs": [
    {
     "name": "stderr",
     "output_type": "stream",
     "text": [
      "100%|██████████████████████████████████████████████████████████████████████████████| 15/15 [5:32:22<00:00, 1329.52s/it]\n"
     ]
    }
   ],
   "source": [
    "results_rc = []\n",
    "results = []\n",
    "for Ωl in tqdm(Ωls):    \n",
    "    Main.eval(f\"\"\"\n",
    "    @everywhere function prob_func_postrc(prob,i,repeat)\n",
    "        remake(prob,p=[{Ωl}, params[1,i], {odepars.ωp}, 0, params[2,i], params[3,i], \n",
    "                        params[4,i], {odepars.μzlaser}, {odepars.σylaser}, {odepars.σzlaser}, \n",
    "                        {odepars.β}, {odepars.ωphase}], u0 = ρrc[i])\n",
    "    end\n",
    "    \"\"\");\n",
    "    \n",
    "    Main.eval(f\"\"\"\n",
    "    @everywhere function prob_func_prerc(prob,i,repeat)\n",
    "        remake(prob,p=[{Ωl}, params[1,i], {odepars.ωp}, 0, params[2,i], params[3,i], \n",
    "                        params[4,i], {odepars.μzlaser}, {odepars.σylaser}, {odepars.σzlaser}, \n",
    "                        {odepars.β}, {odepars.ωphase}])\n",
    "    end\n",
    "    \"\"\");\n",
    "    \n",
    "    # setting up the EnsembleProblem with the earlier defined ODEProblem\n",
    "    Main.eval(\"\"\"\n",
    "    ens_prob_postrc = EnsembleProblem(prob, prob_func = prob_func_postrc, output_func = output_func);\n",
    "    ens_prob_prerc  = EnsembleProblem(prob, prob_func = prob_func_prerc, output_func = output_func);\n",
    "    \"\"\");\n",
    "    Main.eval(\"\"\"\n",
    "    @time sim = solve(ens_prob_prerc, Tsit5(), EnsembleDistributed(); trajectories = size(params)[2],\n",
    "            abstol = 1e-8, reltol = 1e-5, save_everystep = true, callback = cb)\n",
    "    \"\"\");\n",
    "    pre_RC = np.array(Main.eval(\"sim.u\"))*Γ\n",
    "    Main.eval(\"\"\"\n",
    "    @time sim = solve(ens_prob_postrc, Tsit5(), EnsembleDistributed(); trajectories = size(params)[2],\n",
    "            abstol = 1e-8, reltol = 1e-5, save_everystep = true, callback = cb)\n",
    "    \"\"\");\n",
    "    post_RC = np.array(Main.eval(\"sim.u\"))*Γ\n",
    "    results_rc.append(post_RC.mean())\n",
    "    results.append(pre_RC.mean())"
   ]
  },
  {
   "cell_type": "code",
   "execution_count": 91,
   "metadata": {},
   "outputs": [
    {
     "name": "stderr",
     "output_type": "stream",
     "text": [
      "<ipython-input-91-6cd4632bebaf>:7: RuntimeWarning: invalid value encountered in true_divide\n",
      "  ax.plot(Ωls/Γ, results_rc/results, '.', ms = 12)\n"
     ]
    },
    {
     "data": {
      "image/png": "[encoded data removed]",
      "text/plain": [
       "<Figure size 576x360 with 1 Axes>"
      ]
     },
     "metadata": {
      "needs_background": "light"
     },
     "output_type": "display_data"
    }
   ],
   "source": [
    "ratio_real = results_array[m][:,-67:][:,29:36].sum(axis = 1).mean()/ρ_ini[13:20].sum().real\n",
    "\n",
    "results_rc = np.asarray(results_rc)\n",
    "results = np.asarray(results)\n",
    "fig, ax = plt.subplots(figsize = (8,5))\n",
    "\n",
    "ax.plot(Ωls/Γ, results_rc/results, '.', ms = 12)\n",
    "ax.axhline(ratio_real, color = 'k')\n",
    "\n",
    "ax.set_xlabel('Ω [Γ]')\n",
    "ax.set_ylabel(\"measured gain\")\n",
    "\n",
    "ax.grid(True)\n",
    "\n",
    "set_fontsize(ax, 14)"
   ]
  },
  {
   "cell_type": "code",
   "execution_count": 109,
   "metadata": {},
   "outputs": [
    {
     "name": "stderr",
     "output_type": "stream",
     "text": [
      "<ipython-input-109-21a6d5b6b467>:7: RuntimeWarning: invalid value encountered in true_divide\n",
      "  ax.plot(Ωls/Γ, results_rc/results, '.', ms = 12)\n"
     ]
    },
    {
     "data": {
      "image/png": "[encoded data removed]",
      "text/plain": [
       "<Figure size 576x360 with 1 Axes>"
      ]
     },
     "metadata": {
      "needs_background": "light"
     },
     "output_type": "display_data"
    }
   ],
   "source": [
    "ratio_real = results_array[m][:,-67:][:,centrex.utils.J_slice(2)].sum(axis = 1).mean()/ρ_ini.trace().real\n",
    "\n",
    "results_rc = np.asarray(results_rc)\n",
    "results = np.asarray(results)\n",
    "fig, ax = plt.subplots(figsize = (8,5))\n",
    "\n",
    "ax.plot(Ωls/Γ, results_rc/results, '.', ms = 12)\n",
    "ax.axhline(ratio_real, color = 'k')\n",
    "\n",
    "ax.set_xlabel('Ω [Γ]')\n",
    "ax.set_ylabel(\"measured gain\")\n",
    "\n",
    "ax.grid(True)\n",
    "\n",
    "set_fontsize(ax, 14)"
   ]
  },
  {
   "cell_type": "code",
   "execution_count": 128,
   "metadata": {},
   "outputs": [
    {
     "name": "stdout",
     "output_type": "stream",
     "text": [
      "J=1 ratio : 0.30\n",
      "J=2 ratio : 0.34\n",
      "J=3 ratio : 0.48\n"
     ]
    }
   ],
   "source": [
    "ρ_prerc = centrex.utils.generate_thermal_J([0,1,2,3], 0, 6.3)\n",
    "\n",
    "J1_ratio = results_array[m][:,-67:][:,centrex.utils.J_slice(1)].sum(axis = 1).mean() \\\n",
    "/ np.diag(ρ_prerc.real)[centrex.utils.J_slice(1)].sum()\n",
    "\n",
    "J2_ratio = results_array[m][:,-67:][:,centrex.utils.J_slice(2)].sum(axis = 1).mean() \\\n",
    "/ np.diag(ρ_prerc.real)[centrex.utils.J_slice(2)].sum()\n",
    "\n",
    "J3_ratio = results_array[m][:,-67:][:,centrex.utils.J_slice(3)].sum(axis = 1).mean() \\\n",
    "/ np.diag(ρ_prerc.real)[centrex.utils.J_slice(3)].sum()\n",
    "\n",
    "print(f\"J=1 ratio : {J1_ratio:.2f}\")\n",
    "print(f\"J=2 ratio : {J2_ratio:.2f}\")\n",
    "print(f\"J=3 ratio : {J3_ratio:.2f}\")"
   ]
  },
  {
   "cell_type": "code",
   "execution_count": null,
   "metadata": {},
   "outputs": [],
   "source": []
  }
 ],
 "metadata": {
  "kernelspec": {
   "display_name": "Python 3",
   "language": "python",
   "name": "python3"
  },
  "language_info": {
   "codemirror_mode": {
    "name": "ipython",
    "version": 3
   },
   "file_extension": ".py",
   "mimetype": "text/x-python",
   "name": "python",
   "nbconvert_exporter": "python",
   "pygments_lexer": "ipython3",
   "version": "3.8.5"
  }
 },
 "nbformat": 4,
 "nbformat_minor": 4
}
