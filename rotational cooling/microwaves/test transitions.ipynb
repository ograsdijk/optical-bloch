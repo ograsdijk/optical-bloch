{
 "cells": [
  {
   "cell_type": "code",
   "execution_count": 1,
   "metadata": {},
   "outputs": [],
   "source": [
    "%load_ext autoreload\n",
    "%autoreload 2\n",
    "\n",
    "import numpy as np\n",
    "from tqdm import tqdm\n",
    "from sympy import Symbol\n",
    "import centrex_TlF as centrex\n",
    "import matplotlib.pyplot as plt\n",
    "import sys\n",
    "sys.path.append(\"../..\")\n",
    "from utils.plot_utils import set_fontsize"
   ]
  },
  {
   "cell_type": "code",
   "execution_count": 37,
   "metadata": {},
   "outputs": [],
   "source": [
    "QN_X = centrex.states.generate_coupled_states_ground([0,1,2])\n",
    "QN_B = centrex.states.generate_coupled_states_excited([1,2,3,4], Ps = [1,-1])"
   ]
  },
  {
   "cell_type": "code",
   "execution_count": 38,
   "metadata": {},
   "outputs": [
    {
     "data": {
      "text/plain": [
       "CacheInfo(hits=1, misses=3, maxsize=1000000, currsize=3)"
      ]
     },
     "execution_count": 38,
     "metadata": {},
     "output_type": "execute_result"
    }
   ],
   "source": [
    "centrex.hamiltonian.utils.threej_f.cache_info()"
   ]
  },
  {
   "cell_type": "code",
   "execution_count": 39,
   "metadata": {},
   "outputs": [
    {
     "data": {
      "text/plain": [
       "CacheInfo(hits=508032, misses=592, maxsize=1000000, currsize=592)"
      ]
     },
     "execution_count": 39,
     "metadata": {},
     "output_type": "execute_result"
    }
   ],
   "source": [
    "centrex.states.utils.CGc.cache_info()"
   ]
  },
  {
   "cell_type": "code",
   "execution_count": 40,
   "metadata": {},
   "outputs": [
    {
     "name": "stdout",
     "output_type": "stream",
     "text": [
      "Wall time: 20.9 s\n"
     ]
    }
   ],
   "source": [
    "%%time\n",
    "QN, H = centrex.transitions.calculate_energies(QN_X, QN_B)"
   ]
  },
  {
   "cell_type": "code",
   "execution_count": 41,
   "metadata": {},
   "outputs": [
    {
     "data": {
      "text/plain": [
       "CacheInfo(hits=866800, misses=592, maxsize=1000000, currsize=592)"
      ]
     },
     "execution_count": 41,
     "metadata": {},
     "output_type": "execute_result"
    }
   ],
   "source": [
    "centrex.states.utils.CGc.cache_info()"
   ]
  },
  {
   "cell_type": "code",
   "execution_count": 42,
   "metadata": {},
   "outputs": [
    {
     "data": {
      "text/plain": [
       "CacheInfo(hits=1, misses=3, maxsize=1000000, currsize=3)"
      ]
     },
     "execution_count": 42,
     "metadata": {},
     "output_type": "execute_result"
    }
   ],
   "source": [
    "centrex.hamiltonian.utils.threej_f.cache_info()"
   ]
  },
  {
   "cell_type": "code",
   "execution_count": 67,
   "metadata": {},
   "outputs": [
    {
     "name": "stdout",
     "output_type": "stream",
     "text": [
      "freq = 275851.99 GHz\n"
     ]
    }
   ],
   "source": [
    "R0_X = 1*centrex.CoupledBasisState(J=0, F1 = 1/2, F = 1, mF = 0, \n",
    "                        I1 =1/2, I2 = 1/2, electronic_state='X', P = +1, Omega = 0)\n",
    "R0_B = 1*centrex.CoupledBasisState(J=1, F1 = 3/2, F = 2, mF = 0, I1 =1/2, \n",
    "                            I2 = 1/2, electronic_state='B', P = -1, Omega = 1)\n",
    "freq = centrex.transitions.calculate_transition_frequency(R0_X, R0_B, H, QN)\n",
    "\n",
    "print(f'freq = {freq/(4e9):.2f} GHz')"
   ]
  },
  {
   "cell_type": "code",
   "execution_count": 68,
   "metadata": {},
   "outputs": [
    {
     "name": "stdout",
     "output_type": "stream",
     "text": [
      "freq = 275855.38134 GHz\n"
     ]
    }
   ],
   "source": [
    "R1_X = 1*centrex.CoupledBasisState(J=1, F1 = 3/2, F = 2, mF = 0, I1 =1/2, I2 = 1/2, electronic_state='X', P = -1, Omega = 0)\n",
    "R1_B = 1*centrex.CoupledBasisState(J=2, F1 = 5/2, F = 3, mF = 0, I1 =1/2, I2 = 1/2, electronic_state='B', P = +1, Omega = 1)\n",
    "\n",
    "freq = centrex.transitions.calculate_transition_frequency(R1_X, R1_B, H, QN)\n",
    "\n",
    "print(f'freq = {freq/(4e9):.5f} GHz')"
   ]
  },
  {
   "cell_type": "code",
   "execution_count": 69,
   "metadata": {},
   "outputs": [
    {
     "name": "stdout",
     "output_type": "stream",
     "text": [
      "freq = 275851.99 GHz\n",
      "Wall time: 185 ms\n"
     ]
    }
   ],
   "source": [
    "%%time\n",
    "R0_X = 1*centrex.CoupledBasisState(J=0, F1 = 1/2, F = 1, mF = 0, \n",
    "                        I1 =1/2, I2 = 1/2, electronic_state='X', P = +1, Omega = 0)\n",
    "R0_B = 1*centrex.CoupledBasisState(J=1, F1 = 3/2, F = 2, mF = 0, I1 =1/2, \n",
    "                            I2 = 1/2, electronic_state='B', P = -1, Omega = 1)\n",
    "freq = centrex.transitions.generate_transition_frequency(R0_X, R0_B)\n",
    "\n",
    "print(f'freq = {freq/(4e9):.2f} GHz')"
   ]
  },
  {
   "cell_type": "code",
   "execution_count": 70,
   "metadata": {},
   "outputs": [
    {
     "name": "stdout",
     "output_type": "stream",
     "text": [
      "freq = 275855.38134 GHz\n"
     ]
    }
   ],
   "source": [
    "R1_X = 1*centrex.CoupledBasisState(J=1, F1 = 3/2, F = 2, mF = 0, I1 =1/2, I2 = 1/2, electronic_state='X', P = -1, Omega = 0)\n",
    "R1_B = 1*centrex.CoupledBasisState(J=2, F1 = 5/2, F = 3, mF = 0, I1 =1/2, I2 = 1/2, electronic_state='B', P = +1, Omega = 1)\n",
    "\n",
    "freq = centrex.transitions.generate_transition_frequency(R1_X, R1_B)\n",
    "\n",
    "print(f'freq = {freq/(4e9):.5f} GHz')"
   ]
  },
  {
   "cell_type": "code",
   "execution_count": 71,
   "metadata": {},
   "outputs": [
    {
     "name": "stderr",
     "output_type": "stream",
     "text": [
      "100%|██████████████████████████████████████████████████████████████████████████████████| 5/5 [00:00<00:00, 5015.91it/s]\n",
      "100%|██████████████████████████████████████████████████████████████████████████████████| 5/5 [00:00<00:00, 5021.92it/s]\n"
     ]
    }
   ],
   "source": [
    "Js = [1,2,3,4,5]\n",
    "I1 = 1/2\n",
    "I2 = 1/2\n",
    "#Generate all excited states\n",
    "B_states = []\n",
    "for J in tqdm(Js):\n",
    "    for F1 in np.arange(J-I1, J+I1+1):\n",
    "        for F in np.arange(F1-I1, F1+I1+1):\n",
    "            state = 1*centrex.CoupledBasisState(J=J, F1 = F1, F = F, mF = 0, I1 =I1, I2 = I2, electronic_state='B', \n",
    "                                        P = (-1)**(J+1), Omega = 1)\n",
    "            B_states.append(state)\n",
    "\n",
    "#Generate ground states(only one for each J since they are almost degenerate)\n",
    "X_states = []\n",
    "for J in tqdm(Js):\n",
    "    F1 = J+1/2\n",
    "    F = J\n",
    "    state = 1*centrex.CoupledBasisState(J=J, F1 = F1, F = F, mF = 0, I1 =I1, I2 = I2, electronic_state='X', \n",
    "                                P = (-1)**J, Omega = 0)\n",
    "    X_states.append(state)"
   ]
  },
  {
   "cell_type": "code",
   "execution_count": 72,
   "metadata": {},
   "outputs": [
    {
     "name": "stdout",
     "output_type": "stream",
     "text": [
      "**********\n",
      "Frequency for Q1 F1' = 0.5, F' = 0.0 is f = 275845.0569554738  GHz\n",
      "Frequency for Q1 F1' = 0.5, F' = 1.0 is f = 275845.1978750253  GHz\n",
      "Frequency for Q1 F1' = 1.5, F' = 1.0 is f = 275848.5815390877  GHz\n",
      "Frequency for Q1 F1' = 1.5, F' = 2.0 is f = 275848.66081384313  GHz\n",
      "**********\n",
      "Frequency for Q2 F1' = 1.5, F' = 1.0 is f = 275848.8268764944  GHz\n",
      "Frequency for Q2 F1' = 1.5, F' = 2.0 is f = 275848.9723437773  GHz\n",
      "Frequency for Q2 F1' = 2.5, F' = 2.0 is f = 275848.6601503365  GHz\n",
      "Frequency for Q2 F1' = 2.5, F' = 3.0 is f = 275848.71752872004  GHz\n",
      "**********\n",
      "Frequency for Q3 F1' = 2.5, F' = 2.0 is f = 275848.8534321063  GHz\n",
      "Frequency for Q3 F1' = 2.5, F' = 3.0 is f = 275848.93954292947  GHz\n",
      "Frequency for Q3 F1' = 3.5, F' = 3.0 is f = 275848.7189256944  GHz\n",
      "Frequency for Q3 F1' = 3.5, F' = 4.0 is f = 275848.7639436567  GHz\n",
      "**********\n",
      "Frequency for Q4 F1' = 3.5, F' = 3.0 is f = 275848.8854332833  GHz\n",
      "Frequency for Q4 F1' = 3.5, F' = 4.0 is f = 275848.9465009204  GHz\n",
      "Frequency for Q4 F1' = 4.5, F' = 4.0 is f = 275848.77498447505  GHz\n",
      "Frequency for Q4 F1' = 4.5, F' = 5.0 is f = 275848.812022948  GHz\n",
      "Wall time: 2.45 s\n"
     ]
    }
   ],
   "source": [
    "%%time\n",
    "#Calculate transition frequencies for each J for X and each hyperfine state for B\n",
    "Q_transitions = []\n",
    "Q_frequencies = []\n",
    "Js = [1,2,3,4]\n",
    "\n",
    "states = []\n",
    "\n",
    "for J in Js:\n",
    "    print(10*'*')\n",
    "    #Determine X-state\n",
    "    F1_X = J+1/2\n",
    "    F_X = J\n",
    "    X_state = 1*centrex.CoupledBasisState(J=J, F1 = F1_X, F = F_X, mF = 0, I1 =I1, I2 = I2, electronic_state='X', \n",
    "                                P = (-1)**J, Omega = 0)\n",
    "    \n",
    "    #Determine B-states\n",
    "    for F1 in np.arange(J-I1, J+I1+1):\n",
    "        for F in np.arange(F1-I1, F1+I1+1):\n",
    "            B_state = 1*centrex.CoupledBasisState(J=J, F1 = F1, F = F, mF = 0, I1 = I1, I2 = I2, electronic_state='B', \n",
    "                                        P = (-1)**(J+1), Omega = 1)\n",
    "            \n",
    "            #Calculate transition frequency\n",
    "#             print(X_state.__hash__(), B_state.__hash__())\n",
    "            frq = centrex.transitions.generate_transition_frequency(X_state, B_state)/(4e9) #In GHz at IR\n",
    "            \n",
    "            #Print\n",
    "            print(f\"Frequency for Q{J} F1' = {F1}, F' = {F} is f = {frq}  GHz\")\n",
    "            Q_transitions.append(f\"Q{J} F1' = {F1}, F' = {F}\")\n",
    "            Q_frequencies.append(frq)\n",
    "            states.append([X_state, B_state])"
   ]
  },
  {
   "cell_type": "code",
   "execution_count": 73,
   "metadata": {},
   "outputs": [
    {
     "name": "stdout",
     "output_type": "stream",
     "text": [
      "**********\n",
      "|X, J = 0, F₁ = 1/2, F = 0, mF = 0, I₁ = 1/2, I₂ = 1/2, P = +, Ω = 0>\n",
      "|B, J = 1, F₁ = 1/2, F = 0, mF = 0, I₁ = 1/2, I₂ = 1/2, P = -, Ω = 1>\n",
      "Frequency for R0 F1' = 0.5, F' = 0.0 is f = 275848.39463601663  GHz\n",
      "|X, J = 0, F₁ = 1/2, F = 0, mF = 0, I₁ = 1/2, I₂ = 1/2, P = +, Ω = 0>\n",
      "|B, J = 1, F₁ = 1/2, F = 1, mF = 0, I₁ = 1/2, I₂ = 1/2, P = -, Ω = 1>\n",
      "Frequency for R0 F1' = 0.5, F' = 1.0 is f = 275848.5355484006  GHz\n",
      "|X, J = 0, F₁ = 1/2, F = 0, mF = 0, I₁ = 1/2, I₂ = 1/2, P = +, Ω = 0>\n",
      "|B, J = 1, F₁ = 3/2, F = 1, mF = 0, I₁ = 1/2, I₂ = 1/2, P = -, Ω = 1>\n",
      "Frequency for R0 F1' = 1.5, F' = 1.0 is f = 275851.91078944906  GHz\n",
      "|X, J = 0, F₁ = 1/2, F = 0, mF = 0, I₁ = 1/2, I₂ = 1/2, P = +, Ω = 0>\n",
      "|B, J = 1, F₁ = 3/2, F = 2, mF = 0, I₁ = 1/2, I₂ = 1/2, P = -, Ω = 1>\n",
      "Frequency for R0 F1' = 1.5, F' = 2.0 is f = 275851.98999667517  GHz\n",
      "**********\n",
      "|X, J = 1, F₁ = 3/2, F = 1, mF = 0, I₁ = 1/2, I₂ = 1/2, P = -, Ω = 0>\n",
      "|B, J = 2, F₁ = 3/2, F = 1, mF = 0, I₁ = 1/2, I₂ = 1/2, P = +, Ω = 1>\n",
      "Frequency for R1 F1' = 1.5, F' = 1.0 is f = 275855.49779485265  GHz\n",
      "|X, J = 1, F₁ = 3/2, F = 1, mF = 0, I₁ = 1/2, I₂ = 1/2, P = -, Ω = 0>\n",
      "|B, J = 2, F₁ = 3/2, F = 2, mF = 0, I₁ = 1/2, I₂ = 1/2, P = +, Ω = 1>\n",
      "Frequency for R1 F1' = 1.5, F' = 2.0 is f = 275855.64319722506  GHz\n",
      "|X, J = 1, F₁ = 3/2, F = 1, mF = 0, I₁ = 1/2, I₂ = 1/2, P = -, Ω = 0>\n",
      "|B, J = 2, F₁ = 5/2, F = 2, mF = 0, I₁ = 1/2, I₂ = 1/2, P = +, Ω = 1>\n",
      "Frequency for R1 F1' = 2.5, F' = 2.0 is f = 275855.32401765493  GHz\n",
      "|X, J = 1, F₁ = 3/2, F = 1, mF = 0, I₁ = 1/2, I₂ = 1/2, P = -, Ω = 0>\n",
      "|B, J = 2, F₁ = 5/2, F = 3, mF = 0, I₁ = 1/2, I₂ = 1/2, P = +, Ω = 1>\n",
      "Frequency for R1 F1' = 2.5, F' = 3.0 is f = 275855.38134283025  GHz\n",
      "**********\n",
      "|X, J = 2, F₁ = 5/2, F = 2, mF = 0, I₁ = 1/2, I₂ = 1/2, P = +, Ω = 0>\n",
      "|B, J = 3, F₁ = 5/2, F = 2, mF = 0, I₁ = 1/2, I₂ = 1/2, P = -, Ω = 1>\n",
      "Frequency for R2 F1' = 2.5, F' = 2.0 is f = 275858.862972665  GHz\n",
      "|X, J = 2, F₁ = 5/2, F = 2, mF = 0, I₁ = 1/2, I₂ = 1/2, P = +, Ω = 0>\n",
      "|B, J = 3, F₁ = 5/2, F = 3, mF = 0, I₁ = 1/2, I₂ = 1/2, P = -, Ω = 1>\n",
      "Frequency for R2 F1' = 2.5, F' = 3.0 is f = 275858.9490315535  GHz\n",
      "|X, J = 2, F₁ = 5/2, F = 2, mF = 0, I₁ = 1/2, I₂ = 1/2, P = +, Ω = 0>\n",
      "|B, J = 3, F₁ = 7/2, F = 3, mF = 0, I₁ = 1/2, I₂ = 1/2, P = -, Ω = 1>\n",
      "Frequency for R2 F1' = 3.5, F' = 3.0 is f = 275858.7186654135  GHz\n",
      "|X, J = 2, F₁ = 5/2, F = 2, mF = 0, I₁ = 1/2, I₂ = 1/2, P = +, Ω = 0>\n",
      "|B, J = 3, F₁ = 7/2, F = 4, mF = 0, I₁ = 1/2, I₂ = 1/2, P = -, Ω = 1>\n",
      "Frequency for R2 F1' = 3.5, F' = 4.0 is f = 275858.76364126283  GHz\n",
      "**********\n",
      "|X, J = 3, F₁ = 7/2, F = 3, mF = 0, I₁ = 1/2, I₂ = 1/2, P = -, Ω = 0>\n",
      "|B, J = 4, F₁ = 7/2, F = 3, mF = 0, I₁ = 1/2, I₂ = 1/2, P = +, Ω = 1>\n",
      "Frequency for R3 F1' = 3.5, F' = 3.0 is f = 275862.23485128256  GHz\n",
      "|X, J = 3, F₁ = 7/2, F = 3, mF = 0, I₁ = 1/2, I₂ = 1/2, P = -, Ω = 0>\n",
      "|B, J = 4, F₁ = 7/2, F = 4, mF = 0, I₁ = 1/2, I₂ = 1/2, P = +, Ω = 1>\n",
      "Frequency for R3 F1' = 3.5, F' = 4.0 is f = 275862.295877544  GHz\n",
      "|X, J = 3, F₁ = 7/2, F = 3, mF = 0, I₁ = 1/2, I₂ = 1/2, P = -, Ω = 0>\n",
      "|B, J = 4, F₁ = 9/2, F = 4, mF = 0, I₁ = 1/2, I₂ = 1/2, P = +, Ω = 1>\n",
      "Frequency for R3 F1' = 4.5, F' = 4.0 is f = 275862.11182317656  GHz\n",
      "|X, J = 3, F₁ = 7/2, F = 3, mF = 0, I₁ = 1/2, I₂ = 1/2, P = -, Ω = 0>\n",
      "|B, J = 4, F₁ = 9/2, F = 5, mF = 0, I₁ = 1/2, I₂ = 1/2, P = +, Ω = 1>\n",
      "Frequency for R3 F1' = 4.5, F' = 5.0 is f = 275862.1488271526  GHz\n",
      "**********\n",
      "|X, J = 4, F₁ = 9/2, F = 4, mF = 0, I₁ = 1/2, I₂ = 1/2, P = +, Ω = 0>\n",
      "|B, J = 5, F₁ = 9/2, F = 4, mF = 0, I₁ = 1/2, I₂ = 1/2, P = -, Ω = 1>\n",
      "Frequency for R4 F1' = 4.5, F' = 4.0 is f = 275865.6181552312  GHz\n",
      "|X, J = 4, F₁ = 9/2, F = 4, mF = 0, I₁ = 1/2, I₂ = 1/2, P = +, Ω = 0>\n",
      "|B, J = 5, F₁ = 9/2, F = 5, mF = 0, I₁ = 1/2, I₂ = 1/2, P = -, Ω = 1>\n",
      "Frequency for R4 F1' = 4.5, F' = 5.0 is f = 275865.66540085117  GHz\n",
      "|X, J = 4, F₁ = 9/2, F = 4, mF = 0, I₁ = 1/2, I₂ = 1/2, P = +, Ω = 0>\n",
      "|B, J = 5, F₁ = 11/2, F = 5, mF = 0, I₁ = 1/2, I₂ = 1/2, P = -, Ω = 1>\n",
      "Frequency for R4 F1' = 5.5, F' = 5.0 is f = 275865.50913884776  GHz\n",
      "|X, J = 4, F₁ = 9/2, F = 4, mF = 0, I₁ = 1/2, I₂ = 1/2, P = +, Ω = 0>\n",
      "|B, J = 5, F₁ = 11/2, F = 6, mF = 0, I₁ = 1/2, I₂ = 1/2, P = -, Ω = 1>\n",
      "Frequency for R4 F1' = 5.5, F' = 6.0 is f = 275865.540601451  GHz\n",
      "Wall time: 3.42 s\n"
     ]
    }
   ],
   "source": [
    "%%time\n",
    "R_transitions = []\n",
    "R_frequencies = []\n",
    "\n",
    "#Calculate transition frequencies for each J for X and each hyperfine state for B\n",
    "Js = [0,1,2,3,4]\n",
    "for J_X in Js:\n",
    "    print(10*'*')\n",
    "    #Determine X-state\n",
    "    F1_X = J_X+1/2\n",
    "    F_X = J_X\n",
    "    X_state = 1*centrex.CoupledBasisState(J=J_X, F1 = F1_X, F = F_X, mF = 0, I1 =I1, I2 = I2, electronic_state='X', \n",
    "                                P = (-1)**J_X, Omega = 0)\n",
    "    \n",
    "    #Determine B-states\n",
    "    J_B = J_X+1\n",
    "    for F1 in np.arange(J_B-I1, J_B+I1+1):\n",
    "        for F in np.arange(F1-I2, F1+I2+1):\n",
    "            B_state = 1*centrex.CoupledBasisState(J=J_B, F1 = F1, F = F, mF = 0, I1 = I1, I2 = I2, electronic_state='B', \n",
    "                                        P = (-1)**(J_X+1), Omega = 1)\n",
    "            \n",
    "            #Calculate transition frequency\n",
    "            frq = centrex.transitions.generate_transition_frequency(X_state, B_state)/(4e9) #In GHz at IR\n",
    "            \n",
    "            #Print\n",
    "            print(X_state.find_largest_component())\n",
    "            print(B_state.find_largest_component())\n",
    "            print(f\"Frequency for R{J_X} F1' = {F1}, F' = {F} is f = {frq}  GHz\")\n",
    "            \n",
    "            R_transitions.append(f\"R{J_X} F1' = {F1}, F' = {F}\")\n",
    "            R_frequencies.append(frq)"
   ]
  },
  {
   "cell_type": "code",
   "execution_count": 16,
   "metadata": {},
   "outputs": [
    {
     "name": "stdout",
     "output_type": "stream",
     "text": [
      "**********\n",
      "Frequency for P2 F1' = 0.5, F' = 0.0 is f = 43901.04383847712  GHz\n",
      "Frequency for P2 F1' = 0.5, F' = 1.0 is f = 43901.06626537957  GHz\n",
      "Frequency for P2 F1' = 1.5, F' = 1.0 is f = 43901.60345167656  GHz\n",
      "Frequency for P2 F1' = 1.5, F' = 2.0 is f = 43901.61605789813  GHz\n",
      "**********\n",
      "Frequency for P3 F1' = 1.5, F' = 1.0 is f = 43901.11320232069  GHz\n",
      "Frequency for P3 F1' = 1.5, F' = 2.0 is f = 43901.136343827  GHz\n",
      "Frequency for P3 F1' = 2.5, F' = 2.0 is f = 43901.08554482068  GHz\n",
      "Frequency for P3 F1' = 2.5, F' = 3.0 is f = 43901.094668405705  GHz\n",
      "**********\n",
      "Frequency for P4 F1' = 2.5, F' = 2.0 is f = 43900.58764826349  GHz\n",
      "Frequency for P4 F1' = 2.5, F' = 3.0 is f = 43900.601344960996  GHz\n",
      "Frequency for P4 F1' = 3.5, F' = 3.0 is f = 43900.564681051095  GHz\n",
      "Frequency for P4 F1' = 3.5, F' = 4.0 is f = 43900.571839179844  GHz\n",
      "**********\n",
      "Frequency for P5 F1' = 3.5, F' = 3.0 is f = 43900.06316072085  GHz\n",
      "Frequency for P5 F1' = 3.5, F' = 4.0 is f = 43900.072873352015  GHz\n",
      "Frequency for P5 F1' = 4.5, F' = 4.0 is f = 43900.043580189646  GHz\n",
      "Frequency for P5 F1' = 4.5, F' = 5.0 is f = 43900.04946955534  GHz\n"
     ]
    }
   ],
   "source": [
    "P_transitions = []\n",
    "P_frequencies = []\n",
    "\n",
    "#Calculate transition frequencies for each J for X and each hyperfine state for B\n",
    "Js = [2,3,4,5]\n",
    "for J_X in Js:\n",
    "    print(10*'*')\n",
    "    #Determine X-state\n",
    "    F1_X = J_X+1/2\n",
    "    F_X = J_X\n",
    "    X_state = 1*centrex.CoupledBasisState(J=J_X, F1 = F1_X, F = F_X, mF = 0, I1 =I1, I2 = I2, electronic_state='X', \n",
    "                                P = (-1)**J_X, Omega = 0)\n",
    "    \n",
    "    #Determine B-states\n",
    "    J_B = J_X-1\n",
    "    for F1 in np.arange(J_B-I1, J_B+I1+1):\n",
    "        for F in np.arange(F1-I2, F1+I2+1):\n",
    "            B_state = 1*centrex.CoupledBasisState(J=J_B, F1 = F1, F = F, mF = 0, I1 = I1, I2 = I2, electronic_state='B', \n",
    "                                        P = (-1)**(J_X+1), Omega = 1)\n",
    "            \n",
    "            #Calculate transition frequency\n",
    "            frq = centrex.transitions.generate_transition_frequency(X_state, B_state)/(2*np.pi*4e9) #In GHz at IR\n",
    "            \n",
    "            #Print\n",
    "            print(f\"Frequency for P{J_X} F1' = {F1}, F' = {F} is f = {frq}  GHz\")\n",
    "            \n",
    "            P_transitions.append(f\"P{J_X} F1' = {F1}, F' = {F}\")\n",
    "            P_frequencies.append(frq)"
   ]
  },
  {
   "cell_type": "code",
   "execution_count": 74,
   "metadata": {},
   "outputs": [
    {
     "name": "stdout",
     "output_type": "stream",
     "text": [
      "**********\n",
      "Frequency for S0 F1' = 1.5, F' = 1.0 is f = 275858.82789674465 GHz\n",
      "Frequency for S0 F1' = 1.5, F' = 2.0 is f = 275858.97336402757 GHz\n",
      "Frequency for S0 F1' = 2.5, F' = 2.0 is f = 275858.66117058677 GHz\n",
      "Frequency for S0 F1' = 2.5, F' = 3.0 is f = 275858.7185489703 GHz\n",
      "**********\n",
      "Frequency for S1 F1' = 2.5, F' = 2.0 is f = 275865.52178530983 GHz\n",
      "Frequency for S1 F1' = 2.5, F' = 3.0 is f = 275865.607896133 GHz\n",
      "Frequency for S1 F1' = 3.5, F' = 3.0 is f = 275865.38727889786 GHz\n",
      "Frequency for S1 F1' = 3.5, F' = 4.0 is f = 275865.4322968602 GHz\n",
      "**********\n",
      "Frequency for S2 F1' = 3.5, F' = 3.0 is f = 275872.2211178295 GHz\n",
      "Frequency for S2 F1' = 3.5, F' = 4.0 is f = 275872.28218546655 GHz\n",
      "Frequency for S2 F1' = 4.5, F' = 4.0 is f = 275872.1106690212 GHz\n",
      "Frequency for S2 F1' = 4.5, F' = 5.0 is f = 275872.1477074942 GHz\n",
      "**********\n",
      "Frequency for S3 F1' = 4.5, F' = 4.0 is f = 275878.9306491665 GHz\n",
      "Frequency for S3 F1' = 4.5, F' = 5.0 is f = 275878.9779288055 GHz\n",
      "Frequency for S3 F1' = 5.5, F' = 5.0 is f = 275878.83699871704 GHz\n",
      "Frequency for S3 F1' = 5.5, F' = 6.0 is f = 275878.8684903611 GHz\n"
     ]
    }
   ],
   "source": [
    "S_transitions = []\n",
    "S_frequencies = []\n",
    "\n",
    "#Calculate transition frequencies for each J for X and each hyperfine state for B\n",
    "Js = [0,1,2,3]\n",
    "for J_X in Js:\n",
    "    print(10*'*')\n",
    "    #Determine X-state\n",
    "    F1_X = J_X+1/2\n",
    "    F_X = J_X\n",
    "    X_state = 1*centrex.CoupledBasisState(J=J_X, F1 = F1_X, F = F_X, mF = 0, I1 =I1, I2 = I2, electronic_state='X', \n",
    "                                P = (-1)**J_X, Omega = 0)\n",
    "    \n",
    "    #Determine B-states\n",
    "    J_B = J_X+2\n",
    "    for F1 in np.arange(J_B-I1, J_B+I1+1):\n",
    "        for F in np.arange(F1-I2, F1+I2+1):\n",
    "            B_state = 1*centrex.CoupledBasisState(J=J_B, F1 = F1, F = F, mF = 0, I1 = I1, I2 = I2, electronic_state='B', \n",
    "                                        P = (-1)**(J_X+1), Omega = 1)\n",
    "            \n",
    "            #Calculate transition frequency\n",
    "            frq = centrex.transitions.generate_transition_frequency(X_state, B_state)/(4e9) #In GHz at IR\n",
    "            \n",
    "            #Print\n",
    "            print(f\"Frequency for S{J_X} F1' = {F1}, F' = {F} is f = {frq} GHz\")\n",
    "            S_transitions.append(f\"S{J_X} F1' = {F1}, F' = {F}\")\n",
    "            S_frequencies.append(frq)"
   ]
  },
  {
   "cell_type": "code",
   "execution_count": 75,
   "metadata": {},
   "outputs": [
    {
     "name": "stdout",
     "output_type": "stream",
     "text": [
      "**********\n",
      "Frequency for O3 F1' = 0.5, F' = 0.0 is f = 275828.38860227034 GHz\n",
      "Frequency for O3 F1' = 0.5, F' = 1.0 is f = 275828.5295218218 GHz\n",
      "Frequency for O3 F1' = 1.5, F' = 1.0 is f = 275831.91318588424 GHz\n",
      "Frequency for O3 F1' = 1.5, F' = 2.0 is f = 275831.9924606397 GHz\n",
      "**********\n",
      "Frequency for O4 F1' = 1.5, F' = 1.0 is f = 275825.49119194824 GHz\n",
      "Frequency for O4 F1' = 1.5, F' = 2.0 is f = 275825.63665923115 GHz\n",
      "Frequency for O4 F1' = 2.5, F' = 2.0 is f = 275825.3244657903 GHz\n",
      "Frequency for O4 F1' = 2.5, F' = 3.0 is f = 275825.3818441739 GHz\n",
      "**********\n",
      "Frequency for O5 F1' = 2.5, F' = 2.0 is f = 275818.8504165209 GHz\n",
      "Frequency for O5 F1' = 2.5, F' = 3.0 is f = 275818.936527344 GHz\n",
      "Frequency for O5 F1' = 3.5, F' = 3.0 is f = 275818.71591010893 GHz\n",
      "Frequency for O5 F1' = 3.5, F' = 4.0 is f = 275818.7609280713 GHz\n",
      "**********\n",
      "Frequency for O6 F1' = 3.5, F' = 3.0 is f = 275812.215086755 GHz\n",
      "Frequency for O6 F1' = 3.5, F' = 4.0 is f = 275812.2761543921 GHz\n",
      "Frequency for O6 F1' = 4.5, F' = 4.0 is f = 275812.1046379467 GHz\n",
      "Frequency for O6 F1' = 4.5, F' = 5.0 is f = 275812.1416764197 GHz\n"
     ]
    }
   ],
   "source": [
    "O_transitions = []\n",
    "O_frequencies = []\n",
    "\n",
    "#Calculate transition frequencies for each J for X and each hyperfine state for B\n",
    "Js = [3,4,5,6]\n",
    "for J_X in Js:\n",
    "    print(10*'*')\n",
    "    #Determine X-state\n",
    "    F1_X = J_X+1/2\n",
    "    F_X = J_X\n",
    "    X_state = 1*centrex.CoupledBasisState(J=J_X, F1 = F1_X, F = F_X, mF = 0, I1 =I1, I2 = I2, electronic_state='X', \n",
    "                                P = (-1)**J_X, Omega = 0)\n",
    "    \n",
    "    #Determine B-states\n",
    "    J_B = J_X-2\n",
    "    for F1 in np.arange(J_B-I1, J_B+I1+1):\n",
    "        for F in np.arange(F1-I2, F1+I2+1):\n",
    "            B_state = 1*centrex.CoupledBasisState(J=J_B, F1 = F1, F = F, mF = 0, I1 = I1, I2 = I2, electronic_state='B', \n",
    "                                        P = (-1)**(J_X+1), Omega = 1)\n",
    "            \n",
    "            #Calculate transition frequency\n",
    "            frq = centrex.transitions.generate_transition_frequency(X_state, B_state)/(4e9) #In GHz at IR\n",
    "            \n",
    "            #Print\n",
    "            print(f\"Frequency for O{J_X} F1' = {F1}, F' = {F} is f = {frq} GHz\")\n",
    "            O_transitions.append(f\"S{J_X} F1' = {F1}, F' = {F}\")\n",
    "            O_frequencies.append(frq)"
   ]
  },
  {
   "cell_type": "code",
   "execution_count": 76,
   "metadata": {},
   "outputs": [
    {
     "name": "stdout",
     "output_type": "stream",
     "text": [
      "**********\n",
      "Frequency for T0 F1' = 2.5, F' = 2.0 is f = 275868.86399291526 GHz\n",
      "Frequency for T0 F1' = 2.5, F' = 3.0 is f = 275868.9500518038 GHz\n",
      "Frequency for T0 F1' = 3.5, F' = 3.0 is f = 275868.71968566376 GHz\n",
      "Frequency for T0 F1' = 3.5, F' = 4.0 is f = 275868.76466151315 GHz\n",
      "**********\n",
      "Frequency for T1 F1' = 3.5, F' = 3.0 is f = 275878.90320448607 GHz\n",
      "Frequency for T1 F1' = 3.5, F' = 4.0 is f = 275878.9642307474 GHz\n",
      "Frequency for T1 F1' = 4.5, F' = 4.0 is f = 275878.78017638 GHz\n",
      "Frequency for T1 F1' = 4.5, F' = 5.0 is f = 275878.81718035607 GHz\n",
      "**********\n",
      "Frequency for T2 F1' = 4.5, F' = 4.0 is f = 275888.9538397773 GHz\n",
      "Frequency for T2 F1' = 4.5, F' = 5.0 is f = 275889.0010853973 GHz\n",
      "Frequency for T2 F1' = 5.5, F' = 5.0 is f = 275888.84482339397 GHz\n",
      "Frequency for T2 F1' = 5.5, F' = 6.0 is f = 275888.8762859972 GHz\n"
     ]
    }
   ],
   "source": [
    "T_transitions = []\n",
    "T_frequencies = []\n",
    "\n",
    "#Calculate transition frequencies for each J for X and each hyperfine state for B\n",
    "Js = [0,1,2]\n",
    "for J_X in Js:\n",
    "    print(10*'*')\n",
    "    #Determine X-state\n",
    "    F1_X = J_X+1/2\n",
    "    F_X = J_X\n",
    "    X_state = 1*centrex.CoupledBasisState(J=J_X, F1 = F1_X, F = F_X, mF = 0, I1 =I1, I2 = I2, electronic_state='X', \n",
    "                                P = (-1)**J_X, Omega = 0)\n",
    "    \n",
    "    #Determine B-states\n",
    "    J_B = J_X+3\n",
    "    for F1 in np.arange(J_B-I1, J_B+I1+1):\n",
    "        for F in np.arange(F1-I2, F1+I2+1):\n",
    "            B_state = 1*centrex.CoupledBasisState(J=J_B, F1 = F1, F = F, mF = 0, I1 = I1, I2 = I2, electronic_state='B', \n",
    "                                        P = (-1)**(J_X+1), Omega = 1)\n",
    "            \n",
    "            #Calculate transition frequency\n",
    "            frq = centrex.transitions.generate_transition_frequency(X_state, B_state)/(4e9) #In GHz at IR\n",
    "            #Print\n",
    "            print(f\"Frequency for T{J_X} F1' = {F1}, F' = {F} is f = {frq} GHz\")\n",
    "            T_transitions.append(f\"T{J_X} F1' = {F1}, F' = {F}\")\n",
    "            T_frequencies.append(frq)"
   ]
  },
  {
   "cell_type": "code",
   "execution_count": 77,
   "metadata": {},
   "outputs": [
    {
     "name": "stdout",
     "output_type": "stream",
     "text": [
      "R(0) F1'=1/2, F'=0  -> 275848.395 GHz\n",
      "R(0) F1'=1/2, F'=1  -> 275848.536 GHz\n",
      "R(0) F1'=3/2, F'=1  -> 275851.911 GHz\n",
      "R(0) F1'=3/2, F'=2  -> 275851.990 GHz\n",
      "S(0) F1'=3/2, F'=1  -> 275858.828 GHz\n",
      "S(0) F1'=3/2, F'=2  -> 275858.973 GHz\n",
      "S(0) F1'=5/2, F'=2  -> 275858.661 GHz\n",
      "S(0) F1'=5/2, F'=3  -> 275858.719 GHz\n",
      "T(0) F1'=5/2, F'=2  -> 275868.864 GHz\n",
      "T(0) F1'=5/2, F'=3  -> 275868.950 GHz\n",
      "T(0) F1'=7/2, F'=3  -> 275868.720 GHz\n",
      "T(0) F1'=7/2, F'=4  -> 275868.765 GHz\n",
      "Q(1) F1'=1/2, F'=0  -> 275845.057 GHz\n",
      "Q(1) F1'=1/2, F'=1  -> 275845.198 GHz\n",
      "Q(1) F1'=3/2, F'=1  -> 275848.582 GHz\n",
      "Q(1) F1'=3/2, F'=2  -> 275848.661 GHz\n",
      "R(1) F1'=3/2, F'=1  -> 275855.498 GHz\n",
      "R(1) F1'=3/2, F'=2  -> 275855.643 GHz\n",
      "R(1) F1'=5/2, F'=2  -> 275855.324 GHz\n",
      "R(1) F1'=5/2, F'=3  -> 275855.381 GHz\n",
      "S(1) F1'=5/2, F'=2  -> 275865.522 GHz\n",
      "S(1) F1'=5/2, F'=3  -> 275865.608 GHz\n",
      "S(1) F1'=7/2, F'=3  -> 275865.387 GHz\n",
      "S(1) F1'=7/2, F'=4  -> 275865.432 GHz\n",
      "T(1) F1'=7/2, F'=3  -> 275878.903 GHz\n",
      "T(1) F1'=7/2, F'=4  -> 275878.964 GHz\n",
      "T(1) F1'=9/2, F'=4  -> 275878.780 GHz\n",
      "T(1) F1'=9/2, F'=5  -> 275878.817 GHz\n",
      "P(2) F1'=1/2, F'=0  -> 275838.394 GHz\n",
      "P(2) F1'=1/2, F'=1  -> 275838.535 GHz\n",
      "P(2) F1'=3/2, F'=1  -> 275841.910 GHz\n",
      "P(2) F1'=3/2, F'=2  -> 275841.989 GHz\n",
      "Q(2) F1'=3/2, F'=1  -> 275848.827 GHz\n",
      "Q(2) F1'=3/2, F'=2  -> 275848.972 GHz\n",
      "Q(2) F1'=5/2, F'=2  -> 275848.660 GHz\n",
      "Q(2) F1'=5/2, F'=3  -> 275848.718 GHz\n",
      "R(2) F1'=5/2, F'=2  -> 275858.863 GHz\n",
      "R(2) F1'=5/2, F'=3  -> 275858.949 GHz\n",
      "R(2) F1'=7/2, F'=3  -> 275858.719 GHz\n",
      "R(2) F1'=7/2, F'=4  -> 275858.764 GHz\n",
      "S(2) F1'=7/2, F'=3  -> 275872.221 GHz\n",
      "S(2) F1'=7/2, F'=4  -> 275872.282 GHz\n",
      "S(2) F1'=9/2, F'=4  -> 275872.111 GHz\n",
      "S(2) F1'=9/2, F'=5  -> 275872.148 GHz\n",
      "T(2) F1'=9/2, F'=4  -> 275888.954 GHz\n",
      "T(2) F1'=9/2, F'=5  -> 275889.001 GHz\n",
      "T(2) F1'=11/2, F'=5 -> 275888.845 GHz\n",
      "T(2) F1'=11/2, F'=6 -> 275888.876 GHz\n",
      "O(3) F1'=1/2, F'=0  -> 275828.389 GHz\n",
      "O(3) F1'=1/2, F'=1  -> 275828.530 GHz\n",
      "O(3) F1'=3/2, F'=1  -> 275831.913 GHz\n",
      "O(3) F1'=3/2, F'=2  -> 275831.992 GHz\n",
      "P(3) F1'=3/2, F'=1  -> 275838.829 GHz\n",
      "P(3) F1'=3/2, F'=2  -> 275838.975 GHz\n",
      "P(3) F1'=5/2, F'=2  -> 275838.656 GHz\n",
      "P(3) F1'=5/2, F'=3  -> 275838.713 GHz\n",
      "Q(3) F1'=5/2, F'=2  -> 275848.853 GHz\n",
      "Q(3) F1'=5/2, F'=3  -> 275848.940 GHz\n",
      "Q(3) F1'=7/2, F'=3  -> 275848.719 GHz\n",
      "Q(3) F1'=7/2, F'=4  -> 275848.764 GHz\n",
      "R(3) F1'=7/2, F'=3  -> 275862.235 GHz\n",
      "R(3) F1'=7/2, F'=4  -> 275862.296 GHz\n",
      "R(3) F1'=9/2, F'=4  -> 275862.112 GHz\n",
      "R(3) F1'=9/2, F'=5  -> 275862.149 GHz\n",
      "S(3) F1'=9/2, F'=4  -> 275878.931 GHz\n",
      "S(3) F1'=9/2, F'=5  -> 275878.978 GHz\n",
      "S(3) F1'=11/2, F'=5 -> 275878.837 GHz\n",
      "S(3) F1'=11/2, F'=6 -> 275878.868 GHz\n",
      "Wall time: 11.1 s\n"
     ]
    }
   ],
   "source": [
    "%%time \n",
    "QN_X = []\n",
    "for J_X in [0,1,2,3]:\n",
    "    F1_X = J_X+1/2\n",
    "    F_X = J_X\n",
    "    QN_X.append(1*centrex.CoupledBasisState(J=J_X, F1 = F1_X, F = F_X, mF = 0, I1 =I1, I2 = I2, electronic_state='X', \n",
    "                    P = (-1)**J_X, Omega = 0))\n",
    "QN_B = []\n",
    "for J_B in [1,2,3,4,5]:\n",
    "    for F1 in np.arange(J_B-I1, J_B+I1+1):\n",
    "        for F in np.arange(F1-I2, F1+I2+1):\n",
    "            QN_B.append(1*centrex.CoupledBasisState(J=J_B, F1 = F1, F = F, mF = 0, I1 = I1, I2 = I2, electronic_state='B', \n",
    "                            P = -1, Omega = 1))\n",
    "\n",
    "QN_tot = QN_X + QN_B\n",
    "transitions = []            \n",
    "for a in QN_tot:\n",
    "    for b in QN_tot:\n",
    "        try:\n",
    "            transition = centrex.transitions.identify_transition(a,b)\n",
    "        except Exception as e:\n",
    "            continue\n",
    "        b.data[0][1].P = a.find_largest_component().P * -1\n",
    "        frequency = centrex.transitions.generate_transition_frequency(a,b)/(4e9)\n",
    "        print(f\"{transition:<19} -> {frequency:.3f} GHz\")\n",
    "        transitions.append((transition, frequency))"
   ]
  },
  {
   "cell_type": "code",
   "execution_count": 78,
   "metadata": {},
   "outputs": [],
   "source": [
    "transitions = sorted(transitions, key = lambda x: x[1])"
   ]
  },
  {
   "cell_type": "code",
   "execution_count": 79,
   "metadata": {},
   "outputs": [],
   "source": [
    "transitions, frequencies = list(zip(*transitions))"
   ]
  },
  {
   "cell_type": "code",
   "execution_count": 80,
   "metadata": {},
   "outputs": [
    {
     "name": "stdout",
     "output_type": "stream",
     "text": [
      "O(3) F1'=1/2, F'=0\n",
      "O(3) F1'=1/2, F'=1\n",
      "O(3) F1'=3/2, F'=1\n",
      "O(3) F1'=3/2, F'=2\n",
      "P(2) F1'=1/2, F'=0\n",
      "P(2) F1'=1/2, F'=1\n",
      "P(3) F1'=5/2, F'=2\n",
      "P(3) F1'=5/2, F'=3\n",
      "P(3) F1'=3/2, F'=1\n",
      "P(3) F1'=3/2, F'=2\n",
      "P(2) F1'=3/2, F'=1\n",
      "P(2) F1'=3/2, F'=2\n",
      "Q(1) F1'=1/2, F'=0\n",
      "Q(1) F1'=1/2, F'=1\n",
      "R(0) F1'=1/2, F'=0\n",
      "R(0) F1'=1/2, F'=1\n",
      "Q(1) F1'=3/2, F'=1\n",
      "Q(2) F1'=5/2, F'=2\n",
      "Q(1) F1'=3/2, F'=2\n",
      "Q(2) F1'=5/2, F'=3\n",
      "Q(3) F1'=7/2, F'=3\n",
      "Q(3) F1'=7/2, F'=4\n",
      "Q(2) F1'=3/2, F'=1\n",
      "Q(3) F1'=5/2, F'=2\n",
      "Q(3) F1'=5/2, F'=3\n",
      "Q(2) F1'=3/2, F'=2\n",
      "R(0) F1'=3/2, F'=1\n",
      "R(0) F1'=3/2, F'=2\n",
      "R(1) F1'=5/2, F'=2\n",
      "R(1) F1'=5/2, F'=3\n",
      "R(1) F1'=3/2, F'=1\n",
      "R(1) F1'=3/2, F'=2\n",
      "S(0) F1'=5/2, F'=2\n",
      "S(0) F1'=5/2, F'=3\n",
      "R(2) F1'=7/2, F'=3\n",
      "R(2) F1'=7/2, F'=4\n",
      "S(0) F1'=3/2, F'=1\n",
      "R(2) F1'=5/2, F'=2\n",
      "R(2) F1'=5/2, F'=3\n",
      "S(0) F1'=3/2, F'=2\n",
      "R(3) F1'=9/2, F'=4\n",
      "R(3) F1'=9/2, F'=5\n",
      "R(3) F1'=7/2, F'=3\n",
      "R(3) F1'=7/2, F'=4\n",
      "S(1) F1'=7/2, F'=3\n",
      "S(1) F1'=7/2, F'=4\n",
      "S(1) F1'=5/2, F'=2\n",
      "S(1) F1'=5/2, F'=3\n",
      "T(0) F1'=7/2, F'=3\n",
      "T(0) F1'=7/2, F'=4\n",
      "T(0) F1'=5/2, F'=2\n",
      "T(0) F1'=5/2, F'=3\n",
      "S(2) F1'=9/2, F'=4\n",
      "S(2) F1'=9/2, F'=5\n",
      "S(2) F1'=7/2, F'=3\n",
      "S(2) F1'=7/2, F'=4\n",
      "T(1) F1'=9/2, F'=4\n",
      "T(1) F1'=9/2, F'=5\n",
      "S(3) F1'=11/2, F'=5\n",
      "S(3) F1'=11/2, F'=6\n",
      "T(1) F1'=7/2, F'=3\n",
      "S(3) F1'=9/2, F'=4\n",
      "T(1) F1'=7/2, F'=4\n",
      "S(3) F1'=9/2, F'=5\n",
      "T(2) F1'=11/2, F'=5\n",
      "T(2) F1'=11/2, F'=6\n",
      "T(2) F1'=9/2, F'=4\n",
      "T(2) F1'=9/2, F'=5\n"
     ]
    }
   ],
   "source": [
    "for transition in transitions:\n",
    "    print(transition)"
   ]
  },
  {
   "cell_type": "code",
   "execution_count": 81,
   "metadata": {},
   "outputs": [],
   "source": [
    "def find_close(transition, transitions, frequencies, frequency_range = 50e-3):\n",
    "    assert isinstance(transitions, (list, tuple))\n",
    "    if not isinstance(frequencies, np.ndarray):\n",
    "        frequencies = np.asarray(frequencies)\n",
    "    idx = transitions.index(transition)\n",
    "    frequency = frequencies[idx]\n",
    "    fmin = frequency - frequency_range/2\n",
    "    fmax = frequency + frequency_range/2\n",
    "    within_range = (frequencies >= fmin) & (frequencies <= fmax)\n",
    "    return np.array(transitions)[within_range], frequencies[within_range]"
   ]
  },
  {
   "cell_type": "code",
   "execution_count": 82,
   "metadata": {},
   "outputs": [],
   "source": [
    "def gaussian_profile(center):\n",
    "    sigma =  0.003 # Sigma in GHz\n",
    "    x = center+np.linspace(-5,5,101)*sigma\n",
    "    return x, np.exp(-(x-center)**2/(2*sigma**2))"
   ]
  },
  {
   "cell_type": "code",
   "execution_count": 83,
   "metadata": {},
   "outputs": [],
   "source": [
    "def legend_without_duplicate_labels(ax, fontsize = None):\n",
    "    handles, labels = ax.get_legend_handles_labels()\n",
    "    unique = [(h, l) for i, (h, l) in enumerate(zip(handles, labels)) if l not in labels[:i]]\n",
    "    if fontsize:\n",
    "        ax.legend(*zip(*unique), fontsize = fontsize)\n",
    "    else:\n",
    "        ax.legend(*zip(*unique))"
   ]
  },
  {
   "cell_type": "code",
   "execution_count": 84,
   "metadata": {},
   "outputs": [],
   "source": [
    "close = find_close(\"R(2) F1'=7/2, F'=4\", transitions, frequencies, 400e-3)"
   ]
  },
  {
   "cell_type": "code",
   "execution_count": 85,
   "metadata": {},
   "outputs": [
    {
     "name": "stdout",
     "output_type": "stream",
     "text": [
      "S(0) F1'=5/2, F'=2  -> 275858.66 GHz\n",
      "S(0) F1'=5/2, F'=3  -> 275858.72 GHz\n",
      "R(2) F1'=7/2, F'=3  -> 275858.72 GHz\n",
      "R(2) F1'=7/2, F'=4  -> 275858.76 GHz\n",
      "S(0) F1'=3/2, F'=1  -> 275858.83 GHz\n",
      "R(2) F1'=5/2, F'=2  -> 275858.86 GHz\n",
      "R(2) F1'=5/2, F'=3  -> 275858.95 GHz\n"
     ]
    },
    {
     "data": {
      "image/png": "[encoded data removed]",
      "text/plain": [
       "<Figure size 1152x720 with 1 Axes>"
      ]
     },
     "metadata": {
      "needs_background": "light"
     },
     "output_type": "display_data"
    }
   ],
   "source": [
    "colors = {'R': 'C0', 'Q': 'C1', 'P': 'C2', 'S': 'C3', 'T': 'C4', 'O': 'C5'}\n",
    "markers = {'R': '-', 'Q': '--', 'P': '-.', 'S': '-', 'T': '--', 'O': '-.'}\n",
    "\n",
    "fig, ax = plt.subplots(figsize = (16,10))\n",
    "for n, f in zip(close[0], close[1]):\n",
    "    print(f\"{n:<19} -> {f:.2f} GHz\")\n",
    "    ax.plot(*gaussian_profile(f), color = colors[n[0]], lw = 2, ls = markers[n[0]], label = n[0])\n",
    "legend_without_duplicate_labels(ax, fontsize = 14)\n",
    "\n",
    "set_fontsize(ax, 14)"
   ]
  },
  {
   "cell_type": "code",
   "execution_count": 86,
   "metadata": {},
   "outputs": [],
   "source": [
    "gs, es, f = centrex.transitions.find_transition('R2', 7/2, 4, return_states = 'True')"
   ]
  },
  {
   "cell_type": "code",
   "execution_count": 87,
   "metadata": {},
   "outputs": [
    {
     "data": {
      "text/plain": [
       "0j"
      ]
     },
     "execution_count": 87,
     "metadata": {},
     "output_type": "execute_result"
    }
   ],
   "source": [
    "centrex.couplings.matrix_elements.calculate_ED_ME_mixed_state(gs, es)"
   ]
  },
  {
   "cell_type": "code",
   "execution_count": null,
   "metadata": {},
   "outputs": [],
   "source": []
  }
 ],
 "metadata": {
  "kernelspec": {
   "display_name": "Python 3",
   "language": "python",
   "name": "python3"
  },
  "language_info": {
   "codemirror_mode": {
    "name": "ipython",
    "version": 3
   },
   "file_extension": ".py",
   "mimetype": "text/x-python",
   "name": "python",
   "nbconvert_exporter": "python",
   "pygments_lexer": "ipython3",
   "version": "3.8.5"
  }
 },
 "nbformat": 4,
 "nbformat_minor": 4
}
