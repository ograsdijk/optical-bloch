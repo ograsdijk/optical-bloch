{
 "cells": [
  {
   "cell_type": "code",
   "execution_count": 11,
   "metadata": {},
   "outputs": [
    {
     "name": "stdout",
     "output_type": "stream",
     "text": [
      "The autoreload extension is already loaded. To reload it, use:\n",
      "  %reload_ext autoreload\n"
     ]
    }
   ],
   "source": [
    "%load_ext autoreload\n",
    "%autoreload 2\n",
    "\n",
    "import discord\n",
    "import requests\n",
    "import numpy as np\n",
    "from tqdm import tqdm\n",
    "from sympy import Symbol\n",
    "from pathlib import Path\n",
    "import centrex_TlF as centrex\n",
    "import matplotlib.pyplot as plt\n",
    "\n",
    "import ctypes\n",
    "from multiprocessing import Process, Array\n",
    "\n",
    "import sys\n",
    "sys.path.append(\"../..\")\n",
    "from utils.plot_utils import set_fontsize"
   ]
  },
  {
   "cell_type": "code",
   "execution_count": 12,
   "metadata": {},
   "outputs": [],
   "source": [
    "nprocs_python = 6 # processes for python\n",
    "nprocs_julia = 7 # processes for julia\n",
    "\n",
    "# Γ\n",
    "Γ = 1.56e6*2*np.pi\n",
    "\n",
    "# TlF temperature\n",
    "T = 6.3\n",
    "\n",
    "# Define all involved states\n",
    "\n",
    "# ground state J levels\n",
    "ground_Js = [0,1,2,3]\n",
    "\n",
    "# excited state quantum numbers\n",
    "excited_Js = [1]\n",
    "excited_F1s = [3/2]\n",
    "excited_Fs= [1]\n",
    "excited_Ps = [-1]\n",
    "\n",
    "# Settings for transitions\n",
    "\n",
    "# min and max J level to look for mixing in the B state\n",
    "excited_Jmin = 1\n",
    "excited_Jmax = 4\n",
    "\n",
    "\n",
    "# main laser transition R(1) F'=3 F1'=5/2\n",
    "\n",
    "ground_main_approx = 1*centrex.CoupledBasisState(J=2,F1=3/2,F=2,mF=0,I1=1/2,I2=1/2,electronic_state='X', \n",
    "                                         P = (-1)**2, Omega = 0)\n",
    "excited_main_approx = 1*centrex.CoupledBasisState(J=1,\n",
    "                                          F1=3/2,\n",
    "                                          F=1,\n",
    "                                          mF=0,I1=1/2,I2=1/2, electronic_state='B', P = -1, Omega = 1)\n",
    "# ground laser J\n",
    "laser_J = [2]\n",
    "\n",
    "transitions = [{'ground main approx': ground_main_approx, \n",
    "                'excited main approx': excited_main_approx,\n",
    "                'ground states approx': 1*centrex.states.generate_coupled_states_ground(laser_J),\n",
    "                'excited states approx': 1*centrex.states.generate_coupled_states_excited(\n",
    "                                                excited_Js, excited_Fs, excited_F1s, excited_Ps),\n",
    "                'main polarization': np.array([0,0,1]),\n",
    "                'polarizations': [np.array([0,0,1]), np.array([1,0,0])],\n",
    "                'polarization symbols': [Symbol(\"Plz\"), Symbol(\"Plx\")],\n",
    "                'Ω symbol': Symbol('Ωl', complex = True),\n",
    "                'Δ symbol': Symbol('δl'),\n",
    "                'description': \"laser transition\"\n",
    "               }]\n",
    "\n",
    "# make sure that subsequent transitions don't have their excited state be the ground state of another transition\n",
    "transitions.append(\n",
    "    {\n",
    "        'ground main approx': 1*centrex.CoupledBasisState(J=2,F1=5/2,F=2,mF=0,I1=1/2,I2=1/2, electronic_state='X', P = (-1)**2, Omega = 0),\n",
    "        'excited main approx': 1*centrex.CoupledBasisState(J=1,F1=3/2,F=1,mF=0,I1=1/2,I2=1/2,electronic_state='X', P = (-1)**1, Omega = 0),\n",
    "        'ground states approx': 1*centrex.states.generate_coupled_states_ground([2]),\n",
    "        'excited states approx': 1*centrex.states.generate_coupled_states_ground([1]),\n",
    "        'main polarization': np.array([0,0,1]),\n",
    "        'polarizations': [np.array([0,0,1]), np.array([0,1,0])],\n",
    "        'polarization symbols': [Symbol(\"Pμ12z\"), Symbol(\"Pμ12y\")],\n",
    "        'Ω symbol': Symbol('Ωμ12', complex = True),\n",
    "        'Δ symbol': Symbol('δμ12'),\n",
    "        'description': \"J12 microwave transition\"\n",
    "    }\n",
    ")\n",
    "\n",
    "transitions.append(\n",
    "    {\n",
    "        'ground main approx': 1*centrex.CoupledBasisState(J=2,F1=5/2,F=2,mF=0,I1=1/2,I2=1/2, electronic_state='X', P = (-1)**2, Omega = 0),\n",
    "        'excited main approx': 1*centrex.CoupledBasisState(J=3,F1=5/2,F=3,mF=0,I1=1/2,I2=1/2,electronic_state='X', P = (-1)**1, Omega = 0),\n",
    "        'ground states approx': 1*centrex.states.generate_coupled_states_ground([2]),\n",
    "        'excited states approx': 1*centrex.states.generate_coupled_states_ground([3]),\n",
    "        'main polarization': np.array([0,0,1]),\n",
    "        'polarizations': [np.array([0,0,1]), np.array([0,1,0])],\n",
    "        'polarization symbols': [Symbol(\"Pμ23z\"), Symbol(\"Pμ23y\")],\n",
    "        'Ω symbol': Symbol('Ωμ23', complex = True),\n",
    "        'Δ symbol': Symbol('δμ23'),\n",
    "        'description': \"J23 microwave transition\"\n",
    "    }\n",
    ")\n",
    "\n",
    "# sanity check to ensure no ground states for one transition are an\n",
    "# excited state for another transition\n",
    "centrex.couplings.utils.check_transitions(transitions)"
   ]
  },
  {
   "cell_type": "code",
   "execution_count": 13,
   "metadata": {},
   "outputs": [],
   "source": [
    "slice_compact = None"
   ]
  },
  {
   "cell_type": "code",
   "execution_count": 14,
   "metadata": {},
   "outputs": [],
   "source": [
    "# progress bar stuff\n",
    "fname_counter = \"counter.txt\"\n",
    "webhook_url = \"https://discord.com/api/webhooks/879110452364341279/qeSWCjvrd973S17_Qf7csPHjoaw4y0AO3BU0v8baWJ3LssW5uCl29XyleQXfxQaP6EYm\""
   ]
  },
  {
   "cell_type": "markdown",
   "metadata": {},
   "source": [
    "### Specifying parameters and the ode function preamble\n",
    "Allows for setting parameters to be time dependent (e.g. sin(t), cos(t))"
   ]
  },
  {
   "cell_type": "code",
   "execution_count": 15,
   "metadata": {},
   "outputs": [],
   "source": [
    "# order of parameters in p\n",
    "parameters = ['Ωl', 'δl', 'ωp', 'ϕp', 'y0', 'vy', 'vz', 'σylaser', 'σzlaser', 'β', 'ωphase',\n",
    "              'Ωμ12', 'δμ12', 'ωpμ12', 'ϕpμ12', 'Ωμ23', 'δμ23', 'ωpμ23', 'ϕpμ23', 'μzμ', 'σyμ', 'σzμ',\n",
    "              'mp_passes', 'mp_amps', 'mp_locs']"
   ]
  },
  {
   "cell_type": "code",
   "execution_count": 16,
   "metadata": {},
   "outputs": [],
   "source": [
    "preamble = \"\"\"function Lindblad_rhs!(du, ρ, p, t)\n",
    "\\t@inbounds begin\n",
    "\\t\\tΩl = complex(p[1])\n",
    "\\t\\tδl = p[2]\n",
    "\\t\\tωp = p[3]\n",
    "\\t\\tϕp = p[4]\n",
    "\\t\\ty0 = p[5]\n",
    "\\t\\tvy = p[6]\n",
    "\\t\\tvz = p[7]\n",
    "\\t\\tσylaser = p[8]\n",
    "\\t\\tσzlaser = p[9]\n",
    "\\t\\tβ = p[10]\n",
    "\\t\\tωphase = p[11]\n",
    "\\t\\tΩμ12 = complex(p[12])\n",
    "\\t\\tδμ12 = p[13]\n",
    "\\t\\tωpμ12 = p[14]\n",
    "\\t\\tϕpμ12 = p[15]\n",
    "\\t\\tΩμ23 = complex(p[16])\n",
    "\\t\\tδμ23 = p[17]\n",
    "\\t\\tωpμ23 = p[18]\n",
    "\\t\\tϕpμ23 = p[19]\n",
    "\\t\\tμzμ = p[20]\n",
    "\\t\\tσyμ = p[21]\n",
    "\\t\\tσzμ = p[22]\n",
    "\\t\\tmp_passes = floor(Int8,p[23])\n",
    "\\t\\tmp_amps::Array{Float64,1} = p[24:24+mp_passes-1]\n",
    "\\t\\tmp_locs::Array{Float64,1} = p[24+mp_passes:end]\n",
    "\n",
    "\\t\\tΩl = Ωl .* multipass_2d_intensity(vz*t, y0+vy*t, mp_amps, mp_locs, σzlaser, σylaser) .* phase_modulation(t, β, ωphase)\n",
    "\\t\\tΩlᶜ = conj(Ωl)\n",
    "\n",
    "\\t\\tΩμ12 = Ωμ12 .* gaussian_2d(vz*t, y0+vy*t, 1., μzμ, 0., σzμ, σyμ)\n",
    "\\t\\tΩμ12ᶜ = conj(Ωμ12)\n",
    "\n",
    "\\t\\tΩμ23 = Ωμ23 .* gaussian_2d(vz*t, y0+vy*t, 1., μzμ, 0., σzμ, σyμ)\n",
    "\\t\\tΩμ23ᶜ = conj(Ωμ23)\n",
    "\n",
    "\\t\\tPl = sin(ωp*t + ϕp)\n",
    "\\t\\tPlx = (1-Pl)/2\n",
    "\\t\\tPlz = (1+Pl)/2\n",
    "\n",
    "\\t\\tPμ12z = square_wave(t, ωpμ12, ϕpμ12)\n",
    "\\t\\tPμ12y = square_wave(t, ωpμ12, ϕpμ12+π)\n",
    "\n",
    "\\t\\tPμ23z = square_wave(t, ωpμ23, ϕpμ23)\n",
    "\\t\\tPμ23y = square_wave(t, ωpμ23, ϕpμ23+π)\n",
    "\"\"\""
   ]
  },
  {
   "cell_type": "code",
   "execution_count": 17,
   "metadata": {},
   "outputs": [
    {
     "data": {
      "text/plain": [
       "odeParameters(Ωl: 9.80e+06, δl: 0.00e+00, ωp: 9.80e+06, ϕp: 0.00e+00, y0: 0.00e+00, vy: 0.00e+00, vz: 0.00e+00, σylaser: 0.00e+00, σzlaser: 0.00e+00, β: 0.00e+00, ωphase: 0.00e+00, Ωμ12: 0.00e+00, δμ12: 0.00e+00, ωpμ12: 0.00e+00, ϕpμ12: 0.00e+00, Ωμ23: 0.00e+00, δμ23: 0.00e+00, ωpμ23: 0.00e+00, ϕpμ23: 0.00e+00, μzμ: 0.00e+00, σyμ: 0.00e+00, σzμ: 0.00e+00, mp_passes: 0.00e+00, mp_amps: 0.00e+00, mp_locs: 0.00e+00)"
      ]
     },
     "execution_count": 17,
     "metadata": {},
     "output_type": "execute_result"
    }
   ],
   "source": [
    "odepars = centrex.lindblad.odeParameters(parameters)\n",
    "odepars.Ωl = Γ\n",
    "odepars.ωp = Γ\n",
    "odepars"
   ]
  },
  {
   "cell_type": "markdown",
   "metadata": {},
   "source": [
    "## Start calculations for Hamiltonian and transitions"
   ]
  },
  {
   "cell_type": "code",
   "execution_count": 18,
   "metadata": {},
   "outputs": [
    {
     "name": "stdout",
     "output_type": "stream",
     "text": [
      "Wall time: 10.5 s\n"
     ]
    }
   ],
   "source": [
    "%%time \n",
    "ground_states_approx = centrex.states.generate_coupled_states_ground(ground_Js)\n",
    "excited_states_approx = centrex.states.generate_coupled_states_excited(excited_Js, excited_Fs, \n",
    "                                                                       excited_F1s, excited_Ps)\n",
    "\n",
    "ground_states, excited_states, QN, H_int, V_ref_int = centrex.hamiltonian.generate_total_reduced_hamiltonian(\n",
    "                                            ground_states_approx, excited_states_approx)"
   ]
  },
  {
   "cell_type": "code",
   "execution_count": 19,
   "metadata": {},
   "outputs": [
    {
     "name": "stderr",
     "output_type": "stream",
     "text": [
      "WARNING:root:generate_coupling_matrix: Pre-cached calculations, multiprocessing not used\n",
      "WARNING:root:generate_coupling_matrix: Pre-cached calculations, multiprocessing not used\n",
      "WARNING:root:generate_coupling_matrix: Pre-cached calculations, multiprocessing not used\n",
      "WARNING:root:generate_coupling_matrix: Pre-cached calculations, multiprocessing not used\n",
      "WARNING:root:generate_coupling_matrix: Pre-cached calculations, multiprocessing not used\n",
      "WARNING:root:generate_coupling_matrix: Pre-cached calculations, multiprocessing not used\n"
     ]
    },
    {
     "name": "stdout",
     "output_type": "stream",
     "text": [
      "Wall time: 7min 6s\n"
     ]
    }
   ],
   "source": [
    "%%time\n",
    "couplings = []\n",
    "for transition in transitions:\n",
    "    coupling = centrex.couplings.generate_coupling_field(\n",
    "                                        transition['ground main approx'],\n",
    "                                        transition['excited main approx'],\n",
    "                                        transition['ground states approx'],\n",
    "                                        transition['excited states approx'],\n",
    "                                        H_int, QN, V_ref_int, \n",
    "                                        pol_main = transition['main polarization'],\n",
    "                                        pol_vec = transition['polarizations'],\n",
    "                                        nprocs = nprocs_python)\n",
    "    couplings.append(coupling)"
   ]
  },
  {
   "cell_type": "code",
   "execution_count": 20,
   "metadata": {},
   "outputs": [
    {
     "name": "stdout",
     "output_type": "stream",
     "text": [
      "Wall time: 2.03 s\n"
     ]
    }
   ],
   "source": [
    "%%time\n",
    "H_symbolic = centrex.lindblad.generate_total_symbolic_hamiltonian(QN, H_int, couplings, transitions, \n",
    "                                                                slice_compact = slice_compact)"
   ]
  },
  {
   "cell_type": "code",
   "execution_count": 21,
   "metadata": {},
   "outputs": [],
   "source": [
    "# still something going wrong with rotating frame approximation, manually adjust\n",
    "slice_J1 = centrex.utils.J_slice(1)\n",
    "slice_J2 = centrex.utils.J_slice(2)\n",
    "slice_J3 = centrex.utils.J_slice(3)\n",
    "\n",
    "idx_J2 = [s.find_largest_component() for s in QN].index(transitions[1]['ground main approx'].find_largest_component())\n",
    "val = H_symbolic[idx_J2, idx_J2]\n",
    "for idx in range(slice_J2.start, slice_J2.stop):\n",
    "    H_symbolic[idx, idx] -= val\n",
    "\n",
    "idx_J1 = [s.find_largest_component() for s in QN].index(transitions[1]['excited main approx'].find_largest_component())\n",
    "val = H_symbolic[idx_J1, idx_J1]\n",
    "val = [v for v in val.atoms() if v.is_number]\n",
    "if len(val) >0:\n",
    "    val = val[0]\n",
    "    for idx in range(slice_J1.start, slice_J1.stop):\n",
    "        H_symbolic[idx, idx] -= val\n",
    "        \n",
    "idx_J3 = [s.find_largest_component() for s in QN].index(transitions[2]['excited main approx'].find_largest_component())\n",
    "val = H_symbolic[idx_J3, idx_J3]\n",
    "val = [v for v in val.atoms() if v.is_number]\n",
    "if len(val) >0:\n",
    "    val = val[0]\n",
    "    for idx in range(slice_J3.start, slice_J3.stop):\n",
    "        H_symbolic[idx, idx] -= val\n",
    "    \n",
    "idx_B = [s.find_largest_component() for s in QN].index(transitions[0]['excited main approx'].find_largest_component())\n",
    "val = H_symbolic[idx_B, idx_B]\n",
    "val = [v for v in val.atoms() if v.is_number][0]\n",
    "for idx in [idx for idx, s in enumerate(QN) if s.find_largest_component().electronic_state == 'B']:\n",
    "    H_symbolic[idx, idx] -= val"
   ]
  },
  {
   "cell_type": "code",
   "execution_count": 22,
   "metadata": {},
   "outputs": [
    {
     "name": "stdout",
     "output_type": "stream",
     "text": [
      "Wall time: 1min 44s\n"
     ]
    }
   ],
   "source": [
    "%%time\n",
    "C_array = centrex.couplings.collapse_matrices(QN, ground_states, excited_states, gamma = Γ, \n",
    "                                            slice_compact = slice_compact)\n",
    "system = centrex.lindblad.generate_system_of_equations_symbolic(H_symbolic, C_array, progress = False, fast = True)"
   ]
  },
  {
   "cell_type": "code",
   "execution_count": 23,
   "metadata": {},
   "outputs": [
    {
     "name": "stdout",
     "output_type": "stream",
     "text": [
      "Wall time: 2min 2s\n"
     ]
    }
   ],
   "source": [
    "%%time\n",
    "# convert matrix to system of equations code\n",
    "code_lines = centrex.lindblad.system_of_equations_to_lines(system, nprocs = nprocs_python)"
   ]
  },
  {
   "cell_type": "markdown",
   "metadata": {},
   "source": [
    "# Solving ODE system with Julia\n",
    "Need to install Julia and add the following packages to Julia:  \n",
    "* [DifferentialEquations](https://diffeq.sciml.ai/stable/)\n",
    "* [Trapz](https://github.com/francescoalemanno/Trapz.jl)\n",
    "\n",
    "And install [PyJulia](https://pyjulia.readthedocs.io/en/latest/index.html) for python.  "
   ]
  },
  {
   "cell_type": "code",
   "execution_count": 14,
   "metadata": {},
   "outputs": [],
   "source": [
    "# import julia\n",
    "# julia.install()"
   ]
  },
  {
   "cell_type": "code",
   "execution_count": 24,
   "metadata": {},
   "outputs": [
    {
     "name": "stdout",
     "output_type": "stream",
     "text": [
      "Initialized Julia with 7 processes\n"
     ]
    }
   ],
   "source": [
    "from julia import Main\n",
    "centrex.lindblad.initialize_julia(nprocs = nprocs_julia)\n",
    "\n",
    "_ = centrex.lindblad.generate_ode_fun_julia(preamble, code_lines)\n",
    "\n",
    "# generate initial conditions\n",
    "ρ_ini = centrex.utils.generate_thermal_J([0,1,2,3],3,6.3)\n",
    "centrex.lindblad.setup_variables_julia(Γ, ρ_ini)\n",
    "odepars.generate_p_julia()"
   ]
  },
  {
   "cell_type": "code",
   "execution_count": 25,
   "metadata": {},
   "outputs": [],
   "source": [
    "Main.eval(\"\"\"\n",
    "using BenchmarkTools\n",
    "@everywhere using Waveforms\n",
    "\n",
    "@everywhere function gaussian_2d(x::Float64, y::Float64, a::Float64, μx::Float64, μy::Float64, σx::Float64, σy::Float64)::Float64\n",
    "    a*exp(-((x-μx)^2 / (2 * σx*σx) + (y-μy)^2 / (2 * σy*σy)))\n",
    "end\n",
    "\n",
    "@everywhere function phase_modulation(t::Float64, β::Float64, ω::Float64)::ComplexF64\n",
    "    return exp(1im*β*sin(ω*t))\n",
    "end\n",
    "\n",
    "@everywhere function multipass_2d_intensity(x::Float64, y::Float64, amplitudes::Vector{Float64}, locations::Vector{Float64}, σx::Float64, σy::Float64)::Float64\n",
    "    intensity::Float64 = 0.0\n",
    "    for i = 1:length(amplitudes::Vector{Float64})\n",
    "        @inbounds intensity += gaussian_2d(x,y,amplitudes[i],locations[i],0.0, σx,σy)\n",
    "    end\n",
    "    return intensity\n",
    "end\n",
    "\n",
    "@everywhere function square_wave(t, ω, ϕ)\n",
    "    0.5.*(1 .+ squarewave(ω.*t .+ ϕ))\n",
    "end\n",
    "\n",
    "const channel = RemoteChannel(()->Channel{Int}(10000))\n",
    "@everywhere const channel = $channel\n",
    "\n",
    "\"\"\")"
   ]
  },
  {
   "cell_type": "markdown",
   "metadata": {},
   "source": [
    "### Setting up the ODE problem to solve\n",
    "`tmp = 0` is just to prevent `Main.eval` from outputting the problem in the notebook.  \n",
    "The ODEProblem takes a function to solve (`Lindblad_rhs!` in this case), initial conditions `ρ_ini`, a timespan `tspan` an additional arguments for the ODE function, denoted here by `p` "
   ]
  },
  {
   "cell_type": "code",
   "execution_count": 26,
   "metadata": {},
   "outputs": [],
   "source": [
    "def multipass_prism_order(passes):\n",
    "    npass = [1]\n",
    "    for p in range(1,passes):\n",
    "        if p%2 == 0:\n",
    "            npass.append(p+1)\n",
    "        else:\n",
    "            npass.append(passes-p)\n",
    "    return npass\n",
    "\n",
    "nr_passes = 15\n",
    "beam_spacing = (1.75*25.4*1e-3)/nr_passes\n",
    "beam_locs = np.array([i*beam_spacing for i in range(nr_passes)]) + 0.005\n",
    "\n",
    "reflections = (np.array(multipass_prism_order(15))-1)\n",
    "loss = 0.17 # reflection loss per pass\n",
    "amplitudes = np.array([(1-loss)**r for r in reflections])"
   ]
  },
  {
   "cell_type": "code",
   "execution_count": 27,
   "metadata": {},
   "outputs": [],
   "source": [
    "odepars = centrex.lindblad.odeParameters(parameters)\n",
    "odepars.ωp = 0\n",
    "odepars.σylaser = 2*5265*1e-6/4\n",
    "odepars.σzlaser = 2642*1e-6/4\n",
    "odepars.y0 = 0\n",
    "odepars.vz = 184\n",
    "odepars.vy = 0\n",
    "odepars.β = 3.8\n",
    "odepars.ωphase = 2*np.pi*1.6e6\n",
    "odepars.μzμ = beam_locs.mean()\n",
    "odepars.σzμ = 25.4e-3/2.355\n",
    "odepars.σyμ = 25.4e-3/2.355\n",
    "\n",
    "odepars.ωpμ12 = 2*np.pi*1e6\n",
    "odepars.ωpμ23 = 2*np.pi*1e6\n",
    "setattr(odepars, dir(odepars)[-1], np.pi/2)\n",
    "\n",
    "odepars.mp_passes = 15\n",
    "odepars.mp_amps = amplitudes\n",
    "odepars.mp_locs = beam_locs"
   ]
  },
  {
   "cell_type": "code",
   "execution_count": 28,
   "metadata": {},
   "outputs": [
    {
     "name": "stdout",
     "output_type": "stream",
     "text": [
      "odeParameters(Ωl: 0.62, δl: 0.00, ωp: 0.00, ϕp: 0.00e+00, y0: 0.00e+00, vy: 0.00e+00, vz: 1.84e+02, σylaser: 2.63e-03, σzlaser: 6.60e-04, β: 3.80e+00, ωphase: 1.03, Ωμ12: 3.74, δμ12: 0.00, ωpμ12: 0.64, ϕpμ12: 0.00e+00, Ωμ23: 0.27, δμ23: 0.00, ωpμ23: 0.64, ϕpμ23: 1.57e+00, μzμ: 2.57e-02, σyμ: 1.08e-02, σzμ: 1.08e-02, mp_passes: 1.50e+01, mp_amps: [1.         0.08871871 0.6889     0.12878314 0.47458321 0.18694026\n",
      " 0.32694037 0.27136051 0.22522922 0.39390406 0.15516041 0.571787\n",
      " 0.10689001 0.83       0.07363653], mp_locs: [0.005      0.00796333 0.01092667 0.01389    0.01685333 0.01981667\n",
      " 0.02278    0.02574333 0.02870667 0.03167    0.03463333 0.03759667\n",
      " 0.04056    0.04352333 0.04648667])\n"
     ]
    }
   ],
   "source": [
    "Ωl = centrex.utils.calculate_rabi_from_power_gaussian_beam(80e-3, \n",
    "                                                           np.abs(couplings[0]['main coupling'].real),\n",
    "                                                           σx = odepars.σzlaser, σy = odepars.σylaser)\n",
    "Ωμ12 = centrex.utils.calculate_rabi_from_power_gaussian_beam_microwave(300e-3, \n",
    "                                                                       np.abs(couplings[1]['main coupling'].real),\n",
    "                                                                       σx = odepars.σzμ, σy = odepars.σyμ\n",
    "                                                                       )\n",
    "Ωμ23 = centrex.utils.calculate_rabi_from_power_gaussian_beam_microwave(300e-3, \n",
    "                                                                       np.abs(couplings[2]['main coupling'].real),\n",
    "                                                                       σx = odepars.σzμ, σy = odepars.σyμ\n",
    "                                                                       )\n",
    "odepars.Ωl = Ωl\n",
    "odepars.Ωμ12 = Ωμ12\n",
    "odepars.Ωμ23 = Ωμ23\n",
    "odepars.generate_p_julia()\n",
    "print(odepars.to_units_Γ(Γ))"
   ]
  },
  {
   "cell_type": "code",
   "execution_count": 29,
   "metadata": {},
   "outputs": [
    {
     "name": "stdout",
     "output_type": "stream",
     "text": [
      "Wall time: 16min 54s\n"
     ]
    }
   ],
   "source": [
    "%%time\n",
    "Main.du = np.zeros(ρ_ini.shape, dtype = complex)\n",
    "Main.eval(\"\"\"\n",
    "@everywhere p = $p\n",
    "@everywhere du = $du\n",
    "@everywhere @time Lindblad_rhs!(du, ρ, p, 0.0);\n",
    "\"\"\");"
   ]
  },
  {
   "cell_type": "code",
   "execution_count": 30,
   "metadata": {},
   "outputs": [
    {
     "name": "stdout",
     "output_type": "stream",
     "text": [
      "Wall time: 468 ms\n"
     ]
    },
    {
     "data": {
      "text/plain": [
       "0"
      ]
     },
     "execution_count": 30,
     "metadata": {},
     "output_type": "execute_result"
    }
   ],
   "source": [
    "%%time\n",
    "Main.eval(f\"\"\"\n",
    "tspan = (0.0, {(4*odepars.σzlaser + odepars.mp_locs[-1])  / odepars.vz})\n",
    "prob = ODEProblem(Lindblad_rhs!,ρ,tspan,p)\n",
    "tmp = 0\n",
    "\"\"\");"
   ]
  },
  {
   "cell_type": "code",
   "execution_count": 31,
   "metadata": {},
   "outputs": [
    {
     "name": "stdout",
     "output_type": "stream",
     "text": [
      "Wall time: 32.1 s\n"
     ]
    },
    {
     "data": {
      "text/plain": [
       "0"
      ]
     },
     "execution_count": 31,
     "metadata": {},
     "output_type": "execute_result"
    }
   ],
   "source": [
    "%%time\n",
    "Main.eval(\"\"\"\n",
    "@time sol = solve(prob, Tsit5(), abstol = 1e-7, reltol = 1e-4, progress = false);\n",
    "tmp = 0\n",
    "\"\"\");"
   ]
  },
  {
   "cell_type": "code",
   "execution_count": 32,
   "metadata": {},
   "outputs": [],
   "source": [
    "ut = np.array(Main.eval(\"sol[:]\")).T\n",
    "pop_results = np.real(np.einsum('jji->ji',ut.reshape((ρ_ini.shape[0], ρ_ini.shape[1], ut.shape[2]))))\n",
    "t_array = Main.eval(\"sol.t\")"
   ]
  },
  {
   "cell_type": "code",
   "execution_count": 33,
   "metadata": {},
   "outputs": [
    {
     "data": {
      "image/png": "[encoded data removed]",
      "text/plain": [
       "<Figure size 576x360 with 1 Axes>"
      ]
     },
     "metadata": {
      "needs_background": "light"
     },
     "output_type": "display_data"
    }
   ],
   "source": [
    "fig, ax = plt.subplots(figsize = (8,5))\n",
    "\n",
    "for idx, pop in enumerate(pop_results):\n",
    "    ls = '-'\n",
    "    if idx in range(0,len(pop_results)):\n",
    "        s = QN[idx].find_largest_component()\n",
    "        if s.F is None:\n",
    "            label = f'{s.electronic_state}, J={s.J}'\n",
    "        else:\n",
    "            label = f'{s.electronic_state}, J={s.J}, F={s.F:.0f}, F1={s.F1}, mF={s.mF:+.0f}'\n",
    "        ax.plot(t_array*1e6, pop, lw = 2, label = label, ls = ls)\n",
    "#         ax.plot(t_array, pop, lw = 2, label = f\"ρ$_{{{idx},{idx}}}$\", ls = ls)\n",
    "\n",
    "ax.set_xlabel('time [μs]')\n",
    "ax.set_ylabel('population')\n",
    "# ax.legend(fontsize = 14)\n",
    "set_fontsize(ax, 14)"
   ]
  },
  {
   "cell_type": "code",
   "execution_count": 34,
   "metadata": {},
   "outputs": [
    {
     "data": {
      "text/plain": [
       "22.656706244934412"
      ]
     },
     "execution_count": 34,
     "metadata": {},
     "output_type": "execute_result"
    }
   ],
   "source": [
    "pop_results[0,:][-1]/pop_results[0,:][0]"
   ]
  },
  {
   "cell_type": "code",
   "execution_count": 35,
   "metadata": {},
   "outputs": [
    {
     "data": {
      "image/png": "[encoded data removed]",
      "text/plain": [
       "<Figure size 576x360 with 1 Axes>"
      ]
     },
     "metadata": {
      "needs_background": "light"
     },
     "output_type": "display_data"
    }
   ],
   "source": [
    "fig, ax = plt.subplots(figsize = (8,5))\n",
    "\n",
    "for idx, pop in enumerate(pop_results):\n",
    "    ls = '-'\n",
    "    if idx >= H_symbolic.shape[0] - len(excited_states):\n",
    "        s = QN[idx].find_largest_component()\n",
    "        label = f'{s.electronic_state}, J={s.J}, F={s.F:.0f}, F1={s.F1}, mF={s.mF:+.0f}'\n",
    "        ax.plot(t_array*1e6, pop, lw = 2, label = label, ls = ls)\n",
    "#         ax.plot(t_array*1e6, pop, lw = 2, label = f\"ρ$_{{{idx},{idx}}}$\", ls = ls)\n",
    "\n",
    "ax.set_xlabel('time [μs]')\n",
    "ax.set_ylabel('population')\n",
    "ax.legend(fontsize = 14)\n",
    "set_fontsize(ax, 14)"
   ]
  },
  {
   "cell_type": "code",
   "execution_count": 36,
   "metadata": {},
   "outputs": [
    {
     "name": "stdout",
     "output_type": "stream",
     "text": [
      "8.78\n"
     ]
    }
   ],
   "source": [
    "_ = pop_results[centrex.utils.J_slice(0),[0,-1]].sum(axis = 0)\n",
    "print(f\"{_[-1]/_[0]:.2f}\")"
   ]
  },
  {
   "cell_type": "code",
   "execution_count": 37,
   "metadata": {},
   "outputs": [
    {
     "name": "stdout",
     "output_type": "stream",
     "text": [
      "17.59 %\n"
     ]
    }
   ],
   "source": [
    "_ = pop_results[centrex.utils.J_slice(1),[0,-1]].sum(axis = 0)\n",
    "print(f\"{100*_[-1]/_[0]:.2f} %\")"
   ]
  },
  {
   "cell_type": "code",
   "execution_count": 38,
   "metadata": {},
   "outputs": [
    {
     "name": "stdout",
     "output_type": "stream",
     "text": [
      "21.61 %\n"
     ]
    }
   ],
   "source": [
    "_ = pop_results[centrex.utils.J_slice(2),[0,-1]].sum(axis = 0)\n",
    "print(f\"{100*_[-1]/_[0]:.2f} %\")"
   ]
  },
  {
   "cell_type": "code",
   "execution_count": 39,
   "metadata": {},
   "outputs": [
    {
     "name": "stdout",
     "output_type": "stream",
     "text": [
      "30.09 %\n"
     ]
    }
   ],
   "source": [
    "_ = pop_results[centrex.utils.J_slice(3),[0,-1]].sum(axis = 0)\n",
    "print(f\"{100*_[-1]/_[0]:.2f} %\")"
   ]
  },
  {
   "cell_type": "markdown",
   "metadata": {},
   "source": [
    "## Trajectory simulations"
   ]
  },
  {
   "cell_type": "code",
   "execution_count": 40,
   "metadata": {},
   "outputs": [],
   "source": [
    "data_dir = Path('.').absolute()\n",
    "fname = 'trajectories.npy'\n",
    "_, y0s, _, vxs, vys, vzs = np.load(data_dir / fname)"
   ]
  },
  {
   "cell_type": "code",
   "execution_count": 41,
   "metadata": {},
   "outputs": [],
   "source": [
    "# new y0 positions 1\" in front of LIF laser\n",
    "in_to_m = 25.4e-3\n",
    "distance_laser_rc = 21.75 * in_to_m - 0.01\n",
    "distance_laser_lif = 38.30 * in_to_m - 0.01\n",
    "y0s_start = (distance_laser_rc - 1*in_to_m)/vzs * vys + y0s\n",
    "\n",
    "# 1 m/s equals 2.32 Γ detuning\n",
    "δls = vxs * 2.32 * Γ"
   ]
  },
  {
   "cell_type": "code",
   "execution_count": 42,
   "metadata": {},
   "outputs": [],
   "source": [
    "params = np.stack([δls, y0s_start, vys, vzs])\n",
    "Main.params = params\n",
    "Main.eval(\"@everywhere params = $params\")"
   ]
  },
  {
   "cell_type": "code",
   "execution_count": 43,
   "metadata": {},
   "outputs": [],
   "source": [
    "Main.eval(\"\"\"\n",
    "@everywhere condition(u,t,integrator) = integrator.p[7]*t > 0.05\n",
    "@everywhere affect!(integrator) = terminate!(\n",
    "integrator)\n",
    "cb = DiscreteCallback(condition, affect!)\n",
    "\"\"\");"
   ]
  },
  {
   "cell_type": "code",
   "execution_count": 44,
   "metadata": {},
   "outputs": [
    {
     "name": "stdout",
     "output_type": "stream",
     "text": [
      "odeParameters(Ωl: 0.62, δl: 0.00, ωp: 0.00, ϕp: 0.00e+00, y0: 0.00e+00, vy: 0.00e+00, vz: 1.84e+02, σylaser: 2.63e-03, σzlaser: 6.60e-04, β: 3.80e+00, ωphase: 1.03, Ωμ12: 3.74, δμ12: 0.00, ωpμ12: 0.64, ϕpμ12: 0.00e+00, Ωμ23: 0.27, δμ23: 0.00, ωpμ23: 0.64, ϕpμ23: 1.57e+00, μzμ: 2.57e-02, σyμ: 1.08e-02, σzμ: 1.08e-02, mp_passes: 1.50e+01, mp_amps: [1.         0.08871871 0.6889     0.12878314 0.47458321 0.18694026\n",
      " 0.32694037 0.27136051 0.22522922 0.39390406 0.15516041 0.571787\n",
      " 0.10689001 0.83       0.07363653], mp_locs: [0.005      0.00796333 0.01092667 0.01389    0.01685333 0.01981667\n",
      " 0.02278    0.02574333 0.02870667 0.03167    0.03463333 0.03759667\n",
      " 0.04056    0.04352333 0.04648667])\n"
     ]
    }
   ],
   "source": [
    "odepars.generate_p_julia()\n",
    "print(odepars.to_units_Γ(Γ))\n",
    "Main.eval(\"@everywhere p = $p\");"
   ]
  },
  {
   "cell_type": "code",
   "execution_count": 45,
   "metadata": {},
   "outputs": [],
   "source": [
    "Main.eval(f\"\"\"\n",
    "@everywhere function prob_func_prerc(prob,i,repeat)\n",
    "    remake(prob,p=[{odepars.Ωl}; params[1,i]; {odepars.ωp}; 0; params[2,i]; params[3,i];\n",
    "                    params[4,i]; {odepars.σylaser}; {odepars.σzlaser}; {odepars.β};\n",
    "                    {odepars.ωphase};\n",
    "                    {odepars.Ωμ12}; {odepars.δμ12}; {odepars.ωpμ12}; {getattr(odepars, dir(odepars)[-2])};\n",
    "                    {odepars.Ωμ23}; {odepars.δμ23}; {odepars.ωpμ23}; {getattr(odepars, dir(odepars)[-1])};\n",
    "                    {odepars.μzμ}; {odepars.σyμ}; {odepars.σzμ}; {odepars.mp_passes}; p[24:end]])\n",
    "end\n",
    "\"\"\")"
   ]
  },
  {
   "cell_type": "code",
   "execution_count": 46,
   "metadata": {},
   "outputs": [],
   "source": [
    "Main.eval(\"\"\"\n",
    "@everywhere function output_func(sol,i)\n",
    "    put!(channel, 1)\n",
    "    return real(diag(sol.u[end])), false\n",
    "end\n",
    "\"\"\")\n",
    "\n",
    "# setup progress bar\n",
    "Main.n_trajectories = params.shape[-1]\n",
    "Main.eval(f\"\"\"\n",
    "using ProgressMeter\n",
    "progress = Progress(n_trajectories, showspeed = true)\n",
    "\"\"\");"
   ]
  },
  {
   "cell_type": "code",
   "execution_count": 47,
   "metadata": {},
   "outputs": [],
   "source": [
    "# setting up the EnsembleProblem with the earlier defined ODEProblem\n",
    "Main.eval(\"\"\"\n",
    "ens_prob = EnsembleProblem(prob, prob_func = prob_func_prerc, output_func = output_func);\n",
    "\"\"\");"
   ]
  },
  {
   "cell_type": "code",
   "execution_count": 48,
   "metadata": {},
   "outputs": [],
   "source": [
    "Main.eval(f\"\"\"\n",
    "open(\"{fname_counter}\", \"w\") do io\n",
    "    print(io, 0)\n",
    "end\n",
    "\"\"\")"
   ]
  },
  {
   "cell_type": "code",
   "execution_count": 49,
   "metadata": {},
   "outputs": [],
   "source": [
    "from discord_progress import start_ensemble_with_progressbar"
   ]
  },
  {
   "cell_type": "code",
   "execution_count": 50,
   "metadata": {},
   "outputs": [
    {
     "name": "stdout",
     "output_type": "stream",
     "text": [
      "Wall time: 3h 31min 38s\n"
     ]
    }
   ],
   "source": [
    "%%time \n",
    "start_ensemble_with_progressbar(Main.n_trajectories, f'RC P2 F1 {loss*100:.1f}% loss', webhook_url, fname_counter, \"ens_prob\",\n",
    "                                save_everystep = False)"
   ]
  },
  {
   "cell_type": "code",
   "execution_count": 51,
   "metadata": {},
   "outputs": [],
   "source": [
    "results = np.array(Main.eval(\"sim.u\"))\n",
    "gain_F0 = results[:,0]/np.diag(ρ_ini.real)[0]"
   ]
  },
  {
   "cell_type": "code",
   "execution_count": 52,
   "metadata": {},
   "outputs": [
    {
     "name": "stdout",
     "output_type": "stream",
     "text": [
      "18.67716085899591\n"
     ]
    },
    {
     "data": {
      "image/png": "[encoded data removed]",
      "text/plain": [
       "<Figure size 576x432 with 2 Axes>"
      ]
     },
     "metadata": {
      "needs_background": "light"
     },
     "output_type": "display_data"
    }
   ],
   "source": [
    "xbins = np.linspace(-13, 13, 27)\n",
    "ybins = np.linspace(110, 260, 16)\n",
    "\n",
    "from scipy.stats import norm, binned_statistic_2d\n",
    "\n",
    "x = params[0,:]/Γ * 1.6\n",
    "y = params[3,:]\n",
    "z = gain_F0\n",
    "stat, x_edge, y_edge, bin_number = binned_statistic_2d(x,y,values = z, statistic = 'mean', bins = [xbins, ybins])\n",
    "X, Y = np.meshgrid(x_edge,y_edge)\n",
    "            \n",
    "fig, ax = plt.subplots(figsize = (8,6))\n",
    "cs = ax.pcolormesh(X, Y, stat.T)\n",
    "\n",
    "cbar = fig.colorbar(cs)\n",
    "\n",
    "\n",
    "ax.set_xlabel('δl [MHz]')\n",
    "ax.set_ylabel(r'vz [m/s]')\n",
    "cbar.ax.set_ylabel('gain F=0')\n",
    "set_fontsize(ax, 14)\n",
    "set_fontsize(cbar.ax, 14)\n",
    "\n",
    "print(np.mean(gain_F0))"
   ]
  },
  {
   "cell_type": "code",
   "execution_count": 53,
   "metadata": {},
   "outputs": [
    {
     "data": {
      "image/png": "[encoded data removed]",
      "text/plain": [
       "<Figure size 576x432 with 2 Axes>"
      ]
     },
     "metadata": {
      "needs_background": "light"
     },
     "output_type": "display_data"
    }
   ],
   "source": [
    "xbins = np.linspace(-13, 13, 27)\n",
    "ybins = np.linspace(y0s.min(), y0s.max(),27)\n",
    "\n",
    "from scipy.stats import norm, binned_statistic_2d\n",
    "\n",
    "x = params[0,:]/Γ * 1.6\n",
    "y = params[1,:]\n",
    "z = gain_F0\n",
    "stat, x_edge, y_edge, bin_number = binned_statistic_2d(x,y,values = z, statistic = 'mean', bins = [xbins, ybins])\n",
    "X, Y = np.meshgrid(x_edge,y_edge)\n",
    "            \n",
    "fig, ax = plt.subplots(figsize = (8,6))\n",
    "cs = ax.pcolormesh(X, Y, stat.T)\n",
    "\n",
    "cbar = fig.colorbar(cs)\n",
    "\n",
    "\n",
    "ax.set_xlabel('δl [MHz]')\n",
    "ax.set_ylabel(r'y [m]')\n",
    "cbar.ax.set_ylabel('gain F=0')\n",
    "set_fontsize(ax, 14)\n",
    "set_fontsize(cbar.ax, 14)"
   ]
  },
  {
   "cell_type": "code",
   "execution_count": 54,
   "metadata": {},
   "outputs": [
    {
     "data": {
      "image/png": "[encoded data removed]",
      "text/plain": [
       "<Figure size 576x360 with 1 Axes>"
      ]
     },
     "metadata": {
      "needs_background": "light"
     },
     "output_type": "display_data"
    }
   ],
   "source": [
    "fig, ax = plt.subplots(figsize = (8,5))\n",
    "ax.hist(gain_F0, bins = 25);\n",
    "ax.set_xlabel(\"gain F=0\")\n",
    "ax.set_ylabel('counts [#]')\n",
    "set_fontsize(ax, 14)"
   ]
  },
  {
   "cell_type": "code",
   "execution_count": 55,
   "metadata": {},
   "outputs": [],
   "source": [
    "results_array = []\n",
    "for i in range(params.shape[1]):\n",
    "    i += 1\n",
    "    _ = Main.eval(f\"\"\"\n",
    "        [{odepars.Ωl}; params[1,{i}]; {odepars.ωp}; 0; params[2,{i}]; params[3,{i}];\n",
    "        params[4,{i}]; {odepars.σylaser}; {odepars.σzlaser}; {odepars.β}; {odepars.ωphase};\n",
    "        {odepars.Ωμ12}; {odepars.δμ12}; {odepars.ωpμ12}; {getattr(odepars, dir(odepars)[-2])};\n",
    "        {odepars.Ωμ23}; {odepars.δμ23}; {odepars.ωpμ23}; {getattr(odepars, dir(odepars)[-1])};\n",
    "        {odepars.μzμ}; {odepars.σyμ}; {odepars.σzμ}; {odepars.mp_passes}; p[24:end]]\n",
    "    \"\"\")\n",
    "    _ = np.append(_, results[i-1])\n",
    "    results_array.append(_)\n",
    "results_array = np.asarray(results_array)"
   ]
  },
  {
   "cell_type": "code",
   "execution_count": 56,
   "metadata": {},
   "outputs": [],
   "source": [
    "fname_results = \"P2F1_RC_cooling_17pc_mploss\"\n",
    "np.save(fname_results, results_array)"
   ]
  },
  {
   "cell_type": "markdown",
   "metadata": {},
   "source": [
    "## 10% loss per pass"
   ]
  },
  {
   "cell_type": "code",
   "execution_count": 57,
   "metadata": {},
   "outputs": [],
   "source": [
    "reflections = (np.array(multipass_prism_order(15))-1)\n",
    "loss = 0.1 # reflection loss per pass\n",
    "amplitudes = np.array([(1-loss)**r for r in reflections])"
   ]
  },
  {
   "cell_type": "code",
   "execution_count": 61,
   "metadata": {},
   "outputs": [],
   "source": [
    "odepars = centrex.lindblad.odeParameters(parameters)\n",
    "odepars.ωp = 0\n",
    "odepars.σylaser = 2*5265*1e-6/4\n",
    "odepars.σzlaser = 2642*1e-6/4\n",
    "odepars.y0 = 0\n",
    "odepars.vz = 184\n",
    "odepars.vy = 0\n",
    "odepars.β = 3.8\n",
    "odepars.ωphase = 2*np.pi*1.6e6\n",
    "odepars.μzμ = beam_locs.mean()\n",
    "odepars.σzμ = 25.4e-3/2.355\n",
    "odepars.σyμ = 25.4e-3/2.355\n",
    "\n",
    "odepars.ωpμ12 = 2*np.pi*1e6\n",
    "odepars.ωpμ23 = 2*np.pi*1e6\n",
    "setattr(odepars, dir(odepars)[-1], np.pi/2)\n",
    "\n",
    "odepars.mp_passes = 15\n",
    "odepars.mp_amps = amplitudes\n",
    "odepars.mp_locs = beam_locs\n",
    "\n",
    "Ωl = centrex.utils.calculate_rabi_from_power_gaussian_beam(80e-3, \n",
    "                                                           np.abs(couplings[0]['main coupling'].real),\n",
    "                                                           σx = odepars.σzlaser, σy = odepars.σylaser)\n",
    "Ωμ12 = centrex.utils.calculate_rabi_from_power_gaussian_beam_microwave(300e-3, \n",
    "                                                                       np.abs(couplings[1]['main coupling'].real),\n",
    "                                                                       σx = odepars.σzμ, σy = odepars.σyμ\n",
    "                                                                       )\n",
    "Ωμ23 = centrex.utils.calculate_rabi_from_power_gaussian_beam_microwave(300e-3, \n",
    "                                                                       np.abs(couplings[2]['main coupling'].real),\n",
    "                                                                       σx = odepars.σzμ, σy = odepars.σyμ\n",
    "                                                                       )\n",
    "odepars.Ωl = Ωl\n",
    "odepars.Ωμ12 = Ωμ12\n",
    "odepars.Ωμ23 = Ωμ23"
   ]
  },
  {
   "cell_type": "code",
   "execution_count": 62,
   "metadata": {},
   "outputs": [
    {
     "name": "stdout",
     "output_type": "stream",
     "text": [
      "odeParameters(Ωl: 0.62, δl: 0.00, ωp: 0.00, ϕp: 0.00e+00, y0: 0.00e+00, vy: 0.00e+00, vz: 1.84e+02, σylaser: 2.63e-03, σzlaser: 6.60e-04, β: 3.80e+00, ωphase: 1.03, Ωμ12: 3.74, δμ12: 0.00, ωpμ12: 0.64, ϕpμ12: 0.00e+00, Ωμ23: 0.27, δμ23: 0.00, ωpμ23: 0.64, ϕpμ23: 1.57e+00, μzμ: 2.57e-02, σyμ: 1.08e-02, σzμ: 1.08e-02, mp_passes: 1.50e+01, mp_amps: [1.         0.25418658 0.81       0.3138106  0.6561     0.38742049\n",
      " 0.531441   0.4782969  0.43046721 0.59049    0.34867844 0.729\n",
      " 0.28242954 0.9        0.22876792], mp_locs: [0.005      0.00796333 0.01092667 0.01389    0.01685333 0.01981667\n",
      " 0.02278    0.02574333 0.02870667 0.03167    0.03463333 0.03759667\n",
      " 0.04056    0.04352333 0.04648667])\n"
     ]
    }
   ],
   "source": [
    "odepars.generate_p_julia()\n",
    "print(odepars.to_units_Γ(Γ))\n",
    "Main.eval(\"@everywhere p = $p\")"
   ]
  },
  {
   "cell_type": "code",
   "execution_count": 63,
   "metadata": {},
   "outputs": [],
   "source": [
    "# setup progress bar\n",
    "Main.eval(f\"\"\"\n",
    "progress = Progress(n_trajectories, showspeed = true)\n",
    "ens_prob = EnsembleProblem(prob, prob_func = prob_func_prerc, output_func = output_func);\n",
    "\n",
    "open(\"{fname_counter}\", \"w\") do io\n",
    "    print(io, 0)\n",
    "end\n",
    "\"\"\");"
   ]
  },
  {
   "cell_type": "code",
   "execution_count": 64,
   "metadata": {},
   "outputs": [
    {
     "name": "stdout",
     "output_type": "stream",
     "text": [
      "Wall time: 3h 14min 3s\n"
     ]
    }
   ],
   "source": [
    "%%time \n",
    "start_ensemble_with_progressbar(Main.n_trajectories, f'RC P2 F1 {loss*100:.1f}% loss', webhook_url, fname_counter, \"ens_prob\",\n",
    "                                save_everystep = False)"
   ]
  },
  {
   "cell_type": "code",
   "execution_count": 65,
   "metadata": {},
   "outputs": [],
   "source": [
    "results = np.array(Main.eval(\"sim.u\"))\n",
    "gain_F0 = results[:,0]/np.diag(ρ_ini.real)[0]"
   ]
  },
  {
   "cell_type": "code",
   "execution_count": 66,
   "metadata": {},
   "outputs": [
    {
     "name": "stdout",
     "output_type": "stream",
     "text": [
      "23.09303227897933\n"
     ]
    },
    {
     "data": {
      "image/png": "[encoded data removed]",
      "text/plain": [
       "<Figure size 576x432 with 2 Axes>"
      ]
     },
     "metadata": {
      "needs_background": "light"
     },
     "output_type": "display_data"
    }
   ],
   "source": [
    "xbins = np.linspace(-13, 13, 27)\n",
    "ybins = np.linspace(110, 260, 16)\n",
    "\n",
    "from scipy.stats import norm, binned_statistic_2d\n",
    "\n",
    "x = params[0,:]/Γ * 1.6\n",
    "y = params[3,:]\n",
    "z = gain_F0\n",
    "stat, x_edge, y_edge, bin_number = binned_statistic_2d(x,y,values = z, statistic = 'mean', bins = [xbins, ybins])\n",
    "X, Y = np.meshgrid(x_edge,y_edge)\n",
    "            \n",
    "fig, ax = plt.subplots(figsize = (8,6))\n",
    "cs = ax.pcolormesh(X, Y, stat.T)\n",
    "\n",
    "cbar = fig.colorbar(cs)\n",
    "\n",
    "\n",
    "ax.set_xlabel('δl [MHz]')\n",
    "ax.set_ylabel(r'vz [m/s]')\n",
    "cbar.ax.set_ylabel('gain F=0')\n",
    "set_fontsize(ax, 14)\n",
    "set_fontsize(cbar.ax, 14)\n",
    "\n",
    "print(np.mean(gain_F0))"
   ]
  },
  {
   "cell_type": "code",
   "execution_count": 67,
   "metadata": {},
   "outputs": [
    {
     "data": {
      "image/png": "[encoded data removed]",
      "text/plain": [
       "<Figure size 576x432 with 2 Axes>"
      ]
     },
     "metadata": {
      "needs_background": "light"
     },
     "output_type": "display_data"
    }
   ],
   "source": [
    "xbins = np.linspace(-13, 13, 27)\n",
    "ybins = np.linspace(y0s.min(), y0s.max(),27)\n",
    "\n",
    "from scipy.stats import norm, binned_statistic_2d\n",
    "\n",
    "x = params[0,:]/Γ * 1.6\n",
    "y = params[1,:]\n",
    "z = gain_F0\n",
    "stat, x_edge, y_edge, bin_number = binned_statistic_2d(x,y,values = z, statistic = 'mean', bins = [xbins, ybins])\n",
    "X, Y = np.meshgrid(x_edge,y_edge)\n",
    "            \n",
    "fig, ax = plt.subplots(figsize = (8,6))\n",
    "cs = ax.pcolormesh(X, Y, stat.T)\n",
    "\n",
    "cbar = fig.colorbar(cs)\n",
    "\n",
    "\n",
    "ax.set_xlabel('δl [MHz]')\n",
    "ax.set_ylabel(r'y [m]')\n",
    "cbar.ax.set_ylabel('gain F=0')\n",
    "set_fontsize(ax, 14)\n",
    "set_fontsize(cbar.ax, 14)"
   ]
  },
  {
   "cell_type": "code",
   "execution_count": 68,
   "metadata": {},
   "outputs": [
    {
     "data": {
      "image/png": "[encoded data removed]",
      "text/plain": [
       "<Figure size 576x360 with 1 Axes>"
      ]
     },
     "metadata": {
      "needs_background": "light"
     },
     "output_type": "display_data"
    }
   ],
   "source": [
    "fig, ax = plt.subplots(figsize = (8,5))\n",
    "ax.hist(gain_F0, bins = 25);\n",
    "ax.set_xlabel(\"gain F=0\")\n",
    "ax.set_ylabel('counts [#]')\n",
    "set_fontsize(ax, 14)"
   ]
  },
  {
   "cell_type": "code",
   "execution_count": 69,
   "metadata": {},
   "outputs": [],
   "source": [
    "results_array = []\n",
    "for i in range(params.shape[1]):\n",
    "    i += 1\n",
    "    _ = Main.eval(f\"\"\"\n",
    "        [{odepars.Ωl}; params[1,{i}]; {odepars.ωp}; 0; params[2,{i}]; params[3,{i}];\n",
    "        params[4,{i}]; {odepars.σylaser}; {odepars.σzlaser}; {odepars.β}; {odepars.ωphase};\n",
    "        {odepars.Ωμ12}; {odepars.δμ12}; {odepars.ωpμ12}; {getattr(odepars, dir(odepars)[-2])};\n",
    "        {odepars.Ωμ23}; {odepars.δμ23}; {odepars.ωpμ23}; {getattr(odepars, dir(odepars)[-1])};\n",
    "        {odepars.μzμ}; {odepars.σyμ}; {odepars.σzμ}; {odepars.mp_passes}; p[24:end]]\n",
    "    \"\"\")\n",
    "    _ = np.append(_, results[i-1])\n",
    "    results_array.append(_)\n",
    "results_array = np.asarray(results_array)"
   ]
  },
  {
   "cell_type": "code",
   "execution_count": 70,
   "metadata": {},
   "outputs": [],
   "source": [
    "fname_results = \"P2F1_RC_cooling_10pc_mploss\"\n",
    "np.save(fname_results, results_array)"
   ]
  },
  {
   "cell_type": "markdown",
   "metadata": {},
   "source": [
    "## Try multiple losses"
   ]
  },
  {
   "cell_type": "code",
   "execution_count": 82,
   "metadata": {},
   "outputs": [
    {
     "name": "stdout",
     "output_type": "stream",
     "text": [
      "12.0% loss per pass -> 21.75\n",
      "14.0% loss per pass -> 20.46\n",
      "16.0% loss per pass -> 19.25\n"
     ]
    },
    {
     "data": {
      "image/png": "[encoded data removed]",
      "text/plain": [
       "<Figure size 576x432 with 2 Axes>"
      ]
     },
     "metadata": {
      "needs_background": "light"
     },
     "output_type": "display_data"
    },
    {
     "data": {
      "image/png": "[encoded data removed]",
      "text/plain": [
       "<Figure size 576x432 with 2 Axes>"
      ]
     },
     "metadata": {
      "needs_background": "light"
     },
     "output_type": "display_data"
    },
    {
     "data": {
      "image/png": "[encoded data removed]",
      "text/plain": [
       "<Figure size 576x432 with 2 Axes>"
      ]
     },
     "metadata": {
      "needs_background": "light"
     },
     "output_type": "display_data"
    }
   ],
   "source": [
    "# loss per pass\n",
    "for loss in np.arange(0.12, 0.18, 0.02):\n",
    "    reflections = (np.array(multipass_prism_order(15))-1)\n",
    "    amplitudes = np.array([(1-loss)**r for r in reflections])\n",
    "    \n",
    "    odepars.mp_amps = amplitudes\n",
    "    \n",
    "    odepars.generate_p_julia()\n",
    "    Main.eval(\"@everywhere p = $p\")\n",
    "    \n",
    "    Main.eval(f\"\"\"\n",
    "    ens_prob = EnsembleProblem(prob, prob_func = prob_func_prerc, output_func = output_func);\n",
    "\n",
    "    open(\"{fname_counter}\", \"w\") do io\n",
    "        print(io, 0)\n",
    "    end\n",
    "    \"\"\");\n",
    "    \n",
    "    start_ensemble_with_progressbar(Main.n_trajectories, f'RC P2 F1 {loss*100:.1f}% loss status', webhook_url, fname_counter, \"ens_prob\",\n",
    "                                    save_everystep = False)\n",
    "    \n",
    "    \n",
    "    results = np.array(Main.eval(\"sim.u\"))\n",
    "    gain_F0 = results[:,0]/np.diag(ρ_ini.real)[0]\n",
    "    \n",
    "    xbins = np.linspace(-13, 13, 27)\n",
    "    ybins = np.linspace(110, 260, 16)\n",
    "\n",
    "    x = params[0,:]/Γ * 1.6\n",
    "    y = params[3,:]\n",
    "    z = gain_F0\n",
    "    stat, x_edge, y_edge, bin_number = binned_statistic_2d(x,y,values = z, statistic = 'mean', bins = [xbins, ybins])\n",
    "    X, Y = np.meshgrid(x_edge,y_edge)\n",
    "\n",
    "    fig, ax = plt.subplots(figsize = (8,6))\n",
    "    cs = ax.pcolormesh(X, Y, stat.T)\n",
    "\n",
    "    cbar = fig.colorbar(cs)\n",
    "\n",
    "\n",
    "    ax.set_xlabel('δl [MHz]')\n",
    "    ax.set_ylabel(r'vz [m/s]')\n",
    "    cbar.ax.set_ylabel('gain F=0')\n",
    "    set_fontsize(ax, 14)\n",
    "    set_fontsize(cbar.ax, 14)\n",
    "\n",
    "    print(f\"{loss*100:.1f}% loss per pass -> {np.mean(gain_F0):.2f}\")\n",
    "    \n",
    "    results_array = []\n",
    "    for i in range(params.shape[1]):\n",
    "        i += 1\n",
    "        _ = Main.eval(f\"\"\"\n",
    "            [{odepars.Ωl}; params[1,{i}]; {odepars.ωp}; 0; params[2,{i}]; params[3,{i}];\n",
    "            params[4,{i}]; {odepars.σylaser}; {odepars.σzlaser}; {odepars.β}; {odepars.ωphase};\n",
    "            {odepars.Ωμ12}; {odepars.δμ12}; {odepars.ωpμ12}; {getattr(odepars, dir(odepars)[-2])};\n",
    "            {odepars.Ωμ23}; {odepars.δμ23}; {odepars.ωpμ23}; {getattr(odepars, dir(odepars)[-1])};\n",
    "            {odepars.μzμ}; {odepars.σyμ}; {odepars.σzμ}; {odepars.mp_passes}; p[24:end]]\n",
    "        \"\"\")\n",
    "        _ = np.append(_, results[i-1])\n",
    "        results_array.append(_)\n",
    "    results_array = np.asarray(results_array)\n",
    "    \n",
    "    fname_results = f\"P2F1_RC_cooling_{np.ceil(loss*100):.0f}pc_mploss\"\n",
    "    np.save(fname_results, results_array)"
   ]
  },
  {
   "cell_type": "code",
   "execution_count": 93,
   "metadata": {},
   "outputs": [
    {
     "name": "stdout",
     "output_type": "stream",
     "text": [
      "F=0 gain for 10% loss/pass -> 23.09\n",
      "F=1 gain for 10% loss/pass -> 4.22\n",
      "R0 F1 gain for 10% loss/pass -> 8.94\n",
      "==================================================\n",
      "F=0 gain for 12% loss/pass -> 21.75\n",
      "F=1 gain for 12% loss/pass -> 4.03\n",
      "R0 F1 gain for 12% loss/pass -> 8.46\n",
      "==================================================\n",
      "F=0 gain for 14% loss/pass -> 20.46\n",
      "F=1 gain for 14% loss/pass -> 3.84\n",
      "R0 F1 gain for 14% loss/pass -> 7.99\n",
      "==================================================\n",
      "F=0 gain for 16% loss/pass -> 19.25\n",
      "F=1 gain for 16% loss/pass -> 3.66\n",
      "R0 F1 gain for 16% loss/pass -> 7.56\n",
      "==================================================\n",
      "F=0 gain for 17% loss/pass -> 18.68\n",
      "F=1 gain for 17% loss/pass -> 3.58\n",
      "R0 F1 gain for 17% loss/pass -> 7.35\n",
      "==================================================\n"
     ]
    }
   ],
   "source": [
    "for fn in [f'P2F1_RC_cooling_{i}pc_mploss.npy' for i in [10,12,14,16,17]]:\n",
    "    values = np.load(fn)\n",
    "    F0 = values[:,-67:][:,0]\n",
    "    F1 = values[:,-67:][:,1:4].sum(axis = 1)\n",
    "    F01 = values[:,-67:][:,:4].sum(axis = 1)\n",
    "    \n",
    "    gF0 = F0.mean()/np.diag(ρ_ini.real)[0]\n",
    "    gF1 = F1.mean()/np.diag(ρ_ini.real)[1:4].sum()\n",
    "    gF01 = F01.mean()/np.diag(ρ_ini.real)[:4].sum()\n",
    "    pc = int(fn.split('_')[3].strip('pc'))\n",
    "    print(f\"F=0 gain for {pc}% loss/pass -> {gF0:.2f}\")\n",
    "    print(f\"F=1 gain for {pc}% loss/pass -> {gF1:.2f}\")\n",
    "    print(f'R0 F1 gain for {pc}% loss/pass -> {gF01:.2f}')\n",
    "    print(\"=\"*50)"
   ]
  },
  {
   "cell_type": "markdown",
   "metadata": {},
   "source": [
    "## Laser Power Scan"
   ]
  },
  {
   "cell_type": "code",
   "execution_count": 102,
   "metadata": {},
   "outputs": [],
   "source": [
    "Ωls = [centrex.utils.calculate_rabi_from_power_gaussian_beam(Ωli, \n",
    "                                                           np.abs(couplings[0]['main coupling'].real),\n",
    "                                                           σx = odepars.σzlaser, σy = odepars.σylaser)\n",
    "       for Ωli in [200e-3, 300e-3, 400e-3, 500e-3]]\n",
    "\n",
    "loss = 0.14\n",
    "reflections = (np.array(multipass_prism_order(15))-1)\n",
    "amplitudes = np.array([(1-loss)**r for r in reflections])\n",
    "\n",
    "odepars.mp_amps = amplitudes"
   ]
  },
  {
   "cell_type": "code",
   "execution_count": 117,
   "metadata": {},
   "outputs": [],
   "source": [
    "Main.n_trajectories = 2173"
   ]
  },
  {
   "cell_type": "code",
   "execution_count": 118,
   "metadata": {},
   "outputs": [
    {
     "name": "stdout",
     "output_type": "stream",
     "text": [
      "200 mW -> 25.72\n",
      "300 mW -> 27.12\n",
      "400 mW -> 27.82\n",
      "500 mW -> 28.22\n"
     ]
    },
    {
     "data": {
      "image/png": "[encoded data removed]",
      "text/plain": [
       "<Figure size 576x432 with 2 Axes>"
      ]
     },
     "metadata": {
      "needs_background": "light"
     },
     "output_type": "display_data"
    },
    {
     "data": {
      "image/png": "[encoded data removed]",
      "text/plain": [
       "<Figure size 576x432 with 2 Axes>"
      ]
     },
     "metadata": {
      "needs_background": "light"
     },
     "output_type": "display_data"
    },
    {
     "data": {
      "image/png": "[encoded data removed]",
      "text/plain": [
       "<Figure size 576x432 with 2 Axes>"
      ]
     },
     "metadata": {
      "needs_background": "light"
     },
     "output_type": "display_data"
    },
    {
     "data": {
      "image/png": "[encoded data removed]",
      "text/plain": [
       "<Figure size 576x432 with 2 Axes>"
      ]
     },
     "metadata": {
      "needs_background": "light"
     },
     "output_type": "display_data"
    }
   ],
   "source": [
    "# laser power\n",
    "for Ωli in Ωls:\n",
    "    odepars.Ωl = Ωli\n",
    "    odepars.generate_p_julia()\n",
    "    Main.eval(\"@everywhere p = $p\")\n",
    "    \n",
    "    lpower = centrex.utils.calculate_power_from_rabi_gaussian_beam(Ωli, \n",
    "                                                           np.abs(couplings[0]['main coupling'].real),\n",
    "                                                           σx = odepars.σzlaser, σy = odepars.σylaser)\n",
    "\n",
    "    Main.eval(f\"\"\"\n",
    "    @everywhere function prob_func_prerc(prob,i,repeat)\n",
    "        remake(prob,p=[{odepars.Ωl}; params[1,i]; {odepars.ωp}; 0; params[2,i]; params[3,i];\n",
    "                        params[4,i]; {odepars.σylaser}; {odepars.σzlaser}; {odepars.β};\n",
    "                        {odepars.ωphase};\n",
    "                        {odepars.Ωμ12}; {odepars.δμ12}; {odepars.ωpμ12}; {getattr(odepars, dir(odepars)[-2])};\n",
    "                        {odepars.Ωμ23}; {odepars.δμ23}; {odepars.ωpμ23}; {getattr(odepars, dir(odepars)[-1])};\n",
    "                        {odepars.μzμ}; {odepars.σyμ}; {odepars.σzμ}; {odepars.mp_passes}; p[24:end]])\n",
    "    end\n",
    "    \"\"\")\n",
    "    \n",
    "    Main.eval(f\"\"\"\n",
    "    ens_prob = EnsembleProblem(prob, prob_func = prob_func_prerc, output_func = output_func);\n",
    "\n",
    "    open(\"{fname_counter}\", \"w\") do io\n",
    "        print(io, 0)\n",
    "    end\n",
    "    \"\"\");\n",
    "    \n",
    "    start_ensemble_with_progressbar(Main.n_trajectories, f'RC P2 F1 {lpower*1e3:.0f} mW status', webhook_url, fname_counter, \"ens_prob\",\n",
    "                                    save_everystep = False)\n",
    "    \n",
    "    \n",
    "    results = np.array(Main.eval(\"sim.u\"))\n",
    "    gain_F0 = results[:,0]/np.diag(ρ_ini.real)[0]\n",
    "    \n",
    "    xbins = np.linspace(-13, 13, 27)\n",
    "    ybins = np.linspace(110, 260, 16)\n",
    "\n",
    "    x = params[0,:][:Main.n_trajectories]/Γ * 1.6\n",
    "    y = params[3,:][:Main.n_trajectories]\n",
    "    z = gain_F0\n",
    "    stat, x_edge, y_edge, bin_number = binned_statistic_2d(x,y,values = z, statistic = 'mean', bins = [xbins, ybins])\n",
    "    X, Y = np.meshgrid(x_edge,y_edge)\n",
    "\n",
    "    fig, ax = plt.subplots(figsize = (8,6))\n",
    "    cs = ax.pcolormesh(X, Y, stat.T)\n",
    "\n",
    "    cbar = fig.colorbar(cs)\n",
    "\n",
    "\n",
    "    ax.set_xlabel('δl [MHz]')\n",
    "    ax.set_ylabel(r'vz [m/s]')\n",
    "    cbar.ax.set_ylabel('gain F=0')\n",
    "    set_fontsize(ax, 14)\n",
    "    set_fontsize(cbar.ax, 14)\n",
    "    \n",
    "\n",
    "    print(f\"{lpower*1e3:.0f} mW -> {np.mean(gain_F0):.2f}\")\n",
    "    \n",
    "    results_array = []\n",
    "    for i in range(params.shape[1])[:Main.n_trajectories]:\n",
    "        i += 1\n",
    "        _ = Main.eval(f\"\"\"\n",
    "            [{odepars.Ωl}; params[1,{i}]; {odepars.ωp}; 0; params[2,{i}]; params[3,{i}];\n",
    "            params[4,{i}]; {odepars.σylaser}; {odepars.σzlaser}; {odepars.β}; {odepars.ωphase};\n",
    "            {odepars.Ωμ12}; {odepars.δμ12}; {odepars.ωpμ12}; {getattr(odepars, dir(odepars)[-2])};\n",
    "            {odepars.Ωμ23}; {odepars.δμ23}; {odepars.ωpμ23}; {getattr(odepars, dir(odepars)[-1])};\n",
    "            {odepars.μzμ}; {odepars.σyμ}; {odepars.σzμ}; {odepars.mp_passes}; p[24:end]]\n",
    "        \"\"\")\n",
    "        _ = np.append(_, results[i-1])\n",
    "        results_array.append(_)\n",
    "    results_array = np.asarray(results_array)\n",
    "    \n",
    "    fname_results = f\"P2F1_RC_cooling_{lpower*1e3:.0f}mW_lpower\"\n",
    "    np.save(fname_results, results_array)"
   ]
  },
  {
   "cell_type": "code",
   "execution_count": null,
   "metadata": {},
   "outputs": [],
   "source": []
  }
 ],
 "metadata": {
  "kernelspec": {
   "display_name": "Python 3",
   "language": "python",
   "name": "python3"
  },
  "language_info": {
   "codemirror_mode": {
    "name": "ipython",
    "version": 3
   },
   "file_extension": ".py",
   "mimetype": "text/x-python",
   "name": "python",
   "nbconvert_exporter": "python",
   "pygments_lexer": "ipython3",
   "version": "3.8.5"
  }
 },
 "nbformat": 4,
 "nbformat_minor": 4
}
