{
 "cells": [
  {
   "cell_type": "markdown",
   "metadata": {},
   "source": [
    "# R(0), F1' = 0.5, F' = 1\n",
    "Determining number of photons that are produced per molecule for R(0), F1' = 0.5, F' = 1 for different initial states. Assuming that polarization modulation is used for detection laser"
   ]
  },
  {
   "cell_type": "code",
   "execution_count": 1,
   "metadata": {},
   "outputs": [],
   "source": [
    "%load_ext autoreload\n",
    "%autoreload 2\n",
    "\n",
    "import scipy\n",
    "import sympy\n",
    "import pickle\n",
    "import numpy as np\n",
    "from tqdm import tqdm\n",
    "from pathlib import Path\n",
    "import matplotlib.pyplot as plt\n",
    "from scipy.sparse import csr_matrix\n",
    "from sympy import Symbol, zeros, Function, MatrixSymbol\n",
    "\n",
    "# import created modules\n",
    "from hamiltonian.states import CoupledBasisState\n",
    "from hamiltonian.generate_hamiltonian import generate_X_hamiltonian_function, generate_B_hamiltonian_function\n",
    "from hamiltonian.utils import ni_range, matrix_to_states, find_exact_states, reduced_basis_hamiltonian, \\\n",
    "                                find_state_idx_from_state, reorder_evecs\n",
    "\n",
    "from couplings.utils import ED_ME_mixed_state, collapse_matrices, generate_superoperator, \\\n",
    "                            generate_flat_superoperator, generate_sharp_superoperator\n",
    "from couplings.generate_coupling import optical_coupling_matrix\n",
    "\n",
    "from symbolic import generate_density_matrix_symbolic\n",
    "\n",
    "from utils.plot_utils import set_fontsize\n",
    "from utils import population, J_levels, J_slice, delete_J_level"
   ]
  },
  {
   "cell_type": "code",
   "execution_count": 2,
   "metadata": {},
   "outputs": [],
   "source": [
    "script_dir = Path().parent.absolute()"
   ]
  },
  {
   "cell_type": "markdown",
   "metadata": {},
   "source": [
    "## X-state\n",
    "\n",
    "Define what states from the $X ^1\\Sigma$ electronic state are to be included in the simulation."
   ]
  },
  {
   "cell_type": "code",
   "execution_count": 3,
   "metadata": {},
   "outputs": [],
   "source": [
    "#Define what states are to be included in the simulation\n",
    "Js_g = [0,2] # J values to be included\n",
    "I_F = 1/2 #Fluorine nuclear spin\n",
    "I_Tl = 1/2 #Thallium nuclear spin\n",
    "\n",
    "#Generate a list of approximate ground states. The exact ground states are determined within the main\n",
    "#simulation function\n",
    "ground_states_approx = [1*CoupledBasisState(F,mF,F1,J,I_F,I_Tl, electronic_state='X', P = (-1)**J, Omega = 0)\n",
    "                  for J  in Js_g\n",
    "                  for F1 in ni_range(np.abs(J-I_F),J+I_F+1)\n",
    "                  for F in ni_range(np.abs(F1-I_Tl),F1+I_Tl+1)\n",
    "                  for mF in ni_range(-F, F+1)\n",
    "                 ]"
   ]
  },
  {
   "cell_type": "markdown",
   "metadata": {},
   "source": [
    "Now generate the J=0 to J=4 Hamiltonian to get the reduced X state Hamiltonian"
   ]
  },
  {
   "cell_type": "code",
   "execution_count": 4,
   "metadata": {},
   "outputs": [],
   "source": [
    "fname_X = \"TlF_X_state_hamiltonian_J0to4.pickle\"\n",
    "fname_transform = \"UC_to_C_J0to4.pickle\"\n",
    "\n",
    "path_X = script_dir / \"stored_data\" / fname_X\n",
    "path_transform = script_dir / \"stored_data\" / fname_transform"
   ]
  },
  {
   "cell_type": "code",
   "execution_count": 5,
   "metadata": {},
   "outputs": [],
   "source": [
    "with open(path_X, 'rb') as f:\n",
    "    H_X_uc = pickle.load(f)\n",
    "\n",
    "with open(path_transform, 'rb') as f:\n",
    "    S_transform = pickle.load(f)"
   ]
  },
  {
   "cell_type": "code",
   "execution_count": 6,
   "metadata": {},
   "outputs": [],
   "source": [
    "H_X_uc = generate_X_hamiltonian_function(H_X_uc)\n",
    "\n",
    "# generate coupled basis states\n",
    "Jmin = 0\n",
    "Jmax = 4\n",
    "I_F = 1/2\n",
    "I_Tl = 1/2\n",
    "\n",
    "QN_X = [CoupledBasisState(\n",
    "                F,mF,F1,J,I_F,I_Tl, electronic_state='X', P = (-1)**J, Omega = 0\n",
    "                )\n",
    "        for J  in ni_range(Jmin, Jmax+1)\n",
    "        for F1 in ni_range(np.abs(J-I_F),J+I_F+1)\n",
    "        for F in ni_range(np.abs(F1-I_Tl),F1+I_Tl+1)\n",
    "        for mF in ni_range(-F, F+1)\n",
    "    ]\n",
    "\n",
    "E = np.array([0,0,0])\n",
    "# small magnetic field to ensure m_F is a good quantum number\n",
    "B = np.array([0,0,0.001])\n",
    "\n",
    "H_X = S_transform.conj().T @ H_X_uc(E,B) @ S_transform\n",
    "\n",
    "D, V = np.linalg.eigh(H_X)\n",
    "V_ref_X = np.eye(V.shape[0])\n",
    "D, V = reorder_evecs(V,D,V_ref_X)\n",
    "\n",
    "# diagonalize the Hamiltonian\n",
    "H_X_diag = V.conj().T @ H_X @ V\n",
    "\n",
    "# new set of quantum numbers:\n",
    "QN_X_diag = matrix_to_states(V, QN_X)"
   ]
  },
  {
   "cell_type": "code",
   "execution_count": 7,
   "metadata": {},
   "outputs": [],
   "source": [
    "ground_states = find_exact_states(ground_states_approx, H_X_diag, QN_X_diag, V_ref = V_ref_X)\n",
    "\n",
    "H_X_red = reduced_basis_hamiltonian(QN_X_diag, H_X_diag, ground_states)"
   ]
  },
  {
   "cell_type": "markdown",
   "metadata": {},
   "source": [
    "## B-state\n",
    "Define what states from the $B ^3\\Pi_1$ electronic state are to be included in the simulation. Only need the states that are coupled to J = 1 in the X-state by the laser."
   ]
  },
  {
   "cell_type": "code",
   "execution_count": 8,
   "metadata": {},
   "outputs": [],
   "source": [
    "#Define what states are to be included in the simulation\n",
    "\n",
    "J = 1\n",
    "F1 = 1/2\n",
    "F = 1\n",
    "#Generate a list of excited states. The exact excited states are determined within the main\n",
    "#simulation function\n",
    "excited_states_approx = [1*CoupledBasisState(F,mF,F1,J,I_F,I_Tl, electronic_state='B', P = -1, Omega = 1)\n",
    "                  for mF in ni_range(-F, F+1)\n",
    "                 ]"
   ]
  },
  {
   "cell_type": "markdown",
   "metadata": {},
   "source": [
    "Now generate the excited state Hamiltonian to get the reduced B state Hamiltonian"
   ]
  },
  {
   "cell_type": "code",
   "execution_count": 9,
   "metadata": {},
   "outputs": [],
   "source": [
    "fname_B = \"B_hamiltonians_symbolic_coupled_P_1to3.pickle\"\n",
    "\n",
    "path_B = script_dir / \"stored_data\" / fname_B"
   ]
  },
  {
   "cell_type": "code",
   "execution_count": 10,
   "metadata": {},
   "outputs": [],
   "source": [
    "with open(path_B, 'rb') as f:\n",
    "    H_B = pickle.load(f)"
   ]
  },
  {
   "cell_type": "code",
   "execution_count": 11,
   "metadata": {},
   "outputs": [],
   "source": [
    "H_B = generate_B_hamiltonian_function(H_B)\n",
    "\n",
    "# generate coupled basis states\n",
    "Jmin = 1\n",
    "Jmax = 3\n",
    "I_F = 1/2\n",
    "I_Tl = 1/2\n",
    "Ps = [-1,1]\n",
    "\n",
    "QN_B = [CoupledBasisState(\n",
    "                    F,mF,F1,J,I_F,I_Tl,P = P, Omega = 1, electronic_state='B'\n",
    "                    )\n",
    "        for J  in ni_range(Jmin, Jmax+1)\n",
    "        for F1 in ni_range(np.abs(J-I_F),J+I_F+1)\n",
    "        for F in ni_range(np.abs(F1-I_Tl),F1+I_Tl+1)\n",
    "        for mF in ni_range(-F, F+1)\n",
    "        for P in Ps\n",
    "    ]\n",
    "\n",
    "D,V = np.linalg.eigh(H_B)\n",
    "V_ref_B = np.eye(H_B.shape[0])\n",
    "D, V = reorder_evecs(V,D,V_ref_B)\n",
    "\n",
    "# diagonalize the Hamiltonian\n",
    "H_B_diag = V.conj().T @ H_B @ V\n",
    "\n",
    "# new set of quantum numbers:\n",
    "QN_B_diag = matrix_to_states(V, QN_B)"
   ]
  },
  {
   "cell_type": "code",
   "execution_count": 12,
   "metadata": {},
   "outputs": [],
   "source": [
    "excited_states = find_exact_states(excited_states_approx, H_B_diag, QN_B_diag, V_ref=V_ref_B)\n",
    "\n",
    "H_B_red = reduced_basis_hamiltonian(QN_B_diag, H_B_diag, excited_states)"
   ]
  },
  {
   "cell_type": "markdown",
   "metadata": {},
   "source": [
    "## Total Internal Hamiltonian"
   ]
  },
  {
   "cell_type": "code",
   "execution_count": 13,
   "metadata": {},
   "outputs": [],
   "source": [
    "H_int = scipy.linalg.block_diag(H_X_red, H_B_red)\n",
    "V_ref_int = np.eye(H_int.shape[0])\n",
    "\n",
    "#Define Hamiltonian in the rotating frame (transformation not applied yet)\n",
    "H_rot = H_int.copy()\n",
    "\n",
    "#Define QN for the total Hamiltonian that includes both X and B\n",
    "QN = ground_states + excited_states"
   ]
  },
  {
   "cell_type": "markdown",
   "metadata": {},
   "source": [
    "## Laser coupling"
   ]
  },
  {
   "cell_type": "code",
   "execution_count": 14,
   "metadata": {},
   "outputs": [],
   "source": [
    "#Define ground states for laser driven transition\n",
    "Js = [0]\n",
    "ground_states_laser_approx =  [1*CoupledBasisState(F,mF,F1,J,I_F,I_Tl, electronic_state='X', P = (-1)**J, Omega = 0)\n",
    "                                  for J  in Js\n",
    "                                  for F1 in ni_range(np.abs(J-I_F),J+I_F+1)\n",
    "                                  for F in ni_range(np.abs(F1-I_Tl),F1+I_Tl+1)\n",
    "                                  for mF in ni_range(-F, F+1)\n",
    "                                 ]\n",
    "\n",
    "#Define excited states for laser\n",
    "excited_states_laser_approx = excited_states_approx"
   ]
  },
  {
   "cell_type": "code",
   "execution_count": 15,
   "metadata": {},
   "outputs": [],
   "source": [
    "#Define the \"main\" states. These are used to calculate the detunings and Rabi rates for the transitions\n",
    "ground_main_approx = 1*CoupledBasisState(J=0,F1=1/2,F=1,mF=1,I1=1/2,I2=1/2,electronic_state='X', P = 1, Omega = 0)\n",
    "excited_main_approx = 1*CoupledBasisState(J=1,F1=1/2,F=1,mF=1,I1=1/2,I2=1/2, electronic_state='B', P = -1, Omega = 1)"
   ]
  },
  {
   "cell_type": "markdown",
   "metadata": {},
   "source": [
    "Now generate the laser coupling matrix"
   ]
  },
  {
   "cell_type": "code",
   "execution_count": 16,
   "metadata": {},
   "outputs": [],
   "source": [
    "ground_states_laser = find_exact_states(\n",
    "                                ground_states_laser_approx, H_rot, QN, V_ref = V_ref_int\n",
    "                                )\n",
    "excited_states_laser = find_exact_states(\n",
    "                                excited_states_laser_approx, H_rot, QN, V_ref = V_ref_int\n",
    "                                )\n",
    "\n",
    "H_laser_z = optical_coupling_matrix(\n",
    "                                    QN, \n",
    "                                    ground_states_laser, \n",
    "                                    excited_states_laser, \n",
    "                                    pol_vec = np.array([0,0,1]), \n",
    "                                    reduced = False\n",
    "                                    )\n",
    "H_laser_x = optical_coupling_matrix(\n",
    "                                    QN, \n",
    "                                    ground_states_laser, \n",
    "                                    excited_states_laser, \n",
    "                                    pol_vec = np.array([1,0,0]), \n",
    "                                    reduced = False\n",
    "                                    )"
   ]
  },
  {
   "cell_type": "code",
   "execution_count": 17,
   "metadata": {},
   "outputs": [],
   "source": [
    "# set small values to zero\n",
    "H_laser_z[np.abs(H_laser_z) < 1e-3*np.max(np.abs(H_laser_z))] = 0\n",
    "H_laser_x[np.abs(H_laser_x) < 1e-3*np.max(np.abs(H_laser_x))] = 0"
   ]
  },
  {
   "cell_type": "code",
   "execution_count": 18,
   "metadata": {},
   "outputs": [
    {
     "name": "stdout",
     "output_type": "stream",
     "text": [
      "(-0.47792635291125957+0j)\n",
      "+1.0000+0.0000j x |X, J = 0, F1 = 1/2, F = 1, mF = 1, I1 = 1/2, I2 = 1/2, P = 1, Omega = 0>\n",
      "----------------------------------------------------------------------------------------------------\n",
      "+1.0000+0.0000j x |X, J = 0, F1 = 1/2, F = 1, mF = 1, I1 = 1/2, I2 = 1/2, P = 1, Omega = 0>\n",
      "====================================================================================================\n",
      "+1.0000+0.0000j x |B, J = 1, F1 = 1/2, F = 1, mF = 1, I1 = 1/2, I2 = 1/2, P = -1, Omega = 1>\n",
      "----------------------------------------------------------------------------------------------------\n",
      "+0.9996+0.0000j x |B, J = 1, F1 = 1/2, F = 1, mF = 1, I1 = 1/2, I2 = 1/2, P = -1, Omega = 1>\n"
     ]
    }
   ],
   "source": [
    "ground_main = find_exact_states([ground_main_approx], H_rot, QN, V_ref = V_ref_int)[0]\n",
    "excited_main = find_exact_states([excited_main_approx], H_rot, QN, V_ref = V_ref_int)[0]\n",
    "\n",
    "ME_main = ED_ME_mixed_state(\n",
    "                        excited_main, ground_main, pol_vec = np.array([0,0,1])\n",
    "                        )\n",
    "\n",
    "ground_main_idx = QN.index(ground_main)\n",
    "excited_main_idx = QN.index(excited_main)\n",
    "\n",
    "print(ME_main)\n",
    "ground_main_approx.print_state()\n",
    "print('-'*100)\n",
    "ground_main.print_state()\n",
    "print('='*100)\n",
    "excited_main_approx.print_state()\n",
    "print('-'*100)\n",
    "excited_main.print_state()"
   ]
  },
  {
   "cell_type": "markdown",
   "metadata": {},
   "source": [
    "## Total Hamiltonian"
   ]
  },
  {
   "cell_type": "code",
   "execution_count": 19,
   "metadata": {},
   "outputs": [],
   "source": [
    "# shift energies in H_rot in accordance with the rotating frame\n",
    "# also shift the energies so that ground_main is at zero energy\n",
    "\n",
    "Δ = 0\n",
    "ω_0 = (H_rot[ground_main_idx, ground_main_idx] - H_rot[excited_main_idx, excited_main_idx]).real\n",
    "ω = ω_0 + Δ\n",
    "\n",
    "for excited_state in excited_states:\n",
    "    idx = QN.index(excited_state)\n",
    "    H_rot[idx, idx] -= ω\n",
    "\n",
    "H_rot = H_rot  - np.eye(H_rot.shape[0])*H_rot[ground_main_idx,ground_main_idx]"
   ]
  },
  {
   "cell_type": "markdown",
   "metadata": {},
   "source": [
    "## Collapse Operators"
   ]
  },
  {
   "cell_type": "code",
   "execution_count": 20,
   "metadata": {},
   "outputs": [
    {
     "name": "stderr",
     "output_type": "stream",
     "text": [
      "100%|████████████████████████████████████████████████████████████████████████████████████| 3/3 [00:00<00:00,  4.69it/s]\n"
     ]
    }
   ],
   "source": [
    "Γ = 2*np.pi*1.6e6\n",
    "C_list = collapse_matrices(QN, ground_states, excited_states, gamma = Γ)\n",
    "C_array = np.array(C_list)\n",
    "C_conj_array = np.einsum('ijk->ikj', C_array.conj())"
   ]
  },
  {
   "cell_type": "code",
   "execution_count": 21,
   "metadata": {},
   "outputs": [
    {
     "name": "stderr",
     "output_type": "stream",
     "text": [
      "100%|█████████████████████████████████████████████████████████████████████████████████| 33/33 [00:00<00:00, 175.07it/s]\n"
     ]
    }
   ],
   "source": [
    "# generate the superoperator that contains spontaneous decay\n",
    "# this is constant in time so only generated once\n",
    "L_collapse = np.zeros((len(QN)**2,len(QN)**2), dtype = complex)\n",
    "for C in tqdm(C_list):\n",
    "    L_collapse += (generate_superoperator(C,C.conj().T)\n",
    "                    -1/2 * (generate_flat_superoperator(C.conj().T @ C) + \n",
    "                            generate_sharp_superoperator(C.conj().T @ C)))\n",
    "#Make the collapse operator into a sparse matrix\n",
    "L_collapse = csr_matrix(L_collapse)"
   ]
  },
  {
   "cell_type": "markdown",
   "metadata": {},
   "source": [
    "## Converting to symbolic for pre-calculation\n",
    "Defining constants and functions as symbols"
   ]
  },
  {
   "cell_type": "code",
   "execution_count": 22,
   "metadata": {},
   "outputs": [],
   "source": [
    "t = Symbol(\"t\", real = True)\n",
    "Ω = Symbol(\"Ω\", complex = True)\n",
    "Ωᶜ = Symbol(\"Ωᶜ\", complex=True) # complex conjuage of Ω\n",
    "Δ = Symbol(\"Δ\", real = True)\n",
    "\n",
    "Px = Function(\"Px\")(t) # Polarization switching function for x\n",
    "Pz = Function(\"Pz\")(t) # Polarization switching function for z"
   ]
  },
  {
   "cell_type": "code",
   "execution_count": 23,
   "metadata": {},
   "outputs": [],
   "source": [
    "ρ = generate_density_matrix_symbolic(H_rot.shape[0])"
   ]
  },
  {
   "cell_type": "code",
   "execution_count": 24,
   "metadata": {},
   "outputs": [],
   "source": [
    "n_states = H_rot.shape[0]\n",
    "\n",
    "H_symbolic = zeros(n_states, n_states)\n",
    "H_symbolic += ((Ω/ME_main)/2)*(H_laser_z*Pz + H_laser_x*Px)"
   ]
  },
  {
   "cell_type": "code",
   "execution_count": 25,
   "metadata": {},
   "outputs": [],
   "source": [
    "# ensure Hermitian Hamiltonian for complex Ω\n",
    "for idx in range(n_states):\n",
    "    for idy in range(n_states):\n",
    "        if idx > idy:\n",
    "            H_symbolic[idx,idy] = H_symbolic[idx,idy].subs(Ω, Ωᶜ)"
   ]
  },
  {
   "cell_type": "code",
   "execution_count": 26,
   "metadata": {},
   "outputs": [],
   "source": [
    "for excited_state in excited_states:\n",
    "    idx = QN.index(excited_state)\n",
    "    H_symbolic[idx, idx] += Δ"
   ]
  },
  {
   "cell_type": "markdown",
   "metadata": {},
   "source": [
    "### Doing the matrix calculations\n",
    "Pretty slow because of the use of symbolic matrices, but in principle only necessary once.  \n",
    "First part calculates $∑_k 𝐶_𝑘 𝜌𝐶_𝑘^\\dagger$"
   ]
  },
  {
   "cell_type": "code",
   "execution_count": 27,
   "metadata": {},
   "outputs": [
    {
     "name": "stderr",
     "output_type": "stream",
     "text": [
      "100%|██████████████████████████████████████████████████████████████████████████████████| 33/33 [01:18<00:00,  2.39s/it]\n"
     ]
    }
   ],
   "source": [
    "matrix_mult_sum = zeros(n_states, n_states)\n",
    "for idx in tqdm(range(C_array.shape[0])):\n",
    "    matrix_mult_sum[:,:] += C_array[idx]@ρ@C_conj_array[idx]"
   ]
  },
  {
   "cell_type": "markdown",
   "metadata": {},
   "source": [
    "calculating $[𝐻(𝑡),𝜌]$ and $\\frac{1}{2}∑_𝑘(𝐶_𝑘  𝐶_𝑘^\\dagger 𝜌+𝜌𝐶_𝑘^\\dagger 𝐶_𝑘 ) $"
   ]
  },
  {
   "cell_type": "code",
   "execution_count": 28,
   "metadata": {},
   "outputs": [],
   "source": [
    "Cprecalc = np.einsum('ijk,ikl', C_conj_array, C_array)\n",
    "a = -0.5 * (Cprecalc@ρ + ρ@Cprecalc)\n",
    "b = -1j*(H_symbolic@ρ - ρ@H_symbolic)"
   ]
  },
  {
   "cell_type": "code",
   "execution_count": 29,
   "metadata": {},
   "outputs": [],
   "source": [
    "result = zeros(n_states, n_states)\n",
    "result += matrix_mult_sum\n",
    "result += a\n",
    "result += b"
   ]
  },
  {
   "cell_type": "markdown",
   "metadata": {},
   "source": [
    "## Convert matrix to system of equations code"
   ]
  },
  {
   "cell_type": "code",
   "execution_count": 30,
   "metadata": {},
   "outputs": [
    {
     "name": "stderr",
     "output_type": "stream",
     "text": [
      "100%|██████████████████████████████████████████████████████████████████████████████████| 27/27 [00:04<00:00,  5.70it/s]\n"
     ]
    }
   ],
   "source": [
    "code_lines = []\n",
    "for idx in tqdm(range(result.shape[0])):\n",
    "    for idy in range(result.shape[0]):\n",
    "        if result[idx,idy] != 0:\n",
    "            cline = str(result[idx,idy])\n",
    "            cline = f\"du[{idx+1},{idy+1}] = \" + cline\n",
    "            cline = cline.replace(\"Px(t)\", \"Px\")\n",
    "            cline = cline.replace(\"Pz(t)\", \"Pz\")\n",
    "            cline = cline.replace(\"I\", \"1im\")\n",
    "            cline += '\\n'\n",
    "            for i in range(result.shape[0]):\n",
    "                for j in range(result.shape[1]):\n",
    "                    _ = str(ρ[i,j])\n",
    "                    cline = cline.replace(_+\"*\", f\"ρ[{i+1},{j+1}]*\")\n",
    "                    cline = cline.replace(_+\" \", f\"ρ[{i+1},{j+1}] \")\n",
    "                    cline = cline.replace(_+\"\\n\", f\"ρ[{i+1},{j+1}]\")\n",
    "                    cline = cline.replace(_+\")\", f\"ρ[{i+1},{j+1}])\")\n",
    "            cline = cline.strip()\n",
    "            code_lines.append(cline)"
   ]
  },
  {
   "cell_type": "markdown",
   "metadata": {},
   "source": [
    "# Solving ODE system with Julia\n",
    "Need to install Julia and add the following packages to Julia:  \n",
    "* [DifferentialEquations](https://diffeq.sciml.ai/stable/)\n",
    "* [Trapz](https://github.com/francescoalemanno/Trapz.jl)\n",
    "\n",
    "And install [PyJulia](https://pyjulia.readthedocs.io/en/latest/index.html) for python.  "
   ]
  },
  {
   "cell_type": "code",
   "execution_count": 31,
   "metadata": {},
   "outputs": [],
   "source": [
    "from julia import Main"
   ]
  },
  {
   "cell_type": "code",
   "execution_count": 33,
   "metadata": {},
   "outputs": [],
   "source": [
    "Main.eval(\"\"\"using DifferentialEquations\"\"\")\n",
    "Main.eval(\"\"\"using BenchmarkTools\"\"\")\n",
    "Main.eval(\"\"\"using Trapz\"\"\")\n",
    "Main.eval(\"\"\"using LinearAlgebra\"\"\")"
   ]
  },
  {
   "cell_type": "code",
   "execution_count": 34,
   "metadata": {},
   "outputs": [
    {
     "data": {
      "text/plain": [
       "<PyCall.jlwrap sine_wave>"
      ]
     },
     "execution_count": 34,
     "metadata": {},
     "output_type": "execute_result"
    }
   ],
   "source": [
    "Main.eval(\"\"\"\n",
    "function sine_wave(t, frequency, phase)\n",
    "    0.5.*(1+sin(2*pi.*frequency.*t .+ phase))\n",
    "end\"\"\")"
   ]
  },
  {
   "cell_type": "code",
   "execution_count": 35,
   "metadata": {},
   "outputs": [
    {
     "data": {
      "text/plain": [
       "<PyCall.jlwrap gaussian_2d>"
      ]
     },
     "execution_count": 35,
     "metadata": {},
     "output_type": "execute_result"
    }
   ],
   "source": [
    "Main.eval(\"\"\"\n",
    "function gaussian_2d(x::Float64, y::Float64, a::Float64, μx::Float64, μy::Float64, σx::Float64, σy::Float64)::Float64\n",
    "    a.*exp(.- ((x.-μx).^2 ./ (2 .* σx.*σx) + (y.-μy).^2 ./ (2 .* σy.*σy)))\n",
    "end\n",
    "\"\"\")"
   ]
  },
  {
   "cell_type": "markdown",
   "metadata": {},
   "source": [
    "## Creating the Julia function to compute the RHS of the Lindblad Equation\n",
    "Note that only here the polarization switching function is added.  \n",
    "Anything added symbolically can be modified here."
   ]
  },
  {
   "cell_type": "code",
   "execution_count": 144,
   "metadata": {},
   "outputs": [],
   "source": [
    "ode_fun = \"\"\"\n",
    "function Lindblad_rhs!(du, ρ, p, t)\n",
    "\\t@inbounds begin\n",
    "\\t\\tνp = p[2]\n",
    "\\t\\tΔ = p[3]\n",
    "\\t\\ty0 = p[4]\n",
    "\\t\\tvy = p[5]\n",
    "\\t\\tvz = p[6]\n",
    "\\t\\tμzlaser = p[7]\n",
    "\\t\\tσylaser = p[8]\n",
    "\\t\\tσzlaser = p[9]\n",
    "\\t\\tΩ = p[1] * gaussian_2d(vz*t, y0+vy*t, 1., μzlaser, 0., σzlaser, σylaser)\n",
    "\\t\\tΩᶜ = conj(Ω)\n",
    "\\t\\tPx = sine_wave(t, νp, 4.71238898038469)\n",
    "\\t\\tPz = sine_wave(t, νp, 1.5707963267948966)\n",
    "\\t\\tPx /= sqrt(Px^2+Pz^2)\n",
    "\\t\\tPz /= sqrt(Px^2+Pz^2)\n",
    "\"\"\""
   ]
  },
  {
   "cell_type": "code",
   "execution_count": 145,
   "metadata": {},
   "outputs": [],
   "source": [
    "for cline in code_lines:\n",
    "    ode_fun += \"\\t\\t\"+cline+'\\n'\n",
    "ode_fun += '\\t end \\n \\t nothing \\n end'"
   ]
  },
  {
   "cell_type": "code",
   "execution_count": 146,
   "metadata": {},
   "outputs": [],
   "source": [
    "with open('ode_fun_R0F1.jl', 'w', encoding='utf8') as f:\n",
    "    f.write(ode_fun)"
   ]
  },
  {
   "cell_type": "code",
   "execution_count": 147,
   "metadata": {},
   "outputs": [],
   "source": [
    "# reading from file\n",
    "with open('ode_fun_R0F1.jl', 'r', encoding='utf8') as f:\n",
    "    ode_fun = f.read()"
   ]
  },
  {
   "cell_type": "code",
   "execution_count": 148,
   "metadata": {},
   "outputs": [
    {
     "data": {
      "text/plain": [
       "<PyCall.jlwrap Lindblad_rhs!>"
      ]
     },
     "execution_count": 148,
     "metadata": {},
     "output_type": "execute_result"
    }
   ],
   "source": [
    "# making the function in Julia\n",
    "Main.eval(ode_fun)"
   ]
  },
  {
   "cell_type": "markdown",
   "metadata": {},
   "source": [
    "## Generate Density matrices for all three states"
   ]
  },
  {
   "cell_type": "code",
   "execution_count": 149,
   "metadata": {},
   "outputs": [],
   "source": [
    "ρ_ini = np.zeros([n_states,n_states], dtype = 'complex')\n",
    "\n",
    "\n",
    "ρ_ini_F0mF0 = ρ_ini.copy()\n",
    "ρ_ini_F0mF0[0,0] = 1\n",
    "\n",
    "ρ_ini_F1mF0 = ρ_ini.copy()\n",
    "ρ_ini_F1mF0[2,2] = 1\n",
    "\n",
    "ρ_ini_F1mF1 = ρ_ini.copy()\n",
    "ρ_ini_F1mF1[1,1] = 0.5\n",
    "ρ_ini_F1mF1[3,3] = 0.5\n",
    "\n",
    "initial_populations = {\n",
    "    \"F=0, mF=0\": ρ_ini_F0mF0,\n",
    "    \"F=1, mF=0\": ρ_ini_F1mF0,\n",
    "    \"F=1, mF=1\": ρ_ini_F1mF1\n",
    "}"
   ]
  },
  {
   "cell_type": "code",
   "execution_count": 150,
   "metadata": {},
   "outputs": [
    {
     "name": "stdout",
     "output_type": "stream",
     "text": [
      "+1.0000-0.0000j x |X, J = 0, F1 = 1/2, F = 0, mF = 0, I1 = 1/2, I2 = 1/2, P = 1, Omega = 0>\n",
      "****************************************************************************************************\n",
      "+1.0000+0.0000j x |X, J = 0, F1 = 1/2, F = 1, mF = 0, I1 = 1/2, I2 = 1/2, P = 1, Omega = 0>\n",
      "****************************************************************************************************\n",
      "+1.0000-0.0000j x |X, J = 0, F1 = 1/2, F = 1, mF = -1, I1 = 1/2, I2 = 1/2, P = 1, Omega = 0>\n",
      "+1.0000+0.0000j x |X, J = 0, F1 = 1/2, F = 1, mF = 1, I1 = 1/2, I2 = 1/2, P = 1, Omega = 0>\n"
     ]
    }
   ],
   "source": [
    "QN[0].print_state()\n",
    "print(\"*\"*100)\n",
    "QN[2].print_state()\n",
    "print(\"*\"*100)\n",
    "QN[1].print_state()\n",
    "QN[3].print_state()"
   ]
  },
  {
   "cell_type": "markdown",
   "metadata": {},
   "source": [
    "## Set parameters"
   ]
  },
  {
   "cell_type": "code",
   "execution_count": 151,
   "metadata": {},
   "outputs": [
    {
     "data": {
      "text/plain": [
       "array([6.03185789e+05, 1.60000000e+06, 0.00000000e+00, 0.00000000e+00,\n",
       "       0.00000000e+00, 1.84000000e+02, 2.50000000e-02, 5.00000000e-03,\n",
       "       5.00000000e-03])"
      ]
     },
     "execution_count": 151,
     "metadata": {},
     "output_type": "execute_result"
    }
   ],
   "source": [
    "Ω =  0.06*Γ\n",
    "ωp = Γ\n",
    "νp = ωp/(2*np.pi)\n",
    "Δ = 0\n",
    "σylaser = 1e-2/2\n",
    "σzlaser = 1e-2/2\n",
    "μzlaser = 5*σzlaser\n",
    "\n",
    "Main.Ω = Ω\n",
    "Main.νp = νp\n",
    "Main.Δ = Δ\n",
    "Main.Γ = Γ\n",
    "Main.μzlaser = μzlaser\n",
    "Main.σylaser = σylaser\n",
    "Main.σzlaser = σzlaser\n",
    "Main.ρ_ini_F0mF0 = ρ_ini_F0mF0\n",
    "\n",
    "Main.ρ_ini = ρ_ini\n",
    "\n",
    "# setting up the parameters to send to the differential equation\n",
    "Main.eval(\"p = [Ω, νp, Δ, 0., 0., 184, μzlaser, σylaser, σzlaser]\")"
   ]
  },
  {
   "cell_type": "code",
   "execution_count": 152,
   "metadata": {},
   "outputs": [
    {
     "name": "stdout",
     "output_type": "stream",
     "text": [
      "Wall time: 1.69 s\n"
     ]
    },
    {
     "data": {
      "text/plain": [
       "0"
      ]
     },
     "execution_count": 152,
     "metadata": {},
     "output_type": "execute_result"
    }
   ],
   "source": [
    "%%time\n",
    "du = np.zeros(ρ_ini.shape, dtype = 'complex')\n",
    "Main.du = du\n",
    "Main.eval(\"\"\"\n",
    "@time Lindblad_rhs!(du, ρ_ini_F0mF0, p, 0.)\n",
    "tmp = 0\n",
    "\"\"\")"
   ]
  },
  {
   "cell_type": "markdown",
   "metadata": {},
   "source": [
    "### Setting up the ODE problem to solve\n",
    "`tmp = 0` is just to prevent `Main.eval` from outputting the problem in the notebook.  \n",
    "The ODEProblem takes a function to solve (`Lindblad_rhs!` in this case), initial conditions `ρ_ini`, a timespan `tspan` an additional arguments for the ODE function, denoted here by `p` "
   ]
  },
  {
   "cell_type": "code",
   "execution_count": 153,
   "metadata": {},
   "outputs": [
    {
     "data": {
      "text/plain": [
       "0"
      ]
     },
     "execution_count": 153,
     "metadata": {},
     "output_type": "execute_result"
    }
   ],
   "source": [
    "Main.eval(\"\"\"\n",
    "tspan = (0.0f0, 300e-6)\n",
    "prob = ODEProblem(Lindblad_rhs!,ρ_ini_F0mF0,tspan,p)\n",
    "tmp = 0\n",
    "\"\"\")"
   ]
  },
  {
   "cell_type": "code",
   "execution_count": 154,
   "metadata": {},
   "outputs": [
    {
     "data": {
      "text/plain": [
       "<PyCall.jlwrap DiscreteCallback{typeof(condition),typeof(affect!),typeof(DiffEqBase.INITIALIZE_DEFAULT)}(condition, affect!, DiffEqBase.INITIALIZE_DEFAULT, Bool[1, 1])>"
      ]
     },
     "execution_count": 154,
     "metadata": {},
     "output_type": "execute_result"
    }
   ],
   "source": [
    "Main.eval(\"\"\"\n",
    "condition(u,t,integrator) = integrator.p[6]*t > 0.05\n",
    "affect!(integrator) = terminate!(integrator)\n",
    "cb = DiscreteCallback(condition, affect!)\n",
    "\"\"\")"
   ]
  },
  {
   "cell_type": "code",
   "execution_count": 155,
   "metadata": {},
   "outputs": [
    {
     "name": "stdout",
     "output_type": "stream",
     "text": [
      "Wall time: 2.29 s\n"
     ]
    },
    {
     "data": {
      "text/plain": [
       "8.834665841099107e-08"
      ]
     },
     "execution_count": 155,
     "metadata": {},
     "output_type": "execute_result"
    }
   ],
   "source": [
    "%%time\n",
    "Main.eval(\"\"\"\n",
    "@time sol = solve(prob, Tsit5(), abstol = 2.5e-7, reltol = 2.4e-4, callback = cb, dt = 1e-9)\n",
    "trapz(sol.t, [real(sum(diag(sol.u[j])[25:end])) for j in 1:size(sol.u)[1]])\n",
    "\"\"\")"
   ]
  },
  {
   "cell_type": "code",
   "execution_count": 156,
   "metadata": {},
   "outputs": [
    {
     "data": {
      "image/png": "[encoded data removed]",
      "text/plain": [
       "<Figure size 576x360 with 1 Axes>"
      ]
     },
     "metadata": {
      "needs_background": "light"
     },
     "output_type": "display_data"
    }
   ],
   "source": [
    "ut = np.array(Main.eval(\"sol[:]\")).T\n",
    "pop_results = np.real(np.einsum('jji->ji',ut.reshape((ρ_ini.shape[0], ρ_ini.shape[1], ut.shape[2]))))\n",
    "t_array = Main.eval(\"sol.t\")\n",
    "\n",
    "#Plot populations in different J over time when using the exponentiation method\n",
    "P0_triplet = np.sum(pop_results[1:4,:], axis = 0)\n",
    "P0_singlet = np.sum(pop_results[0:1,:], axis = 0)\n",
    "P2 = np.sum(pop_results[4:24,:], axis = 0)\n",
    "PB1 = np.sum(pop_results[24:,:], axis = 0)\n",
    "\n",
    "fig, ax = plt.subplots(figsize = (8,5))\n",
    "ax.plot(t_array*1e6, P0_triplet, label = 'X, J = 0, F = 1')\n",
    "ax.plot(t_array*1e6, P0_singlet, label = 'X, J = 0, F = 0')\n",
    "ax.plot(t_array*1e6, P2, label = 'X, J = 2')\n",
    "ax.plot(t_array*1e6, PB1, label = 'B, J = 1')\n",
    "ax.legend()\n",
    "ax.set_xlabel(\"Time [μs]\")\n",
    "ax.set_ylabel(\"Population in state\")\n",
    "set_fontsize(ax, 14)"
   ]
  },
  {
   "cell_type": "markdown",
   "metadata": {},
   "source": [
    "## Parameter scan for $\\Omega = 0.06\\Gamma$"
   ]
  },
  {
   "cell_type": "code",
   "execution_count": 163,
   "metadata": {},
   "outputs": [],
   "source": [
    "Main.Deltas = np.linspace(-3,3,101)*Γ\n",
    "Main.params = Main.Deltas"
   ]
  },
  {
   "cell_type": "code",
   "execution_count": 164,
   "metadata": {},
   "outputs": [
    {
     "data": {
      "text/plain": [
       "<PyCall.jlwrap DiscreteCallback{typeof(condition),typeof(affect!),typeof(DiffEqBase.INITIALIZE_DEFAULT)}(condition, affect!, DiffEqBase.INITIALIZE_DEFAULT, Bool[1, 1])>"
      ]
     },
     "execution_count": 164,
     "metadata": {},
     "output_type": "execute_result"
    }
   ],
   "source": [
    "Main.eval(\"\"\"\n",
    "condition(u,t,integrator) = integrator.p[6]*t > 0.05\n",
    "affect!(integrator) = terminate!(integrator)\n",
    "cb = DiscreteCallback(condition, affect!)\n",
    "\"\"\")"
   ]
  },
  {
   "cell_type": "code",
   "execution_count": 165,
   "metadata": {},
   "outputs": [
    {
     "data": {
      "text/plain": [
       "<PyCall.jlwrap Progress(50, ReentrantLock(nothing, Base.GenericCondition{Base.Threads.SpinLock}(Base.InvasiveLinkedList{Task}(nothing, nothing), Base.Threads.SpinLock(0)), 0), 1.0, 0, 1.61825732256e9, 1.61825732256e9, false, \"ODE Solving \", 50, BarGlyphs('|', '█', '█', ' ', '|'), :green, Base.TTY(Base.Libc.WindowsRawSocket(0x00000000000008a8) open, 0 bytes waiting), 0, 0, 0)>"
      ]
     },
     "execution_count": 165,
     "metadata": {},
     "output_type": "execute_result"
    }
   ],
   "source": [
    "# defining a progress bar to keep track of the ODE ensemble solver progress\n",
    "Main.eval(\"using ProgressMeter\")\n",
    "Main.eval('const pbar = Progress(50, 1, \"ODE Solving \", 50)')"
   ]
  },
  {
   "cell_type": "code",
   "execution_count": 166,
   "metadata": {},
   "outputs": [
    {
     "data": {
      "text/plain": [
       "<PyCall.jlwrap output_func>"
      ]
     },
     "execution_count": 166,
     "metadata": {},
     "output_type": "execute_result"
    }
   ],
   "source": [
    "# function called every time on the when an ODE solve is ready\n",
    "# only save the integral of the excited state population of each trajectory\n",
    "Main.eval(\"\"\"\n",
    "function output_func(sol,i)\n",
    "    next!(pbar)\n",
    "    return trapz(sol.t, [real(sum(diag(sol.u[j])[25:end])) for j in 1:size(sol.u)[1]]), false\n",
    "end\"\"\")"
   ]
  },
  {
   "cell_type": "code",
   "execution_count": 167,
   "metadata": {},
   "outputs": [],
   "source": [
    "results = {}\n",
    "for name, ρ_ini in initial_populations.items():\n",
    "    Main.ρ_ini = ρ_ini\n",
    "    Main.eval(\"\"\"\n",
    "    tspan = (0.0f0, 300e-6)\n",
    "    prob = ODEProblem(Lindblad_rhs!,ρ_ini,tspan,p)\n",
    "    tmp = 0\n",
    "    \"\"\")\n",
    "\n",
    "    # defining the function that changes the ODE parameters for each iteration\n",
    "    Main.eval(\"\"\"\n",
    "    function prob_func(prob,i,repeat)\n",
    "        remake(prob,p=[Ω, νp, params[i], 0., 0., 184, μzlaser, σylaser, σzlaser])\n",
    "    end\n",
    "    \"\"\")\n",
    "\n",
    "    # setting up the EnsembleProblem with the earlier defined ODEProblem\n",
    "    Main.eval(\"\"\"\n",
    "    ens_prob = EnsembleProblem(prob, prob_func = prob_func, output_func = output_func)\n",
    "    \"\"\")\n",
    "\n",
    "    # starting the parallel ensemble simulation\n",
    "    # precision of the solver is increased resulting in a longer runtime\n",
    "    # probably not necessary\n",
    "    Main.eval(\"pbar.counter = 0\")\n",
    "    Main.eval(\"pbar.n = size(params)[1]\")\n",
    "    Main.eval(\"\"\"\n",
    "    @time sim = solve(ens_prob, Tsit5(), EnsembleThreads(), save_start = true, save_end = true, \n",
    "                save_everystep = true; trajectories = size(params)[1], dt = 1e-9, adaptive=true,\n",
    "                abstol = 5e-7, reltol = 5e-4, callback = cb)\n",
    "    sim.elapsedTime\n",
    "    \"\"\")\n",
    "    results[name] = Main.eval(\"sim.u\")"
   ]
  },
  {
   "cell_type": "code",
   "execution_count": 168,
   "metadata": {},
   "outputs": [
    {
     "data": {
      "image/png": "[encoded data removed]",
      "text/plain": [
       "<Figure size 576x360 with 1 Axes>"
      ]
     },
     "metadata": {
      "needs_background": "light"
     },
     "output_type": "display_data"
    }
   ],
   "source": [
    "fig, ax = plt.subplots(figsize = (8,5))\n",
    "\n",
    "for name, res in results.items():\n",
    "    ax.plot(Main.Deltas/Γ, res*Γ, lw = 3, label = name)\n",
    "    \n",
    "ax.set_xlabel('Δ [Γ]')\n",
    "ax.set_ylabel('photons per molecule')\n",
    "ax.legend(fontsize = 14)\n",
    "\n",
    "set_fontsize(ax, 14)"
   ]
  },
  {
   "cell_type": "markdown",
   "metadata": {},
   "source": [
    "## Parameter scan for $\\Omega = \\Gamma$"
   ]
  },
  {
   "cell_type": "code",
   "execution_count": 104,
   "metadata": {},
   "outputs": [],
   "source": [
    "Main.Deltas = np.random.permutation(np.linspace(-5,5,51)*Γ)\n",
    "Main.params = Main.Deltas"
   ]
  },
  {
   "cell_type": "code",
   "execution_count": 105,
   "metadata": {},
   "outputs": [],
   "source": [
    "results_higherpower = {}\n",
    "for name, ρ_ini in initial_populations.items():\n",
    "    Main.ρ_ini = ρ_ini\n",
    "    Main.eval(\"\"\"\n",
    "    tspan = (0.0f0, 300e-6)\n",
    "    prob = ODEProblem(Lindblad_rhs!,ρ_ini,tspan,p)\n",
    "    tmp = 0\n",
    "    \"\"\")\n",
    "\n",
    "    # defining the function that changes the ODE parameters for each iteration\n",
    "    Main.eval(\"\"\"\n",
    "    function prob_func(prob,i,repeat)\n",
    "        remake(prob,p=[Γ, νp, params[i], 0., 0., 184, μzlaser, σylaser, σzlaser])\n",
    "    end\n",
    "    \"\"\")\n",
    "\n",
    "    # setting up the EnsembleProblem with the earlier defined ODEProblem\n",
    "    Main.eval(\"\"\"\n",
    "    ens_prob = EnsembleProblem(prob, prob_func = prob_func, output_func = output_func)\n",
    "    \"\"\")\n",
    "\n",
    "    # starting the parallel ensemble simulation\n",
    "    # precision of the solver is increased resulting in a longer runtime\n",
    "    # probably not necessary\n",
    "    Main.eval(\"pbar.counter = 0\")\n",
    "    Main.eval(\"pbar.n = size(params)[1]\")\n",
    "    Main.eval(\"\"\"\n",
    "    @time sim = solve(ens_prob, Tsit5(), EnsembleThreads(), save_start = true, save_end = true, \n",
    "                save_everystep = true; trajectories = size(params)[1], dt = 1e-9, adaptive=true,\n",
    "                abstol = 5e-7, reltol = 5e-4, callback = cb)\n",
    "    sim.elapsedTime\n",
    "    \"\"\")\n",
    "    results_higherpower[name] = Main.eval(\"sim.u\")"
   ]
  },
  {
   "cell_type": "code",
   "execution_count": 109,
   "metadata": {},
   "outputs": [],
   "source": [
    "sort_indices = np.argsort(Main.Deltas)\n",
    "scan = Main.Deltas[sort_indices]\n",
    "\n",
    "for name, res in results_higherpower.items():\n",
    "    results_higherpower[name] = res[sort_indices]"
   ]
  },
  {
   "cell_type": "code",
   "execution_count": 110,
   "metadata": {},
   "outputs": [
    {
     "data": {
      "image/png": "[encoded data removed]",
      "text/plain": [
       "<Figure size 576x360 with 1 Axes>"
      ]
     },
     "metadata": {
      "needs_background": "light"
     },
     "output_type": "display_data"
    }
   ],
   "source": [
    "fig, ax = plt.subplots(figsize = (8,5))\n",
    "\n",
    "for name, res in results_higherpower.items():\n",
    "    ax.plot(scan/Γ, res*Γ, lw = 3, label = name)\n",
    "    \n",
    "ax.set_xlabel('Δ [Γ]')\n",
    "ax.set_ylabel('photons per molecule')\n",
    "ax.legend(fontsize = 14)\n",
    "\n",
    "set_fontsize(ax, 14)"
   ]
  },
  {
   "cell_type": "markdown",
   "metadata": {},
   "source": [
    "## Parameter scan for $\\Omega = 0.06\\Gamma$\n",
    "No polarization switching"
   ]
  },
  {
   "cell_type": "code",
   "execution_count": 157,
   "metadata": {},
   "outputs": [],
   "source": [
    "Main.Deltas = np.linspace(-3,3,101)*Γ\n",
    "Main.params = Main.Deltas"
   ]
  },
  {
   "cell_type": "code",
   "execution_count": 158,
   "metadata": {},
   "outputs": [
    {
     "data": {
      "text/plain": [
       "<PyCall.jlwrap DiscreteCallback{typeof(condition),typeof(affect!),typeof(DiffEqBase.INITIALIZE_DEFAULT)}(condition, affect!, DiffEqBase.INITIALIZE_DEFAULT, Bool[1, 1])>"
      ]
     },
     "execution_count": 158,
     "metadata": {},
     "output_type": "execute_result"
    }
   ],
   "source": [
    "Main.eval(\"\"\"\n",
    "condition(u,t,integrator) = integrator.p[6]*t > 0.05\n",
    "affect!(integrator) = terminate!(integrator)\n",
    "cb = DiscreteCallback(condition, affect!)\n",
    "\"\"\")"
   ]
  },
  {
   "cell_type": "code",
   "execution_count": 159,
   "metadata": {},
   "outputs": [
    {
     "data": {
      "text/plain": [
       "<PyCall.jlwrap Progress(50, ReentrantLock(nothing, Base.GenericCondition{Base.Threads.SpinLock}(Base.InvasiveLinkedList{Task}(nothing, nothing), Base.Threads.SpinLock(0)), 0), 1.0, 0, 1.618256933846e9, 1.618256933846e9, false, \"ODE Solving \", 50, BarGlyphs('|', '█', '█', ' ', '|'), :green, Base.TTY(Base.Libc.WindowsRawSocket(0x00000000000008a8) open, 0 bytes waiting), 0, 0, 0)>"
      ]
     },
     "execution_count": 159,
     "metadata": {},
     "output_type": "execute_result"
    }
   ],
   "source": [
    "# defining a progress bar to keep track of the ODE ensemble solver progress\n",
    "Main.eval(\"using ProgressMeter\")\n",
    "Main.eval('const pbar = Progress(50, 1, \"ODE Solving \", 50)')"
   ]
  },
  {
   "cell_type": "code",
   "execution_count": 160,
   "metadata": {},
   "outputs": [
    {
     "data": {
      "text/plain": [
       "<PyCall.jlwrap output_func>"
      ]
     },
     "execution_count": 160,
     "metadata": {},
     "output_type": "execute_result"
    }
   ],
   "source": [
    "# function called every time on the when an ODE solve is ready\n",
    "# only save the integral of the excited state population of each trajectory\n",
    "Main.eval(\"\"\"\n",
    "function output_func(sol,i)\n",
    "    next!(pbar)\n",
    "    return trapz(sol.t, [real(sum(diag(sol.u[j])[25:end])) for j in 1:size(sol.u)[1]]), false\n",
    "end\"\"\")"
   ]
  },
  {
   "cell_type": "code",
   "execution_count": 161,
   "metadata": {},
   "outputs": [],
   "source": [
    "results = {}\n",
    "for name, ρ_ini in initial_populations.items():\n",
    "    Main.ρ_ini = ρ_ini\n",
    "    Main.eval(\"\"\"\n",
    "    tspan = (0.0f0, 300e-6)\n",
    "    prob = ODEProblem(Lindblad_rhs!,ρ_ini,tspan,p)\n",
    "    tmp = 0\n",
    "    \"\"\")\n",
    "\n",
    "    # defining the function that changes the ODE parameters for each iteration\n",
    "    Main.eval(\"\"\"\n",
    "    function prob_func(prob,i,repeat)\n",
    "        remake(prob,p=[Ω, 0, params[i], 0., 0., 184, μzlaser, σylaser, σzlaser])\n",
    "    end\n",
    "    \"\"\")\n",
    "\n",
    "    # setting up the EnsembleProblem with the earlier defined ODEProblem\n",
    "    Main.eval(\"\"\"\n",
    "    ens_prob = EnsembleProblem(prob, prob_func = prob_func, output_func = output_func)\n",
    "    \"\"\")\n",
    "\n",
    "    # starting the parallel ensemble simulation\n",
    "    # precision of the solver is increased resulting in a longer runtime\n",
    "    # probably not necessary\n",
    "    Main.eval(\"pbar.counter = 0\")\n",
    "    Main.eval(\"pbar.n = size(params)[1]\")\n",
    "    Main.eval(\"\"\"\n",
    "    @time sim = solve(ens_prob, Tsit5(), EnsembleThreads(), save_start = true, save_end = true, \n",
    "                save_everystep = true; trajectories = size(params)[1], dt = 1e-9, adaptive=true,\n",
    "                abstol = 5e-7, reltol = 5e-4, callback = cb)\n",
    "    sim.elapsedTime\n",
    "    \"\"\")\n",
    "    results[name] = Main.eval(\"sim.u\")"
   ]
  },
  {
   "cell_type": "code",
   "execution_count": 162,
   "metadata": {},
   "outputs": [
    {
     "data": {
      "image/png": "[encoded data removed]",
      "text/plain": [
       "<Figure size 576x360 with 1 Axes>"
      ]
     },
     "metadata": {
      "needs_background": "light"
     },
     "output_type": "display_data"
    }
   ],
   "source": [
    "fig, ax = plt.subplots(figsize = (8,5))\n",
    "\n",
    "for name, res in results.items():\n",
    "    ax.plot(Main.Deltas/Γ, res*Γ, lw = 3, label = name)\n",
    "    \n",
    "ax.set_xlabel('Δ [Γ]')\n",
    "ax.set_ylabel('photons per molecule')\n",
    "ax.legend(fontsize = 14)\n",
    "\n",
    "set_fontsize(ax, 14)"
   ]
  },
  {
   "cell_type": "code",
   "execution_count": null,
   "metadata": {},
   "outputs": [],
   "source": []
  }
 ],
 "metadata": {
  "kernelspec": {
   "display_name": "Python 3",
   "language": "python",
   "name": "python3"
  },
  "language_info": {
   "codemirror_mode": {
    "name": "ipython",
    "version": 3
   },
   "file_extension": ".py",
   "mimetype": "text/x-python",
   "name": "python",
   "nbconvert_exporter": "python",
   "pygments_lexer": "ipython3",
   "version": "3.8.5"
  }
 },
 "nbformat": 4,
 "nbformat_minor": 4
}
