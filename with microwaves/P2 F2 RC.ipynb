{
 "cells": [
  {
   "cell_type": "code",
   "execution_count": 1,
   "metadata": {},
   "outputs": [],
   "source": [
    "%load_ext autoreload\n",
    "%autoreload 2\n",
    "\n",
    "import sys\n",
    "sys.path.append('../')\n",
    "\n",
    "import h5py\n",
    "import scipy\n",
    "import sympy\n",
    "import pickle\n",
    "import numpy as np\n",
    "from tqdm import tqdm\n",
    "from pathlib import Path\n",
    "import matplotlib.pyplot as plt\n",
    "from scipy.sparse import csr_matrix\n",
    "from sympy import Symbol, zeros, Function, MatrixSymbol\n",
    "\n",
    "# import created modules\n",
    "from hamiltonian.states import CoupledBasisState\n",
    "from hamiltonian.generate_hamiltonian import generate_X_hamiltonian_function, generate_B_hamiltonian_function, \\\n",
    "                                                generate_diagonalized_hamiltonian\n",
    "from hamiltonian.utils import ni_range, matrix_to_states, find_exact_states, reduced_basis_hamiltonian, \\\n",
    "                                find_state_idx_from_state, reorder_evecs, generate_coupled_ground_states\n",
    "\n",
    "from couplings.utils import ED_ME_mixed_state, collapse_matrices, generate_superoperator, \\\n",
    "                            generate_flat_superoperator, generate_sharp_superoperator\n",
    "from couplings.generate_coupling import optical_coupling_matrix, microwave_coupling_matrix, generate_laser_D, generate_microwave_D\n",
    "\n",
    "from symbolic import generate_density_matrix_symbolic, generate_system_of_equations, generate_symbolic_hamiltonian,\\\n",
    "                        system_of_equations_to_lines, generate_symbolic_detunings\n",
    "from symbolic.utils import subs_rabi_rate\n",
    "\n",
    "from utils.plot_utils import set_fontsize\n",
    "from utils import population, J_levels, J_slice, delete_J_level"
   ]
  },
  {
   "cell_type": "code",
   "execution_count": 2,
   "metadata": {},
   "outputs": [],
   "source": [
    "script_dir = Path().parent.absolute().parent"
   ]
  },
  {
   "cell_type": "code",
   "execution_count": 3,
   "metadata": {},
   "outputs": [
    {
     "data": {
      "text/plain": [
       "WindowsPath('C:/Users/Olivier/Documents/GitHub/optical-bloch')"
      ]
     },
     "execution_count": 3,
     "metadata": {},
     "output_type": "execute_result"
    }
   ],
   "source": [
    "script_dir"
   ]
  },
  {
   "cell_type": "markdown",
   "metadata": {},
   "source": [
    "## X-state\n",
    "\n",
    "Define what states from the $X ^1\\Sigma$ electronic state are to be included in the simulation."
   ]
  },
  {
   "cell_type": "code",
   "execution_count": 4,
   "metadata": {},
   "outputs": [],
   "source": [
    "#Define what states are to be included in the simulation\n",
    "Js_g = [0,1,2,3] # J values to be included\n",
    "I_F = 1/2 #Fluorine nuclear spin\n",
    "I_Tl = 1/2 #Thallium nuclear spin\n",
    "\n",
    "#Generate a list of approximate ground states. The exact ground states are determined within the main\n",
    "#simulation function\n",
    "ground_states_approx = [1*CoupledBasisState(F,mF,F1,J,I_F,I_Tl, electronic_state='X', P = (-1)**J, Omega = 0)\n",
    "                  for J  in Js_g\n",
    "                  for F1 in ni_range(np.abs(J-I_F),J+I_F+1)\n",
    "                  for F in ni_range(np.abs(F1-I_Tl),F1+I_Tl+1)\n",
    "                  for mF in ni_range(-F, F+1)\n",
    "                 ]"
   ]
  },
  {
   "cell_type": "code",
   "execution_count": 5,
   "metadata": {},
   "outputs": [
    {
     "name": "stdout",
     "output_type": "stream",
     "text": [
      "+1.0000+0.0000j x |X, J = 0, F1 = 1/2, F = 0, mF = 0, I1 = 1/2, I2 = 1/2, P = 1, Omega = 0>\n",
      "+1.0000+0.0000j x |X, J = 0, F1 = 1/2, F = 1, mF = -1, I1 = 1/2, I2 = 1/2, P = 1, Omega = 0>\n",
      "+1.0000+0.0000j x |X, J = 0, F1 = 1/2, F = 1, mF = 0, I1 = 1/2, I2 = 1/2, P = 1, Omega = 0>\n",
      "+1.0000+0.0000j x |X, J = 0, F1 = 1/2, F = 1, mF = 1, I1 = 1/2, I2 = 1/2, P = 1, Omega = 0>\n",
      "+1.0000+0.0000j x |X, J = 1, F1 = 1/2, F = 0, mF = 0, I1 = 1/2, I2 = 1/2, P = -1, Omega = 0>\n",
      "+1.0000+0.0000j x |X, J = 1, F1 = 1/2, F = 1, mF = -1, I1 = 1/2, I2 = 1/2, P = -1, Omega = 0>\n",
      "+1.0000+0.0000j x |X, J = 1, F1 = 1/2, F = 1, mF = 0, I1 = 1/2, I2 = 1/2, P = -1, Omega = 0>\n",
      "+1.0000+0.0000j x |X, J = 1, F1 = 1/2, F = 1, mF = 1, I1 = 1/2, I2 = 1/2, P = -1, Omega = 0>\n",
      "+1.0000+0.0000j x |X, J = 1, F1 = 3/2, F = 1, mF = -1, I1 = 1/2, I2 = 1/2, P = -1, Omega = 0>\n",
      "+1.0000+0.0000j x |X, J = 1, F1 = 3/2, F = 1, mF = 0, I1 = 1/2, I2 = 1/2, P = -1, Omega = 0>\n",
      "+1.0000+0.0000j x |X, J = 1, F1 = 3/2, F = 1, mF = 1, I1 = 1/2, I2 = 1/2, P = -1, Omega = 0>\n",
      "+1.0000+0.0000j x |X, J = 1, F1 = 3/2, F = 2, mF = -2, I1 = 1/2, I2 = 1/2, P = -1, Omega = 0>\n",
      "+1.0000+0.0000j x |X, J = 1, F1 = 3/2, F = 2, mF = -1, I1 = 1/2, I2 = 1/2, P = -1, Omega = 0>\n",
      "+1.0000+0.0000j x |X, J = 1, F1 = 3/2, F = 2, mF = 0, I1 = 1/2, I2 = 1/2, P = -1, Omega = 0>\n",
      "+1.0000+0.0000j x |X, J = 1, F1 = 3/2, F = 2, mF = 1, I1 = 1/2, I2 = 1/2, P = -1, Omega = 0>\n",
      "+1.0000+0.0000j x |X, J = 1, F1 = 3/2, F = 2, mF = 2, I1 = 1/2, I2 = 1/2, P = -1, Omega = 0>\n",
      "+1.0000+0.0000j x |X, J = 2, F1 = 3/2, F = 1, mF = -1, I1 = 1/2, I2 = 1/2, P = 1, Omega = 0>\n",
      "+1.0000+0.0000j x |X, J = 2, F1 = 3/2, F = 1, mF = 0, I1 = 1/2, I2 = 1/2, P = 1, Omega = 0>\n",
      "+1.0000+0.0000j x |X, J = 2, F1 = 3/2, F = 1, mF = 1, I1 = 1/2, I2 = 1/2, P = 1, Omega = 0>\n",
      "+1.0000+0.0000j x |X, J = 2, F1 = 3/2, F = 2, mF = -2, I1 = 1/2, I2 = 1/2, P = 1, Omega = 0>\n",
      "+1.0000+0.0000j x |X, J = 2, F1 = 3/2, F = 2, mF = -1, I1 = 1/2, I2 = 1/2, P = 1, Omega = 0>\n",
      "+1.0000+0.0000j x |X, J = 2, F1 = 3/2, F = 2, mF = 0, I1 = 1/2, I2 = 1/2, P = 1, Omega = 0>\n",
      "+1.0000+0.0000j x |X, J = 2, F1 = 3/2, F = 2, mF = 1, I1 = 1/2, I2 = 1/2, P = 1, Omega = 0>\n",
      "+1.0000+0.0000j x |X, J = 2, F1 = 3/2, F = 2, mF = 2, I1 = 1/2, I2 = 1/2, P = 1, Omega = 0>\n",
      "+1.0000+0.0000j x |X, J = 2, F1 = 5/2, F = 2, mF = -2, I1 = 1/2, I2 = 1/2, P = 1, Omega = 0>\n",
      "+1.0000+0.0000j x |X, J = 2, F1 = 5/2, F = 2, mF = -1, I1 = 1/2, I2 = 1/2, P = 1, Omega = 0>\n",
      "+1.0000+0.0000j x |X, J = 2, F1 = 5/2, F = 2, mF = 0, I1 = 1/2, I2 = 1/2, P = 1, Omega = 0>\n",
      "+1.0000+0.0000j x |X, J = 2, F1 = 5/2, F = 2, mF = 1, I1 = 1/2, I2 = 1/2, P = 1, Omega = 0>\n",
      "+1.0000+0.0000j x |X, J = 2, F1 = 5/2, F = 2, mF = 2, I1 = 1/2, I2 = 1/2, P = 1, Omega = 0>\n",
      "+1.0000+0.0000j x |X, J = 2, F1 = 5/2, F = 3, mF = -3, I1 = 1/2, I2 = 1/2, P = 1, Omega = 0>\n",
      "+1.0000+0.0000j x |X, J = 2, F1 = 5/2, F = 3, mF = -2, I1 = 1/2, I2 = 1/2, P = 1, Omega = 0>\n",
      "+1.0000+0.0000j x |X, J = 2, F1 = 5/2, F = 3, mF = -1, I1 = 1/2, I2 = 1/2, P = 1, Omega = 0>\n",
      "+1.0000+0.0000j x |X, J = 2, F1 = 5/2, F = 3, mF = 0, I1 = 1/2, I2 = 1/2, P = 1, Omega = 0>\n",
      "+1.0000+0.0000j x |X, J = 2, F1 = 5/2, F = 3, mF = 1, I1 = 1/2, I2 = 1/2, P = 1, Omega = 0>\n",
      "+1.0000+0.0000j x |X, J = 2, F1 = 5/2, F = 3, mF = 2, I1 = 1/2, I2 = 1/2, P = 1, Omega = 0>\n",
      "+1.0000+0.0000j x |X, J = 2, F1 = 5/2, F = 3, mF = 3, I1 = 1/2, I2 = 1/2, P = 1, Omega = 0>\n",
      "+1.0000+0.0000j x |X, J = 3, F1 = 5/2, F = 2, mF = -2, I1 = 1/2, I2 = 1/2, P = -1, Omega = 0>\n",
      "+1.0000+0.0000j x |X, J = 3, F1 = 5/2, F = 2, mF = -1, I1 = 1/2, I2 = 1/2, P = -1, Omega = 0>\n",
      "+1.0000+0.0000j x |X, J = 3, F1 = 5/2, F = 2, mF = 0, I1 = 1/2, I2 = 1/2, P = -1, Omega = 0>\n",
      "+1.0000+0.0000j x |X, J = 3, F1 = 5/2, F = 2, mF = 1, I1 = 1/2, I2 = 1/2, P = -1, Omega = 0>\n",
      "+1.0000+0.0000j x |X, J = 3, F1 = 5/2, F = 2, mF = 2, I1 = 1/2, I2 = 1/2, P = -1, Omega = 0>\n",
      "+1.0000+0.0000j x |X, J = 3, F1 = 5/2, F = 3, mF = -3, I1 = 1/2, I2 = 1/2, P = -1, Omega = 0>\n",
      "+1.0000+0.0000j x |X, J = 3, F1 = 5/2, F = 3, mF = -2, I1 = 1/2, I2 = 1/2, P = -1, Omega = 0>\n",
      "+1.0000+0.0000j x |X, J = 3, F1 = 5/2, F = 3, mF = -1, I1 = 1/2, I2 = 1/2, P = -1, Omega = 0>\n",
      "+1.0000+0.0000j x |X, J = 3, F1 = 5/2, F = 3, mF = 0, I1 = 1/2, I2 = 1/2, P = -1, Omega = 0>\n",
      "+1.0000+0.0000j x |X, J = 3, F1 = 5/2, F = 3, mF = 1, I1 = 1/2, I2 = 1/2, P = -1, Omega = 0>\n",
      "+1.0000+0.0000j x |X, J = 3, F1 = 5/2, F = 3, mF = 2, I1 = 1/2, I2 = 1/2, P = -1, Omega = 0>\n",
      "+1.0000+0.0000j x |X, J = 3, F1 = 5/2, F = 3, mF = 3, I1 = 1/2, I2 = 1/2, P = -1, Omega = 0>\n",
      "+1.0000+0.0000j x |X, J = 3, F1 = 7/2, F = 3, mF = -3, I1 = 1/2, I2 = 1/2, P = -1, Omega = 0>\n",
      "+1.0000+0.0000j x |X, J = 3, F1 = 7/2, F = 3, mF = -2, I1 = 1/2, I2 = 1/2, P = -1, Omega = 0>\n",
      "+1.0000+0.0000j x |X, J = 3, F1 = 7/2, F = 3, mF = -1, I1 = 1/2, I2 = 1/2, P = -1, Omega = 0>\n",
      "+1.0000+0.0000j x |X, J = 3, F1 = 7/2, F = 3, mF = 0, I1 = 1/2, I2 = 1/2, P = -1, Omega = 0>\n",
      "+1.0000+0.0000j x |X, J = 3, F1 = 7/2, F = 3, mF = 1, I1 = 1/2, I2 = 1/2, P = -1, Omega = 0>\n",
      "+1.0000+0.0000j x |X, J = 3, F1 = 7/2, F = 3, mF = 2, I1 = 1/2, I2 = 1/2, P = -1, Omega = 0>\n",
      "+1.0000+0.0000j x |X, J = 3, F1 = 7/2, F = 3, mF = 3, I1 = 1/2, I2 = 1/2, P = -1, Omega = 0>\n",
      "+1.0000+0.0000j x |X, J = 3, F1 = 7/2, F = 4, mF = -4, I1 = 1/2, I2 = 1/2, P = -1, Omega = 0>\n",
      "+1.0000+0.0000j x |X, J = 3, F1 = 7/2, F = 4, mF = -3, I1 = 1/2, I2 = 1/2, P = -1, Omega = 0>\n",
      "+1.0000+0.0000j x |X, J = 3, F1 = 7/2, F = 4, mF = -2, I1 = 1/2, I2 = 1/2, P = -1, Omega = 0>\n",
      "+1.0000+0.0000j x |X, J = 3, F1 = 7/2, F = 4, mF = -1, I1 = 1/2, I2 = 1/2, P = -1, Omega = 0>\n",
      "+1.0000+0.0000j x |X, J = 3, F1 = 7/2, F = 4, mF = 0, I1 = 1/2, I2 = 1/2, P = -1, Omega = 0>\n",
      "+1.0000+0.0000j x |X, J = 3, F1 = 7/2, F = 4, mF = 1, I1 = 1/2, I2 = 1/2, P = -1, Omega = 0>\n",
      "+1.0000+0.0000j x |X, J = 3, F1 = 7/2, F = 4, mF = 2, I1 = 1/2, I2 = 1/2, P = -1, Omega = 0>\n",
      "+1.0000+0.0000j x |X, J = 3, F1 = 7/2, F = 4, mF = 3, I1 = 1/2, I2 = 1/2, P = -1, Omega = 0>\n",
      "+1.0000+0.0000j x |X, J = 3, F1 = 7/2, F = 4, mF = 4, I1 = 1/2, I2 = 1/2, P = -1, Omega = 0>\n"
     ]
    }
   ],
   "source": [
    "for s in ground_states_approx:\n",
    "    s.print_state()"
   ]
  },
  {
   "cell_type": "markdown",
   "metadata": {},
   "source": [
    "Now generate the J=0 to J=4 Hamiltonian to get the reduced X state Hamiltonian"
   ]
  },
  {
   "cell_type": "code",
   "execution_count": 6,
   "metadata": {},
   "outputs": [],
   "source": [
    "fname_X = \"TlF_X_state_hamiltonian_J0to4.pickle\"\n",
    "fname_transform = \"UC_to_C_J0to4.pickle\"\n",
    "\n",
    "path_X = script_dir / \"stored_data\" / fname_X\n",
    "path_transform = script_dir / \"stored_data\" / fname_transform\n",
    "\n",
    "with open(path_X, 'rb') as f:\n",
    "    H_X_uc = pickle.load(f)\n",
    "\n",
    "with open(path_transform, 'rb') as f:\n",
    "    S_transform = pickle.load(f)\n",
    "\n",
    "H_X_uc = generate_X_hamiltonian_function(H_X_uc)"
   ]
  },
  {
   "cell_type": "code",
   "execution_count": 7,
   "metadata": {},
   "outputs": [],
   "source": [
    "parity = lambda J: (-1)**J\n",
    "\n",
    "# generate coupled basis states\n",
    "Jmin = 0\n",
    "Jmax = 4\n",
    "QN_X = generate_coupled_ground_states(ni_range(Jmin, Jmax + 1), electronic_state = 'X',\n",
    "                                       parity = parity, Ω = 0, I_Tl = 1/2, \n",
    "                                       I_F = 1/2)\n",
    "\n",
    "E = np.array([0,0,0])\n",
    "# small magnetic field to ensure m_F is a good quantum number\n",
    "B = np.array([0,0,0.001])\n",
    "\n",
    "H_X = S_transform.conj().T @ H_X_uc(E,B) @ S_transform\n",
    "\n",
    "# diagonalize the Hamiltonian\n",
    "H_X_diag, V, V_ref_X = generate_diagonalized_hamiltonian(H_X, keep_order = True, return_V_ref = True)\n",
    "\n",
    "# new set of quantum numbers:\n",
    "QN_X_diag = matrix_to_states(V, QN_X)\n",
    "\n",
    "ground_states = find_exact_states(ground_states_approx, H_X_diag, QN_X_diag, V_ref = V_ref_X)\n",
    "\n",
    "H_X_red = reduced_basis_hamiltonian(QN_X_diag, H_X_diag, ground_states)"
   ]
  },
  {
   "cell_type": "markdown",
   "metadata": {},
   "source": [
    "## B-state\n",
    "Define what states from the $B ^3\\Pi_1$ electronic state are to be included in the simulation."
   ]
  },
  {
   "cell_type": "code",
   "execution_count": 8,
   "metadata": {},
   "outputs": [],
   "source": [
    "I_F = 1/2\n",
    "I_Tl = 1/2\n",
    "\n",
    "# define what states are to be included in the simulation\n",
    "# specify J, F1 and F for each state separately\n",
    "J_excited = [1]\n",
    "F1_excited = [3/2]\n",
    "F_excited = [2]\n",
    "\n",
    "# generate a list of excited states. The exact excited states are determined within the main\n",
    "# simulation function\n",
    "excited_states_approx = [1*CoupledBasisState(F,mF,F1,J,I_F,I_Tl, electronic_state='B', P = -1, Omega = 1)\n",
    "                  for J,F1,F in zip(J_excited, F1_excited, F_excited)\n",
    "                  for mF in ni_range(-F, F+1)\n",
    "                 ]"
   ]
  },
  {
   "cell_type": "code",
   "execution_count": 9,
   "metadata": {},
   "outputs": [
    {
     "name": "stdout",
     "output_type": "stream",
     "text": [
      "+1.0000+0.0000j x |B, J = 1, F1 = 3/2, F = 2, mF = -2, I1 = 1/2, I2 = 1/2, P = -1, Omega = 1>\n",
      "+1.0000+0.0000j x |B, J = 1, F1 = 3/2, F = 2, mF = -1, I1 = 1/2, I2 = 1/2, P = -1, Omega = 1>\n",
      "+1.0000+0.0000j x |B, J = 1, F1 = 3/2, F = 2, mF = 0, I1 = 1/2, I2 = 1/2, P = -1, Omega = 1>\n",
      "+1.0000+0.0000j x |B, J = 1, F1 = 3/2, F = 2, mF = 1, I1 = 1/2, I2 = 1/2, P = -1, Omega = 1>\n",
      "+1.0000+0.0000j x |B, J = 1, F1 = 3/2, F = 2, mF = 2, I1 = 1/2, I2 = 1/2, P = -1, Omega = 1>\n"
     ]
    }
   ],
   "source": [
    "for s in excited_states_approx:\n",
    "    s.print_state()"
   ]
  },
  {
   "cell_type": "markdown",
   "metadata": {},
   "source": [
    "Now generate the excited state Hamiltonian to get the reduced B state Hamiltonian"
   ]
  },
  {
   "cell_type": "code",
   "execution_count": 10,
   "metadata": {},
   "outputs": [],
   "source": [
    "fname_B = \"B_hamiltonians_symbolic_coupled_P_1to3.pickle\"\n",
    "\n",
    "path_B = script_dir / \"stored_data\" / fname_B"
   ]
  },
  {
   "cell_type": "code",
   "execution_count": 11,
   "metadata": {},
   "outputs": [],
   "source": [
    "with open(path_B, 'rb') as f:\n",
    "    H_B = pickle.load(f)"
   ]
  },
  {
   "cell_type": "code",
   "execution_count": 12,
   "metadata": {},
   "outputs": [],
   "source": [
    "H_B = generate_B_hamiltonian_function(H_B)*2*np.pi\n",
    "\n",
    "# generate coupled basis states\n",
    "Jmin = 1\n",
    "Jmax = 3\n",
    "Ps = [-1,1]\n",
    "\n",
    "QN_B = [CoupledBasisState(\n",
    "                    F,mF,F1,J,I_F,I_Tl,P = P, Omega = 1, electronic_state='B'\n",
    "                    )\n",
    "        for J  in ni_range(Jmin, Jmax+1)\n",
    "        for F1 in ni_range(np.abs(J-I_F),J+I_F+1)\n",
    "        for F in ni_range(np.abs(F1-I_Tl),F1+I_Tl+1)\n",
    "        for mF in ni_range(-F, F+1)\n",
    "        for P in Ps\n",
    "    ]\n",
    "\n",
    "\n",
    "H_B_diag, V, V_ref_B = generate_diagonalized_hamiltonian(H_B, keep_order = True, return_V_ref = True)\n",
    "\n",
    "# new set of quantum numbers:\n",
    "QN_B_diag = matrix_to_states(V, QN_B)\n",
    "\n",
    "excited_states = find_exact_states(excited_states_approx, H_B_diag, QN_B_diag, V_ref=V_ref_B)\n",
    "\n",
    "H_B_red = reduced_basis_hamiltonian(QN_B_diag, H_B_diag, excited_states)"
   ]
  },
  {
   "cell_type": "markdown",
   "metadata": {},
   "source": [
    "## Total Internal Hamiltonian"
   ]
  },
  {
   "cell_type": "code",
   "execution_count": 13,
   "metadata": {},
   "outputs": [],
   "source": [
    "H_X_red[np.abs(H_X_red) < 0.1] = 0\n",
    "H_B_red[np.abs(H_B_red) < 0.1] = 0\n",
    "\n",
    "H_int = scipy.linalg.block_diag(H_X_red, H_B_red)\n",
    "V_ref_int = np.eye(H_int.shape[0])\n",
    "\n",
    "#Define Hamiltonian in the rotating frame (transformation not applied yet)\n",
    "H_rot = H_int.copy()\n",
    "\n",
    "#Define QN for the total Hamiltonian that includes both X and B\n",
    "QN = ground_states + excited_states"
   ]
  },
  {
   "cell_type": "markdown",
   "metadata": {},
   "source": [
    "## Laser coupling\n",
    "### Calculating transition 1; P(2), F$_1$'=3/2, F'=2"
   ]
  },
  {
   "cell_type": "code",
   "execution_count": 14,
   "metadata": {},
   "outputs": [],
   "source": [
    "#Define ground states for laser driven transition\n",
    "Js = [2]\n",
    "ground_states_laser_approx =  [1*CoupledBasisState(F,mF,F1,J,I_F,I_Tl, electronic_state='X', P = (-1)**J, Omega = 0)\n",
    "                                  for J  in Js\n",
    "                                  for F1 in ni_range(np.abs(J-I_F),J+I_F+1)\n",
    "                                  for F in ni_range(np.abs(F1-I_Tl),F1+I_Tl+1)\n",
    "                                  for mF in ni_range(-F, F+1)\n",
    "                                 ]\n",
    "\n",
    "#Define excited states for laser\n",
    "# excited_states_laser_approx = [1*CoupledBasisState(\n",
    "#                                 F=0,mF=0,F1=1/2,J=1,I1=1/2,I2=1/2,P = +1, Omega = 1, electronic_state='B'\n",
    "#                                 )\n",
    "#                             ]\n",
    "excited_states_laser_approx = excited_states_approx"
   ]
  },
  {
   "cell_type": "code",
   "execution_count": 15,
   "metadata": {},
   "outputs": [],
   "source": [
    "#Define the \"main\" states. These are used to calculate the detunings and Rabi rates for the transitions\n",
    "ground_main_approx = 1*CoupledBasisState(J=2,F1=3/2,F=1,mF=1,I1=1/2,I2=1/2,electronic_state='X', P = +1, Omega = 0)\n",
    "excited_main_approx = 1*CoupledBasisState(J=1,F1=3/2,F=2,mF=1,I1=1/2,I2=1/2, electronic_state='B', P = -1, Omega = 1)"
   ]
  },
  {
   "cell_type": "code",
   "execution_count": 16,
   "metadata": {},
   "outputs": [
    {
     "name": "stdout",
     "output_type": "stream",
     "text": [
      "Wall time: 47.1 s\n"
     ]
    }
   ],
   "source": [
    "%%time\n",
    "ground_states_laser_1 = find_exact_states(\n",
    "                                ground_states_laser_approx, H_rot, QN, V_ref = V_ref_int\n",
    "                                )\n",
    "excited_states_laser_1 = find_exact_states(\n",
    "                                excited_states_laser_approx, H_rot, QN, V_ref = V_ref_int\n",
    "                                )\n",
    "\n",
    "H_laser_z_1 = optical_coupling_matrix(\n",
    "                                    QN, \n",
    "                                    ground_states_laser_1, \n",
    "                                    excited_states_laser_1, \n",
    "                                    pol_vec = np.array([0,0,1]), \n",
    "                                    reduced = False,\n",
    "                                    nprocs = 6)\n",
    "H_laser_x_1 = optical_coupling_matrix(\n",
    "                                    QN, \n",
    "                                    ground_states_laser_1, \n",
    "                                    excited_states_laser_1, \n",
    "                                    pol_vec = np.array([1,0,0]), \n",
    "                                    reduced = False,\n",
    "                                    nprocs = 6\n",
    "                                    )"
   ]
  },
  {
   "cell_type": "code",
   "execution_count": 17,
   "metadata": {},
   "outputs": [],
   "source": [
    "# set small values to zero\n",
    "H_laser_z_1[np.abs(H_laser_z_1) < 1e-3*np.max(np.abs(H_laser_z_1))] = 0\n",
    "H_laser_x_1[np.abs(H_laser_x_1) < 1e-3*np.max(np.abs(H_laser_x_1))] = 0\n",
    "H_laser_z_1[np.abs(H_laser_z_1) < 1e-6] = 0\n",
    "H_laser_x_1[np.abs(H_laser_x_1) < 1e-6] = 0"
   ]
  },
  {
   "cell_type": "code",
   "execution_count": 18,
   "metadata": {},
   "outputs": [
    {
     "name": "stdout",
     "output_type": "stream",
     "text": [
      "(-0.07693482677091049+0j)\n",
      "+1.0000+0.0000j x |X, J = 2, F1 = 3/2, F = 1, mF = 1, I1 = 1/2, I2 = 1/2, P = 1, Omega = 0>\n",
      "----------------------------------------------------------------------------------------------------\n",
      "+1.0000+0.0000j x |X, J = 2, F1 = 3/2, F = 1, mF = 1, I1 = 1/2, I2 = 1/2, P = 1, Omega = 0>\n",
      "====================================================================================================\n",
      "+1.0000+0.0000j x |B, J = 1, F1 = 3/2, F = 2, mF = 1, I1 = 1/2, I2 = 1/2, P = -1, Omega = 1>\n",
      "----------------------------------------------------------------------------------------------------\n",
      "+0.8482+0.0000j x |B, J = 1, F1 = 3/2, F = 2, mF = 1, I1 = 1/2, I2 = 1/2, P = -1, Omega = 1>\n",
      "+0.5294+0.0000j x |B, J = 2, F1 = 3/2, F = 2, mF = 1, I1 = 1/2, I2 = 1/2, P = -1, Omega = 1>\n"
     ]
    }
   ],
   "source": [
    "ground_main_1 = find_exact_states([ground_main_approx], H_rot, QN, V_ref = V_ref_int)[0]\n",
    "excited_main_1 = find_exact_states([excited_main_approx], H_rot, QN, V_ref = V_ref_int)[0]\n",
    "\n",
    "ME_main_1 = ED_ME_mixed_state(\n",
    "                        excited_main_1, ground_main_1, pol_vec = np.array([0,0,1])\n",
    "                        )\n",
    "\n",
    "ground_main_idx_1 = QN.index(ground_main_1)\n",
    "excited_main_idx_1 = QN.index(excited_main_1)\n",
    "\n",
    "print(ME_main_1)\n",
    "ground_main_approx.print_state()\n",
    "print('-'*100)\n",
    "ground_main_1.print_state()\n",
    "print('='*100)\n",
    "excited_main_approx.print_state()\n",
    "print('-'*100)\n",
    "excited_main_1.print_state()"
   ]
  },
  {
   "cell_type": "code",
   "execution_count": 19,
   "metadata": {},
   "outputs": [],
   "source": [
    "D1 = generate_laser_D(H_rot, QN, ground_main_1, excited_main_1, excited_states_laser_1, Δ = 0)"
   ]
  },
  {
   "cell_type": "markdown",
   "metadata": {},
   "source": [
    "## J12 microwaves"
   ]
  },
  {
   "cell_type": "code",
   "execution_count": 20,
   "metadata": {},
   "outputs": [],
   "source": [
    "# Define ground states for microwaves\n",
    "Js = [2]\n",
    "ground_states_microwave1_approx =  [1*CoupledBasisState(F,mF,F1,J,I_F,I_Tl, electronic_state='X', P = (-1)**J, Omega = 0)\n",
    "                                  for J  in Js\n",
    "                                  for F1 in ni_range(np.abs(J-I_F),J+I_F+1)\n",
    "                                  for F in ni_range(np.abs(F1-I_Tl),F1+I_Tl+1)\n",
    "                                  for mF in ni_range(-F, F+1)\n",
    "                                 ]\n",
    "\n",
    "# Define excited states for microwaves\n",
    "Je = [1]\n",
    "excited_states_microwave1_approx =  [1*CoupledBasisState(F,mF,F1,J,I_F,I_Tl, electronic_state='X', P = (-1)**J, Omega = 0)\n",
    "                                  for J  in Je\n",
    "                                  for F1 in ni_range(np.abs(J-I_F),J+I_F+1)\n",
    "                                  for F in ni_range(np.abs(F1-I_Tl),F1+I_Tl+1)\n",
    "                                  for mF in ni_range(-F, F+1)\n",
    "                                 ]"
   ]
  },
  {
   "cell_type": "code",
   "execution_count": 21,
   "metadata": {},
   "outputs": [],
   "source": [
    "#Define the \"main\" states. These are used to calculate the detunings and Rabi rates for the transitions\n",
    "ground_μ1_main_approx = 1*CoupledBasisState(J=2,F1=5/2,F=2,mF=0,I1=1/2,I2=1/2, electronic_state='X', P = (-1)**2, Omega = 0)\n",
    "excited_μ1_main_approx = 1*CoupledBasisState(J=1,F1=3/2,F=1,mF=0,I1=1/2,I2=1/2,electronic_state='X', P = (-1)**1, Omega = 0)"
   ]
  },
  {
   "cell_type": "code",
   "execution_count": 22,
   "metadata": {},
   "outputs": [
    {
     "name": "stdout",
     "output_type": "stream",
     "text": [
      "Wall time: 14 s\n"
     ]
    }
   ],
   "source": [
    "%%time\n",
    "ground_states_μ1 = find_exact_states(\n",
    "                                ground_states_microwave1_approx, H_rot, QN, V_ref = V_ref_int\n",
    "                                )\n",
    "excited_states_μ1 = find_exact_states(\n",
    "                                excited_states_microwave1_approx, H_rot, QN, V_ref = V_ref_int\n",
    "                                )\n",
    "\n",
    "H_μ1_z = microwave_coupling_matrix(\n",
    "                                    QN, \n",
    "                                    ground_states = ground_states_μ1, \n",
    "                                    excited_states = excited_states_μ1, \n",
    "                                    pol_vec = np.array([0,0,1]), \n",
    "                                    reduced = False,\n",
    "                                    nprocs = 6\n",
    "                                    )\n",
    "H_μ1_y = microwave_coupling_matrix(\n",
    "                                    QN, \n",
    "                                    ground_states = ground_states_μ1, \n",
    "                                    excited_states = excited_states_μ1, \n",
    "                                    pol_vec = np.array([0,1,0]), \n",
    "                                    reduced = False,\n",
    "                                    nprocs = 6\n",
    "                                    )"
   ]
  },
  {
   "cell_type": "code",
   "execution_count": 23,
   "metadata": {},
   "outputs": [],
   "source": [
    "# set small values to zero\n",
    "H_μ1_z[np.abs(H_μ1_z) < 1e-3*np.max(np.abs(H_μ1_z))] = 0\n",
    "H_μ1_y[np.abs(H_μ1_y) < 1e-3*np.max(np.abs(H_μ1_y))] = 0"
   ]
  },
  {
   "cell_type": "code",
   "execution_count": 24,
   "metadata": {},
   "outputs": [
    {
     "name": "stdout",
     "output_type": "stream",
     "text": [
      "(0.49342186044742875+0j)\n",
      "+1.0000+0.0000j x |X, J = 2, F1 = 5/2, F = 2, mF = 0, I1 = 1/2, I2 = 1/2, P = 1, Omega = 0>\n",
      "----------------------------------------------------------------------------------------------------\n",
      "+0.9983-0.0000j x |X, J = 2, F1 = 5/2, F = 2, mF = 0, I1 = 1/2, I2 = 1/2, P = 1, Omega = 0>\n",
      "====================================================================================================\n",
      "+1.0000+0.0000j x |X, J = 1, F1 = 3/2, F = 1, mF = 0, I1 = 1/2, I2 = 1/2, P = -1, Omega = 0>\n",
      "----------------------------------------------------------------------------------------------------\n",
      "+0.9961+0.0000j x |X, J = 1, F1 = 3/2, F = 1, mF = 0, I1 = 1/2, I2 = 1/2, P = -1, Omega = 0>\n"
     ]
    }
   ],
   "source": [
    "ground_μ1_main = find_exact_states([ground_μ1_main_approx], H_rot, QN, V_ref = V_ref_int)[0]\n",
    "excited_μ1_main = find_exact_states([excited_μ1_main_approx], H_rot, QN, V_ref = V_ref_int)[0]\n",
    "\n",
    "ME_μ1_main = ED_ME_mixed_state(\n",
    "                        ground_μ1_main, excited_μ1_main, pol_vec = np.array([0,0,1])\n",
    "                        )\n",
    "\n",
    "ground_μ1_main_idx = QN.index(ground_μ1_main)\n",
    "excited_μ1_main_idx = QN.index(excited_μ1_main)\n",
    "\n",
    "print(ME_μ1_main)\n",
    "ground_μ1_main_approx.print_state()\n",
    "print('-'*100)\n",
    "ground_μ1_main.print_state()\n",
    "print('='*100)\n",
    "excited_μ1_main_approx.print_state()\n",
    "print('-'*100)\n",
    "excited_μ1_main.print_state()"
   ]
  },
  {
   "cell_type": "code",
   "execution_count": 25,
   "metadata": {},
   "outputs": [],
   "source": [
    "D_μ1 = generate_microwave_D(H_rot, QN, ground_μ1_main, excited_μ1_main, excited_states_μ1, Δ = 0)"
   ]
  },
  {
   "cell_type": "markdown",
   "metadata": {},
   "source": [
    "## J23 microwaves"
   ]
  },
  {
   "cell_type": "code",
   "execution_count": 26,
   "metadata": {},
   "outputs": [],
   "source": [
    "# Define ground states for microwaves\n",
    "Js = [2]\n",
    "ground_states_microwave2_approx =  [1*CoupledBasisState(F,mF,F1,J,I_F,I_Tl, electronic_state='X', P = (-1)**J, Omega = 0)\n",
    "                                  for J  in Js\n",
    "                                  for F1 in ni_range(np.abs(J-I_F),J+I_F+1)\n",
    "                                  for F in ni_range(np.abs(F1-I_Tl),F1+I_Tl+1)\n",
    "                                  for mF in ni_range(-F, F+1)\n",
    "                                 ]\n",
    "\n",
    "# Define excited states for microwaves\n",
    "Je = [3]\n",
    "excited_states_microwave2_approx =  [1*CoupledBasisState(F,mF,F1,J,I_F,I_Tl, electronic_state='X', P = (-1)**J, Omega = 0)\n",
    "                                  for J  in Je\n",
    "                                  for F1 in ni_range(np.abs(J-I_F),J+I_F+1)\n",
    "                                  for F in ni_range(np.abs(F1-I_Tl),F1+I_Tl+1)\n",
    "                                  for mF in ni_range(-F, F+1)\n",
    "                                 ]"
   ]
  },
  {
   "cell_type": "code",
   "execution_count": 27,
   "metadata": {},
   "outputs": [],
   "source": [
    "#Define the \"main\" states. These are used to calculate the detunings and Rabi rates for the transitions\n",
    "ground_μ2_main_approx = 1*CoupledBasisState(J=2,F1=5/2,F=2,mF=0,I1=1/2,I2=1/2,electronic_state='X', P = (-1)**2, Omega = 0)\n",
    "excited_μ2_main_approx = 1*CoupledBasisState(J=3,F1=7/2,F=3,mF=0,I1=1/2,I2=1/2, electronic_state='X', P = (-1)**3, Omega = 0)"
   ]
  },
  {
   "cell_type": "code",
   "execution_count": 28,
   "metadata": {},
   "outputs": [
    {
     "name": "stdout",
     "output_type": "stream",
     "text": [
      "Wall time: 1min 3s\n"
     ]
    }
   ],
   "source": [
    "%%time\n",
    "ground_states_μ2 = find_exact_states(\n",
    "                                ground_states_microwave2_approx, H_rot, QN, V_ref = V_ref_int\n",
    "                                )\n",
    "excited_states_μ2 = find_exact_states(\n",
    "                                excited_states_microwave2_approx, H_rot, QN, V_ref = V_ref_int\n",
    "                                )\n",
    "\n",
    "H_μ2_z = microwave_coupling_matrix(\n",
    "                                    QN, \n",
    "                                    ground_states = ground_states_μ2, \n",
    "                                    excited_states = excited_states_μ2, \n",
    "                                    pol_vec = np.array([0,0,1]), \n",
    "                                    reduced = False,\n",
    "                                    nprocs = 6\n",
    "                                    )\n",
    "H_μ2_y = microwave_coupling_matrix(\n",
    "                                    QN, \n",
    "                                    ground_states = ground_states_μ2, \n",
    "                                    excited_states = excited_states_μ2, \n",
    "                                    pol_vec = np.array([0,1,0]), \n",
    "                                    reduced = False,\n",
    "                                    nprocs = 6\n",
    "                                    )"
   ]
  },
  {
   "cell_type": "code",
   "execution_count": 29,
   "metadata": {},
   "outputs": [],
   "source": [
    "# set small values to zero\n",
    "H_μ2_z[np.abs(H_μ2_z) < 1e-3*np.max(np.abs(H_μ2_z))] = 0\n",
    "H_μ2_y[np.abs(H_μ2_y) < 1e-3*np.max(np.abs(H_μ2_y))] = 0"
   ]
  },
  {
   "cell_type": "code",
   "execution_count": 30,
   "metadata": {},
   "outputs": [
    {
     "name": "stdout",
     "output_type": "stream",
     "text": [
      "(0.4960095230421847+0j)\n",
      "+1.0000+0.0000j x |X, J = 2, F1 = 5/2, F = 2, mF = 0, I1 = 1/2, I2 = 1/2, P = 1, Omega = 0>\n",
      "----------------------------------------------------------------------------------------------------\n",
      "+0.9983-0.0000j x |X, J = 2, F1 = 5/2, F = 2, mF = 0, I1 = 1/2, I2 = 1/2, P = 1, Omega = 0>\n",
      "====================================================================================================\n",
      "+1.0000+0.0000j x |X, J = 3, F1 = 7/2, F = 3, mF = 0, I1 = 1/2, I2 = 1/2, P = -1, Omega = 0>\n",
      "----------------------------------------------------------------------------------------------------\n",
      "+0.9991-0.0000j x |X, J = 3, F1 = 7/2, F = 3, mF = 0, I1 = 1/2, I2 = 1/2, P = -1, Omega = 0>\n"
     ]
    }
   ],
   "source": [
    "ground_μ2_main = find_exact_states([ground_μ2_main_approx], H_rot, QN, V_ref = V_ref_int)[0]\n",
    "excited_μ2_main = find_exact_states([excited_μ2_main_approx], H_rot, QN, V_ref = V_ref_int)[0]\n",
    "\n",
    "ME_μ2_main = ED_ME_mixed_state(\n",
    "                        ground_μ2_main, excited_μ2_main, pol_vec = np.array([0,0,1])\n",
    "                        )\n",
    "\n",
    "ground_μ2_main_idx = QN.index(ground_μ2_main)\n",
    "excited_μ2_main_idx = QN.index(excited_μ2_main)\n",
    "\n",
    "print(ME_μ2_main)\n",
    "ground_μ2_main_approx.print_state()\n",
    "print('-'*100)\n",
    "ground_μ2_main.print_state()\n",
    "print('='*100)\n",
    "excited_μ2_main_approx.print_state()\n",
    "print('-'*100)\n",
    "excited_μ2_main.print_state()"
   ]
  },
  {
   "cell_type": "code",
   "execution_count": 31,
   "metadata": {},
   "outputs": [],
   "source": [
    "D_μ2 = generate_microwave_D(H_rot, QN, ground_μ2_main, excited_μ2_main, excited_states_μ2, Δ = 0)"
   ]
  },
  {
   "cell_type": "markdown",
   "metadata": {},
   "source": [
    "## Total Hamiltonian"
   ]
  },
  {
   "cell_type": "code",
   "execution_count": 32,
   "metadata": {},
   "outputs": [],
   "source": [
    "# shift energies in H_rot in accordance with the rotating frame\n",
    "# also shift the energies so that ground_main is at zero energy\n",
    "H_rot = H_rot  - np.eye(H_rot.shape[0])*H_rot[ground_main_idx_1,ground_main_idx_1]\n",
    "H_rot += D1 + D_μ1 + D_μ2"
   ]
  },
  {
   "cell_type": "markdown",
   "metadata": {},
   "source": [
    "## Collapse Operators"
   ]
  },
  {
   "cell_type": "code",
   "execution_count": 33,
   "metadata": {},
   "outputs": [
    {
     "name": "stderr",
     "output_type": "stream",
     "text": [
      "100%|████████████████████████████████████████████████████████████████████████████████████| 5/5 [00:04<00:00,  1.22it/s]\n"
     ]
    }
   ],
   "source": [
    "Γ = 2*np.pi*1.6e6\n",
    "C_list = collapse_matrices(QN, ground_states, excited_states, gamma = Γ)\n",
    "C_array = np.array(C_list)\n",
    "C_conj_array = np.einsum('ijk->ikj', C_array.conj())"
   ]
  },
  {
   "cell_type": "markdown",
   "metadata": {},
   "source": [
    "## Generate Symbolic Hamiltonian"
   ]
  },
  {
   "cell_type": "code",
   "execution_count": 34,
   "metadata": {},
   "outputs": [],
   "source": [
    "t = Symbol(\"t\", real = True)\n",
    "\n",
    "# Can't use a sympy function when trying to use multiprocessing\n",
    "Px1 = Symbol(\"Px1(t)\") # Polarization switching function for x\n",
    "Pz1 = Symbol(\"Pz1(t)\") # Polarization switching function for z\n",
    "\n",
    "Pμy1 = Symbol(\"Pμy1(t)\") # Polarization switching function for y\n",
    "Pμz1 = Symbol(\"Pμz1(t)\") # Polarization switching function for z\n",
    "\n",
    "Pμy2 = Symbol(\"Pμy2(t)\") # Polarization switching function for y\n",
    "Pμz2 = Symbol(\"Pμz2(t)\") # Polarization switching function for z\n",
    "\n",
    "laser_fields = [(H_laser_z_1*Pz1, ME_main_1), (H_laser_x_1*Px1, ME_main_1)]\n",
    "microwave_fields = [(H_μ1_z*Pμz1, ME_μ1_main), (H_μ1_y*Pμy1, ME_μ1_main), \n",
    "                    (H_μ2_z*Pμz2, ME_μ2_main), (H_μ2_y*Pμy2, ME_μ2_main)]\n",
    "detunings = [[QN.index(e) for e in excited_states_laser_1], \n",
    "             [QN.index(e) for e in excited_states_μ1], \n",
    "             [QN.index(e) for e in excited_states_μ2]]"
   ]
  },
  {
   "cell_type": "code",
   "execution_count": 35,
   "metadata": {},
   "outputs": [],
   "source": [
    "n_states = H_laser_z_1.shape[0]\n",
    "H_symbolic, Ωs = generate_symbolic_hamiltonian(n_states, laser_fields+microwave_fields)\n",
    "Δ_symbolic, Δs = generate_symbolic_detunings(n_states, detunings)\n",
    "H_symbolic += Δ_symbolic + H_rot"
   ]
  },
  {
   "cell_type": "code",
   "execution_count": 36,
   "metadata": {},
   "outputs": [],
   "source": [
    "H_symbolic = H_symbolic.subs(Ωs[0][0],Symbol('Ωl', real = True)).subs(Ωs[0][1],Symbol('Ωlᶜ', real = False))\n",
    "H_symbolic = H_symbolic.subs(Ωs[1][0],Symbol('Ωl', real = True)).subs(Ωs[1][1],Symbol('Ωlᶜ', real = False))\n",
    "H_symbolic = H_symbolic.subs(Ωs[2][0],Symbol('Ωμ1', real = True)).subs(Ωs[2][1],Symbol('Ωμ1ᶜ', real = False))\n",
    "H_symbolic = H_symbolic.subs(Ωs[3][0],Symbol('Ωμ1', real = True)).subs(Ωs[3][1],Symbol('Ωμ1ᶜ', real = False))\n",
    "H_symbolic = H_symbolic.subs(Ωs[4][0],Symbol('Ωμ2', real = True)).subs(Ωs[4][1],Symbol('Ωμ2ᶜ', real = False))\n",
    "H_symbolic = H_symbolic.subs(Ωs[5][0],Symbol('Ωμ2', real = True)).subs(Ωs[5][1],Symbol('Ωμ2ᶜ', real = False))"
   ]
  },
  {
   "cell_type": "code",
   "execution_count": 37,
   "metadata": {},
   "outputs": [
    {
     "name": "stdout",
     "output_type": "stream",
     "text": [
      "Wall time: 2min 10s\n"
     ]
    }
   ],
   "source": [
    "%%time \n",
    "# C_array is an array of 2D arrays, where each 2D array only has one \n",
    "# entry, i.e. don't have to do the full matrix multiplication each \n",
    "# time for C@ρ@Cᶜ. The argument fast=True doesn't do the full matrix\n",
    "# multiplication, but a manual 'sparse matrix multiplication'\n",
    "system = generate_system_of_equations(H_symbolic, C_array, fast = True)"
   ]
  },
  {
   "cell_type": "code",
   "execution_count": 38,
   "metadata": {},
   "outputs": [
    {
     "name": "stdout",
     "output_type": "stream",
     "text": [
      "Wall time: 3min 1s\n"
     ]
    }
   ],
   "source": [
    "%%time\n",
    "# convert matrix to system of equations code\n",
    "code_lines = system_of_equations_to_lines(system, nprocs=6)"
   ]
  },
  {
   "cell_type": "markdown",
   "metadata": {},
   "source": [
    "# Solving ODE system with Julia\n",
    "Need to install Julia and add the following packages to Julia:  \n",
    "* [DifferentialEquations](https://diffeq.sciml.ai/stable/)\n",
    "* [Trapz](https://github.com/francescoalemanno/Trapz.jl)\n",
    "* [TerminalLoggers](https://github.com/JuliaLogging/TerminalLoggers.jl)\n",
    "\n",
    "And install [PyJulia](https://pyjulia.readthedocs.io/en/latest/index.html) for python.  "
   ]
  },
  {
   "cell_type": "code",
   "execution_count": 39,
   "metadata": {},
   "outputs": [],
   "source": [
    "# import julia\n",
    "# julia.install()"
   ]
  },
  {
   "cell_type": "code",
   "execution_count": 40,
   "metadata": {},
   "outputs": [],
   "source": [
    "from julia import Main"
   ]
  },
  {
   "cell_type": "code",
   "execution_count": 41,
   "metadata": {},
   "outputs": [
    {
     "name": "stdout",
     "output_type": "stream",
     "text": [
      "[1 2 3 4 5 6]\n"
     ]
    }
   ],
   "source": [
    "Main.eval(\"\"\"\n",
    "using Distributed\n",
    "using BenchmarkTools\n",
    "using Logging: global_logger\n",
    "using TerminalLoggers: TerminalLogger\n",
    "global_logger(TerminalLogger())\n",
    "\"\"\")\n",
    "\n",
    "procs = Main.eval(\"nprocs()\")\n",
    "if procs < 6:\n",
    "    Main.eval(f\"\"\"\n",
    "    addprocs({6-procs})\n",
    "    @everywhere begin\n",
    "        using LinearAlgebra\n",
    "        using Trapz\n",
    "        using DifferentialEquations\n",
    "        include(\"../utils/general_ode_functions.jl\")\n",
    "    end\"\"\")\n",
    "if procs > 6:\n",
    "    procs = Main.eval(\"procs()\")\n",
    "    for proc in procs[procs > 6]:\n",
    "        Main.eval(f\"rmprocs({proc})\")\n",
    "print(Main.eval(\"procs()\"))"
   ]
  },
  {
   "cell_type": "code",
   "execution_count": 42,
   "metadata": {},
   "outputs": [
    {
     "data": {
      "text/plain": [
       "array([1, 2, 3, 4, 5, 6], dtype=int64)"
      ]
     },
     "execution_count": 42,
     "metadata": {},
     "output_type": "execute_result"
    }
   ],
   "source": [
    "Main.eval(\"procs()\")"
   ]
  },
  {
   "cell_type": "markdown",
   "metadata": {},
   "source": [
    "## Creating the Julia function to compute the RHS of the Lindblad Equation\n",
    "Note that only here the polarization switching function is added.  \n",
    "Anything added symbolically can be modified here."
   ]
  },
  {
   "cell_type": "code",
   "execution_count": 80,
   "metadata": {},
   "outputs": [],
   "source": [
    "ode_fun = \"\"\"function Lindblad_rhs!(du, ρ, p, t)\n",
    "\\t@inbounds begin\n",
    "\\t\\tΩl = p[1]\n",
    "\\t\\tνpl = p[2]\n",
    "\\t\\tΔ1 = p[3]\n",
    "\n",
    "\\t\\tΩμ1 = p[4]\n",
    "\\t\\tνpμ1 = p[5]\n",
    "\\t\\tΔ2 = p[6]\n",
    "\n",
    "\\t\\tΩμ2 = p[7]\n",
    "\\t\\tνpμ2 = p[8]\n",
    "\\t\\tΔ3 = p[9]\n",
    "\n",
    "\\t\\tϕlaser = p[10]\n",
    "\\t\\tϕμ1 = p[11]\n",
    "\\t\\tϕμ2 = p[12]\n",
    "\n",
    "\\t\\tΩlᶜ = conj(Ωl)\n",
    "\\t\\tΩμ1ᶜ = conj(Ωμ1)\n",
    "\\t\\tΩμ2ᶜ = conj(Ωμ2)\n",
    "\n",
    "\\t\\tPx1 = sine_wave(t, νpl, ϕlaser+π)\n",
    "\\t\\tPz1 = sine_wave(t, νpl, ϕlaser)\n",
    "\\t\\tnorm = sqrt(Px1^2+Pz1^2)\n",
    "\\t\\tPx1 /= norm\n",
    "\\t\\tPz1 /= norm\n",
    "\n",
    "\\t\\tPμy1 = sine_wave(t, νpμ1, ϕμ1)\n",
    "\\t\\tPμz1 = sine_wave(t, νpμ1, ϕμ1+π)\n",
    "\\t\\tnorm = sqrt(Pμy1^2+Pμz1^2)\n",
    "\\t\\tPμy1 /= norm\n",
    "\\t\\tPμz1 /= norm\n",
    "\n",
    "\\t\\tPμy2 = sine_wave(t, νpμ2, ϕμ2)\n",
    "\\t\\tPμz2 = sine_wave(t, νpμ2, ϕμ2+π)\n",
    "\\t\\tnorm = sqrt(Pμy2^2+Pμz2^2)\n",
    "\\t\\tPμy2 /= norm\n",
    "\\t\\tPμz2 /= norm\n",
    "\"\"\""
   ]
  },
  {
   "cell_type": "code",
   "execution_count": 81,
   "metadata": {},
   "outputs": [
    {
     "name": "stdout",
     "output_type": "stream",
     "text": [
      "function Lindblad_rhs!(du, ρ, p, t)\n",
      "\t@inbounds begin\n",
      "\t\tΩl = p[1]\n",
      "\t\tνpl = p[2]\n",
      "\t\tΔ1 = p[3]\n",
      "\n",
      "\t\tΩμ1 = p[4]\n",
      "\t\tνpμ1 = p[5]\n",
      "\t\tΔ2 = p[6]\n",
      "\n",
      "\t\tΩμ2 = p[7]\n",
      "\t\tνpμ2 = p[8]\n",
      "\t\tΔ3 = p[9]\n",
      "\n",
      "\t\tϕlaser = p[10]\n",
      "\t\tϕμ1 = p[11]\n",
      "\t\tϕμ2 = p[12]\n",
      "\n",
      "\t\tΩlᶜ = conj(Ωl)\n",
      "\t\tΩμ1ᶜ = conj(Ωμ1)\n",
      "\t\tΩμ2ᶜ = conj(Ωμ2)\n",
      "\n",
      "\t\tPx1 = sine_wave(t, νpl, ϕlaser+π)\n",
      "\t\tPz1 = sine_wave(t, νpl, ϕlaser)\n",
      "\t\tnorm = sqrt(Px1^2+Pz1^2)\n",
      "\t\tPx1 /= norm\n",
      "\t\tPz1 /= norm\n",
      "\n",
      "\t\tPμy1 = sine_wave(t, νpμ1, ϕμ1)\n",
      "\t\tPμz1 = sine_wave(t, νpμ1, ϕμ1+π)\n",
      "\t\tnorm = sqrt(Pμy1^2+Pμz1^2)\n",
      "\t\tPμy1 /= norm\n",
      "\t\tPμz1 /= norm\n",
      "\n",
      "\t\tPμy2 = sine_wave(t, νpμ2, ϕμ2)\n",
      "\t\tPμz2 = sine_wave(t, νpμ2, ϕμ2+π)\n",
      "\t\tnorm = sqrt(Pμy2^2+Pμz2^2)\n",
      "\t\tPμy2 /= norm\n",
      "\t\tPμz2 /= norm\n",
      "\n"
     ]
    }
   ],
   "source": [
    "print(ode_fun)"
   ]
  },
  {
   "cell_type": "code",
   "execution_count": 82,
   "metadata": {},
   "outputs": [],
   "source": [
    "for cline in code_lines:\n",
    "    ode_fun += \"\\t\\t\"+cline+'\\n'\n",
    "ode_fun += '\\t end \\n \\t nothing \\n end'"
   ]
  },
  {
   "cell_type": "code",
   "execution_count": 83,
   "metadata": {},
   "outputs": [],
   "source": [
    "# making the function in Julia\n",
    "Main.eval(f\"@everywhere {ode_fun}\")"
   ]
  },
  {
   "cell_type": "markdown",
   "metadata": {},
   "source": [
    "### Generate density matrix"
   ]
  },
  {
   "cell_type": "code",
   "execution_count": 84,
   "metadata": {},
   "outputs": [],
   "source": [
    "import scipy.constants as cst\n",
    "\n",
    "def population(J, T, B=6.66733e9, n = 100):\n",
    "    c = 2*np.pi*cst.hbar*B/(cst.k*T)\n",
    "    g = lambda J: 4*(2*J+1)\n",
    "    a = lambda J: -c*J*(J+1)\n",
    "    Z = np.sum([g(i)*np.exp(a(i)) for i in range(n)])\n",
    "    return g(J)*np.exp(a(J))/Z"
   ]
  },
  {
   "cell_type": "code",
   "execution_count": 85,
   "metadata": {},
   "outputs": [],
   "source": [
    "def J_levels(J):\n",
    "    return 4*(2*J + 1)\n",
    "\n",
    "def J_slice(J):\n",
    "    if J == 0:\n",
    "        return np.s_[0:J_levels(0)]\n",
    "    else:\n",
    "        levels = J_levels(np.arange(J+1))\n",
    "        return np.s_[np.sum(levels[:-1]):np.sum(levels)]"
   ]
  },
  {
   "cell_type": "code",
   "execution_count": 86,
   "metadata": {},
   "outputs": [],
   "source": [
    "T = 6.3\n",
    "ρ_ini = np.zeros(H_symbolic.shape, dtype = 'complex')\n",
    "\n",
    "filled = 0\n",
    "for J in range(1,4):\n",
    "    p = population(J, T)\n",
    "    levels = J_levels(J)\n",
    "#     sl = J_slice(J)\n",
    "    sl = np.s_[filled:filled+levels]\n",
    "    np.fill_diagonal(ρ_ini[sl, sl], p/levels)\n",
    "    filled += levels\n",
    "ρ_ini /= np.diag(ρ_ini).sum()"
   ]
  },
  {
   "cell_type": "markdown",
   "metadata": {},
   "source": [
    "## Initial Conditions"
   ]
  },
  {
   "cell_type": "code",
   "execution_count": 87,
   "metadata": {},
   "outputs": [],
   "source": [
    "Γ = 2*np.pi * 1.56e6\n",
    "\n",
    "ωp1 = 2*np.pi*2e6\n",
    "νpl = ωp1/(2*np.pi)\n",
    "νpμ1 = ωp1/(2*np.pi)\n",
    "νpμ2 = ωp1/(2*np.pi)\n",
    "\n",
    "\n",
    "Ωl = Γ\n",
    "Ωμ1 = Γ\n",
    "Ωμ2 = Γ\n",
    "\n",
    "Δ1 = 0\n",
    "Δ2 = 0\n",
    "Δ3 = 0\n",
    "\n",
    "Main.Γ = Γ\n",
    "Main.Ωl = Ωl\n",
    "Main.Ωμ1 = Ωμ1\n",
    "Main.Ωμ2 = Ωμ2\n",
    "\n",
    "Main.νpl = νpl\n",
    "Main.νpμ1 = νpμ1\n",
    "Main.νpμ2 = νpμ2\n",
    "\n",
    "Main.Δ1 = Δ1\n",
    "Main.Δ2 = Δ2\n",
    "Main.Δ3 = Δ3\n",
    "Main.ρ_ini = ρ_ini\n",
    "\n",
    "for val in 'Γ, Ωl, Ωμ1, Ωμ2, Δ1, Δ2, Δ3, νpl, νpμ1, νpμ2, ρ_ini'.split(\",\"):\n",
    "    Main.eval(f\"@everywhere @eval {val} = ${val}\")\n",
    "\n",
    "# setting up the parameters to send to the differential equation\n",
    "Main.eval(\"\"\"\n",
    "@everywhere begin\n",
    "    p = [Ωl, νpl, Δ1, Ωμ1, νpμ1, Δ2, Ωμ2, νpμ2, Δ3, 0, 0, 0]\n",
    "end\n",
    "\"\"\")"
   ]
  },
  {
   "cell_type": "code",
   "execution_count": 88,
   "metadata": {},
   "outputs": [
    {
     "name": "stdout",
     "output_type": "stream",
     "text": [
      "Wall time: 35min 52s\n"
     ]
    },
    {
     "data": {
      "text/plain": [
       "0"
      ]
     },
     "execution_count": 88,
     "metadata": {},
     "output_type": "execute_result"
    }
   ],
   "source": [
    "%%time\n",
    "du = np.zeros(ρ_ini.shape, dtype = 'complex')\n",
    "Main.du = du\n",
    "Main.eval(\"@everywhere du = $du\")\n",
    "Main.eval(\"\"\"\n",
    "@everywhere @time Lindblad_rhs!(du, ρ_ini, p, 0.)\n",
    "tmp = 0\n",
    "\"\"\")"
   ]
  },
  {
   "cell_type": "markdown",
   "metadata": {},
   "source": [
    "### Setting up the ODE problem to solve\n",
    "`tmp = 0` is just to prevent `Main.eval` from outputting the problem in the notebook.  \n",
    "The ODEProblem takes a function to solve (`Lindblad_rhs!` in this case), initial conditions `ρ_ini`, a timespan `tspan` an additional arguments for the ODE function, denoted here by `p` "
   ]
  },
  {
   "cell_type": "code",
   "execution_count": 89,
   "metadata": {},
   "outputs": [
    {
     "data": {
      "text/plain": [
       "0"
      ]
     },
     "execution_count": 89,
     "metadata": {},
     "output_type": "execute_result"
    }
   ],
   "source": [
    "Main.eval(\"\"\"\n",
    "tspan = (0.0f0, 300e-6)\n",
    "prob = ODEProblem(Lindblad_rhs!,ρ_ini,tspan,p)\n",
    "tmp = 0\n",
    "\"\"\")"
   ]
  },
  {
   "cell_type": "code",
   "execution_count": 90,
   "metadata": {},
   "outputs": [
    {
     "name": "stdout",
     "output_type": "stream",
     "text": [
      "Wall time: 18.5 s\n"
     ]
    },
    {
     "data": {
      "text/plain": [
       "0"
      ]
     },
     "execution_count": 90,
     "metadata": {},
     "output_type": "execute_result"
    }
   ],
   "source": [
    "%%time\n",
    "Main.eval(\"\"\"\n",
    "@time sol = solve(prob, Tsit5(), abstol = 1e-7, reltol = 1e-4, dt = 1e-9);\n",
    "tmp = 0\n",
    "\"\"\");"
   ]
  },
  {
   "cell_type": "code",
   "execution_count": 91,
   "metadata": {},
   "outputs": [
    {
     "data": {
      "image/png": "[encoded data removed]",
      "text/plain": [
       "<Figure size 576x360 with 1 Axes>"
      ]
     },
     "metadata": {
      "needs_background": "light"
     },
     "output_type": "display_data"
    }
   ],
   "source": [
    "ut = np.array(Main.eval(\"sol[:]\")).T\n",
    "pop_results = np.real(np.einsum('jji->ji',ut.reshape((ρ_ini.shape[0], ρ_ini.shape[1], ut.shape[2]))))\n",
    "t_array = Main.eval(\"sol.t\")\n",
    "\n",
    "#Plot populations in different J over time\n",
    "P1 = np.sum(pop_results[:12,:], axis = 0)\n",
    "P2 = np.sum(pop_results[12:32,:], axis = 0)\n",
    "P3 = np.sum(pop_results[32:60,:], axis = 0)\n",
    "PE = np.sum(pop_results[60:,:], axis = 0)\n",
    "\n",
    "fig, ax = plt.subplots(figsize = (8,5))\n",
    "ax.plot(t_array*1e6, P1, label = 'X, J = 1', lw = 3)\n",
    "ax.plot(t_array*1e6, P2, label = 'X, J = 2', lw = 3)\n",
    "ax.plot(t_array*1e6, P3, label = 'X, J = 3', lw = 3)\n",
    "ax.plot(t_array*1e6, PE, label = 'B, J = 2', lw = 3)\n",
    "ax.legend(fontsize = 14)\n",
    "ax.set_xlabel(\"Time [μs]\")\n",
    "ax.set_ylabel(\"Population in state\")\n",
    "set_fontsize(ax, 14)"
   ]
  },
  {
   "cell_type": "markdown",
   "metadata": {},
   "source": [
    "## Parameter scan for RC Laser Power"
   ]
  },
  {
   "cell_type": "code",
   "execution_count": 92,
   "metadata": {},
   "outputs": [],
   "source": [
    "Main.eval(\"\"\"\n",
    "@everywhere params = [val*Γ for val in range(0,1,length = 101)]\"\"\")"
   ]
  },
  {
   "cell_type": "code",
   "execution_count": 93,
   "metadata": {},
   "outputs": [],
   "source": [
    "# function called every time on the when an ODE solve is ready\n",
    "# only save the integral of the excited state population of each trajectory\n",
    "Main.eval(f\"\"\"\n",
    "@everywhere function output_func(sol,i)\n",
    "    return [real(sol.u[end][j,j]) for j in 1:size(sol.u[end])[1]], false\n",
    "end\"\"\")"
   ]
  },
  {
   "cell_type": "code",
   "execution_count": 94,
   "metadata": {},
   "outputs": [],
   "source": [
    "Main.eval(\"\"\"\n",
    "@everywhere begin\n",
    "    p = [Ωl, νpl, Δ1, Ωμ1, νpμ1, Δ2, Ωμ2, νpμ2, Δ3, 0, 0, 0]\n",
    "end\n",
    "\"\"\")"
   ]
  },
  {
   "cell_type": "code",
   "execution_count": 95,
   "metadata": {},
   "outputs": [
    {
     "data": {
      "text/plain": [
       "0"
      ]
     },
     "execution_count": 95,
     "metadata": {},
     "output_type": "execute_result"
    }
   ],
   "source": [
    "Main.eval(\"\"\"\n",
    "tspan = (0.0f0, 300e-6)\n",
    "prob = ODEProblem(Lindblad_rhs!,ρ_ini,tspan,p)\n",
    "tmp = 0\n",
    "\"\"\")"
   ]
  },
  {
   "cell_type": "code",
   "execution_count": 96,
   "metadata": {},
   "outputs": [],
   "source": [
    "# defining the function that changes the ODE parameters for each iteration\n",
    "Main.eval(\"\"\"\n",
    "@everywhere function prob_func(prob,i,repeat)\n",
    "    remake(prob,p=[params[i]; p[2:end]])\n",
    "end\n",
    "\"\"\")"
   ]
  },
  {
   "cell_type": "code",
   "execution_count": 97,
   "metadata": {},
   "outputs": [],
   "source": [
    "# setting up the EnsembleProblem with the earlier defined ODEProblem\n",
    "Main.eval(\"\"\"\n",
    "ens_prob = EnsembleProblem(prob, prob_func = prob_func, output_func = output_func);\n",
    "\"\"\");"
   ]
  },
  {
   "cell_type": "code",
   "execution_count": 98,
   "metadata": {},
   "outputs": [
    {
     "data": {
      "text/plain": [
       "717.5639571"
      ]
     },
     "execution_count": 98,
     "metadata": {},
     "output_type": "execute_result"
    }
   ],
   "source": [
    "# Main.eval(\"pbar.counter = 0\")\n",
    "# Main.eval(\"pbar.n = size(params)[1]\")\n",
    "Main.eval(\"\"\"\n",
    "@time sim = solve(ens_prob, Tsit5(), EnsembleDistributed(), save_start = true, save_end = true, \n",
    "            save_everystep = true; trajectories = size(params)[1], dt = 1e-9, adaptive=true,\n",
    "            abstol = 1e-7, reltol = 1e-4)\n",
    "sim.elapsedTime\n",
    "\"\"\")"
   ]
  },
  {
   "cell_type": "code",
   "execution_count": 99,
   "metadata": {},
   "outputs": [],
   "source": [
    "results_Ω = np.array(Main.eval(\"sim.u\"))"
   ]
  },
  {
   "cell_type": "code",
   "execution_count": 100,
   "metadata": {},
   "outputs": [
    {
     "data": {
      "image/png": "[encoded data removed]",
      "text/plain": [
       "<Figure size 576x360 with 1 Axes>"
      ]
     },
     "metadata": {
      "needs_background": "light"
     },
     "output_type": "display_data"
    }
   ],
   "source": [
    "fig, ax = plt.subplots(figsize = (8,5))\n",
    "\n",
    "ax.plot(Main.params/Γ, results_Ω[:,1:4].sum(axis = 1)/np.diag(ρ_ini.real)[1:4].sum(), lw = 3)\n",
    "ax.set_xlabel('Ω [Γ]')\n",
    "ax.set_ylabel('F=1 gain')\n",
    "\n",
    "set_fontsize(ax, 14)"
   ]
  },
  {
   "cell_type": "markdown",
   "metadata": {},
   "source": [
    "## Parameter scan for RC Laser Power without laser polarization switching"
   ]
  },
  {
   "cell_type": "code",
   "execution_count": 101,
   "metadata": {},
   "outputs": [],
   "source": [
    "Main.eval(\"\"\"\n",
    "@everywhere params = [val*Γ for val in range(0,1,length = 101)]\"\"\")"
   ]
  },
  {
   "cell_type": "code",
   "execution_count": 102,
   "metadata": {},
   "outputs": [],
   "source": [
    "# function called every time on the when an ODE solve is ready\n",
    "# only save the integral of the excited state population of each trajectory\n",
    "Main.eval(f\"\"\"\n",
    "@everywhere function output_func(sol,i)\n",
    "    return [real(sol.u[end][j,j]) for j in 1:size(sol.u[end])[1]], false\n",
    "end\"\"\")"
   ]
  },
  {
   "cell_type": "code",
   "execution_count": 103,
   "metadata": {},
   "outputs": [
    {
     "data": {
      "text/plain": [
       "0"
      ]
     },
     "execution_count": 103,
     "metadata": {},
     "output_type": "execute_result"
    }
   ],
   "source": [
    "Main.eval(\"\"\"\n",
    "tspan = (0.0f0, 300e-6)\n",
    "prob = ODEProblem(Lindblad_rhs!,ρ_ini,tspan,p)\n",
    "tmp = 0\n",
    "\"\"\")"
   ]
  },
  {
   "cell_type": "code",
   "execution_count": 104,
   "metadata": {},
   "outputs": [],
   "source": [
    "Main.eval(\"\"\"\n",
    "@everywhere begin\n",
    "    p = [Ωl, 0., Δ1, Ωμ1, νpμ1, Δ2, Ωμ2, νpμ2, Δ3, 0, 0, 0]\n",
    "end\n",
    "\"\"\")"
   ]
  },
  {
   "cell_type": "code",
   "execution_count": 105,
   "metadata": {},
   "outputs": [],
   "source": [
    "# defining the function that changes the ODE parameters for each iteration\n",
    "Main.eval(\"\"\"\n",
    "@everywhere function prob_func(prob,i,repeat)\n",
    "    remake(prob,p=[params[i]; p[2:end]])\n",
    "end\n",
    "\"\"\")"
   ]
  },
  {
   "cell_type": "code",
   "execution_count": 106,
   "metadata": {},
   "outputs": [],
   "source": [
    "# setting up the EnsembleProblem with the earlier defined ODEProblem\n",
    "Main.eval(\"\"\"\n",
    "ens_prob = EnsembleProblem(prob, prob_func = prob_func, output_func = output_func);\n",
    "\"\"\");"
   ]
  },
  {
   "cell_type": "code",
   "execution_count": 107,
   "metadata": {},
   "outputs": [
    {
     "data": {
      "text/plain": [
       "690.0131043"
      ]
     },
     "execution_count": 107,
     "metadata": {},
     "output_type": "execute_result"
    }
   ],
   "source": [
    "# Main.eval(\"pbar.counter = 0\")\n",
    "# Main.eval(\"pbar.n = size(params)[1]\")\n",
    "Main.eval(\"\"\"\n",
    "@time sim = solve(ens_prob, Tsit5(), EnsembleDistributed(), save_start = true, save_end = true, \n",
    "            save_everystep = true; trajectories = size(params)[1], dt = 1e-9, adaptive=true,\n",
    "            abstol = 1e-7, reltol = 1e-4)\n",
    "sim.elapsedTime\n",
    "\"\"\")"
   ]
  },
  {
   "cell_type": "code",
   "execution_count": 108,
   "metadata": {},
   "outputs": [],
   "source": [
    "results_Ω_no_νplaser = np.array(Main.eval(\"sim.u\"))"
   ]
  },
  {
   "cell_type": "code",
   "execution_count": 109,
   "metadata": {},
   "outputs": [
    {
     "data": {
      "image/png": "[encoded data removed]",
      "text/plain": [
       "<Figure size 576x360 with 1 Axes>"
      ]
     },
     "metadata": {
      "needs_background": "light"
     },
     "output_type": "display_data"
    }
   ],
   "source": [
    "fig, ax = plt.subplots(figsize = (8,5))\n",
    "\n",
    "ax.plot(Main.params/Γ, results_Ω[:,1:4].sum(axis = 1)/np.diag(ρ_ini.real)[1:4].sum(), lw = 3)\n",
    "ax.plot(Main.params/Γ, results_Ω_no_νplaser[:,1:4].sum(axis = 1)/np.diag(ρ_ini.real)[1:4].sum(), lw = 3)\n",
    "\n",
    "ax.set_xlabel('Ω [Γ]')\n",
    "ax.set_ylabel('F=1 gain')\n",
    "\n",
    "set_fontsize(ax, 14)"
   ]
  },
  {
   "cell_type": "markdown",
   "metadata": {},
   "source": [
    "## Parameter scan for RC Laser Power and Δϕμ without laser polarization switching"
   ]
  },
  {
   "cell_type": "code",
   "execution_count": 142,
   "metadata": {},
   "outputs": [],
   "source": [
    "Ωs = np.linspace(0,0.2,51)*Γ \n",
    "Δϕμs = np.linspace(0,1,11)*np.pi\n",
    "params = np.array(np.meshgrid(Ωs, Δϕμs)).T.reshape(-1,2)\n",
    "Main.params = params\n",
    "Main.eval(\"@everywhere params = $params\")"
   ]
  },
  {
   "cell_type": "code",
   "execution_count": 111,
   "metadata": {},
   "outputs": [],
   "source": [
    "# function called every time on the when an ODE solve is ready\n",
    "# only save the integral of the excited state population of each trajectory\n",
    "Main.eval(f\"\"\"\n",
    "@everywhere function output_func(sol,i)\n",
    "    return [real(sol.u[end][j,j]) for j in 1:size(sol.u[end])[1]], false\n",
    "end\"\"\")"
   ]
  },
  {
   "cell_type": "code",
   "execution_count": 112,
   "metadata": {},
   "outputs": [],
   "source": [
    "Main.eval(\"\"\"\n",
    "tspan = (0.0f0, 300e-6)\n",
    "prob = ODEProblem(Lindblad_rhs!,ρ_ini,tspan,p)\n",
    "\"\"\");"
   ]
  },
  {
   "cell_type": "code",
   "execution_count": 113,
   "metadata": {},
   "outputs": [],
   "source": [
    "Main.eval(\"\"\"\n",
    "@everywhere begin\n",
    "    p = [Ωl, 0., Δ1, Ωμ1, νpμ1, Δ2, Ωμ2, νpμ2, Δ3, 0, 0, 0]\n",
    "end\n",
    "\"\"\")"
   ]
  },
  {
   "cell_type": "code",
   "execution_count": 114,
   "metadata": {},
   "outputs": [],
   "source": [
    "# defining the function that changes the ODE parameters for each iteration\n",
    "Main.eval(\"\"\"\n",
    "@everywhere function prob_func(prob,i,repeat)\n",
    "    remake(prob,p=[params[i,1]; 0.; Δ1; Ωμ1; νpμ2; Δ2; Ωμ2; νpμ2; Δ3; 0; 0; params[i,2]])\n",
    "end\n",
    "\"\"\")"
   ]
  },
  {
   "cell_type": "code",
   "execution_count": 115,
   "metadata": {},
   "outputs": [],
   "source": [
    "# setting up the EnsembleProblem with the earlier defined ODEProblem\n",
    "Main.eval(\"\"\"\n",
    "ens_prob = EnsembleProblem(prob, prob_func = prob_func, output_func = output_func);\n",
    "\"\"\");"
   ]
  },
  {
   "cell_type": "code",
   "execution_count": 116,
   "metadata": {},
   "outputs": [
    {
     "data": {
      "text/plain": [
       "3216.568773"
      ]
     },
     "execution_count": 116,
     "metadata": {},
     "output_type": "execute_result"
    }
   ],
   "source": [
    "# Main.eval(\"pbar.counter = 0\")\n",
    "# Main.eval(\"pbar.n = size(params)[1]\")\n",
    "Main.eval(\"\"\"\n",
    "@time sim = solve(ens_prob, Tsit5(), EnsembleDistributed(), save_start = true, save_end = true, \n",
    "            save_everystep = true; trajectories = size(params)[1], dt = 1e-9, adaptive=true,\n",
    "            abstol = 1e-7, reltol = 1e-4)\n",
    "sim.elapsedTime\n",
    "\"\"\")"
   ]
  },
  {
   "cell_type": "code",
   "execution_count": 117,
   "metadata": {},
   "outputs": [],
   "source": [
    "results_Ω_no_νplaser_Δϕμ = np.array(Main.eval(\"sim.u\"))"
   ]
  },
  {
   "cell_type": "code",
   "execution_count": 118,
   "metadata": {},
   "outputs": [
    {
     "data": {
      "image/png": "[encoded data removed]",
      "text/plain": [
       "<Figure size 576x360 with 2 Axes>"
      ]
     },
     "metadata": {
      "needs_background": "light"
     },
     "output_type": "display_data"
    }
   ],
   "source": [
    "gain = results_Ω_no_νplaser_Δϕμ[:,1:4].sum(axis = 1)/np.diag(ρ_ini.real)[1:4].sum()\n",
    "\n",
    "fig, ax = plt.subplots(figsize = (8,5))\n",
    "\n",
    "# tcf = ax.tricontourf(params[:,0]/Γ, params[:,1]/np.pi, gain)\n",
    "tcf = ax.tripcolor(params[:,0]/Γ, params[:,1]/np.pi, gain, shading = 'gouraud')\n",
    "# ax.tricontour(params[:,0]/Γ, params[:,1]/np.pi, gain, colors = 'k', alpha = 0.2)\n",
    "\n",
    "fig.colorbar(tcf)\n",
    "\n",
    "ax.set_xlabel('Ω [Γ]')\n",
    "ax.set_ylabel(r'Δϕ$_μ$ [π]')\n",
    "\n",
    "set_fontsize(ax, 14)"
   ]
  },
  {
   "cell_type": "code",
   "execution_count": 143,
   "metadata": {},
   "outputs": [
    {
     "data": {
      "image/png": "[encoded data removed]",
      "text/plain": [
       "<Figure size 576x360 with 2 Axes>"
      ]
     },
     "metadata": {
      "needs_background": "light"
     },
     "output_type": "display_data"
    }
   ],
   "source": [
    "gain = results_Ω_no_νplaser_Δϕμ[:,1:4].sum(axis = 1)/np.diag(ρ_ini.real)[1:4].sum()\n",
    "\n",
    "fig, ax = plt.subplots(figsize = (8,5))\n",
    "\n",
    "tcf = ax.tricontourf(params[:,0]/Γ, params[:,1]/np.pi, gain)\n",
    "# tcf = ax.tripcolor(params[:,0]/Γ, params[:,1]/np.pi, gain, shading = 'gouraud')\n",
    "# ax.tricontour(params[:,0]/Γ, params[:,1]/np.pi, gain, colors = 'k', alpha = 0.2)\n",
    "\n",
    "fig.colorbar(tcf)\n",
    "\n",
    "ax.set_xlabel('Ω [Γ]')\n",
    "ax.set_ylabel(r'Δϕ$_μ$ [π]')\n",
    "\n",
    "set_fontsize(ax, 14)"
   ]
  },
  {
   "cell_type": "markdown",
   "metadata": {},
   "source": [
    "## Parameter scan for Δϕμ"
   ]
  },
  {
   "cell_type": "code",
   "execution_count": 119,
   "metadata": {},
   "outputs": [],
   "source": [
    "Main.eval(\"\"\"@everywhere params = [val*π for val in range(0,1,length = 51)]\"\"\")"
   ]
  },
  {
   "cell_type": "code",
   "execution_count": 120,
   "metadata": {},
   "outputs": [],
   "source": [
    "# function called every time on the when an ODE solve is ready\n",
    "# only save the integral of the excited state population of each trajectory\n",
    "Main.eval(f\"\"\"\n",
    "@everywhere function output_func(sol,i)\n",
    "    return [real(sol.u[end][j,j]) for j in 1:size(sol.u[end])[1]], false\n",
    "end\"\"\")"
   ]
  },
  {
   "cell_type": "code",
   "execution_count": 121,
   "metadata": {},
   "outputs": [],
   "source": [
    "Main.eval(\"\"\"\n",
    "@everywhere begin\n",
    "    p = [0.1Γ, 0, Δ1, Ωμ1, νpμ1, Δ2, Ωμ2, νpμ2, Δ3, 0, 0, 0]\n",
    "end\n",
    "\"\"\")"
   ]
  },
  {
   "cell_type": "code",
   "execution_count": 122,
   "metadata": {},
   "outputs": [],
   "source": [
    "Main.eval(\"\"\"\n",
    "tspan = (0.0f0, 300e-6)\n",
    "prob = ODEProblem(Lindblad_rhs!,ρ_ini,tspan,p)\n",
    "\"\"\");"
   ]
  },
  {
   "cell_type": "code",
   "execution_count": 123,
   "metadata": {},
   "outputs": [],
   "source": [
    "# defining the function that changes the ODE parameters for each iteration\n",
    "Main.eval(\"\"\"\n",
    "@everywhere function prob_func(prob,i,repeat)\n",
    "    remake(prob,p=[p[1:end-1]; params[i]])\n",
    "end\n",
    "\"\"\")"
   ]
  },
  {
   "cell_type": "code",
   "execution_count": 124,
   "metadata": {},
   "outputs": [],
   "source": [
    "# setting up the EnsembleProblem with the earlier defined ODEProblem\n",
    "Main.eval(\"\"\"\n",
    "ens_prob = EnsembleProblem(prob, prob_func = prob_func, output_func = output_func);\n",
    "\"\"\");"
   ]
  },
  {
   "cell_type": "code",
   "execution_count": 139,
   "metadata": {},
   "outputs": [
    {
     "data": {
      "text/plain": [
       "579.0514144"
      ]
     },
     "execution_count": 139,
     "metadata": {},
     "output_type": "execute_result"
    }
   ],
   "source": [
    "# Main.eval(\"pbar.counter = 0\")\n",
    "# Main.eval(\"pbar.n = size(params)[1]\")\n",
    "Main.eval(\"\"\"\n",
    "@time sim = solve(ens_prob, Tsit5(), EnsembleDistributed(), save_start = true, save_end = true, \n",
    "            save_everystep = true; trajectories = size(params)[1], dt = 1e-9, adaptive=true,\n",
    "            abstol = 1e-7, reltol = 1e-4, progress = true, progress_steps = 1)\n",
    "sim.elapsedTime\n",
    "\"\"\")"
   ]
  },
  {
   "cell_type": "code",
   "execution_count": 140,
   "metadata": {},
   "outputs": [],
   "source": [
    "results_Δϕμ = np.array(Main.eval(\"sim.u\"))"
   ]
  },
  {
   "cell_type": "code",
   "execution_count": 141,
   "metadata": {},
   "outputs": [
    {
     "data": {
      "image/png": "[encoded data removed]",
      "text/plain": [
       "<Figure size 576x360 with 1 Axes>"
      ]
     },
     "metadata": {
      "needs_background": "light"
     },
     "output_type": "display_data"
    }
   ],
   "source": [
    "fig, ax = plt.subplots(figsize = (8,5))\n",
    "\n",
    "ax.plot(Main.params/np.pi, results_Δϕμ[:,1:4].sum(axis = 1)/np.diag(ρ_ini.real)[1:4].sum(), lw = 3)\n",
    "ax.set_xlabel('Δϕμ [π]')\n",
    "ax.set_ylabel('F=1 gain')\n",
    "\n",
    "set_fontsize(ax, 14)"
   ]
  },
  {
   "cell_type": "markdown",
   "metadata": {},
   "source": [
    "## Parameter scan for νμ"
   ]
  },
  {
   "cell_type": "code",
   "execution_count": 128,
   "metadata": {},
   "outputs": [],
   "source": [
    "Main.eval(\"\"\"@everywhere params = [val*1e6 for val in range(0,2,length = 101)]\"\"\")"
   ]
  },
  {
   "cell_type": "code",
   "execution_count": 129,
   "metadata": {},
   "outputs": [],
   "source": [
    "# function called every time on the when an ODE solve is ready\n",
    "# only save the integral of the excited state population of each trajectory\n",
    "Main.eval(f\"\"\"\n",
    "@everywhere function output_func(sol,i)\n",
    "    return [real(sol.u[end][j,j]) for j in 1:size(sol.u[end])[1]], false\n",
    "end\"\"\")"
   ]
  },
  {
   "cell_type": "code",
   "execution_count": 130,
   "metadata": {},
   "outputs": [],
   "source": [
    "Main.eval(\"\"\"\n",
    "@everywhere begin\n",
    "    p = [0.05Γ, 0, Δ1, Ωμ1, νpμ1, Δ2, Ωμ2, νpμ2, Δ3, 0, 0, 0.5π]\n",
    "end\n",
    "\"\"\")"
   ]
  },
  {
   "cell_type": "code",
   "execution_count": 131,
   "metadata": {},
   "outputs": [],
   "source": [
    "Main.eval(\"\"\"\n",
    "tspan = (0.0f0, 300e-6)\n",
    "prob = ODEProblem(Lindblad_rhs!,ρ_ini,tspan,p)\n",
    "\"\"\");"
   ]
  },
  {
   "cell_type": "code",
   "execution_count": 132,
   "metadata": {},
   "outputs": [],
   "source": [
    "# defining the function that changes the ODE parameters for each iteration\n",
    "Main.eval(\"\"\"\n",
    "@everywhere function prob_func(prob,i,repeat)\n",
    "    remake(prob,p=[0.05Γ, 0, Δ1, Ωμ1, params[i], Δ2, Ωμ2, params[i], Δ3, 0, 0, 0])\n",
    "end\n",
    "\"\"\")"
   ]
  },
  {
   "cell_type": "code",
   "execution_count": 133,
   "metadata": {},
   "outputs": [],
   "source": [
    "# setting up the EnsembleProblem with the earlier defined ODEProblem\n",
    "Main.eval(\"\"\"\n",
    "ens_prob = EnsembleProblem(prob, prob_func = prob_func, output_func = output_func);\n",
    "\"\"\");"
   ]
  },
  {
   "cell_type": "code",
   "execution_count": 134,
   "metadata": {},
   "outputs": [
    {
     "data": {
      "text/plain": [
       "565.8976065"
      ]
     },
     "execution_count": 134,
     "metadata": {},
     "output_type": "execute_result"
    }
   ],
   "source": [
    "# Main.eval(\"pbar.counter = 0\")\n",
    "# Main.eval(\"pbar.n = size(params)[1]\")\n",
    "Main.eval(\"\"\"\n",
    "@time sim = solve(ens_prob, Tsit5(), EnsembleDistributed(), save_start = true, save_end = true, \n",
    "            save_everystep = true; trajectories = size(params)[1], dt = 1e-9, adaptive=true,\n",
    "            abstol = 1e-7, reltol = 1e-4)\n",
    "sim.elapsedTime\n",
    "\"\"\")"
   ]
  },
  {
   "cell_type": "code",
   "execution_count": 135,
   "metadata": {},
   "outputs": [],
   "source": [
    "results_νμ = np.array(Main.eval(\"sim.u\"))"
   ]
  },
  {
   "cell_type": "code",
   "execution_count": 136,
   "metadata": {},
   "outputs": [
    {
     "data": {
      "image/png": "[encoded data removed]",
      "text/plain": [
       "<Figure size 576x360 with 1 Axes>"
      ]
     },
     "metadata": {
      "needs_background": "light"
     },
     "output_type": "display_data"
    }
   ],
   "source": [
    "fig, ax = plt.subplots(figsize = (8,5))\n",
    "\n",
    "ax.plot(Main.params/1e6, results_νμ[:,1:4].sum(axis = 1)/np.diag(ρ_ini.real)[1:4].sum(), lw = 3)\n",
    "ax.set_xlabel('νμ [MHz]')\n",
    "ax.set_ylabel('F=1 gain')\n",
    "\n",
    "set_fontsize(ax, 14)"
   ]
  },
  {
   "cell_type": "code",
   "execution_count": 137,
   "metadata": {},
   "outputs": [
    {
     "data": {
      "text/plain": [
       "(14.724004370515546+0j)"
      ]
     },
     "execution_count": 137,
     "metadata": {},
     "output_type": "execute_result"
    }
   ],
   "source": [
    "(np.diag(ρ_ini)[1:4].sum() + np.diag(ρ_ini)[:-5][4:].sum() ) / np.diag(ρ_ini)[1:4].sum()"
   ]
  },
  {
   "cell_type": "code",
   "execution_count": null,
   "metadata": {},
   "outputs": [],
   "source": []
  }
 ],
 "metadata": {
  "kernelspec": {
   "display_name": "Python 3",
   "language": "python",
   "name": "python3"
  },
  "language_info": {
   "codemirror_mode": {
    "name": "ipython",
    "version": 3
   },
   "file_extension": ".py",
   "mimetype": "text/x-python",
   "name": "python",
   "nbconvert_exporter": "python",
   "pygments_lexer": "ipython3",
   "version": "3.8.5"
  }
 },
 "nbformat": 4,
 "nbformat_minor": 4
}
