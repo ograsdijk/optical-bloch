{
 "cells": [
  {
   "cell_type": "code",
   "execution_count": 1,
   "metadata": {},
   "outputs": [],
   "source": [
    "%load_ext autoreload\n",
    "%autoreload 2\n",
    "\n",
    "import h5py\n",
    "import scipy\n",
    "import sympy\n",
    "import pickle\n",
    "import numpy as np\n",
    "from tqdm import tqdm\n",
    "from pathlib import Path\n",
    "import matplotlib.pyplot as plt\n",
    "from scipy.sparse import csr_matrix\n",
    "from sympy import Symbol, zeros, Function, MatrixSymbol\n",
    "\n",
    "# import created modules\n",
    "from hamiltonian.states import CoupledBasisState\n",
    "from hamiltonian.generate_hamiltonian import generate_X_hamiltonian_function, generate_B_hamiltonian_function, \\\n",
    "                                                generate_diagonalized_hamiltonian\n",
    "from hamiltonian.utils import ni_range, matrix_to_states, find_exact_states, reduced_basis_hamiltonian, \\\n",
    "                                find_state_idx_from_state, reorder_evecs, generate_coupled_ground_states\n",
    "\n",
    "from couplings.utils import ED_ME_mixed_state, collapse_matrices, generate_superoperator, \\\n",
    "                            generate_flat_superoperator, generate_sharp_superoperator\n",
    "from couplings.generate_coupling import optical_coupling_matrix, generate_laser_D\n",
    "\n",
    "from symbolic import generate_density_matrix_symbolic, generate_system_of_equations, generate_symbolic_hamiltonian,\\\n",
    "                        system_of_equations_to_lines, generate_symbolic_detunings\n",
    "from symbolic.utils import subs_rabi_rate\n",
    "\n",
    "from utils.plot_utils import set_fontsize\n",
    "from utils import population, J_levels, J_slice, delete_J_level"
   ]
  },
  {
   "cell_type": "code",
   "execution_count": 2,
   "metadata": {},
   "outputs": [],
   "source": [
    "script_dir = Path().parent.absolute()"
   ]
  },
  {
   "cell_type": "markdown",
   "metadata": {},
   "source": [
    "## X-state\n",
    "\n",
    "Define what states from the $X ^1\\Sigma$ electronic state are to be included in the simulation."
   ]
  },
  {
   "cell_type": "code",
   "execution_count": 3,
   "metadata": {},
   "outputs": [],
   "source": [
    "Js_g = [1] # J values to be included\n",
    "\n",
    "parity = lambda J: (-1)**J\n",
    "\n",
    "# generate a list of approximate ground states\n",
    "ground_states_approx = generate_coupled_ground_states(Js_g, electronic_state = 'X',\n",
    "                                                       parity = parity, Ω = 0, I_Tl = 1/2, \n",
    "                                                       I_F = 1/2)\n",
    "ground_states_approx = [1*state for state in ground_states_approx]"
   ]
  },
  {
   "cell_type": "markdown",
   "metadata": {},
   "source": [
    "Now generate the J=0 to J=4 Hamiltonian to get the reduced X state Hamiltonian"
   ]
  },
  {
   "cell_type": "code",
   "execution_count": 4,
   "metadata": {},
   "outputs": [],
   "source": [
    "fname_X = \"TlF_X_state_hamiltonian_J0to4.pickle\"\n",
    "fname_transform = \"UC_to_C_J0to4.pickle\"\n",
    "\n",
    "path_X = script_dir / \"stored_data\" / fname_X\n",
    "path_transform = script_dir / \"stored_data\" / fname_transform\n",
    "\n",
    "with open(path_X, 'rb') as f:\n",
    "    H_X_uc = pickle.load(f)\n",
    "\n",
    "with open(path_transform, 'rb') as f:\n",
    "    S_transform = pickle.load(f)\n",
    "\n",
    "H_X_uc = generate_X_hamiltonian_function(H_X_uc)"
   ]
  },
  {
   "cell_type": "code",
   "execution_count": 5,
   "metadata": {},
   "outputs": [],
   "source": [
    "# generate coupled basis states\n",
    "Jmin = 0\n",
    "Jmax = 4\n",
    "QN_X = generate_coupled_ground_states(ni_range(Jmin, Jmax + 1), electronic_state = 'X',\n",
    "                                       parity = parity, Ω = 0, I_Tl = 1/2, \n",
    "                                       I_F = 1/2)\n",
    "\n",
    "E = np.array([0,0,0])\n",
    "# small magnetic field to ensure m_F is a good quantum number\n",
    "B = np.array([0,0,0.001])\n",
    "\n",
    "H_X = S_transform.conj().T @ H_X_uc(E,B) @ S_transform\n",
    "\n",
    "# diagonalize the Hamiltonian\n",
    "H_X_diag, V, V_ref_X = generate_diagonalized_hamiltonian(H_X, keep_order = True, return_V_ref = True)\n",
    "\n",
    "# new set of quantum numbers:\n",
    "QN_X_diag = matrix_to_states(V, QN_X)\n",
    "\n",
    "ground_states = find_exact_states(ground_states_approx, H_X_diag, QN_X_diag, V_ref = V_ref_X)\n",
    "\n",
    "H_X_red = reduced_basis_hamiltonian(QN_X_diag, H_X_diag, ground_states)"
   ]
  },
  {
   "cell_type": "markdown",
   "metadata": {},
   "source": [
    "## B-state\n",
    "Define what states from the $B ^3\\Pi_1$ electronic state are to be included in the simulation. Only need the states that are coupled to J = 1 in the X-state by the laser."
   ]
  },
  {
   "cell_type": "code",
   "execution_count": 6,
   "metadata": {},
   "outputs": [],
   "source": [
    "I_F = 1/2\n",
    "I_Tl = 1/2\n",
    "\n",
    "# define what states are to be included in the simulation\n",
    "# specify J, F1 and F for each state separately\n",
    "J_excited = [1,1]\n",
    "F1_excited = [1/2,1/2]\n",
    "F_excited = [0,1]\n",
    "\n",
    "# generate a list of excited states. The exact excited states are determined within the main\n",
    "# simulation function\n",
    "excited_states_approx = [1*CoupledBasisState(F,mF,F1,J,I_F,I_Tl, electronic_state='B', P = 1, Omega = 1)\n",
    "                  for J,F1,F in zip(J_excited, F1_excited, F_excited)\n",
    "                  for mF in ni_range(-F, F+1)\n",
    "                 ]"
   ]
  },
  {
   "cell_type": "markdown",
   "metadata": {},
   "source": [
    "Now generate the excited state Hamiltonian to get the reduced B state Hamiltonian"
   ]
  },
  {
   "cell_type": "code",
   "execution_count": 7,
   "metadata": {},
   "outputs": [],
   "source": [
    "fname_B = \"B_hamiltonians_symbolic_coupled_P_1to3.pickle\"\n",
    "\n",
    "path_B = script_dir / \"stored_data\" / fname_B"
   ]
  },
  {
   "cell_type": "code",
   "execution_count": 8,
   "metadata": {},
   "outputs": [],
   "source": [
    "with open(path_B, 'rb') as f:\n",
    "    H_B = pickle.load(f)"
   ]
  },
  {
   "cell_type": "code",
   "execution_count": 9,
   "metadata": {},
   "outputs": [],
   "source": [
    "H_B = generate_B_hamiltonian_function(H_B)*2*np.pi\n",
    "\n",
    "# generate coupled basis states\n",
    "Jmin = 1\n",
    "Jmax = 3\n",
    "Ps = [-1,1]\n",
    "\n",
    "QN_B = [CoupledBasisState(\n",
    "                    F,mF,F1,J,I_F,I_Tl,P = P, Omega = 1, electronic_state='B'\n",
    "                    )\n",
    "        for J  in ni_range(Jmin, Jmax+1)\n",
    "        for F1 in ni_range(np.abs(J-I_F),J+I_F+1)\n",
    "        for F in ni_range(np.abs(F1-I_Tl),F1+I_Tl+1)\n",
    "        for mF in ni_range(-F, F+1)\n",
    "        for P in Ps\n",
    "    ]\n",
    "\n",
    "\n",
    "H_B_diag, V, V_ref_B = generate_diagonalized_hamiltonian(H_B, keep_order = True, return_V_ref = True)\n",
    "\n",
    "# new set of quantum numbers:\n",
    "QN_B_diag = matrix_to_states(V, QN_B)\n",
    "\n",
    "excited_states = find_exact_states(excited_states_approx, H_B_diag, QN_B_diag, V_ref=V_ref_B)\n",
    "\n",
    "H_B_red = reduced_basis_hamiltonian(QN_B_diag, H_B_diag, excited_states)"
   ]
  },
  {
   "cell_type": "markdown",
   "metadata": {},
   "source": [
    "## Total Internal Hamiltonian"
   ]
  },
  {
   "cell_type": "code",
   "execution_count": 10,
   "metadata": {},
   "outputs": [],
   "source": [
    "H_X_red[np.abs(H_X_red) < 0.1] = 0\n",
    "H_B_red[np.abs(H_B_red) < 0.1] = 0\n",
    "\n",
    "H_int = scipy.linalg.block_diag(H_X_red, H_B_red)\n",
    "V_ref_int = np.eye(H_int.shape[0])\n",
    "\n",
    "#Define Hamiltonian in the rotating frame (transformation not applied yet)\n",
    "H_rot = H_int.copy()\n",
    "\n",
    "#Define QN for the total Hamiltonian that includes both X and B\n",
    "QN = ground_states + excited_states"
   ]
  },
  {
   "cell_type": "code",
   "execution_count": 11,
   "metadata": {},
   "outputs": [
    {
     "data": {
      "text/plain": [
       "array([563.67820342])"
      ]
     },
     "execution_count": 11,
     "metadata": {},
     "output_type": "execute_result"
    }
   ],
   "source": [
    "_ = np.abs(np.diff(np.diag(H_B_red)/(1e6*2*np.pi)).real)\n",
    "_[_ > 1]"
   ]
  },
  {
   "cell_type": "code",
   "execution_count": 12,
   "metadata": {},
   "outputs": [
    {
     "data": {
      "text/plain": [
       "array([ 22.24048594, 175.95410925,  14.54203338])"
      ]
     },
     "execution_count": 12,
     "metadata": {},
     "output_type": "execute_result"
    }
   ],
   "source": [
    "_ = np.abs(np.diff(np.diag(H_X_red)/(1e3*2*np.pi)).real)\n",
    "_[_ > 1]"
   ]
  },
  {
   "cell_type": "markdown",
   "metadata": {},
   "source": [
    "## Laser coupling\n",
    "### Calculating transition 1; Q(1), F$_1$'=1/2, F'=0"
   ]
  },
  {
   "cell_type": "code",
   "execution_count": 13,
   "metadata": {},
   "outputs": [],
   "source": [
    "#Define ground states for laser driven transition\n",
    "Js = [1]\n",
    "ground_states_laser_approx =  [1*CoupledBasisState(F,mF,F1,J,I_F,I_Tl, electronic_state='X', P = (-1)**J, Omega = 0)\n",
    "                                  for J  in Js\n",
    "                                  for F1 in ni_range(np.abs(J-I_F),J+I_F+1)\n",
    "                                  for F in ni_range(np.abs(F1-I_Tl),F1+I_Tl+1)\n",
    "                                  for mF in ni_range(-F, F+1)\n",
    "                                 ]\n",
    "\n",
    "#Define excited states for laser\n",
    "excited_states_laser_approx = [1*CoupledBasisState(\n",
    "                                F=0,mF=0,F1=1/2,J=1,I1=1/2,I2=1/2,P = +1, Omega = 1, electronic_state='B'\n",
    "                                )\n",
    "                            ]"
   ]
  },
  {
   "cell_type": "code",
   "execution_count": 14,
   "metadata": {},
   "outputs": [],
   "source": [
    "#Define the \"main\" states. These are used to calculate the detunings and Rabi rates for the transitions\n",
    "ground_main_approx = 1*CoupledBasisState(J=1,F1=3/2,F=1,mF=0,I1=1/2,I2=1/2,electronic_state='X', P = -1, Omega = 0)\n",
    "excited_main_approx = 1*CoupledBasisState(J=1,F1=1/2,F=0,mF=0,I1=1/2,I2=1/2, electronic_state='B', P = 1, Omega = 1)"
   ]
  },
  {
   "cell_type": "code",
   "execution_count": 15,
   "metadata": {},
   "outputs": [],
   "source": [
    "ground_states_laser_1 = find_exact_states(\n",
    "                                ground_states_laser_approx, H_rot, QN, V_ref = V_ref_int\n",
    "                                )\n",
    "excited_states_laser_1 = find_exact_states(\n",
    "                                excited_states_laser_approx, H_rot, QN, V_ref = V_ref_int\n",
    "                                )\n",
    "\n",
    "H_laser_z_1 = optical_coupling_matrix(\n",
    "                                    QN, \n",
    "                                    ground_states_laser_1, \n",
    "                                    excited_states_laser_1, \n",
    "                                    pol_vec = np.array([0,0,1]), \n",
    "                                    reduced = False\n",
    "                                    )\n",
    "H_laser_x_1 = optical_coupling_matrix(\n",
    "                                    QN, \n",
    "                                    ground_states_laser_1, \n",
    "                                    excited_states_laser_1, \n",
    "                                    pol_vec = np.array([1,0,0]), \n",
    "                                    reduced = False\n",
    "                                    )"
   ]
  },
  {
   "cell_type": "code",
   "execution_count": 16,
   "metadata": {},
   "outputs": [],
   "source": [
    "# set small values to zero\n",
    "H_laser_z_1[np.abs(H_laser_z_1) < 1e-3*np.max(np.abs(H_laser_z_1))] = 0\n",
    "H_laser_x_1[np.abs(H_laser_x_1) < 1e-3*np.max(np.abs(H_laser_x_1))] = 0"
   ]
  },
  {
   "cell_type": "code",
   "execution_count": 17,
   "metadata": {},
   "outputs": [
    {
     "name": "stdout",
     "output_type": "stream",
     "text": [
      "(-0.29025602182508786+0j)\n",
      "+1.0000+0.0000j x |X, J = 1, F1 = 3/2, F = 1, mF = 0, I1 = 1/2, I2 = 1/2, P = -1, Omega = 0>\n",
      "----------------------------------------------------------------------------------------------------\n",
      "+0.9961+0.0000j x |X, J = 1, F1 = 3/2, F = 1, mF = 0, I1 = 1/2, I2 = 1/2, P = -1, Omega = 0>\n",
      "====================================================================================================\n",
      "+1.0000+0.0000j x |B, J = 1, F1 = 1/2, F = 0, mF = 0, I1 = 1/2, I2 = 1/2, P = 1, Omega = 1>\n",
      "----------------------------------------------------------------------------------------------------\n",
      "+1.0000+0.0000j x |B, J = 1, F1 = 1/2, F = 0, mF = 0, I1 = 1/2, I2 = 1/2, P = 1, Omega = 1>\n"
     ]
    }
   ],
   "source": [
    "ground_main_1 = find_exact_states([ground_main_approx], H_rot, QN, V_ref = V_ref_int)[0]\n",
    "excited_main_1 = find_exact_states([excited_main_approx], H_rot, QN, V_ref = V_ref_int)[0]\n",
    "\n",
    "ME_main_1 = ED_ME_mixed_state(\n",
    "                        excited_main_1, ground_main_1, pol_vec = np.array([0,0,1])\n",
    "                        )\n",
    "\n",
    "ground_main_idx_1 = QN.index(ground_main_1)\n",
    "excited_main_idx_1 = QN.index(excited_main_1)\n",
    "\n",
    "print(ME_main_1)\n",
    "ground_main_approx.print_state()\n",
    "print('-'*100)\n",
    "ground_main_1.print_state()\n",
    "print('='*100)\n",
    "excited_main_approx.print_state()\n",
    "print('-'*100)\n",
    "excited_main_1.print_state()"
   ]
  },
  {
   "cell_type": "code",
   "execution_count": 18,
   "metadata": {},
   "outputs": [],
   "source": [
    "D1 = generate_laser_D(H_rot, QN, ground_main_1, excited_main_1, excited_states_laser_1, Δ = 0)"
   ]
  },
  {
   "cell_type": "markdown",
   "metadata": {},
   "source": [
    "### Calculating transition 1; Q(1), F$_1$'=1/2, F'=1"
   ]
  },
  {
   "cell_type": "code",
   "execution_count": 19,
   "metadata": {},
   "outputs": [],
   "source": [
    "#Define ground states for laser driven transition\n",
    "Js = [1]\n",
    "ground_states_laser_approx =  [1*CoupledBasisState(F,mF,F1,J,I_F,I_Tl, electronic_state='X', P = (-1)**J, Omega = 0)\n",
    "                                  for J  in Js\n",
    "                                  for F1 in ni_range(np.abs(J-I_F),J+I_F+1)\n",
    "                                  for F in ni_range(np.abs(F1-I_Tl),F1+I_Tl+1)\n",
    "                                  for mF in ni_range(-F, F+1)\n",
    "                                 ]\n",
    "\n",
    "#Define excited states for laser\n",
    "excited_states_laser_approx = [1*CoupledBasisState(\n",
    "                                F=1,mF=mF,F1=1/2,J=1,I1=1/2,I2=1/2,P = +1, Omega = 1, electronic_state='B'\n",
    "                                )\n",
    "                               for mF in range(-1,1+1)\n",
    "                            ]"
   ]
  },
  {
   "cell_type": "code",
   "execution_count": 20,
   "metadata": {},
   "outputs": [],
   "source": [
    "#Define the \"main\" states. These are used to calculate the detunings and Rabi rates for the transitions\n",
    "ground_main_approx = 1*CoupledBasisState(J=1,F1=3/2,F=2,mF=0,I1=1/2,I2=1/2,electronic_state='X', P = -1, Omega = 0)\n",
    "excited_main_approx = 1*CoupledBasisState(J=1,F1=1/2,F=1,mF=0,I1=1/2,I2=1/2, electronic_state='B', P = 1, Omega = 1)"
   ]
  },
  {
   "cell_type": "code",
   "execution_count": 21,
   "metadata": {},
   "outputs": [],
   "source": [
    "ground_states_laser_2 = find_exact_states(\n",
    "                                ground_states_laser_approx, H_rot, QN, V_ref = V_ref_int\n",
    "                                )\n",
    "excited_states_laser_2 = find_exact_states(\n",
    "                                excited_states_laser_approx, H_rot, QN, V_ref = V_ref_int\n",
    "                                )\n",
    "\n",
    "H_laser_z_2 = optical_coupling_matrix(\n",
    "                                    QN, \n",
    "                                    ground_states_laser_2, \n",
    "                                    excited_states_laser_2, \n",
    "                                    pol_vec = np.array([0,0,1]), \n",
    "                                    reduced = False\n",
    "                                    )\n",
    "H_laser_x_2 = optical_coupling_matrix(\n",
    "                                    QN, \n",
    "                                    ground_states_laser_2, \n",
    "                                    excited_states_laser_2, \n",
    "                                    pol_vec = np.array([1,0,0]), \n",
    "                                    reduced = False\n",
    "                                    )"
   ]
  },
  {
   "cell_type": "code",
   "execution_count": 22,
   "metadata": {},
   "outputs": [],
   "source": [
    "# set small values to zero\n",
    "H_laser_z_2[np.abs(H_laser_z_2) < 1e-3*np.max(np.abs(H_laser_z_2))] = 0\n",
    "H_laser_x_2[np.abs(H_laser_x_2) < 1e-3*np.max(np.abs(H_laser_z_2))] = 0"
   ]
  },
  {
   "cell_type": "code",
   "execution_count": 23,
   "metadata": {},
   "outputs": [
    {
     "name": "stdout",
     "output_type": "stream",
     "text": [
      "(-0.29025602182508786+0j)\n",
      "+1.0000+0.0000j x |X, J = 1, F1 = 3/2, F = 2, mF = 0, I1 = 1/2, I2 = 1/2, P = -1, Omega = 0>\n",
      "----------------------------------------------------------------------------------------------------\n",
      "+1.0000+0.0000j x |X, J = 1, F1 = 3/2, F = 2, mF = 0, I1 = 1/2, I2 = 1/2, P = -1, Omega = 0>\n",
      "====================================================================================================\n",
      "+1.0000+0.0000j x |B, J = 1, F1 = 1/2, F = 1, mF = 0, I1 = 1/2, I2 = 1/2, P = 1, Omega = 1>\n",
      "----------------------------------------------------------------------------------------------------\n",
      "+0.9996+0.0000j x |B, J = 1, F1 = 1/2, F = 1, mF = 0, I1 = 1/2, I2 = 1/2, P = 1, Omega = 1>\n"
     ]
    }
   ],
   "source": [
    "ground_main_2 = find_exact_states([ground_main_approx], H_rot, QN, V_ref = V_ref_int)[0]\n",
    "excited_main_2 = find_exact_states([excited_main_approx], H_rot, QN, V_ref = V_ref_int)[0]\n",
    "\n",
    "ME_main_2 = ED_ME_mixed_state(\n",
    "                        excited_main_2, ground_main_2, pol_vec = np.array([0,0,1])\n",
    "                        )\n",
    "\n",
    "ground_main_idx_2 = QN.index(ground_main_2)\n",
    "excited_main_idx_2 = QN.index(excited_main_2)\n",
    "\n",
    "print(ME_main_1)\n",
    "ground_main_approx.print_state()\n",
    "print('-'*100)\n",
    "ground_main_2.print_state()\n",
    "print('='*100)\n",
    "excited_main_approx.print_state()\n",
    "print('-'*100)\n",
    "excited_main_2.print_state()"
   ]
  },
  {
   "cell_type": "code",
   "execution_count": 24,
   "metadata": {},
   "outputs": [],
   "source": [
    "D2 = generate_laser_D(H_rot, QN, ground_main_2, excited_main_2, excited_states_laser_2, Δ = 0)"
   ]
  },
  {
   "cell_type": "markdown",
   "metadata": {},
   "source": [
    "## Total Hamiltonian"
   ]
  },
  {
   "cell_type": "code",
   "execution_count": 25,
   "metadata": {},
   "outputs": [],
   "source": [
    "H_rot = H_rot  - np.eye(H_rot.shape[0])*H_rot[ground_main_idx_1,ground_main_idx_1]\n",
    "H_rot = H_rot + D1 + D2"
   ]
  },
  {
   "cell_type": "code",
   "execution_count": 26,
   "metadata": {},
   "outputs": [
    {
     "data": {
      "text/plain": [
       "<matplotlib.image.AxesImage at 0x146a3c4d0d0>"
      ]
     },
     "execution_count": 26,
     "metadata": {},
     "output_type": "execute_result"
    },
    {
     "data": {
      "image/png": "[encoded data removed]",
      "text/plain": [
       "<Figure size 432x288 with 1 Axes>"
      ]
     },
     "metadata": {
      "needs_background": "light"
     },
     "output_type": "display_data"
    }
   ],
   "source": [
    "plt.imshow(H_laser_z_1.real)"
   ]
  },
  {
   "cell_type": "code",
   "execution_count": 27,
   "metadata": {},
   "outputs": [
    {
     "data": {
      "text/plain": [
       "<matplotlib.image.AxesImage at 0x146a3d21b50>"
      ]
     },
     "execution_count": 27,
     "metadata": {},
     "output_type": "execute_result"
    },
    {
     "data": {
      "image/png": "[encoded data removed]",
      "text/plain": [
       "<Figure size 432x288 with 1 Axes>"
      ]
     },
     "metadata": {
      "needs_background": "light"
     },
     "output_type": "display_data"
    }
   ],
   "source": [
    "plt.imshow(H_laser_z_2.real)"
   ]
  },
  {
   "cell_type": "code",
   "execution_count": 28,
   "metadata": {},
   "outputs": [
    {
     "data": {
      "text/plain": [
       "<matplotlib.image.AxesImage at 0x146a8070eb0>"
      ]
     },
     "execution_count": 28,
     "metadata": {},
     "output_type": "execute_result"
    },
    {
     "data": {
      "image/png": "[encoded data removed]",
      "text/plain": [
       "<Figure size 432x288 with 1 Axes>"
      ]
     },
     "metadata": {
      "needs_background": "light"
     },
     "output_type": "display_data"
    }
   ],
   "source": [
    "plt.imshow(H_rot.real)"
   ]
  },
  {
   "cell_type": "code",
   "execution_count": 29,
   "metadata": {},
   "outputs": [
    {
     "name": "stderr",
     "output_type": "stream",
     "text": [
      " 50%|██████████████████████████████████████████                                          | 2/4 [00:00<00:00, 15.69it/s]"
     ]
    },
    {
     "name": "stdout",
     "output_type": "stream",
     "text": [
      "Warning: Branching ratio sum > 1, difference = 2.22e-16\n"
     ]
    },
    {
     "name": "stderr",
     "output_type": "stream",
     "text": [
      "100%|████████████████████████████████████████████████████████████████████████████████████| 4/4 [00:00<00:00, 12.82it/s]\n"
     ]
    }
   ],
   "source": [
    "Γ = 2*np.pi*1.6e6\n",
    "C_list = collapse_matrices(QN, ground_states, excited_states, gamma = Γ)\n",
    "C_array = np.array(C_list)\n",
    "C_conj_array = np.einsum('ijk->ikj', C_array.conj())"
   ]
  },
  {
   "cell_type": "code",
   "execution_count": 30,
   "metadata": {},
   "outputs": [],
   "source": [
    "t = Symbol(\"t\", real = True)\n",
    "Px1 = Function(\"Px1\")(t) # Polarization switching function for x\n",
    "Pz1 = Function(\"Pz1\")(t) # Polarization switching function for z\n",
    "Px2 = Function(\"Px2\")(t) # Polarization switching function for x\n",
    "Pz2 = Function(\"Pz2\")(t) # Polarization switching function for z\n",
    "\n",
    "laser_fields = [(H_laser_z_1*Pz1, ME_main_1), (H_laser_x_1*Px1, ME_main_1), \n",
    "                (H_laser_z_2*Pz2, ME_main_2), (H_laser_x_2*Px2, ME_main_2)]\n",
    "detunings = [[QN.index(excited_states[0])], [QN.index(excited_states[idx]) for idx in [1,2,3]]]"
   ]
  },
  {
   "cell_type": "code",
   "execution_count": 31,
   "metadata": {},
   "outputs": [],
   "source": [
    "n_states = H_laser_z_1.shape[0]\n",
    "excited_state_indices = [QN.index(exc_state) for exc_state in excited_states]\n",
    "H_symbolic, Ωs = generate_symbolic_hamiltonian(n_states, laser_fields)\n",
    "Δ_symbolic, Δs = generate_symbolic_detunings(n_states, detunings)\n",
    "H_symbolic += Δ_symbolic + H_rot"
   ]
  },
  {
   "cell_type": "code",
   "execution_count": 32,
   "metadata": {},
   "outputs": [
    {
     "data": {
      "text/latex": [
       "$\\displaystyle \\left[\\begin{array}{cccccccccccccccc}-1245272.14598083 & 0 & 0 & 0 & 0 & 0 & 0 & 0 & 0 & 0 & 0 & 0 & 0 & 0.487104536814559 Ω4 \\operatorname{Px_{2}}{\\left(t \\right)} & - 0.688943961004228 Ω3 \\operatorname{Pz_{2}}{\\left(t \\right)} & - 0.487209355797023 Ω4 \\operatorname{Px_{2}}{\\left(t \\right)}\\\\0 & -1105531.05151367 & 0 & 0 & 0 & 0 & 0 & 0 & 0 & 0 & 0 & 0 & 0.607920432419512 Ω2 \\operatorname{Px_{1}}{\\left(t \\right)} & 0.674428203801002 Ω3 \\operatorname{Pz_{2}}{\\left(t \\right)} & 0.476889169493474 Ω4 \\operatorname{Px_{2}}{\\left(t \\right)} & 0\\\\0 & 0 & -1105541.75038147 & 0 & 0 & 0 & 0 & 0 & 0 & 0 & 0 & 0 & - 0.859730538004616 Ω1 \\operatorname{Pz_{1}}{\\left(t \\right)} & 0.476946169171229 Ω4 \\operatorname{Px_{2}}{\\left(t \\right)} & 0 & 0.476834769689028 Ω4 \\operatorname{Px_{2}}{\\left(t \\right)}\\\\0 & 0 & 0 & -1105552.45252991 & 0 & 0 & 0 & 0 & 0 & 0 & 0 & 0 & - 0.607922162407229 Ω2 \\operatorname{Px_{1}}{\\left(t \\right)} & 0 & 0.476891775125028 Ω4 \\operatorname{Px_{2}}{\\left(t \\right)} & - 0.674421743590696 Ω3 \\operatorname{Pz_{2}}{\\left(t \\right)}\\\\0 & 0 & 0 & 0 & -0.178543090820313 & 0 & 0 & 0 & 0 & 0 & 0 & 0 & 0.353554866850789 Ω2 \\operatorname{Px_{1}}{\\left(t \\right)} & - 0.283550246614439 Ω3 \\operatorname{Pz_{2}}{\\left(t \\right)} & - 0.200553927269744 Ω4 \\operatorname{Px_{2}}{\\left(t \\right)} & 0\\\\0 & 0 & 0 & 0 & 0 & 0 & 0 & 0 & 0 & 0 & 0 & 0 & - 0.5 Ω1 \\operatorname{Pz_{1}}{\\left(t \\right)} & - 0.200508115928818 Ω4 \\operatorname{Px_{2}}{\\left(t \\right)} & 0 & - 0.200548440065767 Ω4 \\operatorname{Px_{2}}{\\left(t \\right)}\\\\0 & 0 & 0 & 0 & 0 & 0 & 0.179122924804688 & 0 & 0 & 0 & 0 & 0 & - 0.353551915425323 Ω2 \\operatorname{Px_{1}}{\\left(t \\right)} & 0 & - 0.200502623030383 Ω4 \\operatorname{Px_{2}}{\\left(t \\right)} & 0.283629383189517 Ω3 \\operatorname{Pz_{2}}{\\left(t \\right)}\\\\0 & 0 & 0 & 0 & 0 & 0 & 0 & 91370.4695739746 & 0 & 0 & 0 & 0 & 0 & 0.43301270380128 Ω4 \\operatorname{Px_{2}}{\\left(t \\right)} & 0 & 0\\\\0 & 0 & 0 & 0 & 0 & 0 & 0 & 0 & 91360.1686401367 & 0 & 0 & 0 & 0 & - 0.433033582428828 Ω3 \\operatorname{Pz_{2}}{\\left(t \\right)} & 0.306171284690352 Ω4 \\operatorname{Px_{2}}{\\left(t \\right)} & 0\\\\0 & 0 & 0 & 0 & 0 & 0 & 0 & 0 & 0 & 91349.8671875 & 0 & 0 & 0 & - 0.176793733186045 Ω4 \\operatorname{Px_{2}}{\\left(t \\right)} & - 0.5 Ω3 \\operatorname{Pz_{2}}{\\left(t \\right)} & 0.176759656638464 Ω4 \\operatorname{Px_{2}}{\\left(t \\right)}\\\\0 & 0 & 0 & 0 & 0 & 0 & 0 & 0 & 0 & 0 & 91339.5652770996 & 0 & 0 & 0 & - 0.306201155498907 Ω4 \\operatorname{Px_{2}}{\\left(t \\right)} & - 0.432991815984885 Ω3 \\operatorname{Pz_{2}}{\\left(t \\right)}\\\\0 & 0 & 0 & 0 & 0 & 0 & 0 & 0 & 0 & 0 & 0 & 91329.2628173828 & 0 & 0 & 0 & - 0.433012703800787 Ω4 \\operatorname{Px_{2}}{\\left(t \\right)}\\\\0 & 0.607920432419512 Ω2ᶜ \\operatorname{Px_{1}}{\\left(t \\right)} & - 0.859730538004616 Ω1ᶜ \\operatorname{Pz_{1}}{\\left(t \\right)} & - 0.607922162407229 Ω2ᶜ \\operatorname{Px_{1}}{\\left(t \\right)} & 0.353554866850789 Ω2ᶜ \\operatorname{Px_{1}}{\\left(t \\right)} & - 0.5 Ω1ᶜ \\operatorname{Pz_{1}}{\\left(t \\right)} & - 0.353551915425323 Ω2ᶜ \\operatorname{Px_{1}}{\\left(t \\right)} & 0 & 0 & 0 & 0 & 0 & Δ1 & 0 & 0 & 0\\\\0.487104536814559 Ω4ᶜ \\operatorname{Px_{2}}{\\left(t \\right)} & 0.674428203801002 Ω3ᶜ \\operatorname{Pz_{2}}{\\left(t \\right)} & 0.476946169171229 Ω4ᶜ \\operatorname{Px_{2}}{\\left(t \\right)} & 0 & - 0.283550246614439 Ω3ᶜ \\operatorname{Pz_{2}}{\\left(t \\right)} & - 0.200508115928818 Ω4ᶜ \\operatorname{Px_{2}}{\\left(t \\right)} & 0 & 0.43301270380128 Ω4ᶜ \\operatorname{Px_{2}}{\\left(t \\right)} & - 0.433033582428828 Ω3ᶜ \\operatorname{Pz_{2}}{\\left(t \\right)} & - 0.176793733186045 Ω4ᶜ \\operatorname{Px_{2}}{\\left(t \\right)} & 0 & 0 & 0 & Δ2 + 91343.5840148926 & 0 & 0\\\\- 0.688943961004228 Ω3ᶜ \\operatorname{Pz_{2}}{\\left(t \\right)} & 0.476889169493474 Ω4ᶜ \\operatorname{Px_{2}}{\\left(t \\right)} & 0 & 0.476891775125028 Ω4ᶜ \\operatorname{Px_{2}}{\\left(t \\right)} & - 0.200553927269744 Ω4ᶜ \\operatorname{Px_{2}}{\\left(t \\right)} & 0 & - 0.200502623030383 Ω4ᶜ \\operatorname{Px_{2}}{\\left(t \\right)} & 0 & 0.306171284690352 Ω4ᶜ \\operatorname{Px_{2}}{\\left(t \\right)} & - 0.5 Ω3ᶜ \\operatorname{Pz_{2}}{\\left(t \\right)} & - 0.306201155498907 Ω4ᶜ \\operatorname{Px_{2}}{\\left(t \\right)} & 0 & 0 & 0 & Δ2 + 91349.8671875 & 0\\\\- 0.487209355797023 Ω4ᶜ \\operatorname{Px_{2}}{\\left(t \\right)} & 0 & 0.476834769689028 Ω4ᶜ \\operatorname{Px_{2}}{\\left(t \\right)} & - 0.674421743590696 Ω3ᶜ \\operatorname{Pz_{2}}{\\left(t \\right)} & 0 & - 0.200548440065767 Ω4ᶜ \\operatorname{Px_{2}}{\\left(t \\right)} & 0.283629383189517 Ω3ᶜ \\operatorname{Pz_{2}}{\\left(t \\right)} & 0 & 0 & 0.176759656638464 Ω4ᶜ \\operatorname{Px_{2}}{\\left(t \\right)} & - 0.432991815984885 Ω3ᶜ \\operatorname{Pz_{2}}{\\left(t \\right)} & - 0.433012703800787 Ω4ᶜ \\operatorname{Px_{2}}{\\left(t \\right)} & 0 & 0 & 0 & Δ2 + 91356.1503753662\\end{array}\\right]$"
      ],
      "text/plain": [
       "Matrix([\n",
       "[            -1245272.14598083,                            0,                             0,                             0,                             0,                             0,                             0,                           0,                             0,                             0,                             0,                             0,                            0,  0.487104536814559*Ω4*Px2(t), -0.688943961004228*Ω3*Pz2(t), -0.487209355797023*Ω4*Px2(t)],\n",
       "[                            0,            -1105531.05151367,                             0,                             0,                             0,                             0,                             0,                           0,                             0,                             0,                             0,                             0,  0.607920432419512*Ω2*Px1(t),  0.674428203801002*Ω3*Pz2(t),  0.476889169493474*Ω4*Px2(t),                            0],\n",
       "[                            0,                            0,             -1105541.75038147,                             0,                             0,                             0,                             0,                           0,                             0,                             0,                             0,                             0, -0.859730538004616*Ω1*Pz1(t),  0.476946169171229*Ω4*Px2(t),                            0,  0.476834769689028*Ω4*Px2(t)],\n",
       "[                            0,                            0,                             0,             -1105552.45252991,                             0,                             0,                             0,                           0,                             0,                             0,                             0,                             0, -0.607922162407229*Ω2*Px1(t),                            0,  0.476891775125028*Ω4*Px2(t), -0.674421743590696*Ω3*Pz2(t)],\n",
       "[                            0,                            0,                             0,                             0,            -0.178543090820313,                             0,                             0,                           0,                             0,                             0,                             0,                             0,  0.353554866850789*Ω2*Px1(t), -0.283550246614439*Ω3*Pz2(t), -0.200553927269744*Ω4*Px2(t),                            0],\n",
       "[                            0,                            0,                             0,                             0,                             0,                             0,                             0,                           0,                             0,                             0,                             0,                             0,               -0.5*Ω1*Pz1(t), -0.200508115928818*Ω4*Px2(t),                            0, -0.200548440065767*Ω4*Px2(t)],\n",
       "[                            0,                            0,                             0,                             0,                             0,                             0,             0.179122924804688,                           0,                             0,                             0,                             0,                             0, -0.353551915425323*Ω2*Px1(t),                            0, -0.200502623030383*Ω4*Px2(t),  0.283629383189517*Ω3*Pz2(t)],\n",
       "[                            0,                            0,                             0,                             0,                             0,                             0,                             0,            91370.4695739746,                             0,                             0,                             0,                             0,                            0,   0.43301270380128*Ω4*Px2(t),                            0,                            0],\n",
       "[                            0,                            0,                             0,                             0,                             0,                             0,                             0,                           0,              91360.1686401367,                             0,                             0,                             0,                            0, -0.433033582428828*Ω3*Pz2(t),  0.306171284690352*Ω4*Px2(t),                            0],\n",
       "[                            0,                            0,                             0,                             0,                             0,                             0,                             0,                           0,                             0,                 91349.8671875,                             0,                             0,                            0, -0.176793733186045*Ω4*Px2(t),               -0.5*Ω3*Pz2(t),  0.176759656638464*Ω4*Px2(t)],\n",
       "[                            0,                            0,                             0,                             0,                             0,                             0,                             0,                           0,                             0,                             0,              91339.5652770996,                             0,                            0,                            0, -0.306201155498907*Ω4*Px2(t), -0.432991815984885*Ω3*Pz2(t)],\n",
       "[                            0,                            0,                             0,                             0,                             0,                             0,                             0,                           0,                             0,                             0,                             0,              91329.2628173828,                            0,                            0,                            0, -0.433012703800787*Ω4*Px2(t)],\n",
       "[                            0, 0.607920432419512*Ω2ᶜ*Px1(t), -0.859730538004616*Ω1ᶜ*Pz1(t), -0.607922162407229*Ω2ᶜ*Px1(t),  0.353554866850789*Ω2ᶜ*Px1(t),               -0.5*Ω1ᶜ*Pz1(t), -0.353551915425323*Ω2ᶜ*Px1(t),                           0,                             0,                             0,                             0,                             0,                           Δ1,                            0,                            0,                            0],\n",
       "[ 0.487104536814559*Ω4ᶜ*Px2(t), 0.674428203801002*Ω3ᶜ*Pz2(t),  0.476946169171229*Ω4ᶜ*Px2(t),                             0, -0.283550246614439*Ω3ᶜ*Pz2(t), -0.200508115928818*Ω4ᶜ*Px2(t),                             0, 0.43301270380128*Ω4ᶜ*Px2(t), -0.433033582428828*Ω3ᶜ*Pz2(t), -0.176793733186045*Ω4ᶜ*Px2(t),                             0,                             0,                            0,        Δ2 + 91343.5840148926,                            0,                            0],\n",
       "[-0.688943961004228*Ω3ᶜ*Pz2(t), 0.476889169493474*Ω4ᶜ*Px2(t),                             0,  0.476891775125028*Ω4ᶜ*Px2(t), -0.200553927269744*Ω4ᶜ*Px2(t),                             0, -0.200502623030383*Ω4ᶜ*Px2(t),                           0,  0.306171284690352*Ω4ᶜ*Px2(t),               -0.5*Ω3ᶜ*Pz2(t), -0.306201155498907*Ω4ᶜ*Px2(t),                             0,                            0,                            0,           Δ2 + 91349.8671875,                            0],\n",
       "[-0.487209355797023*Ω4ᶜ*Px2(t),                            0,  0.476834769689028*Ω4ᶜ*Px2(t), -0.674421743590696*Ω3ᶜ*Pz2(t),                             0, -0.200548440065767*Ω4ᶜ*Px2(t),  0.283629383189517*Ω3ᶜ*Pz2(t),                           0,                             0,  0.176759656638464*Ω4ᶜ*Px2(t), -0.432991815984885*Ω3ᶜ*Pz2(t), -0.433012703800787*Ω4ᶜ*Px2(t),                            0,                            0,                            0,        Δ2 + 91356.1503753662]])"
      ]
     },
     "execution_count": 32,
     "metadata": {},
     "output_type": "execute_result"
    }
   ],
   "source": [
    "H_symbolic"
   ]
  },
  {
   "cell_type": "code",
   "execution_count": 33,
   "metadata": {},
   "outputs": [],
   "source": [
    "H_symbolic = H_symbolic.subs(Ωs[1][0],Ωs[0][0]).subs(Ωs[1][1],Ωs[0][1])\n",
    "H_symbolic = H_symbolic.subs(Ωs[2][0],Ωs[1][0]).subs(Ωs[2][1],Ωs[1][1])\n",
    "H_symbolic = H_symbolic.subs(Ωs[3][0],Ωs[1][0]).subs(Ωs[3][1],Ωs[1][1])"
   ]
  },
  {
   "cell_type": "code",
   "execution_count": 34,
   "metadata": {},
   "outputs": [
    {
     "name": "stderr",
     "output_type": "stream",
     "text": [
      "100%|██████████████████████████████████████████████████████████████████████████████████| 30/30 [00:14<00:00,  2.05it/s]\n"
     ]
    }
   ],
   "source": [
    "system = generate_system_of_equations(H_symbolic, C_array, progress = True)"
   ]
  },
  {
   "cell_type": "code",
   "execution_count": 35,
   "metadata": {},
   "outputs": [],
   "source": [
    "# convert matrix to system of equations code\n",
    "code_lines = system_of_equations_to_lines(system)"
   ]
  },
  {
   "cell_type": "markdown",
   "metadata": {},
   "source": [
    "# Solving ODE system with Julia\n",
    "Need to install Julia and add the following packages to Julia:  \n",
    "* [DifferentialEquations](https://diffeq.sciml.ai/stable/)\n",
    "* [Trapz](https://github.com/francescoalemanno/Trapz.jl)\n",
    "\n",
    "And install [PyJulia](https://pyjulia.readthedocs.io/en/latest/index.html) for python.  "
   ]
  },
  {
   "cell_type": "code",
   "execution_count": 36,
   "metadata": {},
   "outputs": [],
   "source": [
    "# import julia\n",
    "# julia.install()"
   ]
  },
  {
   "cell_type": "code",
   "execution_count": 37,
   "metadata": {},
   "outputs": [],
   "source": [
    "from julia import Main"
   ]
  },
  {
   "cell_type": "code",
   "execution_count": 38,
   "metadata": {},
   "outputs": [],
   "source": [
    "Main.eval(\"\"\"\n",
    "using Distributed\n",
    "using BenchmarkTools\n",
    "addprocs(6)\n",
    "\n",
    "@everywhere begin\n",
    "    using LinearAlgebra\n",
    "    using Trapz\n",
    "    using DifferentialEquations\n",
    "    include(\"utils/general_ode_functions.jl\")\n",
    "end\n",
    "\"\"\")"
   ]
  },
  {
   "cell_type": "code",
   "execution_count": 39,
   "metadata": {},
   "outputs": [],
   "source": [
    "if Main.eval(\"nprocs()\") > 6:\n",
    "    procs = Main.eval(\"procs()\")\n",
    "    procs = procs[procs > 6]\n",
    "    Main.eval(f\"rmprocs({procs})\")"
   ]
  },
  {
   "cell_type": "code",
   "execution_count": 40,
   "metadata": {},
   "outputs": [],
   "source": [
    "# Px = Main.eval(\"[sine_wave(ti, νp1, 4.71238898038469) for ti = range(0,1/νp1,length=101)]\")\n",
    "# Pz = Main.eval(\"[sine_wave(ti, νp1, 1.5707963267948966) for ti = range(0,1/νp1,length=101)]\")\n",
    "# normalization = np.sqrt(Px**2+Pz**2)\n",
    "# plt.plot(np.array([Px,Pz]).T/normalization[:,np.newaxis])"
   ]
  },
  {
   "cell_type": "code",
   "execution_count": 41,
   "metadata": {},
   "outputs": [
    {
     "data": {
      "text/plain": [
       "array([1, 2, 3, 4, 5, 6], dtype=int64)"
      ]
     },
     "execution_count": 41,
     "metadata": {},
     "output_type": "execute_result"
    }
   ],
   "source": [
    "Main.eval(\"procs()\")\n",
    "# Main.eval(\"rmprocs(7,8,9,10,11,12,13)\")"
   ]
  },
  {
   "cell_type": "markdown",
   "metadata": {},
   "source": [
    "## Creating the Julia function to compute the RHS of the Lindblad Equation\n",
    "Note that only here the polarization switching function is added.  \n",
    "Anything added symbolically can be modified here."
   ]
  },
  {
   "cell_type": "code",
   "execution_count": 42,
   "metadata": {},
   "outputs": [],
   "source": [
    "ode_fun = \"\"\"function Lindblad_rhs!(du, ρ, p, t)\n",
    "\\t@inbounds begin\n",
    "\\t\\tΩ1 = p[1]\n",
    "\\t\\tνp1 = p[2]\n",
    "\\t\\tΔ1 = p[3]\n",
    "\\t\\tΩ2 = p[4]\n",
    "\\t\\tνp2 = p[5]\n",
    "\\t\\tΔ2 = p[6]\n",
    "\\t\\tΩ1ᶜ = conj(Ω1)\n",
    "\\t\\tΩ2ᶜ = conj(Ω2)\n",
    "\\t\\tPx1 = sine_wave(t, νp1, 4.71238898038469)\n",
    "\\t\\tPz1 = sine_wave(t, νp1, 1.5707963267948966)\n",
    "\\t\\tPx2 = sine_wave(t, νp2, 1.5707963267948966)\n",
    "\\t\\tPz2 = sine_wave(t, νp2, 4.71238898038469)\n",
    "\\t\\tnorm1 = sqrt(Px1^2+Pz1^2)\n",
    "\\t\\tnorm2 = sqrt(Px2^2+Pz2^2)\n",
    "\\t\\tPx1 /= norm1\n",
    "\\t\\tPz1 /= norm1\n",
    "\\t\\tPx2 /= norm2\n",
    "\\t\\tPz2 /= norm2\n",
    "\"\"\""
   ]
  },
  {
   "cell_type": "code",
   "execution_count": 43,
   "metadata": {},
   "outputs": [
    {
     "name": "stdout",
     "output_type": "stream",
     "text": [
      "function Lindblad_rhs!(du, ρ, p, t)\n",
      "\t@inbounds begin\n",
      "\t\tΩ1 = p[1]\n",
      "\t\tνp1 = p[2]\n",
      "\t\tΔ1 = p[3]\n",
      "\t\tΩ2 = p[4]\n",
      "\t\tνp2 = p[5]\n",
      "\t\tΔ2 = p[6]\n",
      "\t\tΩ1ᶜ = conj(Ω1)\n",
      "\t\tΩ2ᶜ = conj(Ω2)\n",
      "\t\tPx1 = sine_wave(t, νp1, 4.71238898038469)\n",
      "\t\tPz1 = sine_wave(t, νp1, 1.5707963267948966)\n",
      "\t\tPx2 = sine_wave(t, νp2, 1.5707963267948966)\n",
      "\t\tPz2 = sine_wave(t, νp2, 4.71238898038469)\n",
      "\t\tnorm1 = sqrt(Px1^2+Pz1^2)\n",
      "\t\tnorm2 = sqrt(Px2^2+Pz2^2)\n",
      "\t\tPx1 /= norm1\n",
      "\t\tPz1 /= norm1\n",
      "\t\tPx2 /= norm2\n",
      "\t\tPz2 /= norm2\n",
      "\n"
     ]
    }
   ],
   "source": [
    "print(ode_fun)"
   ]
  },
  {
   "cell_type": "code",
   "execution_count": 44,
   "metadata": {},
   "outputs": [],
   "source": [
    "for cline in code_lines:\n",
    "    ode_fun += \"\\t\\t\"+cline+'\\n'\n",
    "ode_fun += '\\t end \\n \\t nothing \\n end'"
   ]
  },
  {
   "cell_type": "code",
   "execution_count": 45,
   "metadata": {},
   "outputs": [],
   "source": [
    "with open('ode_amherst_cyling.jl', 'w', encoding='utf8') as f:\n",
    "    f.write(ode_fun)"
   ]
  },
  {
   "cell_type": "code",
   "execution_count": 46,
   "metadata": {},
   "outputs": [],
   "source": [
    "# reading from file\n",
    "with open('ode_amherst_cyling.jl', 'r', encoding='utf8') as f:\n",
    "    ode_fun = f.read()"
   ]
  },
  {
   "cell_type": "code",
   "execution_count": 47,
   "metadata": {},
   "outputs": [],
   "source": [
    "# making the function in Julia\n",
    "Main.eval(f\"@everywhere {ode_fun}\")"
   ]
  },
  {
   "cell_type": "code",
   "execution_count": 48,
   "metadata": {},
   "outputs": [],
   "source": [
    "ρ_ini = np.zeros([n_states, n_states], dtype = complex)\n",
    "np.fill_diagonal(ρ_ini[:n_states-4, :n_states-4], 1/(n_states-4))"
   ]
  },
  {
   "cell_type": "code",
   "execution_count": 49,
   "metadata": {},
   "outputs": [],
   "source": [
    "Γ = 2*np.pi * 1.56e6\n",
    "Ω1 = 0.1*Γ\n",
    "Ω2 = 0.1*Γ\n",
    "ωp1 = 2*np.pi*2e6 # 2 MHz\n",
    "ωp2 = 2*np.pi*2e6 # 2 MHz\n",
    "Δ1 = 0\n",
    "Δ2 = 0\n",
    "ωp1 = 0*np.pi*2e6\n",
    "ωp2 = 0*np.pi*2e6\n",
    "\n",
    "νp1 = ωp1/(2*np.pi)\n",
    "νp2 = ωp2/(2*np.pi)\n",
    "\n",
    "Main.Γ = Γ\n",
    "Main.Ω1 = Ω1\n",
    "Main.νp1 = νp1\n",
    "Main.Δ1 = Δ1\n",
    "Main.Ω2 = Ω2\n",
    "Main.νp2 = νp2\n",
    "Main.Δ2 = Δ2\n",
    "\n",
    "Main.ρ_ini = ρ_ini\n",
    "\n",
    "# setting up the parameters to send to the differential equation\n",
    "Main.eval(\"\"\"\n",
    "@everywhere begin\n",
    "    Γ = 2pi*1.56e6\n",
    "    Ω1 = Γ\n",
    "    Ω2 = Γ\n",
    "    Δ1 = 0\n",
    "    Δ2 = 0\n",
    "    νp1 = 1e6\n",
    "    νp2 = 1e6\n",
    "    p = [Ω1, νp1, Δ1, Ω2, νp2, Δ2]\n",
    "end\n",
    "\"\"\")"
   ]
  },
  {
   "cell_type": "code",
   "execution_count": 50,
   "metadata": {},
   "outputs": [
    {
     "name": "stdout",
     "output_type": "stream",
     "text": [
      "Wall time: 6.22 s\n"
     ]
    },
    {
     "data": {
      "text/plain": [
       "0"
      ]
     },
     "execution_count": 50,
     "metadata": {},
     "output_type": "execute_result"
    }
   ],
   "source": [
    "%%time\n",
    "du = np.zeros(ρ_ini.shape, dtype = 'complex')\n",
    "Main.du = du\n",
    "Main.eval(\"\"\"\n",
    "@btime Lindblad_rhs!(du, ρ_ini, p, 0.)\n",
    "tmp = 0\n",
    "\"\"\")"
   ]
  },
  {
   "cell_type": "markdown",
   "metadata": {},
   "source": [
    "### Setting up the ODE problem to solve\n",
    "`tmp = 0` is just to prevent `Main.eval` from outputting the problem in the notebook.  \n",
    "The ODEProblem takes a function to solve (`Lindblad_rhs!` in this case), initial conditions `ρ_ini`, a timespan `tspan` an additional arguments for the ODE function, denoted here by `p` "
   ]
  },
  {
   "cell_type": "code",
   "execution_count": 51,
   "metadata": {},
   "outputs": [],
   "source": [
    "Main.eval(\"\"\"\n",
    "tspan = (0.0f0, 2*25.4/1e3 / 184)\n",
    "prob = ODEProblem(Lindblad_rhs!,ρ_ini,tspan,p)\n",
    "\"\"\");"
   ]
  },
  {
   "cell_type": "code",
   "execution_count": 52,
   "metadata": {},
   "outputs": [
    {
     "name": "stdout",
     "output_type": "stream",
     "text": [
      "Wall time: 4.38 s\n"
     ]
    },
    {
     "data": {
      "text/plain": [
       "0"
      ]
     },
     "execution_count": 52,
     "metadata": {},
     "output_type": "execute_result"
    }
   ],
   "source": [
    "%%time\n",
    "Main.eval(\"\"\"\n",
    "@time sol = solve(prob, Tsit5(), abstol = 1e-9, reltol = 1e-6, dt = 1e-9)\n",
    "tmp = 0\n",
    "\"\"\");"
   ]
  },
  {
   "cell_type": "code",
   "execution_count": 53,
   "metadata": {},
   "outputs": [],
   "source": [
    "ut = np.array(Main.eval(\"sol[:]\")).T\n",
    "pop_results = np.real(np.einsum('jji->ji',ut.reshape((ρ_ini.shape[0], ρ_ini.shape[1], ut.shape[2]))))\n",
    "t_array = Main.eval(\"sol.t\") * 1e6"
   ]
  },
  {
   "cell_type": "code",
   "execution_count": 54,
   "metadata": {},
   "outputs": [
    {
     "data": {
      "image/png": "[encoded data removed]",
      "text/plain": [
       "<Figure size 576x360 with 1 Axes>"
      ]
     },
     "metadata": {
      "needs_background": "light"
     },
     "output_type": "display_data"
    }
   ],
   "source": [
    "exc_F0 = pop_results[-4,:]\n",
    "exc_F1 = np.sum(pop_results[-3:,:], axis = 0)\n",
    "\n",
    "fig, ax = plt.subplots(figsize = (8,5))\n",
    "ax.plot(t_array, exc_F0)\n",
    "ax.plot(t_array, exc_F1)\n",
    "\n",
    "ax.set_xlabel('time [μs]')\n",
    "\n",
    "set_fontsize(ax, 14)"
   ]
  },
  {
   "cell_type": "code",
   "execution_count": 55,
   "metadata": {},
   "outputs": [
    {
     "data": {
      "text/plain": [
       "51.199876650961365"
      ]
     },
     "execution_count": 55,
     "metadata": {},
     "output_type": "execute_result"
    }
   ],
   "source": [
    "np.trapz(exc_F0+exc_F1, t_array/1e6)*Γ"
   ]
  },
  {
   "cell_type": "code",
   "execution_count": 56,
   "metadata": {},
   "outputs": [
    {
     "data": {
      "image/png": "[encoded data removed]",
      "text/plain": [
       "<Figure size 864x540 with 1 Axes>"
      ]
     },
     "metadata": {
      "needs_background": "light"
     },
     "output_type": "display_data"
    }
   ],
   "source": [
    "fig, ax = plt.subplots(figsize = (12,7.5))\n",
    "ax.plot(t_array, pop_results[0,:], label = r'F$_1$ = 1/2, F=0')\n",
    "ax.plot(t_array, np.sum(pop_results[1:4,:], axis = 0), label = r'F$_1$ = 1/2, F=1')\n",
    "ax.plot(t_array, np.sum(pop_results[4:7,:], axis = 0), label = r'F$_1$ = 3/2, F=1')\n",
    "ax.plot(t_array, np.sum(pop_results[7:12,:], axis = 0), label = r'F$_1$ = 3/2, F=2')\n",
    "ax.plot(t_array, np.sum(pop_results[-4:], axis = 0), label = 'excited state')\n",
    "\n",
    "ax.set_xlabel('time [μs]')\n",
    "ax.legend(fontsize = 14)\n",
    "set_fontsize(ax, 14)"
   ]
  },
  {
   "cell_type": "code",
   "execution_count": 57,
   "metadata": {},
   "outputs": [
    {
     "name": "stdout",
     "output_type": "stream",
     "text": [
      "+1.0000+0.0000j x |X, J = 1, F1 = 1/2, F = 0, mF = 0, I1 = 1/2, I2 = 1/2, P = -1, Omega = 0>\n",
      "+0.9961-0.0000j x |X, J = 1, F1 = 1/2, F = 1, mF = -1, I1 = 1/2, I2 = 1/2, P = -1, Omega = 0>\n",
      "+0.9961-0.0000j x |X, J = 1, F1 = 1/2, F = 1, mF = 0, I1 = 1/2, I2 = 1/2, P = -1, Omega = 0>\n",
      "+0.9961+0.0000j x |X, J = 1, F1 = 1/2, F = 1, mF = 1, I1 = 1/2, I2 = 1/2, P = -1, Omega = 0>\n",
      "+0.9961-0.0000j x |X, J = 1, F1 = 3/2, F = 1, mF = -1, I1 = 1/2, I2 = 1/2, P = -1, Omega = 0>\n",
      "+0.9961+0.0000j x |X, J = 1, F1 = 3/2, F = 1, mF = 0, I1 = 1/2, I2 = 1/2, P = -1, Omega = 0>\n",
      "+0.9961-0.0000j x |X, J = 1, F1 = 3/2, F = 1, mF = 1, I1 = 1/2, I2 = 1/2, P = -1, Omega = 0>\n",
      "+1.0000-0.0000j x |X, J = 1, F1 = 3/2, F = 2, mF = -2, I1 = 1/2, I2 = 1/2, P = -1, Omega = 0>\n",
      "+1.0000-0.0000j x |X, J = 1, F1 = 3/2, F = 2, mF = -1, I1 = 1/2, I2 = 1/2, P = -1, Omega = 0>\n",
      "+1.0000+0.0000j x |X, J = 1, F1 = 3/2, F = 2, mF = 0, I1 = 1/2, I2 = 1/2, P = -1, Omega = 0>\n",
      "+1.0000+0.0000j x |X, J = 1, F1 = 3/2, F = 2, mF = 1, I1 = 1/2, I2 = 1/2, P = -1, Omega = 0>\n",
      "+1.0000+0.0000j x |X, J = 1, F1 = 3/2, F = 2, mF = 2, I1 = 1/2, I2 = 1/2, P = -1, Omega = 0>\n",
      "+1.0000+0.0000j x |B, J = 1, F1 = 1/2, F = 0, mF = 0, I1 = 1/2, I2 = 1/2, P = 1, Omega = 1>\n",
      "+0.9996+0.0000j x |B, J = 1, F1 = 1/2, F = 1, mF = -1, I1 = 1/2, I2 = 1/2, P = 1, Omega = 1>\n",
      "+0.9996+0.0000j x |B, J = 1, F1 = 1/2, F = 1, mF = 0, I1 = 1/2, I2 = 1/2, P = 1, Omega = 1>\n",
      "+0.9996+0.0000j x |B, J = 1, F1 = 1/2, F = 1, mF = 1, I1 = 1/2, I2 = 1/2, P = 1, Omega = 1>\n"
     ]
    }
   ],
   "source": [
    "for s in QN:\n",
    "    s.print_state()"
   ]
  },
  {
   "cell_type": "code",
   "execution_count": 58,
   "metadata": {},
   "outputs": [
    {
     "data": {
      "image/png": "[encoded data removed]",
      "text/plain": [
       "<Figure size 576x1440 with 12 Axes>"
      ]
     },
     "metadata": {
      "needs_background": "light"
     },
     "output_type": "display_data"
    }
   ],
   "source": [
    "fig, axes = plt.subplots(figsize = (8,20), nrows = 12, sharex = True)\n",
    "for idx, pop in enumerate(pop_results[:-4]):\n",
    "    axes[idx].plot(t_array, pop)\n",
    "\n",
    "axes[idx].set_xlabel('time [μs]')\n",
    "for ax in axes:\n",
    "    set_fontsize(ax, 14)"
   ]
  },
  {
   "cell_type": "markdown",
   "metadata": {},
   "source": [
    "### Parameter scan for polarization switching frequency"
   ]
  },
  {
   "cell_type": "code",
   "execution_count": 59,
   "metadata": {},
   "outputs": [],
   "source": [
    "Main.eval(\"\"\"\n",
    "@everywhere params = [val*Γ/(2pi) for val in 0:5/401:5]\"\"\")\n",
    "# Main.params = Main.νs"
   ]
  },
  {
   "cell_type": "code",
   "execution_count": 60,
   "metadata": {},
   "outputs": [],
   "source": [
    "# defining a progress bar to keep track of the ODE ensemble solver progress\n",
    "# Main.eval(\"using ProgressMeter\")\n",
    "# Main.eval('const pbar = Progress(50, 1, \"ODE Solving \", 50)')"
   ]
  },
  {
   "cell_type": "code",
   "execution_count": 61,
   "metadata": {},
   "outputs": [],
   "source": [
    "# function called every time on the when an ODE solve is ready\n",
    "# only save the integral of the excited state population of each trajectory\n",
    "Main.eval(\"\"\"\n",
    "@everywhere function output_func(sol,i)\n",
    "    # next!(pbar)\n",
    "    return trapz(sol.t, [real(sum(diag(sol.u[j])[13:end])) for j in 1:size(sol.u)[1]]), false\n",
    "end\"\"\")"
   ]
  },
  {
   "cell_type": "code",
   "execution_count": 62,
   "metadata": {},
   "outputs": [
    {
     "data": {
      "text/plain": [
       "0"
      ]
     },
     "execution_count": 62,
     "metadata": {},
     "output_type": "execute_result"
    }
   ],
   "source": [
    "Main.eval(\"\"\"\n",
    "tspan = (0.0f0, 300e-6)\n",
    "prob = ODEProblem(Lindblad_rhs!,ρ_ini,tspan,p)\n",
    "tmp = 0\n",
    "\"\"\")"
   ]
  },
  {
   "cell_type": "code",
   "execution_count": 63,
   "metadata": {},
   "outputs": [],
   "source": [
    "# defining the function that changes the ODE parameters for each iteration\n",
    "Main.eval(\"\"\"\n",
    "@everywhere function prob_func(prob,i,repeat)\n",
    "    remake(prob,p=[Ω1; params[i]; Δ1; Ω2; params[i]; Δ2])\n",
    "end\n",
    "\"\"\")"
   ]
  },
  {
   "cell_type": "code",
   "execution_count": 64,
   "metadata": {},
   "outputs": [],
   "source": [
    "# setting up the EnsembleProblem with the earlier defined ODEProblem\n",
    "Main.eval(\"\"\"\n",
    "ens_prob = EnsembleProblem(prob, prob_func = prob_func, output_func = output_func);\n",
    "\"\"\");"
   ]
  },
  {
   "cell_type": "code",
   "execution_count": 65,
   "metadata": {},
   "outputs": [
    {
     "data": {
      "text/plain": [
       "45.6128058"
      ]
     },
     "execution_count": 65,
     "metadata": {},
     "output_type": "execute_result"
    }
   ],
   "source": [
    "# Main.eval(\"pbar.counter = 0\")\n",
    "# Main.eval(\"pbar.n = size(params)[1]\")\n",
    "Main.eval(\"\"\"\n",
    "@time sim = solve(ens_prob, Tsit5(), EnsembleDistributed(), save_start = true, save_end = true, \n",
    "            save_everystep = true; trajectories = size(params)[1], dt = 1e-9, adaptive=true,\n",
    "            abstol = 5e-7, reltol = 5e-4)\n",
    "sim.elapsedTime\n",
    "\"\"\")"
   ]
  },
  {
   "cell_type": "code",
   "execution_count": 66,
   "metadata": {},
   "outputs": [],
   "source": [
    "results_νs = Main.eval(\"sim.u\")"
   ]
  },
  {
   "cell_type": "code",
   "execution_count": 67,
   "metadata": {},
   "outputs": [
    {
     "data": {
      "image/png": "[encoded data removed]",
      "text/plain": [
       "<Figure size 576x360 with 1 Axes>"
      ]
     },
     "metadata": {
      "needs_background": "light"
     },
     "output_type": "display_data"
    }
   ],
   "source": [
    "νs = Main.params\n",
    "fig, ax = plt.subplots(figsize = (8,5))\n",
    "\n",
    "ax.plot(νs/1e6, results_νs*Γ, lw = 3)\n",
    "ax.set_xlabel('polarization switching frequency [MHz]')\n",
    "ax.set_ylabel('photons per molecule')\n",
    "\n",
    "set_fontsize(ax, 14)"
   ]
  },
  {
   "cell_type": "code",
   "execution_count": 68,
   "metadata": {},
   "outputs": [
    {
     "data": {
      "text/plain": [
       "2781546.134663342"
      ]
     },
     "execution_count": 68,
     "metadata": {},
     "output_type": "execute_result"
    }
   ],
   "source": [
    "νs[np.argmax(results_νs)]"
   ]
  },
  {
   "cell_type": "markdown",
   "metadata": {},
   "source": [
    "### Parameter scan for Ω"
   ]
  },
  {
   "cell_type": "code",
   "execution_count": 69,
   "metadata": {},
   "outputs": [],
   "source": [
    "Main.eval(\"@everywhere params = [val*Γ for val in 0:3/101:3]\")"
   ]
  },
  {
   "cell_type": "code",
   "execution_count": 70,
   "metadata": {},
   "outputs": [],
   "source": [
    "# function called every time on the when an ODE solve is ready\n",
    "# only save the integral of the excited state population of each trajectory\n",
    "Main.eval(\"\"\"\n",
    "@everywhere function output_func(sol,i)\n",
    "    # next!(pbar)\n",
    "    return trapz(sol.t, [real(sum(diag(sol.u[j])[13:end])) for j in 1:size(sol.u)[1]]), false\n",
    "end\"\"\")"
   ]
  },
  {
   "cell_type": "code",
   "execution_count": 71,
   "metadata": {},
   "outputs": [
    {
     "data": {
      "text/plain": [
       "0"
      ]
     },
     "execution_count": 71,
     "metadata": {},
     "output_type": "execute_result"
    }
   ],
   "source": [
    "Main.eval(\"\"\"\n",
    "tspan = (0.0f0, 300e-6)\n",
    "prob = ODEProblem(Lindblad_rhs!,ρ_ini,tspan,p)\n",
    "tmp = 0\n",
    "\"\"\")"
   ]
  },
  {
   "cell_type": "code",
   "execution_count": 72,
   "metadata": {},
   "outputs": [],
   "source": [
    "# defining the function that changes the ODE parameters for each iteration\n",
    "Main.eval(\"\"\"\n",
    "@everywhere function prob_func(prob,i,repeat)\n",
    "    remake(prob,p=[params[i]; 2769000.0; Δ1; params[i]; 2769000.0; Δ2])\n",
    "end\n",
    "\"\"\")"
   ]
  },
  {
   "cell_type": "code",
   "execution_count": 73,
   "metadata": {},
   "outputs": [
    {
     "data": {
      "text/plain": [
       "<PyCall.jlwrap EnsembleProblem{ODEProblem{Matrix{ComplexF64}, Tuple{Float64, Float64}, true, Vector{Float64}, ODEFunction{true, typeof(Lindblad_rhs!), UniformScaling{Bool}, Nothing, Nothing, Nothing, Nothing, Nothing, Nothing, Nothing, Nothing, Nothing, Nothing, Nothing, Nothing, typeof(SciMLBase.DEFAULT_OBSERVED), Nothing}, Base.Iterators.Pairs{Union{}, Union{}, Tuple{}, NamedTuple{(), Tuple{}}}, SciMLBase.StandardODEProblem}, typeof(prob_func), typeof(output_func), typeof(SciMLBase.DEFAULT_REDUCTION), Nothing}(ODEProblem{Matrix{ComplexF64}, Tuple{Float64, Float64}, true, Vector{Float64}, ODEFunction{true, typeof(Lindblad_rhs!), UniformScaling{Bool}, Nothing, Nothing, Nothing, Nothing, Nothing, Nothing, Nothing, Nothing, Nothing, Nothing, Nothing, Nothing, typeof(SciMLBase.DEFAULT_OBSERVED), Nothing}, Base.Iterators.Pairs{Union{}, Union{}, Tuple{}, NamedTuple{(), Tuple{}}}, SciMLBase.StandardODEProblem}(ODEFunction{true, typeof(Lindblad_rhs!), UniformScaling{Bool}, Nothing, Nothing, Nothing, Nothing, Nothing, Nothing, Nothing, Nothing, Nothing, Nothing, Nothing, Nothing, typeof(SciMLBase.DEFAULT_OBSERVED), Nothing}(Lindblad_rhs!, UniformScaling{Bool}(true), nothing, nothing, nothing, nothing, nothing, nothing, nothing, nothing, nothing, nothing, nothing, nothing, SciMLBase.DEFAULT_OBSERVED, nothing), ComplexF64[0.08333333333333333 + 0.0im 0.0 + 0.0im 0.0 + 0.0im 0.0 + 0.0im 0.0 + 0.0im 0.0 + 0.0im 0.0 + 0.0im 0.0 + 0.0im 0.0 + 0.0im 0.0 + 0.0im 0.0 + 0.0im 0.0 + 0.0im 0.0 + 0.0im 0.0 + 0.0im 0.0 + 0.0im 0.0 + 0.0im; 0.0 + 0.0im 0.08333333333333333 + 0.0im 0.0 + 0.0im 0.0 + 0.0im 0.0 + 0.0im 0.0 + 0.0im 0.0 + 0.0im 0.0 + 0.0im 0.0 + 0.0im 0.0 + 0.0im 0.0 + 0.0im 0.0 + 0.0im 0.0 + 0.0im 0.0 + 0.0im 0.0 + 0.0im 0.0 + 0.0im; 0.0 + 0.0im 0.0 + 0.0im 0.08333333333333333 + 0.0im 0.0 + 0.0im 0.0 + 0.0im 0.0 + 0.0im 0.0 + 0.0im 0.0 + 0.0im 0.0 + 0.0im 0.0 + 0.0im 0.0 + 0.0im 0.0 + 0.0im 0.0 + 0.0im 0.0 + 0.0im 0.0 + 0.0im 0.0 + 0.0im; 0.0 + 0.0im 0.0 + 0.0im 0.0 + 0.0im 0.08333333333333333 + 0.0im 0.0 + 0.0im 0.0 + 0.0im 0.0 + 0.0im 0.0 + 0.0im 0.0 + 0.0im 0.0 + 0.0im 0.0 + 0.0im 0.0 + 0.0im 0.0 + 0.0im 0.0 + 0.0im 0.0 + 0.0im 0.0 + 0.0im; 0.0 + 0.0im 0.0 + 0.0im 0.0 + 0.0im 0.0 + 0.0im 0.08333333333333333 + 0.0im 0.0 + 0.0im 0.0 + 0.0im 0.0 + 0.0im 0.0 + 0.0im 0.0 + 0.0im 0.0 + 0.0im 0.0 + 0.0im 0.0 + 0.0im 0.0 + 0.0im 0.0 + 0.0im 0.0 + 0.0im; 0.0 + 0.0im 0.0 + 0.0im 0.0 + 0.0im 0.0 + 0.0im 0.0 + 0.0im 0.08333333333333333 + 0.0im 0.0 + 0.0im 0.0 + 0.0im 0.0 + 0.0im 0.0 + 0.0im 0.0 + 0.0im 0.0 + 0.0im 0.0 + 0.0im 0.0 + 0.0im 0.0 + 0.0im 0.0 + 0.0im; 0.0 + 0.0im 0.0 + 0.0im 0.0 + 0.0im 0.0 + 0.0im 0.0 + 0.0im 0.0 + 0.0im 0.08333333333333333 + 0.0im 0.0 + 0.0im 0.0 + 0.0im 0.0 + 0.0im 0.0 + 0.0im 0.0 + 0.0im 0.0 + 0.0im 0.0 + 0.0im 0.0 + 0.0im 0.0 + 0.0im; 0.0 + 0.0im 0.0 + 0.0im 0.0 + 0.0im 0.0 + 0.0im 0.0 + 0.0im 0.0 + 0.0im 0.0 + 0.0im 0.08333333333333333 + 0.0im 0.0 + 0.0im 0.0 + 0.0im 0.0 + 0.0im 0.0 + 0.0im 0.0 + 0.0im 0.0 + 0.0im 0.0 + 0.0im 0.0 + 0.0im; 0.0 + 0.0im 0.0 + 0.0im 0.0 + 0.0im 0.0 + 0.0im 0.0 + 0.0im 0.0 + 0.0im 0.0 + 0.0im 0.0 + 0.0im 0.08333333333333333 + 0.0im 0.0 + 0.0im 0.0 + 0.0im 0.0 + 0.0im 0.0 + 0.0im 0.0 + 0.0im 0.0 + 0.0im 0.0 + 0.0im; 0.0 + 0.0im 0.0 + 0.0im 0.0 + 0.0im 0.0 + 0.0im 0.0 + 0.0im 0.0 + 0.0im 0.0 + 0.0im 0.0 + 0.0im 0.0 + 0.0im 0.08333333333333333 + 0.0im 0.0 + 0.0im 0.0 + 0.0im 0.0 + 0.0im 0.0 + 0.0im 0.0 + 0.0im 0.0 + 0.0im; 0.0 + 0.0im 0.0 + 0.0im 0.0 + 0.0im 0.0 + 0.0im 0.0 + 0.0im 0.0 + 0.0im 0.0 + 0.0im 0.0 + 0.0im 0.0 + 0.0im 0.0 + 0.0im 0.08333333333333333 + 0.0im 0.0 + 0.0im 0.0 + 0.0im 0.0 + 0.0im 0.0 + 0.0im 0.0 + 0.0im; 0.0 + 0.0im 0.0 + 0.0im 0.0 + 0.0im 0.0 + 0.0im 0.0 + 0.0im 0.0 + 0.0im 0.0 + 0.0im 0.0 + 0.0im 0.0 + 0.0im 0.0 + 0.0im 0.0 + 0.0im 0.08333333333333333 + 0.0im 0.0 + 0.0im 0.0 + 0.0im 0.0 + 0.0im 0.0 + 0.0im; 0.0 + 0.0im 0.0 + 0.0im 0.0 + 0.0im 0.0 + 0.0im 0.0 + 0.0im 0.0 + 0.0im 0.0 + 0.0im 0.0 + 0.0im 0.0 + 0.0im 0.0 + 0.0im 0.0 + 0.0im 0.0 + 0.0im 0.0 + 0.0im 0.0 + 0.0im 0.0 + 0.0im 0.0 + 0.0im; 0.0 + 0.0im 0.0 + 0.0im 0.0 + 0.0im 0.0 + 0.0im 0.0 + 0.0im 0.0 + 0.0im 0.0 + 0.0im 0.0 + 0.0im 0.0 + 0.0im 0.0 + 0.0im 0.0 + 0.0im 0.0 + 0.0im 0.0 + 0.0im 0.0 + 0.0im 0.0 + 0.0im 0.0 + 0.0im; 0.0 + 0.0im 0.0 + 0.0im 0.0 + 0.0im 0.0 + 0.0im 0.0 + 0.0im 0.0 + 0.0im 0.0 + 0.0im 0.0 + 0.0im 0.0 + 0.0im 0.0 + 0.0im 0.0 + 0.0im 0.0 + 0.0im 0.0 + 0.0im 0.0 + 0.0im 0.0 + 0.0im 0.0 + 0.0im; 0.0 + 0.0im 0.0 + 0.0im 0.0 + 0.0im 0.0 + 0.0im 0.0 + 0.0im 0.0 + 0.0im 0.0 + 0.0im 0.0 + 0.0im 0.0 + 0.0im 0.0 + 0.0im 0.0 + 0.0im 0.0 + 0.0im 0.0 + 0.0im 0.0 + 0.0im 0.0 + 0.0im 0.0 + 0.0im], (0.0, 0.0003), [9.801769079200154e6, 1.0e6, 0.0, 9.801769079200154e6, 1.0e6, 0.0], Base.Iterators.Pairs{Union{}, Union{}, Tuple{}, NamedTuple{(), Tuple{}}}(), SciMLBase.StandardODEProblem()), prob_func, output_func, SciMLBase.DEFAULT_REDUCTION, nothing, true)>"
      ]
     },
     "execution_count": 73,
     "metadata": {},
     "output_type": "execute_result"
    }
   ],
   "source": [
    "# setting up the EnsembleProblem with the earlier defined ODEProblem\n",
    "Main.eval(\"\"\"\n",
    "ens_prob = EnsembleProblem(prob, prob_func = prob_func, output_func = output_func);\n",
    "\"\"\")"
   ]
  },
  {
   "cell_type": "code",
   "execution_count": 74,
   "metadata": {},
   "outputs": [
    {
     "data": {
      "text/plain": [
       "10.5836676"
      ]
     },
     "execution_count": 74,
     "metadata": {},
     "output_type": "execute_result"
    }
   ],
   "source": [
    "# Main.eval(\"pbar.counter = 0\")\n",
    "# Main.eval(\"pbar.n = size(params)[1]\")\n",
    "Main.eval(\"\"\"\n",
    "@time sim = solve(ens_prob, Tsit5(), EnsembleDistributed(), save_start = true, save_end = true, \n",
    "            save_everystep = true; trajectories = size(params)[1], dt = 1e-9, adaptive=true,\n",
    "            abstol = 5e-7, reltol = 5e-4)\n",
    "sim.elapsedTime\n",
    "\"\"\")"
   ]
  },
  {
   "cell_type": "code",
   "execution_count": 75,
   "metadata": {},
   "outputs": [],
   "source": [
    "results_Ωs = Main.eval(\"sim.u\")"
   ]
  },
  {
   "cell_type": "code",
   "execution_count": 76,
   "metadata": {},
   "outputs": [
    {
     "data": {
      "image/png": "[encoded data removed]",
      "text/plain": [
       "<Figure size 576x360 with 1 Axes>"
      ]
     },
     "metadata": {
      "needs_background": "light"
     },
     "output_type": "display_data"
    }
   ],
   "source": [
    "fig, ax = plt.subplots(figsize = (8,5))\n",
    "\n",
    "ax.plot(Main.params/Γ, results_Ωs*Γ, lw = 3)\n",
    "ax.set_xlabel('Ω [Γ]')\n",
    "ax.set_ylabel('photons per molecule')\n",
    "\n",
    "set_fontsize(ax, 14)"
   ]
  },
  {
   "cell_type": "markdown",
   "metadata": {},
   "source": [
    "### Parameter scan for Δ"
   ]
  },
  {
   "cell_type": "code",
   "execution_count": 97,
   "metadata": {},
   "outputs": [],
   "source": [
    "if Main.eval(\"nprocs()\") > 6:\n",
    "    procs = Main.eval(\"procs()\")\n",
    "    procs = procs[procs > 6]\n",
    "    Main.eval(f\"rmprocs({procs})\")"
   ]
  },
  {
   "cell_type": "code",
   "execution_count": 98,
   "metadata": {},
   "outputs": [],
   "source": [
    "Main.eval(\"@everywhere params = [val*2pi*1e6 for val in range(-25,25,length=101)]\")"
   ]
  },
  {
   "cell_type": "code",
   "execution_count": 99,
   "metadata": {},
   "outputs": [
    {
     "data": {
      "text/plain": [
       "0"
      ]
     },
     "execution_count": 99,
     "metadata": {},
     "output_type": "execute_result"
    }
   ],
   "source": [
    "Main.eval(\"\"\"\n",
    "tspan = (0.0f0, 300e-6)\n",
    "prob = ODEProblem(Lindblad_rhs!,ρ_ini,tspan,p)\n",
    "tmp = 0\n",
    "\"\"\")"
   ]
  },
  {
   "cell_type": "code",
   "execution_count": 105,
   "metadata": {},
   "outputs": [],
   "source": [
    "# defining the function that changes the ODE parameters for each iteration\n",
    "Main.eval(\"\"\"\n",
    "@everywhere function prob_func(prob,i,repeat)\n",
    "    remake(prob,p=[0.8Γ; 0.0; params[i]; 0; 2769000.0; params[i]])\n",
    "end\n",
    "\"\"\")"
   ]
  },
  {
   "cell_type": "code",
   "execution_count": 106,
   "metadata": {},
   "outputs": [],
   "source": [
    "# setting up the EnsembleProblem with the earlier defined ODEProblem\n",
    "Main.eval(\"\"\"\n",
    "ens_prob = EnsembleProblem(prob, prob_func = prob_func, output_func = output_func);\n",
    "\"\"\");"
   ]
  },
  {
   "cell_type": "code",
   "execution_count": 107,
   "metadata": {},
   "outputs": [
    {
     "data": {
      "text/plain": [
       "8.3824473"
      ]
     },
     "execution_count": 107,
     "metadata": {},
     "output_type": "execute_result"
    }
   ],
   "source": [
    "# Main.eval(\"pbar.counter = 0\")\n",
    "# Main.eval(\"pbar.n = size(params)[1]\")\n",
    "Main.eval(\"\"\"\n",
    "@time sim = solve(ens_prob, Tsit5(), EnsembleDistributed(), save_start = true, save_end = true, \n",
    "            save_everystep = true; trajectories = size(params)[1], dt = 1e-9, adaptive=true,\n",
    "            abstol = 5e-7, reltol = 5e-4)\n",
    "sim.elapsedTime\n",
    "\"\"\")"
   ]
  },
  {
   "cell_type": "code",
   "execution_count": 108,
   "metadata": {},
   "outputs": [],
   "source": [
    "results_Δs = Main.eval(\"sim.u\")"
   ]
  },
  {
   "cell_type": "code",
   "execution_count": 109,
   "metadata": {},
   "outputs": [
    {
     "data": {
      "image/png": "[encoded data removed]",
      "text/plain": [
       "<Figure size 576x360 with 1 Axes>"
      ]
     },
     "metadata": {
      "needs_background": "light"
     },
     "output_type": "display_data"
    }
   ],
   "source": [
    "fig, ax = plt.subplots(figsize = (8,5))\n",
    "\n",
    "ax.plot(Main.params/(2*np.pi*1e6), results_Δs*Γ, lw = 3)\n",
    "ax.set_xlabel('Δ [MHz]')\n",
    "ax.set_ylabel('photons per molecule')\n",
    "ax.grid(True)\n",
    "set_fontsize(ax, 14)"
   ]
  },
  {
   "cell_type": "markdown",
   "metadata": {},
   "source": [
    "### 2D parameter scan"
   ]
  },
  {
   "cell_type": "code",
   "execution_count": 85,
   "metadata": {},
   "outputs": [],
   "source": [
    "Main.Ωs = np.linspace(0.1,3,101)*Γ\n",
    "Main.νs = np.linspace(0.1,5,101)*1e6\n",
    "params = np.array(np.meshgrid(Main.Ωs, Main.νs)).T.reshape(-1,2)\n",
    "Main.params = params\n",
    "Main.eval(\"@eval @everywhere params = $params\")"
   ]
  },
  {
   "cell_type": "code",
   "execution_count": 86,
   "metadata": {},
   "outputs": [
    {
     "data": {
      "text/plain": [
       "<PyCall.jlwrap EnsembleProblem{ODEProblem{Matrix{ComplexF64}, Tuple{Float64, Float64}, true, Vector{Float64}, ODEFunction{true, typeof(Lindblad_rhs!), UniformScaling{Bool}, Nothing, Nothing, Nothing, Nothing, Nothing, Nothing, Nothing, Nothing, Nothing, Nothing, Nothing, Nothing, typeof(SciMLBase.DEFAULT_OBSERVED), Nothing}, Base.Iterators.Pairs{Union{}, Union{}, Tuple{}, NamedTuple{(), Tuple{}}}, SciMLBase.StandardODEProblem}, typeof(prob_func), typeof(output_func), typeof(SciMLBase.DEFAULT_REDUCTION), Nothing}(ODEProblem{Matrix{ComplexF64}, Tuple{Float64, Float64}, true, Vector{Float64}, ODEFunction{true, typeof(Lindblad_rhs!), UniformScaling{Bool}, Nothing, Nothing, Nothing, Nothing, Nothing, Nothing, Nothing, Nothing, Nothing, Nothing, Nothing, Nothing, typeof(SciMLBase.DEFAULT_OBSERVED), Nothing}, Base.Iterators.Pairs{Union{}, Union{}, Tuple{}, NamedTuple{(), Tuple{}}}, SciMLBase.StandardODEProblem}(ODEFunction{true, typeof(Lindblad_rhs!), UniformScaling{Bool}, Nothing, Nothing, Nothing, Nothing, Nothing, Nothing, Nothing, Nothing, Nothing, Nothing, Nothing, Nothing, typeof(SciMLBase.DEFAULT_OBSERVED), Nothing}(Lindblad_rhs!, UniformScaling{Bool}(true), nothing, nothing, nothing, nothing, nothing, nothing, nothing, nothing, nothing, nothing, nothing, nothing, SciMLBase.DEFAULT_OBSERVED, nothing), ComplexF64[0.08333333333333333 + 0.0im 0.0 + 0.0im 0.0 + 0.0im 0.0 + 0.0im 0.0 + 0.0im 0.0 + 0.0im 0.0 + 0.0im 0.0 + 0.0im 0.0 + 0.0im 0.0 + 0.0im 0.0 + 0.0im 0.0 + 0.0im 0.0 + 0.0im 0.0 + 0.0im 0.0 + 0.0im 0.0 + 0.0im; 0.0 + 0.0im 0.08333333333333333 + 0.0im 0.0 + 0.0im 0.0 + 0.0im 0.0 + 0.0im 0.0 + 0.0im 0.0 + 0.0im 0.0 + 0.0im 0.0 + 0.0im 0.0 + 0.0im 0.0 + 0.0im 0.0 + 0.0im 0.0 + 0.0im 0.0 + 0.0im 0.0 + 0.0im 0.0 + 0.0im; 0.0 + 0.0im 0.0 + 0.0im 0.08333333333333333 + 0.0im 0.0 + 0.0im 0.0 + 0.0im 0.0 + 0.0im 0.0 + 0.0im 0.0 + 0.0im 0.0 + 0.0im 0.0 + 0.0im 0.0 + 0.0im 0.0 + 0.0im 0.0 + 0.0im 0.0 + 0.0im 0.0 + 0.0im 0.0 + 0.0im; 0.0 + 0.0im 0.0 + 0.0im 0.0 + 0.0im 0.08333333333333333 + 0.0im 0.0 + 0.0im 0.0 + 0.0im 0.0 + 0.0im 0.0 + 0.0im 0.0 + 0.0im 0.0 + 0.0im 0.0 + 0.0im 0.0 + 0.0im 0.0 + 0.0im 0.0 + 0.0im 0.0 + 0.0im 0.0 + 0.0im; 0.0 + 0.0im 0.0 + 0.0im 0.0 + 0.0im 0.0 + 0.0im 0.08333333333333333 + 0.0im 0.0 + 0.0im 0.0 + 0.0im 0.0 + 0.0im 0.0 + 0.0im 0.0 + 0.0im 0.0 + 0.0im 0.0 + 0.0im 0.0 + 0.0im 0.0 + 0.0im 0.0 + 0.0im 0.0 + 0.0im; 0.0 + 0.0im 0.0 + 0.0im 0.0 + 0.0im 0.0 + 0.0im 0.0 + 0.0im 0.08333333333333333 + 0.0im 0.0 + 0.0im 0.0 + 0.0im 0.0 + 0.0im 0.0 + 0.0im 0.0 + 0.0im 0.0 + 0.0im 0.0 + 0.0im 0.0 + 0.0im 0.0 + 0.0im 0.0 + 0.0im; 0.0 + 0.0im 0.0 + 0.0im 0.0 + 0.0im 0.0 + 0.0im 0.0 + 0.0im 0.0 + 0.0im 0.08333333333333333 + 0.0im 0.0 + 0.0im 0.0 + 0.0im 0.0 + 0.0im 0.0 + 0.0im 0.0 + 0.0im 0.0 + 0.0im 0.0 + 0.0im 0.0 + 0.0im 0.0 + 0.0im; 0.0 + 0.0im 0.0 + 0.0im 0.0 + 0.0im 0.0 + 0.0im 0.0 + 0.0im 0.0 + 0.0im 0.0 + 0.0im 0.08333333333333333 + 0.0im 0.0 + 0.0im 0.0 + 0.0im 0.0 + 0.0im 0.0 + 0.0im 0.0 + 0.0im 0.0 + 0.0im 0.0 + 0.0im 0.0 + 0.0im; 0.0 + 0.0im 0.0 + 0.0im 0.0 + 0.0im 0.0 + 0.0im 0.0 + 0.0im 0.0 + 0.0im 0.0 + 0.0im 0.0 + 0.0im 0.08333333333333333 + 0.0im 0.0 + 0.0im 0.0 + 0.0im 0.0 + 0.0im 0.0 + 0.0im 0.0 + 0.0im 0.0 + 0.0im 0.0 + 0.0im; 0.0 + 0.0im 0.0 + 0.0im 0.0 + 0.0im 0.0 + 0.0im 0.0 + 0.0im 0.0 + 0.0im 0.0 + 0.0im 0.0 + 0.0im 0.0 + 0.0im 0.08333333333333333 + 0.0im 0.0 + 0.0im 0.0 + 0.0im 0.0 + 0.0im 0.0 + 0.0im 0.0 + 0.0im 0.0 + 0.0im; 0.0 + 0.0im 0.0 + 0.0im 0.0 + 0.0im 0.0 + 0.0im 0.0 + 0.0im 0.0 + 0.0im 0.0 + 0.0im 0.0 + 0.0im 0.0 + 0.0im 0.0 + 0.0im 0.08333333333333333 + 0.0im 0.0 + 0.0im 0.0 + 0.0im 0.0 + 0.0im 0.0 + 0.0im 0.0 + 0.0im; 0.0 + 0.0im 0.0 + 0.0im 0.0 + 0.0im 0.0 + 0.0im 0.0 + 0.0im 0.0 + 0.0im 0.0 + 0.0im 0.0 + 0.0im 0.0 + 0.0im 0.0 + 0.0im 0.0 + 0.0im 0.08333333333333333 + 0.0im 0.0 + 0.0im 0.0 + 0.0im 0.0 + 0.0im 0.0 + 0.0im; 0.0 + 0.0im 0.0 + 0.0im 0.0 + 0.0im 0.0 + 0.0im 0.0 + 0.0im 0.0 + 0.0im 0.0 + 0.0im 0.0 + 0.0im 0.0 + 0.0im 0.0 + 0.0im 0.0 + 0.0im 0.0 + 0.0im 0.0 + 0.0im 0.0 + 0.0im 0.0 + 0.0im 0.0 + 0.0im; 0.0 + 0.0im 0.0 + 0.0im 0.0 + 0.0im 0.0 + 0.0im 0.0 + 0.0im 0.0 + 0.0im 0.0 + 0.0im 0.0 + 0.0im 0.0 + 0.0im 0.0 + 0.0im 0.0 + 0.0im 0.0 + 0.0im 0.0 + 0.0im 0.0 + 0.0im 0.0 + 0.0im 0.0 + 0.0im; 0.0 + 0.0im 0.0 + 0.0im 0.0 + 0.0im 0.0 + 0.0im 0.0 + 0.0im 0.0 + 0.0im 0.0 + 0.0im 0.0 + 0.0im 0.0 + 0.0im 0.0 + 0.0im 0.0 + 0.0im 0.0 + 0.0im 0.0 + 0.0im 0.0 + 0.0im 0.0 + 0.0im 0.0 + 0.0im; 0.0 + 0.0im 0.0 + 0.0im 0.0 + 0.0im 0.0 + 0.0im 0.0 + 0.0im 0.0 + 0.0im 0.0 + 0.0im 0.0 + 0.0im 0.0 + 0.0im 0.0 + 0.0im 0.0 + 0.0im 0.0 + 0.0im 0.0 + 0.0im 0.0 + 0.0im 0.0 + 0.0im 0.0 + 0.0im], (0.0, 0.0003), [9.801769079200154e6, 1.0e6, 0.0, 9.801769079200154e6, 1.0e6, 0.0], Base.Iterators.Pairs{Union{}, Union{}, Tuple{}, NamedTuple{(), Tuple{}}}(), SciMLBase.StandardODEProblem()), prob_func, output_func, SciMLBase.DEFAULT_REDUCTION, nothing, true)>"
      ]
     },
     "execution_count": 86,
     "metadata": {},
     "output_type": "execute_result"
    }
   ],
   "source": [
    "# defining the function that changes the ODE parameters for each iteration\n",
    "Main.eval(\"\"\"\n",
    "@everywhere function prob_func(prob,i,repeat)\n",
    "    remake(prob,p=[params[i,1]; params[i,2]; Δ1; params[i,1]; params[i,2]; Δ2])\n",
    "end\n",
    "\"\"\")\n",
    "\n",
    "# setting up the EnsembleProblem with the earlier defined ODEProblem\n",
    "Main.eval(\"\"\"\n",
    "ens_prob = EnsembleProblem(prob, prob_func = prob_func, output_func = output_func); \n",
    "\"\"\")"
   ]
  },
  {
   "cell_type": "code",
   "execution_count": 87,
   "metadata": {},
   "outputs": [
    {
     "data": {
      "text/plain": [
       "617.5259765"
      ]
     },
     "execution_count": 87,
     "metadata": {},
     "output_type": "execute_result"
    }
   ],
   "source": [
    "# Main.eval(\"pbar.counter = 0\")\n",
    "# Main.eval(\"pbar.n = size(params)[1]\")\n",
    "Main.eval(\"\"\"\n",
    "@time sim = solve(ens_prob, Tsit5(), EnsembleDistributed(), save_start = true, save_end = true, \n",
    "            save_everystep = true; trajectories = size(params)[1], dt = 1e-9, adaptive=true,\n",
    "            abstol = 5e-7, reltol = 5e-4)\n",
    "sim.elapsedTime\n",
    "\"\"\")"
   ]
  },
  {
   "cell_type": "code",
   "execution_count": 88,
   "metadata": {},
   "outputs": [],
   "source": [
    "results_scan = Main.eval(\"sim.u\")"
   ]
  },
  {
   "cell_type": "code",
   "execution_count": 89,
   "metadata": {},
   "outputs": [
    {
     "data": {
      "image/png": "[encoded data removed]",
      "text/plain": [
       "<Figure size 576x432 with 2 Axes>"
      ]
     },
     "metadata": {
      "needs_background": "light"
     },
     "output_type": "display_data"
    }
   ],
   "source": [
    "x = params[:,1].real/1e6\n",
    "y = params[:,0].real/Γ\n",
    "z = results_scan*Γ\n",
    "\n",
    "fig, ax = plt.subplots(figsize = (8,6))\n",
    "# cs = ax.tricontourf(x,y,z, levels = 15)\n",
    "cs = ax.tripcolor(x,y,z)\n",
    "\n",
    "# ax.set_xscale('log')\n",
    "\n",
    "ax.set_xlabel('polarization switching frequency [MHz]')\n",
    "ax.set_ylabel('Ω [Γ]')\n",
    "\n",
    "cbar = fig.colorbar(cs)\n",
    "cbar.ax.set_ylabel('photons per molecule')\n",
    "\n",
    "set_fontsize(ax, 14)\n",
    "set_fontsize(cbar.ax, 14)"
   ]
  },
  {
   "cell_type": "code",
   "execution_count": 90,
   "metadata": {},
   "outputs": [],
   "source": [
    "det1 = np.zeros(D1.shape, dtype = int)\n",
    "det1[np.nonzero(D1)] = 1\n",
    "\n",
    "det2 = np.zeros(D2.shape, dtype = int)\n",
    "det2[np.nonzero(D2)] = 1"
   ]
  },
  {
   "cell_type": "code",
   "execution_count": 91,
   "metadata": {},
   "outputs": [],
   "source": [
    "dat = np.vstack([x,y,z]).T\n",
    "with h5py.File('amherst_cycling_constant_fields.hdf5', 'w') as f:\n",
    "    grp = f.create_group('scan Ω and ν')\n",
    "    grp.attrs['fixed parameters'] = f\"Δ1 = 0, Δ2 = 0, Γ = {Γ} [2pi Hz]\"\n",
    "    grp.attrs['integration time'] = 0,300e-6\n",
    "    grp.attrs['ode function'] = ode_fun\n",
    "    dset = grp.create_dataset('results', data = dat)\n",
    "    dset.attrs[\"columns\"] = \"Ω [Γ], ν [MHz], integrated excited state population*Γ = photons per molecule\"\n",
    "    \n",
    "    grp.create_dataset('ρ initial', data = ρ_ini)\n",
    "    \n",
    "    hg = grp.create_group('hamiltonian')\n",
    "    hg.create_dataset('rotating', data = H_rot)\n",
    "    lg = hg.create_group('laser hamiltonians')\n",
    "    ldset = lg.create_dataset('laser 1 x', data = H_laser_x_1)\n",
    "    ldset.attrs['ME_main'] = laser_fields[0][1]\n",
    "    ldset = lg.create_dataset('laser 1 z', data = H_laser_z_1)\n",
    "    ldset.attrs['ME_main'] = laser_fields[0][1]\n",
    "    ldset = lg.create_dataset('laser 2 x', data = H_laser_x_2)\n",
    "    ldset.attrs['ME_main'] = laser_fields[2][1]\n",
    "    ldset = lg.create_dataset('laser 2 z', data = H_laser_z_2)\n",
    "    ldset.attrs['ME_main'] = laser_fields[2][1]\n",
    "    \n",
    "    dg = hg.create_group('detunings')\n",
    "    dg.create_dataset('detunings laser 1', data = det1)\n",
    "    dg.create_dataset('detunings laser 2', data = det2)\n",
    "    \n",
    "    hg.create_dataset('collapse matrices', data = C_array)"
   ]
  },
  {
   "cell_type": "markdown",
   "metadata": {},
   "source": [
    "### Add detunings"
   ]
  },
  {
   "cell_type": "code",
   "execution_count": 92,
   "metadata": {},
   "outputs": [],
   "source": [
    "Main.Ωs = np.linspace(0.1,3,25)*Γ\n",
    "Main.νs = np.linspace(0.1,5,25)*1e6\n",
    "Main.Δs = np.linspace(-25,25,25)*1e6*2*np.pi\n",
    "params = np.array(np.meshgrid(Main.Ωs, Main.νs, Main.Δs)).T.reshape(-1,3)"
   ]
  },
  {
   "cell_type": "code",
   "execution_count": 93,
   "metadata": {},
   "outputs": [
    {
     "name": "stdout",
     "output_type": "stream",
     "text": [
      "   22.24 kHz\n",
      "   -0.00 kHz\n",
      "   -0.00 kHz\n",
      "  175.95 kHz\n",
      "    0.00 kHz\n",
      "    0.00 kHz\n",
      "   14.54 kHz\n",
      "   -0.00 kHz\n",
      "   -0.00 kHz\n",
      "   -0.00 kHz\n",
      "   -0.00 kHz\n"
     ]
    },
    {
     "data": {
      "image/png": "[encoded data removed]",
      "text/plain": [
       "<Figure size 432x288 with 1 Axes>"
      ]
     },
     "metadata": {
      "needs_background": "light"
     },
     "output_type": "display_data"
    }
   ],
   "source": [
    "_m = np.diag(H_X_red.real)/(2*np.pi*1e3)\n",
    "plt.plot(_m - _m[0], '.')\n",
    "for val in np.diff(_m):\n",
    "    print(f\"{val:>8.2f} kHz\")"
   ]
  },
  {
   "cell_type": "code",
   "execution_count": 94,
   "metadata": {},
   "outputs": [
    {
     "name": "stdout",
     "output_type": "stream",
     "text": [
      "  563.68 MHz\n",
      "    0.00 MHz\n",
      "    0.00 MHz\n"
     ]
    },
    {
     "data": {
      "image/png": "[encoded data removed]",
      "text/plain": [
       "<Figure size 432x288 with 1 Axes>"
      ]
     },
     "metadata": {
      "needs_background": "light"
     },
     "output_type": "display_data"
    }
   ],
   "source": [
    "_m = np.diag(H_B_red.real)/(2*np.pi*1e6)\n",
    "plt.plot(_m - _m[0], '.')\n",
    "for val in np.diff(_m):\n",
    "    print(f\"{val:>8.2f} MHz\")"
   ]
  },
  {
   "cell_type": "code",
   "execution_count": 110,
   "metadata": {},
   "outputs": [
    {
     "data": {
      "text/plain": [
       "<matplotlib.image.AxesImage at 0x1475ed85a30>"
      ]
     },
     "execution_count": 110,
     "metadata": {},
     "output_type": "execute_result"
    },
    {
     "data": {
      "image/png": "[encoded data removed]",
      "text/plain": [
       "<Figure size 432x288 with 1 Axes>"
      ]
     },
     "metadata": {
      "needs_background": "light"
     },
     "output_type": "display_data"
    }
   ],
   "source": [
    "plt.imshow(H_laser_z_1.real)"
   ]
  },
  {
   "cell_type": "code",
   "execution_count": 116,
   "metadata": {},
   "outputs": [
    {
     "data": {
      "text/plain": [
       "<matplotlib.image.AxesImage at 0x1475f19a6d0>"
      ]
     },
     "execution_count": 116,
     "metadata": {},
     "output_type": "execute_result"
    },
    {
     "data": {
      "image/png": "[encoded data removed]",
      "text/plain": [
       "<Figure size 432x288 with 1 Axes>"
      ]
     },
     "metadata": {
      "needs_background": "light"
     },
     "output_type": "display_data"
    }
   ],
   "source": [
    "plt.imshow(H_laser_z_2.real)"
   ]
  },
  {
   "cell_type": "code",
   "execution_count": 111,
   "metadata": {},
   "outputs": [
    {
     "data": {
      "text/plain": [
       "(array([ 2,  5, 12, 12], dtype=int64), array([12, 12,  2,  5], dtype=int64))"
      ]
     },
     "execution_count": 111,
     "metadata": {},
     "output_type": "execute_result"
    }
   ],
   "source": [
    "np.nonzero(H_laser_z_1)"
   ]
  },
  {
   "cell_type": "code",
   "execution_count": 112,
   "metadata": {},
   "outputs": [
    {
     "data": {
      "text/plain": [
       "array([0.49908393+0.j, 0.29025602+0.j, 0.49908393+0.j, 0.29025602+0.j])"
      ]
     },
     "execution_count": 112,
     "metadata": {},
     "output_type": "execute_result"
    }
   ],
   "source": [
    "H_laser_z_1[np.nonzero(H_laser_z_1)]"
   ]
  },
  {
   "cell_type": "code",
   "execution_count": 114,
   "metadata": {},
   "outputs": [
    {
     "data": {
      "text/plain": [
       "array([-1.24527215e+06+0.j, -1.10553105e+06+0.j, -1.10554175e+06+0.j,\n",
       "       -1.10555245e+06+0.j, -1.78543091e-01+0.j,  0.00000000e+00+0.j,\n",
       "        1.79122925e-01+0.j,  9.13704696e+04+0.j,  9.13601686e+04+0.j,\n",
       "        9.13498672e+04+0.j,  9.13395653e+04+0.j,  9.13292628e+04+0.j,\n",
       "        0.00000000e+00+0.j,  9.13435840e+04+0.j,  9.13498672e+04+0.j,\n",
       "        9.13561504e+04+0.j])"
      ]
     },
     "execution_count": 114,
     "metadata": {},
     "output_type": "execute_result"
    }
   ],
   "source": [
    "np.diag(H_rot)"
   ]
  },
  {
   "cell_type": "code",
   "execution_count": 115,
   "metadata": {},
   "outputs": [
    {
     "data": {
      "text/plain": [
       "(array([ 0,  1,  3,  4,  6,  8,  9, 10, 13, 13, 13, 14, 14, 15, 15, 15],\n",
       "       dtype=int64),\n",
       " array([14, 13, 15, 13, 15, 13, 14, 15,  1,  4,  8,  0,  9,  3,  6, 10],\n",
       "       dtype=int64))"
      ]
     },
     "execution_count": 115,
     "metadata": {},
     "output_type": "execute_result"
    }
   ],
   "source": [
    "np.nonzero(H_laser_z_2)"
   ]
  },
  {
   "cell_type": "code",
   "execution_count": 124,
   "metadata": {},
   "outputs": [
    {
     "data": {
      "text/plain": [
       "<matplotlib.image.AxesImage at 0x1475edc7760>"
      ]
     },
     "execution_count": 124,
     "metadata": {},
     "output_type": "execute_result"
    },
    {
     "data": {
      "image/png": "[encoded data removed]",
      "text/plain": [
       "<Figure size 432x288 with 1 Axes>"
      ]
     },
     "metadata": {
      "needs_background": "light"
     },
     "output_type": "display_data"
    }
   ],
   "source": [
    "ind = np.nonzero(H_rot+H_laser_z_1+H_laser_z_2)\n",
    "tmp = np.zeros(H_rot.shape)\n",
    "tmp[ind] = 1\n",
    "plt.imshow(tmp)"
   ]
  },
  {
   "cell_type": "code",
   "execution_count": 172,
   "metadata": {},
   "outputs": [],
   "source": [
    "import numpy as np\n",
    "from sympy import Symbol\n",
    "from optical_bloch.utils.general import flatten\n",
    "from optical_bloch import Hamiltonian, Dissipator, BlochEquations\n",
    "\n",
    "ωa = Symbol('ω_a', real = True)\n",
    "ωb = Symbol('ω_b', real = True)\n",
    "ωc = Symbol('ω_c', real = True)\n",
    "ωd = Symbol('ω_d', real = True)\n",
    "ωE1 = Symbol('ω_E1', real = True)\n",
    "ωE2 = Symbol('ω_E2', real = True)\n",
    "\n",
    "ω_F1mF0 = Symbol('ω_F1mF0', real = True)\n",
    "Ω_F1mF0 = Symbol('Ω_F1mF0', real = True)\n",
    "ω_F0mF0  = Symbol('ω_F0mF0 ', real = True)\n",
    "Ω_F0mF0 = Symbol('Ω_F0mF0', real = True)\n",
    "\n",
    "indices = [(0,14), (1,13), (3,15), (4,13), (6,15), (8,13), (9,14), (10,15)]\n",
    "other_couplings = [(ind1, ind2, Symbol(f'Ω{ind1}{ind2}', real = True), Symbol(f'ω{ind1}{ind2}', real = True)) for ind1, ind2 in indices]\n",
    "\n",
    "Δ1 = Symbol('Δ1', real = True)\n",
    "Δ2 = Symbol('Δ2', real = True)\n",
    "\n",
    "ham = Hamiltonian(16)\n",
    "ham.addEnergies([ωa, ωb, ωb, ωb, ωc, ωc, ωc, ωd, ωd, ωd, ωd, ωd, ωE1, ωE2, ωE2, ωE2])\n",
    "ham.addCoupling(2,12,Ω_F0mF0,ω_F0mF0)\n",
    "ham.addCoupling(5,12,Ω_F1mF0,ω_F1mF0)\n",
    "for ind1, ind2, Ω, ω in other_couplings:\n",
    "    ham.addCoupling(ind1,ind2,Ω,ω)\n",
    "ham.eqnTransform()\n",
    "ham.defineZero(ωE2)\n",
    "ham.defineStateDetuning(2,12,Δ1)\n",
    "ham.defineStateDetuning(5,12,Δ1)\n",
    "for ind1, ind2 in indices:\n",
    "    ham.defineStateDetuning(ind1, ind2,Δ2)"
   ]
  },
  {
   "cell_type": "code",
   "execution_count": 173,
   "metadata": {},
   "outputs": [
    {
     "data": {
      "text/latex": [
       "$\\displaystyle \\left[\\begin{array}{cccccccccccccccc}- 1.0 Δ2 & 0 & 0 & 0 & 0 & 0 & 0 & 0 & 0 & 0 & 0 & 0 & 0 & 0 & - \\frac{Ω014}{2} & 0\\\\0 & - 1.0 Δ2 & 0 & 0 & 0 & 0 & 0 & 0 & 0 & 0 & 0 & 0 & 0 & - \\frac{Ω113}{2} & 0 & 0\\\\0 & 0 & - 1.0 Δ1 + 1.0 ω_{E1} & 0 & 0 & 0 & 0 & 0 & 0 & 0 & 0 & 0 & - \\frac{Ω_{F0mF0}}{2} & 0 & 0 & 0\\\\0 & 0 & 0 & - 1.0 Δ2 & 0 & 0 & 0 & 0 & 0 & 0 & 0 & 0 & 0 & 0 & 0 & - \\frac{Ω315}{2}\\\\0 & 0 & 0 & 0 & - 1.0 Δ2 & 0 & 0 & 0 & 0 & 0 & 0 & 0 & 0 & - \\frac{Ω413}{2} & 0 & 0\\\\0 & 0 & 0 & 0 & 0 & - 1.0 Δ1 + 1.0 ω_{E1} & 0 & 0 & 0 & 0 & 0 & 0 & - \\frac{Ω_{F1mF0}}{2} & 0 & 0 & 0\\\\0 & 0 & 0 & 0 & 0 & 0 & - 1.0 Δ2 & 0 & 0 & 0 & 0 & 0 & 0 & 0 & 0 & - \\frac{Ω615}{2}\\\\0 & 0 & 0 & 0 & 0 & 0 & 0 & ω_{d} & 0 & 0 & 0 & 0 & 0 & 0 & 0 & 0\\\\0 & 0 & 0 & 0 & 0 & 0 & 0 & 0 & - 1.0 Δ2 & 0 & 0 & 0 & 0 & - \\frac{Ω813}{2} & 0 & 0\\\\0 & 0 & 0 & 0 & 0 & 0 & 0 & 0 & 0 & - 1.0 Δ2 & 0 & 0 & 0 & 0 & - \\frac{Ω914}{2} & 0\\\\0 & 0 & 0 & 0 & 0 & 0 & 0 & 0 & 0 & 0 & - 1.0 Δ2 & 0 & 0 & 0 & 0 & - \\frac{Ω1015}{2}\\\\0 & 0 & 0 & 0 & 0 & 0 & 0 & 0 & 0 & 0 & 0 & ω_{d} & 0 & 0 & 0 & 0\\\\0 & 0 & - \\frac{Ω_{F0mF0}}{2} & 0 & 0 & - \\frac{Ω_{F1mF0}}{2} & 0 & 0 & 0 & 0 & 0 & 0 & ω_{E1} & 0 & 0 & 0\\\\0 & - \\frac{Ω113}{2} & 0 & 0 & - \\frac{Ω413}{2} & 0 & 0 & 0 & - \\frac{Ω813}{2} & 0 & 0 & 0 & 0 & 0 & 0 & 0\\\\- \\frac{Ω014}{2} & 0 & 0 & 0 & 0 & 0 & 0 & 0 & 0 & - \\frac{Ω914}{2} & 0 & 0 & 0 & 0 & 0 & 0\\\\0 & 0 & 0 & - \\frac{Ω315}{2} & 0 & 0 & - \\frac{Ω615}{2} & 0 & 0 & 0 & - \\frac{Ω1015}{2} & 0 & 0 & 0 & 0 & 0\\end{array}\\right]$"
      ],
      "text/plain": [
       "Matrix([\n",
       "[-1.0*Δ2,       0,                  0,       0,       0,                  0,       0,   0,       0,       0,        0,   0,          0,       0, -Ω014/2,        0],\n",
       "[      0, -1.0*Δ2,                  0,       0,       0,                  0,       0,   0,       0,       0,        0,   0,          0, -Ω113/2,       0,        0],\n",
       "[      0,       0, -1.0*Δ1 + 1.0*ω_E1,       0,       0,                  0,       0,   0,       0,       0,        0,   0, -Ω_F0mF0/2,       0,       0,        0],\n",
       "[      0,       0,                  0, -1.0*Δ2,       0,                  0,       0,   0,       0,       0,        0,   0,          0,       0,       0,  -Ω315/2],\n",
       "[      0,       0,                  0,       0, -1.0*Δ2,                  0,       0,   0,       0,       0,        0,   0,          0, -Ω413/2,       0,        0],\n",
       "[      0,       0,                  0,       0,       0, -1.0*Δ1 + 1.0*ω_E1,       0,   0,       0,       0,        0,   0, -Ω_F1mF0/2,       0,       0,        0],\n",
       "[      0,       0,                  0,       0,       0,                  0, -1.0*Δ2,   0,       0,       0,        0,   0,          0,       0,       0,  -Ω615/2],\n",
       "[      0,       0,                  0,       0,       0,                  0,       0, ω_d,       0,       0,        0,   0,          0,       0,       0,        0],\n",
       "[      0,       0,                  0,       0,       0,                  0,       0,   0, -1.0*Δ2,       0,        0,   0,          0, -Ω813/2,       0,        0],\n",
       "[      0,       0,                  0,       0,       0,                  0,       0,   0,       0, -1.0*Δ2,        0,   0,          0,       0, -Ω914/2,        0],\n",
       "[      0,       0,                  0,       0,       0,                  0,       0,   0,       0,       0,  -1.0*Δ2,   0,          0,       0,       0, -Ω1015/2],\n",
       "[      0,       0,                  0,       0,       0,                  0,       0,   0,       0,       0,        0, ω_d,          0,       0,       0,        0],\n",
       "[      0,       0,         -Ω_F0mF0/2,       0,       0,         -Ω_F1mF0/2,       0,   0,       0,       0,        0,   0,       ω_E1,       0,       0,        0],\n",
       "[      0, -Ω113/2,                  0,       0, -Ω413/2,                  0,       0,   0, -Ω813/2,       0,        0,   0,          0,       0,       0,        0],\n",
       "[-Ω014/2,       0,                  0,       0,       0,                  0,       0,   0,       0, -Ω914/2,        0,   0,          0,       0,       0,        0],\n",
       "[      0,       0,                  0, -Ω315/2,       0,                  0, -Ω615/2,   0,       0,       0, -Ω1015/2,   0,          0,       0,       0,        0]])"
      ]
     },
     "execution_count": 173,
     "metadata": {},
     "output_type": "execute_result"
    }
   ],
   "source": [
    "ham.transformed"
   ]
  },
  {
   "cell_type": "code",
   "execution_count": 175,
   "metadata": {},
   "outputs": [
    {
     "data": {
      "text/latex": [
       "$\\displaystyle \\left[\\begin{array}{cccccccccccccccc}- 1.0 Δ2 & 0 & 0 & 0 & 0 & 0 & 0 & 0 & 0 & 0 & 0 & 0 & 0 & 0 & 0 & 0\\\\0 & - 1.0 Δ2 & 0 & 0 & 0 & 0 & 0 & 0 & 0 & 0 & 0 & 0 & 0 & 0 & 0 & 0\\\\0 & 0 & - 1.0 Δ1 + 1.0 ω_{E1} & 0 & 0 & 0 & 0 & 0 & 0 & 0 & 0 & 0 & 0 & 0 & 0 & 0\\\\0 & 0 & 0 & - 1.0 Δ2 & 0 & 0 & 0 & 0 & 0 & 0 & 0 & 0 & 0 & 0 & 0 & 0\\\\0 & 0 & 0 & 0 & - 1.0 Δ2 & 0 & 0 & 0 & 0 & 0 & 0 & 0 & 0 & 0 & 0 & 0\\\\0 & 0 & 0 & 0 & 0 & - 1.0 Δ1 + 1.0 ω_{E1} & 0 & 0 & 0 & 0 & 0 & 0 & 0 & 0 & 0 & 0\\\\0 & 0 & 0 & 0 & 0 & 0 & - 1.0 Δ2 & 0 & 0 & 0 & 0 & 0 & 0 & 0 & 0 & 0\\\\0 & 0 & 0 & 0 & 0 & 0 & 0 & 1336433.5148371 & 0 & 0 & 0 & 0 & 0 & 0 & 0 & 0\\\\0 & 0 & 0 & 0 & 0 & 0 & 0 & 0 & - 1.0 Δ2 & 0 & 0 & 0 & 0 & 0 & 0 & 0\\\\0 & 0 & 0 & 0 & 0 & 0 & 0 & 0 & 0 & - 1.0 Δ2 & 0 & 0 & 0 & 0 & 0 & 0\\\\0 & 0 & 0 & 0 & 0 & 0 & 0 & 0 & 0 & 0 & - 1.0 Δ2 & 0 & 0 & 0 & 0 & 0\\\\0 & 0 & 0 & 0 & 0 & 0 & 0 & 0 & 0 & 0 & 0 & 1336433.5148371 & 0 & 0 & 0 & 0\\\\0 & 0 & 0 & 0 & 0 & 0 & 0 & 0 & 0 & 0 & 0 & 0 & ω_{E1} & 0 & 0 & 0\\\\0 & 0 & 0 & 0 & 0 & 0 & 0 & 0 & 0 & 0 & 0 & 0 & 0 & 0 & 0 & 0\\\\0 & 0 & 0 & 0 & 0 & 0 & 0 & 0 & 0 & 0 & 0 & 0 & 0 & 0 & 0 & 0\\\\0 & 0 & 0 & 0 & 0 & 0 & 0 & 0 & 0 & 0 & 0 & 0 & 0 & 0 & 0 & 0\\end{array}\\right]$"
      ],
      "text/plain": [
       "Matrix([\n",
       "[-1.0*Δ2,       0,                  0,       0,       0,                  0,       0,               0,       0,       0,       0,               0,    0, 0, 0, 0],\n",
       "[      0, -1.0*Δ2,                  0,       0,       0,                  0,       0,               0,       0,       0,       0,               0,    0, 0, 0, 0],\n",
       "[      0,       0, -1.0*Δ1 + 1.0*ω_E1,       0,       0,                  0,       0,               0,       0,       0,       0,               0,    0, 0, 0, 0],\n",
       "[      0,       0,                  0, -1.0*Δ2,       0,                  0,       0,               0,       0,       0,       0,               0,    0, 0, 0, 0],\n",
       "[      0,       0,                  0,       0, -1.0*Δ2,                  0,       0,               0,       0,       0,       0,               0,    0, 0, 0, 0],\n",
       "[      0,       0,                  0,       0,       0, -1.0*Δ1 + 1.0*ω_E1,       0,               0,       0,       0,       0,               0,    0, 0, 0, 0],\n",
       "[      0,       0,                  0,       0,       0,                  0, -1.0*Δ2,               0,       0,       0,       0,               0,    0, 0, 0, 0],\n",
       "[      0,       0,                  0,       0,       0,                  0,       0, 1336433.5148371,       0,       0,       0,               0,    0, 0, 0, 0],\n",
       "[      0,       0,                  0,       0,       0,                  0,       0,               0, -1.0*Δ2,       0,       0,               0,    0, 0, 0, 0],\n",
       "[      0,       0,                  0,       0,       0,                  0,       0,               0,       0, -1.0*Δ2,       0,               0,    0, 0, 0, 0],\n",
       "[      0,       0,                  0,       0,       0,                  0,       0,               0,       0,       0, -1.0*Δ2,               0,    0, 0, 0, 0],\n",
       "[      0,       0,                  0,       0,       0,                  0,       0,               0,       0,       0,       0, 1336433.5148371,    0, 0, 0, 0],\n",
       "[      0,       0,                  0,       0,       0,                  0,       0,               0,       0,       0,       0,               0, ω_E1, 0, 0, 0],\n",
       "[      0,       0,                  0,       0,       0,                  0,       0,               0,       0,       0,       0,               0,    0, 0, 0, 0],\n",
       "[      0,       0,                  0,       0,       0,                  0,       0,               0,       0,       0,       0,               0,    0, 0, 0, 0],\n",
       "[      0,       0,                  0,       0,       0,                  0,       0,               0,       0,       0,       0,               0,    0, 0, 0, 0]])"
      ]
     },
     "execution_count": 175,
     "metadata": {},
     "output_type": "execute_result"
    }
   ],
   "source": [
    "test = sympy.diag(*ham.transformed.diagonal())\n",
    "test = test.subs(ωa, 0).subs(ωb, 22e3*2*np.pi).subs(ωc, 2*np.pi*(22+176)*1e3).subs(ωd, 2*np.pi*1e3*(14.5+176+22.2))\n",
    "test"
   ]
  },
  {
   "cell_type": "code",
   "execution_count": 147,
   "metadata": {},
   "outputs": [
    {
     "data": {
      "text/latex": [
       "$\\displaystyle \\left[\\begin{array}{cccccccccccccccc}-0.198191217527502 & 0 & 0 & 0 & 0 & 0 & 0 & 0 & 0 & 0 & 0 & 0 & 0 & 0 & 0 & 0\\\\0 & -0.175950731589982 & 0 & 0 & 0 & 0 & 0 & 0 & 0 & 0 & 0 & 0 & 0 & 0 & 0 & 0\\\\0 & 0 & -0.175952434367677 & 0 & 0 & 0 & 0 & 0 & 0 & 0 & 0 & 0 & - 1.36830364850489 \\cdot 10^{-7} Ω1 \\operatorname{Pz_{1}}{\\left(t \\right)} & 0 & 0 & 0\\\\0 & 0 & 0 & -0.175954137667503 & 0 & 0 & 0 & 0 & 0 & 0 & 0 & 0 & 0 & 0 & 0 & 0\\\\0 & 0 & 0 & 0 & -2.84160154589579 \\cdot 10^{-8} & 0 & 0 & 0 & 0 & 0 & 0 & 0 & 0 & 0 & 0 & 0\\\\0 & 0 & 0 & 0 & 0 & 0 & 0 & 0 & 0 & 0 & 0 & 0 & - 7.95774715459477 \\cdot 10^{-8} Ω1 \\operatorname{Pz_{1}}{\\left(t \\right)} & 0 & 0 & 0\\\\0 & 0 & 0 & 0 & 0 & 0 & 2.85082989037439 \\cdot 10^{-8} & 0 & 0 & 0 & 0 & 0 & 0 & 0 & 0 & 0\\\\0 & 0 & 0 & 0 & 0 & 0 & 0 & 0.0145420618853257 & 0 & 0 & 0 & 0 & 0 & 0 & 0 & 0\\\\0 & 0 & 0 & 0 & 0 & 0 & 0 & 0 & 0.0145404224407869 & 0 & 0 & 0 & 0 & 0 & 0 & 0\\\\0 & 0 & 0 & 0 & 0 & 0 & 0 & 0 & 0 & 0.0145387829136788 & 0 & 0 & 0 & 0 & 0 & 0\\\\0 & 0 & 0 & 0 & 0 & 0 & 0 & 0 & 0 & 0 & 0.0145371433137152 & 0 & 0 & 0 & 0 & 0\\\\0 & 0 & 0 & 0 & 0 & 0 & 0 & 0 & 0 & 0 & 0 & 0.0145355036263253 & 0 & 0 & 0 & 0\\\\0 & 0 & - 1.36830364850489 \\cdot 10^{-7} Ω1ᶜ \\operatorname{Pz_{1}}{\\left(t \\right)} & 0 & 0 & - 7.95774715459477 \\cdot 10^{-8} Ω1ᶜ \\operatorname{Pz_{1}}{\\left(t \\right)} & 0 & 0 & 0 & 0 & 0 & 0 & 1.59154943091895 \\cdot 10^{-7} Δ1 & 0 & 0 & 0\\\\0 & 0 & 0 & 0 & 0 & 0 & 0 & 0 & 0 & 0 & 0 & 0 & 0 & 1.59154943091895 \\cdot 10^{-7} Δ2 + 0.0145377829157 & 0 & 0\\\\0 & 0 & 0 & 0 & 0 & 0 & 0 & 0 & 0 & 0 & 0 & 0 & 0 & 0 & 1.59154943091895 \\cdot 10^{-7} Δ2 + 0.0145387829136788 & 0\\\\0 & 0 & 0 & 0 & 0 & 0 & 0 & 0 & 0 & 0 & 0 & 0 & 0 & 0 & 0 & 1.59154943091895 \\cdot 10^{-7} Δ2 + 0.014539782914086\\end{array}\\right]$"
      ],
      "text/plain": [
       "Matrix([\n",
       "[-0.198191217527502,                  0,                               0,                  0,                    0,                               0,                   0,                  0,                  0,                  0,                  0,                  0,                              0,                                        0,                                           0,                                          0],\n",
       "[                 0, -0.175950731589982,                               0,                  0,                    0,                               0,                   0,                  0,                  0,                  0,                  0,                  0,                              0,                                        0,                                           0,                                          0],\n",
       "[                 0,                  0,              -0.175952434367677,                  0,                    0,                               0,                   0,                  0,                  0,                  0,                  0,                  0, -1.36830364850489e-7*Ω1*Pz1(t),                                        0,                                           0,                                          0],\n",
       "[                 0,                  0,                               0, -0.175954137667503,                    0,                               0,                   0,                  0,                  0,                  0,                  0,                  0,                              0,                                        0,                                           0,                                          0],\n",
       "[                 0,                  0,                               0,                  0, -2.84160154589579e-8,                               0,                   0,                  0,                  0,                  0,                  0,                  0,                              0,                                        0,                                           0,                                          0],\n",
       "[                 0,                  0,                               0,                  0,                    0,                               0,                   0,                  0,                  0,                  0,                  0,                  0, -7.95774715459477e-8*Ω1*Pz1(t),                                        0,                                           0,                                          0],\n",
       "[                 0,                  0,                               0,                  0,                    0,                               0, 2.85082989037439e-8,                  0,                  0,                  0,                  0,                  0,                              0,                                        0,                                           0,                                          0],\n",
       "[                 0,                  0,                               0,                  0,                    0,                               0,                   0, 0.0145420618853257,                  0,                  0,                  0,                  0,                              0,                                        0,                                           0,                                          0],\n",
       "[                 0,                  0,                               0,                  0,                    0,                               0,                   0,                  0, 0.0145404224407869,                  0,                  0,                  0,                              0,                                        0,                                           0,                                          0],\n",
       "[                 0,                  0,                               0,                  0,                    0,                               0,                   0,                  0,                  0, 0.0145387829136788,                  0,                  0,                              0,                                        0,                                           0,                                          0],\n",
       "[                 0,                  0,                               0,                  0,                    0,                               0,                   0,                  0,                  0,                  0, 0.0145371433137152,                  0,                              0,                                        0,                                           0,                                          0],\n",
       "[                 0,                  0,                               0,                  0,                    0,                               0,                   0,                  0,                  0,                  0,                  0, 0.0145355036263253,                              0,                                        0,                                           0,                                          0],\n",
       "[                 0,                  0, -1.36830364850489e-7*Ω1ᶜ*Pz1(t),                  0,                    0, -7.95774715459477e-8*Ω1ᶜ*Pz1(t),                   0,                  0,                  0,                  0,                  0,                  0,         1.59154943091895e-7*Δ1,                                        0,                                           0,                                          0],\n",
       "[                 0,                  0,                               0,                  0,                    0,                               0,                   0,                  0,                  0,                  0,                  0,                  0,                              0, 1.59154943091895e-7*Δ2 + 0.0145377829157,                                           0,                                          0],\n",
       "[                 0,                  0,                               0,                  0,                    0,                               0,                   0,                  0,                  0,                  0,                  0,                  0,                              0,                                        0, 1.59154943091895e-7*Δ2 + 0.0145387829136788,                                          0],\n",
       "[                 0,                  0,                               0,                  0,                    0,                               0,                   0,                  0,                  0,                  0,                  0,                  0,                              0,                                        0,                                           0, 1.59154943091895e-7*Δ2 + 0.014539782914086]])"
      ]
     },
     "execution_count": 147,
     "metadata": {},
     "output_type": "execute_result"
    }
   ],
   "source": [
    "replace = Ωs[1][0]\n",
    "tmp = H_symbolic.subs(replace, 0)\n",
    "replace = Ωs[1][1]\n",
    "tmp = tmp.subs(replace, 0)\n",
    "tmp = tmp.subs(Px1, 0)\n",
    "tmp/(2*np.pi*1e6)"
   ]
  },
  {
   "cell_type": "code",
   "execution_count": 176,
   "metadata": {},
   "outputs": [
    {
     "data": {
      "text/plain": [
       "(30, 16, 16)"
      ]
     },
     "execution_count": 176,
     "metadata": {},
     "output_type": "execute_result"
    }
   ],
   "source": []
  },
  {
   "cell_type": "code",
   "execution_count": null,
   "metadata": {},
   "outputs": [],
   "source": []
  }
 ],
 "metadata": {
  "kernelspec": {
   "display_name": "Python 3",
   "language": "python",
   "name": "python3"
  },
  "language_info": {
   "codemirror_mode": {
    "name": "ipython",
    "version": 3
   },
   "file_extension": ".py",
   "mimetype": "text/x-python",
   "name": "python",
   "nbconvert_exporter": "python",
   "pygments_lexer": "ipython3",
   "version": "3.8.5"
  }
 },
 "nbformat": 4,
 "nbformat_minor": 4
}
