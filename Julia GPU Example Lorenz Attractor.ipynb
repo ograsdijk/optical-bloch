{
 "cells": [
  {
   "cell_type": "code",
   "execution_count": 1,
   "metadata": {},
   "outputs": [],
   "source": [
    "using LinearAlgebra\n",
    "using CuArrays\n",
    "using CUDA\n",
    "using DifferentialEquations\n",
    "using DifferentialEquations\n",
    "using DiffEqGPU"
   ]
  },
  {
   "cell_type": "code",
   "execution_count": 2,
   "metadata": {},
   "outputs": [
    {
     "data": {
      "text/plain": [
       "lorenz (generic function with 1 method)"
      ]
     },
     "execution_count": 2,
     "metadata": {},
     "output_type": "execute_result"
    }
   ],
   "source": [
    "function lorenz(du,u,p,t)\n",
    " @inbounds begin\n",
    "     du[1] = p[1]*(u[2]-u[1])\n",
    "     du[2] = u[1]*(p[2]-u[3]) - u[2]\n",
    "     du[3] = u[1]*u[2] - p[3]*u[3]\n",
    " end\n",
    " nothing\n",
    "end"
   ]
  },
  {
   "cell_type": "code",
   "execution_count": 3,
   "metadata": {},
   "outputs": [
    {
     "data": {
      "text/plain": [
       "#3 (generic function with 1 method)"
      ]
     },
     "execution_count": 3,
     "metadata": {},
     "output_type": "execute_result"
    }
   ],
   "source": [
    "u0 = Float32[1.0;0.0;0.0]\n",
    "tspan = (Float32(0.0),Float32(100.0))\n",
    "p = [Float32(10.0),Float32(28.0),Float32(8/3)]\n",
    "prob = ODEProblem(lorenz,u0,tspan,p)\n",
    "prob_func = (prob,i,repeat) -> remake(prob,p=rand(Float32,3).*p)"
   ]
  },
  {
   "cell_type": "code",
   "execution_count": 4,
   "metadata": {},
   "outputs": [
    {
     "data": {
      "text/plain": [
       "EnsembleProblem with problem ODEProblem"
      ]
     },
     "execution_count": 4,
     "metadata": {},
     "output_type": "execute_result"
    }
   ],
   "source": [
    "monteprob = EnsembleProblem(prob, prob_func = prob_func, safetycopy=false)"
   ]
  },
  {
   "cell_type": "code",
   "execution_count": 5,
   "metadata": {},
   "outputs": [
    {
     "data": {
      "text/latex": [
       "100000"
      ],
      "text/plain": [
       "100000"
      ]
     },
     "execution_count": 5,
     "metadata": {},
     "output_type": "execute_result"
    }
   ],
   "source": [
    "trajectories = 100_000"
   ]
  },
  {
   "cell_type": "code",
   "execution_count": 6,
   "metadata": {},
   "outputs": [
    {
     "name": "stdout",
     "output_type": "stream",
     "text": [
      " 32.235239 seconds (67.63 M allocations: 4.011 GiB, 4.27% gc time)\n"
     ]
    },
    {
     "data": {
      "text/plain": [
       "EnsembleSolution Solution of length 100000 with uType:\n",
       "ODESolution{Float32,2,Array{Array{Float32,1},1},Nothing,Nothing,Array{Float32,1},Array{Array{Array{Float32,1},1},1},ODEProblem{Array{Float32,1},Tuple{Float32,Float32},true,Array{Float32,1},ODEFunction{true,typeof(lorenz),UniformScaling{Bool},Nothing,Nothing,Nothing,Nothing,Nothing,Nothing,Nothing,Nothing,Nothing,Nothing,Nothing,Nothing},Base.Iterators.Pairs{Union{},Union{},Tuple{},NamedTuple{(),Tuple{}}},DiffEqBase.StandardODEProblem},Tsit5,OrdinaryDiffEq.InterpolationData{ODEFunction{true,typeof(lorenz),UniformScaling{Bool},Nothing,Nothing,Nothing,Nothing,Nothing,Nothing,Nothing,Nothing,Nothing,Nothing,Nothing,Nothing},Array{Array{Float32,1},1},Array{Float32,1},Array{Array{Array{Float32,1},1},1},OrdinaryDiffEq.Tsit5Cache{Array{Float32,1},Array{Float32,1},Array{Float32,1},OrdinaryDiffEq.Tsit5ConstantCache{Float32,Float32}}},DiffEqBase.DEStats}"
      ]
     },
     "execution_count": 6,
     "metadata": {},
     "output_type": "execute_result"
    }
   ],
   "source": [
    "@time sim_cpu = solve(monteprob,Tsit5(),EnsembleThreads(),trajectories=trajectories,save_everystep = false)"
   ]
  },
  {
   "cell_type": "code",
   "execution_count": 7,
   "metadata": {},
   "outputs": [
    {
     "name": "stderr",
     "output_type": "stream",
     "text": [
      "┌ Warning: `haskey(::TargetIterator, name::String)` is deprecated, use `Target(; name = name) !== nothing` instead.\n",
      "│   caller = llvm_compat(::VersionNumber) at compatibility.jl:176\n",
      "└ @ CUDAnative C:\\Users\\ogras\\.julia\\packages\\CUDAnative\\ierw8\\src\\compatibility.jl:176\n",
      "┌ Warning: `Target(triple::String)` is deprecated, use `Target(; triple = triple)` instead.\n",
      "│   caller = ip:0x0\n",
      "└ @ Core :-1\n"
     ]
    },
    {
     "name": "stdout",
     "output_type": "stream",
     "text": [
      " 29.091726 seconds (84.66 M allocations: 4.135 GiB, 3.65% gc time)\n"
     ]
    },
    {
     "data": {
      "text/plain": [
       "EnsembleSolution Solution of length 100000 with uType:\n",
       "ODESolution{Float32,2,Array{SubArray{Float32,1,Array{Float32,2},Tuple{Base.Slice{Base.OneTo{Int64}},Int64},true},1},Nothing,Nothing,Array{Float32,1},Nothing,ODEProblem{Array{Float32,1},Tuple{Float32,Float32},true,Array{Float32,1},ODEFunction{true,typeof(lorenz),UniformScaling{Bool},Nothing,Nothing,Nothing,Nothing,Nothing,Nothing,Nothing,Nothing,Nothing,Nothing,Nothing,Nothing},Base.Iterators.Pairs{Union{},Union{},Tuple{},NamedTuple{(),Tuple{}}},DiffEqBase.StandardODEProblem},Tsit5,DiffEqBase.LinearInterpolation{Array{Float32,1},Array{SubArray{Float32,1,Array{Float32,2},Tuple{Base.Slice{Base.OneTo{Int64}},Int64},true},1}},DiffEqBase.DEStats}"
      ]
     },
     "execution_count": 7,
     "metadata": {},
     "output_type": "execute_result"
    }
   ],
   "source": [
    "bsize = trajectories\n",
    "@time sim_gpu = solve(monteprob,Tsit5(),EnsembleGPUArray(),trajectories=trajectories, batch_size = bsize, save_everystep = false)"
   ]
  },
  {
   "cell_type": "code",
   "execution_count": 8,
   "metadata": {},
   "outputs": [
    {
     "name": "stdout",
     "output_type": "stream",
     "text": [
      " 44.270569 seconds (125.20 M allocations: 8.338 GiB, 13.00% gc time)\n"
     ]
    },
    {
     "data": {
      "text/plain": [
       "EnsembleSolution Solution of length 2000000 with uType:\n",
       "ODESolution{Float32,2,Array{Array{Float32,1},1},Nothing,Nothing,Array{Float32,1},Array{Array{Array{Float32,1},1},1},ODEProblem{Array{Float32,1},Tuple{Float32,Float32},true,Array{Float32,1},ODEFunction{true,typeof(lorenz),UniformScaling{Bool},Nothing,Nothing,Nothing,Nothing,Nothing,Nothing,Nothing,Nothing,Nothing,Nothing,Nothing,Nothing},Base.Iterators.Pairs{Union{},Union{},Tuple{},NamedTuple{(),Tuple{}}},DiffEqBase.StandardODEProblem},Tsit5,OrdinaryDiffEq.InterpolationData{ODEFunction{true,typeof(lorenz),UniformScaling{Bool},Nothing,Nothing,Nothing,Nothing,Nothing,Nothing,Nothing,Nothing,Nothing,Nothing,Nothing,Nothing},Array{Array{Float32,1},1},Array{Float32,1},Array{Array{Array{Float32,1},1},1},OrdinaryDiffEq.Tsit5Cache{Array{Float32,1},Array{Float32,1},Array{Float32,1},OrdinaryDiffEq.Tsit5ConstantCache{Float32,Float32}}},DiffEqBase.DEStats}"
      ]
     },
     "execution_count": 8,
     "metadata": {},
     "output_type": "execute_result"
    }
   ],
   "source": [
    "@time sim_cpu = solve(monteprob,Tsit5(),EnsembleThreads(),trajectories=2_000_000,save_everystep = false)"
   ]
  },
  {
   "cell_type": "code",
   "execution_count": 9,
   "metadata": {},
   "outputs": [
    {
     "name": "stdout",
     "output_type": "stream",
     "text": [
      " 80.604109 seconds (85.90 M allocations: 4.763 GiB, 66.51% gc time)\n",
      " 57.776296 seconds (62.94 M allocations: 3.734 GiB, 72.56% gc time)\n",
      " 44.982966 seconds (55.84 M allocations: 3.401 GiB, 71.89% gc time)\n",
      " 36.723788 seconds (53.49 M allocations: 3.265 GiB, 68.81% gc time)\n",
      " 35.372847 seconds (54.17 M allocations: 3.222 GiB, 70.49% gc time)\n"
     ]
    }
   ],
   "source": [
    "for bsize in [100_000, 250_000, 500_000, 1_000_000, 2_000_000]\n",
    "    @time sim_gpu = solve(monteprob,Tsit5(),EnsembleGPUArray(),trajectories= 2_000_000, batch_size = bsize, save_everystep = false)\n",
    "end"
   ]
  },
  {
   "cell_type": "code",
   "execution_count": 10,
   "metadata": {},
   "outputs": [
    {
     "name": "stdout",
     "output_type": "stream",
     "text": [
      " 85.232383 seconds (194.27 M allocations: 8.666 GiB, 7.31% gc time)\n",
      " 38.044643 seconds (80.94 M allocations: 3.600 GiB, 15.97% gc time)\n",
      " 19.116096 seconds (41.81 M allocations: 1.885 GiB, 16.39% gc time)\n",
      " 11.057772 seconds (22.35 M allocations: 1.030 GiB, 24.66% gc time)\n",
      "  6.088655 seconds (10.42 M allocations: 518.155 MiB, 39.89% gc time)\n",
      "  4.449454 seconds (6.52 M allocations: 341.011 MiB, 51.83% gc time)\n",
      "  3.552878 seconds (4.29 M allocations: 243.299 MiB, 63.21% gc time)\n"
     ]
    }
   ],
   "source": [
    "for bsize in [1_000, 2_500, 5_000, 10_000, 25_000, 50_000, 100_000]\n",
    "    @time sim_gpu = solve(monteprob,Tsit5(),EnsembleGPUArray(),trajectories= 100_000, batch_size = bsize, save_everystep = false)\n",
    "end"
   ]
  },
  {
   "cell_type": "code",
   "execution_count": 11,
   "metadata": {},
   "outputs": [
    {
     "name": "stdout",
     "output_type": "stream",
     "text": [
      "  2.054531 seconds (6.26 M allocations: 426.959 MiB, 14.18% gc time)\n"
     ]
    },
    {
     "data": {
      "text/plain": [
       "EnsembleSolution Solution of length 100000 with uType:\n",
       "ODESolution{Float32,2,Array{Array{Float32,1},1},Nothing,Nothing,Array{Float32,1},Array{Array{Array{Float32,1},1},1},ODEProblem{Array{Float32,1},Tuple{Float32,Float32},true,Array{Float32,1},ODEFunction{true,typeof(lorenz),UniformScaling{Bool},Nothing,Nothing,Nothing,Nothing,Nothing,Nothing,Nothing,Nothing,Nothing,Nothing,Nothing,Nothing},Base.Iterators.Pairs{Union{},Union{},Tuple{},NamedTuple{(),Tuple{}}},DiffEqBase.StandardODEProblem},Tsit5,OrdinaryDiffEq.InterpolationData{ODEFunction{true,typeof(lorenz),UniformScaling{Bool},Nothing,Nothing,Nothing,Nothing,Nothing,Nothing,Nothing,Nothing,Nothing,Nothing,Nothing,Nothing},Array{Array{Float32,1},1},Array{Float32,1},Array{Array{Array{Float32,1},1},1},OrdinaryDiffEq.Tsit5Cache{Array{Float32,1},Array{Float32,1},Array{Float32,1},OrdinaryDiffEq.Tsit5ConstantCache{Float32,Float32}}},DiffEqBase.DEStats}"
      ]
     },
     "execution_count": 11,
     "metadata": {},
     "output_type": "execute_result"
    }
   ],
   "source": [
    "@time sim_cpu = solve(monteprob,Tsit5(),EnsembleThreads(),trajectories=100_000,save_everystep = false)"
   ]
  },
  {
   "cell_type": "code",
   "execution_count": null,
   "metadata": {},
   "outputs": [],
   "source": []
  }
 ],
 "metadata": {
  "kernelspec": {
   "display_name": "Julia 1.4.2",
   "language": "julia",
   "name": "julia-1.4"
  },
  "language_info": {
   "file_extension": ".jl",
   "mimetype": "application/julia",
   "name": "julia",
   "version": "1.4.2"
  }
 },
 "nbformat": 4,
 "nbformat_minor": 4
}
