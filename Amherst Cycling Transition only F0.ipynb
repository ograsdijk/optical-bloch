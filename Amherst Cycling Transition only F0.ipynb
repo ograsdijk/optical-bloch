{
 "cells": [
  {
   "cell_type": "code",
   "execution_count": 1,
   "metadata": {},
   "outputs": [],
   "source": [
    "%load_ext autoreload\n",
    "%autoreload 2\n",
    "\n",
    "import h5py\n",
    "import scipy\n",
    "import sympy\n",
    "import pickle\n",
    "import numpy as np\n",
    "from tqdm import tqdm\n",
    "from pathlib import Path\n",
    "import matplotlib.pyplot as plt\n",
    "from scipy.sparse import csr_matrix\n",
    "from sympy import Symbol, zeros, Function, MatrixSymbol\n",
    "\n",
    "# import created modules\n",
    "from hamiltonian.states import CoupledBasisState\n",
    "from hamiltonian.generate_hamiltonian import generate_X_hamiltonian_function, generate_B_hamiltonian_function, \\\n",
    "                                                generate_diagonalized_hamiltonian\n",
    "from hamiltonian.utils import ni_range, matrix_to_states, find_exact_states, reduced_basis_hamiltonian, \\\n",
    "                                find_state_idx_from_state, reorder_evecs, generate_coupled_ground_states\n",
    "\n",
    "from couplings.utils import ED_ME_mixed_state, collapse_matrices, generate_superoperator, \\\n",
    "                            generate_flat_superoperator, generate_sharp_superoperator\n",
    "from couplings.generate_coupling import optical_coupling_matrix, generate_laser_D\n",
    "\n",
    "from symbolic import generate_density_matrix_symbolic, generate_system_of_equations, generate_symbolic_hamiltonian,\\\n",
    "                        system_of_equations_to_lines, generate_symbolic_detunings\n",
    "from symbolic.utils import subs_rabi_rate\n",
    "\n",
    "from utils.plot_utils import set_fontsize\n",
    "from utils import population, J_levels, J_slice, delete_J_level"
   ]
  },
  {
   "cell_type": "code",
   "execution_count": 2,
   "metadata": {},
   "outputs": [],
   "source": [
    "script_dir = Path().parent.absolute()"
   ]
  },
  {
   "cell_type": "markdown",
   "metadata": {},
   "source": [
    "## X-state\n",
    "\n",
    "Define what states from the $X ^1\\Sigma$ electronic state are to be included in the simulation."
   ]
  },
  {
   "cell_type": "code",
   "execution_count": 3,
   "metadata": {},
   "outputs": [],
   "source": [
    "Js_g = [1] # J values to be included\n",
    "\n",
    "parity = lambda J: (-1)**J\n",
    "\n",
    "# generate a list of approximate ground states\n",
    "# ground_states_approx = generate_coupled_ground_states(Js_g, electronic_state = 'X',\n",
    "#                                                        parity = parity, Ω = 0, I_Tl = 1/2, \n",
    "#                                                        I_F = 1/2)\n",
    "# ground_states_approx = [1*state for state in ground_states_approx]\n",
    "\n",
    "I_F = 1/2\n",
    "I_Tl = 1/2\n",
    "\n",
    "# define what states are to be included in the simulation\n",
    "# specify J, F1 and F for each state separately\n",
    "J_ground = [1,1,1,1]\n",
    "F1_ground = [1/2,1/2,3/2,3/2]\n",
    "F_ground = [0,1,1,2]\n",
    "# J_ground = [1]\n",
    "# F1_ground = [1/2]\n",
    "# F_ground = [1]\n",
    "\n",
    "# generate a list of excited states. The exact excited states are determined within the main\n",
    "# simulation function\n",
    "ground_states_approx = [1*CoupledBasisState(F,mF,F1,J,I_F,I_Tl, electronic_state='X', P = (-1**J), Omega = 0)\n",
    "                  for J,F1,F in zip(J_ground, F1_ground, F_ground)\n",
    "                  for mF in ni_range(-F, F+1)\n",
    "                 ]"
   ]
  },
  {
   "cell_type": "code",
   "execution_count": 4,
   "metadata": {},
   "outputs": [
    {
     "name": "stdout",
     "output_type": "stream",
     "text": [
      "+1.0000+0.0000j x |X, J = 1, F1 = 1/2, F = 0, mF = 0, I1 = 1/2, I2 = 1/2, P = -1, Omega = 0>\n",
      "+1.0000+0.0000j x |X, J = 1, F1 = 1/2, F = 1, mF = -1, I1 = 1/2, I2 = 1/2, P = -1, Omega = 0>\n",
      "+1.0000+0.0000j x |X, J = 1, F1 = 1/2, F = 1, mF = 0, I1 = 1/2, I2 = 1/2, P = -1, Omega = 0>\n",
      "+1.0000+0.0000j x |X, J = 1, F1 = 1/2, F = 1, mF = 1, I1 = 1/2, I2 = 1/2, P = -1, Omega = 0>\n",
      "+1.0000+0.0000j x |X, J = 1, F1 = 3/2, F = 1, mF = -1, I1 = 1/2, I2 = 1/2, P = -1, Omega = 0>\n",
      "+1.0000+0.0000j x |X, J = 1, F1 = 3/2, F = 1, mF = 0, I1 = 1/2, I2 = 1/2, P = -1, Omega = 0>\n",
      "+1.0000+0.0000j x |X, J = 1, F1 = 3/2, F = 1, mF = 1, I1 = 1/2, I2 = 1/2, P = -1, Omega = 0>\n",
      "+1.0000+0.0000j x |X, J = 1, F1 = 3/2, F = 2, mF = -2, I1 = 1/2, I2 = 1/2, P = -1, Omega = 0>\n",
      "+1.0000+0.0000j x |X, J = 1, F1 = 3/2, F = 2, mF = -1, I1 = 1/2, I2 = 1/2, P = -1, Omega = 0>\n",
      "+1.0000+0.0000j x |X, J = 1, F1 = 3/2, F = 2, mF = 0, I1 = 1/2, I2 = 1/2, P = -1, Omega = 0>\n",
      "+1.0000+0.0000j x |X, J = 1, F1 = 3/2, F = 2, mF = 1, I1 = 1/2, I2 = 1/2, P = -1, Omega = 0>\n",
      "+1.0000+0.0000j x |X, J = 1, F1 = 3/2, F = 2, mF = 2, I1 = 1/2, I2 = 1/2, P = -1, Omega = 0>\n"
     ]
    }
   ],
   "source": [
    "for s in ground_states_approx:\n",
    "    s.print_state()\n",
    "ground_states_approx = [ground_states_approx[1],ground_states_approx[4]]"
   ]
  },
  {
   "cell_type": "markdown",
   "metadata": {},
   "source": [
    "Now generate the J=0 to J=4 Hamiltonian to get the reduced X state Hamiltonian"
   ]
  },
  {
   "cell_type": "code",
   "execution_count": 5,
   "metadata": {},
   "outputs": [],
   "source": [
    "fname_X = \"TlF_X_state_hamiltonian_J0to4.pickle\"\n",
    "fname_transform = \"UC_to_C_J0to4.pickle\"\n",
    "\n",
    "path_X = script_dir / \"stored_data\" / fname_X\n",
    "path_transform = script_dir / \"stored_data\" / fname_transform\n",
    "\n",
    "with open(path_X, 'rb') as f:\n",
    "    H_X_uc = pickle.load(f)\n",
    "\n",
    "with open(path_transform, 'rb') as f:\n",
    "    S_transform = pickle.load(f)\n",
    "\n",
    "H_X_uc = generate_X_hamiltonian_function(H_X_uc)"
   ]
  },
  {
   "cell_type": "code",
   "execution_count": 6,
   "metadata": {},
   "outputs": [],
   "source": [
    "# generate coupled basis states\n",
    "Jmin = 0\n",
    "Jmax = 4\n",
    "QN_X = generate_coupled_ground_states(ni_range(Jmin, Jmax + 1), electronic_state = 'X',\n",
    "                                       parity = parity, Ω = 0, I_Tl = 1/2, \n",
    "                                       I_F = 1/2)\n",
    "\n",
    "E = np.array([0,0,0])\n",
    "# small magnetic field to ensure m_F is a good quantum number\n",
    "B = np.array([0,0,0.001])\n",
    "\n",
    "H_X = S_transform.conj().T @ H_X_uc(E,B) @ S_transform\n",
    "\n",
    "# diagonalize the Hamiltonian\n",
    "H_X_diag, V, V_ref_X = generate_diagonalized_hamiltonian(H_X, keep_order = True, return_V_ref = True)\n",
    "\n",
    "# new set of quantum numbers:\n",
    "QN_X_diag = matrix_to_states(V, QN_X)\n",
    "\n",
    "ground_states = find_exact_states(ground_states_approx, H_X_diag, QN_X_diag, V_ref = V_ref_X)\n",
    "\n",
    "H_X_red = reduced_basis_hamiltonian(QN_X_diag, H_X_diag, ground_states)"
   ]
  },
  {
   "cell_type": "markdown",
   "metadata": {},
   "source": [
    "## B-state\n",
    "Define what states from the $B ^3\\Pi_1$ electronic state are to be included in the simulation. Only need the states that are coupled to J = 1 in the X-state by the laser."
   ]
  },
  {
   "cell_type": "code",
   "execution_count": 7,
   "metadata": {},
   "outputs": [],
   "source": [
    "I_F = 1/2\n",
    "I_Tl = 1/2\n",
    "\n",
    "# define what states are to be included in the simulation\n",
    "# specify J, F1 and F for each state separately\n",
    "J_excited = [1]\n",
    "F1_excited = [1/2]\n",
    "F_excited = [0]\n",
    "\n",
    "# generate a list of excited states. The exact excited states are determined within the main\n",
    "# simulation function\n",
    "excited_states_approx = [1*CoupledBasisState(F,mF,F1,J,I_F,I_Tl, electronic_state='B', P = 1, Omega = 1)\n",
    "                  for J,F1,F in zip(J_excited, F1_excited, F_excited)\n",
    "                  for mF in ni_range(-F, F+1)\n",
    "                 ]"
   ]
  },
  {
   "cell_type": "code",
   "execution_count": 8,
   "metadata": {},
   "outputs": [
    {
     "name": "stdout",
     "output_type": "stream",
     "text": [
      "+1.0000+0.0000j x |B, J = 1, F1 = 1/2, F = 0, mF = 0, I1 = 1/2, I2 = 1/2, P = 1, Omega = 1>\n"
     ]
    }
   ],
   "source": [
    "for s in excited_states_approx:\n",
    "    s.print_state()"
   ]
  },
  {
   "cell_type": "markdown",
   "metadata": {},
   "source": [
    "Now generate the excited state Hamiltonian to get the reduced B state Hamiltonian"
   ]
  },
  {
   "cell_type": "code",
   "execution_count": 9,
   "metadata": {},
   "outputs": [],
   "source": [
    "fname_B = \"B_hamiltonians_symbolic_coupled_P_1to3.pickle\"\n",
    "\n",
    "path_B = script_dir / \"stored_data\" / fname_B"
   ]
  },
  {
   "cell_type": "code",
   "execution_count": 10,
   "metadata": {},
   "outputs": [],
   "source": [
    "with open(path_B, 'rb') as f:\n",
    "    H_B = pickle.load(f)"
   ]
  },
  {
   "cell_type": "code",
   "execution_count": 11,
   "metadata": {},
   "outputs": [],
   "source": [
    "H_B = generate_B_hamiltonian_function(H_B)*2*np.pi\n",
    "\n",
    "# generate coupled basis states\n",
    "Jmin = 1\n",
    "Jmax = 3\n",
    "Ps = [-1,1]\n",
    "\n",
    "QN_B = [CoupledBasisState(\n",
    "                    F,mF,F1,J,I_F,I_Tl,P = P, Omega = 1, electronic_state='B'\n",
    "                    )\n",
    "        for J  in ni_range(Jmin, Jmax+1)\n",
    "        for F1 in ni_range(np.abs(J-I_F),J+I_F+1)\n",
    "        for F in ni_range(np.abs(F1-I_Tl),F1+I_Tl+1)\n",
    "        for mF in ni_range(-F, F+1)\n",
    "        for P in Ps\n",
    "    ]\n",
    "\n",
    "\n",
    "H_B_diag, V, V_ref_B = generate_diagonalized_hamiltonian(H_B, keep_order = True, return_V_ref = True)\n",
    "\n",
    "# new set of quantum numbers:\n",
    "QN_B_diag = matrix_to_states(V, QN_B)\n",
    "\n",
    "excited_states = find_exact_states(excited_states_approx, H_B_diag, QN_B_diag, V_ref=V_ref_B)\n",
    "\n",
    "H_B_red = reduced_basis_hamiltonian(QN_B_diag, H_B_diag, excited_states)"
   ]
  },
  {
   "cell_type": "markdown",
   "metadata": {},
   "source": [
    "## Total Internal Hamiltonian"
   ]
  },
  {
   "cell_type": "code",
   "execution_count": 12,
   "metadata": {},
   "outputs": [],
   "source": [
    "H_X_red[np.abs(H_X_red) < 0.1] = 0\n",
    "H_B_red[np.abs(H_B_red) < 0.1] = 0\n",
    "\n",
    "H_int = scipy.linalg.block_diag(H_X_red, H_B_red)\n",
    "V_ref_int = np.eye(H_int.shape[0])\n",
    "\n",
    "#Define Hamiltonian in the rotating frame (transformation not applied yet)\n",
    "H_rot = H_int.copy()\n",
    "\n",
    "#Define QN for the total Hamiltonian that includes both X and B\n",
    "QN = ground_states + excited_states"
   ]
  },
  {
   "cell_type": "markdown",
   "metadata": {},
   "source": [
    "## Laser coupling\n",
    "### Calculating transition 1; Q(1), F$_1$'=1/2, F'=0"
   ]
  },
  {
   "cell_type": "code",
   "execution_count": 13,
   "metadata": {},
   "outputs": [],
   "source": [
    "#Define ground states for laser driven transition\n",
    "Js = [1]\n",
    "ground_states_laser_approx =  [1*CoupledBasisState(F,mF,F1,J,I_F,I_Tl, electronic_state='X', P = (-1)**J, Omega = 0)\n",
    "                                  for J  in Js\n",
    "                                  for F1 in ni_range(np.abs(J-I_F),J+I_F+1)\n",
    "                                  for F in ni_range(np.abs(F1-I_Tl),F1+I_Tl+1)\n",
    "                                  for mF in ni_range(-F, F+1)\n",
    "                                 ]\n",
    "\n",
    "#Define excited states for laser\n",
    "# excited_states_laser_approx = [1*CoupledBasisState(\n",
    "#                                 F=0,mF=0,F1=1/2,J=1,I1=1/2,I2=1/2,P = +1, Omega = 1, electronic_state='B'\n",
    "#                                 )\n",
    "#                             ]\n",
    "excited_states_laser_approx = excited_states_approx"
   ]
  },
  {
   "cell_type": "code",
   "execution_count": 14,
   "metadata": {},
   "outputs": [],
   "source": [
    "#Define the \"main\" states. These are used to calculate the detunings and Rabi rates for the transitions\n",
    "ground_main_approx = 1*CoupledBasisState(J=1,F1=1/2,F=1,mF=0,I1=1/2,I2=1/2,electronic_state='X', P = -1, Omega = 0)\n",
    "excited_main_approx = 1*CoupledBasisState(J=1,F1=1/2,F=0,mF=0,I1=1/2,I2=1/2, electronic_state='B', P = +1, Omega = 1)"
   ]
  },
  {
   "cell_type": "code",
   "execution_count": 15,
   "metadata": {},
   "outputs": [],
   "source": [
    "ground_states_laser_1 = find_exact_states(\n",
    "                                ground_states_laser_approx, H_rot, QN, V_ref = V_ref_int\n",
    "                                )\n",
    "excited_states_laser_1 = find_exact_states(\n",
    "                                excited_states_laser_approx, H_rot, QN, V_ref = V_ref_int\n",
    "                                )\n",
    "\n",
    "H_laser_z_1 = optical_coupling_matrix(\n",
    "                                    QN, \n",
    "                                    ground_states_laser_1, \n",
    "                                    excited_states_laser_1, \n",
    "                                    pol_vec = np.array([0,0,1]), \n",
    "                                    reduced = False\n",
    "                                    )\n",
    "H_laser_x_1 = optical_coupling_matrix(\n",
    "                                    QN, \n",
    "                                    ground_states_laser_1, \n",
    "                                    excited_states_laser_1, \n",
    "                                    pol_vec = np.array([1,0,0]), \n",
    "                                    reduced = False\n",
    "                                    )"
   ]
  },
  {
   "cell_type": "code",
   "execution_count": 16,
   "metadata": {},
   "outputs": [],
   "source": [
    "# set small values to zero\n",
    "H_laser_z_1[np.abs(H_laser_z_1) < 1e-3*np.max(np.abs(H_laser_z_1))] = 0\n",
    "H_laser_x_1[np.abs(H_laser_x_1) < 1e-3*np.max(np.abs(H_laser_x_1))] = 0\n",
    "H_laser_z_1[np.abs(H_laser_z_1) < 1e-6] = 0\n",
    "H_laser_x_1[np.abs(H_laser_x_1) < 1e-6] = 0"
   ]
  },
  {
   "cell_type": "code",
   "execution_count": 17,
   "metadata": {},
   "outputs": [
    {
     "name": "stdout",
     "output_type": "stream",
     "text": [
      "(-4.125283266376255e-07+0j)\n",
      "+1.0000+0.0000j x |X, J = 1, F1 = 1/2, F = 1, mF = 0, I1 = 1/2, I2 = 1/2, P = -1, Omega = 0>\n",
      "----------------------------------------------------------------------------------------------------\n",
      "+0.9961-0.0000j x |X, J = 1, F1 = 1/2, F = 1, mF = -1, I1 = 1/2, I2 = 1/2, P = -1, Omega = 0>\n",
      "====================================================================================================\n",
      "+1.0000+0.0000j x |B, J = 1, F1 = 1/2, F = 0, mF = 0, I1 = 1/2, I2 = 1/2, P = 1, Omega = 1>\n",
      "----------------------------------------------------------------------------------------------------\n",
      "+1.0000+0.0000j x |B, J = 1, F1 = 1/2, F = 0, mF = 0, I1 = 1/2, I2 = 1/2, P = 1, Omega = 1>\n"
     ]
    }
   ],
   "source": [
    "ground_main_1 = find_exact_states([ground_main_approx], H_rot, QN, V_ref = V_ref_int)[0]\n",
    "excited_main_1 = find_exact_states([excited_main_approx], H_rot, QN, V_ref = V_ref_int)[0]\n",
    "\n",
    "ME_main_1 = ED_ME_mixed_state(\n",
    "                        excited_main_1, ground_main_1, pol_vec = np.array([0,0,1])\n",
    "                        )\n",
    "\n",
    "ground_main_idx_1 = QN.index(ground_main_1)\n",
    "excited_main_idx_1 = QN.index(excited_main_1)\n",
    "\n",
    "print(ME_main_1)\n",
    "ground_main_approx.print_state()\n",
    "print('-'*100)\n",
    "ground_main_1.print_state()\n",
    "print('='*100)\n",
    "excited_main_approx.print_state()\n",
    "print('-'*100)\n",
    "excited_main_1.print_state()"
   ]
  },
  {
   "cell_type": "code",
   "execution_count": 18,
   "metadata": {},
   "outputs": [],
   "source": [
    "D1 = generate_laser_D(H_rot, QN, ground_main_1, excited_main_1, excited_states_laser_1, Δ = 0)"
   ]
  },
  {
   "cell_type": "markdown",
   "metadata": {},
   "source": [
    "## Total Hamiltonian"
   ]
  },
  {
   "cell_type": "code",
   "execution_count": 19,
   "metadata": {},
   "outputs": [],
   "source": [
    "H_rot = H_rot  - np.eye(H_rot.shape[0])*H_rot[ground_main_idx_1,ground_main_idx_1]\n",
    "H_rot = H_rot + D1"
   ]
  },
  {
   "cell_type": "code",
   "execution_count": 20,
   "metadata": {},
   "outputs": [
    {
     "data": {
      "text/plain": [
       "<matplotlib.image.AxesImage at 0x26d79420c70>"
      ]
     },
     "execution_count": 20,
     "metadata": {},
     "output_type": "execute_result"
    },
    {
     "data": {
      "image/png": "[encoded data removed]",
      "text/plain": [
       "<Figure size 432x288 with 1 Axes>"
      ]
     },
     "metadata": {
      "needs_background": "light"
     },
     "output_type": "display_data"
    }
   ],
   "source": [
    "plt.imshow(H_laser_z_1.real)"
   ]
  },
  {
   "cell_type": "code",
   "execution_count": 21,
   "metadata": {},
   "outputs": [
    {
     "data": {
      "text/plain": [
       "<matplotlib.image.AxesImage at 0x26d794fdeb0>"
      ]
     },
     "execution_count": 21,
     "metadata": {},
     "output_type": "execute_result"
    },
    {
     "data": {
      "image/png": "[encoded data removed]",
      "text/plain": [
       "<Figure size 432x288 with 1 Axes>"
      ]
     },
     "metadata": {
      "needs_background": "light"
     },
     "output_type": "display_data"
    }
   ],
   "source": [
    "plt.imshow(H_rot.real)"
   ]
  },
  {
   "cell_type": "code",
   "execution_count": 22,
   "metadata": {},
   "outputs": [
    {
     "data": {
      "text/plain": [
       "array([0.00000000e+00+0.j, 0.00000000e+00+0.j, 9.28906347e+10+0.j])"
      ]
     },
     "execution_count": 22,
     "metadata": {},
     "output_type": "execute_result"
    }
   ],
   "source": [
    "np.diag(D1)"
   ]
  },
  {
   "cell_type": "code",
   "execution_count": 23,
   "metadata": {},
   "outputs": [
    {
     "data": {
      "text/plain": [
       "array([     0.        , 175950.70316182,      0.        ])"
      ]
     },
     "execution_count": 23,
     "metadata": {},
     "output_type": "execute_result"
    }
   ],
   "source": [
    "np.diag(H_rot.real)/(2*np.pi)"
   ]
  },
  {
   "cell_type": "code",
   "execution_count": 24,
   "metadata": {},
   "outputs": [
    {
     "name": "stderr",
     "output_type": "stream",
     "text": [
      "100%|████████████████████████████████████████████████████████████████████████████████████| 1/1 [00:00<00:00, 83.55it/s]\n"
     ]
    }
   ],
   "source": [
    "Γ = 2*np.pi*1.6e6\n",
    "C_list = collapse_matrices(QN, ground_states, excited_states, gamma = Γ)\n",
    "C_array = np.array(C_list)\n",
    "C_conj_array = np.einsum('ijk->ikj', C_array.conj())"
   ]
  },
  {
   "cell_type": "code",
   "execution_count": 25,
   "metadata": {},
   "outputs": [],
   "source": [
    "t = Symbol(\"t\", real = True)\n",
    "Px1 = Function(\"Px1\")(t) # Polarization switching function for x\n",
    "Pz1 = Function(\"Pz1\")(t) # Polarization switching function for z\n",
    "\n",
    "laser_fields = [(H_laser_z_1*Pz1, ME_main_1), (H_laser_x_1*Px1, ME_main_1)]\n",
    "detunings = [[QN.index(excited_states[0])]]"
   ]
  },
  {
   "cell_type": "code",
   "execution_count": 26,
   "metadata": {},
   "outputs": [],
   "source": [
    "n_states = H_laser_z_1.shape[0]\n",
    "excited_state_indices = [QN.index(exc_state) for exc_state in excited_states]\n",
    "H_symbolic, Ωs = generate_symbolic_hamiltonian(n_states, laser_fields)\n",
    "Δ_symbolic, Δs = generate_symbolic_detunings(n_states, detunings)\n",
    "H_symbolic += Δ_symbolic + H_rot"
   ]
  },
  {
   "cell_type": "code",
   "execution_count": 27,
   "metadata": {},
   "outputs": [
    {
     "data": {
      "text/latex": [
       "$\\displaystyle \\left[\\begin{matrix}0 & 0 & 427734.424303337 Ω2 \\operatorname{Px_{1}}{\\left(t \\right)}\\\\0 & 1105530.87289429 & 248762.149579383 Ω2 \\operatorname{Px_{1}}{\\left(t \\right)}\\\\427734.424303337 Ω2ᶜ \\operatorname{Px_{1}}{\\left(t \\right)} & 248762.149579383 Ω2ᶜ \\operatorname{Px_{1}}{\\left(t \\right)} & Δ\\end{matrix}\\right]$"
      ],
      "text/plain": [
       "Matrix([\n",
       "[                          0,                           0, 427734.424303337*Ω2*Px1(t)],\n",
       "[                          0,            1105530.87289429, 248762.149579383*Ω2*Px1(t)],\n",
       "[427734.424303337*Ω2ᶜ*Px1(t), 248762.149579383*Ω2ᶜ*Px1(t),                          Δ]])"
      ]
     },
     "execution_count": 27,
     "metadata": {},
     "output_type": "execute_result"
    }
   ],
   "source": [
    "H_symbolic"
   ]
  },
  {
   "cell_type": "code",
   "execution_count": 28,
   "metadata": {},
   "outputs": [
    {
     "data": {
      "text/latex": [
       "$\\displaystyle \\left[\\begin{matrix}0 & 0 & 427734.424303337 Ω1 \\operatorname{Px_{1}}{\\left(t \\right)}\\\\0 & 1105530.87289429 & 248762.149579383 Ω1 \\operatorname{Px_{1}}{\\left(t \\right)}\\\\427734.424303337 Ω1ᶜ \\operatorname{Px_{1}}{\\left(t \\right)} & 248762.149579383 Ω1ᶜ \\operatorname{Px_{1}}{\\left(t \\right)} & Δ\\end{matrix}\\right]$"
      ],
      "text/plain": [
       "Matrix([\n",
       "[                          0,                           0, 427734.424303337*Ω1*Px1(t)],\n",
       "[                          0,            1105530.87289429, 248762.149579383*Ω1*Px1(t)],\n",
       "[427734.424303337*Ω1ᶜ*Px1(t), 248762.149579383*Ω1ᶜ*Px1(t),                          Δ]])"
      ]
     },
     "execution_count": 28,
     "metadata": {},
     "output_type": "execute_result"
    }
   ],
   "source": [
    "H_symbolic = H_symbolic.subs(Ωs[1][0],Ωs[0][0]).subs(Ωs[1][1],Ωs[0][1])\n",
    "H_symbolic"
   ]
  },
  {
   "cell_type": "code",
   "execution_count": 29,
   "metadata": {},
   "outputs": [],
   "source": [
    "# for i in range(0,6):\n",
    "#     H_symbolic[i,i] = 0"
   ]
  },
  {
   "cell_type": "code",
   "execution_count": 30,
   "metadata": {},
   "outputs": [
    {
     "name": "stderr",
     "output_type": "stream",
     "text": [
      "100%|███████████████████████████████████████████████████████████████████████████████████| 2/2 [00:00<00:00, 100.28it/s]\n"
     ]
    }
   ],
   "source": [
    "system = generate_system_of_equations(H_symbolic, C_array, progress = True)"
   ]
  },
  {
   "cell_type": "code",
   "execution_count": 31,
   "metadata": {},
   "outputs": [],
   "source": [
    "# convert matrix to system of equations code\n",
    "code_lines = system_of_equations_to_lines(system)"
   ]
  },
  {
   "cell_type": "markdown",
   "metadata": {},
   "source": [
    "# Solving ODE system with Julia\n",
    "Need to install Julia and add the following packages to Julia:  \n",
    "* [DifferentialEquations](https://diffeq.sciml.ai/stable/)\n",
    "* [Trapz](https://github.com/francescoalemanno/Trapz.jl)\n",
    "\n",
    "And install [PyJulia](https://pyjulia.readthedocs.io/en/latest/index.html) for python.  "
   ]
  },
  {
   "cell_type": "code",
   "execution_count": 32,
   "metadata": {},
   "outputs": [],
   "source": [
    "# import julia\n",
    "# julia.install()"
   ]
  },
  {
   "cell_type": "code",
   "execution_count": 33,
   "metadata": {},
   "outputs": [],
   "source": [
    "from julia import Main"
   ]
  },
  {
   "cell_type": "code",
   "execution_count": 34,
   "metadata": {},
   "outputs": [
    {
     "name": "stdout",
     "output_type": "stream",
     "text": [
      "[1 2 3 4 5 6]\n"
     ]
    }
   ],
   "source": [
    "Main.eval(\"\"\"\n",
    "using Distributed\n",
    "using BenchmarkTools\n",
    "\"\"\")\n",
    "\n",
    "procs = Main.eval(\"nprocs()\")\n",
    "if procs < 6:\n",
    "    Main.eval(f\"\"\"\n",
    "    addprocs({6-procs})\n",
    "    @everywhere begin\n",
    "        using LinearAlgebra\n",
    "        using Trapz\n",
    "        using DifferentialEquations\n",
    "        include(\"utils/general_ode_functions.jl\")\n",
    "    end\"\"\")\n",
    "if procs > 6:\n",
    "    procs = Main.eval(\"procs()\")\n",
    "    for proc in procs[procs > 6]:\n",
    "        Main.eval(f\"rmprocs({proc})\")\n",
    "print(Main.eval(\"procs()\"))"
   ]
  },
  {
   "cell_type": "code",
   "execution_count": 35,
   "metadata": {},
   "outputs": [],
   "source": [
    "# Px = Main.eval(\"[sine_wave(ti, νp1, 4.71238898038469) for ti = range(0,1/νp1,length=101)]\")\n",
    "# Pz = Main.eval(\"[sine_wave(ti, νp1, 1.5707963267948966) for ti = range(0,1/νp1,length=101)]\")\n",
    "# normalization = np.sqrt(Px**2+Pz**2)\n",
    "# plt.plot(np.array([Px,Pz]).T/normalization[:,np.newaxis])"
   ]
  },
  {
   "cell_type": "markdown",
   "metadata": {},
   "source": [
    "## Creating the Julia function to compute the RHS of the Lindblad Equation\n",
    "Note that only here the polarization switching function is added.  \n",
    "Anything added symbolically can be modified here."
   ]
  },
  {
   "cell_type": "code",
   "execution_count": 36,
   "metadata": {},
   "outputs": [],
   "source": [
    "ode_fun = \"\"\"function Lindblad_rhs!(du, ρ, p, t)\n",
    "\\t@inbounds begin\n",
    "\\t\\tΩ1 = p[1]\n",
    "\\t\\tνp1 = p[2]\n",
    "\\t\\tΔ = p[3]\n",
    "\\t\\tΩ1ᶜ = conj(Ω1)\n",
    "\\t\\tPx1 = sine_wave(t, νp1, 4.71238898038469)\n",
    "\\t\\tPz1 = sine_wave(t, νp1, 1.5707963267948966)\n",
    "\\t\\tnorm1 = sqrt(Px1^2+Pz1^2)\n",
    "\\t\\tPx1 /= norm1\n",
    "\\t\\tPz1 /= norm1\n",
    "\"\"\""
   ]
  },
  {
   "cell_type": "code",
   "execution_count": 37,
   "metadata": {},
   "outputs": [
    {
     "name": "stdout",
     "output_type": "stream",
     "text": [
      "function Lindblad_rhs!(du, ρ, p, t)\n",
      "\t@inbounds begin\n",
      "\t\tΩ1 = p[1]\n",
      "\t\tνp1 = p[2]\n",
      "\t\tΔ = p[3]\n",
      "\t\tΩ1ᶜ = conj(Ω1)\n",
      "\t\tPx1 = sine_wave(t, νp1, 4.71238898038469)\n",
      "\t\tPz1 = sine_wave(t, νp1, 1.5707963267948966)\n",
      "\t\tnorm1 = sqrt(Px1^2+Pz1^2)\n",
      "\t\tPx1 /= norm1\n",
      "\t\tPz1 /= norm1\n",
      "\n"
     ]
    }
   ],
   "source": [
    "print(ode_fun)"
   ]
  },
  {
   "cell_type": "code",
   "execution_count": 38,
   "metadata": {},
   "outputs": [],
   "source": [
    "for cline in code_lines:\n",
    "    ode_fun += \"\\t\\t\"+cline+'\\n'\n",
    "ode_fun += '\\t end \\n \\t nothing \\n end'"
   ]
  },
  {
   "cell_type": "code",
   "execution_count": 39,
   "metadata": {},
   "outputs": [],
   "source": [
    "with open('ode_amherst_cyling_F0.jl', 'w', encoding='utf8') as f:\n",
    "    f.write(ode_fun)"
   ]
  },
  {
   "cell_type": "code",
   "execution_count": 40,
   "metadata": {},
   "outputs": [],
   "source": [
    "# reading from file\n",
    "with open('ode_amherst_cyling_F0.jl', 'r', encoding='utf8') as f:\n",
    "    ode_fun = f.read()"
   ]
  },
  {
   "cell_type": "code",
   "execution_count": 41,
   "metadata": {},
   "outputs": [],
   "source": [
    "# making the function in Julia\n",
    "Main.eval(f\"@everywhere {ode_fun}\")"
   ]
  },
  {
   "cell_type": "code",
   "execution_count": 42,
   "metadata": {},
   "outputs": [],
   "source": [
    "ρ_ini = np.zeros([n_states, n_states], dtype = complex)\n",
    "np.fill_diagonal(ρ_ini[:n_states-1, :n_states-1], 1/(n_states-1))"
   ]
  },
  {
   "cell_type": "code",
   "execution_count": 43,
   "metadata": {},
   "outputs": [],
   "source": [
    "Γ = 2*np.pi * 1.56e6\n",
    "Ω1 = Γ\n",
    "ωp1 = 2*np.pi*2e6 # 2 MHz\n",
    "Δ1 = 0\n",
    "ωp1 = 0*np.pi*2e6\n",
    "\n",
    "νp1 = ωp1/(2*np.pi)\n",
    "\n",
    "Main.Γ = Γ\n",
    "Main.Ω1 = Ω1\n",
    "Main.νp1 = νp1\n",
    "Main.Δ1 = Δ1\n",
    "\n",
    "Main.ρ_ini = ρ_ini\n",
    "\n",
    "# setting up the parameters to send to the differential equation\n",
    "Main.eval(\"\"\"\n",
    "@everywhere begin\n",
    "    Γ = 2pi*1.56e6\n",
    "    Ω1 = Γ\n",
    "    Δ1 = 0\n",
    "    @eval @everywhere νp1 = $νp1\n",
    "    p = [Ω1, νp1, Δ1]\n",
    "end\n",
    "\"\"\")"
   ]
  },
  {
   "cell_type": "code",
   "execution_count": 44,
   "metadata": {},
   "outputs": [
    {
     "name": "stdout",
     "output_type": "stream",
     "text": [
      "Wall time: 3.61 s\n"
     ]
    },
    {
     "data": {
      "text/plain": [
       "0"
      ]
     },
     "execution_count": 44,
     "metadata": {},
     "output_type": "execute_result"
    }
   ],
   "source": [
    "%%time\n",
    "du = np.zeros(ρ_ini.shape, dtype = 'complex')\n",
    "Main.du = du\n",
    "Main.eval(\"\"\"\n",
    "@btime Lindblad_rhs!(du, ρ_ini, p, 0.)\n",
    "tmp = 0\n",
    "\"\"\")"
   ]
  },
  {
   "cell_type": "markdown",
   "metadata": {},
   "source": [
    "### Setting up the ODE problem to solve\n",
    "`tmp = 0` is just to prevent `Main.eval` from outputting the problem in the notebook.  \n",
    "The ODEProblem takes a function to solve (`Lindblad_rhs!` in this case), initial conditions `ρ_ini`, a timespan `tspan` an additional arguments for the ODE function, denoted here by `p` "
   ]
  },
  {
   "cell_type": "code",
   "execution_count": 45,
   "metadata": {},
   "outputs": [],
   "source": [
    "Main.eval(\"\"\"\n",
    "tspan = (0.0, 2*25.4/1e3 / 184)\n",
    "prob = ODEProblem(Lindblad_rhs!,ρ_ini,tspan,p)\n",
    "\"\"\");"
   ]
  },
  {
   "cell_type": "code",
   "execution_count": 46,
   "metadata": {},
   "outputs": [
    {
     "name": "stdout",
     "output_type": "stream",
     "text": [
      "Wall time: 5.32 s\n"
     ]
    },
    {
     "data": {
      "text/plain": [
       "0"
      ]
     },
     "execution_count": 46,
     "metadata": {},
     "output_type": "execute_result"
    }
   ],
   "source": [
    "%%time\n",
    "Main.eval(\"\"\"\n",
    "@time sol = solve(prob, Tsit5(), abstol = 1e-15, reltol = 1e-12, dt = 1e-12)\n",
    "tmp = 0\n",
    "\"\"\");"
   ]
  },
  {
   "cell_type": "code",
   "execution_count": 47,
   "metadata": {},
   "outputs": [],
   "source": [
    "ut = np.array(Main.eval(\"sol[:]\")).T\n",
    "pop_results = np.real(np.einsum('jji->ji',ut.reshape((ρ_ini.shape[0], ρ_ini.shape[1], ut.shape[2]))))\n",
    "t_array = Main.eval(\"sol.t\") * 1e6"
   ]
  },
  {
   "cell_type": "code",
   "execution_count": 48,
   "metadata": {},
   "outputs": [
    {
     "data": {
      "image/png": "[encoded data removed]",
      "text/plain": [
       "<Figure size 576x360 with 1 Axes>"
      ]
     },
     "metadata": {
      "needs_background": "light"
     },
     "output_type": "display_data"
    }
   ],
   "source": [
    "exc_F0 = pop_results[-1,:]\n",
    "\n",
    "fig, ax = plt.subplots(figsize = (8,5))\n",
    "ax.plot(t_array, exc_F0)\n",
    "\n",
    "ax.set_xlabel('time [μs]')\n",
    "\n",
    "set_fontsize(ax, 14)"
   ]
  },
  {
   "cell_type": "code",
   "execution_count": 49,
   "metadata": {},
   "outputs": [
    {
     "data": {
      "text/plain": [
       "0.0"
      ]
     },
     "execution_count": 49,
     "metadata": {},
     "output_type": "execute_result"
    }
   ],
   "source": [
    "np.trapz(exc_F0, t_array/1e6)*Γ"
   ]
  },
  {
   "cell_type": "code",
   "execution_count": 50,
   "metadata": {},
   "outputs": [
    {
     "data": {
      "image/png": "[encoded data removed]",
      "text/plain": [
       "<Figure size 864x540 with 1 Axes>"
      ]
     },
     "metadata": {
      "needs_background": "light"
     },
     "output_type": "display_data"
    }
   ],
   "source": [
    "fig, ax = plt.subplots(figsize = (12,7.5))\n",
    "ax.plot(t_array, np.sum(pop_results[:3,:], axis = 0), label = r'F$_1$ = 1/2, F=1')\n",
    "ax.plot(t_array, np.sum(pop_results[3:6,:], axis = 0), label = r'F$_1$ = 3/2, F=1')\n",
    "ax.plot(t_array, np.sum(pop_results[-1:], axis = 0), label = 'excited state')\n",
    "\n",
    "ax.set_xlabel('time [μs]')\n",
    "ax.legend(fontsize = 14)\n",
    "set_fontsize(ax, 14)"
   ]
  },
  {
   "cell_type": "code",
   "execution_count": 51,
   "metadata": {},
   "outputs": [
    {
     "name": "stdout",
     "output_type": "stream",
     "text": [
      "+0.9961-0.0000j x |X, J = 1, F1 = 1/2, F = 1, mF = -1, I1 = 1/2, I2 = 1/2, P = -1, Omega = 0>\n",
      "+0.9961-0.0000j x |X, J = 1, F1 = 3/2, F = 1, mF = -1, I1 = 1/2, I2 = 1/2, P = -1, Omega = 0>\n",
      "+1.0000+0.0000j x |B, J = 1, F1 = 1/2, F = 0, mF = 0, I1 = 1/2, I2 = 1/2, P = 1, Omega = 1>\n"
     ]
    }
   ],
   "source": [
    "for s in QN:\n",
    "    s.print_state()"
   ]
  },
  {
   "cell_type": "code",
   "execution_count": 52,
   "metadata": {},
   "outputs": [
    {
     "data": {
      "image/png": "[encoded data removed]",
      "text/plain": [
       "<Figure size 576x1440 with 12 Axes>"
      ]
     },
     "metadata": {
      "needs_background": "light"
     },
     "output_type": "display_data"
    }
   ],
   "source": [
    "fig, axes = plt.subplots(figsize = (8,20), nrows = 12, sharex = True)\n",
    "for idx, pop in enumerate(pop_results[:-1]):\n",
    "    axes[idx].plot(t_array, pop)\n",
    "\n",
    "axes[idx].set_xlabel('time [μs]')\n",
    "for ax in axes:\n",
    "    set_fontsize(ax, 14)"
   ]
  },
  {
   "cell_type": "markdown",
   "metadata": {},
   "source": [
    "### Parameter scan for polarization switching frequency"
   ]
  },
  {
   "cell_type": "code",
   "execution_count": 53,
   "metadata": {},
   "outputs": [],
   "source": [
    "Main.eval(\"\"\"\n",
    "@everywhere params = [val*Γ/(2pi) for val in 0:5/401:5]\"\"\")\n",
    "# Main.params = Main.νs"
   ]
  },
  {
   "cell_type": "code",
   "execution_count": 54,
   "metadata": {},
   "outputs": [],
   "source": [
    "# defining a progress bar to keep track of the ODE ensemble solver progress\n",
    "# Main.eval(\"using ProgressMeter\")\n",
    "# Main.eval('const pbar = Progress(50, 1, \"ODE Solving \", 50)')"
   ]
  },
  {
   "cell_type": "code",
   "execution_count": 55,
   "metadata": {},
   "outputs": [],
   "source": [
    "# function called every time on the when an ODE solve is ready\n",
    "# only save the integral of the excited state population of each trajectory\n",
    "Main.eval(f\"\"\"\n",
    "@everywhere function output_func(sol,i)\n",
    "    # next!(pbar)\n",
    "    return trapz(sol.t, [real(sum(diag(sol.u[j])[{n_states}])) for j in 1:size(sol.u)[1]]), false\n",
    "end\"\"\")"
   ]
  },
  {
   "cell_type": "code",
   "execution_count": 56,
   "metadata": {},
   "outputs": [
    {
     "data": {
      "text/plain": [
       "0"
      ]
     },
     "execution_count": 56,
     "metadata": {},
     "output_type": "execute_result"
    }
   ],
   "source": [
    "Main.eval(\"\"\"\n",
    "tspan = (0.0f0, 300e-6)\n",
    "prob = ODEProblem(Lindblad_rhs!,ρ_ini,tspan,p)\n",
    "tmp = 0\n",
    "\"\"\")"
   ]
  },
  {
   "cell_type": "code",
   "execution_count": 57,
   "metadata": {},
   "outputs": [],
   "source": [
    "# defining the function that changes the ODE parameters for each iteration\n",
    "Main.eval(\"\"\"\n",
    "@everywhere function prob_func(prob,i,repeat)\n",
    "    remake(prob,p=[Ω1; params[i]; Δ1])\n",
    "end\n",
    "\"\"\")"
   ]
  },
  {
   "cell_type": "code",
   "execution_count": 58,
   "metadata": {},
   "outputs": [
    {
     "data": {
      "text/plain": [
       "<PyCall.jlwrap EnsembleProblem with problem ODEProblem>"
      ]
     },
     "execution_count": 58,
     "metadata": {},
     "output_type": "execute_result"
    }
   ],
   "source": [
    "# setting up the EnsembleProblem with the earlier defined ODEProblem\n",
    "Main.eval(\"\"\"\n",
    "ens_prob = EnsembleProblem(prob, prob_func = prob_func, output_func = output_func);\n",
    "\"\"\")"
   ]
  },
  {
   "cell_type": "code",
   "execution_count": null,
   "metadata": {},
   "outputs": [],
   "source": [
    "# Main.eval(\"pbar.counter = 0\")\n",
    "# Main.eval(\"pbar.n = size(params)[1]\")\n",
    "Main.eval(\"\"\"\n",
    "@time sim = solve(ens_prob, Tsit5(), EnsembleDistributed(), save_start = true, save_end = true, \n",
    "            save_everystep = true; trajectories = size(params)[1], dt = 1e-9, adaptive=true,\n",
    "            abstol = 5e-7, reltol = 5e-4)\n",
    "sim.elapsedTime\n",
    "\"\"\")"
   ]
  },
  {
   "cell_type": "code",
   "execution_count": null,
   "metadata": {},
   "outputs": [],
   "source": [
    "results_νs = Main.eval(\"sim.u\")"
   ]
  },
  {
   "cell_type": "code",
   "execution_count": null,
   "metadata": {},
   "outputs": [],
   "source": [
    "νs = Main.params\n",
    "fig, ax = plt.subplots(figsize = (8,5))\n",
    "\n",
    "ax.plot(νs/1e6, results_νs*Γ, lw = 3)\n",
    "ax.set_xlabel('polarization switching frequency [MHz]')\n",
    "ax.set_ylabel('photons per molecule')\n",
    "\n",
    "set_fontsize(ax, 14)"
   ]
  },
  {
   "cell_type": "code",
   "execution_count": null,
   "metadata": {},
   "outputs": [],
   "source": [
    "νs[np.argmax(results_νs)]"
   ]
  },
  {
   "cell_type": "markdown",
   "metadata": {},
   "source": [
    "### Parameter scan for Ω"
   ]
  },
  {
   "cell_type": "code",
   "execution_count": null,
   "metadata": {},
   "outputs": [],
   "source": [
    "Main.eval(\"@everywhere params = [val*Γ for val in 0:3/101:3]\")"
   ]
  },
  {
   "cell_type": "code",
   "execution_count": null,
   "metadata": {},
   "outputs": [],
   "source": [
    "# function called every time on the when an ODE solve is ready\n",
    "# only save the integral of the excited state population of each trajectory\n",
    "Main.eval(f\"\"\"\n",
    "@everywhere function output_func(sol,i)\n",
    "    # next!(pbar)\n",
    "    return trapz(sol.t, [real(sum(diag(sol.u[j])[{n_states}])) for j in 1:size(sol.u)[1]]), false\n",
    "end\"\"\")"
   ]
  },
  {
   "cell_type": "code",
   "execution_count": null,
   "metadata": {},
   "outputs": [],
   "source": [
    "Main.eval(\"\"\"\n",
    "tspan = (0.0f0, 300e-6)\n",
    "prob = ODEProblem(Lindblad_rhs!,ρ_ini,tspan,p)\n",
    "tmp = 0\n",
    "\"\"\")"
   ]
  },
  {
   "cell_type": "code",
   "execution_count": null,
   "metadata": {},
   "outputs": [],
   "source": [
    "# defining the function that changes the ODE parameters for each iteration\n",
    "Main.eval(\"\"\"\n",
    "@everywhere function prob_func(prob,i,repeat)\n",
    "    remake(prob,p=[params[i]; 2769000.0; Δ1])\n",
    "end\n",
    "\"\"\")"
   ]
  },
  {
   "cell_type": "code",
   "execution_count": null,
   "metadata": {},
   "outputs": [],
   "source": [
    "# setting up the EnsembleProblem with the earlier defined ODEProblem\n",
    "Main.eval(\"\"\"\n",
    "ens_prob = EnsembleProblem(prob, prob_func = prob_func, output_func = output_func);\n",
    "\"\"\")"
   ]
  },
  {
   "cell_type": "code",
   "execution_count": null,
   "metadata": {},
   "outputs": [],
   "source": [
    "# Main.eval(\"pbar.counter = 0\")\n",
    "# Main.eval(\"pbar.n = size(params)[1]\")\n",
    "Main.eval(\"\"\"\n",
    "@time sim = solve(ens_prob, Tsit5(), EnsembleDistributed(), save_start = true, save_end = true, \n",
    "            save_everystep = true; trajectories = size(params)[1], dt = 1e-9, adaptive=true,\n",
    "            abstol = 5e-7, reltol = 5e-4)\n",
    "sim.elapsedTime\n",
    "\"\"\")"
   ]
  },
  {
   "cell_type": "code",
   "execution_count": null,
   "metadata": {},
   "outputs": [],
   "source": [
    "results_Ωs = Main.eval(\"sim.u\")"
   ]
  },
  {
   "cell_type": "code",
   "execution_count": null,
   "metadata": {},
   "outputs": [],
   "source": [
    "fig, ax = plt.subplots(figsize = (8,5))\n",
    "\n",
    "ax.plot(Main.params/Γ, results_Ωs*Γ, lw = 3)\n",
    "ax.set_xlabel('Ω [Γ]')\n",
    "ax.set_ylabel('photons per molecule')\n",
    "\n",
    "set_fontsize(ax, 14)"
   ]
  },
  {
   "cell_type": "markdown",
   "metadata": {},
   "source": [
    "### Parameter scan for Δ"
   ]
  },
  {
   "cell_type": "code",
   "execution_count": null,
   "metadata": {},
   "outputs": [],
   "source": [
    "ρ_ini = np.zeros([n_states, n_states], dtype = complex)\n",
    "# np.fill_diagonal(ρ_ini[:n_states-1, :n_states-1], 1/(n_states-1))\n",
    "ρ_ini[0,0] = 1"
   ]
  },
  {
   "cell_type": "code",
   "execution_count": null,
   "metadata": {},
   "outputs": [],
   "source": [
    "Main.ρ_ini = ρ_ini\n",
    "Main.eval(\"@eval @everywhere ρ_ini = $ρ_ini\")"
   ]
  },
  {
   "cell_type": "code",
   "execution_count": null,
   "metadata": {},
   "outputs": [],
   "source": [
    "Main.eval(\"@everywhere params = [val*2pi*1e6 for val in range(-5,5,length=401)]\")"
   ]
  },
  {
   "cell_type": "code",
   "execution_count": null,
   "metadata": {},
   "outputs": [],
   "source": [
    "Main.eval(\"\"\"\n",
    "tspan = (0.0, 300e-6)\n",
    "prob = ODEProblem(Lindblad_rhs!,ρ_ini,tspan,p);\n",
    "\"\"\");"
   ]
  },
  {
   "cell_type": "code",
   "execution_count": null,
   "metadata": {},
   "outputs": [],
   "source": [
    "# defining the function that changes the ODE parameters for each iteration\n",
    "Main.eval(\"\"\"\n",
    "@everywhere function prob_func(prob,i,repeat)\n",
    "    remake(prob,p=[0.2Γ; 0.0; params[i]])\n",
    "end\n",
    "\"\"\")"
   ]
  },
  {
   "cell_type": "code",
   "execution_count": null,
   "metadata": {},
   "outputs": [],
   "source": [
    "# setting up the EnsembleProblem with the earlier defined ODEProblem\n",
    "Main.eval(\"\"\"\n",
    "ens_prob = EnsembleProblem(prob, prob_func = prob_func, output_func = output_func);\n",
    "\"\"\");"
   ]
  },
  {
   "cell_type": "code",
   "execution_count": null,
   "metadata": {},
   "outputs": [],
   "source": [
    "# Main.eval(\"pbar.counter = 0\")\n",
    "# Main.eval(\"pbar.n = size(params)[1]\")\n",
    "Main.eval(\"\"\"\n",
    "@time sim = solve(ens_prob, Tsit5(), EnsembleDistributed(), save_start = true, save_end = true, \n",
    "            save_everystep = true; trajectories = size(params)[1], dt = 1e-8, adaptive=false,\n",
    "            abstol = 1e-9, reltol = 1e-6)\n",
    "sim.elapsedTime\n",
    "\"\"\")"
   ]
  },
  {
   "cell_type": "code",
   "execution_count": null,
   "metadata": {},
   "outputs": [],
   "source": [
    "results_Δs = Main.eval(\"sim.u\")"
   ]
  },
  {
   "cell_type": "code",
   "execution_count": null,
   "metadata": {},
   "outputs": [],
   "source": [
    "fig, ax = plt.subplots(figsize = (8,5))\n",
    "\n",
    "ax.plot(Main.params/(2*np.pi*1e6), results_Δs*Γ, lw = 3)\n",
    "ax.set_xlabel('Δ [MHz]')\n",
    "ax.set_ylabel('photons per molecule')\n",
    "ax.grid(True)\n",
    "set_fontsize(ax, 14)"
   ]
  },
  {
   "cell_type": "code",
   "execution_count": null,
   "metadata": {},
   "outputs": [],
   "source": [
    "Main.params[np.argmax(results_Δs)]/(2*np.pi*1e3)"
   ]
  },
  {
   "cell_type": "code",
   "execution_count": null,
   "metadata": {},
   "outputs": [],
   "source": []
  },
  {
   "cell_type": "code",
   "execution_count": null,
   "metadata": {},
   "outputs": [],
   "source": [
    "fig, ax = plt.subplots(figsize = (8,5))\n",
    "\n",
    "ax.plot(Main.params/(2*np.pi*1e6), results_Δs*Γ, lw = 3)\n",
    "ax.plot(Main.params/(2*np.pi*1e6), results_Δs_zero*Γ, lw = 3)\n",
    "ax.set_xlabel('Δ [MHz]')\n",
    "ax.set_ylabel('photons per molecule')\n",
    "ax.grid(True)\n",
    "set_fontsize(ax, 14)"
   ]
  },
  {
   "cell_type": "code",
   "execution_count": null,
   "metadata": {},
   "outputs": [],
   "source": [
    "results_Δs_zero = results_Δs.copy()"
   ]
  },
  {
   "cell_type": "code",
   "execution_count": null,
   "metadata": {},
   "outputs": [],
   "source": [
    "np.diff(np.diag(H_rot.real))/(2*np.pi*1e3)"
   ]
  },
  {
   "cell_type": "code",
   "execution_count": null,
   "metadata": {},
   "outputs": [],
   "source": [
    "H_laser_z_1[np.nonzero(H_laser_z_1)]"
   ]
  },
  {
   "cell_type": "code",
   "execution_count": null,
   "metadata": {},
   "outputs": [],
   "source": [
    "fig, ax = plt.subplots(figsize = (8,5))\n",
    "ax.imshow(H_laser_x_1.real)\n",
    "fig, ax = plt.subplots(figsize = (8,5))\n",
    "ax.imshow(H_laser_z_1.real)"
   ]
  },
  {
   "cell_type": "code",
   "execution_count": null,
   "metadata": {},
   "outputs": [],
   "source": [
    "for arr in C_array:\n",
    "    print(np.nonzero(arr))"
   ]
  },
  {
   "cell_type": "code",
   "execution_count": null,
   "metadata": {},
   "outputs": [],
   "source": [
    "np.diag(H_rot).real/(2*np.pi*1e6)"
   ]
  },
  {
   "cell_type": "code",
   "execution_count": null,
   "metadata": {},
   "outputs": [],
   "source": [
    "import numpy as np\n",
    "from sympy import Symbol, lambdify\n",
    "from optical_bloch.utils.general import flatten\n",
    "from optical_bloch import Hamiltonian, Dissipator, BlochEquations\n",
    "\n",
    "l1 = Symbol('A', real = True)\n",
    "l2 = Symbol('B', real = True)\n",
    "l3 = Symbol('E', real = True)\n",
    "\n",
    "ω2 = Symbol('ω_2', real = True)\n",
    "Ω2 = Symbol('Ω_2', real = True)\n",
    "ω3 = Symbol('ω_3', real = True)\n",
    "Ω3 = Symbol('Ω_3', real = True)\n",
    "Δ = Symbol('Δ', real = True)\n",
    "\n",
    "ham = Hamiltonian(3)\n",
    "ham.addEnergies([l1, l2, l3])\n",
    "ham.addCoupling(0,2,Ω2, ω2)\n",
    "ham.addCoupling(1,2,Ω3, ω3)\n",
    "ham.eqnTransform()\n",
    "ham.defineStateDetuning(1,2,Δ)\n",
    "ham.defineStateDetuning(0,2,Δ+(l2-l1))\n",
    "ham.defineZero(l3)"
   ]
  },
  {
   "cell_type": "code",
   "execution_count": null,
   "metadata": {},
   "outputs": [],
   "source": [
    "ham.transformed"
   ]
  },
  {
   "cell_type": "code",
   "execution_count": null,
   "metadata": {},
   "outputs": [],
   "source": [
    "ΓA = Symbol('Γ_A', real = True)\n",
    "ΓB = Symbol('Γ_B', real = True)\n",
    "dis = Dissipator(3)\n",
    "dis.addDecay(2,0,ΓA)\n",
    "dis.addDecay(2,1,ΓB)\n",
    "dis.dissipator"
   ]
  },
  {
   "cell_type": "code",
   "execution_count": null,
   "metadata": {},
   "outputs": [],
   "source": [
    "bloch = BlochEquations(ham.transformed.shape[0], dis.density_matrix, ham.transformed, dis.dissipator)"
   ]
  },
  {
   "cell_type": "code",
   "execution_count": null,
   "metadata": {},
   "outputs": [],
   "source": [
    "tmp = ham.transformed.subs(\n",
    "    [(l1,0),\n",
    "    (l2,-0.2),\n",
    "    (ΓA, 0.5),\n",
    "    (ΓB, 0.2)]\n",
    ")\n",
    "fn = lambdify((Δ, Ω2, Ω3), tmp)"
   ]
  },
  {
   "cell_type": "code",
   "execution_count": null,
   "metadata": {},
   "outputs": [],
   "source": [
    "Δ_scan = np.linspace(-1,1,201)\n",
    "\n",
    "fig, ax = plt.subplots(figsize = (8,5))\n",
    "for idx, Ωi in enumerate(np.linspace(0.1,2,3)):\n",
    "    y = []\n",
    "    for Δi in Δ_scan:\n",
    "        y.append(np.linalg.eig(fn(Δi, Ωi, Ωi*(0.5/0.3)))[0])\n",
    "    y = np.asarray(y)\n",
    "    ax.plot(Δ_scan, y, '.', color = f'C{idx}', ms = 3, label = f'Ω = {Ωi}')\n",
    "\n",
    "handles, labels = plt.gca().get_legend_handles_labels()\n",
    "by_label = dict(zip(labels, handles))\n",
    "ax.legend(by_label.values(), by_label.keys(), fontsize = 14)\n",
    "ax.set_xlabel('Δ')\n",
    "ax.set_ylabel('E')\n",
    "set_fontsize(ax, 14)"
   ]
  },
  {
   "cell_type": "code",
   "execution_count": null,
   "metadata": {},
   "outputs": [],
   "source": [
    "tmp = ham.transformed.copy()\n",
    "tmp = tmp.subs([(l1,0), (l2, -0.2), (Ω3, Ω2*0.5/0.3)])\n",
    "tmp"
   ]
  },
  {
   "cell_type": "code",
   "execution_count": null,
   "metadata": {},
   "outputs": [],
   "source": [
    "Δi = 0.2\n",
    "Ω_scan = np.linspace(1e-3,1,101)\n",
    "y = []\n",
    "for Ωi in Ω_scan:\n",
    "    y.append(np.linalg.eig(fn(Δi,Ωi, Ωi))[0])\n",
    "fig, ax = plt.subplots(figsize = (8,5))\n",
    "ax.plot(Ω_scan, y, lw = 3)\n",
    "\n",
    "ax.set_ylabel('E')\n",
    "ax.set_xlabel('Ω')\n",
    "ax.grid(True)\n",
    "set_fontsize(ax, 14)\n",
    "\n",
    "y = np.asarray(y)\n",
    "fig, ax = plt.subplots(figsize = (8,5))\n",
    "ax.plot(Ω_scan, y[:,0]-y[:,1], lw = 3)\n",
    "ax.set_ylabel('ΔE')\n",
    "ax.set_xlabel('Ω')\n",
    "ax.grid(True)\n",
    "set_fontsize(ax, 14)"
   ]
  },
  {
   "cell_type": "code",
   "execution_count": null,
   "metadata": {},
   "outputs": [],
   "source": [
    "Ω_scan = np.linspace(0.1,2,101)\n",
    "\n",
    "fig, ax = plt.subplots(figsize = (8,5))\n",
    "fig, ax1 = plt.subplots(figsize = (8,5))\n",
    "for idx, Δi in enumerate(np.linspace(-1,1,5)):\n",
    "    y = []\n",
    "    for Ωi in Ω_scan:\n",
    "        y.append(np.linalg.eig(fn(Δi,Ωi, Ωi))[0])\n",
    "    y = np.asarray(y)\n",
    "    ax.plot(Ω_scan, y, '.', ms = 3, color = f'C{idx}')\n",
    "    ax1.plot(Ω_scan, y[:,0]-y[:,1], lw = 3, color = f'C{idx}')\n",
    "    \n",
    "ax.set_ylabel('E')\n",
    "ax.set_xlabel('Ω')\n",
    "ax.grid(True)\n",
    "set_fontsize(ax, 14)\n",
    "\n",
    "ax1.set_ylabel('ΔE')\n",
    "ax1.set_xlabel('Ω')\n",
    "ax1.grid(True)\n",
    "set_fontsize(ax1, 14)"
   ]
  },
  {
   "cell_type": "code",
   "execution_count": null,
   "metadata": {},
   "outputs": [],
   "source": [
    "Ωi = 0.4\n",
    "replacements = [\n",
    "    (l1,0),\n",
    "    (l2,-0.2),\n",
    "    (Ω2,Ωi),\n",
    "    (Ω3,Ωi*(0.5/0.3)),\n",
    "    (ΓA, 1),\n",
    "    (ΓB, 1)\n",
    "]"
   ]
  },
  {
   "cell_type": "code",
   "execution_count": null,
   "metadata": {},
   "outputs": [],
   "source": [
    "nstates = ham.transformed.shape[0]\n",
    "ρ = np.zeros([nstates,nstates], dtype = 'complex')\n",
    "ρ[1,1] = 1\n",
    "# np.fill_diagonal(ρ[:nstates-1, :nstates-1], 1/(nstates-1))\n",
    "ρ = ρ.flatten()"
   ]
  },
  {
   "cell_type": "code",
   "execution_count": null,
   "metadata": {},
   "outputs": [],
   "source": [
    "r = copy.copy(replacements)\n",
    "r.append((Δ, -5))\n",
    "sol = bloch.solveNumeric(r, (0,1000), ρ, max_step = 2)\n",
    "    \n",
    "fig, ax = plt.subplots(figsize = (8,5))\n",
    "for i in range(nstates):\n",
    "    ax.plot(sol.t, sol.y[(nstates+1)*i].real)\n",
    "\n",
    "set_fontsize(ax, 14)"
   ]
  },
  {
   "cell_type": "code",
   "execution_count": null,
   "metadata": {},
   "outputs": [],
   "source": [
    "import copy\n",
    "from tqdm import tqdm\n",
    "\n",
    "results = []\n",
    "scan = np.linspace(-1,1,51)\n",
    "for Δi in tqdm(scan):\n",
    "    r = copy.copy(replacements)\n",
    "    r.append((Δ, Δi))\n",
    "    sol = bloch.solveNumeric(r, (0,1000), ρ, max_step = 2)\n",
    "    results.append(np.trapz(sol.y[-1,:], sol.t))"
   ]
  },
  {
   "cell_type": "code",
   "execution_count": null,
   "metadata": {},
   "outputs": [],
   "source": [
    "%%time\n",
    "\n",
    "r = copy.copy(replacements)\n",
    "r.append((Δ1, 0))\n",
    "sol = bloch.solveNumeric(r, (0,6), ρ)\n",
    "\n",
    "fig, ax = plt.subplots(figsize = (8,5))\n",
    "for i in range(nstates):\n",
    "    ax.plot(sol.t, sol.y[(nstates+1)*i].real)\n",
    "\n",
    "set_fontsize(ax, 14)"
   ]
  },
  {
   "cell_type": "code",
   "execution_count": null,
   "metadata": {},
   "outputs": [],
   "source": [
    "fig, ax = plt.subplots(figsize = (8,5))\n",
    "ax.plot(scan, np.array(results).real, lw = 3)\n",
    "\n",
    "ax.set_xlabel('Δ')\n",
    "ax.grid(True)\n",
    "set_fontsize(ax, 14)\n",
    "print(scan[np.argmax(results)])"
   ]
  },
  {
   "cell_type": "markdown",
   "metadata": {},
   "source": [
    "#### 2 Level System"
   ]
  },
  {
   "cell_type": "code",
   "execution_count": null,
   "metadata": {},
   "outputs": [],
   "source": [
    "l1 = Symbol('A', real = True)\n",
    "l2 = Symbol('B', real = True)\n",
    "\n",
    "ω = Symbol('ω', real = True)\n",
    "Ω = Symbol('Ω', real = True)\n",
    "Δ = Symbol('Δ', real = True)\n",
    "\n",
    "ham = Hamiltonian(2)\n",
    "ham.addEnergies([l1, l2])\n",
    "ham.addCoupling(0,1,Ω, ω)\n",
    "ham.eqnTransform()\n",
    "ham.defineZero(l2)\n",
    "ham.defineStateDetuning(0,1,Δ)"
   ]
  },
  {
   "cell_type": "code",
   "execution_count": null,
   "metadata": {},
   "outputs": [],
   "source": [
    "energies_fn = list(ham.transformed.eigenvals().keys())\n",
    "for _ in energies_fn:\n",
    "    display(_)\n",
    "    \n",
    "energies_fn = [lambdify((Ω,Δ), val) for val in energies_fn]"
   ]
  },
  {
   "cell_type": "code",
   "execution_count": null,
   "metadata": {},
   "outputs": [],
   "source": [
    "Ω_scan = np.linspace(0,2,5)\n",
    "Δ_scan = np.linspace(-1,1,101)\n",
    "\n",
    "fig, ax = plt.subplots(figsize = (8,5))\n",
    "\n",
    "for idx, Ωi in enumerate(Ω_scan):\n",
    "    y0 = energies_fn[0](Ωi, Δ_scan)\n",
    "    y1 = energies_fn[1](Ωi, Δ_scan)\n",
    "    ax.plot(Δ_scan, y0, lw = 2, color = f\"C{idx}\", label = f'Ω = {Ωi}')\n",
    "    ax.plot(Δ_scan, y1, lw = 2, color = f\"C{idx}\", label = f'Ω = {Ωi}')\n",
    "    \n",
    "ax.set_xlabel('Δ')\n",
    "ax.set_ylabel('E')\n",
    "set_fontsize(ax, 14)\n",
    "\n",
    "handles, labels = plt.gca().get_legend_handles_labels()\n",
    "by_label = dict(zip(labels, handles))\n",
    "ax.legend(by_label.values(), by_label.keys(), fontsize = 14)"
   ]
  },
  {
   "cell_type": "code",
   "execution_count": null,
   "metadata": {},
   "outputs": [],
   "source": [
    "Γ = Symbol('Γ', real = True)\n",
    "dis = Dissipator(2)\n",
    "dis.addDecay(1,0,Γ)\n",
    "dis.dissipator"
   ]
  },
  {
   "cell_type": "code",
   "execution_count": null,
   "metadata": {},
   "outputs": [],
   "source": [
    "bloch = BlochEquations(ham.transformed.shape[0], dis.density_matrix, ham.transformed, dis.dissipator)"
   ]
  },
  {
   "cell_type": "code",
   "execution_count": null,
   "metadata": {},
   "outputs": [],
   "source": [
    "nstates = ham.transformed.shape[0]\n",
    "ρ = np.zeros([nstates,nstates], dtype = 'complex')\n",
    "ρ[0,0] = 1\n",
    "# np.fill_diagonal(ρ[:nstates-1, :nstates-1], 1/(nstates-1))\n",
    "ρ = ρ.flatten()"
   ]
  },
  {
   "cell_type": "code",
   "execution_count": null,
   "metadata": {},
   "outputs": [],
   "source": [
    "Ωi = 0.5\n",
    "replacements = [\n",
    "    (Ω,Ωi),\n",
    "    (Γ, 1)\n",
    "]"
   ]
  },
  {
   "cell_type": "code",
   "execution_count": null,
   "metadata": {},
   "outputs": [],
   "source": [
    "results = []\n",
    "scan = np.linspace(-1,1,51)\n",
    "for Δi in tqdm(scan):\n",
    "    r = copy.copy(replacements)\n",
    "    r.append((Δ, Δi))\n",
    "    sol = bloch.solveNumeric(r, (0,1000), ρ, max_step = 2)\n",
    "    results.append(np.trapz(sol.y[-1,:], sol.t))"
   ]
  },
  {
   "cell_type": "code",
   "execution_count": null,
   "metadata": {},
   "outputs": [],
   "source": [
    "import copy\n",
    "results = []\n",
    "\n",
    "scan_Δ = np.linspace(-30,30,51)\n",
    "for Δ in tqdm(scan_Δ):\n",
    "    r = copy.copy(replacements)\n",
    "    r.append((Δ1, Δ))\n",
    "    sol = bloch.solveNumeric(r, (0,6), ρ)\n",
    "    results.append(np.trapz(sol.y[-1,:].real))"
   ]
  },
  {
   "cell_type": "code",
   "execution_count": null,
   "metadata": {},
   "outputs": [],
   "source": [
    "fig, ax = plt.subplots(figsize = (8,5))\n",
    "ax.plot(scan, np.array(results).real, lw = 3)\n",
    "\n",
    "ax.set_xlabel('Δ')\n",
    "ax.grid(True)\n",
    "set_fontsize(ax, 14)\n",
    "print(scan[np.argmax(results)])"
   ]
  },
  {
   "cell_type": "code",
   "execution_count": null,
   "metadata": {},
   "outputs": [],
   "source": [
    "(scan_Δ/(2*np.pi*1e6))[np.argmax(results)]"
   ]
  },
  {
   "cell_type": "code",
   "execution_count": null,
   "metadata": {},
   "outputs": [],
   "source": []
  }
 ],
 "metadata": {
  "kernelspec": {
   "display_name": "Python 3",
   "language": "python",
   "name": "python3"
  },
  "language_info": {
   "codemirror_mode": {
    "name": "ipython",
    "version": 3
   },
   "file_extension": ".py",
   "mimetype": "text/x-python",
   "name": "python",
   "nbconvert_exporter": "python",
   "pygments_lexer": "ipython3",
   "version": "3.8.5"
  }
 },
 "nbformat": 4,
 "nbformat_minor": 4
}
